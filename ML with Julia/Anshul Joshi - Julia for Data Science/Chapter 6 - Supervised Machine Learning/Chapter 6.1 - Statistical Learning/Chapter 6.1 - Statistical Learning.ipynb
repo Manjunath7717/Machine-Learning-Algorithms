{
 "cells": [
  {
   "cell_type": "markdown",
   "metadata": {},
   "source": [
    "# An Introduction to Statistical Learning with Julia"
   ]
  },
  {
   "cell_type": "markdown",
   "metadata": {},
   "source": [
    "# Introduction"
   ]
  },
  {
   "cell_type": "markdown",
   "metadata": {},
   "source": [
    "Statistical learning refers to a vast set of tools for understanding data. \n",
    "\n",
    "These tools can be classified as supervised or unsupervised.\n",
    "\n",
    "### 1. Supervised Learning\n",
    "\n",
    "Supervised statistical learning involves building a statistical model for pre- dicting, or estimating, an output based on one or more inputs. Problems of this nature occur in fields as diverse as business, medicine, astrophysics, and public policy.\n",
    "\n",
    "### 2. Unsupervised Learning\n",
    "\n",
    "Unsupervised statistical learning, there are inputs but no supervising output; nevertheless we can learn relationships and struc- ture from such data."
   ]
  },
  {
   "cell_type": "markdown",
   "metadata": {},
   "source": [
    "# Statistical Learning"
   ]
  },
  {
   "cell_type": "markdown",
   "metadata": {},
   "source": [
    "In order to motivate our study of statistical learning, we begin with a simple example. Suppose that we are statistical consultants hired by a client to provide advice on how to improve sales of a particular product. The Advertising data set consists of the sales of that product in 200 different markets, along with advertising budgets for the product in each of those markets for three different media: TV, radio, and newspaper."
   ]
  },
  {
   "cell_type": "markdown",
   "metadata": {},
   "source": [
    "In this setting, the advertising budgets are input variables while sales is an output variable. The input variables are typically denoted using the symbol X, with a subscript to distinguish them. So X1 might be the TV budget, X2 the radio budget, and X3 the newspaper budget. The inputs go by different names, such as predictors, independent variables, features, or sometimes just variables. The output variable—in this case, sales—is often called the response or dependent variable, and is typically denoted using the symbol Y . "
   ]
  },
  {
   "cell_type": "markdown",
   "metadata": {},
   "source": [
    "More generally, suppose that we observe a quantitative response Y and p different predictors, X1, X2, . . . , Xp. We assume that there is some relationship between Y and X = (X1,X2,...,Xp), which can be written in the very general form\n"
   ]
  },
  {
   "cell_type": "markdown",
   "metadata": {},
   "source": [
    "    Y = f(X)+e"
   ]
  },
  {
   "cell_type": "markdown",
   "metadata": {},
   "source": [
    "f is some fixed but unknown function of X1, X2, . . . , Xp\n",
    "\n",
    "e is a random error term"
   ]
  },
  {
   "cell_type": "markdown",
   "metadata": {},
   "source": [
    "## Why Estimate f?"
   ]
  },
  {
   "cell_type": "markdown",
   "metadata": {},
   "source": [
    "There are two main reasons that we may wish to estimate f: prediction and inference. We discuss each in turn."
   ]
  },
  {
   "cell_type": "markdown",
   "metadata": {},
   "source": [
    "### Prediction\n",
    "\n",
    "In many situations, a set of inputs X are readily available, but the output Y cannot be easily obtained. In this setting, since the error term averages to zero, we can predict Y using\n",
    "\n",
    "      \n",
    "$\\hat{Y}$ = $\\hat{f}$(X)"
   ]
  },
  {
   "cell_type": "markdown",
   "metadata": {},
   "source": [
    "where $\\hat{f}$ represents our estimate for f, and $\\hat{Y}$represents the resulting prediction for Y. In this setting, $\\hat{f}$ is often treated as a black box, in the sense\n",
    "that one is not typically concerned with the exact form of $\\hat{f}$, provided that\n",
    "it yields accurate predictions for Y ."
   ]
  },
  {
   "cell_type": "markdown",
   "metadata": {},
   "source": [
    "Consider a given estimate $\\hat{f}$ and a set of predictors X, which yields the\n",
    "prediction $\\hat{Y}$ = $\\hat{f}$(X). Assume for a moment that both $\\hat{f}$ and X are fixed.\n",
    "\n",
    "Then, it is easy to show that\n",
    "    \n",
    "    E(Y −Y)^2= E[f(X)+ε−f(X)]^2\n",
    "             = [f(X)−f(X)]2 + Var(ε)\n",
    "                Reducible      Irreducible"
   ]
  },
  {
   "cell_type": "markdown",
   "metadata": {},
   "source": [
    "where E(Y − $\\hat{Y}$ )^2 represents the average, or expected value, of the squared\n",
    "difference between the predicted and actual value of Y , and Var(ε) repre- sents the variance associated with the error term ε."
   ]
  },
  {
   "cell_type": "markdown",
   "metadata": {},
   "source": [
    "The focus of this book is on techniques for estimating f with the aim of minimizing the reducible error. It is important to keep in mind that the irreducible error will always provide an upper bound on the accuracy of our prediction for Y . This bound is almost always unknown in practice"
   ]
  },
  {
   "cell_type": "markdown",
   "metadata": {},
   "source": [
    "### Inference\n",
    "\n",
    "We are often interested in understanding the way that Y is affected as X1,...,Xp change. In this situation we wish to estimate f, but our goal is not necessarily to make predictions for Y. We instead want to understand the relationship between X and Y , or more specifically, to understand how Y changes as a function of X1, . . . , Xp.\n",
    "\n",
    "Now $\\hat{f}$  cannot be treated as a black box, because we need to know its exact form. In this setting, one may be interested in answering the following questions:"
   ]
  },
  {
   "cell_type": "markdown",
   "metadata": {},
   "source": [
    "1. Which predictors are associated with the response?\n",
    "2. What is the relationship between the response and each predictor?\n",
    "3. Can the relationship between Y and each predictor be adequately sum- marized using a linear equation, or is the relationship more compli- cated?"
   ]
  },
  {
   "cell_type": "markdown",
   "metadata": {},
   "source": [
    "## How Do We Estimate f?"
   ]
  },
  {
   "cell_type": "markdown",
   "metadata": {},
   "source": [
    "There are many linear and non-linear approaches for estimating f.\n",
    "    \n",
    "We will always assume that we have observed a set of n different\n",
    "data points. These observations are called the training data because we will use these\n",
    "observations to train, or teach, our method how to estimate f."
   ]
  },
  {
   "cell_type": "markdown",
   "metadata": {},
   "source": [
    "Let xij represent the value of the jth predictor, or input, for observation i, \n",
    "\n",
    "where\n",
    "i = 1,2,...,n and j = 1,2,...,p. \n",
    "\n",
    "Correspondingly, let yi represent the training data\n",
    "response variable for the ith observation. Then our training data consist of {(x1,y1),(x2,y2),...,(xn,yn)} where xi = (xi1,xi2,...,xip)^T"
   ]
  },
  {
   "cell_type": "markdown",
   "metadata": {},
   "source": [
    " Our goal is to apply a statistical learning method to the training data in order to estimate the unknown function f."
   ]
  },
  {
   "cell_type": "markdown",
   "metadata": {},
   "source": [
    "Most statistical learning methods for this task can be character- ized as either parametric or non-parametric. We now briefly discuss these two types of approaches."
   ]
  },
  {
   "cell_type": "markdown",
   "metadata": {},
   "source": [
    "### 1. Parameteric Approaches"
   ]
  },
  {
   "cell_type": "markdown",
   "metadata": {},
   "source": [
    "Parametric methods involve a two-step model-based approach.\n",
    "1. First, we make an assumption about the functional form, or shape, of f.\n",
    "\n",
    "One very simple assumption is that f is linear in X:\n",
    "    \n",
    "    f(X) = β0 +β1X1 +β2X2 +...+βpXp.\n",
    "\n",
    "This is a linear model\n",
    "\n",
    "2. After a model has been selected, we need a procedure that uses the training data to fit or train the model.\n",
    "\n",
    "In the case of the linear model, we need to estimate the parameters β0,β1,...,βp. That is, we want to find values of these parameters such that\n",
    "\n",
    "    Y ≈β0 +β1X1 +β2X2 +...+βpXp.\n",
    "    \n",
    "The most common approach to fitting the model is referred to as (ordinary) least squares,"
   ]
  },
  {
   "cell_type": "markdown",
   "metadata": {},
   "source": [
    "#### Disadvantages:\n",
    " \n",
    " It does not matches the true unknown form of f"
   ]
  },
  {
   "cell_type": "markdown",
   "metadata": {},
   "source": [
    "### 2. Non Parameteric\n",
    "\n",
    " Non-parametric methods do not make explicit assumptions about the func- tional form of f . Instead they seek an estimate of f that gets as close to the data points as possible without being too rough or wiggly."
   ]
  },
  {
   "cell_type": "markdown",
   "metadata": {},
   "source": [
    "#### Disadvatages:\n",
    "Since they do not reduce the problem of estimating f to a small number of parameters, a very large number of observations (far more than is typically needed for a parametric approach) is required in order to obtain an accurate estimate for f."
   ]
  },
  {
   "cell_type": "markdown",
   "metadata": {},
   "source": [
    "## The Trade-Off Between Prediction Accuracy and Model Interpretability\n"
   ]
  },
  {
   "cell_type": "markdown",
   "metadata": {},
   "source": [
    "Of the many methods that we examine in this book, some are less flexible, or more restrictive, in the sense that they can produce just a relatively small range of shapes to estimate f.\n",
    "\n",
    "<img src=\"flex.png\" alt=\"(Screenshot of wikipedia table of WA EVD cases)\">\n",
    "\n",
    "We have established that when inference is the goal, there are clear advantages to using simple and relatively inflexible statistical learning methods. In some settings, however, we are only interested in prediction, and the interpretability of the predictive model is simply not of interest. For instance, if we seek to develop an algorithm to predict the price of a stock, our sole requirement for the algorithm is that it predict accurately  interpretability is not a concern."
   ]
  },
  {
   "cell_type": "markdown",
   "metadata": {},
   "source": [
    "# Regression Versus Classification Problems\n",
    "\n",
    "\n",
    "Variables can be characterized as either quantitative or qualitative (also known as categorical). \n",
    "\n",
    "Quantitative variables take on numerical values.\n",
    "Examples include a person’s age, height, or income, the value of a house,\n",
    "and the price of a stock. \n",
    "\n",
    "In contrast, qualitative variables take on values in one of K different classes, or categories. \n",
    "Examples of qualitative\n",
    "variables include a person’s gender (male or female), the brand of prod-\n",
    "uct purchased (brand A, B, or C), whether a person defaults on a debt\n",
    "(yes or no), or a cancer diagnosis (Acute Myelogenous Leukemia, Acute\n",
    "Lymphoblastic Leukemia, or No Leukemia).\n",
    "\n",
    "We tend to refer to problems with a quantitative response as regression problems, while those involving a qualitative response are often referred to as classification problems.\n",
    "\n",
    "Supervised Machine learning algorithms can be broadly divided into two types of algorithms \n",
    "<img src=\"SL.png\" alt=\"(Screenshot of wikipedia table of WA EVD cases)\">\n",
    "\n",
    "# Regression: \n",
    "\n",
    "Used to determine the the mathematical relationship between two ot more variable and the level of the dependency between varaiable.\n",
    "\n",
    "It is a Supervised Learning task where output is having continuous value.\n",
    "\n",
    "Example in above Figure B, Output – Wind Speed is not having any discrete value but is continuous in the particular range. The goal here is to predict a value as much closer to actual output value as our model can and then evaluation is done by calculating error value. The smaller the error the greater the accuracy of our regression model.\n",
    "\n",
    "| Regression Model         | Pros                               | Cons          |\n",
    "| :---                    |    :----:                          |          ---: |\n",
    "| Linear Regression       | Work on any size of data set gives info about the features | Linear Regression assumption   |\n",
    "| Polynomial Regression   | Work on any size of data and also on nonlinear        | Need to choose the right polynomial degree       |\n",
    "| SVR     | Easily adaptable, Nonlinear and not biased by outliers       | Compulsory to apply the features scaling   |\n",
    "| Decision Tree Regression   | Interpretable, no need for feature scaling and work on nonlinear        | Poor Result on small dataset       |\n",
    "| Random Forest Regression   | Powerful, accurate and work on nonlinear        | Overfitting, need to choose tree not interpretable      |\n",
    "\n",
    "\n",
    "# Classification\n",
    "\n",
    "These algorithms are used to classify data into predefined classes or labels\n",
    "\n",
    "| Classification Model         | Pros                               | Cons          |\n",
    "| :---                    |    :----:                          |          ---: |\n",
    "| Logistic Regression       |Probablilistics and provide significance of features  | Logistics Regression assumption   |\n",
    "| KNN   | simple fast and efficient        | Need to choose K       |\n",
    "| SVM     | Proformant and not biased by outliers       | Not appropriate for non linear    |\n",
    "| Naive Bayes    | Efficent, Nonlinear and Probalilistics       | Based on the assumption that feature have stats  |\n",
    "| Decision Tree Classification   | Interpretable, no need for feature scaling and work on nonlinear        | Poor Result on small dataset       |\n",
    "| Random Forest Classification   | Powerful, accurate and work on nonlinear        | Overfitting, need to choose tree and not interpretable      |"
   ]
  },
  {
   "cell_type": "markdown",
   "metadata": {},
   "source": [
    "# Assessing Model Accuracy"
   ]
  },
  {
   "cell_type": "markdown",
   "metadata": {},
   "source": [
    "One of the key aims of this book is to introduce the reader to a wide range of statistical learning methods that extend far beyond the standard linear regression approach.\n",
    "\n",
    " Hence it is an important task to decide for any given set of data which method produces the best results. Selecting the best approach can be one of the most challenging parts of performing statistical learning in practice."
   ]
  },
  {
   "cell_type": "markdown",
   "metadata": {},
   "source": [
    "## Measuring the Quality of Fit\n",
    "\n",
    "In order to evaluate the performance of a statistical learning method on\n",
    "a given data set, we need some way to measure how well its predictions actually match the observed data. That is, we need to quantify the extent\n",
    "to which the predicted response value for a given observation is close to\n",
    "the true response value for that observation. In the regression setting, the\n",
    "most commonly-used measure is the mean squared error (MSE), given by\n",
    "        \n",
    " <img src=\"mse.png\" alt=\"(Screenshot of wikipedia table of WA EVD cases)\">      "
   ]
  },
  {
   "cell_type": "markdown",
   "metadata": {},
   "source": [
    "where  $\\hat{f}$(xi) is the prediction that  $\\hat{f}$ gives for the ith observation. \n",
    "\n",
    "The MSE will be small if the predicted responses are very close to the true responses, and will be large if for some of the observations, the predicted and true responses differ substantially."
   ]
  },
  {
   "cell_type": "markdown",
   "metadata": {},
   "source": [
    "We are interested in the accuracy of the predictions that we obtain when we apply our method to previously unseen\n",
    "test data. We want to choose the method that gives the lowest test MSE, as opposed to the lowest training MSE. In other words, if we had a large number of test observations, we could compute\n"
   ]
  },
  {
   "cell_type": "markdown",
   "metadata": {},
   "source": [
    " Ave(y0 −  $\\hat{f}$(x0))^2\n",
    "\n",
    " where (x0, y0) is a previously unseen test observation not used to train the statistical learning method"
   ]
  },
  {
   "cell_type": "markdown",
   "metadata": {},
   "source": [
    "This seems like it might be a sensible approach, since the training MSE and the test MSE appear to be closely related. Unfortunately, there is a fundamental problem with this strategy: there is no guarantee that the method with the lowest training MSE will also have the lowest test MSE. Roughly speaking, the problem is that many statistical methods specifically estimate coefficients so as to minimize the training set MSE. For these methods, the training set MSE can be quite small, but the test MSE is often much larger."
   ]
  },
  {
   "cell_type": "markdown",
   "metadata": {},
   "source": [
    "<img src=\"abc.png\" alt=\"(Screenshot of wikipedia table of WA EVD cases)\">      "
   ]
  },
  {
   "cell_type": "markdown",
   "metadata": {},
   "source": [
    "The orange, blue and green squares indicate the MSEs associated with the corresponding curves in the left- hand panel. A more restricted and hence smoother curve has fewer degrees of freedom than a wiggly curve—note that in Figure, linear regression is at the most restrictive end, with two degrees of freedom. The training MSE declines monotonically as flexibility increases. In this example the true f is non-linear, and so the orange linear fit is not flexible enough to estimate f well. The green curve has the lowest training MSE of all three methods, since it corresponds to the most flexible of the three curves fit in the left-hand panel."
   ]
  },
  {
   "cell_type": "markdown",
   "metadata": {},
   "source": [
    "As with the training MSE, the test MSE initially declines as the level of flexibility increases. However, at some point the test MSE levels off and then starts to increase again. Consequently, the orange and green curves both have high test MSE. The blue curve minimizes the test MSE, which should not be surprising given that visually it appears to estimate f the best in the left-hand panel of Figure. The horizontal dashed line indicates Var(ε), the irreducible error, which corresponds to the lowest achievable test MSE among all possible methods. Hence, the smoothing spline repre- sented by the blue curve is close to optimal."
   ]
  },
  {
   "cell_type": "markdown",
   "metadata": {},
   "source": [
    "As model flexibility increases, training MSE will decrease, but the test MSE may not. When a given method yields a small training MSE but a large test MSE, we are said to be overfitting the data. This happens because our statistical learning procedure is working too hard to find patterns in the training data, and may be picking up some patterns that are just caused by random chance rather than by true properties of the unknown function f"
   ]
  },
  {
   "cell_type": "markdown",
   "metadata": {},
   "source": [
    "When we overfit the training data, the test MSE will be very large because the supposed patterns that the method found in the training data simply don’t exist in the test data. Note that regardless of whether or not overfitting has occurred, we almost always expect the training MSE to be smaller than the test MSE because most statistical learning methods either directly or indirectly seek to minimize the training MSE. \n",
    "\n",
    "Overfitting refers specifically to the case in which a less flexible model would have yielded a smaller test MSE."
   ]
  },
  {
   "cell_type": "markdown",
   "metadata": {},
   "source": [
    "One can usually compute the training MSE with relative ease, but estimating test MSE is considerably more difficult because usually no test data are available. As the previous examples illustrate, the flexibility level corresponding to the model with the minimal test MSE can vary considerably among data sets. we discuss a variety of approaches that can be used in practice to estimate this minimum point. One important method is cross-validation, which is a method for estimating test MSE using the training data.\n"
   ]
  },
  {
   "cell_type": "markdown",
   "metadata": {},
   "source": [
    "# The Bias-Variance Trade-Off\n"
   ]
  },
  {
   "cell_type": "markdown",
   "metadata": {},
   "source": [
    "It is possible to show that the expected test MSE, for a given value x0, can always be decomposed into the sum of three fundamental quantities: the variance of $\\hat{f}$(x0), the squared bias of $\\hat{f}$(x0) and the variance of the error terms ε. That is,"
   ]
  },
  {
   "cell_type": "markdown",
   "metadata": {},
   "source": [
    "E (y0 − $\\hat{f}$(x0))^2 = Var($\\hat{f}$(x0)) + [Bias($\\hat{f}$(x0))]^2 + Var(ε).\n",
    "\n",
    "E(y0 − $\\hat{f}$(x0))^2 defines the expected test MSE"
   ]
  },
  {
   "cell_type": "markdown",
   "metadata": {},
   "source": [
    "The overall 􏰊expected test MSE can be computed by averaging E(y0 − $\\hat{f}$(x0))^2  over all\n",
    "possible values of x0 in the test set."
   ]
  },
  {
   "cell_type": "markdown",
   "metadata": {},
   "source": [
    "In order to minimize the expected test error, we need to select a statistical learning method that simultaneously achieves low variance and low bias. Note that variance is inherently a nonnegative quantity, and squared bias is also nonnegative. Hence, we see that the expected test MSE can never lie below Var(ε), the irreducible error from"
   ]
  },
  {
   "cell_type": "markdown",
   "metadata": {},
   "source": [
    "<img src=\"bias.png\" alt=\"(Screenshot of wikipedia table of WA EVD cases)\">      "
   ]
  },
  {
   "cell_type": "markdown",
   "metadata": {},
   "source": [
    "What do we mean by the variance and bias of a statistical learning method ?\n",
    "\n",
    "Variance refers to the amount by which $\\hat{f}$ would change if we estimated it using a different training data set. Since the training data are used to fit the statistical learning method, different training data sets will result in a different $\\hat{f}$. if a method has high variance then small changes in the training data can result in large changes in $\\hat{f}$. In general, more flexible statistical methods have higher variance.\n",
    "\n",
    "Bias refers to the error that is introduced by approxi- mating a real-life problem, which may be extremely complicated, by a much simpler model. Linear regression results in high bias. The true f is very close to linear, and so given enough data, it should be possible for linear regression to produce an accurate estimate. Generally, more flexible methods result in less bias."
   ]
  },
  {
   "cell_type": "markdown",
   "metadata": {},
   "source": [
    "As a general rule, as we use more flexible methods, the variance will increase and the bias will decrease. The relative rate of change of these two quantities determines whether the test MSE increases or decreases. As we increase the flexibility of a class of methods, the bias tends to initially decrease faster than the variance increases. Consequently, the expected test MSE declines. However, at some point increasing flexibility has little impact on the bias but starts to significantly increase the variance. When this happens the test MSE increases."
   ]
  },
  {
   "cell_type": "markdown",
   "metadata": {},
   "source": [
    "<img src=\"var.png\" alt=\"(Screenshot of wikipedia table of WA EVD cases)\">      "
   ]
  },
  {
   "cell_type": "markdown",
   "metadata": {},
   "source": [
    "Good test set performance of a statistical learning method re- quires low variance as well as low squared bias. The challenge lies in finding a method for which both the variance and the squared bias are low"
   ]
  },
  {
   "cell_type": "markdown",
   "metadata": {},
   "source": [
    "# 1.  Linear Regression"
   ]
  },
  {
   "cell_type": "markdown",
   "metadata": {},
   "source": [
    "Linear regression, a very simple approach for supervised learning. In particular, linear regression is a useful tool for predicting a quantitative response. Linear regression has been around for a long time and is the topic of innumerable textbooks. Though it may seem somewhat dull compared to some of the more modern statistical learning approaches described in later chapters of this book, linear regression is still a useful and widely used statistical learning method. "
   ]
  },
  {
   "cell_type": "markdown",
   "metadata": {},
   "source": [
    "### Example: Advertising Data\n",
    "\n",
    "Sales (in thousands of units) for a particular product as a function of advertis- ing budgets (in thousands of dollars) for TV, radio, and newspaper media"
   ]
  },
  {
   "cell_type": "markdown",
   "metadata": {},
   "source": [
    "What information would be useful in order to provide such a recommendation? Here are a few important questions that we might seek to address:\n",
    "\n",
    "1. Is there a relationship between advertising budget and sales?\n",
    "2. How strong is the relationship between advertising budget and sales?\n",
    "3. Which media contribute to sales?\n",
    "4. How accurately can we estimate the effect of each medium on sales?\n",
    "5. How accurately can we predict future sales?\n",
    "6. Is the relationship linear?\n",
    "7. Is there synergy among the advertising media?\n"
   ]
  },
  {
   "cell_type": "markdown",
   "metadata": {},
   "source": [
    "# Simple Linear Regression:\n",
    "\n",
    "Simple linear regression lives up to its name: it is a very straightforward approach for predicting a quantitative response Y on the basis of a sin- gle predictor variable X. It assumes that there is approximately a linear relationship between X and Y . Mathematically, we can write this linear relationship as"
   ]
  },
  {
   "cell_type": "markdown",
   "metadata": {},
   "source": [
    "    Y ≈ β0 + β1X."
   ]
  },
  {
   "cell_type": "markdown",
   "metadata": {},
   "source": [
    "####  For example, \n",
    "\n",
    "X may represent TV advertising and Y may represent sales. Then we can regress sales onto TV by fitting the model\n",
    "\n",
    "    sales≈β0 +β1 ×TV.\n",
    "β0 and β1 are two unknown constants that represent\n",
    "the intercept and slope terms in the linear model. Together, β0 and β1 are\n",
    "known as the model coefficients or parameters."
   ]
  },
  {
   "cell_type": "markdown",
   "metadata": {},
   "source": [
    "Once we have used our training data to produce estimates $\\hat{β0}$ and $\\hat{β1}$ for the model coefficients, we can predict future sales on the basis of a particular value of TV advertising by computing\n",
    "    \n",
    "$\\hat{y}$ = $\\hat{β0}$ + $\\hat{β1}$x\n",
    "    \n",
    "where $\\hat{y}$ indicates a prediction of Y on the basis of X = x. Here we use a hat symbol, ˆ , to denote the estimated value for an unknown parameter or coefficient, or to denote the predicted value of the response.\n"
   ]
  },
  {
   "cell_type": "markdown",
   "metadata": {},
   "source": [
    "## Estimating the Coefficients\n",
    "\n",
    "In practice, β0 and β1 are unknown. So before we can use (3.1) to make predictions, we must use data to estimate the coefficients. \n",
    "\n",
    "Let (x1,y1), (x2,y2),..., (xn,yn) represent n observation pairs, each of which consists of a measurement of X and a measurement of Y. However, by far the most common approach involves minimizing the least squares criterion"
   ]
  },
  {
   "cell_type": "markdown",
   "metadata": {},
   "source": [
    "Let $\\hat{y}$ = $\\hat{β0}$ + $\\hat{β1}$x be the prediction for Y based on the ith value of X.\n",
    "\n",
    "Then e = y −$\\hat{y}$ represents the ith residual this is the difference between the ith observed response value and the ith response value that is predicted by our linear model. We define the residual sum of squares (RSS) as"
   ]
  },
  {
   "cell_type": "markdown",
   "metadata": {},
   "source": [
    "<img src=\"rss.png\" alt=\"(Screenshot of wikipedia table of WA EVD cases)\">      "
   ]
  },
  {
   "cell_type": "markdown",
   "metadata": {},
   "source": [
    "The least squares approach chooses $\\hat{β0}$ and $\\hat{β1}$ to minimize the RSS. Using some calculus, one can show that the minimizers are"
   ]
  },
  {
   "cell_type": "markdown",
   "metadata": {},
   "source": [
    "<img src=\"un.png\" alt=\"(Screenshot of wikipedia table of WA EVD cases)\"> "
   ]
  },
  {
   "cell_type": "markdown",
   "metadata": {},
   "source": [
    "where y ̄  and x ̄  are the sample means. In other words above equation defines the least squares coefficient estimates for simple linear regression."
   ]
  },
  {
   "cell_type": "markdown",
   "metadata": {},
   "source": [
    "## Accessing the Accuracy of the model"
   ]
  },
  {
   "cell_type": "markdown",
   "metadata": {},
   "source": [
    "The quality of a linear regression fit is typically assessed using two related quantities: the residual standard error (RSE) and the R2 statistic.\n",
    "\n",
    "## 1. Residual Standard Error\n",
    "Due to the presence of these error terms, even if we knew the true regression line (i.e. even if β0 and β1 were known), we would not be able to perfectly predict Y from X. The RSE is an estimate of the standard deviation of ε. Roughly speaking, it is the average amount that the response will deviate from the true regression line. It is computed using the formula\n",
    "            \n",
    "<img src=\"rse.png\" alt=\"(Screenshot of wikipedia table of WA EVD cases)\"> "
   ]
  },
  {
   "cell_type": "markdown",
   "metadata": {},
   "source": [
    "The RSE is considered a measure of the lack of fit of the model (3.5) to\n",
    "the data."
   ]
  },
  {
   "cell_type": "markdown",
   "metadata": {},
   "source": [
    "## 2. $R^2$ Statistic\n",
    "\n",
    "The R2 statistic provides an alternative measure of fit. It takes the form of a proportion—the proportion of variance explained—and so it always takes on a value between 0 and 1, and is independent of the scale of Y.\n",
    "\n",
    "To calculate R2, we use the formula\n",
    "<img src=\"r.png\" alt=\"(Screenshot of wikipedia table of WA EVD cases)\"> "
   ]
  },
  {
   "cell_type": "markdown",
   "metadata": {},
   "source": [
    "where TSS = $\\sum􏰂(yi −  y ̄)^2$ is the total sum of squares"
   ]
  },
  {
   "cell_type": "markdown",
   "metadata": {},
   "source": [
    "$R^2$ measures the proportion of variability in Y that can be explained using X. An $R^2$ statistic that is close to 1 indicates that a large proportion of the variability in the response has been explained by the regression. A number near 0 indicates that the regression did not explain much of the variability in the response; this might occur because the linear model is wrong, or the inherent error $σ^2$ is high, or both."
   ]
  },
  {
   "cell_type": "markdown",
   "metadata": {},
   "source": [
    "The R2 statistic is a measure of the linear relationship between X and Y. The squared correlation $r^2$ and the $R^2$ statistic are identical"
   ]
  },
  {
   "cell_type": "markdown",
   "metadata": {},
   "source": [
    "## Simple Linear Regression Model"
   ]
  },
  {
   "cell_type": "markdown",
   "metadata": {},
   "source": [
    "## Importing Packages"
   ]
  },
  {
   "cell_type": "code",
   "execution_count": 1,
   "metadata": {},
   "outputs": [],
   "source": [
    "using ScikitLearn\n",
    "using PyCall\n",
    "using PyPlot, Printf\n",
    "using ScikitLearn.CrossValidation: train_test_split\n",
    "using Statistics, Random\n",
    "using DataFrames\n",
    "using CSV"
   ]
  },
  {
   "cell_type": "code",
   "execution_count": 2,
   "metadata": {},
   "outputs": [
    {
     "data": {
      "text/plain": [
       "PyObject <class 'sklearn.linear_model._base.LinearRegression'>"
      ]
     },
     "execution_count": 2,
     "metadata": {},
     "output_type": "execute_result"
    }
   ],
   "source": [
    "@sk_import linear_model: LinearRegression"
   ]
  },
  {
   "cell_type": "markdown",
   "metadata": {},
   "source": [
    "## Importing Dataset"
   ]
  },
  {
   "cell_type": "code",
   "execution_count": 3,
   "metadata": {},
   "outputs": [
    {
     "data": {
      "text/html": [
       "<table class=\"data-frame\"><thead><tr><th></th><th>YearsExperience</th><th>Salary</th></tr><tr><th></th><th>Float64</th><th>Float64</th></tr></thead><tbody><p>30 rows × 2 columns</p><tr><th>1</th><td>1.1</td><td>39343.0</td></tr><tr><th>2</th><td>1.3</td><td>46205.0</td></tr><tr><th>3</th><td>1.5</td><td>37731.0</td></tr><tr><th>4</th><td>2.0</td><td>43525.0</td></tr><tr><th>5</th><td>2.2</td><td>39891.0</td></tr><tr><th>6</th><td>2.9</td><td>56642.0</td></tr><tr><th>7</th><td>3.0</td><td>60150.0</td></tr><tr><th>8</th><td>3.2</td><td>54445.0</td></tr><tr><th>9</th><td>3.2</td><td>64445.0</td></tr><tr><th>10</th><td>3.7</td><td>57189.0</td></tr><tr><th>11</th><td>3.9</td><td>63218.0</td></tr><tr><th>12</th><td>4.0</td><td>55794.0</td></tr><tr><th>13</th><td>4.0</td><td>56957.0</td></tr><tr><th>14</th><td>4.1</td><td>57081.0</td></tr><tr><th>15</th><td>4.5</td><td>61111.0</td></tr><tr><th>16</th><td>4.9</td><td>67938.0</td></tr><tr><th>17</th><td>5.1</td><td>66029.0</td></tr><tr><th>18</th><td>5.3</td><td>83088.0</td></tr><tr><th>19</th><td>5.9</td><td>81363.0</td></tr><tr><th>20</th><td>6.0</td><td>93940.0</td></tr><tr><th>21</th><td>6.8</td><td>91738.0</td></tr><tr><th>22</th><td>7.1</td><td>98273.0</td></tr><tr><th>23</th><td>7.9</td><td>101302.0</td></tr><tr><th>24</th><td>8.2</td><td>113812.0</td></tr><tr><th>25</th><td>8.7</td><td>109431.0</td></tr><tr><th>26</th><td>9.0</td><td>105582.0</td></tr><tr><th>27</th><td>9.5</td><td>116969.0</td></tr><tr><th>28</th><td>9.6</td><td>112635.0</td></tr><tr><th>29</th><td>10.3</td><td>122391.0</td></tr><tr><th>30</th><td>10.5</td><td>121872.0</td></tr></tbody></table>"
      ],
      "text/latex": [
       "\\begin{tabular}{r|cc}\n",
       "\t& YearsExperience & Salary\\\\\n",
       "\t\\hline\n",
       "\t& Float64 & Float64\\\\\n",
       "\t\\hline\n",
       "\t1 & 1.1 & 39343.0 \\\\\n",
       "\t2 & 1.3 & 46205.0 \\\\\n",
       "\t3 & 1.5 & 37731.0 \\\\\n",
       "\t4 & 2.0 & 43525.0 \\\\\n",
       "\t5 & 2.2 & 39891.0 \\\\\n",
       "\t6 & 2.9 & 56642.0 \\\\\n",
       "\t7 & 3.0 & 60150.0 \\\\\n",
       "\t8 & 3.2 & 54445.0 \\\\\n",
       "\t9 & 3.2 & 64445.0 \\\\\n",
       "\t10 & 3.7 & 57189.0 \\\\\n",
       "\t11 & 3.9 & 63218.0 \\\\\n",
       "\t12 & 4.0 & 55794.0 \\\\\n",
       "\t13 & 4.0 & 56957.0 \\\\\n",
       "\t14 & 4.1 & 57081.0 \\\\\n",
       "\t15 & 4.5 & 61111.0 \\\\\n",
       "\t16 & 4.9 & 67938.0 \\\\\n",
       "\t17 & 5.1 & 66029.0 \\\\\n",
       "\t18 & 5.3 & 83088.0 \\\\\n",
       "\t19 & 5.9 & 81363.0 \\\\\n",
       "\t20 & 6.0 & 93940.0 \\\\\n",
       "\t21 & 6.8 & 91738.0 \\\\\n",
       "\t22 & 7.1 & 98273.0 \\\\\n",
       "\t23 & 7.9 & 101302.0 \\\\\n",
       "\t24 & 8.2 & 113812.0 \\\\\n",
       "\t25 & 8.7 & 109431.0 \\\\\n",
       "\t26 & 9.0 & 105582.0 \\\\\n",
       "\t27 & 9.5 & 116969.0 \\\\\n",
       "\t28 & 9.6 & 112635.0 \\\\\n",
       "\t29 & 10.3 & 122391.0 \\\\\n",
       "\t30 & 10.5 & 121872.0 \\\\\n",
       "\\end{tabular}\n"
      ],
      "text/plain": [
       "30×2 DataFrame\n",
       "│ Row │ YearsExperience │ Salary   │\n",
       "│     │ \u001b[90mFloat64\u001b[39m         │ \u001b[90mFloat64\u001b[39m  │\n",
       "├─────┼─────────────────┼──────────┤\n",
       "│ 1   │ 1.1             │ 39343.0  │\n",
       "│ 2   │ 1.3             │ 46205.0  │\n",
       "│ 3   │ 1.5             │ 37731.0  │\n",
       "│ 4   │ 2.0             │ 43525.0  │\n",
       "│ 5   │ 2.2             │ 39891.0  │\n",
       "│ 6   │ 2.9             │ 56642.0  │\n",
       "│ 7   │ 3.0             │ 60150.0  │\n",
       "│ 8   │ 3.2             │ 54445.0  │\n",
       "│ 9   │ 3.2             │ 64445.0  │\n",
       "│ 10  │ 3.7             │ 57189.0  │\n",
       "⋮\n",
       "│ 20  │ 6.0             │ 93940.0  │\n",
       "│ 21  │ 6.8             │ 91738.0  │\n",
       "│ 22  │ 7.1             │ 98273.0  │\n",
       "│ 23  │ 7.9             │ 101302.0 │\n",
       "│ 24  │ 8.2             │ 113812.0 │\n",
       "│ 25  │ 8.7             │ 109431.0 │\n",
       "│ 26  │ 9.0             │ 105582.0 │\n",
       "│ 27  │ 9.5             │ 116969.0 │\n",
       "│ 28  │ 9.6             │ 112635.0 │\n",
       "│ 29  │ 10.3            │ 122391.0 │\n",
       "│ 30  │ 10.5            │ 121872.0 │"
      ]
     },
     "execution_count": 3,
     "metadata": {},
     "output_type": "execute_result"
    }
   ],
   "source": [
    "df=DataFrame!(CSV.File(\"Salary_Data.csv\"))"
   ]
  },
  {
   "cell_type": "markdown",
   "metadata": {},
   "source": [
    " ## Data Exploration"
   ]
  },
  {
   "cell_type": "code",
   "execution_count": 4,
   "metadata": {},
   "outputs": [],
   "source": [
    "using Plots"
   ]
  },
  {
   "cell_type": "code",
   "execution_count": 5,
   "metadata": {},
   "outputs": [
    {
     "name": "stderr",
     "output_type": "stream",
     "text": [
      "┌ Warning: seriestype boxplot has been moved to StatsPlots.  To use: `Pkg.add(\"StatsPlots\"); using StatsPlots`\n",
      "└ @ Plots /Users/manjunathvhatkar/.julia/packages/Plots/cc8wh/src/args.jl:1093\n",
      "┌ Warning: seriestype boxplot has been moved to StatsPlots.  To use: `Pkg.add(\"StatsPlots\"); using StatsPlots`\n",
      "└ @ Plots /Users/manjunathvhatkar/.julia/packages/Plots/cc8wh/src/args.jl:1093\n"
     ]
    },
    {
     "ename": "ErrorException",
     "evalue": "The backend must not support the series type Val{:boxplot}, and there isn't a series recipe defined.",
     "output_type": "error",
     "traceback": [
      "The backend must not support the series type Val{:boxplot}, and there isn't a series recipe defined.",
      "",
      "Stacktrace:",
      " [1] error(::String) at ./error.jl:33",
      " [2] macro expansion at /Users/manjunathvhatkar/.julia/packages/Plots/cc8wh/src/series.jl:171 [inlined]",
      " [3] apply_recipe(::Plots.Attr, ::Type{Val{:boxplot}}, ::Base.OneTo{Int64}, ::Array{Float64,1}, ::Nothing) at /Users/manjunathvhatkar/.julia/packages/RecipesBase/G4s6f/src/RecipesBase.jl:279",
      " [4] _process_seriesrecipe(::Plots.Plot{Plots.GRBackend}, ::Plots.Attr) at /Users/manjunathvhatkar/.julia/packages/Plots/cc8wh/src/pipeline.jl:411",
      " [5] _plot!(::Plots.Plot{Plots.GRBackend}, ::Dict{Symbol,Any}, ::Tuple{CSV.Column{Float64,Float64}}) at /Users/manjunathvhatkar/.julia/packages/Plots/cc8wh/src/plot.jl:233",
      " [6] plot(::CSV.Column{Float64,Float64}; kw::Base.Iterators.Pairs{Symbol,Any,NTuple{4,Symbol},NamedTuple{(:title, :ylabel, :legend, :seriestype),Tuple{String,String,Bool,Symbol}}}) at /Users/manjunathvhatkar/.julia/packages/Plots/cc8wh/src/plot.jl:57",
      " [7] #boxplot#449 at /Users/manjunathvhatkar/.julia/packages/RecipesBase/G4s6f/src/RecipesBase.jl:393 [inlined]",
      " [8] top-level scope at In[5]:1"
     ]
    }
   ],
   "source": [
    "# Box Plot\n",
    "Plots.boxplot(df.Salary, title = \"Box Plot - Salary\", ylabel = \"Salary\", legend = false)\n"
   ]
  },
  {
   "cell_type": "code",
   "execution_count": 79,
   "metadata": {},
   "outputs": [
    {
     "ename": "ErrorException",
     "evalue": "type NamedTuple has no field Salary",
     "output_type": "error",
     "traceback": [
      "type NamedTuple has no field Salary",
      "",
      "Stacktrace:",
      " [1] getproperty(::NamedTuple{(:y, :x),Tuple{Array{Float64,1},Array{Int64,1}}}, ::Symbol) at ./Base.jl:33",
      " [2] top-level scope at In[79]:1"
     ]
    }
   ],
   "source": [
    "# Density Plot\n",
    "density(df.Salary , title = \"Density Plot - Salary\", ylabel = \"Frequency\", xlabel = \"Salary\", legend = false)"
   ]
  },
  {
   "cell_type": "code",
   "execution_count": 80,
   "metadata": {},
   "outputs": [
    {
     "ename": "ErrorException",
     "evalue": "type NamedTuple has no field Salary",
     "output_type": "error",
     "traceback": [
      "type NamedTuple has no field Salary",
      "",
      "Stacktrace:",
      " [1] getproperty(::NamedTuple{(:y, :x),Tuple{Array{Float64,1},Array{Int64,1}}}, ::Symbol) at ./Base.jl:33",
      " [2] top-level scope at In[80]:1"
     ]
    }
   ],
   "source": [
    "Plots.histogram(df.Salary, title = \"Box Plot - Salary\", ylabel = \"Salary\", legend = false)"
   ]
  },
  {
   "cell_type": "code",
   "execution_count": 81,
   "metadata": {},
   "outputs": [],
   "source": [
    "## Correlation Analysis using Scatter Plot"
   ]
  },
  {
   "cell_type": "code",
   "execution_count": 82,
   "metadata": {},
   "outputs": [
    {
     "ename": "ErrorException",
     "evalue": "type NamedTuple has no field YearsExperience",
     "output_type": "error",
     "traceback": [
      "type NamedTuple has no field YearsExperience",
      "",
      "Stacktrace:",
      " [1] getproperty(::NamedTuple{(:y, :x),Tuple{Array{Float64,1},Array{Int64,1}}}, ::Symbol) at ./Base.jl:33",
      " [2] top-level scope at In[82]:1"
     ]
    }
   ],
   "source": [
    "# Correlation Analysis\n",
    "println(\"Correlation of Salary with YearsExperience Rate is \", cor(df.YearsExperience,df.Salary), \"\\n\\n\")"
   ]
  },
  {
   "cell_type": "code",
   "execution_count": 83,
   "metadata": {},
   "outputs": [
    {
     "ename": "ErrorException",
     "evalue": "type NamedTuple has no field YearsExperience",
     "output_type": "error",
     "traceback": [
      "type NamedTuple has no field YearsExperience",
      "",
      "Stacktrace:",
      " [1] getproperty(::NamedTuple{(:y, :x),Tuple{Array{Float64,1},Array{Int64,1}}}, ::Symbol) at ./Base.jl:33",
      " [2] top-level scope at In[83]:1"
     ]
    }
   ],
   "source": [
    "# Scatter plot\n",
    "train_plot = Plots.scatter(df.YearsExperience,df.Salary, title = \"Scatter Plot Salary vs YearsExperience Rate\", ylabel = \"Salary\", xlabel = \"YearsExperience\",legend = false)"
   ]
  },
  {
   "cell_type": "markdown",
   "metadata": {},
   "source": [
    "## Data Split"
   ]
  },
  {
   "cell_type": "code",
   "execution_count": 84,
   "metadata": {},
   "outputs": [
    {
     "ename": "MethodError",
     "evalue": "MethodError: no method matching getindex(::NamedTuple{(:y, :x),Tuple{Array{Float64,1},Array{Int64,1}}}, ::Array{Symbol,1})\nClosest candidates are:\n  getindex(::NamedTuple, !Matched::Int64) at namedtuple.jl:94\n  getindex(::NamedTuple, !Matched::Symbol) at namedtuple.jl:95",
     "output_type": "error",
     "traceback": [
      "MethodError: no method matching getindex(::NamedTuple{(:y, :x),Tuple{Array{Float64,1},Array{Int64,1}}}, ::Array{Symbol,1})\nClosest candidates are:\n  getindex(::NamedTuple, !Matched::Int64) at namedtuple.jl:94\n  getindex(::NamedTuple, !Matched::Symbol) at namedtuple.jl:95",
      "",
      "Stacktrace:",
      " [1] top-level scope at In[84]:1"
     ]
    }
   ],
   "source": [
    "X = convert(Array, df[[:YearsExperience]])\n",
    "y = convert(Array, df[:Salary])"
   ]
  },
  {
   "cell_type": "code",
   "execution_count": 85,
   "metadata": {},
   "outputs": [
    {
     "ename": "PyCall.PyError",
     "evalue": "PyError ($(Expr(:escape, :(ccall(#= /Users/manjunathvhatkar/.julia/packages/PyCall/zqDXB/src/pyfncall.jl:43 =# @pysym(:PyObject_Call), PyPtr, (PyPtr, PyPtr, PyPtr), o, pyargsptr, kw))))) <class 'ValueError'>\nValueError('Found input variables with inconsistent numbers of samples: [30, 506]')\n  File \"/Users/manjunathvhatkar/.julia/conda/3/lib/python3.7/site-packages/sklearn/model_selection/_split.py\", line 2127, in train_test_split\n    arrays = indexable(*arrays)\n  File \"/Users/manjunathvhatkar/.julia/conda/3/lib/python3.7/site-packages/sklearn/utils/validation.py\", line 293, in indexable\n    check_consistent_length(*result)\n  File \"/Users/manjunathvhatkar/.julia/conda/3/lib/python3.7/site-packages/sklearn/utils/validation.py\", line 257, in check_consistent_length\n    \" samples: %r\" % [int(l) for l in lengths])\n",
     "output_type": "error",
     "traceback": [
      "PyError ($(Expr(:escape, :(ccall(#= /Users/manjunathvhatkar/.julia/packages/PyCall/zqDXB/src/pyfncall.jl:43 =# @pysym(:PyObject_Call), PyPtr, (PyPtr, PyPtr, PyPtr), o, pyargsptr, kw))))) <class 'ValueError'>\nValueError('Found input variables with inconsistent numbers of samples: [30, 506]')\n  File \"/Users/manjunathvhatkar/.julia/conda/3/lib/python3.7/site-packages/sklearn/model_selection/_split.py\", line 2127, in train_test_split\n    arrays = indexable(*arrays)\n  File \"/Users/manjunathvhatkar/.julia/conda/3/lib/python3.7/site-packages/sklearn/utils/validation.py\", line 293, in indexable\n    check_consistent_length(*result)\n  File \"/Users/manjunathvhatkar/.julia/conda/3/lib/python3.7/site-packages/sklearn/utils/validation.py\", line 257, in check_consistent_length\n    \" samples: %r\" % [int(l) for l in lengths])\n",
      "",
      "Stacktrace:",
      " [1] pyerr_check at /Users/manjunathvhatkar/.julia/packages/PyCall/zqDXB/src/exception.jl:60 [inlined]",
      " [2] pyerr_check at /Users/manjunathvhatkar/.julia/packages/PyCall/zqDXB/src/exception.jl:64 [inlined]",
      " [3] _handle_error(::String) at /Users/manjunathvhatkar/.julia/packages/PyCall/zqDXB/src/exception.jl:81",
      " [4] macro expansion at /Users/manjunathvhatkar/.julia/packages/PyCall/zqDXB/src/exception.jl:95 [inlined]",
      " [5] #110 at /Users/manjunathvhatkar/.julia/packages/PyCall/zqDXB/src/pyfncall.jl:43 [inlined]",
      " [6] disable_sigint at ./c.jl:446 [inlined]",
      " [7] __pycall! at /Users/manjunathvhatkar/.julia/packages/PyCall/zqDXB/src/pyfncall.jl:42 [inlined]",
      " [8] _pycall!(::PyObject, ::PyObject, ::Tuple{Array{Float64,1},Array{Float64,1}}, ::Int64, ::PyObject) at /Users/manjunathvhatkar/.julia/packages/PyCall/zqDXB/src/pyfncall.jl:29",
      " [9] _pycall!(::PyObject, ::PyObject, ::Tuple{Array{Float64,1},Array{Float64,1}}, ::Base.Iterators.Pairs{Symbol,Real,Tuple{Symbol,Symbol},NamedTuple{(:test_size, :random_state),Tuple{Float64,Int64}}}) at /Users/manjunathvhatkar/.julia/packages/PyCall/zqDXB/src/pyfncall.jl:11",
      " [10] #_#117 at /Users/manjunathvhatkar/.julia/packages/PyCall/zqDXB/src/pyfncall.jl:86 [inlined]",
      " [11] train_test_split(::Array{Float64,1}, ::Vararg{Array{Float64,1},N} where N; kwargs::Base.Iterators.Pairs{Symbol,Real,Tuple{Symbol,Symbol},NamedTuple{(:test_size, :random_state),Tuple{Float64,Int64}}}) at /Users/manjunathvhatkar/.julia/packages/ScikitLearn/Kn82b/src/cross_validation.jl:667",
      " [12] top-level scope at In[85]:1"
     ]
    }
   ],
   "source": [
    "X_train, X_test, y_train, y_test = train_test_split(X, y, test_size = 0.3, random_state = 0)"
   ]
  },
  {
   "cell_type": "code",
   "execution_count": 86,
   "metadata": {},
   "outputs": [
    {
     "data": {
      "text/plain": [
       "PyObject LinearRegression()"
      ]
     },
     "execution_count": 86,
     "metadata": {},
     "output_type": "execute_result"
    }
   ],
   "source": [
    "model = LinearRegression(fit_intercept=true)"
   ]
  },
  {
   "cell_type": "code",
   "execution_count": 87,
   "metadata": {},
   "outputs": [
    {
     "ename": "PyCall.PyError",
     "evalue": "PyError ($(Expr(:escape, :(ccall(#= /Users/manjunathvhatkar/.julia/packages/PyCall/zqDXB/src/pyfncall.jl:43 =# @pysym(:PyObject_Call), PyPtr, (PyPtr, PyPtr, PyPtr), o, pyargsptr, kw))))) <class 'ValueError'>\nValueError(\"could not convert string to float: 'versicolor'\")\n  File \"/Users/manjunathvhatkar/.julia/conda/3/lib/python3.7/site-packages/sklearn/linear_model/_base.py\", line 515, in fit\n    return_mean=True)\n  File \"/Users/manjunathvhatkar/.julia/conda/3/lib/python3.7/site-packages/sklearn/linear_model/_base.py\", line 136, in _preprocess_data\n    y = np.asarray(y, dtype=X.dtype)\n  File \"/Users/manjunathvhatkar/.julia/conda/3/lib/python3.7/site-packages/numpy/core/_asarray.py\", line 83, in asarray\n    return array(a, dtype, copy=False, order=order)\n",
     "output_type": "error",
     "traceback": [
      "PyError ($(Expr(:escape, :(ccall(#= /Users/manjunathvhatkar/.julia/packages/PyCall/zqDXB/src/pyfncall.jl:43 =# @pysym(:PyObject_Call), PyPtr, (PyPtr, PyPtr, PyPtr), o, pyargsptr, kw))))) <class 'ValueError'>\nValueError(\"could not convert string to float: 'versicolor'\")\n  File \"/Users/manjunathvhatkar/.julia/conda/3/lib/python3.7/site-packages/sklearn/linear_model/_base.py\", line 515, in fit\n    return_mean=True)\n  File \"/Users/manjunathvhatkar/.julia/conda/3/lib/python3.7/site-packages/sklearn/linear_model/_base.py\", line 136, in _preprocess_data\n    y = np.asarray(y, dtype=X.dtype)\n  File \"/Users/manjunathvhatkar/.julia/conda/3/lib/python3.7/site-packages/numpy/core/_asarray.py\", line 83, in asarray\n    return array(a, dtype, copy=False, order=order)\n",
      "",
      "Stacktrace:",
      " [1] pyerr_check at /Users/manjunathvhatkar/.julia/packages/PyCall/zqDXB/src/exception.jl:60 [inlined]",
      " [2] pyerr_check at /Users/manjunathvhatkar/.julia/packages/PyCall/zqDXB/src/exception.jl:64 [inlined]",
      " [3] _handle_error(::String) at /Users/manjunathvhatkar/.julia/packages/PyCall/zqDXB/src/exception.jl:81",
      " [4] macro expansion at /Users/manjunathvhatkar/.julia/packages/PyCall/zqDXB/src/exception.jl:95 [inlined]",
      " [5] #110 at /Users/manjunathvhatkar/.julia/packages/PyCall/zqDXB/src/pyfncall.jl:43 [inlined]",
      " [6] disable_sigint at ./c.jl:446 [inlined]",
      " [7] __pycall! at /Users/manjunathvhatkar/.julia/packages/PyCall/zqDXB/src/pyfncall.jl:42 [inlined]",
      " [8] _pycall!(::PyObject, ::PyObject, ::Tuple{Array{Float64,2},Array{String,1}}, ::Int64, ::Ptr{Nothing}) at /Users/manjunathvhatkar/.julia/packages/PyCall/zqDXB/src/pyfncall.jl:29",
      " [9] _pycall!(::PyObject, ::PyObject, ::Tuple{Array{Float64,2},Array{String,1}}, ::Base.Iterators.Pairs{Union{},Union{},Tuple{},NamedTuple{,Tuple{}}}) at /Users/manjunathvhatkar/.julia/packages/PyCall/zqDXB/src/pyfncall.jl:11",
      " [10] (::PyObject)(::Array{Float64,2}, ::Vararg{Any,N} where N; kwargs::Base.Iterators.Pairs{Union{},Union{},Tuple{},NamedTuple{,Tuple{}}}) at /Users/manjunathvhatkar/.julia/packages/PyCall/zqDXB/src/pyfncall.jl:86",
      " [11] (::PyObject)(::Array{Float64,2}, ::Vararg{Any,N} where N) at /Users/manjunathvhatkar/.julia/packages/PyCall/zqDXB/src/pyfncall.jl:86",
      " [12] fit!(::PyObject, ::Array{Float64,2}, ::Vararg{Any,N} where N; kwargs::Base.Iterators.Pairs{Union{},Union{},Tuple{},NamedTuple{,Tuple{}}}) at /Users/manjunathvhatkar/.julia/packages/ScikitLearn/Kn82b/src/Skcore.jl:102",
      " [13] fit!(::PyObject, ::Array{Float64,2}, ::Array{String,1}) at /Users/manjunathvhatkar/.julia/packages/ScikitLearn/Kn82b/src/Skcore.jl:102",
      " [14] top-level scope at In[87]:1"
     ]
    }
   ],
   "source": [
    "fit!(model, X_train, y_train)"
   ]
  },
  {
   "cell_type": "code",
   "execution_count": 88,
   "metadata": {},
   "outputs": [
    {
     "ename": "PyCall.PyError",
     "evalue": "PyError ($(Expr(:escape, :(ccall(#= /Users/manjunathvhatkar/.julia/packages/PyCall/zqDXB/src/pyfncall.jl:43 =# @pysym(:PyObject_Call), PyPtr, (PyPtr, PyPtr, PyPtr), o, pyargsptr, kw))))) <class 'ValueError'>\nValueError('Expected 2D array, got 1D array instead:\\narray=[0.         0.01010101 0.02020202 0.03030303 0.04040404 0.05050505\\n 0.06060606 0.07070707 0.08080808 0.09090909 0.1010101  0.11111111\\n 0.12121212 0.13131313 0.14141414 0.15151515 0.16161616 0.17171717\\n 0.18181818 0.19191919 0.2020202  0.21212121 0.22222222 0.23232323\\n 0.24242424 0.25252525 0.26262626 0.27272727 0.28282828 0.29292929\\n 0.3030303  0.31313131 0.32323232 0.33333333 0.34343434 0.35353535\\n 0.36363636 0.37373737 0.38383838 0.39393939 0.4040404  0.41414141\\n 0.42424242 0.43434343 0.44444444 0.45454545 0.46464646 0.47474747\\n 0.48484848 0.49494949 0.50505051 0.51515152 0.52525253 0.53535354\\n 0.54545455 0.55555556 0.56565657 0.57575758 0.58585859 0.5959596\\n 0.60606061 0.61616162 0.62626263 0.63636364 0.64646465 0.65656566\\n 0.66666667 0.67676768 0.68686869 0.6969697  0.70707071 0.71717172\\n 0.72727273 0.73737374 0.74747475 0.75757576 0.76767677 0.77777778\\n 0.78787879 0.7979798  0.80808081 0.81818182 0.82828283 0.83838384\\n 0.84848485 0.85858586 0.86868687 0.87878788 0.88888889 0.8989899\\n 0.90909091 0.91919192 0.92929293 0.93939394 0.94949495 0.95959596\\n 0.96969697 0.97979798 0.98989899 1.        ].\\nReshape your data either using array.reshape(-1, 1) if your data has a single feature or array.reshape(1, -1) if it contains a single sample.')\n  File \"/Users/manjunathvhatkar/.julia/conda/3/lib/python3.7/site-packages/sklearn/linear_model/_base.py\", line 236, in predict\n    return self._decision_function(X)\n  File \"/Users/manjunathvhatkar/.julia/conda/3/lib/python3.7/site-packages/sklearn/linear_model/_base.py\", line 218, in _decision_function\n    X = check_array(X, accept_sparse=['csr', 'csc', 'coo'])\n  File \"/Users/manjunathvhatkar/.julia/conda/3/lib/python3.7/site-packages/sklearn/utils/validation.py\", line 73, in inner_f\n    return f(**kwargs)\n  File \"/Users/manjunathvhatkar/.julia/conda/3/lib/python3.7/site-packages/sklearn/utils/validation.py\", line 624, in check_array\n    \"if it contains a single sample.\".format(array))\n",
     "output_type": "error",
     "traceback": [
      "PyError ($(Expr(:escape, :(ccall(#= /Users/manjunathvhatkar/.julia/packages/PyCall/zqDXB/src/pyfncall.jl:43 =# @pysym(:PyObject_Call), PyPtr, (PyPtr, PyPtr, PyPtr), o, pyargsptr, kw))))) <class 'ValueError'>\nValueError('Expected 2D array, got 1D array instead:\\narray=[0.         0.01010101 0.02020202 0.03030303 0.04040404 0.05050505\\n 0.06060606 0.07070707 0.08080808 0.09090909 0.1010101  0.11111111\\n 0.12121212 0.13131313 0.14141414 0.15151515 0.16161616 0.17171717\\n 0.18181818 0.19191919 0.2020202  0.21212121 0.22222222 0.23232323\\n 0.24242424 0.25252525 0.26262626 0.27272727 0.28282828 0.29292929\\n 0.3030303  0.31313131 0.32323232 0.33333333 0.34343434 0.35353535\\n 0.36363636 0.37373737 0.38383838 0.39393939 0.4040404  0.41414141\\n 0.42424242 0.43434343 0.44444444 0.45454545 0.46464646 0.47474747\\n 0.48484848 0.49494949 0.50505051 0.51515152 0.52525253 0.53535354\\n 0.54545455 0.55555556 0.56565657 0.57575758 0.58585859 0.5959596\\n 0.60606061 0.61616162 0.62626263 0.63636364 0.64646465 0.65656566\\n 0.66666667 0.67676768 0.68686869 0.6969697  0.70707071 0.71717172\\n 0.72727273 0.73737374 0.74747475 0.75757576 0.76767677 0.77777778\\n 0.78787879 0.7979798  0.80808081 0.81818182 0.82828283 0.83838384\\n 0.84848485 0.85858586 0.86868687 0.87878788 0.88888889 0.8989899\\n 0.90909091 0.91919192 0.92929293 0.93939394 0.94949495 0.95959596\\n 0.96969697 0.97979798 0.98989899 1.        ].\\nReshape your data either using array.reshape(-1, 1) if your data has a single feature or array.reshape(1, -1) if it contains a single sample.')\n  File \"/Users/manjunathvhatkar/.julia/conda/3/lib/python3.7/site-packages/sklearn/linear_model/_base.py\", line 236, in predict\n    return self._decision_function(X)\n  File \"/Users/manjunathvhatkar/.julia/conda/3/lib/python3.7/site-packages/sklearn/linear_model/_base.py\", line 218, in _decision_function\n    X = check_array(X, accept_sparse=['csr', 'csc', 'coo'])\n  File \"/Users/manjunathvhatkar/.julia/conda/3/lib/python3.7/site-packages/sklearn/utils/validation.py\", line 73, in inner_f\n    return f(**kwargs)\n  File \"/Users/manjunathvhatkar/.julia/conda/3/lib/python3.7/site-packages/sklearn/utils/validation.py\", line 624, in check_array\n    \"if it contains a single sample.\".format(array))\n",
      "",
      "Stacktrace:",
      " [1] pyerr_check at /Users/manjunathvhatkar/.julia/packages/PyCall/zqDXB/src/exception.jl:60 [inlined]",
      " [2] pyerr_check at /Users/manjunathvhatkar/.julia/packages/PyCall/zqDXB/src/exception.jl:64 [inlined]",
      " [3] _handle_error(::String) at /Users/manjunathvhatkar/.julia/packages/PyCall/zqDXB/src/exception.jl:81",
      " [4] macro expansion at /Users/manjunathvhatkar/.julia/packages/PyCall/zqDXB/src/exception.jl:95 [inlined]",
      " [5] #110 at /Users/manjunathvhatkar/.julia/packages/PyCall/zqDXB/src/pyfncall.jl:43 [inlined]",
      " [6] disable_sigint at ./c.jl:446 [inlined]",
      " [7] __pycall! at /Users/manjunathvhatkar/.julia/packages/PyCall/zqDXB/src/pyfncall.jl:42 [inlined]",
      " [8] _pycall!(::PyObject, ::PyObject, ::Tuple{StepRangeLen{Float64,Base.TwicePrecision{Float64},Base.TwicePrecision{Float64}}}, ::Int64, ::Ptr{Nothing}) at /Users/manjunathvhatkar/.julia/packages/PyCall/zqDXB/src/pyfncall.jl:29",
      " [9] _pycall! at /Users/manjunathvhatkar/.julia/packages/PyCall/zqDXB/src/pyfncall.jl:11 [inlined]",
      " [10] #_#117 at /Users/manjunathvhatkar/.julia/packages/PyCall/zqDXB/src/pyfncall.jl:86 [inlined]",
      " [11] (::PyObject)(::StepRangeLen{Float64,Base.TwicePrecision{Float64},Base.TwicePrecision{Float64}}) at /Users/manjunathvhatkar/.julia/packages/PyCall/zqDXB/src/pyfncall.jl:86",
      " [12] predict(::PyObject, ::StepRangeLen{Float64,Base.TwicePrecision{Float64},Base.TwicePrecision{Float64}}; kwargs::Base.Iterators.Pairs{Union{},Union{},Tuple{},NamedTuple{,Tuple{}}}) at /Users/manjunathvhatkar/.julia/packages/ScikitLearn/Kn82b/src/Skcore.jl:102",
      " [13] predict(::PyObject, ::StepRangeLen{Float64,Base.TwicePrecision{Float64},Base.TwicePrecision{Float64}}) at /Users/manjunathvhatkar/.julia/packages/ScikitLearn/Kn82b/src/Skcore.jl:102",
      " [14] top-level scope at In[88]:1"
     ]
    }
   ],
   "source": [
    "y=predict(model, X_test)"
   ]
  },
  {
   "cell_type": "code",
   "execution_count": 89,
   "metadata": {},
   "outputs": [
    {
     "ename": "PyCall.PyError",
     "evalue": "PyError ($(Expr(:escape, :(ccall(#= /Users/manjunathvhatkar/.julia/packages/PyCall/zqDXB/src/pyfncall.jl:43 =# @pysym(:PyObject_Call), PyPtr, (PyPtr, PyPtr, PyPtr), o, pyargsptr, kw))))) <class 'ValueError'>\nValueError('Expected 2D array, got 1D array instead:\\narray=[0.         0.01010101 0.02020202 0.03030303 0.04040404 0.05050505\\n 0.06060606 0.07070707 0.08080808 0.09090909 0.1010101  0.11111111\\n 0.12121212 0.13131313 0.14141414 0.15151515 0.16161616 0.17171717\\n 0.18181818 0.19191919 0.2020202  0.21212121 0.22222222 0.23232323\\n 0.24242424 0.25252525 0.26262626 0.27272727 0.28282828 0.29292929\\n 0.3030303  0.31313131 0.32323232 0.33333333 0.34343434 0.35353535\\n 0.36363636 0.37373737 0.38383838 0.39393939 0.4040404  0.41414141\\n 0.42424242 0.43434343 0.44444444 0.45454545 0.46464646 0.47474747\\n 0.48484848 0.49494949 0.50505051 0.51515152 0.52525253 0.53535354\\n 0.54545455 0.55555556 0.56565657 0.57575758 0.58585859 0.5959596\\n 0.60606061 0.61616162 0.62626263 0.63636364 0.64646465 0.65656566\\n 0.66666667 0.67676768 0.68686869 0.6969697  0.70707071 0.71717172\\n 0.72727273 0.73737374 0.74747475 0.75757576 0.76767677 0.77777778\\n 0.78787879 0.7979798  0.80808081 0.81818182 0.82828283 0.83838384\\n 0.84848485 0.85858586 0.86868687 0.87878788 0.88888889 0.8989899\\n 0.90909091 0.91919192 0.92929293 0.93939394 0.94949495 0.95959596\\n 0.96969697 0.97979798 0.98989899 1.        ].\\nReshape your data either using array.reshape(-1, 1) if your data has a single feature or array.reshape(1, -1) if it contains a single sample.')\n  File \"/Users/manjunathvhatkar/.julia/conda/3/lib/python3.7/site-packages/sklearn/linear_model/_base.py\", line 236, in predict\n    return self._decision_function(X)\n  File \"/Users/manjunathvhatkar/.julia/conda/3/lib/python3.7/site-packages/sklearn/linear_model/_base.py\", line 218, in _decision_function\n    X = check_array(X, accept_sparse=['csr', 'csc', 'coo'])\n  File \"/Users/manjunathvhatkar/.julia/conda/3/lib/python3.7/site-packages/sklearn/utils/validation.py\", line 73, in inner_f\n    return f(**kwargs)\n  File \"/Users/manjunathvhatkar/.julia/conda/3/lib/python3.7/site-packages/sklearn/utils/validation.py\", line 624, in check_array\n    \"if it contains a single sample.\".format(array))\n",
     "output_type": "error",
     "traceback": [
      "PyError ($(Expr(:escape, :(ccall(#= /Users/manjunathvhatkar/.julia/packages/PyCall/zqDXB/src/pyfncall.jl:43 =# @pysym(:PyObject_Call), PyPtr, (PyPtr, PyPtr, PyPtr), o, pyargsptr, kw))))) <class 'ValueError'>\nValueError('Expected 2D array, got 1D array instead:\\narray=[0.         0.01010101 0.02020202 0.03030303 0.04040404 0.05050505\\n 0.06060606 0.07070707 0.08080808 0.09090909 0.1010101  0.11111111\\n 0.12121212 0.13131313 0.14141414 0.15151515 0.16161616 0.17171717\\n 0.18181818 0.19191919 0.2020202  0.21212121 0.22222222 0.23232323\\n 0.24242424 0.25252525 0.26262626 0.27272727 0.28282828 0.29292929\\n 0.3030303  0.31313131 0.32323232 0.33333333 0.34343434 0.35353535\\n 0.36363636 0.37373737 0.38383838 0.39393939 0.4040404  0.41414141\\n 0.42424242 0.43434343 0.44444444 0.45454545 0.46464646 0.47474747\\n 0.48484848 0.49494949 0.50505051 0.51515152 0.52525253 0.53535354\\n 0.54545455 0.55555556 0.56565657 0.57575758 0.58585859 0.5959596\\n 0.60606061 0.61616162 0.62626263 0.63636364 0.64646465 0.65656566\\n 0.66666667 0.67676768 0.68686869 0.6969697  0.70707071 0.71717172\\n 0.72727273 0.73737374 0.74747475 0.75757576 0.76767677 0.77777778\\n 0.78787879 0.7979798  0.80808081 0.81818182 0.82828283 0.83838384\\n 0.84848485 0.85858586 0.86868687 0.87878788 0.88888889 0.8989899\\n 0.90909091 0.91919192 0.92929293 0.93939394 0.94949495 0.95959596\\n 0.96969697 0.97979798 0.98989899 1.        ].\\nReshape your data either using array.reshape(-1, 1) if your data has a single feature or array.reshape(1, -1) if it contains a single sample.')\n  File \"/Users/manjunathvhatkar/.julia/conda/3/lib/python3.7/site-packages/sklearn/linear_model/_base.py\", line 236, in predict\n    return self._decision_function(X)\n  File \"/Users/manjunathvhatkar/.julia/conda/3/lib/python3.7/site-packages/sklearn/linear_model/_base.py\", line 218, in _decision_function\n    X = check_array(X, accept_sparse=['csr', 'csc', 'coo'])\n  File \"/Users/manjunathvhatkar/.julia/conda/3/lib/python3.7/site-packages/sklearn/utils/validation.py\", line 73, in inner_f\n    return f(**kwargs)\n  File \"/Users/manjunathvhatkar/.julia/conda/3/lib/python3.7/site-packages/sklearn/utils/validation.py\", line 624, in check_array\n    \"if it contains a single sample.\".format(array))\n",
      "",
      "Stacktrace:",
      " [1] pyerr_check at /Users/manjunathvhatkar/.julia/packages/PyCall/zqDXB/src/exception.jl:60 [inlined]",
      " [2] pyerr_check at /Users/manjunathvhatkar/.julia/packages/PyCall/zqDXB/src/exception.jl:64 [inlined]",
      " [3] _handle_error(::String) at /Users/manjunathvhatkar/.julia/packages/PyCall/zqDXB/src/exception.jl:81",
      " [4] macro expansion at /Users/manjunathvhatkar/.julia/packages/PyCall/zqDXB/src/exception.jl:95 [inlined]",
      " [5] #110 at /Users/manjunathvhatkar/.julia/packages/PyCall/zqDXB/src/pyfncall.jl:43 [inlined]",
      " [6] disable_sigint at ./c.jl:446 [inlined]",
      " [7] __pycall! at /Users/manjunathvhatkar/.julia/packages/PyCall/zqDXB/src/pyfncall.jl:42 [inlined]",
      " [8] _pycall!(::PyObject, ::PyObject, ::Tuple{StepRangeLen{Float64,Base.TwicePrecision{Float64},Base.TwicePrecision{Float64}}}, ::Int64, ::Ptr{Nothing}) at /Users/manjunathvhatkar/.julia/packages/PyCall/zqDXB/src/pyfncall.jl:29",
      " [9] _pycall! at /Users/manjunathvhatkar/.julia/packages/PyCall/zqDXB/src/pyfncall.jl:11 [inlined]",
      " [10] #_#117 at /Users/manjunathvhatkar/.julia/packages/PyCall/zqDXB/src/pyfncall.jl:86 [inlined]",
      " [11] (::PyObject)(::StepRangeLen{Float64,Base.TwicePrecision{Float64},Base.TwicePrecision{Float64}}) at /Users/manjunathvhatkar/.julia/packages/PyCall/zqDXB/src/pyfncall.jl:86",
      " [12] predict(::PyObject, ::StepRangeLen{Float64,Base.TwicePrecision{Float64},Base.TwicePrecision{Float64}}; kwargs::Base.Iterators.Pairs{Union{},Union{},Tuple{},NamedTuple{,Tuple{}}}) at /Users/manjunathvhatkar/.julia/packages/ScikitLearn/Kn82b/src/Skcore.jl:102",
      " [13] predict(::PyObject, ::StepRangeLen{Float64,Base.TwicePrecision{Float64},Base.TwicePrecision{Float64}}) at /Users/manjunathvhatkar/.julia/packages/ScikitLearn/Kn82b/src/Skcore.jl:102",
      " [14] top-level scope at In[89]:1"
     ]
    }
   ],
   "source": [
    "# Prediction\n",
    "ypredicted_test = predict(model, X_test)\n",
    "ypredicted_train = predict(model, X_train)"
   ]
  },
  {
   "cell_type": "code",
   "execution_count": 17,
   "metadata": {},
   "outputs": [
    {
     "data": {
      "text/plain": [
       "9-element Array{Float64,1}:\n",
       "      9.528230958965257e6\n",
       " 635340.6536746444\n",
       "      6.5180798589208424e7\n",
       "   4148.694134326295\n",
       "      1.6106819206122393e6\n",
       "      1.4867789857604443e6\n",
       "      1.6007198318693426e7\n",
       "      7.097113010618044e7\n",
       "      4.490640098026753e7"
      ]
     },
     "execution_count": 17,
     "metadata": {},
     "output_type": "execute_result"
    }
   ],
   "source": [
    "# Test Performance DataFrame (compute squared error)\n",
    "performance_testdf = DataFrame(y_test=y_test, y_predicted = ypredicted_test)\n",
    "performance_testdf.error = performance_testdf[!,:y_test] - performance_testdf[!,:y_predicted]\n",
    "performance_testdf.error_sq = performance_testdf.error.*performance_testdf.error"
   ]
  },
  {
   "cell_type": "code",
   "execution_count": 18,
   "metadata": {},
   "outputs": [
    {
     "data": {
      "text/plain": [
       "21-element Array{Float64,1}:\n",
       " 334713.7360185252\n",
       "      7.397589075116016e6\n",
       "      7.200751012035824e7\n",
       "      5.951771538995937e7\n",
       "      6.064620178975702e7\n",
       "      1.056879834802765e8\n",
       "      1.7182803033147797e6\n",
       "      5.269698622199937e7\n",
       "      1.0164203797752442e7\n",
       "      2.800340971623836e7\n",
       "      5.593493498432483e7\n",
       " 409514.1545658758\n",
       "      1.2102290179964925e8\n",
       "      1.7819864209399346e7\n",
       "      5.22226453030587e6\n",
       "      2.956904803073682e7\n",
       "      3.892389310417044e6\n",
       "      5.14981890842139e6\n",
       "      2.5378960597062133e7\n",
       "      2.2133935273590993e7\n",
       "      5.272845983980899e7"
      ]
     },
     "execution_count": 18,
     "metadata": {},
     "output_type": "execute_result"
    }
   ],
   "source": [
    "# Train Performance DataFrame (compute squared error)\n",
    "performance_traindf = DataFrame(y_train = y_train, y_predicted = ypredicted_train)\n",
    "performance_traindf.error = performance_traindf[!,:y_train] - performance_traindf[!,:y_predicted]\n",
    "performance_traindf.error_sq = performance_traindf.error.*performance_traindf.error "
   ]
  },
  {
   "cell_type": "code",
   "execution_count": 19,
   "metadata": {},
   "outputs": [
    {
     "data": {
      "text/plain": [
       "mapetest (generic function with 1 method)"
      ]
     },
     "execution_count": 19,
     "metadata": {},
     "output_type": "execute_result"
    }
   ],
   "source": [
    "# MAPE function defination\n",
    "function mapetest(performance_df)\n",
    "    mape = mean(abs.(performance_df.error./performance_df.y_test))\n",
    "    return mape\n",
    "end"
   ]
  },
  {
   "cell_type": "code",
   "execution_count": 20,
   "metadata": {},
   "outputs": [
    {
     "data": {
      "text/plain": [
       "mapetrain (generic function with 1 method)"
      ]
     },
     "execution_count": 20,
     "metadata": {},
     "output_type": "execute_result"
    }
   ],
   "source": [
    "# MAPE function defination\n",
    "function mapetrain(performance_df)\n",
    "    mape = mean(abs.(performance_df.error./performance_df.y_train))\n",
    "    return mape\n",
    "end"
   ]
  },
  {
   "cell_type": "code",
   "execution_count": 21,
   "metadata": {},
   "outputs": [
    {
     "data": {
      "text/plain": [
       "rmse (generic function with 1 method)"
      ]
     },
     "execution_count": 21,
     "metadata": {},
     "output_type": "execute_result"
    }
   ],
   "source": [
    "# RMSE function defination\n",
    "function rmse(performance_df)\n",
    "    rmse = sqrt(mean(performance_df.error.*performance_df.error))\n",
    "    return rmse\n",
    "end"
   ]
  },
  {
   "cell_type": "code",
   "execution_count": 22,
   "metadata": {},
   "outputs": [
    {
     "name": "stdout",
     "output_type": "stream",
     "text": [
      "Mean Absolute test error: 3737.417861878896\n",
      "\n",
      "Mean Aboslute Percentage test error: 0.05777087699629181\n",
      "\n",
      "Root mean square test error: 4834.260936361728\n",
      "\n",
      "Mean square test error: 2.3370078800832972e7\n",
      "\n"
     ]
    }
   ],
   "source": [
    "# Test Error\n",
    "println(\"Mean Absolute test error: \",mean(abs.(performance_testdf.error)), \"\\n\")\n",
    "println(\"Mean Aboslute Percentage test error: \",mapetest(performance_testdf), \"\\n\")\n",
    "println(\"Root mean square test error: \",rmse(performance_testdf), \"\\n\")\n",
    "println(\"Mean square test error: \",mean(performance_testdf.error_sq), \"\\n\")"
   ]
  },
  {
   "cell_type": "code",
   "execution_count": 23,
   "metadata": {},
   "outputs": [
    {
     "name": "stdout",
     "output_type": "stream",
     "text": [
      "Mean train error: 5091.778618459526\n",
      "\n",
      "Mean Absolute Percentage train error: 0.07790527668082674\n",
      "\n",
      "Root mean square train error: 5925.8782160841465\n",
      "\n",
      "Mean square train error: 3.511603263186063e7\n",
      "\n"
     ]
    }
   ],
   "source": [
    "# Train  Error\n",
    "println(\"Mean train error: \",mean(abs.(performance_traindf.error)), \"\\n\")\n",
    "println(\"Mean Absolute Percentage train error: \",mapetrain(performance_traindf), \"\\n\")\n",
    "println(\"Root mean square train error: \",rmse(performance_traindf), \"\\n\")\n",
    "println(\"Mean square train error: \",mean(performance_traindf.error_sq), \"\\n\")\n"
   ]
  },
  {
   "cell_type": "code",
   "execution_count": 24,
   "metadata": {},
   "outputs": [
    {
     "data": {
      "image/svg+xml": [
       "<?xml version=\"1.0\" encoding=\"utf-8\"?>\n",
       "<svg xmlns=\"http://www.w3.org/2000/svg\" xmlns:xlink=\"http://www.w3.org/1999/xlink\" width=\"600\" height=\"400\" viewBox=\"0 0 2400 1600\">\n",
       "<defs>\n",
       "  <clipPath id=\"clip6200\">\n",
       "    <rect x=\"0\" y=\"0\" width=\"2400\" height=\"1600\"/>\n",
       "  </clipPath>\n",
       "</defs>\n",
       "<path clip-path=\"url(#clip6200)\" d=\"\n",
       "M0 1600 L2400 1600 L2400 0 L0 0  Z\n",
       "  \" fill=\"#ffffff\" fill-rule=\"evenodd\" fill-opacity=\"1\"/>\n",
       "<defs>\n",
       "  <clipPath id=\"clip6201\">\n",
       "    <rect x=\"480\" y=\"0\" width=\"1681\" height=\"1600\"/>\n",
       "  </clipPath>\n",
       "</defs>\n",
       "<path clip-path=\"url(#clip6200)\" d=\"\n",
       "M363.188 1425.62 L2352.76 1425.62 L2352.76 121.675 L363.188 121.675  Z\n",
       "  \" fill=\"#ffffff\" fill-rule=\"evenodd\" fill-opacity=\"1\"/>\n",
       "<defs>\n",
       "  <clipPath id=\"clip6202\">\n",
       "    <rect x=\"363\" y=\"121\" width=\"1991\" height=\"1305\"/>\n",
       "  </clipPath>\n",
       "</defs>\n",
       "<polyline clip-path=\"url(#clip6202)\" style=\"stroke:#000000; stroke-width:2; stroke-opacity:0.1; fill:none\" points=\"\n",
       "  794.886,1425.62 794.886,121.675 \n",
       "  \"/>\n",
       "<polyline clip-path=\"url(#clip6202)\" style=\"stroke:#000000; stroke-width:2; stroke-opacity:0.1; fill:none\" points=\"\n",
       "  1264.12,1425.62 1264.12,121.675 \n",
       "  \"/>\n",
       "<polyline clip-path=\"url(#clip6202)\" style=\"stroke:#000000; stroke-width:2; stroke-opacity:0.1; fill:none\" points=\"\n",
       "  1733.36,1425.62 1733.36,121.675 \n",
       "  \"/>\n",
       "<polyline clip-path=\"url(#clip6202)\" style=\"stroke:#000000; stroke-width:2; stroke-opacity:0.1; fill:none\" points=\"\n",
       "  2202.6,1425.62 2202.6,121.675 \n",
       "  \"/>\n",
       "<polyline clip-path=\"url(#clip6202)\" style=\"stroke:#000000; stroke-width:2; stroke-opacity:0.1; fill:none\" points=\"\n",
       "  363.188,1378.92 2352.76,1378.92 \n",
       "  \"/>\n",
       "<polyline clip-path=\"url(#clip6202)\" style=\"stroke:#000000; stroke-width:2; stroke-opacity:0.1; fill:none\" points=\"\n",
       "  363.188,1080.81 2352.76,1080.81 \n",
       "  \"/>\n",
       "<polyline clip-path=\"url(#clip6202)\" style=\"stroke:#000000; stroke-width:2; stroke-opacity:0.1; fill:none\" points=\"\n",
       "  363.188,782.702 2352.76,782.702 \n",
       "  \"/>\n",
       "<polyline clip-path=\"url(#clip6202)\" style=\"stroke:#000000; stroke-width:2; stroke-opacity:0.1; fill:none\" points=\"\n",
       "  363.188,484.592 2352.76,484.592 \n",
       "  \"/>\n",
       "<polyline clip-path=\"url(#clip6202)\" style=\"stroke:#000000; stroke-width:2; stroke-opacity:0.1; fill:none\" points=\"\n",
       "  363.188,186.482 2352.76,186.482 \n",
       "  \"/>\n",
       "<polyline clip-path=\"url(#clip6200)\" style=\"stroke:#000000; stroke-width:4; stroke-opacity:1; fill:none\" points=\"\n",
       "  363.188,1425.62 2352.76,1425.62 \n",
       "  \"/>\n",
       "<polyline clip-path=\"url(#clip6200)\" style=\"stroke:#000000; stroke-width:4; stroke-opacity:1; fill:none\" points=\"\n",
       "  363.188,1425.62 363.188,121.675 \n",
       "  \"/>\n",
       "<polyline clip-path=\"url(#clip6200)\" style=\"stroke:#000000; stroke-width:4; stroke-opacity:1; fill:none\" points=\"\n",
       "  794.886,1425.62 794.886,1409.97 \n",
       "  \"/>\n",
       "<polyline clip-path=\"url(#clip6200)\" style=\"stroke:#000000; stroke-width:4; stroke-opacity:1; fill:none\" points=\"\n",
       "  1264.12,1425.62 1264.12,1409.97 \n",
       "  \"/>\n",
       "<polyline clip-path=\"url(#clip6200)\" style=\"stroke:#000000; stroke-width:4; stroke-opacity:1; fill:none\" points=\"\n",
       "  1733.36,1425.62 1733.36,1409.97 \n",
       "  \"/>\n",
       "<polyline clip-path=\"url(#clip6200)\" style=\"stroke:#000000; stroke-width:4; stroke-opacity:1; fill:none\" points=\"\n",
       "  2202.6,1425.62 2202.6,1409.97 \n",
       "  \"/>\n",
       "<polyline clip-path=\"url(#clip6200)\" style=\"stroke:#000000; stroke-width:4; stroke-opacity:1; fill:none\" points=\"\n",
       "  363.188,1378.92 387.062,1378.92 \n",
       "  \"/>\n",
       "<polyline clip-path=\"url(#clip6200)\" style=\"stroke:#000000; stroke-width:4; stroke-opacity:1; fill:none\" points=\"\n",
       "  363.188,1080.81 387.062,1080.81 \n",
       "  \"/>\n",
       "<polyline clip-path=\"url(#clip6200)\" style=\"stroke:#000000; stroke-width:4; stroke-opacity:1; fill:none\" points=\"\n",
       "  363.188,782.702 387.062,782.702 \n",
       "  \"/>\n",
       "<polyline clip-path=\"url(#clip6200)\" style=\"stroke:#000000; stroke-width:4; stroke-opacity:1; fill:none\" points=\"\n",
       "  363.188,484.592 387.062,484.592 \n",
       "  \"/>\n",
       "<polyline clip-path=\"url(#clip6200)\" style=\"stroke:#000000; stroke-width:4; stroke-opacity:1; fill:none\" points=\"\n",
       "  363.188,186.482 387.062,186.482 \n",
       "  \"/>\n",
       "<g clip-path=\"url(#clip6200)\">\n",
       "<text style=\"fill:#000000; fill-opacity:1; font-family:Arial,Helvetica Neue,Helvetica,sans-serif; font-size:48px; text-anchor:middle;\" transform=\"rotate(0, 794.886, 1479.62)\" x=\"794.886\" y=\"1479.62\">5</text>\n",
       "</g>\n",
       "<g clip-path=\"url(#clip6200)\">\n",
       "<text style=\"fill:#000000; fill-opacity:1; font-family:Arial,Helvetica Neue,Helvetica,sans-serif; font-size:48px; text-anchor:middle;\" transform=\"rotate(0, 1264.12, 1479.62)\" x=\"1264.12\" y=\"1479.62\">10</text>\n",
       "</g>\n",
       "<g clip-path=\"url(#clip6200)\">\n",
       "<text style=\"fill:#000000; fill-opacity:1; font-family:Arial,Helvetica Neue,Helvetica,sans-serif; font-size:48px; text-anchor:middle;\" transform=\"rotate(0, 1733.36, 1479.62)\" x=\"1733.36\" y=\"1479.62\">15</text>\n",
       "</g>\n",
       "<g clip-path=\"url(#clip6200)\">\n",
       "<text style=\"fill:#000000; fill-opacity:1; font-family:Arial,Helvetica Neue,Helvetica,sans-serif; font-size:48px; text-anchor:middle;\" transform=\"rotate(0, 2202.6, 1479.62)\" x=\"2202.6\" y=\"1479.62\">20</text>\n",
       "</g>\n",
       "<g clip-path=\"url(#clip6200)\">\n",
       "<text style=\"fill:#000000; fill-opacity:1; font-family:Arial,Helvetica Neue,Helvetica,sans-serif; font-size:48px; text-anchor:start;\" transform=\"rotate(0, 168.903, 1402.65)\" x=\"168.903\" y=\"1402.65\">4.0×10</text>\n",
       "</g>\n",
       "<g clip-path=\"url(#clip6200)\">\n",
       "<text style=\"fill:#000000; fill-opacity:1; font-family:Arial,Helvetica Neue,Helvetica,sans-serif; font-size:38px; text-anchor:start;\" transform=\"rotate(0, 317.443, 1375.24)\" x=\"317.443\" y=\"1375.24\">4</text>\n",
       "</g>\n",
       "<g clip-path=\"url(#clip6200)\">\n",
       "<text style=\"fill:#000000; fill-opacity:1; font-family:Arial,Helvetica Neue,Helvetica,sans-serif; font-size:48px; text-anchor:start;\" transform=\"rotate(0, 168.903, 1104.54)\" x=\"168.903\" y=\"1104.54\">6.0×10</text>\n",
       "</g>\n",
       "<g clip-path=\"url(#clip6200)\">\n",
       "<text style=\"fill:#000000; fill-opacity:1; font-family:Arial,Helvetica Neue,Helvetica,sans-serif; font-size:38px; text-anchor:start;\" transform=\"rotate(0, 317.443, 1077.13)\" x=\"317.443\" y=\"1077.13\">4</text>\n",
       "</g>\n",
       "<g clip-path=\"url(#clip6200)\">\n",
       "<text style=\"fill:#000000; fill-opacity:1; font-family:Arial,Helvetica Neue,Helvetica,sans-serif; font-size:48px; text-anchor:start;\" transform=\"rotate(0, 168.903, 806.43)\" x=\"168.903\" y=\"806.43\">8.0×10</text>\n",
       "</g>\n",
       "<g clip-path=\"url(#clip6200)\">\n",
       "<text style=\"fill:#000000; fill-opacity:1; font-family:Arial,Helvetica Neue,Helvetica,sans-serif; font-size:38px; text-anchor:start;\" transform=\"rotate(0, 317.443, 779.019)\" x=\"317.443\" y=\"779.019\">4</text>\n",
       "</g>\n",
       "<g clip-path=\"url(#clip6200)\">\n",
       "<text style=\"fill:#000000; fill-opacity:1; font-family:Arial,Helvetica Neue,Helvetica,sans-serif; font-size:48px; text-anchor:start;\" transform=\"rotate(0, 168.903, 508.32)\" x=\"168.903\" y=\"508.32\">1.0×10</text>\n",
       "</g>\n",
       "<g clip-path=\"url(#clip6200)\">\n",
       "<text style=\"fill:#000000; fill-opacity:1; font-family:Arial,Helvetica Neue,Helvetica,sans-serif; font-size:38px; text-anchor:start;\" transform=\"rotate(0, 317.443, 480.909)\" x=\"317.443\" y=\"480.909\">5</text>\n",
       "</g>\n",
       "<g clip-path=\"url(#clip6200)\">\n",
       "<text style=\"fill:#000000; fill-opacity:1; font-family:Arial,Helvetica Neue,Helvetica,sans-serif; font-size:48px; text-anchor:start;\" transform=\"rotate(0, 168.903, 210.21)\" x=\"168.903\" y=\"210.21\">1.2×10</text>\n",
       "</g>\n",
       "<g clip-path=\"url(#clip6200)\">\n",
       "<text style=\"fill:#000000; fill-opacity:1; font-family:Arial,Helvetica Neue,Helvetica,sans-serif; font-size:38px; text-anchor:start;\" transform=\"rotate(0, 317.443, 182.799)\" x=\"317.443\" y=\"182.799\">5</text>\n",
       "</g>\n",
       "<g clip-path=\"url(#clip6200)\">\n",
       "<text style=\"fill:#000000; fill-opacity:1; font-family:Arial,Helvetica Neue,Helvetica,sans-serif; font-size:84px; text-anchor:middle;\" transform=\"rotate(0, 1357.97, 73.2)\" x=\"1357.97\" y=\"73.2\">Scatter Plot Salary vs YearsExperience Rate</text>\n",
       "</g>\n",
       "<g clip-path=\"url(#clip6200)\">\n",
       "<text style=\"fill:#000000; fill-opacity:1; font-family:Arial,Helvetica Neue,Helvetica,sans-serif; font-size:66px; text-anchor:middle;\" transform=\"rotate(0, 1357.97, 1559.48)\" x=\"1357.97\" y=\"1559.48\">YearsExperience</text>\n",
       "</g>\n",
       "<g clip-path=\"url(#clip6200)\">\n",
       "<text style=\"fill:#000000; fill-opacity:1; font-family:Arial,Helvetica Neue,Helvetica,sans-serif; font-size:66px; text-anchor:middle;\" transform=\"rotate(-90, 89.2861, 773.647)\" x=\"89.2861\" y=\"773.647\">Salary</text>\n",
       "</g>\n",
       "<circle clip-path=\"url(#clip6202)\" cx=\"419.496\" cy=\"465.185\" r=\"14\" fill=\"#009af9\" fill-rule=\"evenodd\" fill-opacity=\"1\" stroke=\"#000000\" stroke-opacity=\"1\" stroke-width=\"3.2\"/>\n",
       "<circle clip-path=\"url(#clip6202)\" cx=\"513.344\" cy=\"1130.86\" r=\"14\" fill=\"#009af9\" fill-rule=\"evenodd\" fill-opacity=\"1\" stroke=\"#000000\" stroke-opacity=\"1\" stroke-width=\"3.2\"/>\n",
       "<circle clip-path=\"url(#clip6202)\" cx=\"607.191\" cy=\"990.947\" r=\"14\" fill=\"#009af9\" fill-rule=\"evenodd\" fill-opacity=\"1\" stroke=\"#000000\" stroke-opacity=\"1\" stroke-width=\"3.2\"/>\n",
       "<circle clip-path=\"url(#clip6202)\" cx=\"701.039\" cy=\"1014.56\" r=\"14\" fill=\"#009af9\" fill-rule=\"evenodd\" fill-opacity=\"1\" stroke=\"#000000\" stroke-opacity=\"1\" stroke-width=\"3.2\"/>\n",
       "<circle clip-path=\"url(#clip6202)\" cx=\"794.886\" cy=\"1064.25\" r=\"14\" fill=\"#009af9\" fill-rule=\"evenodd\" fill-opacity=\"1\" stroke=\"#000000\" stroke-opacity=\"1\" stroke-width=\"3.2\"/>\n",
       "<circle clip-path=\"url(#clip6202)\" cx=\"888.734\" cy=\"278.717\" r=\"14\" fill=\"#009af9\" fill-rule=\"evenodd\" fill-opacity=\"1\" stroke=\"#000000\" stroke-opacity=\"1\" stroke-width=\"3.2\"/>\n",
       "<circle clip-path=\"url(#clip6202)\" cx=\"982.582\" cy=\"607.741\" r=\"14\" fill=\"#009af9\" fill-rule=\"evenodd\" fill-opacity=\"1\" stroke=\"#000000\" stroke-opacity=\"1\" stroke-width=\"3.2\"/>\n",
       "<circle clip-path=\"url(#clip6202)\" cx=\"1076.43\" cy=\"1286.43\" r=\"14\" fill=\"#009af9\" fill-rule=\"evenodd\" fill-opacity=\"1\" stroke=\"#000000\" stroke-opacity=\"1\" stroke-width=\"3.2\"/>\n",
       "<circle clip-path=\"url(#clip6202)\" cx=\"1170.28\" cy=\"158.579\" r=\"14\" fill=\"#009af9\" fill-rule=\"evenodd\" fill-opacity=\"1\" stroke=\"#000000\" stroke-opacity=\"1\" stroke-width=\"3.2\"/>\n",
       "<circle clip-path=\"url(#clip6202)\" cx=\"1264.12\" cy=\"1078.58\" r=\"14\" fill=\"#009af9\" fill-rule=\"evenodd\" fill-opacity=\"1\" stroke=\"#000000\" stroke-opacity=\"1\" stroke-width=\"3.2\"/>\n",
       "<circle clip-path=\"url(#clip6202)\" cx=\"1357.97\" cy=\"1380.55\" r=\"14\" fill=\"#009af9\" fill-rule=\"evenodd\" fill-opacity=\"1\" stroke=\"#000000\" stroke-opacity=\"1\" stroke-width=\"3.2\"/>\n",
       "<circle clip-path=\"url(#clip6202)\" cx=\"1451.82\" cy=\"762.386\" r=\"14\" fill=\"#009af9\" fill-rule=\"evenodd\" fill-opacity=\"1\" stroke=\"#000000\" stroke-opacity=\"1\" stroke-width=\"3.2\"/>\n",
       "<circle clip-path=\"url(#clip6202)\" cx=\"1545.67\" cy=\"574.919\" r=\"14\" fill=\"#009af9\" fill-rule=\"evenodd\" fill-opacity=\"1\" stroke=\"#000000\" stroke-opacity=\"1\" stroke-width=\"3.2\"/>\n",
       "<circle clip-path=\"url(#clip6202)\" cx=\"1639.51\" cy=\"1122.71\" r=\"14\" fill=\"#009af9\" fill-rule=\"evenodd\" fill-opacity=\"1\" stroke=\"#000000\" stroke-opacity=\"1\" stroke-width=\"3.2\"/>\n",
       "<circle clip-path=\"url(#clip6202)\" cx=\"1733.36\" cy=\"1163.61\" r=\"14\" fill=\"#009af9\" fill-rule=\"evenodd\" fill-opacity=\"1\" stroke=\"#000000\" stroke-opacity=\"1\" stroke-width=\"3.2\"/>\n",
       "<circle clip-path=\"url(#clip6202)\" cx=\"1827.21\" cy=\"401.39\" r=\"14\" fill=\"#009af9\" fill-rule=\"evenodd\" fill-opacity=\"1\" stroke=\"#000000\" stroke-opacity=\"1\" stroke-width=\"3.2\"/>\n",
       "<circle clip-path=\"url(#clip6202)\" cx=\"1921.06\" cy=\"1326.38\" r=\"14\" fill=\"#009af9\" fill-rule=\"evenodd\" fill-opacity=\"1\" stroke=\"#000000\" stroke-opacity=\"1\" stroke-width=\"3.2\"/>\n",
       "<circle clip-path=\"url(#clip6202)\" cx=\"2014.9\" cy=\"1388.71\" r=\"14\" fill=\"#009af9\" fill-rule=\"evenodd\" fill-opacity=\"1\" stroke=\"#000000\" stroke-opacity=\"1\" stroke-width=\"3.2\"/>\n",
       "<circle clip-path=\"url(#clip6202)\" cx=\"2108.75\" cy=\"510.334\" r=\"14\" fill=\"#009af9\" fill-rule=\"evenodd\" fill-opacity=\"1\" stroke=\"#000000\" stroke-opacity=\"1\" stroke-width=\"3.2\"/>\n",
       "<circle clip-path=\"url(#clip6202)\" cx=\"2202.6\" cy=\"962.492\" r=\"14\" fill=\"#009af9\" fill-rule=\"evenodd\" fill-opacity=\"1\" stroke=\"#000000\" stroke-opacity=\"1\" stroke-width=\"3.2\"/>\n",
       "<circle clip-path=\"url(#clip6202)\" cx=\"2296.45\" cy=\"1126.17\" r=\"14\" fill=\"#009af9\" fill-rule=\"evenodd\" fill-opacity=\"1\" stroke=\"#000000\" stroke-opacity=\"1\" stroke-width=\"3.2\"/>\n",
       "</svg>\n"
      ]
     },
     "execution_count": 24,
     "metadata": {},
     "output_type": "execute_result"
    }
   ],
   "source": [
    "# Scatter plot\n",
    "train_plot = Plots.scatter(y_train, title = \"Scatter Plot Salary vs YearsExperience Rate\", ylabel = \"Salary\", xlabel = \"YearsExperience\",legend = false)"
   ]
  },
  {
   "cell_type": "code",
   "execution_count": 25,
   "metadata": {},
   "outputs": [
    {
     "data": {
      "image/svg+xml": [
       "<?xml version=\"1.0\" encoding=\"utf-8\"?>\n",
       "<svg xmlns=\"http://www.w3.org/2000/svg\" xmlns:xlink=\"http://www.w3.org/1999/xlink\" width=\"600\" height=\"400\" viewBox=\"0 0 2400 1600\">\n",
       "<defs>\n",
       "  <clipPath id=\"clip6600\">\n",
       "    <rect x=\"0\" y=\"0\" width=\"2400\" height=\"1600\"/>\n",
       "  </clipPath>\n",
       "</defs>\n",
       "<path clip-path=\"url(#clip6600)\" d=\"\n",
       "M0 1600 L2400 1600 L2400 0 L0 0  Z\n",
       "  \" fill=\"#ffffff\" fill-rule=\"evenodd\" fill-opacity=\"1\"/>\n",
       "<defs>\n",
       "  <clipPath id=\"clip6601\">\n",
       "    <rect x=\"480\" y=\"0\" width=\"1681\" height=\"1600\"/>\n",
       "  </clipPath>\n",
       "</defs>\n",
       "<path clip-path=\"url(#clip6600)\" d=\"\n",
       "M363.188 1425.62 L2352.76 1425.62 L2352.76 121.675 L363.188 121.675  Z\n",
       "  \" fill=\"#ffffff\" fill-rule=\"evenodd\" fill-opacity=\"1\"/>\n",
       "<defs>\n",
       "  <clipPath id=\"clip6602\">\n",
       "    <rect x=\"363\" y=\"121\" width=\"1991\" height=\"1305\"/>\n",
       "  </clipPath>\n",
       "</defs>\n",
       "<polyline clip-path=\"url(#clip6602)\" style=\"stroke:#000000; stroke-width:2; stroke-opacity:0.1; fill:none\" points=\"\n",
       "  794.886,1425.62 794.886,121.675 \n",
       "  \"/>\n",
       "<polyline clip-path=\"url(#clip6602)\" style=\"stroke:#000000; stroke-width:2; stroke-opacity:0.1; fill:none\" points=\"\n",
       "  1264.12,1425.62 1264.12,121.675 \n",
       "  \"/>\n",
       "<polyline clip-path=\"url(#clip6602)\" style=\"stroke:#000000; stroke-width:2; stroke-opacity:0.1; fill:none\" points=\"\n",
       "  1733.36,1425.62 1733.36,121.675 \n",
       "  \"/>\n",
       "<polyline clip-path=\"url(#clip6602)\" style=\"stroke:#000000; stroke-width:2; stroke-opacity:0.1; fill:none\" points=\"\n",
       "  2202.6,1425.62 2202.6,121.675 \n",
       "  \"/>\n",
       "<polyline clip-path=\"url(#clip6602)\" style=\"stroke:#000000; stroke-width:2; stroke-opacity:0.1; fill:none\" points=\"\n",
       "  363.188,1347.8 2352.76,1347.8 \n",
       "  \"/>\n",
       "<polyline clip-path=\"url(#clip6602)\" style=\"stroke:#000000; stroke-width:2; stroke-opacity:0.1; fill:none\" points=\"\n",
       "  363.188,1068.18 2352.76,1068.18 \n",
       "  \"/>\n",
       "<polyline clip-path=\"url(#clip6602)\" style=\"stroke:#000000; stroke-width:2; stroke-opacity:0.1; fill:none\" points=\"\n",
       "  363.188,788.563 2352.76,788.563 \n",
       "  \"/>\n",
       "<polyline clip-path=\"url(#clip6602)\" style=\"stroke:#000000; stroke-width:2; stroke-opacity:0.1; fill:none\" points=\"\n",
       "  363.188,508.944 2352.76,508.944 \n",
       "  \"/>\n",
       "<polyline clip-path=\"url(#clip6602)\" style=\"stroke:#000000; stroke-width:2; stroke-opacity:0.1; fill:none\" points=\"\n",
       "  363.188,229.325 2352.76,229.325 \n",
       "  \"/>\n",
       "<polyline clip-path=\"url(#clip6600)\" style=\"stroke:#000000; stroke-width:4; stroke-opacity:1; fill:none\" points=\"\n",
       "  363.188,1425.62 2352.76,1425.62 \n",
       "  \"/>\n",
       "<polyline clip-path=\"url(#clip6600)\" style=\"stroke:#000000; stroke-width:4; stroke-opacity:1; fill:none\" points=\"\n",
       "  363.188,1425.62 363.188,121.675 \n",
       "  \"/>\n",
       "<polyline clip-path=\"url(#clip6600)\" style=\"stroke:#000000; stroke-width:4; stroke-opacity:1; fill:none\" points=\"\n",
       "  794.886,1425.62 794.886,1409.97 \n",
       "  \"/>\n",
       "<polyline clip-path=\"url(#clip6600)\" style=\"stroke:#000000; stroke-width:4; stroke-opacity:1; fill:none\" points=\"\n",
       "  1264.12,1425.62 1264.12,1409.97 \n",
       "  \"/>\n",
       "<polyline clip-path=\"url(#clip6600)\" style=\"stroke:#000000; stroke-width:4; stroke-opacity:1; fill:none\" points=\"\n",
       "  1733.36,1425.62 1733.36,1409.97 \n",
       "  \"/>\n",
       "<polyline clip-path=\"url(#clip6600)\" style=\"stroke:#000000; stroke-width:4; stroke-opacity:1; fill:none\" points=\"\n",
       "  2202.6,1425.62 2202.6,1409.97 \n",
       "  \"/>\n",
       "<polyline clip-path=\"url(#clip6600)\" style=\"stroke:#000000; stroke-width:4; stroke-opacity:1; fill:none\" points=\"\n",
       "  363.188,1347.8 387.062,1347.8 \n",
       "  \"/>\n",
       "<polyline clip-path=\"url(#clip6600)\" style=\"stroke:#000000; stroke-width:4; stroke-opacity:1; fill:none\" points=\"\n",
       "  363.188,1068.18 387.062,1068.18 \n",
       "  \"/>\n",
       "<polyline clip-path=\"url(#clip6600)\" style=\"stroke:#000000; stroke-width:4; stroke-opacity:1; fill:none\" points=\"\n",
       "  363.188,788.563 387.062,788.563 \n",
       "  \"/>\n",
       "<polyline clip-path=\"url(#clip6600)\" style=\"stroke:#000000; stroke-width:4; stroke-opacity:1; fill:none\" points=\"\n",
       "  363.188,508.944 387.062,508.944 \n",
       "  \"/>\n",
       "<polyline clip-path=\"url(#clip6600)\" style=\"stroke:#000000; stroke-width:4; stroke-opacity:1; fill:none\" points=\"\n",
       "  363.188,229.325 387.062,229.325 \n",
       "  \"/>\n",
       "<g clip-path=\"url(#clip6600)\">\n",
       "<text style=\"fill:#000000; fill-opacity:1; font-family:Arial,Helvetica Neue,Helvetica,sans-serif; font-size:48px; text-anchor:middle;\" transform=\"rotate(0, 794.886, 1479.62)\" x=\"794.886\" y=\"1479.62\">5</text>\n",
       "</g>\n",
       "<g clip-path=\"url(#clip6600)\">\n",
       "<text style=\"fill:#000000; fill-opacity:1; font-family:Arial,Helvetica Neue,Helvetica,sans-serif; font-size:48px; text-anchor:middle;\" transform=\"rotate(0, 1264.12, 1479.62)\" x=\"1264.12\" y=\"1479.62\">10</text>\n",
       "</g>\n",
       "<g clip-path=\"url(#clip6600)\">\n",
       "<text style=\"fill:#000000; fill-opacity:1; font-family:Arial,Helvetica Neue,Helvetica,sans-serif; font-size:48px; text-anchor:middle;\" transform=\"rotate(0, 1733.36, 1479.62)\" x=\"1733.36\" y=\"1479.62\">15</text>\n",
       "</g>\n",
       "<g clip-path=\"url(#clip6600)\">\n",
       "<text style=\"fill:#000000; fill-opacity:1; font-family:Arial,Helvetica Neue,Helvetica,sans-serif; font-size:48px; text-anchor:middle;\" transform=\"rotate(0, 2202.6, 1479.62)\" x=\"2202.6\" y=\"1479.62\">20</text>\n",
       "</g>\n",
       "<g clip-path=\"url(#clip6600)\">\n",
       "<text style=\"fill:#000000; fill-opacity:1; font-family:Arial,Helvetica Neue,Helvetica,sans-serif; font-size:48px; text-anchor:start;\" transform=\"rotate(0, 168.903, 1371.53)\" x=\"168.903\" y=\"1371.53\">4.0×10</text>\n",
       "</g>\n",
       "<g clip-path=\"url(#clip6600)\">\n",
       "<text style=\"fill:#000000; fill-opacity:1; font-family:Arial,Helvetica Neue,Helvetica,sans-serif; font-size:38px; text-anchor:start;\" transform=\"rotate(0, 317.443, 1344.12)\" x=\"317.443\" y=\"1344.12\">4</text>\n",
       "</g>\n",
       "<g clip-path=\"url(#clip6600)\">\n",
       "<text style=\"fill:#000000; fill-opacity:1; font-family:Arial,Helvetica Neue,Helvetica,sans-serif; font-size:48px; text-anchor:start;\" transform=\"rotate(0, 168.903, 1091.91)\" x=\"168.903\" y=\"1091.91\">6.0×10</text>\n",
       "</g>\n",
       "<g clip-path=\"url(#clip6600)\">\n",
       "<text style=\"fill:#000000; fill-opacity:1; font-family:Arial,Helvetica Neue,Helvetica,sans-serif; font-size:38px; text-anchor:start;\" transform=\"rotate(0, 317.443, 1064.5)\" x=\"317.443\" y=\"1064.5\">4</text>\n",
       "</g>\n",
       "<g clip-path=\"url(#clip6600)\">\n",
       "<text style=\"fill:#000000; fill-opacity:1; font-family:Arial,Helvetica Neue,Helvetica,sans-serif; font-size:48px; text-anchor:start;\" transform=\"rotate(0, 168.903, 812.291)\" x=\"168.903\" y=\"812.291\">8.0×10</text>\n",
       "</g>\n",
       "<g clip-path=\"url(#clip6600)\">\n",
       "<text style=\"fill:#000000; fill-opacity:1; font-family:Arial,Helvetica Neue,Helvetica,sans-serif; font-size:38px; text-anchor:start;\" transform=\"rotate(0, 317.443, 784.88)\" x=\"317.443\" y=\"784.88\">4</text>\n",
       "</g>\n",
       "<g clip-path=\"url(#clip6600)\">\n",
       "<text style=\"fill:#000000; fill-opacity:1; font-family:Arial,Helvetica Neue,Helvetica,sans-serif; font-size:48px; text-anchor:start;\" transform=\"rotate(0, 168.903, 532.672)\" x=\"168.903\" y=\"532.672\">1.0×10</text>\n",
       "</g>\n",
       "<g clip-path=\"url(#clip6600)\">\n",
       "<text style=\"fill:#000000; fill-opacity:1; font-family:Arial,Helvetica Neue,Helvetica,sans-serif; font-size:38px; text-anchor:start;\" transform=\"rotate(0, 317.443, 505.261)\" x=\"317.443\" y=\"505.261\">5</text>\n",
       "</g>\n",
       "<g clip-path=\"url(#clip6600)\">\n",
       "<text style=\"fill:#000000; fill-opacity:1; font-family:Arial,Helvetica Neue,Helvetica,sans-serif; font-size:48px; text-anchor:start;\" transform=\"rotate(0, 168.903, 253.052)\" x=\"168.903\" y=\"253.052\">1.2×10</text>\n",
       "</g>\n",
       "<g clip-path=\"url(#clip6600)\">\n",
       "<text style=\"fill:#000000; fill-opacity:1; font-family:Arial,Helvetica Neue,Helvetica,sans-serif; font-size:38px; text-anchor:start;\" transform=\"rotate(0, 317.443, 225.642)\" x=\"317.443\" y=\"225.642\">5</text>\n",
       "</g>\n",
       "<g clip-path=\"url(#clip6600)\">\n",
       "<text style=\"fill:#000000; fill-opacity:1; font-family:Arial,Helvetica Neue,Helvetica,sans-serif; font-size:84px; text-anchor:middle;\" transform=\"rotate(0, 1357.97, 73.2)\" x=\"1357.97\" y=\"73.2\">Scatter Plot Salary vs YearsExperience Rate</text>\n",
       "</g>\n",
       "<g clip-path=\"url(#clip6600)\">\n",
       "<text style=\"fill:#000000; fill-opacity:1; font-family:Arial,Helvetica Neue,Helvetica,sans-serif; font-size:66px; text-anchor:middle;\" transform=\"rotate(0, 1357.97, 1559.48)\" x=\"1357.97\" y=\"1559.48\">YearsExperience</text>\n",
       "</g>\n",
       "<g clip-path=\"url(#clip6600)\">\n",
       "<text style=\"fill:#000000; fill-opacity:1; font-family:Arial,Helvetica Neue,Helvetica,sans-serif; font-size:66px; text-anchor:middle;\" transform=\"rotate(-90, 89.2861, 773.647)\" x=\"89.2861\" y=\"773.647\">Salary</text>\n",
       "</g>\n",
       "<circle clip-path=\"url(#clip6602)\" cx=\"419.496\" cy=\"490.741\" r=\"14\" fill=\"#009af9\" fill-rule=\"evenodd\" fill-opacity=\"1\" stroke=\"#000000\" stroke-opacity=\"1\" stroke-width=\"3.2\"/>\n",
       "<circle clip-path=\"url(#clip6602)\" cx=\"513.344\" cy=\"1115.13\" r=\"14\" fill=\"#009af9\" fill-rule=\"evenodd\" fill-opacity=\"1\" stroke=\"#000000\" stroke-opacity=\"1\" stroke-width=\"3.2\"/>\n",
       "<circle clip-path=\"url(#clip6602)\" cx=\"607.191\" cy=\"983.891\" r=\"14\" fill=\"#009af9\" fill-rule=\"evenodd\" fill-opacity=\"1\" stroke=\"#000000\" stroke-opacity=\"1\" stroke-width=\"3.2\"/>\n",
       "<circle clip-path=\"url(#clip6602)\" cx=\"701.039\" cy=\"1006.04\" r=\"14\" fill=\"#009af9\" fill-rule=\"evenodd\" fill-opacity=\"1\" stroke=\"#000000\" stroke-opacity=\"1\" stroke-width=\"3.2\"/>\n",
       "<circle clip-path=\"url(#clip6602)\" cx=\"794.886\" cy=\"1052.65\" r=\"14\" fill=\"#009af9\" fill-rule=\"evenodd\" fill-opacity=\"1\" stroke=\"#000000\" stroke-opacity=\"1\" stroke-width=\"3.2\"/>\n",
       "<circle clip-path=\"url(#clip6602)\" cx=\"888.734\" cy=\"315.839\" r=\"14\" fill=\"#009af9\" fill-rule=\"evenodd\" fill-opacity=\"1\" stroke=\"#000000\" stroke-opacity=\"1\" stroke-width=\"3.2\"/>\n",
       "<circle clip-path=\"url(#clip6602)\" cx=\"982.582\" cy=\"624.455\" r=\"14\" fill=\"#009af9\" fill-rule=\"evenodd\" fill-opacity=\"1\" stroke=\"#000000\" stroke-opacity=\"1\" stroke-width=\"3.2\"/>\n",
       "<circle clip-path=\"url(#clip6602)\" cx=\"1076.43\" cy=\"1261.05\" r=\"14\" fill=\"#009af9\" fill-rule=\"evenodd\" fill-opacity=\"1\" stroke=\"#000000\" stroke-opacity=\"1\" stroke-width=\"3.2\"/>\n",
       "<circle clip-path=\"url(#clip6602)\" cx=\"1170.28\" cy=\"203.152\" r=\"14\" fill=\"#009af9\" fill-rule=\"evenodd\" fill-opacity=\"1\" stroke=\"#000000\" stroke-opacity=\"1\" stroke-width=\"3.2\"/>\n",
       "<circle clip-path=\"url(#clip6602)\" cx=\"1264.12\" cy=\"1066.09\" r=\"14\" fill=\"#009af9\" fill-rule=\"evenodd\" fill-opacity=\"1\" stroke=\"#000000\" stroke-opacity=\"1\" stroke-width=\"3.2\"/>\n",
       "<circle clip-path=\"url(#clip6602)\" cx=\"1357.97\" cy=\"1349.33\" r=\"14\" fill=\"#009af9\" fill-rule=\"evenodd\" fill-opacity=\"1\" stroke=\"#000000\" stroke-opacity=\"1\" stroke-width=\"3.2\"/>\n",
       "<circle clip-path=\"url(#clip6602)\" cx=\"1451.82\" cy=\"769.507\" r=\"14\" fill=\"#009af9\" fill-rule=\"evenodd\" fill-opacity=\"1\" stroke=\"#000000\" stroke-opacity=\"1\" stroke-width=\"3.2\"/>\n",
       "<circle clip-path=\"url(#clip6602)\" cx=\"1545.67\" cy=\"593.669\" r=\"14\" fill=\"#009af9\" fill-rule=\"evenodd\" fill-opacity=\"1\" stroke=\"#000000\" stroke-opacity=\"1\" stroke-width=\"3.2\"/>\n",
       "<circle clip-path=\"url(#clip6602)\" cx=\"1639.51\" cy=\"1107.48\" r=\"14\" fill=\"#009af9\" fill-rule=\"evenodd\" fill-opacity=\"1\" stroke=\"#000000\" stroke-opacity=\"1\" stroke-width=\"3.2\"/>\n",
       "<circle clip-path=\"url(#clip6602)\" cx=\"1733.36\" cy=\"1145.85\" r=\"14\" fill=\"#009af9\" fill-rule=\"evenodd\" fill-opacity=\"1\" stroke=\"#000000\" stroke-opacity=\"1\" stroke-width=\"3.2\"/>\n",
       "<circle clip-path=\"url(#clip6602)\" cx=\"1827.21\" cy=\"430.902\" r=\"14\" fill=\"#009af9\" fill-rule=\"evenodd\" fill-opacity=\"1\" stroke=\"#000000\" stroke-opacity=\"1\" stroke-width=\"3.2\"/>\n",
       "<circle clip-path=\"url(#clip6602)\" cx=\"1921.06\" cy=\"1298.52\" r=\"14\" fill=\"#009af9\" fill-rule=\"evenodd\" fill-opacity=\"1\" stroke=\"#000000\" stroke-opacity=\"1\" stroke-width=\"3.2\"/>\n",
       "<circle clip-path=\"url(#clip6602)\" cx=\"2014.9\" cy=\"1356.99\" r=\"14\" fill=\"#009af9\" fill-rule=\"evenodd\" fill-opacity=\"1\" stroke=\"#000000\" stroke-opacity=\"1\" stroke-width=\"3.2\"/>\n",
       "<circle clip-path=\"url(#clip6602)\" cx=\"2108.75\" cy=\"533.089\" r=\"14\" fill=\"#009af9\" fill-rule=\"evenodd\" fill-opacity=\"1\" stroke=\"#000000\" stroke-opacity=\"1\" stroke-width=\"3.2\"/>\n",
       "<circle clip-path=\"url(#clip6602)\" cx=\"2202.6\" cy=\"957.202\" r=\"14\" fill=\"#009af9\" fill-rule=\"evenodd\" fill-opacity=\"1\" stroke=\"#000000\" stroke-opacity=\"1\" stroke-width=\"3.2\"/>\n",
       "<circle clip-path=\"url(#clip6602)\" cx=\"2296.45\" cy=\"1110.73\" r=\"14\" fill=\"#009af9\" fill-rule=\"evenodd\" fill-opacity=\"1\" stroke=\"#000000\" stroke-opacity=\"1\" stroke-width=\"3.2\"/>\n",
       "<polyline clip-path=\"url(#clip6602)\" style=\"stroke:#e26f46; stroke-width:4; stroke-opacity:1; fill:none\" points=\"\n",
       "  419.496,498.829 513.344,1153.16 607.191,865.253 701.039,1113.9 794.886,943.772 888.734,459.57 982.582,642.781 1076.43,1362.54 1170.28,158.579 1264.12,1140.07 \n",
       "  1357.97,1244.76 1451.82,760.56 1545.67,747.474 1639.51,1048.46 1733.36,1113.9 1827.21,354.877 1921.06,1270.94 2014.9,1388.71 2108.75,603.522 2202.6,891.426 \n",
       "  2296.45,1009.2 \n",
       "  \"/>\n",
       "</svg>\n"
      ]
     },
     "execution_count": 25,
     "metadata": {},
     "output_type": "execute_result"
    }
   ],
   "source": [
    "plot!(ypredicted_train, label=\"fit_exact\")"
   ]
  },
  {
   "cell_type": "code",
   "execution_count": 26,
   "metadata": {},
   "outputs": [
    {
     "data": {
      "image/svg+xml": [
       "<?xml version=\"1.0\" encoding=\"utf-8\"?>\n",
       "<svg xmlns=\"http://www.w3.org/2000/svg\" xmlns:xlink=\"http://www.w3.org/1999/xlink\" width=\"600\" height=\"400\" viewBox=\"0 0 2400 1600\">\n",
       "<defs>\n",
       "  <clipPath id=\"clip7000\">\n",
       "    <rect x=\"0\" y=\"0\" width=\"2400\" height=\"1600\"/>\n",
       "  </clipPath>\n",
       "</defs>\n",
       "<path clip-path=\"url(#clip7000)\" d=\"\n",
       "M0 1600 L2400 1600 L2400 0 L0 0  Z\n",
       "  \" fill=\"#ffffff\" fill-rule=\"evenodd\" fill-opacity=\"1\"/>\n",
       "<defs>\n",
       "  <clipPath id=\"clip7001\">\n",
       "    <rect x=\"480\" y=\"0\" width=\"1681\" height=\"1600\"/>\n",
       "  </clipPath>\n",
       "</defs>\n",
       "<path clip-path=\"url(#clip7000)\" d=\"\n",
       "M363.188 1425.62 L2352.76 1425.62 L2352.76 121.675 L363.188 121.675  Z\n",
       "  \" fill=\"#ffffff\" fill-rule=\"evenodd\" fill-opacity=\"1\"/>\n",
       "<defs>\n",
       "  <clipPath id=\"clip7002\">\n",
       "    <rect x=\"363\" y=\"121\" width=\"1991\" height=\"1305\"/>\n",
       "  </clipPath>\n",
       "</defs>\n",
       "<polyline clip-path=\"url(#clip7002)\" style=\"stroke:#000000; stroke-width:2; stroke-opacity:0.1; fill:none\" points=\"\n",
       "  654.115,1425.62 654.115,121.675 \n",
       "  \"/>\n",
       "<polyline clip-path=\"url(#clip7002)\" style=\"stroke:#000000; stroke-width:2; stroke-opacity:0.1; fill:none\" points=\"\n",
       "  1123.35,1425.62 1123.35,121.675 \n",
       "  \"/>\n",
       "<polyline clip-path=\"url(#clip7002)\" style=\"stroke:#000000; stroke-width:2; stroke-opacity:0.1; fill:none\" points=\"\n",
       "  1592.59,1425.62 1592.59,121.675 \n",
       "  \"/>\n",
       "<polyline clip-path=\"url(#clip7002)\" style=\"stroke:#000000; stroke-width:2; stroke-opacity:0.1; fill:none\" points=\"\n",
       "  2061.83,1425.62 2061.83,121.675 \n",
       "  \"/>\n",
       "<polyline clip-path=\"url(#clip7002)\" style=\"stroke:#000000; stroke-width:2; stroke-opacity:0.1; fill:none\" points=\"\n",
       "  363.188,1355.75 2352.76,1355.75 \n",
       "  \"/>\n",
       "<polyline clip-path=\"url(#clip7002)\" style=\"stroke:#000000; stroke-width:2; stroke-opacity:0.1; fill:none\" points=\"\n",
       "  363.188,1065.14 2352.76,1065.14 \n",
       "  \"/>\n",
       "<polyline clip-path=\"url(#clip7002)\" style=\"stroke:#000000; stroke-width:2; stroke-opacity:0.1; fill:none\" points=\"\n",
       "  363.188,774.533 2352.76,774.533 \n",
       "  \"/>\n",
       "<polyline clip-path=\"url(#clip7002)\" style=\"stroke:#000000; stroke-width:2; stroke-opacity:0.1; fill:none\" points=\"\n",
       "  363.188,483.927 2352.76,483.927 \n",
       "  \"/>\n",
       "<polyline clip-path=\"url(#clip7002)\" style=\"stroke:#000000; stroke-width:2; stroke-opacity:0.1; fill:none\" points=\"\n",
       "  363.188,193.321 2352.76,193.321 \n",
       "  \"/>\n",
       "<polyline clip-path=\"url(#clip7000)\" style=\"stroke:#000000; stroke-width:4; stroke-opacity:1; fill:none\" points=\"\n",
       "  363.188,1425.62 2352.76,1425.62 \n",
       "  \"/>\n",
       "<polyline clip-path=\"url(#clip7000)\" style=\"stroke:#000000; stroke-width:4; stroke-opacity:1; fill:none\" points=\"\n",
       "  363.188,1425.62 363.188,121.675 \n",
       "  \"/>\n",
       "<polyline clip-path=\"url(#clip7000)\" style=\"stroke:#000000; stroke-width:4; stroke-opacity:1; fill:none\" points=\"\n",
       "  654.115,1425.62 654.115,1409.97 \n",
       "  \"/>\n",
       "<polyline clip-path=\"url(#clip7000)\" style=\"stroke:#000000; stroke-width:4; stroke-opacity:1; fill:none\" points=\"\n",
       "  1123.35,1425.62 1123.35,1409.97 \n",
       "  \"/>\n",
       "<polyline clip-path=\"url(#clip7000)\" style=\"stroke:#000000; stroke-width:4; stroke-opacity:1; fill:none\" points=\"\n",
       "  1592.59,1425.62 1592.59,1409.97 \n",
       "  \"/>\n",
       "<polyline clip-path=\"url(#clip7000)\" style=\"stroke:#000000; stroke-width:4; stroke-opacity:1; fill:none\" points=\"\n",
       "  2061.83,1425.62 2061.83,1409.97 \n",
       "  \"/>\n",
       "<polyline clip-path=\"url(#clip7000)\" style=\"stroke:#000000; stroke-width:4; stroke-opacity:1; fill:none\" points=\"\n",
       "  363.188,1355.75 387.062,1355.75 \n",
       "  \"/>\n",
       "<polyline clip-path=\"url(#clip7000)\" style=\"stroke:#000000; stroke-width:4; stroke-opacity:1; fill:none\" points=\"\n",
       "  363.188,1065.14 387.062,1065.14 \n",
       "  \"/>\n",
       "<polyline clip-path=\"url(#clip7000)\" style=\"stroke:#000000; stroke-width:4; stroke-opacity:1; fill:none\" points=\"\n",
       "  363.188,774.533 387.062,774.533 \n",
       "  \"/>\n",
       "<polyline clip-path=\"url(#clip7000)\" style=\"stroke:#000000; stroke-width:4; stroke-opacity:1; fill:none\" points=\"\n",
       "  363.188,483.927 387.062,483.927 \n",
       "  \"/>\n",
       "<polyline clip-path=\"url(#clip7000)\" style=\"stroke:#000000; stroke-width:4; stroke-opacity:1; fill:none\" points=\"\n",
       "  363.188,193.321 387.062,193.321 \n",
       "  \"/>\n",
       "<g clip-path=\"url(#clip7000)\">\n",
       "<text style=\"fill:#000000; fill-opacity:1; font-family:Arial,Helvetica Neue,Helvetica,sans-serif; font-size:48px; text-anchor:middle;\" transform=\"rotate(0, 654.115, 1479.62)\" x=\"654.115\" y=\"1479.62\">2</text>\n",
       "</g>\n",
       "<g clip-path=\"url(#clip7000)\">\n",
       "<text style=\"fill:#000000; fill-opacity:1; font-family:Arial,Helvetica Neue,Helvetica,sans-serif; font-size:48px; text-anchor:middle;\" transform=\"rotate(0, 1123.35, 1479.62)\" x=\"1123.35\" y=\"1479.62\">4</text>\n",
       "</g>\n",
       "<g clip-path=\"url(#clip7000)\">\n",
       "<text style=\"fill:#000000; fill-opacity:1; font-family:Arial,Helvetica Neue,Helvetica,sans-serif; font-size:48px; text-anchor:middle;\" transform=\"rotate(0, 1592.59, 1479.62)\" x=\"1592.59\" y=\"1479.62\">6</text>\n",
       "</g>\n",
       "<g clip-path=\"url(#clip7000)\">\n",
       "<text style=\"fill:#000000; fill-opacity:1; font-family:Arial,Helvetica Neue,Helvetica,sans-serif; font-size:48px; text-anchor:middle;\" transform=\"rotate(0, 2061.83, 1479.62)\" x=\"2061.83\" y=\"1479.62\">8</text>\n",
       "</g>\n",
       "<g clip-path=\"url(#clip7000)\">\n",
       "<text style=\"fill:#000000; fill-opacity:1; font-family:Arial,Helvetica Neue,Helvetica,sans-serif; font-size:48px; text-anchor:start;\" transform=\"rotate(0, 168.903, 1379.47)\" x=\"168.903\" y=\"1379.47\">4.0×10</text>\n",
       "</g>\n",
       "<g clip-path=\"url(#clip7000)\">\n",
       "<text style=\"fill:#000000; fill-opacity:1; font-family:Arial,Helvetica Neue,Helvetica,sans-serif; font-size:38px; text-anchor:start;\" transform=\"rotate(0, 317.443, 1352.06)\" x=\"317.443\" y=\"1352.06\">4</text>\n",
       "</g>\n",
       "<g clip-path=\"url(#clip7000)\">\n",
       "<text style=\"fill:#000000; fill-opacity:1; font-family:Arial,Helvetica Neue,Helvetica,sans-serif; font-size:48px; text-anchor:start;\" transform=\"rotate(0, 168.903, 1088.87)\" x=\"168.903\" y=\"1088.87\">6.0×10</text>\n",
       "</g>\n",
       "<g clip-path=\"url(#clip7000)\">\n",
       "<text style=\"fill:#000000; fill-opacity:1; font-family:Arial,Helvetica Neue,Helvetica,sans-serif; font-size:38px; text-anchor:start;\" transform=\"rotate(0, 317.443, 1061.46)\" x=\"317.443\" y=\"1061.46\">4</text>\n",
       "</g>\n",
       "<g clip-path=\"url(#clip7000)\">\n",
       "<text style=\"fill:#000000; fill-opacity:1; font-family:Arial,Helvetica Neue,Helvetica,sans-serif; font-size:48px; text-anchor:start;\" transform=\"rotate(0, 168.903, 798.261)\" x=\"168.903\" y=\"798.261\">8.0×10</text>\n",
       "</g>\n",
       "<g clip-path=\"url(#clip7000)\">\n",
       "<text style=\"fill:#000000; fill-opacity:1; font-family:Arial,Helvetica Neue,Helvetica,sans-serif; font-size:38px; text-anchor:start;\" transform=\"rotate(0, 317.443, 770.85)\" x=\"317.443\" y=\"770.85\">4</text>\n",
       "</g>\n",
       "<g clip-path=\"url(#clip7000)\">\n",
       "<text style=\"fill:#000000; fill-opacity:1; font-family:Arial,Helvetica Neue,Helvetica,sans-serif; font-size:48px; text-anchor:start;\" transform=\"rotate(0, 168.903, 507.655)\" x=\"168.903\" y=\"507.655\">1.0×10</text>\n",
       "</g>\n",
       "<g clip-path=\"url(#clip7000)\">\n",
       "<text style=\"fill:#000000; fill-opacity:1; font-family:Arial,Helvetica Neue,Helvetica,sans-serif; font-size:38px; text-anchor:start;\" transform=\"rotate(0, 317.443, 480.244)\" x=\"317.443\" y=\"480.244\">5</text>\n",
       "</g>\n",
       "<g clip-path=\"url(#clip7000)\">\n",
       "<text style=\"fill:#000000; fill-opacity:1; font-family:Arial,Helvetica Neue,Helvetica,sans-serif; font-size:48px; text-anchor:start;\" transform=\"rotate(0, 168.903, 217.049)\" x=\"168.903\" y=\"217.049\">1.2×10</text>\n",
       "</g>\n",
       "<g clip-path=\"url(#clip7000)\">\n",
       "<text style=\"fill:#000000; fill-opacity:1; font-family:Arial,Helvetica Neue,Helvetica,sans-serif; font-size:38px; text-anchor:start;\" transform=\"rotate(0, 317.443, 189.638)\" x=\"317.443\" y=\"189.638\">5</text>\n",
       "</g>\n",
       "<g clip-path=\"url(#clip7000)\">\n",
       "<text style=\"fill:#000000; fill-opacity:1; font-family:Arial,Helvetica Neue,Helvetica,sans-serif; font-size:84px; text-anchor:middle;\" transform=\"rotate(0, 1357.97, 73.2)\" x=\"1357.97\" y=\"73.2\">Scatter Plot Salary vs YearsExperience Rate</text>\n",
       "</g>\n",
       "<g clip-path=\"url(#clip7000)\">\n",
       "<text style=\"fill:#000000; fill-opacity:1; font-family:Arial,Helvetica Neue,Helvetica,sans-serif; font-size:66px; text-anchor:middle;\" transform=\"rotate(0, 1357.97, 1559.48)\" x=\"1357.97\" y=\"1559.48\">YearsExperience</text>\n",
       "</g>\n",
       "<g clip-path=\"url(#clip7000)\">\n",
       "<text style=\"fill:#000000; fill-opacity:1; font-family:Arial,Helvetica Neue,Helvetica,sans-serif; font-size:66px; text-anchor:middle;\" transform=\"rotate(-90, 89.2861, 773.647)\" x=\"89.2861\" y=\"773.647\">Salary</text>\n",
       "</g>\n",
       "<circle clip-path=\"url(#clip7002)\" cx=\"419.496\" cy=\"1388.71\" r=\"14\" fill=\"#009af9\" fill-rule=\"evenodd\" fill-opacity=\"1\" stroke=\"#000000\" stroke-opacity=\"1\" stroke-width=\"3.2\"/>\n",
       "<circle clip-path=\"url(#clip7002)\" cx=\"654.115\" cy=\"158.579\" r=\"14\" fill=\"#009af9\" fill-rule=\"evenodd\" fill-opacity=\"1\" stroke=\"#000000\" stroke-opacity=\"1\" stroke-width=\"3.2\"/>\n",
       "<circle clip-path=\"url(#clip7002)\" cx=\"888.734\" cy=\"1107.55\" r=\"14\" fill=\"#009af9\" fill-rule=\"evenodd\" fill-opacity=\"1\" stroke=\"#000000\" stroke-opacity=\"1\" stroke-width=\"3.2\"/>\n",
       "<circle clip-path=\"url(#clip7002)\" cx=\"1123.35\" cy=\"1018.38\" r=\"14\" fill=\"#009af9\" fill-rule=\"evenodd\" fill-opacity=\"1\" stroke=\"#000000\" stroke-opacity=\"1\" stroke-width=\"3.2\"/>\n",
       "<circle clip-path=\"url(#clip7002)\" cx=\"1357.97\" cy=\"237.362\" r=\"14\" fill=\"#009af9\" fill-rule=\"evenodd\" fill-opacity=\"1\" stroke=\"#000000\" stroke-opacity=\"1\" stroke-width=\"3.2\"/>\n",
       "<circle clip-path=\"url(#clip7002)\" cx=\"1592.59\" cy=\"346.892\" r=\"14\" fill=\"#009af9\" fill-rule=\"evenodd\" fill-opacity=\"1\" stroke=\"#000000\" stroke-opacity=\"1\" stroke-width=\"3.2\"/>\n",
       "<circle clip-path=\"url(#clip7002)\" cx=\"1827.21\" cy=\"300.337\" r=\"14\" fill=\"#009af9\" fill-rule=\"evenodd\" fill-opacity=\"1\" stroke=\"#000000\" stroke-opacity=\"1\" stroke-width=\"3.2\"/>\n",
       "<circle clip-path=\"url(#clip7002)\" cx=\"2061.83\" cy=\"1126.25\" r=\"14\" fill=\"#009af9\" fill-rule=\"evenodd\" fill-opacity=\"1\" stroke=\"#000000\" stroke-opacity=\"1\" stroke-width=\"3.2\"/>\n",
       "<circle clip-path=\"url(#clip7002)\" cx=\"2296.45\" cy=\"729.664\" r=\"14\" fill=\"#009af9\" fill-rule=\"evenodd\" fill-opacity=\"1\" stroke=\"#000000\" stroke-opacity=\"1\" stroke-width=\"3.2\"/>\n",
       "</svg>\n"
      ]
     },
     "execution_count": 26,
     "metadata": {},
     "output_type": "execute_result"
    }
   ],
   "source": [
    "# Scatter plot\n",
    "train_plot = Plots.scatter(y_test, title = \"Scatter Plot Salary vs YearsExperience Rate\", ylabel = \"Salary\", xlabel = \"YearsExperience\",legend = false)"
   ]
  },
  {
   "cell_type": "code",
   "execution_count": 27,
   "metadata": {},
   "outputs": [
    {
     "data": {
      "image/svg+xml": [
       "<?xml version=\"1.0\" encoding=\"utf-8\"?>\n",
       "<svg xmlns=\"http://www.w3.org/2000/svg\" xmlns:xlink=\"http://www.w3.org/1999/xlink\" width=\"600\" height=\"400\" viewBox=\"0 0 2400 1600\">\n",
       "<defs>\n",
       "  <clipPath id=\"clip7400\">\n",
       "    <rect x=\"0\" y=\"0\" width=\"2400\" height=\"1600\"/>\n",
       "  </clipPath>\n",
       "</defs>\n",
       "<path clip-path=\"url(#clip7400)\" d=\"\n",
       "M0 1600 L2400 1600 L2400 0 L0 0  Z\n",
       "  \" fill=\"#ffffff\" fill-rule=\"evenodd\" fill-opacity=\"1\"/>\n",
       "<defs>\n",
       "  <clipPath id=\"clip7401\">\n",
       "    <rect x=\"480\" y=\"0\" width=\"1681\" height=\"1600\"/>\n",
       "  </clipPath>\n",
       "</defs>\n",
       "<path clip-path=\"url(#clip7400)\" d=\"\n",
       "M363.188 1425.62 L2352.76 1425.62 L2352.76 121.675 L363.188 121.675  Z\n",
       "  \" fill=\"#ffffff\" fill-rule=\"evenodd\" fill-opacity=\"1\"/>\n",
       "<defs>\n",
       "  <clipPath id=\"clip7402\">\n",
       "    <rect x=\"363\" y=\"121\" width=\"1991\" height=\"1305\"/>\n",
       "  </clipPath>\n",
       "</defs>\n",
       "<polyline clip-path=\"url(#clip7402)\" style=\"stroke:#000000; stroke-width:2; stroke-opacity:0.1; fill:none\" points=\"\n",
       "  654.115,1425.62 654.115,121.675 \n",
       "  \"/>\n",
       "<polyline clip-path=\"url(#clip7402)\" style=\"stroke:#000000; stroke-width:2; stroke-opacity:0.1; fill:none\" points=\"\n",
       "  1123.35,1425.62 1123.35,121.675 \n",
       "  \"/>\n",
       "<polyline clip-path=\"url(#clip7402)\" style=\"stroke:#000000; stroke-width:2; stroke-opacity:0.1; fill:none\" points=\"\n",
       "  1592.59,1425.62 1592.59,121.675 \n",
       "  \"/>\n",
       "<polyline clip-path=\"url(#clip7402)\" style=\"stroke:#000000; stroke-width:2; stroke-opacity:0.1; fill:none\" points=\"\n",
       "  2061.83,1425.62 2061.83,121.675 \n",
       "  \"/>\n",
       "<polyline clip-path=\"url(#clip7402)\" style=\"stroke:#000000; stroke-width:2; stroke-opacity:0.1; fill:none\" points=\"\n",
       "  363.188,1356.05 2352.76,1356.05 \n",
       "  \"/>\n",
       "<polyline clip-path=\"url(#clip7402)\" style=\"stroke:#000000; stroke-width:2; stroke-opacity:0.1; fill:none\" points=\"\n",
       "  363.188,1068.16 2352.76,1068.16 \n",
       "  \"/>\n",
       "<polyline clip-path=\"url(#clip7402)\" style=\"stroke:#000000; stroke-width:2; stroke-opacity:0.1; fill:none\" points=\"\n",
       "  363.188,780.262 2352.76,780.262 \n",
       "  \"/>\n",
       "<polyline clip-path=\"url(#clip7402)\" style=\"stroke:#000000; stroke-width:2; stroke-opacity:0.1; fill:none\" points=\"\n",
       "  363.188,492.366 2352.76,492.366 \n",
       "  \"/>\n",
       "<polyline clip-path=\"url(#clip7402)\" style=\"stroke:#000000; stroke-width:2; stroke-opacity:0.1; fill:none\" points=\"\n",
       "  363.188,204.471 2352.76,204.471 \n",
       "  \"/>\n",
       "<polyline clip-path=\"url(#clip7400)\" style=\"stroke:#000000; stroke-width:4; stroke-opacity:1; fill:none\" points=\"\n",
       "  363.188,1425.62 2352.76,1425.62 \n",
       "  \"/>\n",
       "<polyline clip-path=\"url(#clip7400)\" style=\"stroke:#000000; stroke-width:4; stroke-opacity:1; fill:none\" points=\"\n",
       "  363.188,1425.62 363.188,121.675 \n",
       "  \"/>\n",
       "<polyline clip-path=\"url(#clip7400)\" style=\"stroke:#000000; stroke-width:4; stroke-opacity:1; fill:none\" points=\"\n",
       "  654.115,1425.62 654.115,1409.97 \n",
       "  \"/>\n",
       "<polyline clip-path=\"url(#clip7400)\" style=\"stroke:#000000; stroke-width:4; stroke-opacity:1; fill:none\" points=\"\n",
       "  1123.35,1425.62 1123.35,1409.97 \n",
       "  \"/>\n",
       "<polyline clip-path=\"url(#clip7400)\" style=\"stroke:#000000; stroke-width:4; stroke-opacity:1; fill:none\" points=\"\n",
       "  1592.59,1425.62 1592.59,1409.97 \n",
       "  \"/>\n",
       "<polyline clip-path=\"url(#clip7400)\" style=\"stroke:#000000; stroke-width:4; stroke-opacity:1; fill:none\" points=\"\n",
       "  2061.83,1425.62 2061.83,1409.97 \n",
       "  \"/>\n",
       "<polyline clip-path=\"url(#clip7400)\" style=\"stroke:#000000; stroke-width:4; stroke-opacity:1; fill:none\" points=\"\n",
       "  363.188,1356.05 387.062,1356.05 \n",
       "  \"/>\n",
       "<polyline clip-path=\"url(#clip7400)\" style=\"stroke:#000000; stroke-width:4; stroke-opacity:1; fill:none\" points=\"\n",
       "  363.188,1068.16 387.062,1068.16 \n",
       "  \"/>\n",
       "<polyline clip-path=\"url(#clip7400)\" style=\"stroke:#000000; stroke-width:4; stroke-opacity:1; fill:none\" points=\"\n",
       "  363.188,780.262 387.062,780.262 \n",
       "  \"/>\n",
       "<polyline clip-path=\"url(#clip7400)\" style=\"stroke:#000000; stroke-width:4; stroke-opacity:1; fill:none\" points=\"\n",
       "  363.188,492.366 387.062,492.366 \n",
       "  \"/>\n",
       "<polyline clip-path=\"url(#clip7400)\" style=\"stroke:#000000; stroke-width:4; stroke-opacity:1; fill:none\" points=\"\n",
       "  363.188,204.471 387.062,204.471 \n",
       "  \"/>\n",
       "<g clip-path=\"url(#clip7400)\">\n",
       "<text style=\"fill:#000000; fill-opacity:1; font-family:Arial,Helvetica Neue,Helvetica,sans-serif; font-size:48px; text-anchor:middle;\" transform=\"rotate(0, 654.115, 1479.62)\" x=\"654.115\" y=\"1479.62\">2</text>\n",
       "</g>\n",
       "<g clip-path=\"url(#clip7400)\">\n",
       "<text style=\"fill:#000000; fill-opacity:1; font-family:Arial,Helvetica Neue,Helvetica,sans-serif; font-size:48px; text-anchor:middle;\" transform=\"rotate(0, 1123.35, 1479.62)\" x=\"1123.35\" y=\"1479.62\">4</text>\n",
       "</g>\n",
       "<g clip-path=\"url(#clip7400)\">\n",
       "<text style=\"fill:#000000; fill-opacity:1; font-family:Arial,Helvetica Neue,Helvetica,sans-serif; font-size:48px; text-anchor:middle;\" transform=\"rotate(0, 1592.59, 1479.62)\" x=\"1592.59\" y=\"1479.62\">6</text>\n",
       "</g>\n",
       "<g clip-path=\"url(#clip7400)\">\n",
       "<text style=\"fill:#000000; fill-opacity:1; font-family:Arial,Helvetica Neue,Helvetica,sans-serif; font-size:48px; text-anchor:middle;\" transform=\"rotate(0, 2061.83, 1479.62)\" x=\"2061.83\" y=\"1479.62\">8</text>\n",
       "</g>\n",
       "<g clip-path=\"url(#clip7400)\">\n",
       "<text style=\"fill:#000000; fill-opacity:1; font-family:Arial,Helvetica Neue,Helvetica,sans-serif; font-size:48px; text-anchor:start;\" transform=\"rotate(0, 168.903, 1379.78)\" x=\"168.903\" y=\"1379.78\">4.0×10</text>\n",
       "</g>\n",
       "<g clip-path=\"url(#clip7400)\">\n",
       "<text style=\"fill:#000000; fill-opacity:1; font-family:Arial,Helvetica Neue,Helvetica,sans-serif; font-size:38px; text-anchor:start;\" transform=\"rotate(0, 317.443, 1352.37)\" x=\"317.443\" y=\"1352.37\">4</text>\n",
       "</g>\n",
       "<g clip-path=\"url(#clip7400)\">\n",
       "<text style=\"fill:#000000; fill-opacity:1; font-family:Arial,Helvetica Neue,Helvetica,sans-serif; font-size:48px; text-anchor:start;\" transform=\"rotate(0, 168.903, 1091.88)\" x=\"168.903\" y=\"1091.88\">6.0×10</text>\n",
       "</g>\n",
       "<g clip-path=\"url(#clip7400)\">\n",
       "<text style=\"fill:#000000; fill-opacity:1; font-family:Arial,Helvetica Neue,Helvetica,sans-serif; font-size:38px; text-anchor:start;\" transform=\"rotate(0, 317.443, 1064.47)\" x=\"317.443\" y=\"1064.47\">4</text>\n",
       "</g>\n",
       "<g clip-path=\"url(#clip7400)\">\n",
       "<text style=\"fill:#000000; fill-opacity:1; font-family:Arial,Helvetica Neue,Helvetica,sans-serif; font-size:48px; text-anchor:start;\" transform=\"rotate(0, 168.903, 803.989)\" x=\"168.903\" y=\"803.989\">8.0×10</text>\n",
       "</g>\n",
       "<g clip-path=\"url(#clip7400)\">\n",
       "<text style=\"fill:#000000; fill-opacity:1; font-family:Arial,Helvetica Neue,Helvetica,sans-serif; font-size:38px; text-anchor:start;\" transform=\"rotate(0, 317.443, 776.579)\" x=\"317.443\" y=\"776.579\">4</text>\n",
       "</g>\n",
       "<g clip-path=\"url(#clip7400)\">\n",
       "<text style=\"fill:#000000; fill-opacity:1; font-family:Arial,Helvetica Neue,Helvetica,sans-serif; font-size:48px; text-anchor:start;\" transform=\"rotate(0, 168.903, 516.094)\" x=\"168.903\" y=\"516.094\">1.0×10</text>\n",
       "</g>\n",
       "<g clip-path=\"url(#clip7400)\">\n",
       "<text style=\"fill:#000000; fill-opacity:1; font-family:Arial,Helvetica Neue,Helvetica,sans-serif; font-size:38px; text-anchor:start;\" transform=\"rotate(0, 317.443, 488.684)\" x=\"317.443\" y=\"488.684\">5</text>\n",
       "</g>\n",
       "<g clip-path=\"url(#clip7400)\">\n",
       "<text style=\"fill:#000000; fill-opacity:1; font-family:Arial,Helvetica Neue,Helvetica,sans-serif; font-size:48px; text-anchor:start;\" transform=\"rotate(0, 168.903, 228.199)\" x=\"168.903\" y=\"228.199\">1.2×10</text>\n",
       "</g>\n",
       "<g clip-path=\"url(#clip7400)\">\n",
       "<text style=\"fill:#000000; fill-opacity:1; font-family:Arial,Helvetica Neue,Helvetica,sans-serif; font-size:38px; text-anchor:start;\" transform=\"rotate(0, 317.443, 200.788)\" x=\"317.443\" y=\"200.788\">5</text>\n",
       "</g>\n",
       "<g clip-path=\"url(#clip7400)\">\n",
       "<text style=\"fill:#000000; fill-opacity:1; font-family:Arial,Helvetica Neue,Helvetica,sans-serif; font-size:84px; text-anchor:middle;\" transform=\"rotate(0, 1357.97, 73.2)\" x=\"1357.97\" y=\"73.2\">Scatter Plot Salary vs YearsExperience Rate</text>\n",
       "</g>\n",
       "<g clip-path=\"url(#clip7400)\">\n",
       "<text style=\"fill:#000000; fill-opacity:1; font-family:Arial,Helvetica Neue,Helvetica,sans-serif; font-size:66px; text-anchor:middle;\" transform=\"rotate(0, 1357.97, 1559.48)\" x=\"1357.97\" y=\"1559.48\">YearsExperience</text>\n",
       "</g>\n",
       "<g clip-path=\"url(#clip7400)\">\n",
       "<text style=\"fill:#000000; fill-opacity:1; font-family:Arial,Helvetica Neue,Helvetica,sans-serif; font-size:66px; text-anchor:middle;\" transform=\"rotate(-90, 89.2861, 773.647)\" x=\"89.2861\" y=\"773.647\">Salary</text>\n",
       "</g>\n",
       "<circle clip-path=\"url(#clip7402)\" cx=\"419.496\" cy=\"1388.71\" r=\"14\" fill=\"#009af9\" fill-rule=\"evenodd\" fill-opacity=\"1\" stroke=\"#000000\" stroke-opacity=\"1\" stroke-width=\"3.2\"/>\n",
       "<circle clip-path=\"url(#clip7402)\" cx=\"654.115\" cy=\"170.053\" r=\"14\" fill=\"#009af9\" fill-rule=\"evenodd\" fill-opacity=\"1\" stroke=\"#000000\" stroke-opacity=\"1\" stroke-width=\"3.2\"/>\n",
       "<circle clip-path=\"url(#clip7402)\" cx=\"888.734\" cy=\"1110.18\" r=\"14\" fill=\"#009af9\" fill-rule=\"evenodd\" fill-opacity=\"1\" stroke=\"#000000\" stroke-opacity=\"1\" stroke-width=\"3.2\"/>\n",
       "<circle clip-path=\"url(#clip7402)\" cx=\"1123.35\" cy=\"1021.83\" r=\"14\" fill=\"#009af9\" fill-rule=\"evenodd\" fill-opacity=\"1\" stroke=\"#000000\" stroke-opacity=\"1\" stroke-width=\"3.2\"/>\n",
       "<circle clip-path=\"url(#clip7402)\" cx=\"1357.97\" cy=\"248.101\" r=\"14\" fill=\"#009af9\" fill-rule=\"evenodd\" fill-opacity=\"1\" stroke=\"#000000\" stroke-opacity=\"1\" stroke-width=\"3.2\"/>\n",
       "<circle clip-path=\"url(#clip7402)\" cx=\"1592.59\" cy=\"356.609\" r=\"14\" fill=\"#009af9\" fill-rule=\"evenodd\" fill-opacity=\"1\" stroke=\"#000000\" stroke-opacity=\"1\" stroke-width=\"3.2\"/>\n",
       "<circle clip-path=\"url(#clip7402)\" cx=\"1827.21\" cy=\"310.488\" r=\"14\" fill=\"#009af9\" fill-rule=\"evenodd\" fill-opacity=\"1\" stroke=\"#000000\" stroke-opacity=\"1\" stroke-width=\"3.2\"/>\n",
       "<circle clip-path=\"url(#clip7402)\" cx=\"2061.83\" cy=\"1128.7\" r=\"14\" fill=\"#009af9\" fill-rule=\"evenodd\" fill-opacity=\"1\" stroke=\"#000000\" stroke-opacity=\"1\" stroke-width=\"3.2\"/>\n",
       "<circle clip-path=\"url(#clip7402)\" cx=\"2296.45\" cy=\"735.811\" r=\"14\" fill=\"#009af9\" fill-rule=\"evenodd\" fill-opacity=\"1\" stroke=\"#000000\" stroke-opacity=\"1\" stroke-width=\"3.2\"/>\n",
       "<polyline clip-path=\"url(#clip7402)\" style=\"stroke:#e26f46; stroke-width:4; stroke-opacity:1; fill:none\" points=\"\n",
       "  419.496,1344.28 654.115,158.579 888.734,993.96 1123.35,1020.91 1357.97,266.37 1592.59,374.161 1827.21,252.896 2061.83,1007.43 2296.45,832.273 \n",
       "  \"/>\n",
       "</svg>\n"
      ]
     },
     "execution_count": 27,
     "metadata": {},
     "output_type": "execute_result"
    }
   ],
   "source": [
    "plot!(ypredicted_test, label=\"fit_exact\")"
   ]
  },
  {
   "cell_type": "code",
   "execution_count": 28,
   "metadata": {},
   "outputs": [
    {
     "name": "stderr",
     "output_type": "stream",
     "text": [
      "WARNING: using GLM.predict in module Main conflicts with an existing identifier.\n"
     ]
    }
   ],
   "source": [
    "using GLM "
   ]
  },
  {
   "cell_type": "code",
   "execution_count": 29,
   "metadata": {},
   "outputs": [
    {
     "data": {
      "text/html": [
       "<table class=\"data-frame\"><thead><tr><th></th><th>YearsExperience</th><th>Salary</th></tr><tr><th></th><th>Float64</th><th>Float64</th></tr></thead><tbody><p>30 rows × 2 columns</p><tr><th>1</th><td>1.1</td><td>39343.0</td></tr><tr><th>2</th><td>1.3</td><td>46205.0</td></tr><tr><th>3</th><td>1.5</td><td>37731.0</td></tr><tr><th>4</th><td>2.0</td><td>43525.0</td></tr><tr><th>5</th><td>2.2</td><td>39891.0</td></tr><tr><th>6</th><td>2.9</td><td>56642.0</td></tr><tr><th>7</th><td>3.0</td><td>60150.0</td></tr><tr><th>8</th><td>3.2</td><td>54445.0</td></tr><tr><th>9</th><td>3.2</td><td>64445.0</td></tr><tr><th>10</th><td>3.7</td><td>57189.0</td></tr><tr><th>11</th><td>3.9</td><td>63218.0</td></tr><tr><th>12</th><td>4.0</td><td>55794.0</td></tr><tr><th>13</th><td>4.0</td><td>56957.0</td></tr><tr><th>14</th><td>4.1</td><td>57081.0</td></tr><tr><th>15</th><td>4.5</td><td>61111.0</td></tr><tr><th>16</th><td>4.9</td><td>67938.0</td></tr><tr><th>17</th><td>5.1</td><td>66029.0</td></tr><tr><th>18</th><td>5.3</td><td>83088.0</td></tr><tr><th>19</th><td>5.9</td><td>81363.0</td></tr><tr><th>20</th><td>6.0</td><td>93940.0</td></tr><tr><th>21</th><td>6.8</td><td>91738.0</td></tr><tr><th>22</th><td>7.1</td><td>98273.0</td></tr><tr><th>23</th><td>7.9</td><td>101302.0</td></tr><tr><th>24</th><td>8.2</td><td>113812.0</td></tr><tr><th>25</th><td>8.7</td><td>109431.0</td></tr><tr><th>26</th><td>9.0</td><td>105582.0</td></tr><tr><th>27</th><td>9.5</td><td>116969.0</td></tr><tr><th>28</th><td>9.6</td><td>112635.0</td></tr><tr><th>29</th><td>10.3</td><td>122391.0</td></tr><tr><th>30</th><td>10.5</td><td>121872.0</td></tr></tbody></table>"
      ],
      "text/latex": [
       "\\begin{tabular}{r|cc}\n",
       "\t& YearsExperience & Salary\\\\\n",
       "\t\\hline\n",
       "\t& Float64 & Float64\\\\\n",
       "\t\\hline\n",
       "\t1 & 1.1 & 39343.0 \\\\\n",
       "\t2 & 1.3 & 46205.0 \\\\\n",
       "\t3 & 1.5 & 37731.0 \\\\\n",
       "\t4 & 2.0 & 43525.0 \\\\\n",
       "\t5 & 2.2 & 39891.0 \\\\\n",
       "\t6 & 2.9 & 56642.0 \\\\\n",
       "\t7 & 3.0 & 60150.0 \\\\\n",
       "\t8 & 3.2 & 54445.0 \\\\\n",
       "\t9 & 3.2 & 64445.0 \\\\\n",
       "\t10 & 3.7 & 57189.0 \\\\\n",
       "\t11 & 3.9 & 63218.0 \\\\\n",
       "\t12 & 4.0 & 55794.0 \\\\\n",
       "\t13 & 4.0 & 56957.0 \\\\\n",
       "\t14 & 4.1 & 57081.0 \\\\\n",
       "\t15 & 4.5 & 61111.0 \\\\\n",
       "\t16 & 4.9 & 67938.0 \\\\\n",
       "\t17 & 5.1 & 66029.0 \\\\\n",
       "\t18 & 5.3 & 83088.0 \\\\\n",
       "\t19 & 5.9 & 81363.0 \\\\\n",
       "\t20 & 6.0 & 93940.0 \\\\\n",
       "\t21 & 6.8 & 91738.0 \\\\\n",
       "\t22 & 7.1 & 98273.0 \\\\\n",
       "\t23 & 7.9 & 101302.0 \\\\\n",
       "\t24 & 8.2 & 113812.0 \\\\\n",
       "\t25 & 8.7 & 109431.0 \\\\\n",
       "\t26 & 9.0 & 105582.0 \\\\\n",
       "\t27 & 9.5 & 116969.0 \\\\\n",
       "\t28 & 9.6 & 112635.0 \\\\\n",
       "\t29 & 10.3 & 122391.0 \\\\\n",
       "\t30 & 10.5 & 121872.0 \\\\\n",
       "\\end{tabular}\n"
      ],
      "text/plain": [
       "30×2 DataFrame\n",
       "│ Row │ YearsExperience │ Salary   │\n",
       "│     │ \u001b[90mFloat64\u001b[39m         │ \u001b[90mFloat64\u001b[39m  │\n",
       "├─────┼─────────────────┼──────────┤\n",
       "│ 1   │ 1.1             │ 39343.0  │\n",
       "│ 2   │ 1.3             │ 46205.0  │\n",
       "│ 3   │ 1.5             │ 37731.0  │\n",
       "│ 4   │ 2.0             │ 43525.0  │\n",
       "│ 5   │ 2.2             │ 39891.0  │\n",
       "│ 6   │ 2.9             │ 56642.0  │\n",
       "│ 7   │ 3.0             │ 60150.0  │\n",
       "│ 8   │ 3.2             │ 54445.0  │\n",
       "│ 9   │ 3.2             │ 64445.0  │\n",
       "│ 10  │ 3.7             │ 57189.0  │\n",
       "⋮\n",
       "│ 20  │ 6.0             │ 93940.0  │\n",
       "│ 21  │ 6.8             │ 91738.0  │\n",
       "│ 22  │ 7.1             │ 98273.0  │\n",
       "│ 23  │ 7.9             │ 101302.0 │\n",
       "│ 24  │ 8.2             │ 113812.0 │\n",
       "│ 25  │ 8.7             │ 109431.0 │\n",
       "│ 26  │ 9.0             │ 105582.0 │\n",
       "│ 27  │ 9.5             │ 116969.0 │\n",
       "│ 28  │ 9.6             │ 112635.0 │\n",
       "│ 29  │ 10.3            │ 122391.0 │\n",
       "│ 30  │ 10.5            │ 121872.0 │"
      ]
     },
     "execution_count": 29,
     "metadata": {},
     "output_type": "execute_result"
    }
   ],
   "source": [
    "df "
   ]
  },
  {
   "cell_type": "code",
   "execution_count": 30,
   "metadata": {},
   "outputs": [
    {
     "data": {
      "text/plain": [
       "StatsModels.TableRegressionModel{LinearModel{GLM.LmResp{Array{Float64,1}},GLM.DensePredChol{Float64,LinearAlgebra.Cholesky{Float64,Array{Float64,2}}}},Array{Float64,2}}\n",
       "\n",
       "Salary ~ 1 + YearsExperience\n",
       "\n",
       "Coefficients:\n",
       "────────────────────────────────────────────────────────────────────────────\n",
       "                    Coef.  Std. Error      t  Pr(>|t|)  Lower 95%  Upper 95%\n",
       "────────────────────────────────────────────────────────────────────────────\n",
       "(Intercept)      25792.2     2273.05   11.35    <1e-11   21136.1     30448.3\n",
       "YearsExperience   9449.96     378.755  24.95    <1e-19    8674.12    10225.8\n",
       "────────────────────────────────────────────────────────────────────────────"
      ]
     },
     "execution_count": 30,
     "metadata": {},
     "output_type": "execute_result"
    }
   ],
   "source": [
    "ols=lm(@formula(Salary ~ YearsExperience), df)"
   ]
  },
  {
   "cell_type": "code",
   "execution_count": 31,
   "metadata": {},
   "outputs": [
    {
     "data": {
      "text/plain": [
       "2-element Array{Float64,1}:\n",
       " 2273.05343\n",
       "  378.75457"
      ]
     },
     "execution_count": 31,
     "metadata": {},
     "output_type": "execute_result"
    }
   ],
   "source": [
    "round.(stderror(ols), digits=5)"
   ]
  },
  {
   "cell_type": "markdown",
   "metadata": {},
   "source": [
    "# Multiple Linear Regression"
   ]
  },
  {
   "cell_type": "markdown",
   "metadata": {},
   "source": [
    "We can do this by giving each predictor a separate slope coefficient in a single model. In general, suppose that we have p distinct predictors. Then the multiple linear regression model takes the form"
   ]
  },
  {
   "cell_type": "markdown",
   "metadata": {},
   "source": [
    "    Y = β0 +β1X1 +β2X2 +···+βpXp +ε"
   ]
  },
  {
   "cell_type": "markdown",
   "metadata": {},
   "source": [
    "where Xj represents the jth predictor and βj quantifies the association between that variable and the response. We interpret βj as the average effect on Y of a one unit increase in Xj, holding all other predictors fixed. \n",
    "\n",
    "In the advertising example the above eqaution becomes"
   ]
  },
  {
   "cell_type": "markdown",
   "metadata": {},
   "source": [
    "    sales=β0 +β1 ×TV+β2 ×radio+β3 ×newspaper+ε."
   ]
  },
  {
   "cell_type": "markdown",
   "metadata": {},
   "source": [
    "The parameters are estimated using the same least squares approach that we saw in the context of simple linear regression. We choose β0, β1, . . . , βp to minimize the sum of squared residuals"
   ]
  },
  {
   "cell_type": "code",
   "execution_count": 32,
   "metadata": {},
   "outputs": [],
   "source": [
    "using DataFrames, GLM, RDatasets"
   ]
  },
  {
   "cell_type": "code",
   "execution_count": 33,
   "metadata": {},
   "outputs": [
    {
     "data": {
      "text/html": [
       "<table class=\"data-frame\"><thead><tr><th></th><th>Country</th><th>SR</th><th>Pop15</th><th>Pop75</th><th>DPI</th><th>DDPI</th></tr><tr><th></th><th>String</th><th>Float64</th><th>Float64</th><th>Float64</th><th>Float64</th><th>Float64</th></tr></thead><tbody><p>50 rows × 6 columns</p><tr><th>1</th><td>Australia</td><td>11.43</td><td>29.35</td><td>2.87</td><td>2329.68</td><td>2.87</td></tr><tr><th>2</th><td>Austria</td><td>12.07</td><td>23.32</td><td>4.41</td><td>1507.99</td><td>3.93</td></tr><tr><th>3</th><td>Belgium</td><td>13.17</td><td>23.8</td><td>4.43</td><td>2108.47</td><td>3.82</td></tr><tr><th>4</th><td>Bolivia</td><td>5.75</td><td>41.89</td><td>1.67</td><td>189.13</td><td>0.22</td></tr><tr><th>5</th><td>Brazil</td><td>12.88</td><td>42.19</td><td>0.83</td><td>728.47</td><td>4.56</td></tr><tr><th>6</th><td>Canada</td><td>8.79</td><td>31.72</td><td>2.85</td><td>2982.88</td><td>2.43</td></tr><tr><th>7</th><td>Chile</td><td>0.6</td><td>39.74</td><td>1.34</td><td>662.86</td><td>2.67</td></tr><tr><th>8</th><td>China</td><td>11.9</td><td>44.75</td><td>0.67</td><td>289.52</td><td>6.51</td></tr><tr><th>9</th><td>Colombia</td><td>4.98</td><td>46.64</td><td>1.06</td><td>276.65</td><td>3.08</td></tr><tr><th>10</th><td>Costa Rica</td><td>10.78</td><td>47.64</td><td>1.14</td><td>471.24</td><td>2.8</td></tr><tr><th>11</th><td>Denmark</td><td>16.85</td><td>24.42</td><td>3.93</td><td>2496.53</td><td>3.99</td></tr><tr><th>12</th><td>Ecuador</td><td>3.59</td><td>46.31</td><td>1.19</td><td>287.77</td><td>2.19</td></tr><tr><th>13</th><td>Finland</td><td>11.24</td><td>27.84</td><td>2.37</td><td>1681.25</td><td>4.32</td></tr><tr><th>14</th><td>France</td><td>12.64</td><td>25.06</td><td>4.7</td><td>2213.82</td><td>4.52</td></tr><tr><th>15</th><td>Germany</td><td>12.55</td><td>23.31</td><td>3.35</td><td>2457.12</td><td>3.44</td></tr><tr><th>16</th><td>Greece</td><td>10.67</td><td>25.62</td><td>3.1</td><td>870.85</td><td>6.28</td></tr><tr><th>17</th><td>Guatamala</td><td>3.01</td><td>46.05</td><td>0.87</td><td>289.71</td><td>1.48</td></tr><tr><th>18</th><td>Honduras</td><td>7.7</td><td>47.32</td><td>0.58</td><td>232.44</td><td>3.19</td></tr><tr><th>19</th><td>Iceland</td><td>1.27</td><td>34.03</td><td>3.08</td><td>1900.1</td><td>1.12</td></tr><tr><th>20</th><td>India</td><td>9.0</td><td>41.31</td><td>0.96</td><td>88.94</td><td>1.54</td></tr><tr><th>21</th><td>Ireland</td><td>11.34</td><td>31.16</td><td>4.19</td><td>1139.95</td><td>2.99</td></tr><tr><th>22</th><td>Italy</td><td>14.28</td><td>24.52</td><td>3.48</td><td>1390.0</td><td>3.54</td></tr><tr><th>23</th><td>Japan</td><td>21.1</td><td>27.01</td><td>1.91</td><td>1257.28</td><td>8.21</td></tr><tr><th>24</th><td>Korea</td><td>3.98</td><td>41.74</td><td>0.91</td><td>207.68</td><td>5.81</td></tr><tr><th>25</th><td>Luxembourg</td><td>10.35</td><td>21.8</td><td>3.73</td><td>2449.39</td><td>1.57</td></tr><tr><th>26</th><td>Malta</td><td>15.48</td><td>32.54</td><td>2.47</td><td>601.05</td><td>8.12</td></tr><tr><th>27</th><td>Norway</td><td>10.25</td><td>25.95</td><td>3.67</td><td>2231.03</td><td>3.62</td></tr><tr><th>28</th><td>Netherlands</td><td>14.65</td><td>24.71</td><td>3.25</td><td>1740.7</td><td>7.66</td></tr><tr><th>29</th><td>New Zealand</td><td>10.67</td><td>32.61</td><td>3.17</td><td>1487.52</td><td>1.76</td></tr><tr><th>30</th><td>Nicaragua</td><td>7.3</td><td>45.04</td><td>1.21</td><td>325.54</td><td>2.48</td></tr><tr><th>&vellip;</th><td>&vellip;</td><td>&vellip;</td><td>&vellip;</td><td>&vellip;</td><td>&vellip;</td><td>&vellip;</td></tr></tbody></table>"
      ],
      "text/latex": [
       "\\begin{tabular}{r|cccccc}\n",
       "\t& Country & SR & Pop15 & Pop75 & DPI & DDPI\\\\\n",
       "\t\\hline\n",
       "\t& String & Float64 & Float64 & Float64 & Float64 & Float64\\\\\n",
       "\t\\hline\n",
       "\t1 & Australia & 11.43 & 29.35 & 2.87 & 2329.68 & 2.87 \\\\\n",
       "\t2 & Austria & 12.07 & 23.32 & 4.41 & 1507.99 & 3.93 \\\\\n",
       "\t3 & Belgium & 13.17 & 23.8 & 4.43 & 2108.47 & 3.82 \\\\\n",
       "\t4 & Bolivia & 5.75 & 41.89 & 1.67 & 189.13 & 0.22 \\\\\n",
       "\t5 & Brazil & 12.88 & 42.19 & 0.83 & 728.47 & 4.56 \\\\\n",
       "\t6 & Canada & 8.79 & 31.72 & 2.85 & 2982.88 & 2.43 \\\\\n",
       "\t7 & Chile & 0.6 & 39.74 & 1.34 & 662.86 & 2.67 \\\\\n",
       "\t8 & China & 11.9 & 44.75 & 0.67 & 289.52 & 6.51 \\\\\n",
       "\t9 & Colombia & 4.98 & 46.64 & 1.06 & 276.65 & 3.08 \\\\\n",
       "\t10 & Costa Rica & 10.78 & 47.64 & 1.14 & 471.24 & 2.8 \\\\\n",
       "\t11 & Denmark & 16.85 & 24.42 & 3.93 & 2496.53 & 3.99 \\\\\n",
       "\t12 & Ecuador & 3.59 & 46.31 & 1.19 & 287.77 & 2.19 \\\\\n",
       "\t13 & Finland & 11.24 & 27.84 & 2.37 & 1681.25 & 4.32 \\\\\n",
       "\t14 & France & 12.64 & 25.06 & 4.7 & 2213.82 & 4.52 \\\\\n",
       "\t15 & Germany & 12.55 & 23.31 & 3.35 & 2457.12 & 3.44 \\\\\n",
       "\t16 & Greece & 10.67 & 25.62 & 3.1 & 870.85 & 6.28 \\\\\n",
       "\t17 & Guatamala & 3.01 & 46.05 & 0.87 & 289.71 & 1.48 \\\\\n",
       "\t18 & Honduras & 7.7 & 47.32 & 0.58 & 232.44 & 3.19 \\\\\n",
       "\t19 & Iceland & 1.27 & 34.03 & 3.08 & 1900.1 & 1.12 \\\\\n",
       "\t20 & India & 9.0 & 41.31 & 0.96 & 88.94 & 1.54 \\\\\n",
       "\t21 & Ireland & 11.34 & 31.16 & 4.19 & 1139.95 & 2.99 \\\\\n",
       "\t22 & Italy & 14.28 & 24.52 & 3.48 & 1390.0 & 3.54 \\\\\n",
       "\t23 & Japan & 21.1 & 27.01 & 1.91 & 1257.28 & 8.21 \\\\\n",
       "\t24 & Korea & 3.98 & 41.74 & 0.91 & 207.68 & 5.81 \\\\\n",
       "\t25 & Luxembourg & 10.35 & 21.8 & 3.73 & 2449.39 & 1.57 \\\\\n",
       "\t26 & Malta & 15.48 & 32.54 & 2.47 & 601.05 & 8.12 \\\\\n",
       "\t27 & Norway & 10.25 & 25.95 & 3.67 & 2231.03 & 3.62 \\\\\n",
       "\t28 & Netherlands & 14.65 & 24.71 & 3.25 & 1740.7 & 7.66 \\\\\n",
       "\t29 & New Zealand & 10.67 & 32.61 & 3.17 & 1487.52 & 1.76 \\\\\n",
       "\t30 & Nicaragua & 7.3 & 45.04 & 1.21 & 325.54 & 2.48 \\\\\n",
       "\t$\\dots$ & $\\dots$ & $\\dots$ & $\\dots$ & $\\dots$ & $\\dots$ & $\\dots$ \\\\\n",
       "\\end{tabular}\n"
      ],
      "text/plain": [
       "50×6 DataFrame\n",
       "│ Row │ Country        │ SR      │ Pop15   │ Pop75   │ DPI     │ DDPI    │\n",
       "│     │ \u001b[90mString\u001b[39m         │ \u001b[90mFloat64\u001b[39m │ \u001b[90mFloat64\u001b[39m │ \u001b[90mFloat64\u001b[39m │ \u001b[90mFloat64\u001b[39m │ \u001b[90mFloat64\u001b[39m │\n",
       "├─────┼────────────────┼─────────┼─────────┼─────────┼─────────┼─────────┤\n",
       "│ 1   │ Australia      │ 11.43   │ 29.35   │ 2.87    │ 2329.68 │ 2.87    │\n",
       "│ 2   │ Austria        │ 12.07   │ 23.32   │ 4.41    │ 1507.99 │ 3.93    │\n",
       "│ 3   │ Belgium        │ 13.17   │ 23.8    │ 4.43    │ 2108.47 │ 3.82    │\n",
       "│ 4   │ Bolivia        │ 5.75    │ 41.89   │ 1.67    │ 189.13  │ 0.22    │\n",
       "│ 5   │ Brazil         │ 12.88   │ 42.19   │ 0.83    │ 728.47  │ 4.56    │\n",
       "│ 6   │ Canada         │ 8.79    │ 31.72   │ 2.85    │ 2982.88 │ 2.43    │\n",
       "│ 7   │ Chile          │ 0.6     │ 39.74   │ 1.34    │ 662.86  │ 2.67    │\n",
       "│ 8   │ China          │ 11.9    │ 44.75   │ 0.67    │ 289.52  │ 6.51    │\n",
       "│ 9   │ Colombia       │ 4.98    │ 46.64   │ 1.06    │ 276.65  │ 3.08    │\n",
       "│ 10  │ Costa Rica     │ 10.78   │ 47.64   │ 1.14    │ 471.24  │ 2.8     │\n",
       "⋮\n",
       "│ 40  │ Switzerland    │ 14.13   │ 23.49   │ 3.73    │ 2630.96 │ 2.7     │\n",
       "│ 41  │ Turkey         │ 5.13    │ 43.42   │ 1.08    │ 389.66  │ 2.96    │\n",
       "│ 42  │ Tunisia        │ 2.81    │ 46.12   │ 1.21    │ 249.87  │ 1.13    │\n",
       "│ 43  │ United Kingdom │ 7.81    │ 23.27   │ 4.46    │ 1813.93 │ 2.01    │\n",
       "│ 44  │ United States  │ 7.56    │ 29.81   │ 3.43    │ 4001.89 │ 2.45    │\n",
       "│ 45  │ Venezuela      │ 9.22    │ 46.4    │ 0.9     │ 813.39  │ 0.53    │\n",
       "│ 46  │ Zambia         │ 18.56   │ 45.25   │ 0.56    │ 138.33  │ 5.14    │\n",
       "│ 47  │ Jamaica        │ 7.72    │ 41.12   │ 1.73    │ 380.47  │ 10.23   │\n",
       "│ 48  │ Uruguay        │ 9.24    │ 28.13   │ 2.72    │ 766.54  │ 1.88    │\n",
       "│ 49  │ Libya          │ 8.89    │ 43.69   │ 2.07    │ 123.58  │ 16.71   │\n",
       "│ 50  │ Malaysia       │ 4.71    │ 47.2    │ 0.66    │ 242.69  │ 5.08    │"
      ]
     },
     "execution_count": 33,
     "metadata": {},
     "output_type": "execute_result"
    }
   ],
   "source": [
    "LifeCycleSavings = dataset(\"datasets\", \"LifeCycleSavings\")"
   ]
  },
  {
   "cell_type": "code",
   "execution_count": 34,
   "metadata": {},
   "outputs": [
    {
     "data": {
      "text/plain": [
       "StatsModels.TableRegressionModel{LinearModel{GLM.LmResp{Array{Float64,1}},GLM.DensePredChol{Float64,LinearAlgebra.Cholesky{Float64,Array{Float64,2}}}},Array{Float64,2}}\n",
       "\n",
       "SR ~ 1 + Pop15 + Pop75 + DPI + DDPI\n",
       "\n",
       "Coefficients:\n",
       "─────────────────────────────────────────────────────────────────────────────────\n",
       "                    Coef.   Std. Error      t  Pr(>|t|)    Lower 95%    Upper 95%\n",
       "─────────────────────────────────────────────────────────────────────────────────\n",
       "(Intercept)  28.5661       7.35452       3.88    0.0003  13.7533      43.3788\n",
       "Pop15        -0.461193     0.144642     -3.19    0.0026  -0.752518    -0.169869\n",
       "Pop75        -1.6915       1.0836       -1.56    0.1255  -3.87398      0.490983\n",
       "DPI          -0.000336902  0.000931107  -0.36    0.7192  -0.00221225   0.00153844\n",
       "DDPI          0.409695     0.196197      2.09    0.0425   0.0145336    0.804856\n",
       "─────────────────────────────────────────────────────────────────────────────────"
      ]
     },
     "execution_count": 34,
     "metadata": {},
     "output_type": "execute_result"
    }
   ],
   "source": [
    "fm2 = fit(LinearModel, @formula(SR ~ Pop15 + Pop75 + DPI + DDPI), LifeCycleSavings)"
   ]
  },
  {
   "cell_type": "markdown",
   "metadata": {},
   "source": [
    "### Some Important Questions\n",
    "\n",
    "When we perform multiple linear regression, we usually are interested in answering a few important questions.\n",
    "\n",
    "1. Is at least one of the predictors X1 , X2 , . . . , Xp useful in predicting the response?\n",
    "2. Do all the predictors help to explain Y, or is only a subset of the predictors useful?\n",
    "3. How well does the model fit the data?\n",
    "4. Given a set of predictor values, what response value should we predict,and how accurate is our prediction?\n"
   ]
  },
  {
   "cell_type": "markdown",
   "metadata": {},
   "source": [
    "## Other Considerations in the Regression Model"
   ]
  },
  {
   "cell_type": "markdown",
   "metadata": {},
   "source": [
    "##  Qualitative Predictors\n",
    "\n",
    "In our discussion so far, we have assumed that all variables in our linear regression model are quantitative. But in practice, this is not necessarily the case; often some predictors are qualitative.\n",
    "\n",
    "### Predictors with Only Two Levels\n",
    "\n",
    "Suppose that we wish to investigate differences in credit card balance between males and females, ignoring the other variables for the moment. If a\n",
    "qualitative predictor (also known as a factor) only has two levels, or possible values, then incorporating it into a regression model is very simple. We\n",
    "factor level\n",
    "simply create an indicator or dummy variable that takes on two possible\n",
    "dummy\n",
    "numerical values.\n",
    "\n",
    "### Qualitative Predictors with More than Two Levels\n",
    "\n",
    "When a qualitative predictor has more than two levels, a single dummy variable cannot represent all possible values. In this situation, we can create additional dummy variables"
   ]
  },
  {
   "cell_type": "code",
   "execution_count": 35,
   "metadata": {},
   "outputs": [
    {
     "data": {
      "text/html": [
       "<table class=\"data-frame\"><thead><tr><th></th><th>Eth</th><th>Sex</th><th>Age</th><th>Lrn</th><th>Days</th></tr><tr><th></th><th>Cat…</th><th>Cat…</th><th>Cat…</th><th>Cat…</th><th>Int32</th></tr></thead><tbody><p>146 rows × 5 columns</p><tr><th>1</th><td>A</td><td>M</td><td>F0</td><td>SL</td><td>2</td></tr><tr><th>2</th><td>A</td><td>M</td><td>F0</td><td>SL</td><td>11</td></tr><tr><th>3</th><td>A</td><td>M</td><td>F0</td><td>SL</td><td>14</td></tr><tr><th>4</th><td>A</td><td>M</td><td>F0</td><td>AL</td><td>5</td></tr><tr><th>5</th><td>A</td><td>M</td><td>F0</td><td>AL</td><td>5</td></tr><tr><th>6</th><td>A</td><td>M</td><td>F0</td><td>AL</td><td>13</td></tr><tr><th>7</th><td>A</td><td>M</td><td>F0</td><td>AL</td><td>20</td></tr><tr><th>8</th><td>A</td><td>M</td><td>F0</td><td>AL</td><td>22</td></tr><tr><th>9</th><td>A</td><td>M</td><td>F1</td><td>SL</td><td>6</td></tr><tr><th>10</th><td>A</td><td>M</td><td>F1</td><td>SL</td><td>6</td></tr><tr><th>11</th><td>A</td><td>M</td><td>F1</td><td>SL</td><td>15</td></tr><tr><th>12</th><td>A</td><td>M</td><td>F1</td><td>AL</td><td>7</td></tr><tr><th>13</th><td>A</td><td>M</td><td>F1</td><td>AL</td><td>14</td></tr><tr><th>14</th><td>A</td><td>M</td><td>F2</td><td>SL</td><td>6</td></tr><tr><th>15</th><td>A</td><td>M</td><td>F2</td><td>SL</td><td>32</td></tr><tr><th>16</th><td>A</td><td>M</td><td>F2</td><td>SL</td><td>53</td></tr><tr><th>17</th><td>A</td><td>M</td><td>F2</td><td>SL</td><td>57</td></tr><tr><th>18</th><td>A</td><td>M</td><td>F2</td><td>AL</td><td>14</td></tr><tr><th>19</th><td>A</td><td>M</td><td>F2</td><td>AL</td><td>16</td></tr><tr><th>20</th><td>A</td><td>M</td><td>F2</td><td>AL</td><td>16</td></tr><tr><th>21</th><td>A</td><td>M</td><td>F2</td><td>AL</td><td>17</td></tr><tr><th>22</th><td>A</td><td>M</td><td>F2</td><td>AL</td><td>40</td></tr><tr><th>23</th><td>A</td><td>M</td><td>F2</td><td>AL</td><td>43</td></tr><tr><th>24</th><td>A</td><td>M</td><td>F2</td><td>AL</td><td>46</td></tr><tr><th>25</th><td>A</td><td>M</td><td>F3</td><td>AL</td><td>8</td></tr><tr><th>26</th><td>A</td><td>M</td><td>F3</td><td>AL</td><td>23</td></tr><tr><th>27</th><td>A</td><td>M</td><td>F3</td><td>AL</td><td>23</td></tr><tr><th>28</th><td>A</td><td>M</td><td>F3</td><td>AL</td><td>28</td></tr><tr><th>29</th><td>A</td><td>M</td><td>F3</td><td>AL</td><td>34</td></tr><tr><th>30</th><td>A</td><td>M</td><td>F3</td><td>AL</td><td>36</td></tr><tr><th>&vellip;</th><td>&vellip;</td><td>&vellip;</td><td>&vellip;</td><td>&vellip;</td><td>&vellip;</td></tr></tbody></table>"
      ],
      "text/latex": [
       "\\begin{tabular}{r|ccccc}\n",
       "\t& Eth & Sex & Age & Lrn & Days\\\\\n",
       "\t\\hline\n",
       "\t& Cat… & Cat… & Cat… & Cat… & Int32\\\\\n",
       "\t\\hline\n",
       "\t1 & A & M & F0 & SL & 2 \\\\\n",
       "\t2 & A & M & F0 & SL & 11 \\\\\n",
       "\t3 & A & M & F0 & SL & 14 \\\\\n",
       "\t4 & A & M & F0 & AL & 5 \\\\\n",
       "\t5 & A & M & F0 & AL & 5 \\\\\n",
       "\t6 & A & M & F0 & AL & 13 \\\\\n",
       "\t7 & A & M & F0 & AL & 20 \\\\\n",
       "\t8 & A & M & F0 & AL & 22 \\\\\n",
       "\t9 & A & M & F1 & SL & 6 \\\\\n",
       "\t10 & A & M & F1 & SL & 6 \\\\\n",
       "\t11 & A & M & F1 & SL & 15 \\\\\n",
       "\t12 & A & M & F1 & AL & 7 \\\\\n",
       "\t13 & A & M & F1 & AL & 14 \\\\\n",
       "\t14 & A & M & F2 & SL & 6 \\\\\n",
       "\t15 & A & M & F2 & SL & 32 \\\\\n",
       "\t16 & A & M & F2 & SL & 53 \\\\\n",
       "\t17 & A & M & F2 & SL & 57 \\\\\n",
       "\t18 & A & M & F2 & AL & 14 \\\\\n",
       "\t19 & A & M & F2 & AL & 16 \\\\\n",
       "\t20 & A & M & F2 & AL & 16 \\\\\n",
       "\t21 & A & M & F2 & AL & 17 \\\\\n",
       "\t22 & A & M & F2 & AL & 40 \\\\\n",
       "\t23 & A & M & F2 & AL & 43 \\\\\n",
       "\t24 & A & M & F2 & AL & 46 \\\\\n",
       "\t25 & A & M & F3 & AL & 8 \\\\\n",
       "\t26 & A & M & F3 & AL & 23 \\\\\n",
       "\t27 & A & M & F3 & AL & 23 \\\\\n",
       "\t28 & A & M & F3 & AL & 28 \\\\\n",
       "\t29 & A & M & F3 & AL & 34 \\\\\n",
       "\t30 & A & M & F3 & AL & 36 \\\\\n",
       "\t$\\dots$ & $\\dots$ & $\\dots$ & $\\dots$ & $\\dots$ & $\\dots$ \\\\\n",
       "\\end{tabular}\n"
      ],
      "text/plain": [
       "146×5 DataFrame\n",
       "│ Row │ Eth  │ Sex  │ Age  │ Lrn  │ Days  │\n",
       "│     │ \u001b[90mCat…\u001b[39m │ \u001b[90mCat…\u001b[39m │ \u001b[90mCat…\u001b[39m │ \u001b[90mCat…\u001b[39m │ \u001b[90mInt32\u001b[39m │\n",
       "├─────┼──────┼──────┼──────┼──────┼───────┤\n",
       "│ 1   │ A    │ M    │ F0   │ SL   │ 2     │\n",
       "│ 2   │ A    │ M    │ F0   │ SL   │ 11    │\n",
       "│ 3   │ A    │ M    │ F0   │ SL   │ 14    │\n",
       "│ 4   │ A    │ M    │ F0   │ AL   │ 5     │\n",
       "│ 5   │ A    │ M    │ F0   │ AL   │ 5     │\n",
       "│ 6   │ A    │ M    │ F0   │ AL   │ 13    │\n",
       "│ 7   │ A    │ M    │ F0   │ AL   │ 20    │\n",
       "│ 8   │ A    │ M    │ F0   │ AL   │ 22    │\n",
       "│ 9   │ A    │ M    │ F1   │ SL   │ 6     │\n",
       "│ 10  │ A    │ M    │ F1   │ SL   │ 6     │\n",
       "⋮\n",
       "│ 136 │ N    │ F    │ F2   │ AL   │ 1     │\n",
       "│ 137 │ N    │ F    │ F3   │ AL   │ 1     │\n",
       "│ 138 │ N    │ F    │ F3   │ AL   │ 9     │\n",
       "│ 139 │ N    │ F    │ F3   │ AL   │ 22    │\n",
       "│ 140 │ N    │ F    │ F3   │ AL   │ 3     │\n",
       "│ 141 │ N    │ F    │ F3   │ AL   │ 3     │\n",
       "│ 142 │ N    │ F    │ F3   │ AL   │ 5     │\n",
       "│ 143 │ N    │ F    │ F3   │ AL   │ 15    │\n",
       "│ 144 │ N    │ F    │ F3   │ AL   │ 18    │\n",
       "│ 145 │ N    │ F    │ F3   │ AL   │ 22    │\n",
       "│ 146 │ N    │ F    │ F3   │ AL   │ 37    │"
      ]
     },
     "execution_count": 35,
     "metadata": {},
     "output_type": "execute_result"
    }
   ],
   "source": [
    "quine = dataset(\"MASS\", \"quine\")"
   ]
  },
  {
   "cell_type": "code",
   "execution_count": 36,
   "metadata": {},
   "outputs": [
    {
     "data": {
      "text/plain": [
       "StatsModels.TableRegressionModel{GeneralizedLinearModel{GLM.GlmResp{Array{Float64,1},NegativeBinomial{Float64},LogLink},GLM.DensePredChol{Float64,LinearAlgebra.Cholesky{Float64,Array{Float64,2}}}},Array{Float64,2}}\n",
       "\n",
       "Days ~ 1 + Eth + Sex + Age + Lrn\n",
       "\n",
       "Coefficients:\n",
       "────────────────────────────────────────────────────────────────────────────\n",
       "                  Coef.  Std. Error      z  Pr(>|z|)   Lower 95%   Upper 95%\n",
       "────────────────────────────────────────────────────────────────────────────\n",
       "(Intercept)   2.88645      0.227144  12.71    <1e-36   2.44125     3.33164\n",
       "Eth: N       -0.567515     0.152449  -3.72    0.0002  -0.86631    -0.26872\n",
       "Sex: M        0.0870771    0.159025   0.55    0.5840  -0.224606    0.398761\n",
       "Age: F1      -0.445076     0.239087  -1.86    0.0627  -0.913678    0.0235251\n",
       "Age: F2       0.0927999    0.234502   0.40    0.6923  -0.366816    0.552416\n",
       "Age: F3       0.359485     0.246586   1.46    0.1449  -0.123814    0.842784\n",
       "Lrn: SL       0.296768     0.185934   1.60    0.1105  -0.0676559   0.661191\n",
       "────────────────────────────────────────────────────────────────────────────"
      ]
     },
     "execution_count": 36,
     "metadata": {},
     "output_type": "execute_result"
    }
   ],
   "source": [
    "nbrmodel = glm(@formula(Days ~ Eth+Sex+Age+Lrn), quine, NegativeBinomial(2.0), LogLink())"
   ]
  },
  {
   "cell_type": "code",
   "execution_count": 37,
   "metadata": {},
   "outputs": [
    {
     "data": {
      "text/plain": [
       "StatsModels.TableRegressionModel{GeneralizedLinearModel{GLM.GlmResp{Array{Float64,1},NegativeBinomial{Float64},LogLink},GLM.DensePredChol{Float64,LinearAlgebra.Cholesky{Float64,Array{Float64,2}}}},Array{Float64,2}}\n",
       "\n",
       "Days ~ 1 + Eth + Sex + Age + Lrn\n",
       "\n",
       "Coefficients:\n",
       "────────────────────────────────────────────────────────────────────────────\n",
       "                  Coef.  Std. Error      z  Pr(>|z|)   Lower 95%   Upper 95%\n",
       "────────────────────────────────────────────────────────────────────────────\n",
       "(Intercept)   2.89453      0.227415  12.73    <1e-36   2.4488      3.34025\n",
       "Eth: N       -0.569341     0.152656  -3.73    0.0002  -0.868541   -0.270141\n",
       "Sex: M        0.0823881    0.159209   0.52    0.6048  -0.229655    0.394431\n",
       "Age: F1      -0.448464     0.238687  -1.88    0.0603  -0.916281    0.0193536\n",
       "Age: F2       0.0880506    0.235149   0.37    0.7081  -0.372834    0.548935\n",
       "Age: F3       0.356955     0.247228   1.44    0.1488  -0.127602    0.841513\n",
       "Lrn: SL       0.292138     0.18565    1.57    0.1156  -0.0717297   0.656006\n",
       "────────────────────────────────────────────────────────────────────────────"
      ]
     },
     "execution_count": 37,
     "metadata": {},
     "output_type": "execute_result"
    }
   ],
   "source": [
    "nbrmodel = negbin(@formula(Days ~ Eth+Sex+Age+Lrn), quine, LogLink())"
   ]
  },
  {
   "cell_type": "code",
   "execution_count": 38,
   "metadata": {},
   "outputs": [
    {
     "name": "stdout",
     "output_type": "stream",
     "text": [
      "Estimated theta = 1.27489\n"
     ]
    }
   ],
   "source": [
    "println(\"Estimated theta = \", round(nbrmodel.model.rr.d.r, digits=5))"
   ]
  },
  {
   "cell_type": "markdown",
   "metadata": {},
   "source": [
    "### Extensions of the Linear Model"
   ]
  },
  {
   "cell_type": "markdown",
   "metadata": {},
   "source": [
    "\n",
    "The standard linear regression model provides interpretable results and works quite well on many real-world problems. However, it makes several highly restrictive assumptions that are often violated in practice. Two of the most important assumptions state that the relationship between the predictors and response are additive and linear. The additive assumption\n",
    "baseline means that the effect of changes in a predictor Xj on the response Y is independent of the values of the other predictors. The linear assumption states that the change in the response Y due to a one-unit change in Xj is constant, regardless of the value of Xj.\n"
   ]
  },
  {
   "cell_type": "markdown",
   "metadata": {},
   "source": [
    "#### Removing the Additive Assumption\n",
    "\n",
    "Consider the standard linear regression model with two variables,\n",
    "\n",
    "    Y = β0 + β1X1 + β2X2 + ε.\n",
    "\n",
    "According to this model, if we increase X1 by one unit, then Y will increase by an average of β1 units. Notice that the presence of X2 does not alter this statement—that is, regardless of the value of X2, a one-unit increase in X1 will lead to a β1-unit increase in Y . One way of extending this model to allow for interaction effects is to include a third predictor, called an interaction term, which is constructed by computing the product of X1 and X2. This results in the model\n",
    "  \n",
    "    Y = β0 +β1X1 +β2X2 +β3X1X2 +ε.\n",
    "    \n",
    "How does inclusion of this interaction term relax the additive assumption?\n",
    "\n",
    "Notice that (3.31) can be rewritten as\n",
    "\n",
    "    Y = β0 +(β1 +β3X2)X1 +β2X2 +ε"
   ]
  },
  {
   "cell_type": "code",
   "execution_count": 39,
   "metadata": {},
   "outputs": [
    {
     "data": {
      "text/html": [
       "<table class=\"data-frame\"><thead><tr><th></th><th>Country</th><th>SR</th><th>Pop15</th><th>Pop75</th><th>DPI</th><th>DDPI</th></tr><tr><th></th><th>String</th><th>Float64</th><th>Float64</th><th>Float64</th><th>Float64</th><th>Float64</th></tr></thead><tbody><p>50 rows × 6 columns</p><tr><th>1</th><td>Australia</td><td>11.43</td><td>29.35</td><td>2.87</td><td>2329.68</td><td>2.87</td></tr><tr><th>2</th><td>Austria</td><td>12.07</td><td>23.32</td><td>4.41</td><td>1507.99</td><td>3.93</td></tr><tr><th>3</th><td>Belgium</td><td>13.17</td><td>23.8</td><td>4.43</td><td>2108.47</td><td>3.82</td></tr><tr><th>4</th><td>Bolivia</td><td>5.75</td><td>41.89</td><td>1.67</td><td>189.13</td><td>0.22</td></tr><tr><th>5</th><td>Brazil</td><td>12.88</td><td>42.19</td><td>0.83</td><td>728.47</td><td>4.56</td></tr><tr><th>6</th><td>Canada</td><td>8.79</td><td>31.72</td><td>2.85</td><td>2982.88</td><td>2.43</td></tr><tr><th>7</th><td>Chile</td><td>0.6</td><td>39.74</td><td>1.34</td><td>662.86</td><td>2.67</td></tr><tr><th>8</th><td>China</td><td>11.9</td><td>44.75</td><td>0.67</td><td>289.52</td><td>6.51</td></tr><tr><th>9</th><td>Colombia</td><td>4.98</td><td>46.64</td><td>1.06</td><td>276.65</td><td>3.08</td></tr><tr><th>10</th><td>Costa Rica</td><td>10.78</td><td>47.64</td><td>1.14</td><td>471.24</td><td>2.8</td></tr><tr><th>11</th><td>Denmark</td><td>16.85</td><td>24.42</td><td>3.93</td><td>2496.53</td><td>3.99</td></tr><tr><th>12</th><td>Ecuador</td><td>3.59</td><td>46.31</td><td>1.19</td><td>287.77</td><td>2.19</td></tr><tr><th>13</th><td>Finland</td><td>11.24</td><td>27.84</td><td>2.37</td><td>1681.25</td><td>4.32</td></tr><tr><th>14</th><td>France</td><td>12.64</td><td>25.06</td><td>4.7</td><td>2213.82</td><td>4.52</td></tr><tr><th>15</th><td>Germany</td><td>12.55</td><td>23.31</td><td>3.35</td><td>2457.12</td><td>3.44</td></tr><tr><th>16</th><td>Greece</td><td>10.67</td><td>25.62</td><td>3.1</td><td>870.85</td><td>6.28</td></tr><tr><th>17</th><td>Guatamala</td><td>3.01</td><td>46.05</td><td>0.87</td><td>289.71</td><td>1.48</td></tr><tr><th>18</th><td>Honduras</td><td>7.7</td><td>47.32</td><td>0.58</td><td>232.44</td><td>3.19</td></tr><tr><th>19</th><td>Iceland</td><td>1.27</td><td>34.03</td><td>3.08</td><td>1900.1</td><td>1.12</td></tr><tr><th>20</th><td>India</td><td>9.0</td><td>41.31</td><td>0.96</td><td>88.94</td><td>1.54</td></tr><tr><th>21</th><td>Ireland</td><td>11.34</td><td>31.16</td><td>4.19</td><td>1139.95</td><td>2.99</td></tr><tr><th>22</th><td>Italy</td><td>14.28</td><td>24.52</td><td>3.48</td><td>1390.0</td><td>3.54</td></tr><tr><th>23</th><td>Japan</td><td>21.1</td><td>27.01</td><td>1.91</td><td>1257.28</td><td>8.21</td></tr><tr><th>24</th><td>Korea</td><td>3.98</td><td>41.74</td><td>0.91</td><td>207.68</td><td>5.81</td></tr><tr><th>25</th><td>Luxembourg</td><td>10.35</td><td>21.8</td><td>3.73</td><td>2449.39</td><td>1.57</td></tr><tr><th>26</th><td>Malta</td><td>15.48</td><td>32.54</td><td>2.47</td><td>601.05</td><td>8.12</td></tr><tr><th>27</th><td>Norway</td><td>10.25</td><td>25.95</td><td>3.67</td><td>2231.03</td><td>3.62</td></tr><tr><th>28</th><td>Netherlands</td><td>14.65</td><td>24.71</td><td>3.25</td><td>1740.7</td><td>7.66</td></tr><tr><th>29</th><td>New Zealand</td><td>10.67</td><td>32.61</td><td>3.17</td><td>1487.52</td><td>1.76</td></tr><tr><th>30</th><td>Nicaragua</td><td>7.3</td><td>45.04</td><td>1.21</td><td>325.54</td><td>2.48</td></tr><tr><th>&vellip;</th><td>&vellip;</td><td>&vellip;</td><td>&vellip;</td><td>&vellip;</td><td>&vellip;</td><td>&vellip;</td></tr></tbody></table>"
      ],
      "text/latex": [
       "\\begin{tabular}{r|cccccc}\n",
       "\t& Country & SR & Pop15 & Pop75 & DPI & DDPI\\\\\n",
       "\t\\hline\n",
       "\t& String & Float64 & Float64 & Float64 & Float64 & Float64\\\\\n",
       "\t\\hline\n",
       "\t1 & Australia & 11.43 & 29.35 & 2.87 & 2329.68 & 2.87 \\\\\n",
       "\t2 & Austria & 12.07 & 23.32 & 4.41 & 1507.99 & 3.93 \\\\\n",
       "\t3 & Belgium & 13.17 & 23.8 & 4.43 & 2108.47 & 3.82 \\\\\n",
       "\t4 & Bolivia & 5.75 & 41.89 & 1.67 & 189.13 & 0.22 \\\\\n",
       "\t5 & Brazil & 12.88 & 42.19 & 0.83 & 728.47 & 4.56 \\\\\n",
       "\t6 & Canada & 8.79 & 31.72 & 2.85 & 2982.88 & 2.43 \\\\\n",
       "\t7 & Chile & 0.6 & 39.74 & 1.34 & 662.86 & 2.67 \\\\\n",
       "\t8 & China & 11.9 & 44.75 & 0.67 & 289.52 & 6.51 \\\\\n",
       "\t9 & Colombia & 4.98 & 46.64 & 1.06 & 276.65 & 3.08 \\\\\n",
       "\t10 & Costa Rica & 10.78 & 47.64 & 1.14 & 471.24 & 2.8 \\\\\n",
       "\t11 & Denmark & 16.85 & 24.42 & 3.93 & 2496.53 & 3.99 \\\\\n",
       "\t12 & Ecuador & 3.59 & 46.31 & 1.19 & 287.77 & 2.19 \\\\\n",
       "\t13 & Finland & 11.24 & 27.84 & 2.37 & 1681.25 & 4.32 \\\\\n",
       "\t14 & France & 12.64 & 25.06 & 4.7 & 2213.82 & 4.52 \\\\\n",
       "\t15 & Germany & 12.55 & 23.31 & 3.35 & 2457.12 & 3.44 \\\\\n",
       "\t16 & Greece & 10.67 & 25.62 & 3.1 & 870.85 & 6.28 \\\\\n",
       "\t17 & Guatamala & 3.01 & 46.05 & 0.87 & 289.71 & 1.48 \\\\\n",
       "\t18 & Honduras & 7.7 & 47.32 & 0.58 & 232.44 & 3.19 \\\\\n",
       "\t19 & Iceland & 1.27 & 34.03 & 3.08 & 1900.1 & 1.12 \\\\\n",
       "\t20 & India & 9.0 & 41.31 & 0.96 & 88.94 & 1.54 \\\\\n",
       "\t21 & Ireland & 11.34 & 31.16 & 4.19 & 1139.95 & 2.99 \\\\\n",
       "\t22 & Italy & 14.28 & 24.52 & 3.48 & 1390.0 & 3.54 \\\\\n",
       "\t23 & Japan & 21.1 & 27.01 & 1.91 & 1257.28 & 8.21 \\\\\n",
       "\t24 & Korea & 3.98 & 41.74 & 0.91 & 207.68 & 5.81 \\\\\n",
       "\t25 & Luxembourg & 10.35 & 21.8 & 3.73 & 2449.39 & 1.57 \\\\\n",
       "\t26 & Malta & 15.48 & 32.54 & 2.47 & 601.05 & 8.12 \\\\\n",
       "\t27 & Norway & 10.25 & 25.95 & 3.67 & 2231.03 & 3.62 \\\\\n",
       "\t28 & Netherlands & 14.65 & 24.71 & 3.25 & 1740.7 & 7.66 \\\\\n",
       "\t29 & New Zealand & 10.67 & 32.61 & 3.17 & 1487.52 & 1.76 \\\\\n",
       "\t30 & Nicaragua & 7.3 & 45.04 & 1.21 & 325.54 & 2.48 \\\\\n",
       "\t$\\dots$ & $\\dots$ & $\\dots$ & $\\dots$ & $\\dots$ & $\\dots$ & $\\dots$ \\\\\n",
       "\\end{tabular}\n"
      ],
      "text/plain": [
       "50×6 DataFrame\n",
       "│ Row │ Country        │ SR      │ Pop15   │ Pop75   │ DPI     │ DDPI    │\n",
       "│     │ \u001b[90mString\u001b[39m         │ \u001b[90mFloat64\u001b[39m │ \u001b[90mFloat64\u001b[39m │ \u001b[90mFloat64\u001b[39m │ \u001b[90mFloat64\u001b[39m │ \u001b[90mFloat64\u001b[39m │\n",
       "├─────┼────────────────┼─────────┼─────────┼─────────┼─────────┼─────────┤\n",
       "│ 1   │ Australia      │ 11.43   │ 29.35   │ 2.87    │ 2329.68 │ 2.87    │\n",
       "│ 2   │ Austria        │ 12.07   │ 23.32   │ 4.41    │ 1507.99 │ 3.93    │\n",
       "│ 3   │ Belgium        │ 13.17   │ 23.8    │ 4.43    │ 2108.47 │ 3.82    │\n",
       "│ 4   │ Bolivia        │ 5.75    │ 41.89   │ 1.67    │ 189.13  │ 0.22    │\n",
       "│ 5   │ Brazil         │ 12.88   │ 42.19   │ 0.83    │ 728.47  │ 4.56    │\n",
       "│ 6   │ Canada         │ 8.79    │ 31.72   │ 2.85    │ 2982.88 │ 2.43    │\n",
       "│ 7   │ Chile          │ 0.6     │ 39.74   │ 1.34    │ 662.86  │ 2.67    │\n",
       "│ 8   │ China          │ 11.9    │ 44.75   │ 0.67    │ 289.52  │ 6.51    │\n",
       "│ 9   │ Colombia       │ 4.98    │ 46.64   │ 1.06    │ 276.65  │ 3.08    │\n",
       "│ 10  │ Costa Rica     │ 10.78   │ 47.64   │ 1.14    │ 471.24  │ 2.8     │\n",
       "⋮\n",
       "│ 40  │ Switzerland    │ 14.13   │ 23.49   │ 3.73    │ 2630.96 │ 2.7     │\n",
       "│ 41  │ Turkey         │ 5.13    │ 43.42   │ 1.08    │ 389.66  │ 2.96    │\n",
       "│ 42  │ Tunisia        │ 2.81    │ 46.12   │ 1.21    │ 249.87  │ 1.13    │\n",
       "│ 43  │ United Kingdom │ 7.81    │ 23.27   │ 4.46    │ 1813.93 │ 2.01    │\n",
       "│ 44  │ United States  │ 7.56    │ 29.81   │ 3.43    │ 4001.89 │ 2.45    │\n",
       "│ 45  │ Venezuela      │ 9.22    │ 46.4    │ 0.9     │ 813.39  │ 0.53    │\n",
       "│ 46  │ Zambia         │ 18.56   │ 45.25   │ 0.56    │ 138.33  │ 5.14    │\n",
       "│ 47  │ Jamaica        │ 7.72    │ 41.12   │ 1.73    │ 380.47  │ 10.23   │\n",
       "│ 48  │ Uruguay        │ 9.24    │ 28.13   │ 2.72    │ 766.54  │ 1.88    │\n",
       "│ 49  │ Libya          │ 8.89    │ 43.69   │ 2.07    │ 123.58  │ 16.71   │\n",
       "│ 50  │ Malaysia       │ 4.71    │ 47.2    │ 0.66    │ 242.69  │ 5.08    │"
      ]
     },
     "execution_count": 39,
     "metadata": {},
     "output_type": "execute_result"
    }
   ],
   "source": [
    "LifeCycleSavings = dataset(\"datasets\", \"LifeCycleSavings\")"
   ]
  },
  {
   "cell_type": "code",
   "execution_count": 40,
   "metadata": {},
   "outputs": [
    {
     "data": {
      "text/plain": [
       "StatsModels.TableRegressionModel{LinearModel{GLM.LmResp{Array{Float64,1}},GLM.DensePredChol{Float64,LinearAlgebra.Cholesky{Float64,Array{Float64,2}}}},Array{Float64,2}}\n",
       "\n",
       "SR ~ 1 + Pop15 + Pop75 + Pop15 & Pop75\n",
       "\n",
       "Coefficients:\n",
       "─────────────────────────────────────────────────────────────────────────────\n",
       "                    Coef.  Std. Error      t  Pr(>|t|)  Lower 95%   Upper 95%\n",
       "─────────────────────────────────────────────────────────────────────────────\n",
       "(Intercept)    29.2303      8.54153     3.42    0.0013  12.0371    46.4236\n",
       "Pop15          -0.428707    0.193501   -2.22    0.0317  -0.818204  -0.0392103\n",
       "Pop75          -1.16446     2.50349    -0.47    0.6440  -6.20373    3.8748\n",
       "Pop15 & Pop75  -0.0263937   0.0779213  -0.34    0.7364  -0.183241   0.130454\n",
       "─────────────────────────────────────────────────────────────────────────────"
      ]
     },
     "execution_count": 40,
     "metadata": {},
     "output_type": "execute_result"
    }
   ],
   "source": [
    "fm2 = fit(LinearModel, @formula(SR ~ Pop15 + Pop75 +Pop15*Pop75), LifeCycleSavings)"
   ]
  },
  {
   "cell_type": "markdown",
   "metadata": {},
   "source": [
    "#### Non-linear Relationships\n",
    "\n",
    "As discussed previously, the linear regression model  assumes a linear relationship between the response and predictors. But in some cases, the true relationship between the response and the predictors may be non- linear. Here we present a very simple way to directly extend the linear model to accommodate non-linear relationships, using polynomial regression. In later chapters, we will present more complex approaches for performing non-linear fits in more general settings.\n"
   ]
  },
  {
   "cell_type": "code",
   "execution_count": 41,
   "metadata": {},
   "outputs": [
    {
     "data": {
      "text/plain": [
       "StatsModels.TableRegressionModel{LinearModel{GLM.LmResp{Array{Float64,1}},GLM.DensePredChol{Float64,LinearAlgebra.Cholesky{Float64,Array{Float64,2}}}},Array{Float64,2}}\n",
       "\n",
       "y ~ 1 + x + :(x ^ 2)\n",
       "\n",
       "Coefficients:\n",
       "─────────────────────────────────────────────────────────────────────────────────────────────────\n",
       "                    Coef.   Std. Error                    t  Pr(>|t|)     Lower 95%     Upper 95%\n",
       "─────────────────────────────────────────────────────────────────────────────────────────────────\n",
       "(Intercept)   5.31486e-13  6.82708e-14                 7.78    <1e-11   3.95987e-13   6.66985e-13\n",
       "x            -0.5          3.12016e-15  -160248115641061.69    <1e-99  -0.5          -0.5\n",
       "x ^ 2         0.1          2.99305e-17  3341071373231469.50    <1e-99   0.1           0.1\n",
       "─────────────────────────────────────────────────────────────────────────────────────────────────"
      ]
     },
     "execution_count": 41,
     "metadata": {},
     "output_type": "execute_result"
    }
   ],
   "source": [
    "y = [0.1*x^2 - 0.5*x for x ∈ 1:100]\n",
    "x = collect(1:100)\n",
    "df = (y = y, x = x)\n",
    "\n",
    "ols=fit(LinearModel, @formula(y ~ x + x^2), df)"
   ]
  },
  {
   "cell_type": "markdown",
   "metadata": {},
   "source": [
    "### Potential Problems"
   ]
  },
  {
   "cell_type": "markdown",
   "metadata": {},
   "source": [
    "When we fit a linear regression model to a particular data set, many prob- lems may occur. Most common among these are the following:\n",
    "1. Non-linearity of the response-predictor relationships. 2. Correlation of error terms.\n",
    "3. Non-constant variance of error terms.\n",
    "4. Outliers.\n",
    "5. High-leverage points.\n",
    "6. Collinearity.\n"
   ]
  },
  {
   "cell_type": "markdown",
   "metadata": {},
   "source": [
    "# Model Evaluation"
   ]
  },
  {
   "cell_type": "markdown",
   "metadata": {},
   "source": [
    "After building a number of different regression models, there is a wealth of criteria by which they can be evaluated and compared. "
   ]
  },
  {
   "cell_type": "markdown",
   "metadata": {},
   "source": [
    "## Root Mean Squared Error\n",
    "\n",
    "RMSE is a popular formula to measure the error rate of a regression model. However, it can only be compared between models whose errors are measured in the same units.\t\t\n",
    "<img src=\"RMSE.png\" alt=\"(Screenshot of wikipedia table of WA EVD cases)\"> "
   ]
  },
  {
   "cell_type": "markdown",
   "metadata": {},
   "source": [
    "## Relative Squared Error\n",
    "\n",
    "Unlike RMSE, the relative squared error (RSE) can be compared between models whose errors are measured in the different units.\n",
    "<img src=\"Rela.png\" alt=\"(Screenshot of wikipedia table of WA EVD cases)\"> "
   ]
  },
  {
   "cell_type": "markdown",
   "metadata": {},
   "source": [
    "## Relative Absolute Error\n",
    "\n",
    "Like RSE , the relative absolute error (RAE) can be compared between models whose errors are measured in the different units.\n",
    "<img src=\"RAE.png\" alt=\"(Screenshot of wikipedia table of WA EVD cases)\"> "
   ]
  },
  {
   "cell_type": "markdown",
   "metadata": {},
   "source": [
    "## Coefficient of Determination\n",
    "\n",
    "The coefficient of determination (R2) summarizes the explanatory power of the regression model and is computed from the sums-of-squares terms.\n",
    "\n",
    "<img src=\"COD.png\" alt=\"(Screenshot of wikipedia table of WA EVD cases)\"> \n",
    "\n",
    "R2 describes the proportion of variance of the dependent variable explained by the regression model. If the regression model is “perfect”, SSE is zero, and R2 is 1. If the regression model is a total failure, SSE is equal to SST, no variance is explained by regression, and R2 is zero.\t\t\n"
   ]
  },
  {
   "cell_type": "markdown",
   "metadata": {},
   "source": [
    "# Classification:"
   ]
  },
  {
   "cell_type": "markdown",
   "metadata": {},
   "source": [
    "Often qualitative variables are referred to as categorical; we will use these terms interchangeably. In this chapter, we study approaches for predicting qualitative responses, a process that is known as classification. Predicting a qualitative response for an obser- vation can be referred to as classifying that observation, since it involves assigning the observation to a category, or class.  On the other hand, often the methods used for classification first predict the probability of each of the categories of a qualitative variable, as the basis for making the classi- fication."
   ]
  },
  {
   "cell_type": "markdown",
   "metadata": {},
   "source": [
    "In this chapter we discuss three of the most\n",
    "qualitative\n",
    "classification\n",
    "classifier\n",
    "widely-used classifiers: logistic regression, linear discriminant analysis, and\n",
    "logistic\n",
    "K-nearest neighbors."
   ]
  },
  {
   "cell_type": "markdown",
   "metadata": {},
   "source": [
    "The classification setting we have a set of training observations (x1,y1),...,(xn,yn) that we can use to build a classifier. We want our classifier to perform well not only on the training data, but also on test observations that were not used to train the classifier."
   ]
  },
  {
   "cell_type": "markdown",
   "metadata": {},
   "source": [
    "## Why Not Linear Regression?"
   ]
  },
  {
   "cell_type": "markdown",
   "metadata": {},
   "source": [
    "To predict the medical condition of a patient in the emergency room on the basis of her symptoms. In this simplified example, there are three possible diagnoses: stroke, drug overdose, and epileptic seizure. We could consider encoding these values as a quantitative response variable,"
   ]
  },
  {
   "cell_type": "markdown",
   "metadata": {},
   "source": [
    "Least squares could be used to fit a linear regression model to predict Y on the basis of a set of predictors X1 , . . . , Xp . Unfortunately, this coding implies an ordering on the outcomes, putting drug overdose in between stroke and epileptic seizure, and insisting that the difference between stroke and drug overdose is the same as the difference between drug overdose and epileptic seizure."
   ]
  },
  {
   "cell_type": "markdown",
   "metadata": {},
   "source": [
    "However, if we use linear regression, some of our estimates might be outside the [0, 1] interval (see Figure), making them hard to interpret as probabilities! Nevertheless, the predictions provide an ordering and can be interpreted as crude probability estimates. Curiously, it turns out that the classifications that we get if we use linear regression to predict a binary response will be the same as for the linear discriminant analysis (LDA) procedure \n",
    "\n",
    "<img src=\"linear.png\" alt=\"(Screenshot of wikipedia table of WA EVD cases)\"> "
   ]
  },
  {
   "cell_type": "markdown",
   "metadata": {},
   "source": [
    "However, the dummy variable approach cannot be easily extended to accommodate qualitative responses with more than two levels. For these reasons, it is preferable to use a classification method that is truly suited for qualitative response values, such as the ones presented next"
   ]
  },
  {
   "cell_type": "markdown",
   "metadata": {},
   "source": [
    "## Logistic Regression"
   ]
  },
  {
   "cell_type": "markdown",
   "metadata": {},
   "source": [
    "Consider again the Default data set, where the response default falls into one of two categories, Yes or No. Rather than modeling this response Y directly, logistic regression models the probability that Y belongs to a particular category."
   ]
  },
  {
   "cell_type": "markdown",
   "metadata": {},
   "source": [
    "For the Default data, logistic regression models the probability of default. For example, the probability of default given balance can be written as\n",
    "     \n",
    "     Pr(default = Yes|balance).\n",
    "The values of Pr(default = Yes|balance), which we abbreviate p(balance), will range between 0 and 1. Then for any given value of balance, a prediction can be made for default.\n",
    "\n",
    "<img src=\"logisticc.png\" alt=\"(Screenshot of wikipedia table of WA EVD cases)\"> "
   ]
  },
  {
   "cell_type": "markdown",
   "metadata": {},
   "source": [
    "### The Logistic Model\n",
    "How should we model the relationship between p(X) = Pr(Y = 1|X) and X? (For convenience we are using the generic 0/1 coding for the response)\n",
    "\n",
    "    p(X) = β0 + β1X."
   ]
  },
  {
   "cell_type": "markdown",
   "metadata": {},
   "source": [
    "The problem with this approach: for balances close to zero we predict a negative probability of default; if we were to predict for very large balances, we would get values bigger than 1. These predictions are not sensible, since of course the true probability of default, regardless of credit card balance, must fall between 0 and 1. This problem is not unique to the credit default data. Any time a straight line is fit to a binary response that is coded as 0 or 1, in principle we can always predict p(X) < 0 for some values of X and p(X) > 1 for others (unless the range of X is limited).\n",
    "\n",
    "To avoid this problem, we must model p(X) using a function that gives outputs between 0 and 1 for all values of X. Many functions meet this description. In logistic regression, we use the logistic function,\n"
   ]
  },
  {
   "cell_type": "markdown",
   "metadata": {},
   "source": [
    "\\begin{equation*}\n",
    "𝑝(𝑋)=\\frac{𝑒^{β0+β1𝑋}}{1+𝑒^{β0+β1𝑋}}\n",
    " \\end{equation*}"
   ]
  },
  {
   "cell_type": "markdown",
   "metadata": {},
   "source": [
    "To fit the model, we use a method called maximum likelihood, low balances we now predict the probability of default as close to, but never below, zero. Likewise, for high balances we predict a default probability close to, but never above, one. The logistic function will always produce an S-shaped curve of this form, and so regardless of the value of X, we will obtain a sensible prediction."
   ]
  },
  {
   "cell_type": "markdown",
   "metadata": {},
   "source": [
    "\n",
    "\\begin{equation*}\n",
    "\\frac{𝑝(𝑋)}{1 − p(X)}=𝑒^{β0+β1𝑋}\n",
    " \\end{equation*}"
   ]
  },
  {
   "cell_type": "markdown",
   "metadata": {},
   "source": [
    "The quantity p(X)/[1−p(X)] is called the odds, and can take on any value between 0 and ∞."
   ]
  },
  {
   "cell_type": "markdown",
   "metadata": {},
   "source": [
    "By taking the logarithm of both sides of, we arrive at\n",
    "\\begin{equation*}\n",
    "log(\\frac{𝑝(𝑋)}{1 − p(X)})={β0+β1𝑋}\n",
    " \\end{equation*}\n"
   ]
  },
  {
   "cell_type": "markdown",
   "metadata": {},
   "source": [
    "The left-hand side is called the log-odds or logit. We see that the logistic regression model has a logit that is linear in X"
   ]
  },
  {
   "cell_type": "markdown",
   "metadata": {},
   "source": [
    "### Estimating the Regression Coefficients"
   ]
  },
  {
   "cell_type": "markdown",
   "metadata": {},
   "source": [
    "We used the least squares approach to estimate the unknown linear regression coefficients. Although we could use (non-linear) least squares to fit the linear model, the more general method of maximum likelihood is preferred. "
   ]
  },
  {
   "cell_type": "markdown",
   "metadata": {},
   "source": [
    "The basic intuition behind using maximum likelihood to fit a logistic regression model is as follows: we seek estimates for β0 and β1 such that the predicted probability pˆ(xi) of default for each individual, corresponds as closely as possible to the individual’s observed default status."
   ]
  },
  {
   "cell_type": "markdown",
   "metadata": {},
   "source": [
    "Maximum likelihood is a very general approach that is used to fit many of the non-linear models that we examine throughout this book. In the linear regression setting, the least squares approach is in fact a special case of maximum likelihood. "
   ]
  },
  {
   "cell_type": "markdown",
   "metadata": {},
   "source": [
    "# Logistic Regression Model"
   ]
  },
  {
   "cell_type": "code",
   "execution_count": 42,
   "metadata": {},
   "outputs": [
    {
     "name": "stderr",
     "output_type": "stream",
     "text": [
      "┌ Warning: `getindex(df::DataFrame, col_inds::Union{AbstractVector, Regex, Not})` is deprecated, use `df[:, col_inds]` instead.\n",
      "│   caller = top-level scope at In[42]:4\n",
      "└ @ Core In[42]:4\n",
      "┌ Warning: `getindex(df::DataFrame, col_ind::ColumnIndex)` is deprecated, use `df[!, col_ind]` instead.\n",
      "│   caller = top-level scope at In[42]:8\n",
      "└ @ Core In[42]:8\n"
     ]
    },
    {
     "data": {
      "text/plain": [
       "150-element Array{String,1}:\n",
       " \"setosa\"\n",
       " \"setosa\"\n",
       " \"setosa\"\n",
       " \"setosa\"\n",
       " \"setosa\"\n",
       " \"setosa\"\n",
       " \"setosa\"\n",
       " \"setosa\"\n",
       " \"setosa\"\n",
       " \"setosa\"\n",
       " \"setosa\"\n",
       " \"setosa\"\n",
       " \"setosa\"\n",
       " ⋮\n",
       " \"virginica\"\n",
       " \"virginica\"\n",
       " \"virginica\"\n",
       " \"virginica\"\n",
       " \"virginica\"\n",
       " \"virginica\"\n",
       " \"virginica\"\n",
       " \"virginica\"\n",
       " \"virginica\"\n",
       " \"virginica\"\n",
       " \"virginica\"\n",
       " \"virginica\""
      ]
     },
     "execution_count": 42,
     "metadata": {},
     "output_type": "execute_result"
    }
   ],
   "source": [
    "using RDatasets: dataset\n",
    "\n",
    "iris = dataset(\"datasets\", \"iris\")\n",
    "\n",
    "# ScikitLearn.jl expects arrays, but DataFrames can also be used - see\n",
    "# the corresponding section of the manual\n",
    "X = convert(Array, iris[[:SepalLength]])\n",
    "y = convert(Array, iris[:Species])"
   ]
  },
  {
   "cell_type": "code",
   "execution_count": 43,
   "metadata": {},
   "outputs": [
    {
     "data": {
      "text/plain": [
       "PyObject <class 'sklearn.linear_model._logistic.LogisticRegression'>"
      ]
     },
     "execution_count": 43,
     "metadata": {},
     "output_type": "execute_result"
    }
   ],
   "source": [
    "using ScikitLearn\n",
    "\n",
    "# This model requires scikit-learn. See\n",
    "# http://scikitlearnjl.readthedocs.io/en/latest/models/#installation\n",
    "@sk_import linear_model: LogisticRegression"
   ]
  },
  {
   "cell_type": "code",
   "execution_count": 44,
   "metadata": {},
   "outputs": [
    {
     "data": {
      "text/plain": [
       "PyObject LogisticRegression()"
      ]
     },
     "execution_count": 44,
     "metadata": {},
     "output_type": "execute_result"
    }
   ],
   "source": [
    "model = LogisticRegression(fit_intercept=true)"
   ]
  },
  {
   "cell_type": "code",
   "execution_count": 45,
   "metadata": {},
   "outputs": [
    {
     "name": "stdout",
     "output_type": "stream",
     "text": [
      "accuracy: 0.7466666666666667\n"
     ]
    }
   ],
   "source": [
    "fit!(model, X, y)\n",
    "\n",
    "accuracy = sum(predict(model, X) .== y) / length(y)\n",
    "println(\"accuracy: $accuracy\")"
   ]
  },
  {
   "cell_type": "markdown",
   "metadata": {},
   "source": [
    "### Multiple Logistic Regression"
   ]
  },
  {
   "cell_type": "markdown",
   "metadata": {},
   "source": [
    "\n",
    "We now consider the problem of predicting a binary response using multiple predictors. By analogy with the extension from simple to multiple linear regression, we can generalize logistic regression as follows:\n",
    "􏰃􏰄"
   ]
  },
  {
   "cell_type": "markdown",
   "metadata": {},
   "source": [
    "\\begin{equation*}\n",
    "log(\\frac{𝑝(𝑋)}{1 − p(X)})={β0+β1𝑋+β2𝑋2+β3𝑋3+β4𝑋4....βp𝑋p}\n",
    " \\end{equation*}\n",
    "\n"
   ]
  },
  {
   "cell_type": "markdown",
   "metadata": {},
   "source": [
    "where X = (X1, . . . , Xp) are p predictors\n",
    "\n",
    "\\begin{equation*}\n",
    "𝑝(𝑋)=\\frac{𝑒^{β0+β1𝑋+β2𝑋2...βp𝑋p}}{1+𝑒^{β0+β1𝑋+β2𝑋2+...βp𝑋p}}\n",
    " \\end{equation*}\n",
    " \n",
    "we use the maximum likelihood method to estimate β0,β1,...,βp."
   ]
  },
  {
   "cell_type": "code",
   "execution_count": 46,
   "metadata": {},
   "outputs": [
    {
     "name": "stderr",
     "output_type": "stream",
     "text": [
      "┌ Warning: `getindex(df::DataFrame, col_inds::Union{AbstractVector, Regex, Not})` is deprecated, use `df[:, col_inds]` instead.\n",
      "│   caller = top-level scope at In[46]:4\n",
      "└ @ Core In[46]:4\n",
      "┌ Warning: `getindex(df::DataFrame, col_ind::ColumnIndex)` is deprecated, use `df[!, col_ind]` instead.\n",
      "│   caller = top-level scope at In[46]:8\n",
      "└ @ Core In[46]:8\n"
     ]
    },
    {
     "data": {
      "text/plain": [
       "150-element Array{String,1}:\n",
       " \"setosa\"\n",
       " \"setosa\"\n",
       " \"setosa\"\n",
       " \"setosa\"\n",
       " \"setosa\"\n",
       " \"setosa\"\n",
       " \"setosa\"\n",
       " \"setosa\"\n",
       " \"setosa\"\n",
       " \"setosa\"\n",
       " \"setosa\"\n",
       " \"setosa\"\n",
       " \"setosa\"\n",
       " ⋮\n",
       " \"virginica\"\n",
       " \"virginica\"\n",
       " \"virginica\"\n",
       " \"virginica\"\n",
       " \"virginica\"\n",
       " \"virginica\"\n",
       " \"virginica\"\n",
       " \"virginica\"\n",
       " \"virginica\"\n",
       " \"virginica\"\n",
       " \"virginica\"\n",
       " \"virginica\""
      ]
     },
     "execution_count": 46,
     "metadata": {},
     "output_type": "execute_result"
    }
   ],
   "source": [
    "using RDatasets: dataset\n",
    "\n",
    "iris = dataset(\"datasets\", \"iris\")\n",
    "\n",
    "# ScikitLearn.jl expects arrays, but DataFrames can also be used - see\n",
    "# the corresponding section of the manual\n",
    "X = convert(Array, iris[[:SepalLength, :SepalWidth, :PetalLength, :PetalWidth]])\n",
    "y = convert(Array, iris[:Species])"
   ]
  },
  {
   "cell_type": "code",
   "execution_count": 47,
   "metadata": {},
   "outputs": [
    {
     "name": "stderr",
     "output_type": "stream",
     "text": [
      "WARNING: redefining constant LogisticRegression\n"
     ]
    },
    {
     "data": {
      "text/plain": [
       "PyObject <class 'sklearn.linear_model._logistic.LogisticRegression'>"
      ]
     },
     "execution_count": 47,
     "metadata": {},
     "output_type": "execute_result"
    }
   ],
   "source": [
    "using ScikitLearn\n",
    "\n",
    "# This model requires scikit-learn. See\n",
    "# http://scikitlearnjl.readthedocs.io/en/latest/models/#installation\n",
    "@sk_import linear_model: LogisticRegression"
   ]
  },
  {
   "cell_type": "code",
   "execution_count": 48,
   "metadata": {},
   "outputs": [
    {
     "data": {
      "text/plain": [
       "PyObject LogisticRegression()"
      ]
     },
     "execution_count": 48,
     "metadata": {},
     "output_type": "execute_result"
    }
   ],
   "source": [
    "model = LogisticRegression(fit_intercept=true)"
   ]
  },
  {
   "cell_type": "code",
   "execution_count": 49,
   "metadata": {},
   "outputs": [
    {
     "name": "stdout",
     "output_type": "stream",
     "text": [
      "accuracy: 0.9733333333333334\n"
     ]
    }
   ],
   "source": [
    "fit!(model, X, y)\n",
    "\n",
    "accuracy = sum(predict(model, X) .== y) / length(y)\n",
    "println(\"accuracy: $accuracy\")"
   ]
  },
  {
   "cell_type": "markdown",
   "metadata": {},
   "source": [
    "# Linear Discriminant Analysis and Quadratic Discriminant Analysis"
   ]
  },
  {
   "cell_type": "markdown",
   "metadata": {},
   "source": [
    "Logistic regression involves directly modeling Pr(Y = k|X = x) using the logistic function for the case of two response classes. In statistical jargon, we model the conditional distribution of the response Y , given the predictor(s) X. We now consider an alternative and less direct approach to estimating these probabilities. In this alternative approach, we model the distribution of the predictors X separately in each of the response classes (i.e. given Y ), and then use Bayes’ theorem to flip these around into estimates for Pr(Y = k|X = x). When these distributions are assumed to be normal, it turns out that the model is very similar in form to logistic regression."
   ]
  },
  {
   "cell_type": "markdown",
   "metadata": {},
   "source": [
    "\n",
    "Why do we need another method, when we have logistic regression? There are several reasons:\n",
    "- When the classes are well-separated, the parameter estimates for the logistic regression model are surprisingly unstable. Linear discrimi- nant analysis does not suffer from this problem.\n",
    "- If n is small and the distribution of the predictors X is approximately normal in each of the classes, the linear discriminant model is again more stable than the logistic regression model.\n",
    "- linear discriminant analysis is popular when we have more than two response classes.\n"
   ]
  },
  {
   "cell_type": "code",
   "execution_count": 50,
   "metadata": {},
   "outputs": [
    {
     "data": {
      "text/plain": [
       "PyObject <class 'sklearn.discriminant_analysis.QuadraticDiscriminantAnalysis'>"
      ]
     },
     "execution_count": 50,
     "metadata": {},
     "output_type": "execute_result"
    }
   ],
   "source": [
    "@sk_import discriminant_analysis: (LinearDiscriminantAnalysis, QuadraticDiscriminantAnalysis)"
   ]
  },
  {
   "cell_type": "code",
   "execution_count": 51,
   "metadata": {},
   "outputs": [
    {
     "data": {
      "text/plain": [
       "PyObject QuadraticDiscriminantAnalysis()"
      ]
     },
     "execution_count": 51,
     "metadata": {},
     "output_type": "execute_result"
    }
   ],
   "source": [
    "model = LinearDiscriminantAnalysis()\n",
    "model2= QuadraticDiscriminantAnalysis()"
   ]
  },
  {
   "cell_type": "code",
   "execution_count": 52,
   "metadata": {},
   "outputs": [
    {
     "name": "stdout",
     "output_type": "stream",
     "text": [
      "accuracy: 0.98\n"
     ]
    }
   ],
   "source": [
    "fit!(model, X, y)\n",
    "\n",
    "accuracy = sum(predict(model, X) .== y) / length(y)\n",
    "println(\"accuracy: $accuracy\")"
   ]
  },
  {
   "cell_type": "markdown",
   "metadata": {},
   "source": [
    "# KNN"
   ]
  },
  {
   "cell_type": "markdown",
   "metadata": {},
   "source": [
    "Many approaches attempt to estimate the conditional distribution of Y given X, and then classify a given observation to the class with highest estimated probability. One such method is the K-nearest neighbors (KNN) classifier. Given a positive integer K and a test observation x0, the KNN classifier first identifies the K points in the training data that are closest to x0, represented by N0. It then estimates the conditional probability for class j as the fraction of points in N0 whose response values equal j:"
   ]
  },
  {
   "cell_type": "markdown",
   "metadata": {},
   "source": [
    "<img src=\"knn.png\" alt=\"(Screenshot of wikipedia table of WA EVD cases)\"> "
   ]
  },
  {
   "cell_type": "markdown",
   "metadata": {},
   "source": [
    "Finally, KNN applies Bayes rule and classifies the test observation x0 to the class with the largest probability."
   ]
  },
  {
   "cell_type": "markdown",
   "metadata": {},
   "source": [
    "K-nearest neighbors (KNN) algorithm uses ‘feature similarity’ to predict the values of new datapoints which further means that the new data point will be assigned a value based on how closely it matches the points in the training set. We can understand its working with the help of following steps −\n",
    "\n",
    "- Step 1 − For implementing any algorithm, we need dataset. So during the first step of KNN, we must load the training as well as test data.\n",
    "\n",
    "- Step 2 − Next, we need to choose the value of K i.e. the nearest data points. K can be any integer.\n",
    "\n",
    "- Step 3 − For each point in the test data do the following −\n",
    "\n",
    "     - 3.1 − Calculate the distance between test data and each row of training data with the help of any of the method namely: Euclidean, Manhattan or Hamming distance. The most commonly used method to calculate distance is Euclidean.\n",
    "\n",
    "     - 3.2 − Now, based on the distance value, sort them in ascending order.\n",
    "\n",
    "     - 3.3 − Next, it will choose the top K rows from the sorted array.\n",
    "\n",
    "     - 3.4 − Now, it will assign a class to the test point based on most frequent class of these rows.\n",
    "\n",
    "- Step 4 − End"
   ]
  },
  {
   "cell_type": "code",
   "execution_count": 53,
   "metadata": {},
   "outputs": [
    {
     "data": {
      "text/plain": [
       "PyObject <class 'sklearn.neighbors._classification.KNeighborsClassifier'>"
      ]
     },
     "execution_count": 53,
     "metadata": {},
     "output_type": "execute_result"
    }
   ],
   "source": [
    "@sk_import neighbors: KNeighborsClassifier"
   ]
  },
  {
   "cell_type": "code",
   "execution_count": 54,
   "metadata": {},
   "outputs": [
    {
     "data": {
      "text/plain": [
       "PyObject KNeighborsClassifier(n_neighbors=3)"
      ]
     },
     "execution_count": 54,
     "metadata": {},
     "output_type": "execute_result"
    }
   ],
   "source": [
    "model = KNeighborsClassifier(3)"
   ]
  },
  {
   "cell_type": "code",
   "execution_count": 55,
   "metadata": {},
   "outputs": [
    {
     "name": "stdout",
     "output_type": "stream",
     "text": [
      "accuracy: 0.96\n"
     ]
    }
   ],
   "source": [
    "fit!(model, X, y)\n",
    "\n",
    "accuracy = sum(predict(model, X) .== y) / length(y)\n",
    "println(\"accuracy: $accuracy\")"
   ]
  },
  {
   "cell_type": "markdown",
   "metadata": {},
   "source": [
    "# Model Evaluation"
   ]
  },
  {
   "cell_type": "markdown",
   "metadata": {},
   "source": [
    "## Confusion Matrix\n",
    "\n",
    "A confusion matrix shows the number of correct and incorrect predictions made by the classification model compared to the actual outcomes (target value) in the data. The matrix is NxN, where N is the number of target values (classes). Performance of such models is commonly evaluated using the data in the matrix. The following table displays a 2x2 confusion matrix for two classes (Positive and Negative).\n",
    "\n",
    "<img src=\"confusion.png\" alt=\"(Screenshot of wikipedia table of WA EVD cases)\"> "
   ]
  },
  {
   "cell_type": "markdown",
   "metadata": {},
   "source": [
    "- Accuracy : the proportion of the total number of predictions that were correct.\n",
    "- Positive Predictive Value or Precision : the proportion of positive cases that were correctly identified.\n",
    "- Negative Predictive Value : the proportion of negative cases that were correctly identified.\n",
    "- Sensitivity or Recall : the proportion of actual positive cases which are correctly identified. \n",
    "- Specificity : the proportion of actual negative cases which are correctly identified. \n",
    "\n"
   ]
  },
  {
   "cell_type": "markdown",
   "metadata": {},
   "source": [
    "Example\n",
    "\n",
    "<img src=\"Example.png\" alt=\"(Screenshot of wikipedia table of WA EVD cases)\"> "
   ]
  },
  {
   "cell_type": "markdown",
   "metadata": {},
   "source": [
    "### ROC Chart\n",
    "\n",
    "The ROC chart is similar to the gain or lift charts in that they provide a means of comparison between classification models. The ROC chart shows false positive rate (1-specificity) on X-axis, the probability of target=1 when its true value is 0, against true positive rate (sensitivity) on Y-axis, the probability of target=1 when its true value is 1. Ideally, the curve will climb quickly toward the top-left meaning the model correctly predicted the cases. The diagonal red line is for a random model.\n",
    "\n",
    "<img src=\"ROC.png\" alt=\"(Screenshot of wikipedia table of WA EVD cases)\"> "
   ]
  },
  {
   "cell_type": "markdown",
   "metadata": {},
   "source": [
    "### Area Under the Curve (AUC)\n",
    "Area under ROC curve is often used as a measure of quality of the classification models. A random classifier has an area under the curve of 0.5, while AUC for a perfect classifier is equal to 1. In practice, most of the classification models have an AUC between 0.5 and 1.\n",
    "\n",
    "<img src=\"AUC.png\" alt=\"(Screenshot of wikipedia table of WA EVD cases)\"> "
   ]
  },
  {
   "cell_type": "markdown",
   "metadata": {},
   "source": [
    "# Resampling Methods"
   ]
  },
  {
   "cell_type": "markdown",
   "metadata": {},
   "source": [
    "Resampling methods are an indispensable tool in modern statistics. They involve repeatedly drawing samples from a training set and refitting a model of interest on each sample in order to obtain additional information about the fitted model."
   ]
  },
  {
   "cell_type": "markdown",
   "metadata": {},
   "source": [
    "Resampling approaches can be computationally expensive, because they involve fitting the same statistical method multiple times using different subsets of the training data. However, due to recent advances in computing power, the computational requirements of resampling methods generally are not prohibitive. Here, we discuss two of the most commonly used resampling methods and  cross-validation. "
   ]
  },
  {
   "cell_type": "markdown",
   "metadata": {},
   "source": [
    "## Cross Validation"
   ]
  },
  {
   "cell_type": "markdown",
   "metadata": {},
   "source": [
    "Cross-validation can be used to estimate the test error associated with a given statistical learning method in order to evaluate its performance, or to select the appropriate level of flexibility. The process of evaluating a model’s performance is known as model assessment, whereas the process of selecting the proper level of flexibility for a model is knownas model selection."
   ]
  },
  {
   "cell_type": "markdown",
   "metadata": {},
   "source": [
    "Given a data set, the use of a particular statistical learning method is warranted if it results in a low test error. The test error can be easily calculated if a designated test set is available. The training error can be easily calculated by applying the statistical learning method to the observations used in its training. But, the training error rate often is quite different from the test error rate, and in particular the former can dramatically underestimate the latter."
   ]
  },
  {
   "cell_type": "markdown",
   "metadata": {},
   "source": [
    "### 1. The Validation Set Approach\n",
    "\n",
    "Suppose that we would like to estimate the test error associated with fitting a particular statistical learning method on a set of observations. The validation set approach, is a very simple strategy for this task. It involves randomly dividing the available set of observations into two parts, a training set and a validation set or hold-out set. The model is fit on the training set, and the fitted model is used to predict the responses for the observations in the validation set. The resulting validation set error rate typically assessed using MSE in the case of a quantitative response provides an estimate of the test error rate."
   ]
  },
  {
   "cell_type": "markdown",
   "metadata": {},
   "source": [
    "<img src=\"validation.png\" alt=\"(Screenshot of wikipedia table of WA EVD cases)\"> "
   ]
  },
  {
   "cell_type": "code",
   "execution_count": 56,
   "metadata": {},
   "outputs": [
    {
     "name": "stderr",
     "output_type": "stream",
     "text": [
      "┌ Warning: `getindex(df::DataFrame, col_inds::Union{AbstractVector, Regex, Not})` is deprecated, use `df[:, col_inds]` instead.\n",
      "│   caller = top-level scope at In[56]:4\n",
      "└ @ Core In[56]:4\n",
      "┌ Warning: `getindex(df::DataFrame, col_ind::ColumnIndex)` is deprecated, use `df[!, col_ind]` instead.\n",
      "│   caller = top-level scope at In[56]:8\n",
      "└ @ Core In[56]:8\n"
     ]
    },
    {
     "data": {
      "text/plain": [
       "150-element Array{String,1}:\n",
       " \"setosa\"\n",
       " \"setosa\"\n",
       " \"setosa\"\n",
       " \"setosa\"\n",
       " \"setosa\"\n",
       " \"setosa\"\n",
       " \"setosa\"\n",
       " \"setosa\"\n",
       " \"setosa\"\n",
       " \"setosa\"\n",
       " \"setosa\"\n",
       " \"setosa\"\n",
       " \"setosa\"\n",
       " ⋮\n",
       " \"virginica\"\n",
       " \"virginica\"\n",
       " \"virginica\"\n",
       " \"virginica\"\n",
       " \"virginica\"\n",
       " \"virginica\"\n",
       " \"virginica\"\n",
       " \"virginica\"\n",
       " \"virginica\"\n",
       " \"virginica\"\n",
       " \"virginica\"\n",
       " \"virginica\""
      ]
     },
     "execution_count": 56,
     "metadata": {},
     "output_type": "execute_result"
    }
   ],
   "source": [
    "using RDatasets: dataset\n",
    "\n",
    "iris = dataset(\"datasets\", \"iris\")\n",
    "\n",
    "# ScikitLearn.jl expects arrays, but DataFrames can also be used - see\n",
    "# the corresponding section of the manual\n",
    "X = convert(Array, iris[[:SepalLength, :SepalWidth, :PetalLength, :PetalWidth]])\n",
    "y = convert(Array, iris[:Species])"
   ]
  },
  {
   "cell_type": "markdown",
   "metadata": {},
   "source": [
    "#### Validation Set"
   ]
  },
  {
   "cell_type": "markdown",
   "metadata": {},
   "source": [
    "It involves randomly dividing the available set of observations into two parts, a training set and a validation set or hold-out set.\n",
    "\n",
    "Training Set: 70 %\n",
    "\n",
    "Testing Set: 30 %"
   ]
  },
  {
   "cell_type": "code",
   "execution_count": 57,
   "metadata": {},
   "outputs": [
    {
     "data": {
      "text/plain": [
       "4-element Array{Array,1}:\n",
       " [5.0 2.0 3.5 1.0; 6.5 3.0 5.5 1.8; … ; 7.7 3.8 6.7 2.2; 4.6 3.2 1.4 0.2]\n",
       " [5.8 2.8 5.1 2.4; 6.0 2.2 4.0 1.0; … ; 5.0 3.5 1.6 0.6; 5.4 3.7 1.5 0.2]\n",
       " [\"versicolor\", \"virginica\", \"virginica\", \"virginica\", \"virginica\", \"versicolor\", \"virginica\", \"versicolor\", \"versicolor\", \"virginica\"  …  \"versicolor\", \"versicolor\", \"versicolor\", \"setosa\", \"setosa\", \"setosa\", \"virginica\", \"versicolor\", \"virginica\", \"setosa\"]\n",
       " [\"virginica\", \"versicolor\", \"setosa\", \"virginica\", \"setosa\", \"virginica\", \"setosa\", \"versicolor\", \"versicolor\", \"versicolor\"  …  \"versicolor\", \"setosa\", \"versicolor\", \"versicolor\", \"versicolor\", \"virginica\", \"setosa\", \"virginica\", \"setosa\", \"setosa\"]"
      ]
     },
     "execution_count": 57,
     "metadata": {},
     "output_type": "execute_result"
    }
   ],
   "source": [
    "X_train, X_test, y_train, y_test = train_test_split(X, y, test_size = 0.3, random_state = 0)"
   ]
  },
  {
   "cell_type": "code",
   "execution_count": 58,
   "metadata": {},
   "outputs": [
    {
     "name": "stderr",
     "output_type": "stream",
     "text": [
      "WARNING: redefining constant LogisticRegression\n"
     ]
    },
    {
     "data": {
      "text/plain": [
       "PyObject <class 'sklearn.linear_model._logistic.LogisticRegression'>"
      ]
     },
     "execution_count": 58,
     "metadata": {},
     "output_type": "execute_result"
    }
   ],
   "source": [
    "using ScikitLearn\n",
    "\n",
    "# This model requires scikit-learn. See\n",
    "# http://scikitlearnjl.readthedocs.io/en/latest/models/#installation\n",
    "@sk_import linear_model: LogisticRegression"
   ]
  },
  {
   "cell_type": "code",
   "execution_count": 59,
   "metadata": {},
   "outputs": [
    {
     "data": {
      "text/plain": [
       "PyObject LogisticRegression()"
      ]
     },
     "execution_count": 59,
     "metadata": {},
     "output_type": "execute_result"
    }
   ],
   "source": [
    "model = LogisticRegression()"
   ]
  },
  {
   "cell_type": "code",
   "execution_count": 60,
   "metadata": {},
   "outputs": [
    {
     "data": {
      "text/plain": [
       "PyObject LogisticRegression()"
      ]
     },
     "execution_count": 60,
     "metadata": {},
     "output_type": "execute_result"
    }
   ],
   "source": [
    "fit!(model, X_train, y_train)"
   ]
  },
  {
   "cell_type": "code",
   "execution_count": 61,
   "metadata": {},
   "outputs": [
    {
     "data": {
      "text/plain": [
       "105-element Array{Any,1}:\n",
       " \"versicolor\"\n",
       " \"virginica\"\n",
       " \"virginica\"\n",
       " \"virginica\"\n",
       " \"virginica\"\n",
       " \"versicolor\"\n",
       " \"virginica\"\n",
       " \"versicolor\"\n",
       " \"versicolor\"\n",
       " \"virginica\"\n",
       " \"virginica\"\n",
       " \"virginica\"\n",
       " \"virginica\"\n",
       " ⋮\n",
       " \"setosa\"\n",
       " \"versicolor\"\n",
       " \"versicolor\"\n",
       " \"virginica\"\n",
       " \"versicolor\"\n",
       " \"setosa\"\n",
       " \"setosa\"\n",
       " \"setosa\"\n",
       " \"virginica\"\n",
       " \"versicolor\"\n",
       " \"virginica\"\n",
       " \"setosa\""
      ]
     },
     "execution_count": 61,
     "metadata": {},
     "output_type": "execute_result"
    }
   ],
   "source": [
    "y_pred=predict(model, X_test)\n",
    "y_predtrain=predict(model, X_train)"
   ]
  },
  {
   "cell_type": "markdown",
   "metadata": {},
   "source": [
    "### Training Accuracy"
   ]
  },
  {
   "cell_type": "code",
   "execution_count": 62,
   "metadata": {},
   "outputs": [
    {
     "name": "stdout",
     "output_type": "stream",
     "text": [
      "accuracy: 0.9809523809523809\n"
     ]
    }
   ],
   "source": [
    "accuracy = sum(predict(model, X_train) .== y_train) / length(y_train)\n",
    "println(\"accuracy: $accuracy\")"
   ]
  },
  {
   "cell_type": "code",
   "execution_count": 63,
   "metadata": {},
   "outputs": [
    {
     "ename": "UndefVarError",
     "evalue": "UndefVarError: confusion_matrix not defined",
     "output_type": "error",
     "traceback": [
      "UndefVarError: confusion_matrix not defined",
      "",
      "Stacktrace:",
      " [1] top-level scope at In[63]:1"
     ]
    }
   ],
   "source": [
    "confusion_matrix(y_train, y_predtrain)"
   ]
  },
  {
   "cell_type": "markdown",
   "metadata": {},
   "source": [
    "### Testing Accuracy"
   ]
  },
  {
   "cell_type": "code",
   "execution_count": 64,
   "metadata": {},
   "outputs": [
    {
     "name": "stdout",
     "output_type": "stream",
     "text": [
      "accuracy: 0.9777777777777777\n"
     ]
    }
   ],
   "source": [
    "accuracy = sum(predict(model, X_test) .== y_test) / length(y_test)\n",
    "println(\"accuracy: $accuracy\")"
   ]
  },
  {
   "cell_type": "code",
   "execution_count": 65,
   "metadata": {},
   "outputs": [
    {
     "ename": "UndefVarError",
     "evalue": "UndefVarError: confusion_matrix not defined",
     "output_type": "error",
     "traceback": [
      "UndefVarError: confusion_matrix not defined",
      "",
      "Stacktrace:",
      " [1] top-level scope at In[65]:1"
     ]
    }
   ],
   "source": [
    "confusion_matrix(y_test, y_pred)"
   ]
  },
  {
   "cell_type": "markdown",
   "metadata": {},
   "source": [
    "The validation set approach is conceptually simple and is easy to imple- ment. But it has two potential drawbacks:\n",
    "\n",
    "1. The validation estimate of the test error rate can be highly variable, depending on precisely which observations are included in the training set and which observations are included in the validation set.\n",
    "2. In the validation approach, only a subset of the observations those that are included in the training set rather than in the validation set are used to fit the model. Since statistical methods tend to perform worse when trained on fewer observations, this suggests that the validation set error rate may tend to overestimate the test error rate for the model fit on the entire data set.\n"
   ]
  },
  {
   "cell_type": "markdown",
   "metadata": {},
   "source": [
    "### 2. Leave-One-Out Cross-Validation"
   ]
  },
  {
   "cell_type": "markdown",
   "metadata": {},
   "source": [
    "Leave-one-out cross-validation (LOOCV) is closely related to the validation\n",
    "leave-one- set approach of Section 5.1.1, but it attempts to address that method’s out\n",
    "drawbacks.\n",
    "\n",
    "Like the validation set approach, LOOCV involves splitting the set of\n",
    "observations into two parts. However, instead of creating two subsets of\n",
    "comparable size, a single observation (x1,y1) is used for the validation\n",
    "set, and the remaining observations {(x2, y2), . . . , (xn, yn)} make up the\n",
    "training set. The statistical learning method is fit on the n − 1 training\n",
    "observations, and a prediction yˆ is made for the excluded observation, 1\n",
    "using its value x1. Since (x1, y1) was not used in the fitting process, MSE provides an approximately unbiased estimate for the test error.\n",
    "But even though MSE1 is unbiased for the test error, it is a poor estimate because it is highly variable, since it is based upon a single observation (x1,y1).\n",
    "\n",
    "<img src=\"loocv.png\" alt=\"(Screenshot of wikipedia table of WA EVD cases)\"> "
   ]
  },
  {
   "cell_type": "markdown",
   "metadata": {},
   "source": [
    "We can repeat the procedure by selecting (x2,y2) for the validation data, training the statistical learning procedure on the n − 1 observations {(x ,y ),(x ,y ),...,(x ,y )}, and computing MSE2 Repeating this approach n times produces n squared errors, MSE1,..., MSEn. \n",
    "\n",
    "The LOOCV estimate for the test MSE is the average of these n test error estimates:\n",
    "\n",
    "<img src=\"cv.png\" alt=\"(Screenshot of wikipedia table of WA EVD cases)\"> "
   ]
  },
  {
   "cell_type": "markdown",
   "metadata": {},
   "source": [
    "LOOCV has a couple of major advantages over the validation set approach. \n",
    "\n",
    "1. It has far less bias. In LOOCV, we repeatedly fit the statistical learning method using training sets that contain n − 1 observations, almost as many as are in the entire data set.\n",
    "2. To the validation approach which will yield different results when applied repeatedly due to randomness in the training/validation set splits, performing LOOCV multiple times will always yield the same results: there is no randomness in the training/validation set splits.\n"
   ]
  },
  {
   "cell_type": "markdown",
   "metadata": {},
   "source": [
    "### 3. k-Fold Cross-Validation\n",
    "\n",
    "<img src=\"kfold.png\" alt=\"(Screenshot of wikipedia table of WA EVD cases)\"> \n",
    "\n",
    "This approach involves randomly dividing the set of observations into k groups, or folds, of approximately equal size. The first fold is treated as a validation set, and the method is fit on the remaining k − 1 folds. The mean squared error, MSE1, is then computed on the observations in the held-out fold. This procedure is repeated k times; each time, a different group of observations is treated as a validation set. This process results in k estimates of the test error, MSE1, MSE2, . . . , MSEk. \n",
    "\n",
    "The k-fold CV estimate is computed by averaging these values,\n"
   ]
  },
  {
   "cell_type": "markdown",
   "metadata": {},
   "source": [
    "<img src=\"cvk.png\" alt=\"(Screenshot of wikipedia table of WA EVD cases)\"> "
   ]
  },
  {
   "cell_type": "markdown",
   "metadata": {},
   "source": [
    "The most obvious advantage is computational. LOOCV requires fitting the statistical learning method n times. This has the potential to be computationally expensive. But cross-validation is a very general approach that can be applied to almost any statistical learning method."
   ]
  },
  {
   "cell_type": "code",
   "execution_count": 66,
   "metadata": {},
   "outputs": [
    {
     "name": "stderr",
     "output_type": "stream",
     "text": [
      "WARNING: redefining constant LinearRegression\n"
     ]
    }
   ],
   "source": [
    "using ScikitLearn\n",
    "using ScikitLearn.CrossValidation: cross_val_predict\n",
    "\n",
    "@sk_import datasets: load_boston\n",
    "@sk_import linear_model: LinearRegression\n",
    "using PyPlot"
   ]
  },
  {
   "cell_type": "code",
   "execution_count": 67,
   "metadata": {},
   "outputs": [
    {
     "data": {
      "image/png": "[encoded data removed]",
      "text/plain": [
       "Figure(PyObject <Figure size 640x480 with 1 Axes>)"
      ]
     },
     "metadata": {},
     "output_type": "display_data"
    }
   ],
   "source": [
    "lr = LinearRegression()\n",
    "boston = load_boston()\n",
    "y = boston[\"target\"]\n",
    "\n",
    "# cross_val_predict returns an array of the same size as `y` where each entry\n",
    "# is a prediction obtained by cross validated:\n",
    "predicted = cross_val_predict(lr, boston[\"data\"], y, cv=10)\n",
    "\n",
    "PyPlot.scatter(y, predicted)\n",
    "PyPlot.plot([minimum(y), maximum(y)], [minimum(y), maximum(y)], \"k--\", lw=4)\n",
    "xlabel(\"Measured\")\n",
    "ylabel(\"Predicted\");"
   ]
  },
  {
   "cell_type": "markdown",
   "metadata": {},
   "source": [
    "## Bias-Variance Trade-Off for k-Fold Cross-Validation"
   ]
  },
  {
   "cell_type": "markdown",
   "metadata": {},
   "source": [
    "We know that bias is not the only source for concern in an esti- mating procedure; we must also consider the procedure’s variance. It turns out that LOOCV has higher variance than does k-fold CV with k < n. Why is this the case? When we perform LOOCV, we are in effect averaging the outputs of n fitted models, each of which is trained on an almost identical set of observations; therefore, these outputs are highly (positively) correlated with each other. \n",
    "\n",
    "In contrast, when we perform k-fold CV with k < n, we are averaging the outputs of k fitted models that are somewhat less correlated with each other, since the overlap between the training sets in each model is smaller. \n",
    "\n",
    "Since the mean of many highly correlated quantities has higher variance than does the mean of many quantities that are not as highly correlated, the test error estimate resulting from LOOCV tends to have higher variance than does the test error estimate resulting from k-fold CV.\n",
    "\n",
    "To summarize, there is a bias-variance trade-off associated with the choice of k in k-fold cross-validation. Typically, given these considerations, one performs k-fold cross-validation using k = 5 or k = 10, as these values have been shown empirically to yield test error rate estimates that suffer neither from excessively high bias nor from very high variance.\n"
   ]
  },
  {
   "cell_type": "code",
   "execution_count": 68,
   "metadata": {},
   "outputs": [
    {
     "data": {
      "text/plain": [
       "Plots.PyPlotBackend()"
      ]
     },
     "execution_count": 68,
     "metadata": {},
     "output_type": "execute_result"
    }
   ],
   "source": [
    "using ScikitLearn\n",
    "using PyCall\n",
    "using PyPlot, Printf\n",
    "using ScikitLearn.CrossValidation: train_test_split\n",
    "using Statistics, Random\n",
    "using DataFrames\n",
    "using CSV\n",
    "using StatsPlots\n",
    "pyplot()"
   ]
  },
  {
   "cell_type": "code",
   "execution_count": 69,
   "metadata": {},
   "outputs": [
    {
     "name": "stderr",
     "output_type": "stream",
     "text": [
      "WARNING: redefining constant LinearRegression\n"
     ]
    },
    {
     "data": {
      "text/plain": [
       "PyObject <class 'sklearn.linear_model._base.LinearRegression'>"
      ]
     },
     "execution_count": 69,
     "metadata": {},
     "output_type": "execute_result"
    }
   ],
   "source": [
    "using ScikitLearn, PyPlot, Random, Statistics, Printf\n",
    "using ScikitLearn.CrossValidation: cross_val_score\n",
    "using ScikitLearn.Pipelines: Pipeline\n",
    "\n",
    "@sk_import preprocessing: PolynomialFeatures\n",
    "@sk_import linear_model: LinearRegression\n",
    " "
   ]
  },
  {
   "cell_type": "code",
   "execution_count": 70,
   "metadata": {},
   "outputs": [
    {
     "data": {
      "image/png": "[encoded data removed]",
      "text/plain": [
       "Figure(PyObject <Figure size 1400x500 with 3 Axes>)"
      ]
     },
     "metadata": {},
     "output_type": "display_data"
    }
   ],
   "source": [
    "Random.seed!(2)\n",
    "\n",
    "n_samples = 30\n",
    "degrees = [1, 4, 15]\n",
    "\n",
    "true_fun(X) = cos.(1.5 * pi * X)\n",
    "X = sort(rand(n_samples))\n",
    "y = true_fun(X) + randn(n_samples) * 0.1\n",
    "\n",
    "figure(figsize=(14, 5))\n",
    "for (i, degree) in enumerate(degrees)\n",
    "    ax = subplot(1, length(degrees), i)\n",
    "    setp(ax, xticks=(), yticks=())\n",
    "\n",
    "    polynomial_features = PolynomialFeatures(degree=degree, include_bias=false)\n",
    "    linear_regression = LinearRegression()\n",
    "    pipeline = Pipeline([(\"polynomial_features\", polynomial_features),\n",
    "                         (\"linear_regression\", linear_regression)])\n",
    "    fit!(pipeline, hcat(X), y)\n",
    "\n",
    "    # Evaluate the models using crossvalidation\n",
    "    scores = cross_val_score(pipeline, hcat(X), y, scoring=\"mean_squared_error\", cv=10)\n",
    "\n",
    "    X_test = range(0, stop=1, length=100)\n",
    "    PyPlot.plot(X_test, predict(pipeline, hcat(X_test)), label=\"Model\")\n",
    "    PyPlot.plot(X_test, true_fun(X_test), label=\"True function\")\n",
    "    PyPlot.plot(X, y, label=\"Samples\")\n",
    "    xlabel(\"x\")\n",
    "    ylabel(\"y\")\n",
    "    xlim((0, 1))\n",
    "    ylim((-2, 2))\n",
    "    legend(loc=\"best\")\n",
    "    title(@sprintf(\"Degree %d\\nMSE = %.2e +/- %.2e\", degree, -mean(scores), std(scores)))\n",
    "end\n"
   ]
  },
  {
   "cell_type": "markdown",
   "metadata": {},
   "source": [
    "# Linear Model Selection And Regularization"
   ]
  },
  {
   "cell_type": "markdown",
   "metadata": {},
   "source": [
    "In the regression setting, the standard linear model\n",
    "    \n",
    "    Y =β0 +β1X1 +···+βpXp +ε \n",
    "\n",
    "is commonly used to describe the relationship between a response Y and a set of variables X1,X2,...,Xp. that one typically fits this model using least squares."
   ]
  },
  {
   "cell_type": "markdown",
   "metadata": {},
   "source": [
    "However, the linear model has distinct advantages in terms of inference and, on real-world problems, is often surprisingly competitive in relation to non-linear methods. Hence, before moving to the non-linear world, we discuss in this chapter some ways in which the simple linear model can be improved, by replacing plain least squares fitting with some alternative fitting procedures."
   ]
  },
  {
   "cell_type": "markdown",
   "metadata": {},
   "source": [
    "Why might we want to use another fitting procedure instead of least squares? As we will see, alternative fitting procedures can yield better prediction accuracy and model interpretability."
   ]
  },
  {
   "cell_type": "markdown",
   "metadata": {},
   "source": [
    "## 1. Prediction Accuracy:\n",
    "Provided that the true relationship between the response and the predictors is approximately linear, the least squares estimates will have low bias. \n",
    "\n",
    "If n ≫ p—that is, if n, the number of observations, is much larger than p, the number of variables—then the least squares estimates tend to also have low variance, and hence will perform well on test observations. However, if n is not much larger than p, then there can be a lot of variability in the least squares fit, resulting in overfitting and consequently poor predictions on future observations not used in model training. And if p > n, then there is no longer a unique least squares coefficient estimate: the variance is infinite so the method cannot be used at all. \n",
    "\n",
    "By constraining or shrinking the estimated coefficients, we can often substantially reduce the variance at the cost of a negligible increase in bias. This can lead to substantial improvements in the accuracy with which we can predict the response for observations not used in model training.\n"
   ]
  },
  {
   "cell_type": "markdown",
   "metadata": {},
   "source": [
    "## 2. Model Interpretability.\n",
    "\n",
    "It is often the case that some or many of the\n",
    "variables used in a multiple regression model are in fact not associated with the response. Including such irrelevant variables leads to unnecessary complexity in the resulting model. \n",
    "\n",
    "By removing these\n",
    "variables that is, by setting the corresponding coefficient estimates\n",
    "to zero we can obtain a model that is more easily interpreted. Now\n",
    "least squares is extremely unlikely to yield any coefficient estimates\n",
    "that are exactly zero.  \n",
    "\n",
    "We see some approaches for automatically performing feature selection or variable selection—that is,\n",
    "for excluding irrelevant variables from a multiple regression model.\n"
   ]
  },
  {
   "cell_type": "markdown",
   "metadata": {},
   "source": [
    "There are many alternatives, both classical and modern, to using least squares to fit the model. Here we discuss three important classes of methods.\n",
    "- Subset Selection. This approach involves identifying a subset of the p predictors that we believe to be related to the response. We then fit a model using least squares on the reduced set of variables.\n",
    "\n",
    "\n",
    "-  Shrinkage. This approach involves fitting a model involving all p predictors. However, the estimated coefficients are shrunken towards zero relative to the least squares estimates. This shrinkage (also known as regularization) has the effect of reducing variance. Depending on what type of shrinkage is performed, some of the coefficients may be estimated to be exactly zero. Hence, shrinkage methods can also perform variable selection.\n",
    "\n",
    "\n",
    "-  Dimension Reduction. This approach involves projecting the p predictors into a M-dimensional subspace, where M < p. This is achieved by computing M different linear combinations, or projections, of the variables. Then these M projections are used as predictors to fit a linear regression model by least squares."
   ]
  },
  {
   "cell_type": "markdown",
   "metadata": {},
   "source": [
    "## 1. Subset Selection:\n",
    "\n",
    "We consider some methods for selecting subsets of predictors. These include best subset and stepwise model selection procedures.\n",
    "\n",
    "### A. Best Subset Selection\n",
    "To perform best subset selection, we fit a separate least squares regression\n",
    "for each possible combination of the p predictors.That is, we fit all p models    \n",
    "that contain exactly one predictor, all 􏰁\n",
    "\\begin{equation*}\n",
    "\\binom{p}{2}=\\frac{p(p−1)}{2}\n",
    "\\end{equation*}     \n",
    "models that contain 2\n",
    "exactly two predictors, and so forth. We then look at all of the resulting models, with the goal of identifying the one that is best.\n",
    "\n",
    "The problem of selecting the best model from among the 2p possibilities considered by best subset selection is not trivial."
   ]
  },
  {
   "cell_type": "markdown",
   "metadata": {},
   "source": [
    "#### Algorithm 6.1 Best subset selection\n",
    "1. Let M0 denote the null model, which contains no predictors. This\n",
    "model simply predicts the sample mean for each observation.\n",
    "2. For  k=1,2,...p:\n",
    "  - Fit all 􏰁p􏰀 models that contain exactly k predictors. k 􏰁p􏰀\n",
    "  - Pick the best among these k models, and call it Mk. Here best 2\n",
    "is defined as having the smallest RSS, or equivalently largest R .\n",
    "3. Select a single best model from among M0, . . . , Mp using cross validated prediction error, Cp (AIC), BIC, or adjusted $R^2$"
   ]
  },
  {
   "cell_type": "markdown",
   "metadata": {},
   "source": [
    "### B. Stepwise Selection\n",
    "\n",
    "For computational reasons, best subset selection cannot be applied with very large p. Best subset selection may also suffer from statistical problems when p is large. The larger the search space, the higher the chance of finding models that look good on the training data, even though they might not have any predictive power on future data. Thus an enormous search space can lead to overfitting and high variance of the coefficient estimates."
   ]
  },
  {
   "cell_type": "markdown",
   "metadata": {},
   "source": [
    "#### 1. Forward Stepwise Selection\n",
    "Forward stepwise selection is a computationally efficient alternative to best subset selection.\n",
    "Forward stepwise selection begins with a model containing no predictors, and then adds predictors to the model, one-at-a-time, until all of the predictors are in the model. In particular, at each step the variable that gives the greatest additional improvement to the fit is added to the model."
   ]
  },
  {
   "cell_type": "markdown",
   "metadata": {},
   "source": [
    "#### Algorithm 6.2 Forward stepwise selection\n",
    "\n",
    "1. Let M0 denote the null model, which contains no predictors.\n",
    "2. For  k = 0,...,p−1:\n",
    "  - Consider all p − k models that augment the predictors in Mk\n",
    "with one additional predictor.\n",
    "  - Choose the best among these p − k models, and call it Mk+1 Here best is defined as having smallest RSS or highest $R^2$\n",
    "3. Select a single best model from among M0, . . . , Mp using cross validated prediction error, Cp (AIC), BIC, or adjusted $R^2$ .\n",
    " "
   ]
  },
  {
   "cell_type": "markdown",
   "metadata": {},
   "source": [
    "#### 2. Backward Stepwise Selection\n",
    "Backward stepwise selection provides an efficient alternative to best subset selection. However, unlike forward stepwise selection, it begins with the full least squares model containing all p predictors, and then iteratively removes the least useful predictor, one-at-a-time."
   ]
  },
  {
   "cell_type": "markdown",
   "metadata": {},
   "source": [
    "1. Let M0 denote the null model, which contains no predictors.\n",
    "2. For k = p,p−1,...,1:\n",
    "  - Consider all k models that contain all but one of the predictors in Mk, for a total of k − 1 predictors.\n",
    "  - Choose the best among these k models, and call it Mk−1. Here best is defined as having smallest RSS or highest  $R^2$\n",
    "3. Select a single best model from among M0, . . . , Mp using cross validated prediction error, Cp (AIC), BIC, or adjusted $R^2$ .\n",
    " "
   ]
  },
  {
   "cell_type": "markdown",
   "metadata": {},
   "source": [
    "### Choosing the Optimal Model\n",
    "\n",
    "Best subset selection, forward selection, and backward selection result in the creation of a set of models, each of which contains a subset of the p predictors. In order to implement these methods, we need a way to determine which of these models is best. The model containing all of the predictors will always have the smallest RSS and the largest R2, since these quantities are related to the training error. Instead, we wish to choose a model with a low test error."
   ]
  },
  {
   "cell_type": "markdown",
   "metadata": {},
   "source": [
    "The training error can be a poor estimate of the test error. Therefore, RSS and R2 are not suitable for selecting the best model among a collection of models with different numbers of predictors."
   ]
  },
  {
   "cell_type": "markdown",
   "metadata": {},
   "source": [
    "In order to select the best model with respect to test error, we need to estimate this test error. There are two common approaches:\n",
    "1. We can indirectly estimate test error by making an adjustment to the training error to account for the bias due to overfitting.\n",
    "2. We can directly estimate the test error, using either a validation set approach or a cross-validation approach"
   ]
  },
  {
   "cell_type": "markdown",
   "metadata": {},
   "source": [
    "### 1. Cp, AIC, BIC, and Adjusted $R^2$"
   ]
  },
  {
   "cell_type": "markdown",
   "metadata": {},
   "source": [
    "The training set MSE is generally an under- estimate of the test MSE. (Recall that MSE = RSS/n.) This is because when we fit a model to the training data using least squares, we specifi- cally estimate the regression coefficients such that the training RSS (but not the test RSS) is as small as possible. \n",
    "\n",
    "The training error will decrease as more variables are included in the model, but the test error may not. Therefore, training set RSS and training set R2 cannot be used to select from among a set of models with different numbers of variables.\n",
    "\n",
    "However, a number of techniques for adjusting the training error for the model size are available. These approaches can be used to select among a set of models with different numbers of variables. We now consider four such approaches: Cp, Akaike information criterion (AIC), Bayesian information criterion (BIC), and adjusted $R^2$ "
   ]
  },
  {
   "cell_type": "markdown",
   "metadata": {},
   "source": [
    "### 1. Cp :\n",
    "\n",
    "For a fitted least squares model containing d predictors, the C estimate of test MSE is computed using the equation\n",
    "\n",
    "\\begin{equation*}\n",
    "Cp=\\frac{1}{n}(RSS+2d\\hat{\\sigma}^2)\n",
    "\\end{equation*} \n",
    "\n",
    "where σˆ2 is an estimate of the variance of the error ε associated with each response measurement."
   ]
  },
  {
   "cell_type": "markdown",
   "metadata": {},
   "source": [
    "\n",
    "\n",
    "The Cp statistics adds a penalty of $2d\\hat{\\sigma}^2$ to the training RSS in order to adjust for the fact that the training error tends to underestimate the test error. Clearly, the penalty increases as the number of predictors in the model increases; this is intended to adjust for the corresponding decrease in training RSS."
   ]
  },
  {
   "cell_type": "markdown",
   "metadata": {},
   "source": [
    "### 2. AIC\n",
    "The AIC criterion is defined for a large class of models fit by maximum likelihood. In the case of the model with Gaussian errors, maximum likelihood and least squares are the same thing.\n",
    "\n",
    "\\begin{equation*}\n",
    "AIC=\\frac{1}{n\\hat{\\sigma}^2}(RSS+2d\\hat{\\sigma}^2)\n",
    "\\end{equation*}\n",
    "\n",
    "where, for simplicity, we have omitted an additive constant. Hence for least squares models, Cp and AIC are proportional to each other, and so only Cp"
   ]
  },
  {
   "cell_type": "markdown",
   "metadata": {},
   "source": [
    "### 3. BIC\n",
    "BIC is derived from a Bayesian point of view, but ends up looking similar to Cp (and AIC) as well. For the least squares model with d predictors, the BIC is, up to irrelevant constants, given by\n",
    "\n",
    "\\begin{equation*}\n",
    "BIC=\\frac{1}{n}(RSS+log(n)d\\hat{\\sigma}^2)\n",
    "\\end{equation*}\n",
    "\n",
    "Like Cp, the BIC will tend to take on a small value for a model with a low test error, and so generally we select the model that has the lowest BIC value."
   ]
  },
  {
   "cell_type": "markdown",
   "metadata": {},
   "source": [
    "### 4. Adjusted $R^2$\n",
    "\n",
    "The adjusted $R^2$ statistic is another popular approach for selecting among a set of models that contain different numbers of variables. Recall that the usual $R^2$ is defined as 1 − RSS/TSS, where TSS is the total sum of squares for the response. \n",
    "\n",
    "Since RSS always decreases as more variables are added to the model, the $R^2$ always increases as more variables are added. For a least squares model with d variables, the adjusted $R^2$ statistic is calculated as\n",
    "\n",
    "<img src=\"rsquare.png\" alt=\"(Screenshot of wikipedia table of WA EVD cases)\"> "
   ]
  },
  {
   "cell_type": "markdown",
   "metadata": {},
   "source": [
    "Unlike Cp, AIC, and BIC, for which a small value indicates a model with\n",
    "a low test error, a large value of adjusted R2 indicates a model with a\n",
    "small test error."
   ]
  },
  {
   "cell_type": "markdown",
   "metadata": {},
   "source": [
    "### 2. Validation and Cross-Validation\n",
    "\n",
    "We can compute the validation set error or the\n",
    "cross-validation error for each model under consideration, and then select\n",
    "the model for which the resulting estimated test error is smallest. This pro-\n",
    "cedure has an advantage relative to AIC, BIC, Cp, and adjusted R2, in that\n",
    "it provides a direct estimate of the test error, and makes fewer assumptions\n",
    "about the true underlying model."
   ]
  },
  {
   "cell_type": "markdown",
   "metadata": {},
   "source": [
    "## 2. Shrinkage Methods:\n",
    "The subset selection methods described in Section 6.1 involve using least squares to fit a linear model that contains a subset of the predictors. As an alternative, we can fit a model containing all p predictors using a technique that constrains or regularizes the coefficient estimates, or equivalently, that shrinks the coefficient estimates towards zero.\n",
    "\n",
    "It may not be immediately obvious why such a constraint should improve the fit, but it turns out that shrinking the coefficient estimates can significantly reduce their variance. The two best-known techniques for shrinking the regression coefficients towards zero are ridge regression and the lasso."
   ]
  },
  {
   "cell_type": "markdown",
   "metadata": {},
   "source": [
    "### 1. Ridge Regression\n",
    "\n",
    "The least squares fitting procedure estimates β0,β1,...,βp using the values that minimize\n",
    "<img src=\"ridge1.png\" alt=\"(Screenshot of wikipedia table of WA EVD cases)\"> \n",
    "Ridge regression is very similar to least squares, except that the coefficients are estimated by minimizing a slightly different quantity. In particular, the ridge regression coefficient estimates βˆR are the values that minimize.\n",
    "<img src=\"ridge2.png\" alt=\"(Screenshot of wikipedia table of WA EVD cases)\"> "
   ]
  },
  {
   "cell_type": "markdown",
   "metadata": {},
   "source": [
    "where λ ≥ 0 is a tuning parameter, to be determined separately. As with least squares, ridge regression seeks coefficient estimates that fit the data well, by making the RSS\n",
    "small.\n",
    "\n",
    "However, the second term, $λ\\sum (βj)^2$, called a shrinkage penalty, is \n",
    "small when β1, . . . , βp are close to zero, and so it has the effect of shrinking\n",
    "the estimates of βj towards zero.\n",
    "\n",
    "When λ = 0, the penalty term has no effect, and ridge regression\n",
    "will produce the least squares estimates. However, as λ → ∞, the impact of\n",
    "the shrinkage penalty grows, and the ridge regression coefficient estimates\n",
    "will approach zero.\n",
    "\n",
    "The shrinkage penalty is applied to β1,...,βp, but not to the intercept β0. We want to shrink the estimated association of each variable with the response; however, we do not want to shrink the intercept, which is simply a measure of the mean value of the response when xi1 = xi2 = . . . = xip = 0. "
   ]
  },
  {
   "cell_type": "markdown",
   "metadata": {},
   "source": [
    "### Why Does Ridge Regression Improve Over Least Squares?\n",
    "\n",
    "Ridge regression’s advantage over least squares is rooted in the bias-variance trade-off. As λ increases, the flexibility of the ridge regression fit decreases, leading to decreased variance but increased bias.\n",
    "\n",
    "At the least squares coefficient estimates, which correspond to ridge regression with λ = 0, the variance is high but there is no bias. But as λ increases, the shrinkage of the ridge coefficient estimates leads to a substantial reduction in the variance of the predictions, at the expense of a slight increase in bias."
   ]
  },
  {
   "cell_type": "code",
   "execution_count": 71,
   "metadata": {},
   "outputs": [
    {
     "name": "stderr",
     "output_type": "stream",
     "text": [
      "WARNING: redefining constant load_boston\n"
     ]
    }
   ],
   "source": [
    "using ScikitLearn\n",
    "using ScikitLearn.CrossValidation: cross_val_predict\n",
    "\n",
    "@sk_import datasets: load_boston\n",
    "@sk_import linear_model: Ridge\n",
    "using PyPlot"
   ]
  },
  {
   "cell_type": "code",
   "execution_count": 72,
   "metadata": {},
   "outputs": [
    {
     "data": {
      "text/plain": [
       "506-element Array{Float64,1}:\n",
       "  39.96980566904678\n",
       "   8.443767817181927\n",
       "  18.92896768991901\n",
       "  22.28020316152497\n",
       "  70.15819554965859\n",
       "  12.457306740196957\n",
       "   0.05455119021032788\n",
       "  71.88353102898981\n",
       "  40.061413715727205\n",
       "   0.5062905694049087\n",
       "   9.111765585712204\n",
       "   4.635427281702125\n",
       "   0.9907838202520087\n",
       "   ⋮\n",
       "  15.642419333274932\n",
       "  41.59121545784503\n",
       "  35.044754631201045\n",
       "   0.7728481716452814\n",
       "   0.020344850030622728\n",
       "   0.8464998245276442\n",
       "  13.824096173243555\n",
       "   3.0200858687439043\n",
       "   5.708616920358086\n",
       "  20.671071248993307\n",
       "  24.283265236351244\n",
       " 124.220375437099"
      ]
     },
     "execution_count": 72,
     "metadata": {},
     "output_type": "execute_result"
    }
   ],
   "source": [
    "lr = Ridge()\n",
    "boston = load_boston()\n",
    "y = boston[\"target\"]\n",
    "\n",
    "# cross_val_predict returns an array of the same size as `y` where each entry\n",
    "# is a prediction obtained by cross validated:\n",
    "predicted = cross_val_predict(lr, boston[\"data\"], y, cv=10)\n",
    "\n",
    "performance_testdf = DataFrame(y=y, y_predicted = predicted)\n",
    "performance_testdf.error = performance_testdf[!,:y] - performance_testdf[!,:y_predicted]\n",
    "performance_testdf.error_sq = performance_testdf.error.*performance_testdf.error"
   ]
  },
  {
   "cell_type": "code",
   "execution_count": 73,
   "metadata": {},
   "outputs": [
    {
     "data": {
      "text/plain": [
       "mapetest (generic function with 1 method)"
      ]
     },
     "execution_count": 73,
     "metadata": {},
     "output_type": "execute_result"
    }
   ],
   "source": [
    "# MAPE function defination\n",
    "function mapetest(performance_df)\n",
    "    mape = mean(abs.(performance_df.error./performance_df.y))\n",
    "    return mape\n",
    "end\n"
   ]
  },
  {
   "cell_type": "code",
   "execution_count": 74,
   "metadata": {},
   "outputs": [
    {
     "name": "stdout",
     "output_type": "stream",
     "text": [
      "Mean Absolute test error: 3.910378746409421\n",
      "\n",
      "Mean Aboslute Percentage test error: 0.20820321173554623\n",
      "\n",
      "Root mean square test error: 5.822931339632328\n",
      "\n",
      "Mean square test error: 33.906529386072336\n",
      "\n"
     ]
    }
   ],
   "source": [
    "# Error\n",
    "println(\"Mean Absolute test error: \",mean(abs.(performance_testdf.error)), \"\\n\")\n",
    "println(\"Mean Aboslute Percentage test error: \",mapetest(performance_testdf), \"\\n\")\n",
    "println(\"Root mean square test error: \",rmse(performance_testdf), \"\\n\")\n",
    "println(\"Mean square test error: \",mean(performance_testdf.error_sq), \"\\n\")"
   ]
  },
  {
   "cell_type": "markdown",
   "metadata": {},
   "source": [
    "### 2. Lasso Regression\n",
    "Ridge regression does have one obvious disadvantage. Unlike best subset, forward stepwise, and backward stepwise selection, which will generally select models that involve just a subset of the variables, ridge regression will include all p predictors in the final model. \n",
    "\n",
    "The penalty $λ\\sum (βj)^2$  will shrink all of the coefficients towards zero, but it will not set any of them exactly to zero (unless λ = ∞). This may not be a problem for prediction accuracy, but it can create a challenge in model interpretation in settings in which the number of variables p is quite large."
   ]
  },
  {
   "cell_type": "markdown",
   "metadata": {},
   "source": [
    "The lasso is a relatively recent alternative to ridge regression that overcomes this disadvantage. \n",
    "\n",
    "<img src=\"lasso.png\" alt=\"(Screenshot of wikipedia table of WA EVD cases)\"> "
   ]
  },
  {
   "cell_type": "markdown",
   "metadata": {},
   "source": [
    "The only difference is that the $(βj)^2$ term in the ridge regression penalty has been replaced by |βj| in the lasso penalty. In statistical parlance, the lasso uses an l1 (pronounced “ell 1”) penalty instead of an l2 penalty. The l1 norm of a coefficient vector β is given by $∥β∥1 =􏰂 \\sum|βj|$."
   ]
  },
  {
   "cell_type": "markdown",
   "metadata": {},
   "source": [
    "The lasso shrinks the coefficient estimates towards zero. However, in the case of the lasso, the l1 penalty has the effect of forcing some of the coefficient estimates to be exactly equal to zero when the tuning parameter λ is sufficiently large. Hence, much like best subset se- lection, the lasso performs variable selection. As a result, models generated from the lasso are generally much easier to interpret than those produced by ridge regression. We say that the lasso yields sparse models—that is, models that involve only a subset of the variables. As in ridge regression, selecting a good value of λ for the lasso is critical; where we use cross-validation."
   ]
  },
  {
   "cell_type": "code",
   "execution_count": 75,
   "metadata": {},
   "outputs": [
    {
     "name": "stderr",
     "output_type": "stream",
     "text": [
      "WARNING: redefining constant load_boston\n"
     ]
    }
   ],
   "source": [
    "using ScikitLearn\n",
    "using ScikitLearn.CrossValidation: cross_val_predict\n",
    "\n",
    "@sk_import datasets: load_boston\n",
    "@sk_import linear_model: Lasso\n",
    "using PyPlot"
   ]
  },
  {
   "cell_type": "code",
   "execution_count": 76,
   "metadata": {},
   "outputs": [
    {
     "data": {
      "text/plain": [
       "506-element Array{Float64,1}:\n",
       "  51.041787535796864\n",
       "  18.17859386301951\n",
       "  20.094028868734696\n",
       "  13.586702825427103\n",
       "  64.11821312507242\n",
       "   1.1453981203736632\n",
       "   1.8869110344998268\n",
       "  57.51145393440651\n",
       "  36.273732130925076\n",
       "   1.5884511367177814\n",
       "  11.11812040915001\n",
       "  20.687402525156376\n",
       "   0.3790451528579222\n",
       "   ⋮\n",
       "  17.583427580858864\n",
       "  47.96996122371177\n",
       "  28.523233684669535\n",
       "   3.5104125527401493\n",
       "   0.12765713270947623\n",
       "   4.296711184340147\n",
       "  16.082979775549862\n",
       "   3.3649548769855455\n",
       "  15.534811005859721\n",
       "  23.010954270184254\n",
       "  31.278830921019793\n",
       " 180.31628741166324"
      ]
     },
     "execution_count": 76,
     "metadata": {},
     "output_type": "execute_result"
    }
   ],
   "source": [
    "lr = Lasso()\n",
    "boston = load_boston()\n",
    "y = boston[\"target\"]\n",
    "\n",
    "# cross_val_predict returns an array of the same size as `y` where each entry\n",
    "# is a prediction obtained by cross validated:\n",
    "predicted = cross_val_predict(lr, boston[\"data\"], y, cv=10)\n",
    "\n",
    "performance_testdf = DataFrame(y=y, y_predicted = predicted)\n",
    "performance_testdf.error = performance_testdf[!,:y] - performance_testdf[!,:y_predicted]\n",
    "performance_testdf.error_sq = performance_testdf.error.*performance_testdf.error"
   ]
  },
  {
   "cell_type": "code",
   "execution_count": 77,
   "metadata": {},
   "outputs": [
    {
     "name": "stdout",
     "output_type": "stream",
     "text": [
      "Mean Absolute test error: 4.066199877131211\n",
      "\n",
      "Mean Aboslute Percentage test error: 0.19544252543729593\n",
      "\n",
      "Root mean square test error: 5.867529873320226\n",
      "\n",
      "Mean square test error: 34.427906814305274\n",
      "\n"
     ]
    }
   ],
   "source": [
    "# Error\n",
    "println(\"Mean Absolute test error: \",mean(abs.(performance_testdf.error)), \"\\n\")\n",
    "println(\"Mean Aboslute Percentage test error: \",mapetest(performance_testdf), \"\\n\")\n",
    "println(\"Root mean square test error: \",rmse(performance_testdf), \"\\n\")\n",
    "println(\"Mean square test error: \",mean(performance_testdf.error_sq), \"\\n\")"
   ]
  },
  {
   "cell_type": "markdown",
   "metadata": {},
   "source": [
    "## Dimension Reduction Methods"
   ]
  },
  {
   "cell_type": "markdown",
   "metadata": {},
   "source": [
    "The methods that we have discussed so far in this chapter have controlled variance in two different ways, either by using a subset of the original variables, or by shrinking their coefficients toward zero.\n",
    "\n",
    "All of these methods signal are defined using the original predictors, X1,X2,...,Xp. We now explore a class of approaches that transform the predictors and then fit a least squares model using the transformed variables. We will refer to these tech- niques as dimension reduction methods."
   ]
  },
  {
   "cell_type": "markdown",
   "metadata": {},
   "source": [
    "Let Z1 , Z2 , . . . , ZM represent M < p linear combinations of our original p predictors. That is,\n"
   ]
  },
  {
   "cell_type": "markdown",
   "metadata": {},
   "source": [
    "\\begin{equation*}\n",
    "Zm=\\sum_{i=1}^{p}\\phi_{jm}X_{j}\n",
    "\\end{equation*}\n",
    "\n"
   ]
  },
  {
   "cell_type": "markdown",
   "metadata": {},
   "source": [
    "for some constants $\\phi_{1m}$,$\\phi_{2m}$ ...,$\\phi_{pm}$, m = 1,...,M.  We can then fit the linear regression model"
   ]
  },
  {
   "cell_type": "markdown",
   "metadata": {},
   "source": [
    "\\begin{equation*}\n",
    "y_{i}=\\theta_{0}+\\sum_{m=1}^{M}\\theta_{m}z_{im} + εi,           i=1,...,n\n",
    "\\end{equation*}\n"
   ]
  },
  {
   "cell_type": "markdown",
   "metadata": {},
   "source": [
    "using least squares. The regression coefficients are given by $\\theta_{0}$,$\\theta_{0}$, ..., $\\theta_{M}$. If the constants $\\phi_{1m}$,$\\phi_{2m}$ ...,$\\phi_{pm}$ are  chosen wisely,then such dimension reduction approaches can often outperform least squares regression."
   ]
  },
  {
   "cell_type": "markdown",
   "metadata": {},
   "source": [
    "\n",
    "The term dimension reduction comes from the fact that this approach reduces the problem of estimating the p+1 coefficients β0,β1,...,βp to the simpler problem of estimating the M + 1 coefficients θ0, θ1, . . . , θM , where M < p. \n",
    "\n",
    "In other words, the dimension of the problem has been reduced from p+1 to M +1."
   ]
  },
  {
   "cell_type": "markdown",
   "metadata": {},
   "source": [
    "<img src=\"dim.png\" alt=\"(Screenshot of wikipedia table of WA EVD cases)\"> \n",
    "\n",
    "where\n",
    "\\begin{equation*}\n",
    "\\beta_{j}=\\sum_{m=1}^{M}\\phi_{jm}\\theta_{m}\n",
    "\\end{equation*}\n",
    "\n"
   ]
  },
  {
   "cell_type": "markdown",
   "metadata": {},
   "source": [
    "Dimension reduction serves to constrain the estimated βj coefficients, since now they must take the form. This constraint on the form of the coefficients has the potential to bias the coefficient estimates. However, in situations where p is large relative to n, selecting a value of M ≪ p can significantly reduce the variance of the fitted coefficients. If M = p, and all the Zm are linearly independent, then poses no constraints. In this case, no dimension reduction occurs, and so fitting above euation is equivalent to performing least squares on the original p predictors.\n",
    "\n",
    "All dimension reduction methods work in two steps. First, the trans- formed predictors Z1, Z2, . . . , ZM are obtained. Second, the model is fit using these M predictors. However, the choice of Z1, Z2, . . . , ZM , or equiv- alently, the selection of the φjm’s, can be achieved in different ways. In this chapter, we will consider two approaches for this task: principal components and partial least squares."
   ]
  },
  {
   "cell_type": "code",
   "execution_count": 78,
   "metadata": {},
   "outputs": [],
   "source": [
    "## Principal Components Regression"
   ]
  },
  {
   "cell_type": "markdown",
   "metadata": {},
   "source": [
    "Principal components analysis (PCA) is a popular approach for deriving a low-dimensional set of features from a large set of variables. PCA is a technique for reducing the dimension of a n × p data matrix X. The first principal component direction of the data is that along which the observations vary the most. \n",
    "\n",
    "<img src=\"pca1.png\" alt=\"(Screenshot of wikipedia table of WA EVD cases)\"> "
   ]
  },
  {
   "cell_type": "markdown",
   "metadata": {},
   "source": [
    "If we projected the 100 observations onto this line, then the resulting projected observations would have the largest possible variance; projecting the observations onto any other line would yield projected observations with lower variance. Projecting a point onto a line simply involves finding the location on the line which is closest to the point."
   ]
  },
  {
   "cell_type": "markdown",
   "metadata": {},
   "source": [
    "<img src=\"pca2.png\" alt=\"(Screenshot of wikipedia table of WA EVD cases)\"> \n",
    "There is also another interpretation for PCA: the first principal compo- nent vector defines the line that is as close as possible to the data. For instance, the first principal component line minimizes the sum of the squared perpendicular distances between each point and the line. These distances are plotted as dashed line segments in the left-hand panel, in which the crosses represent the projection of each point onto the first principal component line. The first principal component has been chosen so that the projected observations are as close as possible to the original observations."
   ]
  },
  {
   "cell_type": "markdown",
   "metadata": {},
   "source": [
    "## Partial Least Squares\n",
    "PLS is a dimension reduction method,  which first identifies a new set of features Z1,...,ZM that are linear combinations of the original features, and then fits a linear model via least squares using these M new features. But unlike PCR, PLS identifies these new features in a supervised way—that is, it makes use of the response Y in order to identify new features that not only approximate the old features well, but also that are related to the response. Roughly speaking, the PLS approach attempts to find directions that help explain both the response and the predictors"
   ]
  },
  {
   "cell_type": "markdown",
   "metadata": {},
   "source": [
    "We now describe how the first PLS direction is computed. After standardizing the p predictors, PLS computes the first direction Z1 by setting each φj1 in (6.16) equal to the coefficient from the simple linear regression of Y onto Xj. One can show that this coefficient is proportional to the cor- relation between Y and Xj. Hence, in computing $Z_{1} =\\sum_{􏰂j=1}^{p} \\phi_{j1}X_{j}$, PLS places the highest weight on the variables that are most strongly related to the response.\n",
    "\n",
    "<img src=\"pls.png\" alt=\"(Screenshot of wikipedia table of WA EVD cases)\"> "
   ]
  },
  {
   "cell_type": "markdown",
   "metadata": {},
   "source": [
    "The solid green line indicates the first PLS direction, while the dotted line shows the first principal component direction. PLS has chosen a direction that has less change in the ad dimension per unit change in the pop dimension, relative\n",
    "partial least squares to PCA. This suggests that pop is more highly correlated with the response than is ad. The PLS direction does not fit the predictors as closely as does PCA, but it does a better job explaining the response."
   ]
  },
  {
   "cell_type": "markdown",
   "metadata": {},
   "source": [
    "To identify the second PLS direction we first adjust each of the variables for Z1, by regressing each variable on Z1 and taking residuals. These resid- uals can be interpreted as the remaining information that has not been explained by the first PLS direction. We then compute Z2 using this or- thogonalized data in exactly the same fashion as Z1 was computed based on the original data. This iterative approach can be repeated M times to identify multiple PLS components Z1,...,ZM. Finally, at the end of this procedure, we use least squares to fit a linear model to predict Y using Z1,...,ZM in exactly the same fashion as for PCA."
   ]
  },
  {
   "cell_type": "markdown",
   "metadata": {},
   "source": [
    "As with PCA, the number M of partial least squares directions used in PLS is a tuning parameter that is typically chosen by cross-validation. We generally standardize the predictors and response before performing PLS."
   ]
  },
  {
   "cell_type": "markdown",
   "metadata": {},
   "source": [
    "While the supervised dimension reduction of PLS can reduce bias, it also has the potential to increase variance, so that the overall benefit of PLS relative to PCA is a wash.\n"
   ]
  },
  {
   "cell_type": "markdown",
   "metadata": {},
   "source": [
    "# Moving Beyond Linearity "
   ]
  },
  {
   "cell_type": "markdown",
   "metadata": {},
   "source": [
    "Linear models are relatively simple to describe and implement, and have advantages over other approaches in terms of interpretation and inference. However, standard linear regression can have significant limitations in terms of predictive power. This is because the linearity assumption is almost always an approximation, and sometimes a poor one. we see that we can improve upon least squares using ridge regression, the lasso, principal com- ponents regression, and other techniques. In that setting, the improvement is obtained by reducing the complexity of the linear model, and hence the variance of the estimates. \n",
    "\n",
    "We relax the linearity assumption while still attempting to maintain as much interpretability as possible. We do this by examining very simple extensions of linear models like polynomial regression and step functions, as well as more sophisticated approaches such as splines, local regression, and generalized additive models."
   ]
  },
  {
   "cell_type": "markdown",
   "metadata": {},
   "source": [
    "- Polynomial regression extends the linear model by adding extra predictors, obtained by raising each of the original predictors to a power. For example, a cubic regression uses three variables, X, X2, and X3, as predictors.\n",
    "- Step functions cut the range of a variable into K distinct regions in order to produce a qualitative variable.\n",
    "- Regression splines are more flexible than polynomials and step functions, and in fact are an extension of the two. They involve dividing the range of X into K distinct regions. Within each region, a polynomial function is fit to the data\n",
    "- Smoothing splines are similar to regression splines, but arise in a slightly different situation. Smoothing splines result from minimizing a residual sum of squares criterion subject to a smoothness penalty.\n",
    "- Local regression is similar to splines, but differs in an important way. The regions are allowed to overlap, and indeed they do so in a very smooth way.\n",
    "- Generalized additive models allow us to extend the methods above to deal with multiple predictors."
   ]
  },
  {
   "cell_type": "markdown",
   "metadata": {},
   "source": [
    "## 1. Polynomial Regression\n",
    "\n",
    "The standard way to extend linear regression to settings in which the relationship between the predictors and the response is non- linear has been to replace the standard linear model\n",
    "\n",
    "$ y_{i} = β_{0} + β_{1}x_{i} + ε_{i}$\n",
    "     \n",
    "with a polynomial function\n",
    "\n",
    "$y_{i} = β_{0} + β_{1}x_{i} +β_{2}x_{i}^{2} +β_{3}x_{i}^3 +... +ε_{i}$,"
   ]
  },
  {
   "cell_type": "markdown",
   "metadata": {},
   "source": [
    "where εi is the error term. This approach is known as polynomial regression. For large\n",
    "enough degree d, a polynomial regression allows us to produce an extremely\n",
    "non-linear curve.the coefficients in above equation can be easily estimated\n",
    "using least squares linear regression because this is just a standard linear model with predictors $x_i, x_{i}^{2} , x_{i}^{3} , . . . , x_{i}^{d}$.  Generally speaking, it is unusual\n",
    "to use d greater than 3 or 4 because for large values of d, the polynomial curve can become overly flexible and can take on some very strange shapes. This is especially true near the boundary of the X variable. \n",
    "\n",
    "<img src=\"poly.png\" alt=\"(Screenshot of wikipedia table of WA EVD cases)\"> "
   ]
  },
  {
   "cell_type": "markdown",
   "metadata": {},
   "source": [
    "## 2. Step Functions\n",
    "Using polynomial functions of the features as predictors in a linear model imposes a global structure on the non-linear function of X. We can instead use step functions in order to avoid imposing such a global structure. Here we break the range of X into bins, and fit a different constant in each bin. This amounts to converting a continuous variable into an ordered categorical variable."
   ]
  },
  {
   "cell_type": "markdown",
   "metadata": {},
   "source": [
    "In greater detail, we create cutpoints $c_{1}, c_{2}, . . . , c_{K}$ in the range of X, and then construct K + 1 new variables"
   ]
  },
  {
   "cell_type": "markdown",
   "metadata": {},
   "source": [
    "$C_{0}(X) = I(X < c_{1})$\n",
    "\n",
    "$C_{1}(X) = I(c_{1} <= X < c_{2})$\n",
    "\n",
    ".\n",
    ".\n",
    ".\n",
    ".\n",
    "\n",
    "$C_{k}(X) = I(c_{k}<= X)$"
   ]
  },
  {
   "cell_type": "markdown",
   "metadata": {},
   "source": [
    "<img src=\"step.png\" alt=\"(Screenshot of wikipedia table of WA EVD cases)\"> "
   ]
  },
  {
   "cell_type": "markdown",
   "metadata": {},
   "source": [
    "where I(·) is an indicator function that returns a 1 if the condition is true, and returns a 0 otherwise. These are sometimes called dummy variables. Notice that for any value of X, $C_{0}(X)+C_{1}(X)+...+C_{K}(X) = 1$, since X must be in exactly one of the K + 1 intervals. We then use least squares to fit a linear model using $C_{1}(X), C_{2}(X), . . . , C_{K} (X)$ as predictors2"
   ]
  },
  {
   "cell_type": "markdown",
   "metadata": {},
   "source": [
    "$y_{i} = β_{0} + β_{1}C_{1}(x_{i}) + β_{2}C_{2}(x_{i}) + ... + β_{K}C_{K}(x_{i}) + ε_{i}.$"
   ]
  },
  {
   "cell_type": "markdown",
   "metadata": {},
   "source": [
    "For a given value of X, at most one of $C_{1}, C_{2}, . . . , C_{K}$ can be non-zero. Note that when X < c1, all of the predictors in equation are zero, so β0 can be interpreted as the mean value of Y for X < c1"
   ]
  },
  {
   "cell_type": "markdown",
   "metadata": {},
   "source": [
    "## 3. Basis Functions\n",
    "Polynomial and piecewise-constant regression models are in fact special cases of a basis function approach. The idea is to have at hand a fam-\n",
    "ily of functions or transformations that can be applied to a variable X: $b_{1}(X), b_{2}(X), . . . , b_{K} (X)$. Instead of fitting a linear model in X, we fit the model"
   ]
  },
  {
   "cell_type": "markdown",
   "metadata": {},
   "source": [
    "     yi = β0 + β1b1(xi) + β2b2(xi) + β3b3(xi) + ... + βKbK(xi) + εi."
   ]
  },
  {
   "cell_type": "markdown",
   "metadata": {},
   "source": [
    "Note that the basis functions b1(·),b2(·),...,bK(·) are fixed and known. (In other words, we choose the functions ahead of time.) For polynomial regression, the basis functions are $b_{j}(xi) = x_{i}^{j}$, and for piecewise constant functions they are $b_{j}(xi) = I(cj ≤ xi < cj+1)$. We can think of (7.7) as a standard linear model with predictors b1(xi),b2(xi),...,bK(xi). Hence, we can use least squares to estimate the unknown regression coefficients"
   ]
  },
  {
   "cell_type": "markdown",
   "metadata": {},
   "source": [
    "## 4 Regression Splines\n",
    "Now we discuss a flexible class of basis functions that extends upon the polynomial regression and piecewise constant regression approaches that we have just seen.\n"
   ]
  },
  {
   "cell_type": "markdown",
   "metadata": {},
   "source": [
    "### a. Piecewise Polynomials\n",
    "Instead of fitting a high-degree polynomial over the entire range of X, piece- wise polynomial regression involves fitting separate low-degree polynomials over different regions of X.Forexample,apiecewisecubicpolynomialworks by fitting a cubic regression model of the form"
   ]
  },
  {
   "cell_type": "markdown",
   "metadata": {},
   "source": [
    "$y_{i} =β_{0} +β_{1}x_{i} +β_{2}x_{i}^{2} +β_{3}x_{i}^{3} +ε_{i}$"
   ]
  },
  {
   "cell_type": "markdown",
   "metadata": {},
   "source": [
    "where the coefficients β0, β1, β2, and β3 differ in different parts of the range of X. The points where the coefficients change are called knots.\n",
    "\n",
    "A piecewise cubic polynomial with a single knot at a point c takes the form\n",
    "<img src=\"piece.png\" alt=\"(Screenshot of wikipedia table of WA EVD cases)\"> "
   ]
  },
  {
   "cell_type": "markdown",
   "metadata": {},
   "source": [
    "we fit two different polynomial functions to the data, one on the subset of the observations with xi < c, and one on the subset of the observations with xi ≥ c. The first polynomial function has coefficients $β_{01},β_{11},β_{21},β_{31}$, and the second has coefficients $β_{02},β_{12},β_{22},β_{32}$. Each of these polynomial functions can be fit using least squares applied to simple functions of the original predictor"
   ]
  },
  {
   "cell_type": "markdown",
   "metadata": {},
   "source": [
    "\n",
    "Using more knots leads to a more flexible piecewise polynomial. In gen- eral, if we place K different knots throughout the range of X, then we will end up fitting K + 1 different cubic polynomials. Note that we do not need to use a cubic polynomial.\n",
    "\n",
    "<img src=\"pieceandcon.png\" alt=\"(Screenshot of wikipedia table of WA EVD cases)\"> "
   ]
  },
  {
   "cell_type": "markdown",
   "metadata": {},
   "source": [
    "### b. Constraints and Splines\n",
    "The top left panel of Figure  looks wrong because the fitted curve is just too flexible. To remedy this problem, we can fit a piecewise polynomial under the constraint that the fitted curve must be continuous.\n",
    "\n",
    "we have added two additional constraints: now both the first and second derivatives of the piecewise polynomials are continuous\n",
    "\n",
    "The curve in the bottom left derivative plot is called a cubic spline. a total of 4 + K degrees of freedom.  The general definition of a degree-d spline is that it is a piecewise degree-d polynomial, with continuity in derivatives up to degree d − 1 at each knot. Therefore, a linear spline is obtained by fitting a line in each region of the predictor space defined by the knots, requiring continuity at each knot."
   ]
  },
  {
   "cell_type": "markdown",
   "metadata": {},
   "source": [
    "###  The Spline Basis Representation\n",
    "\n",
    "The regression splines that we just saw in the previous section may have seemed somewhat complex: how can we fit a piecewise degree-d polynomial under the constraint that it (and possibly its first d − 1 derivatives) be continuous? \n",
    "\n",
    "A cubic spline with K knots can be modeled as\n",
    "\n",
    "$y_{i} = β_{0} + β_{1}b_{1}(x_{i}) + β_{2}b_{2}(x_{i}) + · · · + β_{K+3}b_{K+3}(x_{i}) + ε_{i},$\n",
    "\n",
    "\n",
    "for an appropriate choice of basis functions b1,b2,...,bK+3. The model can then be fit using least squares.\n"
   ]
  },
  {
   "cell_type": "markdown",
   "metadata": {},
   "source": [
    "### Choosing the Number and Locations of the Knots\n",
    "When we fit a spline, where should we place the knots? The regression spline is most flexible in regions that contain a lot of knots, because in those regions the polynomial coefficients can change rapidly. Hence, one option is to place more knots in places where we feel the function might vary most rapidly, and to place fewer knots where it seems more stable.\n",
    "    \n",
    "One way to do this is to specify the desired degrees of freedom, and then have the software automatically place the corresponding number of knots at uniform quantiles of the data."
   ]
  },
  {
   "cell_type": "markdown",
   "metadata": {},
   "source": [
    "## 5. Smoothing Splines\n",
    "\n",
    "\n",
    "We create by specifying a set of knots, producing a sequence of basis functions, and then using least squares to estimate the spline coefficients. We now introduce a somewhat different approach that also produces a spline.\n",
    "\n",
    "In fitting a smooth curve to a set of data, what we really want to do is find some function, say g(x), that fits the observed data well: that is, we want $RSS = \\sum_􏰂{i=1}^{n}(yi − g(xi))^2$ to be small. However, there is a problem with this approach. If we don’t put any constraints on g(xi), then we can always make RSS zero simply by choosing g such that it interpolates all of the yi. Such a function would woefully overfit the data—it would be far too flexible. What we really want is a function g that makes RSS small, but that is also smooth.\n",
    "\n",
    "How might we ensure that g is smooth? There are a number of ways to do this. A natural approach is to find the function g that minimizes\n",
    "\n",
    "<img src=\"spline.png\" alt=\"(Screenshot of wikipedia table of WA EVD cases)\"> \n",
    "\n",
    "λ is a nonnegative tuning parameter. The function g that minimizes equation is known as a smoothing spline."
   ]
  },
  {
   "cell_type": "markdown",
   "metadata": {},
   "source": [
    "The  first term in equation is a loss function that encourages g to fit the data well, and the second term in equation is a penalty term that penalizes the variability in g. The notation g′′(t) indicates the second\n",
    "derivative of the function g. The first derivative g′(t) measures the slope\n",
    "of a function at t, and the second derivative corresponds to the amount by\n",
    "which the slope is changing."
   ]
  },
  {
   "cell_type": "markdown",
   "metadata": {},
   "source": [
    "When λ = 0, then the penalty term in equation has no effect, and so the function g will be very jumpy and will exactly interpolate the training observations. When λ → ∞, g will be perfectly smooth—it will just be a straight line that passes as closely as possible to the training points. For an intermediate value of λ, g will approximate the training observations but will be somewhat smooth. We see that λ controls the bias-variance trade-off of the smoothing spline.\n",
    "\n",
    "<img src=\"splinefit.png\" alt=\"(Screenshot of wikipedia table of WA EVD cases)\"> \n",
    "\n",
    "But the tuning parameter λ controls the roughness of the smoothing spline, and hence the effective degrees of freedom. It is possible to show that as λ increases from 0 to ∞, the effective degrees of freedom, which we write $df_{λ}$, decrease from n to 2."
   ]
  },
  {
   "cell_type": "markdown",
   "metadata": {},
   "source": [
    "## 6 Local Regression\n",
    "\n",
    "Local regression is a different approach for fitting flexible non-linear functions, which involves computing the fit at a target point x0 using only the nearby training observations.\n",
    " \n",
    "<img src=\"local.png\" alt=\"(Screenshot of wikipedia table of WA EVD cases)\"> \n",
    "    \n",
    "In this figure the blue line represents the function f(x) from which the data were generated, and the light orange line corresponds to the local\n",
    "regression estimate $\\hat{f}(x)$. Local regression is described in Algorithm "
   ]
  },
  {
   "cell_type": "markdown",
   "metadata": {},
   "source": [
    "### Algorithm  \n",
    "### Local Regression At $X = x_{0}$\n",
    "1. Gather the fraction $s = k/n$ of training points whose xi are closest\n",
    "to $x_{0}$.\n",
    "2. Assign a weight $K_{i0} = K(x_{i},x_{0})$ to each point in this neighborhood, so that the point furthest from $x_{0}$ has weight zero, and the closest has the highest weight. All but these k nearest neighbors get weight zero.\n",
    "3. Fit a weighted least squares regression of the yi on the xi using the afor mentioned weights, by finding $\\hat{β_{0}}$ and $\\hat{β_{1}}$ that minimize\n",
    "where\n",
    "\n",
    "\n",
    "\\begin{equation*}\n",
    "\\sum_{i=1}^{n}K_{i0}(y_{i}-\\beta_{0}-\\beta_{1}x_{i})^2\n",
    "\\end{equation*}\n",
    "\n",
    "\n",
    "\n",
    "4. The fitted value at x0 is given by $f(x_{0}) = \\hat{β_{0}} + \\hat{β_{0}}x_{0}.$"
   ]
  },
  {
   "cell_type": "markdown",
   "metadata": {},
   "source": [
    "The idea of local regression can be generalized in many different ways. In a setting with multiple features X1 , X2 , . . . , Xp , one very useful general- ization involves fitting a multiple linear regression model that is global in some variables, but local in another, such as time. Such varying coefficient models are a useful way of adapting a model to the most recently gathered data."
   ]
  },
  {
   "cell_type": "markdown",
   "metadata": {},
   "source": [
    "## 7 Generalized Additive Models\n",
    "\n",
    "Generalized additive models (GAMs) provide a general framework for extending a standard linear model by allowing non-linear functions of each of the variables,while maintaining additivity.Justlikelinearmodels,GAMs can be applied with both quantitative and qualitative responses. "
   ]
  },
  {
   "cell_type": "markdown",
   "metadata": {},
   "source": [
    "### a. GAMs for Regression Problems\n",
    "A natural way to extend the multiple linear regression model\n",
    "\n",
    "yi =β0 +β1xi1 +β2xi2 +···+βpxip +εi\n",
    "\n",
    "in order to allow for non-linear relationships between each feature and the response is to replace each linear component βjxij with a (smooth) non- linear function fj(xij). We would then write the model as"
   ]
  },
  {
   "cell_type": "markdown",
   "metadata": {},
   "source": [
    "<img src=\"gam1.png\" alt=\"(Screenshot of wikipedia table of WA EVD cases)\"> \n",
    "    \n",
    "\n",
    "This is an example of a GAM. It is called an additive model because we calculate a separate fj for each Xj, and then add together all of their contributions.\n",
    "\n"
   ]
  },
  {
   "cell_type": "markdown",
   "metadata": {},
   "source": [
    "## b. GAMs for Classification Problems\n",
    "\n",
    "GAMs can also be used in situations where Y is qualitative. For simplicity, here we will assume Y takes on values zero or one, and let p(X) = Pr(Y = 1|X) be the conditional probability (given the predictors) that the response equals one. Recall the logistic regression model \n",
    "\n",
    "\\begin{equation*}\n",
    "log(\\frac{𝑝(𝑋)}{1 − p(X)})={β0+β1𝑋+β2𝑋2+β3𝑋3+β4𝑋4....βp𝑋p}\n",
    " \\end{equation*}\n",
    "\n",
    "    \n",
    "This logit is the log of the odds of P(Y = 1|X) versus P(Y = 0|X), which represents as a linear function of the predictors. A natural way to extend (7.17) to allow for non-linear relationships is to use the model\n",
    "            \n",
    " \\begin{equation*}\n",
    "log(\\frac{𝑝(𝑋)}{1 − p(X)})={β0+f_{1}(𝑋_{1})+f_{2}(𝑋_{2})+f_{3}(𝑋_{3})....f_{p}(𝑋_{p})}\n",
    " \\end{equation*}\n",
    "\n",
    "is a logistic regression GAM. It has all the same pros and cons as discussed in the previous section for quantitative responses.\n",
    "\n"
   ]
  },
  {
   "cell_type": "markdown",
   "metadata": {},
   "source": [
    "# Support Vector Machine"
   ]
  },
  {
   "cell_type": "markdown",
   "metadata": {},
   "source": [
    "SVMs have been shown to perform well in a variety of settings, and are often considered one of the best “out of the box” classifiers.\n",
    "\n",
    "The support vector machine is a generalization of a simple and intu- itive classifier called the maximal margin classifier\n",
    "\n",
    "People often loosely refer to the maximal margin classifier, the support vector classifier, and the support vector machine as “support vector machines”. To avoid confusion, we will carefully distinguish between these three notions in this chapter"
   ]
  },
  {
   "cell_type": "markdown",
   "metadata": {},
   "source": [
    "## Maximal Margin Classifier\n",
    "\n",
    "we define a hyperplane and introduce the concept of an optimal separating hyperplane.\n",
    "\n",
    "### What Is a Hyperplane?\n",
    "In a p-dimensional space, a hyperplane is a flat affine subspace of dimension p − 1\n",
    "\n",
    "\n",
    "In 2D, a hyperplane is a flat one-dimensional subspace in other words, a line. In three dimensions, a hyperplane is a flat two-dimensional subspace—that is, a plane. In p > 3 dimensions, it can be hard to visualize a hyperplane, but the notion of a (p − 1)-dimensional flat subspace still applies.\n",
    "\n",
    "The mathematical definition of a hyperplane is quite simple. In two di- mensions, a hyperplane is defined by the equation\n",
    "\n",
    "$β_{0} + β_{1}X_{1} + β_{2}X_{2} = 0$\n",
    "\n",
    "for parameters β0, β1, and β2. is simply the equation of a line, since indeed in two dimensions a hyperplane is a line. Above equation can be easily extended to the p-dimensional setting:\n",
    "\n",
    "$β_{0} + β_{1}X_{1} + β_{2}X_{2} ... +β_{p}X_{p}= 0$\n",
    "\n",
    "defines a p-dimensional hyperplane, again in the sense that if a point $ X = (X1,X2,...,Xp)^{T}$ in p dimensional space(i.e.a vector of length p)satisfies above equation, then X lies on the hyperplane.\n",
    "\n",
    "Now, suppose that X does not satisfy rather,\n",
    "\n",
    "$β_{0} + β_{1}X_{1} + β_{2}X_{2} ... +β_{p}X_{p} >0$.\n",
    "\n",
    "Then this tells us that X lies to one side of the hyperplane. On the other hand, if\n",
    "\n",
    "$β_{0} + β_{1}X_{1} + β_{2}X_{2} ... +β_{p}X_{p} <0$\n",
    "\n",
    "then X lies on the other side of the hyperplane. So we can think of the hyperplane as dividing p-dimensional space into two halves. \n",
    "\n",
    "<img src=\"max.png\" alt=\"(Screenshot of wikipedia table of WA EVD cases)\"> \n",
    "   \n",
    "The hyperplane 1 + 2X1 + 3X2 = 0 is shown. The blue region is the set of points for which 1 + 2X1 + 3X2 > 0, and the purple region is the set of points for which 1 + 2X1 + 3X2 < 0."
   ]
  },
  {
   "cell_type": "markdown",
   "metadata": {},
   "source": [
    "### Classification Using a Separating Hyperplane\n",
    "\n",
    "Our goal is to develop a classifier based on the training data that will correctly classify the test observation using its feature measurements.\n",
    "\n",
    "Suppose that it is possible to construct a hyperplane that separates the training observations perfectly according to their class labels. We can label the observations from the blue class as yi = 1 and those from the purple class as yi = −1. Then a separating hyperplane has the property that\n",
    "\n",
    "β0 +β1xi1 +β2xi2 +...+βpxip > 0 if yi = 1,\n",
    "\n",
    "and\n",
    "    \n",
    "β0 + β1xi1 + β2xi2 + . . . + βpxip < 0 if yi = −1.    \n",
    "\n",
    "Equivalently, a separating hyperplane has the property that\n",
    "\n",
    "yi(β0 + β1xi1 + β2xi2 + ... + βpxip) > 0\n",
    "\n",
    "for all i = 1,...,n.\n",
    "\n",
    "If a separating hyperplane exists, we can use it to construct a very natural\n",
    "classifier: a test observation is assigned a class depending on which side of\n",
    "the hyperplane it is located.\n",
    "\n",
    "<img src=\"svm.png\" alt=\"(Screenshot of wikipedia table of WA EVD cases)\"> \n",
    "\n",
    "Left: There are two classes of observations, shown in blue and in purple, each of which has measurements on two variables. Three separating hyperplanes, out of many possible, are shown in black. Right: A separating hy- perplane is shown in black. The blue and purple grid indicates the decision rule made by a classifier based on this separating hyperplane: a test observation that falls in the blue portion of the grid will be assigned to the blue class, and a test observation that falls into the purple portion of the grid will be assigned to the purple class."
   ]
  },
  {
   "cell_type": "markdown",
   "metadata": {},
   "source": [
    "### The Maximal Margin Classifier\n",
    "A natural choice is the maximal margin hyperplane (also known as the optimal separating hyperplane), which is the separating hyperplane that is farthest from the training observations. That is, we can compute the (perpendicular) distance from each training observation to a given separat- ing hyperplane; the smallest such distance is the minimal distance from the observations to the hyperplane, and is known as the margin.\n",
    "\n",
    "The maximal margin hyperplane is the separating hyperplane for which the margin is largest—that is, it is the hyperplane that has the farthest minimum dis- tance to the training observations.\n",
    "    \n",
    "We can then classify a test observation based on which side of the maximal margin hyperplane it lies. This is known as the maximal margin classifier. We hope that a classifier that has a large margin on the training data will also have a large margin on the test data, and hence will classify the test observations correctly. Although the maxi- mal margin classifier is often successful, it can also lead to overfitting when p is large.   "
   ]
  },
  {
   "cell_type": "markdown",
   "metadata": {},
   "source": [
    "the maximal margin hyperplane represents the mid-line of the widest “slab” that we can insert between the two classes.\n",
    "\n",
    "<img src=\"svma.png\" alt=\"(Screenshot of wikipedia table of WA EVD cases)\"> \n",
    "\n",
    "\n",
    "\n",
    "These three observations are known as support vectors,since they are vectors in p-dimensional space (in Figure, p = 2) and they “support” the maximal margin hyperplane in the sense that if these points were moved slightly then the maximal margin hyper- plane would move as well.\n",
    "\n",
    "\n",
    "    \n",
    "### Construction of the Maximal Margin Classifier\n",
    "\n",
    "We now consider the task of constructing the maximal margin hyperplane based on a set of n training observations $x1,...,xn ∈ R^{p}$ and associated class labels y1, . . . , yn ∈ {−1, 1}. Briefly, the maximal margin hyperplane is the solution to the optimization problem\n",
    "\n",
    "<img src=\"maxc.png\" alt=\"(Screenshot of wikipedia table of WA EVD cases)\"> \n",
    "\n"
   ]
  },
  {
   "cell_type": "markdown",
   "metadata": {},
   "source": [
    "guarantees that each observation will be on the correct side of the hyper- plane, provided that M is positive. Hence, M represents the margin of our hyperplane, and the optimization problem chooses β0,β1,...,βp to maximize M. This is exactly the definition of the maximal margin hyperplane! The problem can be solved efficiently, but details of this optimization are outside of the scope of this book."
   ]
  },
  {
   "cell_type": "markdown",
   "metadata": {},
   "source": [
    "## The Non-separable Case\n",
    "The maximal margin classifier is a very natural way to perform classifi- cation, if a separating hyperplane exists. However, as we have hinted, in many cases no separating hyperplane exists, and so there is no maximal margin classifier. In this case, the optimization problem has no solution with M > 0. An example is shown in Figure. In this case, we cannot exactly separate the two classes. \n",
    "\n",
    "However, as we will see in the next section, we can extend the concept of a separating hyperplane in order to develop a hyperplane that almost separates the classes, using a so-called soft margin. The generalization of the maximal margin classifier to the non-separable case is known as the support vector classifier.\n",
    "\n",
    "<img src=\"non.png\" alt=\"(Screenshot of wikipedia table of WA EVD cases)\"> "
   ]
  },
  {
   "cell_type": "markdown",
   "metadata": {},
   "source": [
    "# Support Vector Classifiers\n",
    "\n",
    "The resulting maximal margin hyperplane is not satisfactory for one thing, it has only a tiny margin. This is problematic because as discussed previously, the distance of an observation from the hyperplane can be seen as a measure of our confidence that the observation was correctly classified. Moreover, the fact that the maximal mar- gin hyperplane is extremely sensitive to a change in a single observation suggests that it may have overfit the training data.\n",
    "\n",
    "The support vector classifier, sometimes called a soft margin classifier, does exactly this. Rather than seeking the largest possible margin so that every observation is not only on the correct side of the hyperplane but also on the correct side of the margin, we instead allow some observations to be on the incorrect side of the margin, or even the incorrect side of the hyperplane. (The margin is soft because it can be violated by some of the training observations.) \n",
    "\n",
    "Most of the observations are on the correct side of the margin. However, a small subset of the observations are on the wrong side of the margin.\n",
    "<img src=\"svmb.png\" alt=\"(Screenshot of wikipedia table of WA EVD cases)\"> \n",
    "In fact, when there is no separating hyperplane, such a situation is inevitable. Observations on the wrong side of the hyperplane correspond to training observations that are misclassified by the support vector classifier. "
   ]
  },
  {
   "cell_type": "markdown",
   "metadata": {},
   "source": [
    "## Details of the Support Vector Classifier\n",
    "\n",
    "The support vector classifier classifies a test observation depending on which side of a hyperplane it lies. The hyperplane is chosen to correctly support vector classifier soft margin classifier separate most of the training observations into the two classes, but may misclassify a few observations. It is the solution to the optimization problem\n",
    "\n",
    "<img src=\"svc.png\" alt=\"(Screenshot of wikipedia table of WA EVD cases)\"> \n",
    "\n",
    "where C is a nonnegative tuning parameter. M is the width\n",
    "of the margin; we seek to make this quantity as large as possible. In (9.14),\n",
    "ε1, . . . , εn are slack variables that allow individual observations to be on\n",
    "the wrong side of the margin or the hyperplane; we will explain them in\n",
    "greater detail momentarily. "
   ]
  },
  {
   "cell_type": "markdown",
   "metadata": {},
   "source": [
    "If C = 0 then there is no budget for violations to the margin, and it must be the case that ε1 = ... = εn = 0, in which case svc simply amounts to the maximal margin hyperplane optimization problem."
   ]
  },
  {
   "cell_type": "markdown",
   "metadata": {},
   "source": [
    "For C > 0 no more than C observa- tions can be on the wrong side of the hyperplane, because if an observation is on the wrong side of the hyperplane then εi > 1, and requires that 􏰂ni=1 εi ≤ C. As the budget C increases, we become more tolerant of violations to the margin, and so the margin will widen. Conversely, as C decreases, we become less tolerant of violations to the margin and so the margin narrows."
   ]
  },
  {
   "cell_type": "markdown",
   "metadata": {},
   "source": [
    "C is treated as a tuning parameter that is generally chosen via cross-validation. As with the tuning parameters that we have seen through- out this book, C controls the bias-variance trade-off of the statistical learn- ing technique. When C is small, we seek narrow margins that are rarely violated; this amounts to a classifier that is highly fit to the data, which may have low bias but high variance. On the other hand, when C is larger, the margin is wider and we allow more violations to it; this amounts to fitting the data less hard and obtaining a classifier that is potentially more biased but may have lower variance."
   ]
  },
  {
   "cell_type": "markdown",
   "metadata": {},
   "source": [
    "# Support Vector Machines\n",
    "We first discuss a general mechanism for converting a linear classifier into one that produces non-linear decision boundaries. We then introduce the support vector machine, which does this in an automatic way.\n",
    "\n",
    "## Classification with Non-linear Decision Boundaries\n",
    "    \n",
    "The support vector classifier is a natural approach for classification in the two-class setting, if the boundary between the two classes is linear. How- ever, in practice we are sometimes faced with non-linear class boundaries.\n",
    "            \n",
    "We see there that the performance of linear regression can suffer when there is a non- linear relationship between the predictors and the outcome. In that case, we consider enlarging the feature space using functions of the predictors, such as quadratic and cubic terms, in order to address this non-linearity. In the case of the support vector classifier, we could address the prob- lem of possibly non-linear boundaries between classes in a similar way, by enlarging the feature space using quadratic, cubic, and even higher-order polynomial functions of the predictors. For instance, rather than fitting a support vector classifier using p features \n",
    "            \n",
    "we could instead fit a support vector classifier using 2p features\n",
    "\n",
    "$X_{1},X_{1}^{2},X_{2},X_{2}^{2},...,X_{p},X_{p}^{2}$\n",
    "\n",
    "<img src=\"svmr.png\" alt=\"(Screenshot of wikipedia table of WA EVD cases)\"> \n",
    "\n"
   ]
  },
  {
   "cell_type": "markdown",
   "metadata": {},
   "source": [
    "The support vector machine (SVM) is an extension of the support vector classifier that results from enlarging the feature space in a specific way, using kernels."
   ]
  },
  {
   "cell_type": "code",
   "execution_count": null,
   "metadata": {},
   "outputs": [],
   "source": []
  }
 ],
 "metadata": {
  "kernelspec": {
   "display_name": "Julia 1.4.2",
   "language": "julia",
   "name": "julia-1.4"
  },
  "language_info": {
   "file_extension": ".jl",
   "mimetype": "application/julia",
   "name": "julia",
   "version": "1.4.2"
  }
 },
 "nbformat": 4,
 "nbformat_minor": 2
}
