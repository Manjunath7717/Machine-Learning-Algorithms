{
 "cells": [
  {
   "cell_type": "markdown",
   "metadata": {},
   "source": [
    "# Chapter 2\n",
    "# Data Munging"
   ]
  },
  {
   "cell_type": "markdown",
   "metadata": {},
   "source": [
    "# Introduction"
   ]
  },
  {
   "cell_type": "markdown",
   "metadata": {},
   "source": [
    "It is said that around 50% of the data scientist's time goes into transforming raw data into a usable format. Raw data can be in any format or size. It can be structured like RDBMS, semi-structured like CSV, or unstructured like regular text files. These contain some valuable information. And to extract that information, it has to be converted into a data structure or a usable format from which an algorithm can find valuable insights. "
   ]
  },
  {
   "cell_type": "markdown",
   "metadata": {},
   "source": [
    "This chapter will guide you through data munging, or the process of preparing the data. It covers the following topics:\n"
   ]
  },
  {
   "cell_type": "markdown",
   "metadata": {},
   "source": [
    "- What is data munging?\n",
    "- DataFrames.jl\n",
    "- Uploading data from a file \n",
    "- Finding the required data \n",
    "- Joins and indexing \n",
    "- Split-Apply-Combine strategy\n",
    "- Reshaping the data\n",
    "- Formula (ModelFrame and ModelMatrix) \n",
    "- PooledDataArray\n",
    "- Web scraping"
   ]
  },
  {
   "cell_type": "markdown",
   "metadata": {},
   "source": [
    "# 1. What is data munging?"
   ]
  },
  {
   "cell_type": "markdown",
   "metadata": {},
   "source": [
    "It is considered one of the most essential parts of the data science process; it involves collecting, aggregating, cleaning, and organizing the data to be consumed by the algorithms designed to make discoveries or to create models. This involves numerous steps, including extracting data from the data source and then parsing or transforming the data into a predefined data structure. Data munging is also referred to as data wrangling."
   ]
  },
  {
   "cell_type": "markdown",
   "metadata": {},
   "source": [
    "# The data munging process"
   ]
  },
  {
   "cell_type": "markdown",
   "metadata": {},
   "source": [
    "So what's the data munging process? As mentioned, data can be in any format and the data science process may require data from multiple sources. This data aggregation phase includes scraping it from websites, downloading thousands of .txt or .log files, or gathering the data from RDBMS or NoSQL data stores.\n",
    "\n",
    "It is very rare to find data in a format that can be used directly by the data science process. The data received is generally in a format unsuitable for modeling and analysis. Generally, algorithms require data to be stored in a tabular format or in matrices. This phase of converting the gathered raw data into the required format can get very complex and time consuming. But this phase creates the foundation of the sophisticated data analysis that can now be done.\n",
    "\n",
    "It is good to define the structure of the data that you will be feeding the algorithms in advance. This data structure is defined according to the nature of the problem. The algorithms that you have designed or will be designing should not just be able to accept this format of data, but they should also be able to easily identify the patterns, find the outliers, make discoveries, or meet whatever the desired outcomes are.\n",
    "\n",
    "After defining how the data will be structured, you define the process to achieve that. This is like a pipeline that will accept some forms of data and will give out meaningful data in a predefined format. This phase consists of various steps. These steps include converting data from one form to another, which may or may not require string operations or regular expressions, and finding the missing values and outliers.\n",
    "                                                                                                \n",
    "Generally, data science problems revolve around two kinds of data. These two kinds of data will be either categorical or numerical. \n",
    "\n",
    "1. Categorical data comes with labels. These labels are formed by some group of values. For example, we can treat weather with categorical features.\n",
    "\n",
    "2. Numerical data is much more common, for example, temperature. Temperature will be in floating-point numbers and we can certainly apply mathematical operations on it. "
   ]
  },
  {
   "cell_type": "markdown",
   "metadata": {},
   "source": [
    "# 2. What is a DataFrame?"
   ]
  },
  {
   "cell_type": "markdown",
   "metadata": {},
   "source": [
    "A DataFrame is a data structure that has labeled columns, which individually may have different data types. Like a SQL table or a spreadsheet, it has two dimensions. "
   ]
  },
  {
   "cell_type": "markdown",
   "metadata": {},
   "source": [
    "DataFrames are the recommended data structure for statistical analysis. Julia provides a package called DataFrames.jl , which have all necessary functions to work with DataFrames.\n"
   ]
  },
  {
   "cell_type": "markdown",
   "metadata": {},
   "source": [
    "Julia's package, DataFrames, provides three data types:\n",
    "- NA: A missing value in Julia is represented by a specific data type, NA.\n",
    "- DataArray: The array type defined in the standard Julia library, though it has many features, doesn't provide any specific functionalities for data analysis. DataArray provided in DataFrames.jl provides such features (for example, if we required to store in an array some missing values).\n",
    "- DataFrame: DataFrame is 2-D data structure, like spreadsheets. It is much like R or pandas's DataFrames, and provides many functionalities to represent and analyze data."
   ]
  },
  {
   "cell_type": "markdown",
   "metadata": {},
   "source": [
    "# The NA data type and its importance"
   ]
  },
  {
   "cell_type": "markdown",
   "metadata": {},
   "source": [
    "The DataFrames package brings with it DataArray packages, which provide NA data type. Multiple dispatch is one of the most powerful features of Julia and NA is one such example. Julia has NA type, which provides the singleton object NA that we are using to represent missing values."
   ]
  },
  {
   "cell_type": "code",
   "execution_count": 1,
   "metadata": {},
   "outputs": [
    {
     "data": {
      "text/plain": [
       "6-element Array{Float64,1}:\n",
       " 1.1\n",
       " 2.2\n",
       " 3.3\n",
       " 4.4\n",
       " 5.5\n",
       " 6.6"
      ]
     },
     "execution_count": 1,
     "metadata": {},
     "output_type": "execute_result"
    }
   ],
   "source": [
    "x = [1.1, 2.2, 3.3, 4.4, 5.5, 6.6]"
   ]
  },
  {
   "cell_type": "code",
   "execution_count": 2,
   "metadata": {},
   "outputs": [
    {
     "ename": "UndefVarError",
     "evalue": "UndefVarError: NA not defined",
     "output_type": "error",
     "traceback": [
      "UndefVarError: NA not defined",
      "",
      "Stacktrace:",
      " [1] top-level scope at In[2]:1"
     ]
    }
   ],
   "source": [
    "x[1]=NA"
   ]
  },
  {
   "cell_type": "markdown",
   "metadata": {},
   "source": [
    "Therefore, right now we cannot add NA values to the array that we have created."
   ]
  },
  {
   "cell_type": "markdown",
   "metadata": {},
   "source": [
    "So, to load the data into an array that does have NA values, we use DataArray. This\n",
    "enables us to have NA values in our dataset:\n"
   ]
  },
  {
   "cell_type": "code",
   "execution_count": 3,
   "metadata": {},
   "outputs": [],
   "source": [
    "# using DataArrays\n",
    "# x = DataArray([1.1, 2.2, 3.3, 4.4, 5.5, 6.6])"
   ]
  },
  {
   "cell_type": "markdown",
   "metadata": {},
   "source": [
    "Therefore, by using DataArrays, we can handle missing data. One more feature provided is that NA doesn't always affect functions applied on the particular dataset. So, the method that doesn't involve an NA value or is not affected by it can be applied on the dataset. If it does involve the NA value, then it will give NA as the result.\n"
   ]
  },
  {
   "cell_type": "markdown",
   "metadata": {},
   "source": [
    "# DataArray – a series-like data structure"
   ]
  },
  {
   "cell_type": "markdown",
   "metadata": {},
   "source": [
    "There are other features similar to Julia's Array type. Type aliases of Vector (one- dimensional Array type) and Matrix (two-dimensional Array type) are DataVector and DataMatrix provided by DataArray.\n"
   ]
  },
  {
   "cell_type": "markdown",
   "metadata": {},
   "source": [
    "Creating a 1-D DataArray is similar to creating an Array:\n"
   ]
  },
  {
   "cell_type": "code",
   "execution_count": 4,
   "metadata": {},
   "outputs": [],
   "source": [
    "# using DataArrays\n",
    "# dvector = data([10,20,30,40,50])"
   ]
  },
  {
   "cell_type": "code",
   "execution_count": 5,
   "metadata": {},
   "outputs": [
    {
     "data": {
      "text/plain": [
       "5-element Array{Float64,1}:\n",
       " 10.0\n",
       " 20.0\n",
       " 30.0\n",
       " 40.0\n",
       " 50.0"
      ]
     },
     "execution_count": 5,
     "metadata": {},
     "output_type": "execute_result"
    }
   ],
   "source": [
    "Array{Float64,1}([10,20,30,40,50],)"
   ]
  },
  {
   "cell_type": "markdown",
   "metadata": {},
   "source": [
    "Here, we have NA values, unlike in Arrays. Similarly, we can create a 2-D DataArray, which will be a DataMatrix:"
   ]
  },
  {
   "cell_type": "code",
   "execution_count": 6,
   "metadata": {},
   "outputs": [
    {
     "data": {
      "text/plain": [
       "2×3 Array{Float64,2}:\n",
       " 10.0  20.0  30.0\n",
       " 40.0  50.0  60.0"
      ]
     },
     "execution_count": 6,
     "metadata": {},
     "output_type": "execute_result"
    }
   ],
   "source": [
    "Array{Float64,2}([10 20 30 ; 40 50 60],)"
   ]
  },
  {
   "cell_type": "markdown",
   "metadata": {},
   "source": [
    "Note: DataArrays PACKAGE IS DEPRECATED with Julia versions above 0.7. Use Array{Union{T, Missing}}\n",
    "\n",
    "https://github.com/JuliaStats/DataArrays.jl"
   ]
  },
  {
   "cell_type": "markdown",
   "metadata": {},
   "source": [
    "# DataFrames – tabular data structures"
   ]
  },
  {
   "cell_type": "markdown",
   "metadata": {},
   "source": [
    "Arguably, this is the most important and commonly used data type in statistical computing, whether it is in R (data.frame) or Python (Pandas). This is due to the fact that all the real- world data is mostly in tabular or spreadsheet-like format. This cannot be represented by a simple DataArray:"
   ]
  },
  {
   "cell_type": "code",
   "execution_count": 7,
   "metadata": {},
   "outputs": [],
   "source": [
    "using DataFrames"
   ]
  },
  {
   "cell_type": "code",
   "execution_count": 8,
   "metadata": {},
   "outputs": [
    {
     "data": {
      "text/html": [
       "<table class=\"data-frame\"><thead><tr><th></th><th>Name</th><th>Count</th><th>OS</th></tr><tr><th></th><th>String</th><th>Float64</th><th>String</th></tr></thead><tbody><p>2 rows × 3 columns</p><tr><th>1</th><td>Ajava Rhodiumhi</td><td>14.04</td><td>Ubuntu</td></tr><tr><th>2</th><td>Las Hushjoin</td><td>17.3</td><td>Mint</td></tr></tbody></table>"
      ],
      "text/latex": [
       "\\begin{tabular}{r|ccc}\n",
       "\t& Name & Count & OS\\\\\n",
       "\t\\hline\n",
       "\t& String & Float64 & String\\\\\n",
       "\t\\hline\n",
       "\t1 & Ajava Rhodiumhi & 14.04 & Ubuntu \\\\\n",
       "\t2 & Las Hushjoin & 17.3 & Mint \\\\\n",
       "\\end{tabular}\n"
      ],
      "text/plain": [
       "2×3 DataFrame\n",
       "│ Row │ Name            │ Count   │ OS     │\n",
       "│     │ \u001b[90mString\u001b[39m          │ \u001b[90mFloat64\u001b[39m │ \u001b[90mString\u001b[39m │\n",
       "├─────┼─────────────────┼─────────┼────────┤\n",
       "│ 1   │ Ajava Rhodiumhi │ 14.04   │ Ubuntu │\n",
       "│ 2   │ Las Hushjoin    │ 17.3    │ Mint   │"
      ]
     },
     "execution_count": 8,
     "metadata": {},
     "output_type": "execute_result"
    }
   ],
   "source": [
    "df = DataFrame(Name = [\"Ajava Rhodiumhi\", \"Las Hushjoin\"], Count = [14.04, 17.3],OS = [\"Ubuntu\", \"Mint\"])\n",
    " "
   ]
  },
  {
   "cell_type": "markdown",
   "metadata": {},
   "source": [
    "Using the keyword arguments, column names can be defined."
   ]
  },
  {
   "cell_type": "markdown",
   "metadata": {},
   "source": [
    "Let's take another example by constructing a new DataFrame:"
   ]
  },
  {
   "cell_type": "code",
   "execution_count": 9,
   "metadata": {},
   "outputs": [
    {
     "data": {
      "text/html": [
       "<table class=\"data-frame\"><thead><tr><th></th></tr><tr><th></th></tr></thead><tbody><p>0 rows × 0 columns</p></tbody></table>"
      ],
      "text/latex": [
       "\\begin{tabular}{r|}\n",
       "\t& \\\\\n",
       "\t\\hline\n",
       "\t& \\\\\n",
       "\t\\hline\n",
       "\\end{tabular}\n"
      ],
      "text/plain": [
       "0×0 DataFrame\n"
      ]
     },
     "execution_count": 9,
     "metadata": {},
     "output_type": "execute_result"
    }
   ],
   "source": [
    "df2 = DataFrame()"
   ]
  },
  {
   "cell_type": "code",
   "execution_count": 10,
   "metadata": {},
   "outputs": [
    {
     "name": "stderr",
     "output_type": "stream",
     "text": [
      "┌ Warning: `setindex!(df::DataFrame, v::AbstractVector, col_ind::ColumnIndex)` is deprecated, use `begin\n",
      "│     df[!, col_ind] = v\n",
      "│     df\n",
      "│ end` instead.\n",
      "│   caller = top-level scope at In[10]:1\n",
      "└ @ Core In[10]:1\n"
     ]
    },
    {
     "data": {
      "text/plain": [
       "1:10"
      ]
     },
     "execution_count": 10,
     "metadata": {},
     "output_type": "execute_result"
    }
   ],
   "source": [
    "df2[:X] = 1:10\n"
   ]
  },
  {
   "cell_type": "code",
   "execution_count": 11,
   "metadata": {},
   "outputs": [
    {
     "name": "stderr",
     "output_type": "stream",
     "text": [
      "┌ Warning: `setindex!(df::DataFrame, v::AbstractVector, col_ind::ColumnIndex)` is deprecated, use `begin\n",
      "│     df[!, col_ind] = v\n",
      "│     df\n",
      "│ end` instead.\n",
      "│   caller = top-level scope at In[11]:1\n",
      "└ @ Core In[11]:1\n"
     ]
    },
    {
     "data": {
      "text/plain": [
       "10-element Array{String,1}:\n",
       " \"Head\"\n",
       " \"Tail\"\n",
       " \"Head\"\n",
       " \"Head\"\n",
       " \"Tail\"\n",
       " \"Head\"\n",
       " \"Tail\"\n",
       " \"Tail\"\n",
       " \"Head\"\n",
       " \"Tail\""
      ]
     },
     "execution_count": 11,
     "metadata": {},
     "output_type": "execute_result"
    }
   ],
   "source": [
    "df2[:Y] = [\"Head\", \"Tail\",\"Head\", \"Head\",\"Tail\", \"Head\",\"Tail\", \"Tail\",\"Head\", \"Tail\"]"
   ]
  },
  {
   "cell_type": "code",
   "execution_count": 12,
   "metadata": {},
   "outputs": [
    {
     "data": {
      "text/html": [
       "<table class=\"data-frame\"><thead><tr><th></th><th>X</th><th>Y</th></tr><tr><th></th><th>Int64</th><th>String</th></tr></thead><tbody><p>10 rows × 2 columns</p><tr><th>1</th><td>1</td><td>Head</td></tr><tr><th>2</th><td>2</td><td>Tail</td></tr><tr><th>3</th><td>3</td><td>Head</td></tr><tr><th>4</th><td>4</td><td>Head</td></tr><tr><th>5</th><td>5</td><td>Tail</td></tr><tr><th>6</th><td>6</td><td>Head</td></tr><tr><th>7</th><td>7</td><td>Tail</td></tr><tr><th>8</th><td>8</td><td>Tail</td></tr><tr><th>9</th><td>9</td><td>Head</td></tr><tr><th>10</th><td>10</td><td>Tail</td></tr></tbody></table>"
      ],
      "text/latex": [
       "\\begin{tabular}{r|cc}\n",
       "\t& X & Y\\\\\n",
       "\t\\hline\n",
       "\t& Int64 & String\\\\\n",
       "\t\\hline\n",
       "\t1 & 1 & Head \\\\\n",
       "\t2 & 2 & Tail \\\\\n",
       "\t3 & 3 & Head \\\\\n",
       "\t4 & 4 & Head \\\\\n",
       "\t5 & 5 & Tail \\\\\n",
       "\t6 & 6 & Head \\\\\n",
       "\t7 & 7 & Tail \\\\\n",
       "\t8 & 8 & Tail \\\\\n",
       "\t9 & 9 & Head \\\\\n",
       "\t10 & 10 & Tail \\\\\n",
       "\\end{tabular}\n"
      ],
      "text/plain": [
       "10×2 DataFrame\n",
       "│ Row │ X     │ Y      │\n",
       "│     │ \u001b[90mInt64\u001b[39m │ \u001b[90mString\u001b[39m │\n",
       "├─────┼───────┼────────┤\n",
       "│ 1   │ 1     │ Head   │\n",
       "│ 2   │ 2     │ Tail   │\n",
       "│ 3   │ 3     │ Head   │\n",
       "│ 4   │ 4     │ Head   │\n",
       "│ 5   │ 5     │ Tail   │\n",
       "│ 6   │ 6     │ Head   │\n",
       "│ 7   │ 7     │ Tail   │\n",
       "│ 8   │ 8     │ Tail   │\n",
       "│ 9   │ 9     │ Head   │\n",
       "│ 10  │ 10    │ Tail   │"
      ]
     },
     "execution_count": 12,
     "metadata": {},
     "output_type": "execute_result"
    }
   ],
   "source": [
    "df2"
   ]
  },
  {
   "cell_type": "markdown",
   "metadata": {},
   "source": [
    "To find out the size of the DataFrame created, we use the size function:"
   ]
  },
  {
   "cell_type": "code",
   "execution_count": 13,
   "metadata": {},
   "outputs": [
    {
     "data": {
      "text/plain": [
       "(10, 2)"
      ]
     },
     "execution_count": 13,
     "metadata": {},
     "output_type": "execute_result"
    }
   ],
   "source": [
    "size(df2)"
   ]
  },
  {
   "cell_type": "markdown",
   "metadata": {},
   "source": [
    "To view the first few lines of the dataset, we use head(), and for the last few lines, we use\n",
    "the tail() function:"
   ]
  },
  {
   "cell_type": "code",
   "execution_count": 14,
   "metadata": {},
   "outputs": [
    {
     "data": {
      "text/html": [
       "<table class=\"data-frame\"><thead><tr><th></th><th>X</th><th>Y</th></tr><tr><th></th><th>Int64</th><th>String</th></tr></thead><tbody><p>7 rows × 2 columns</p><tr><th>1</th><td>1</td><td>Head</td></tr><tr><th>2</th><td>2</td><td>Tail</td></tr><tr><th>3</th><td>3</td><td>Head</td></tr><tr><th>4</th><td>4</td><td>Head</td></tr><tr><th>5</th><td>5</td><td>Tail</td></tr><tr><th>6</th><td>6</td><td>Head</td></tr><tr><th>7</th><td>7</td><td>Tail</td></tr></tbody></table>"
      ],
      "text/latex": [
       "\\begin{tabular}{r|cc}\n",
       "\t& X & Y\\\\\n",
       "\t\\hline\n",
       "\t& Int64 & String\\\\\n",
       "\t\\hline\n",
       "\t1 & 1 & Head \\\\\n",
       "\t2 & 2 & Tail \\\\\n",
       "\t3 & 3 & Head \\\\\n",
       "\t4 & 4 & Head \\\\\n",
       "\t5 & 5 & Tail \\\\\n",
       "\t6 & 6 & Head \\\\\n",
       "\t7 & 7 & Tail \\\\\n",
       "\\end{tabular}\n"
      ],
      "text/plain": [
       "7×2 DataFrame\n",
       "│ Row │ X     │ Y      │\n",
       "│     │ \u001b[90mInt64\u001b[39m │ \u001b[90mString\u001b[39m │\n",
       "├─────┼───────┼────────┤\n",
       "│ 1   │ 1     │ Head   │\n",
       "│ 2   │ 2     │ Tail   │\n",
       "│ 3   │ 3     │ Head   │\n",
       "│ 4   │ 4     │ Head   │\n",
       "│ 5   │ 5     │ Tail   │\n",
       "│ 6   │ 6     │ Head   │\n",
       "│ 7   │ 7     │ Tail   │"
      ]
     },
     "execution_count": 14,
     "metadata": {},
     "output_type": "execute_result"
    }
   ],
   "source": [
    "first(df2,7)"
   ]
  },
  {
   "cell_type": "markdown",
   "metadata": {},
   "source": [
    "As we have given names to the columns of the DataFrame, these can be accessed using these names."
   ]
  },
  {
   "cell_type": "code",
   "execution_count": 15,
   "metadata": {},
   "outputs": [
    {
     "data": {
      "text/html": [
       "<table class=\"data-frame\"><thead><tr><th></th><th>X</th><th>Y</th></tr><tr><th></th><th>Int64</th><th>String</th></tr></thead><tbody><p>10 rows × 2 columns</p><tr><th>1</th><td>1</td><td>Head</td></tr><tr><th>2</th><td>2</td><td>Tail</td></tr><tr><th>3</th><td>3</td><td>Head</td></tr><tr><th>4</th><td>4</td><td>Head</td></tr><tr><th>5</th><td>5</td><td>Tail</td></tr><tr><th>6</th><td>6</td><td>Head</td></tr><tr><th>7</th><td>7</td><td>Tail</td></tr><tr><th>8</th><td>8</td><td>Tail</td></tr><tr><th>9</th><td>9</td><td>Head</td></tr><tr><th>10</th><td>10</td><td>Tail</td></tr></tbody></table>"
      ],
      "text/latex": [
       "\\begin{tabular}{r|cc}\n",
       "\t& X & Y\\\\\n",
       "\t\\hline\n",
       "\t& Int64 & String\\\\\n",
       "\t\\hline\n",
       "\t1 & 1 & Head \\\\\n",
       "\t2 & 2 & Tail \\\\\n",
       "\t3 & 3 & Head \\\\\n",
       "\t4 & 4 & Head \\\\\n",
       "\t5 & 5 & Tail \\\\\n",
       "\t6 & 6 & Head \\\\\n",
       "\t7 & 7 & Tail \\\\\n",
       "\t8 & 8 & Tail \\\\\n",
       "\t9 & 9 & Head \\\\\n",
       "\t10 & 10 & Tail \\\\\n",
       "\\end{tabular}\n"
      ],
      "text/plain": [
       "10×2 DataFrame\n",
       "│ Row │ X     │ Y      │\n",
       "│     │ \u001b[90mInt64\u001b[39m │ \u001b[90mString\u001b[39m │\n",
       "├─────┼───────┼────────┤\n",
       "│ 1   │ 1     │ Head   │\n",
       "│ 2   │ 2     │ Tail   │\n",
       "│ 3   │ 3     │ Head   │\n",
       "│ 4   │ 4     │ Head   │\n",
       "│ 5   │ 5     │ Tail   │\n",
       "│ 6   │ 6     │ Head   │\n",
       "│ 7   │ 7     │ Tail   │\n",
       "│ 8   │ 8     │ Tail   │\n",
       "│ 9   │ 9     │ Head   │\n",
       "│ 10  │ 10    │ Tail   │"
      ]
     },
     "execution_count": 15,
     "metadata": {},
     "output_type": "execute_result"
    }
   ],
   "source": [
    "df2"
   ]
  },
  {
   "cell_type": "markdown",
   "metadata": {},
   "source": [
    "If needed, we can also rename using these columns by using the rename function:"
   ]
  },
  {
   "cell_type": "code",
   "execution_count": 16,
   "metadata": {},
   "outputs": [
    {
     "data": {
      "text/html": [
       "<table class=\"data-frame\"><thead><tr><th></th><th>NewX</th><th>Y</th></tr><tr><th></th><th>Int64</th><th>String</th></tr></thead><tbody><p>10 rows × 2 columns</p><tr><th>1</th><td>1</td><td>Head</td></tr><tr><th>2</th><td>2</td><td>Tail</td></tr><tr><th>3</th><td>3</td><td>Head</td></tr><tr><th>4</th><td>4</td><td>Head</td></tr><tr><th>5</th><td>5</td><td>Tail</td></tr><tr><th>6</th><td>6</td><td>Head</td></tr><tr><th>7</th><td>7</td><td>Tail</td></tr><tr><th>8</th><td>8</td><td>Tail</td></tr><tr><th>9</th><td>9</td><td>Head</td></tr><tr><th>10</th><td>10</td><td>Tail</td></tr></tbody></table>"
      ],
      "text/latex": [
       "\\begin{tabular}{r|cc}\n",
       "\t& NewX & Y\\\\\n",
       "\t\\hline\n",
       "\t& Int64 & String\\\\\n",
       "\t\\hline\n",
       "\t1 & 1 & Head \\\\\n",
       "\t2 & 2 & Tail \\\\\n",
       "\t3 & 3 & Head \\\\\n",
       "\t4 & 4 & Head \\\\\n",
       "\t5 & 5 & Tail \\\\\n",
       "\t6 & 6 & Head \\\\\n",
       "\t7 & 7 & Tail \\\\\n",
       "\t8 & 8 & Tail \\\\\n",
       "\t9 & 9 & Head \\\\\n",
       "\t10 & 10 & Tail \\\\\n",
       "\\end{tabular}\n"
      ],
      "text/plain": [
       "10×2 DataFrame\n",
       "│ Row │ NewX  │ Y      │\n",
       "│     │ \u001b[90mInt64\u001b[39m │ \u001b[90mString\u001b[39m │\n",
       "├─────┼───────┼────────┤\n",
       "│ 1   │ 1     │ Head   │\n",
       "│ 2   │ 2     │ Tail   │\n",
       "│ 3   │ 3     │ Head   │\n",
       "│ 4   │ 4     │ Head   │\n",
       "│ 5   │ 5     │ Tail   │\n",
       "│ 6   │ 6     │ Head   │\n",
       "│ 7   │ 7     │ Tail   │\n",
       "│ 8   │ 8     │ Tail   │\n",
       "│ 9   │ 9     │ Head   │\n",
       "│ 10  │ 10    │ Tail   │"
      ]
     },
     "execution_count": 16,
     "metadata": {},
     "output_type": "execute_result"
    }
   ],
   "source": [
    "rename!(df2, Symbol(\"X\") => :NewX)"
   ]
  },
  {
   "cell_type": "markdown",
   "metadata": {},
   "source": [
    "If there is a need to rename multiple columns, then it is done by using this:"
   ]
  },
  {
   "cell_type": "code",
   "execution_count": 17,
   "metadata": {},
   "outputs": [
    {
     "data": {
      "text/html": [
       "<table class=\"data-frame\"><thead><tr><th></th><th>newX</th><th>newY</th></tr><tr><th></th><th>Int64</th><th>String</th></tr></thead><tbody><p>10 rows × 2 columns</p><tr><th>1</th><td>1</td><td>Head</td></tr><tr><th>2</th><td>2</td><td>Tail</td></tr><tr><th>3</th><td>3</td><td>Head</td></tr><tr><th>4</th><td>4</td><td>Head</td></tr><tr><th>5</th><td>5</td><td>Tail</td></tr><tr><th>6</th><td>6</td><td>Head</td></tr><tr><th>7</th><td>7</td><td>Tail</td></tr><tr><th>8</th><td>8</td><td>Tail</td></tr><tr><th>9</th><td>9</td><td>Head</td></tr><tr><th>10</th><td>10</td><td>Tail</td></tr></tbody></table>"
      ],
      "text/latex": [
       "\\begin{tabular}{r|cc}\n",
       "\t& newX & newY\\\\\n",
       "\t\\hline\n",
       "\t& Int64 & String\\\\\n",
       "\t\\hline\n",
       "\t1 & 1 & Head \\\\\n",
       "\t2 & 2 & Tail \\\\\n",
       "\t3 & 3 & Head \\\\\n",
       "\t4 & 4 & Head \\\\\n",
       "\t5 & 5 & Tail \\\\\n",
       "\t6 & 6 & Head \\\\\n",
       "\t7 & 7 & Tail \\\\\n",
       "\t8 & 8 & Tail \\\\\n",
       "\t9 & 9 & Head \\\\\n",
       "\t10 & 10 & Tail \\\\\n",
       "\\end{tabular}\n"
      ],
      "text/plain": [
       "10×2 DataFrame\n",
       "│ Row │ newX  │ newY   │\n",
       "│     │ \u001b[90mInt64\u001b[39m │ \u001b[90mString\u001b[39m │\n",
       "├─────┼───────┼────────┤\n",
       "│ 1   │ 1     │ Head   │\n",
       "│ 2   │ 2     │ Tail   │\n",
       "│ 3   │ 3     │ Head   │\n",
       "│ 4   │ 4     │ Head   │\n",
       "│ 5   │ 5     │ Tail   │\n",
       "│ 6   │ 6     │ Head   │\n",
       "│ 7   │ 7     │ Tail   │\n",
       "│ 8   │ 8     │ Tail   │\n",
       "│ 9   │ 9     │ Head   │\n",
       "│ 10  │ 10    │ Tail   │"
      ]
     },
     "execution_count": 17,
     "metadata": {},
     "output_type": "execute_result"
    }
   ],
   "source": [
    "rename!(df2, Symbol(\"NewX\") => :newX, Symbol(\"Y\") => :newY)"
   ]
  },
  {
   "cell_type": "markdown",
   "metadata": {},
   "source": [
    "Julia also provides a function called describe(), which summarizes the entire dataset. For a dataset with many columns, it can turn out to be very useful:"
   ]
  },
  {
   "cell_type": "code",
   "execution_count": 18,
   "metadata": {},
   "outputs": [
    {
     "data": {
      "text/html": [
       "<table class=\"data-frame\"><thead><tr><th></th><th>variable</th><th>mean</th><th>min</th><th>median</th><th>max</th><th>nunique</th><th>nmissing</th><th>eltype</th></tr><tr><th></th><th>Symbol</th><th>Union…</th><th>Any</th><th>Union…</th><th>Any</th><th>Union…</th><th>Nothing</th><th>DataType</th></tr></thead><tbody><p>2 rows × 8 columns</p><tr><th>1</th><td>newX</td><td>5.5</td><td>1</td><td>5.5</td><td>10</td><td></td><td></td><td>Int64</td></tr><tr><th>2</th><td>newY</td><td></td><td>Head</td><td></td><td>Tail</td><td>2</td><td></td><td>String</td></tr></tbody></table>"
      ],
      "text/latex": [
       "\\begin{tabular}{r|cccccccc}\n",
       "\t& variable & mean & min & median & max & nunique & nmissing & eltype\\\\\n",
       "\t\\hline\n",
       "\t& Symbol & Union… & Any & Union… & Any & Union… & Nothing & DataType\\\\\n",
       "\t\\hline\n",
       "\t1 & newX & 5.5 & 1 & 5.5 & 10 &  &  & Int64 \\\\\n",
       "\t2 & newY &  & Head &  & Tail & 2 &  & String \\\\\n",
       "\\end{tabular}\n"
      ],
      "text/plain": [
       "2×8 DataFrame. Omitted printing of 1 columns\n",
       "│ Row │ variable │ mean   │ min  │ median │ max  │ nunique │ nmissing │\n",
       "│     │ \u001b[90mSymbol\u001b[39m   │ \u001b[90mUnion…\u001b[39m │ \u001b[90mAny\u001b[39m  │ \u001b[90mUnion…\u001b[39m │ \u001b[90mAny\u001b[39m  │ \u001b[90mUnion…\u001b[39m  │ \u001b[90mNothing\u001b[39m  │\n",
       "├─────┼──────────┼────────┼──────┼────────┼──────┼─────────┼──────────┤\n",
       "│ 1   │ newX     │ 5.5    │ 1    │ 5.5    │ 10   │         │          │\n",
       "│ 2   │ newY     │        │ Head │        │ Tail │ 2       │          │"
      ]
     },
     "execution_count": 18,
     "metadata": {},
     "output_type": "execute_result"
    }
   ],
   "source": [
    "describe(df2) "
   ]
  },
  {
   "cell_type": "markdown",
   "metadata": {},
   "source": [
    "# Installation and using DataFrames.jl"
   ]
  },
  {
   "cell_type": "markdown",
   "metadata": {},
   "source": [
    "Installation is quite straightforward as it is a registered Julia package:\n"
   ]
  },
  {
   "cell_type": "code",
   "execution_count": 19,
   "metadata": {},
   "outputs": [
    {
     "ename": "UndefVarError",
     "evalue": "UndefVarError: Pkg not defined",
     "output_type": "error",
     "traceback": [
      "UndefVarError: Pkg not defined",
      "",
      "Stacktrace:",
      " [1] top-level scope at In[19]:1"
     ]
    }
   ],
   "source": [
    "Pkg.update()\n",
    "Pkg.add(\"DataFrames\")\n"
   ]
  },
  {
   "cell_type": "markdown",
   "metadata": {},
   "source": [
    "This adds all the required packages to the current namespace. To use the DataFrames package:\n"
   ]
  },
  {
   "cell_type": "code",
   "execution_count": 20,
   "metadata": {},
   "outputs": [],
   "source": [
    "using DataFrames"
   ]
  },
  {
   "cell_type": "markdown",
   "metadata": {},
   "source": [
    "It is also good to have classical datasets that are common for learning purposes. These datasets can be found in the RDatasets package:\n"
   ]
  },
  {
   "cell_type": "code",
   "execution_count": 21,
   "metadata": {},
   "outputs": [
    {
     "ename": "UndefVarError",
     "evalue": "UndefVarError: Pkg not defined",
     "output_type": "error",
     "traceback": [
      "UndefVarError: Pkg not defined",
      "",
      "Stacktrace:",
      " [1] top-level scope at In[21]:1"
     ]
    }
   ],
   "source": [
    "Pkg.add(\"RDatasets\")"
   ]
  },
  {
   "cell_type": "code",
   "execution_count": 22,
   "metadata": {},
   "outputs": [],
   "source": [
    "using RDatasets"
   ]
  },
  {
   "cell_type": "markdown",
   "metadata": {},
   "source": [
    "The list of the R packages available can be found using:\n"
   ]
  },
  {
   "cell_type": "code",
   "execution_count": 23,
   "metadata": {},
   "outputs": [
    {
     "data": {
      "text/html": [
       "<table class=\"data-frame\"><thead><tr><th></th><th>SepalLength</th><th>SepalWidth</th><th>PetalLength</th><th>PetalWidth</th><th>Species</th></tr><tr><th></th><th>Float64</th><th>Float64</th><th>Float64</th><th>Float64</th><th>Cat…</th></tr></thead><tbody><p>150 rows × 5 columns</p><tr><th>1</th><td>5.1</td><td>3.5</td><td>1.4</td><td>0.2</td><td>setosa</td></tr><tr><th>2</th><td>4.9</td><td>3.0</td><td>1.4</td><td>0.2</td><td>setosa</td></tr><tr><th>3</th><td>4.7</td><td>3.2</td><td>1.3</td><td>0.2</td><td>setosa</td></tr><tr><th>4</th><td>4.6</td><td>3.1</td><td>1.5</td><td>0.2</td><td>setosa</td></tr><tr><th>5</th><td>5.0</td><td>3.6</td><td>1.4</td><td>0.2</td><td>setosa</td></tr><tr><th>6</th><td>5.4</td><td>3.9</td><td>1.7</td><td>0.4</td><td>setosa</td></tr><tr><th>7</th><td>4.6</td><td>3.4</td><td>1.4</td><td>0.3</td><td>setosa</td></tr><tr><th>8</th><td>5.0</td><td>3.4</td><td>1.5</td><td>0.2</td><td>setosa</td></tr><tr><th>9</th><td>4.4</td><td>2.9</td><td>1.4</td><td>0.2</td><td>setosa</td></tr><tr><th>10</th><td>4.9</td><td>3.1</td><td>1.5</td><td>0.1</td><td>setosa</td></tr><tr><th>11</th><td>5.4</td><td>3.7</td><td>1.5</td><td>0.2</td><td>setosa</td></tr><tr><th>12</th><td>4.8</td><td>3.4</td><td>1.6</td><td>0.2</td><td>setosa</td></tr><tr><th>13</th><td>4.8</td><td>3.0</td><td>1.4</td><td>0.1</td><td>setosa</td></tr><tr><th>14</th><td>4.3</td><td>3.0</td><td>1.1</td><td>0.1</td><td>setosa</td></tr><tr><th>15</th><td>5.8</td><td>4.0</td><td>1.2</td><td>0.2</td><td>setosa</td></tr><tr><th>16</th><td>5.7</td><td>4.4</td><td>1.5</td><td>0.4</td><td>setosa</td></tr><tr><th>17</th><td>5.4</td><td>3.9</td><td>1.3</td><td>0.4</td><td>setosa</td></tr><tr><th>18</th><td>5.1</td><td>3.5</td><td>1.4</td><td>0.3</td><td>setosa</td></tr><tr><th>19</th><td>5.7</td><td>3.8</td><td>1.7</td><td>0.3</td><td>setosa</td></tr><tr><th>20</th><td>5.1</td><td>3.8</td><td>1.5</td><td>0.3</td><td>setosa</td></tr><tr><th>21</th><td>5.4</td><td>3.4</td><td>1.7</td><td>0.2</td><td>setosa</td></tr><tr><th>22</th><td>5.1</td><td>3.7</td><td>1.5</td><td>0.4</td><td>setosa</td></tr><tr><th>23</th><td>4.6</td><td>3.6</td><td>1.0</td><td>0.2</td><td>setosa</td></tr><tr><th>24</th><td>5.1</td><td>3.3</td><td>1.7</td><td>0.5</td><td>setosa</td></tr><tr><th>25</th><td>4.8</td><td>3.4</td><td>1.9</td><td>0.2</td><td>setosa</td></tr><tr><th>26</th><td>5.0</td><td>3.0</td><td>1.6</td><td>0.2</td><td>setosa</td></tr><tr><th>27</th><td>5.0</td><td>3.4</td><td>1.6</td><td>0.4</td><td>setosa</td></tr><tr><th>28</th><td>5.2</td><td>3.5</td><td>1.5</td><td>0.2</td><td>setosa</td></tr><tr><th>29</th><td>5.2</td><td>3.4</td><td>1.4</td><td>0.2</td><td>setosa</td></tr><tr><th>30</th><td>4.7</td><td>3.2</td><td>1.6</td><td>0.2</td><td>setosa</td></tr><tr><th>&vellip;</th><td>&vellip;</td><td>&vellip;</td><td>&vellip;</td><td>&vellip;</td><td>&vellip;</td></tr></tbody></table>"
      ],
      "text/latex": [
       "\\begin{tabular}{r|ccccc}\n",
       "\t& SepalLength & SepalWidth & PetalLength & PetalWidth & Species\\\\\n",
       "\t\\hline\n",
       "\t& Float64 & Float64 & Float64 & Float64 & Cat…\\\\\n",
       "\t\\hline\n",
       "\t1 & 5.1 & 3.5 & 1.4 & 0.2 & setosa \\\\\n",
       "\t2 & 4.9 & 3.0 & 1.4 & 0.2 & setosa \\\\\n",
       "\t3 & 4.7 & 3.2 & 1.3 & 0.2 & setosa \\\\\n",
       "\t4 & 4.6 & 3.1 & 1.5 & 0.2 & setosa \\\\\n",
       "\t5 & 5.0 & 3.6 & 1.4 & 0.2 & setosa \\\\\n",
       "\t6 & 5.4 & 3.9 & 1.7 & 0.4 & setosa \\\\\n",
       "\t7 & 4.6 & 3.4 & 1.4 & 0.3 & setosa \\\\\n",
       "\t8 & 5.0 & 3.4 & 1.5 & 0.2 & setosa \\\\\n",
       "\t9 & 4.4 & 2.9 & 1.4 & 0.2 & setosa \\\\\n",
       "\t10 & 4.9 & 3.1 & 1.5 & 0.1 & setosa \\\\\n",
       "\t11 & 5.4 & 3.7 & 1.5 & 0.2 & setosa \\\\\n",
       "\t12 & 4.8 & 3.4 & 1.6 & 0.2 & setosa \\\\\n",
       "\t13 & 4.8 & 3.0 & 1.4 & 0.1 & setosa \\\\\n",
       "\t14 & 4.3 & 3.0 & 1.1 & 0.1 & setosa \\\\\n",
       "\t15 & 5.8 & 4.0 & 1.2 & 0.2 & setosa \\\\\n",
       "\t16 & 5.7 & 4.4 & 1.5 & 0.4 & setosa \\\\\n",
       "\t17 & 5.4 & 3.9 & 1.3 & 0.4 & setosa \\\\\n",
       "\t18 & 5.1 & 3.5 & 1.4 & 0.3 & setosa \\\\\n",
       "\t19 & 5.7 & 3.8 & 1.7 & 0.3 & setosa \\\\\n",
       "\t20 & 5.1 & 3.8 & 1.5 & 0.3 & setosa \\\\\n",
       "\t21 & 5.4 & 3.4 & 1.7 & 0.2 & setosa \\\\\n",
       "\t22 & 5.1 & 3.7 & 1.5 & 0.4 & setosa \\\\\n",
       "\t23 & 4.6 & 3.6 & 1.0 & 0.2 & setosa \\\\\n",
       "\t24 & 5.1 & 3.3 & 1.7 & 0.5 & setosa \\\\\n",
       "\t25 & 4.8 & 3.4 & 1.9 & 0.2 & setosa \\\\\n",
       "\t26 & 5.0 & 3.0 & 1.6 & 0.2 & setosa \\\\\n",
       "\t27 & 5.0 & 3.4 & 1.6 & 0.4 & setosa \\\\\n",
       "\t28 & 5.2 & 3.5 & 1.5 & 0.2 & setosa \\\\\n",
       "\t29 & 5.2 & 3.4 & 1.4 & 0.2 & setosa \\\\\n",
       "\t30 & 4.7 & 3.2 & 1.6 & 0.2 & setosa \\\\\n",
       "\t$\\dots$ & $\\dots$ & $\\dots$ & $\\dots$ & $\\dots$ & $\\dots$ \\\\\n",
       "\\end{tabular}\n"
      ],
      "text/plain": [
       "150×5 DataFrame\n",
       "│ Row │ SepalLength │ SepalWidth │ PetalLength │ PetalWidth │ Species   │\n",
       "│     │ \u001b[90mFloat64\u001b[39m     │ \u001b[90mFloat64\u001b[39m    │ \u001b[90mFloat64\u001b[39m     │ \u001b[90mFloat64\u001b[39m    │ \u001b[90mCat…\u001b[39m      │\n",
       "├─────┼─────────────┼────────────┼─────────────┼────────────┼───────────┤\n",
       "│ 1   │ 5.1         │ 3.5        │ 1.4         │ 0.2        │ setosa    │\n",
       "│ 2   │ 4.9         │ 3.0        │ 1.4         │ 0.2        │ setosa    │\n",
       "│ 3   │ 4.7         │ 3.2        │ 1.3         │ 0.2        │ setosa    │\n",
       "│ 4   │ 4.6         │ 3.1        │ 1.5         │ 0.2        │ setosa    │\n",
       "│ 5   │ 5.0         │ 3.6        │ 1.4         │ 0.2        │ setosa    │\n",
       "│ 6   │ 5.4         │ 3.9        │ 1.7         │ 0.4        │ setosa    │\n",
       "│ 7   │ 4.6         │ 3.4        │ 1.4         │ 0.3        │ setosa    │\n",
       "│ 8   │ 5.0         │ 3.4        │ 1.5         │ 0.2        │ setosa    │\n",
       "│ 9   │ 4.4         │ 2.9        │ 1.4         │ 0.2        │ setosa    │\n",
       "│ 10  │ 4.9         │ 3.1        │ 1.5         │ 0.1        │ setosa    │\n",
       "⋮\n",
       "│ 140 │ 6.9         │ 3.1        │ 5.4         │ 2.1        │ virginica │\n",
       "│ 141 │ 6.7         │ 3.1        │ 5.6         │ 2.4        │ virginica │\n",
       "│ 142 │ 6.9         │ 3.1        │ 5.1         │ 2.3        │ virginica │\n",
       "│ 143 │ 5.8         │ 2.7        │ 5.1         │ 1.9        │ virginica │\n",
       "│ 144 │ 6.8         │ 3.2        │ 5.9         │ 2.3        │ virginica │\n",
       "│ 145 │ 6.7         │ 3.3        │ 5.7         │ 2.5        │ virginica │\n",
       "│ 146 │ 6.7         │ 3.0        │ 5.2         │ 2.3        │ virginica │\n",
       "│ 147 │ 6.3         │ 2.5        │ 5.0         │ 1.9        │ virginica │\n",
       "│ 148 │ 6.5         │ 3.0        │ 5.2         │ 2.0        │ virginica │\n",
       "│ 149 │ 6.2         │ 3.4        │ 5.4         │ 2.3        │ virginica │\n",
       "│ 150 │ 5.9         │ 3.0        │ 5.1         │ 1.8        │ virginica │"
      ]
     },
     "execution_count": 23,
     "metadata": {},
     "output_type": "execute_result"
    }
   ],
   "source": [
    "iris_dataset = dataset(\"datasets\", \"iris\")"
   ]
  },
  {
   "cell_type": "markdown",
   "metadata": {},
   "source": [
    "You can see that the dataset() function has returned a DataFrame. The dataset contains five columns: SepalLength, SepalWidth, PetalLength, PetalWidth, and Species. It is quite easy to understand the data. A large number of samples have been taken for every species, and the length and width of sepal and petal have been measured, which can be used later to distinguish between them:"
   ]
  },
  {
   "cell_type": "code",
   "execution_count": 24,
   "metadata": {},
   "outputs": [
    {
     "data": {
      "text/html": [
       "<table class=\"data-frame\"><thead><tr><th></th><th>SepalLength</th><th>SepalWidth</th><th>PetalLength</th><th>PetalWidth</th><th>Species</th></tr><tr><th></th><th>Float64</th><th>Float64</th><th>Float64</th><th>Float64</th><th>Cat…</th></tr></thead><tbody><p>10 rows × 5 columns</p><tr><th>1</th><td>5.1</td><td>3.5</td><td>1.4</td><td>0.2</td><td>setosa</td></tr><tr><th>2</th><td>4.9</td><td>3.0</td><td>1.4</td><td>0.2</td><td>setosa</td></tr><tr><th>3</th><td>4.7</td><td>3.2</td><td>1.3</td><td>0.2</td><td>setosa</td></tr><tr><th>4</th><td>4.6</td><td>3.1</td><td>1.5</td><td>0.2</td><td>setosa</td></tr><tr><th>5</th><td>5.0</td><td>3.6</td><td>1.4</td><td>0.2</td><td>setosa</td></tr><tr><th>6</th><td>5.4</td><td>3.9</td><td>1.7</td><td>0.4</td><td>setosa</td></tr><tr><th>7</th><td>4.6</td><td>3.4</td><td>1.4</td><td>0.3</td><td>setosa</td></tr><tr><th>8</th><td>5.0</td><td>3.4</td><td>1.5</td><td>0.2</td><td>setosa</td></tr><tr><th>9</th><td>4.4</td><td>2.9</td><td>1.4</td><td>0.2</td><td>setosa</td></tr><tr><th>10</th><td>4.9</td><td>3.1</td><td>1.5</td><td>0.1</td><td>setosa</td></tr></tbody></table>"
      ],
      "text/latex": [
       "\\begin{tabular}{r|ccccc}\n",
       "\t& SepalLength & SepalWidth & PetalLength & PetalWidth & Species\\\\\n",
       "\t\\hline\n",
       "\t& Float64 & Float64 & Float64 & Float64 & Cat…\\\\\n",
       "\t\\hline\n",
       "\t1 & 5.1 & 3.5 & 1.4 & 0.2 & setosa \\\\\n",
       "\t2 & 4.9 & 3.0 & 1.4 & 0.2 & setosa \\\\\n",
       "\t3 & 4.7 & 3.2 & 1.3 & 0.2 & setosa \\\\\n",
       "\t4 & 4.6 & 3.1 & 1.5 & 0.2 & setosa \\\\\n",
       "\t5 & 5.0 & 3.6 & 1.4 & 0.2 & setosa \\\\\n",
       "\t6 & 5.4 & 3.9 & 1.7 & 0.4 & setosa \\\\\n",
       "\t7 & 4.6 & 3.4 & 1.4 & 0.3 & setosa \\\\\n",
       "\t8 & 5.0 & 3.4 & 1.5 & 0.2 & setosa \\\\\n",
       "\t9 & 4.4 & 2.9 & 1.4 & 0.2 & setosa \\\\\n",
       "\t10 & 4.9 & 3.1 & 1.5 & 0.1 & setosa \\\\\n",
       "\\end{tabular}\n"
      ],
      "text/plain": [
       "10×5 DataFrame\n",
       "│ Row │ SepalLength │ SepalWidth │ PetalLength │ PetalWidth │ Species │\n",
       "│     │ \u001b[90mFloat64\u001b[39m     │ \u001b[90mFloat64\u001b[39m    │ \u001b[90mFloat64\u001b[39m     │ \u001b[90mFloat64\u001b[39m    │ \u001b[90mCat…\u001b[39m    │\n",
       "├─────┼─────────────┼────────────┼─────────────┼────────────┼─────────┤\n",
       "│ 1   │ 5.1         │ 3.5        │ 1.4         │ 0.2        │ setosa  │\n",
       "│ 2   │ 4.9         │ 3.0        │ 1.4         │ 0.2        │ setosa  │\n",
       "│ 3   │ 4.7         │ 3.2        │ 1.3         │ 0.2        │ setosa  │\n",
       "│ 4   │ 4.6         │ 3.1        │ 1.5         │ 0.2        │ setosa  │\n",
       "│ 5   │ 5.0         │ 3.6        │ 1.4         │ 0.2        │ setosa  │\n",
       "│ 6   │ 5.4         │ 3.9        │ 1.7         │ 0.4        │ setosa  │\n",
       "│ 7   │ 4.6         │ 3.4        │ 1.4         │ 0.3        │ setosa  │\n",
       "│ 8   │ 5.0         │ 3.4        │ 1.5         │ 0.2        │ setosa  │\n",
       "│ 9   │ 4.4         │ 2.9        │ 1.4         │ 0.2        │ setosa  │\n",
       "│ 10  │ 4.9         │ 3.1        │ 1.5         │ 0.1        │ setosa  │"
      ]
     },
     "execution_count": 24,
     "metadata": {},
     "output_type": "execute_result"
    }
   ],
   "source": [
    "first(iris_dataset,10)"
   ]
  },
  {
   "cell_type": "markdown",
   "metadata": {},
   "source": [
    "Actual data science problems generally do not deal with the artificial randomly generated data or data read through the command line. But they work on data that is loaded from files or any other external source. These files can have data in any format and we may have to process it before loading it to the dataframe."
   ]
  },
  {
   "cell_type": "markdown",
   "metadata": {},
   "source": [
    "Julia provides a readtable() function that can be used to read a tabular file in a dataframe."
   ]
  },
  {
   "cell_type": "markdown",
   "metadata": {},
   "source": [
    "Although the iris dataset is available in the RDatasets package, we will download the CSV to work with the external datasets. The iris CSV can be downloaded from \n",
    "\n",
    "https://github.com/scikit-learn/scikit-learn/blob/master/sklearn/datasets/data/iris.csv.\n"
   ]
  },
  {
   "cell_type": "markdown",
   "metadata": {},
   "source": [
    "# Reading the data using dataframe"
   ]
  },
  {
   "cell_type": "code",
   "execution_count": 25,
   "metadata": {},
   "outputs": [],
   "source": [
    "using DataFrames\n",
    "using CSV"
   ]
  },
  {
   "cell_type": "code",
   "execution_count": 26,
   "metadata": {},
   "outputs": [
    {
     "ename": "UndefVarError",
     "evalue": "UndefVarError: readtable not defined",
     "output_type": "error",
     "traceback": [
      "UndefVarError: readtable not defined",
      "",
      "Stacktrace:",
      " [1] top-level scope at In[26]:1"
     ]
    }
   ],
   "source": [
    "df_iris_sample = readtable(\"Iris.csv\",separator = ',')"
   ]
  },
  {
   "cell_type": "markdown",
   "metadata": {},
   "source": [
    "Note: \"readtable is deprecated, use CSV.read from the CSV package instead\",:readtable"
   ]
  },
  {
   "cell_type": "code",
   "execution_count": 27,
   "metadata": {},
   "outputs": [
    {
     "data": {
      "text/html": [
       "<table class=\"data-frame\"><thead><tr><th></th><th>Id</th><th>SepalLengthCm</th><th>SepalWidthCm</th><th>PetalLengthCm</th><th>PetalWidthCm</th><th>Species</th></tr><tr><th></th><th>Int64</th><th>Float64</th><th>Float64</th><th>Float64</th><th>Float64</th><th>String</th></tr></thead><tbody><p>150 rows × 6 columns</p><tr><th>1</th><td>1</td><td>5.1</td><td>3.5</td><td>1.4</td><td>0.2</td><td>Iris-setosa</td></tr><tr><th>2</th><td>2</td><td>4.9</td><td>3.0</td><td>1.4</td><td>0.2</td><td>Iris-setosa</td></tr><tr><th>3</th><td>3</td><td>4.7</td><td>3.2</td><td>1.3</td><td>0.2</td><td>Iris-setosa</td></tr><tr><th>4</th><td>4</td><td>4.6</td><td>3.1</td><td>1.5</td><td>0.2</td><td>Iris-setosa</td></tr><tr><th>5</th><td>5</td><td>5.0</td><td>3.6</td><td>1.4</td><td>0.2</td><td>Iris-setosa</td></tr><tr><th>6</th><td>6</td><td>5.4</td><td>3.9</td><td>1.7</td><td>0.4</td><td>Iris-setosa</td></tr><tr><th>7</th><td>7</td><td>4.6</td><td>3.4</td><td>1.4</td><td>0.3</td><td>Iris-setosa</td></tr><tr><th>8</th><td>8</td><td>5.0</td><td>3.4</td><td>1.5</td><td>0.2</td><td>Iris-setosa</td></tr><tr><th>9</th><td>9</td><td>4.4</td><td>2.9</td><td>1.4</td><td>0.2</td><td>Iris-setosa</td></tr><tr><th>10</th><td>10</td><td>4.9</td><td>3.1</td><td>1.5</td><td>0.1</td><td>Iris-setosa</td></tr><tr><th>11</th><td>11</td><td>5.4</td><td>3.7</td><td>1.5</td><td>0.2</td><td>Iris-setosa</td></tr><tr><th>12</th><td>12</td><td>4.8</td><td>3.4</td><td>1.6</td><td>0.2</td><td>Iris-setosa</td></tr><tr><th>13</th><td>13</td><td>4.8</td><td>3.0</td><td>1.4</td><td>0.1</td><td>Iris-setosa</td></tr><tr><th>14</th><td>14</td><td>4.3</td><td>3.0</td><td>1.1</td><td>0.1</td><td>Iris-setosa</td></tr><tr><th>15</th><td>15</td><td>5.8</td><td>4.0</td><td>1.2</td><td>0.2</td><td>Iris-setosa</td></tr><tr><th>16</th><td>16</td><td>5.7</td><td>4.4</td><td>1.5</td><td>0.4</td><td>Iris-setosa</td></tr><tr><th>17</th><td>17</td><td>5.4</td><td>3.9</td><td>1.3</td><td>0.4</td><td>Iris-setosa</td></tr><tr><th>18</th><td>18</td><td>5.1</td><td>3.5</td><td>1.4</td><td>0.3</td><td>Iris-setosa</td></tr><tr><th>19</th><td>19</td><td>5.7</td><td>3.8</td><td>1.7</td><td>0.3</td><td>Iris-setosa</td></tr><tr><th>20</th><td>20</td><td>5.1</td><td>3.8</td><td>1.5</td><td>0.3</td><td>Iris-setosa</td></tr><tr><th>21</th><td>21</td><td>5.4</td><td>3.4</td><td>1.7</td><td>0.2</td><td>Iris-setosa</td></tr><tr><th>22</th><td>22</td><td>5.1</td><td>3.7</td><td>1.5</td><td>0.4</td><td>Iris-setosa</td></tr><tr><th>23</th><td>23</td><td>4.6</td><td>3.6</td><td>1.0</td><td>0.2</td><td>Iris-setosa</td></tr><tr><th>24</th><td>24</td><td>5.1</td><td>3.3</td><td>1.7</td><td>0.5</td><td>Iris-setosa</td></tr><tr><th>25</th><td>25</td><td>4.8</td><td>3.4</td><td>1.9</td><td>0.2</td><td>Iris-setosa</td></tr><tr><th>26</th><td>26</td><td>5.0</td><td>3.0</td><td>1.6</td><td>0.2</td><td>Iris-setosa</td></tr><tr><th>27</th><td>27</td><td>5.0</td><td>3.4</td><td>1.6</td><td>0.4</td><td>Iris-setosa</td></tr><tr><th>28</th><td>28</td><td>5.2</td><td>3.5</td><td>1.5</td><td>0.2</td><td>Iris-setosa</td></tr><tr><th>29</th><td>29</td><td>5.2</td><td>3.4</td><td>1.4</td><td>0.2</td><td>Iris-setosa</td></tr><tr><th>30</th><td>30</td><td>4.7</td><td>3.2</td><td>1.6</td><td>0.2</td><td>Iris-setosa</td></tr><tr><th>&vellip;</th><td>&vellip;</td><td>&vellip;</td><td>&vellip;</td><td>&vellip;</td><td>&vellip;</td><td>&vellip;</td></tr></tbody></table>"
      ],
      "text/latex": [
       "\\begin{tabular}{r|cccccc}\n",
       "\t& Id & SepalLengthCm & SepalWidthCm & PetalLengthCm & PetalWidthCm & Species\\\\\n",
       "\t\\hline\n",
       "\t& Int64 & Float64 & Float64 & Float64 & Float64 & String\\\\\n",
       "\t\\hline\n",
       "\t1 & 1 & 5.1 & 3.5 & 1.4 & 0.2 & Iris-setosa \\\\\n",
       "\t2 & 2 & 4.9 & 3.0 & 1.4 & 0.2 & Iris-setosa \\\\\n",
       "\t3 & 3 & 4.7 & 3.2 & 1.3 & 0.2 & Iris-setosa \\\\\n",
       "\t4 & 4 & 4.6 & 3.1 & 1.5 & 0.2 & Iris-setosa \\\\\n",
       "\t5 & 5 & 5.0 & 3.6 & 1.4 & 0.2 & Iris-setosa \\\\\n",
       "\t6 & 6 & 5.4 & 3.9 & 1.7 & 0.4 & Iris-setosa \\\\\n",
       "\t7 & 7 & 4.6 & 3.4 & 1.4 & 0.3 & Iris-setosa \\\\\n",
       "\t8 & 8 & 5.0 & 3.4 & 1.5 & 0.2 & Iris-setosa \\\\\n",
       "\t9 & 9 & 4.4 & 2.9 & 1.4 & 0.2 & Iris-setosa \\\\\n",
       "\t10 & 10 & 4.9 & 3.1 & 1.5 & 0.1 & Iris-setosa \\\\\n",
       "\t11 & 11 & 5.4 & 3.7 & 1.5 & 0.2 & Iris-setosa \\\\\n",
       "\t12 & 12 & 4.8 & 3.4 & 1.6 & 0.2 & Iris-setosa \\\\\n",
       "\t13 & 13 & 4.8 & 3.0 & 1.4 & 0.1 & Iris-setosa \\\\\n",
       "\t14 & 14 & 4.3 & 3.0 & 1.1 & 0.1 & Iris-setosa \\\\\n",
       "\t15 & 15 & 5.8 & 4.0 & 1.2 & 0.2 & Iris-setosa \\\\\n",
       "\t16 & 16 & 5.7 & 4.4 & 1.5 & 0.4 & Iris-setosa \\\\\n",
       "\t17 & 17 & 5.4 & 3.9 & 1.3 & 0.4 & Iris-setosa \\\\\n",
       "\t18 & 18 & 5.1 & 3.5 & 1.4 & 0.3 & Iris-setosa \\\\\n",
       "\t19 & 19 & 5.7 & 3.8 & 1.7 & 0.3 & Iris-setosa \\\\\n",
       "\t20 & 20 & 5.1 & 3.8 & 1.5 & 0.3 & Iris-setosa \\\\\n",
       "\t21 & 21 & 5.4 & 3.4 & 1.7 & 0.2 & Iris-setosa \\\\\n",
       "\t22 & 22 & 5.1 & 3.7 & 1.5 & 0.4 & Iris-setosa \\\\\n",
       "\t23 & 23 & 4.6 & 3.6 & 1.0 & 0.2 & Iris-setosa \\\\\n",
       "\t24 & 24 & 5.1 & 3.3 & 1.7 & 0.5 & Iris-setosa \\\\\n",
       "\t25 & 25 & 4.8 & 3.4 & 1.9 & 0.2 & Iris-setosa \\\\\n",
       "\t26 & 26 & 5.0 & 3.0 & 1.6 & 0.2 & Iris-setosa \\\\\n",
       "\t27 & 27 & 5.0 & 3.4 & 1.6 & 0.4 & Iris-setosa \\\\\n",
       "\t28 & 28 & 5.2 & 3.5 & 1.5 & 0.2 & Iris-setosa \\\\\n",
       "\t29 & 29 & 5.2 & 3.4 & 1.4 & 0.2 & Iris-setosa \\\\\n",
       "\t30 & 30 & 4.7 & 3.2 & 1.6 & 0.2 & Iris-setosa \\\\\n",
       "\t$\\dots$ & $\\dots$ & $\\dots$ & $\\dots$ & $\\dots$ & $\\dots$ & $\\dots$ \\\\\n",
       "\\end{tabular}\n"
      ],
      "text/plain": [
       "150×6 DataFrame. Omitted printing of 1 columns\n",
       "│ Row │ Id    │ SepalLengthCm │ SepalWidthCm │ PetalLengthCm │ PetalWidthCm │\n",
       "│     │ \u001b[90mInt64\u001b[39m │ \u001b[90mFloat64\u001b[39m       │ \u001b[90mFloat64\u001b[39m      │ \u001b[90mFloat64\u001b[39m       │ \u001b[90mFloat64\u001b[39m      │\n",
       "├─────┼───────┼───────────────┼──────────────┼───────────────┼──────────────┤\n",
       "│ 1   │ 1     │ 5.1           │ 3.5          │ 1.4           │ 0.2          │\n",
       "│ 2   │ 2     │ 4.9           │ 3.0          │ 1.4           │ 0.2          │\n",
       "│ 3   │ 3     │ 4.7           │ 3.2          │ 1.3           │ 0.2          │\n",
       "│ 4   │ 4     │ 4.6           │ 3.1          │ 1.5           │ 0.2          │\n",
       "│ 5   │ 5     │ 5.0           │ 3.6          │ 1.4           │ 0.2          │\n",
       "│ 6   │ 6     │ 5.4           │ 3.9          │ 1.7           │ 0.4          │\n",
       "│ 7   │ 7     │ 4.6           │ 3.4          │ 1.4           │ 0.3          │\n",
       "│ 8   │ 8     │ 5.0           │ 3.4          │ 1.5           │ 0.2          │\n",
       "│ 9   │ 9     │ 4.4           │ 2.9          │ 1.4           │ 0.2          │\n",
       "│ 10  │ 10    │ 4.9           │ 3.1          │ 1.5           │ 0.1          │\n",
       "⋮\n",
       "│ 140 │ 140   │ 6.9           │ 3.1          │ 5.4           │ 2.1          │\n",
       "│ 141 │ 141   │ 6.7           │ 3.1          │ 5.6           │ 2.4          │\n",
       "│ 142 │ 142   │ 6.9           │ 3.1          │ 5.1           │ 2.3          │\n",
       "│ 143 │ 143   │ 5.8           │ 2.7          │ 5.1           │ 1.9          │\n",
       "│ 144 │ 144   │ 6.8           │ 3.2          │ 5.9           │ 2.3          │\n",
       "│ 145 │ 145   │ 6.7           │ 3.3          │ 5.7           │ 2.5          │\n",
       "│ 146 │ 146   │ 6.7           │ 3.0          │ 5.2           │ 2.3          │\n",
       "│ 147 │ 147   │ 6.3           │ 2.5          │ 5.0           │ 1.9          │\n",
       "│ 148 │ 148   │ 6.5           │ 3.0          │ 5.2           │ 2.0          │\n",
       "│ 149 │ 149   │ 6.2           │ 3.4          │ 5.4           │ 2.3          │\n",
       "│ 150 │ 150   │ 5.9           │ 3.0          │ 5.1           │ 1.8          │"
      ]
     },
     "execution_count": 27,
     "metadata": {},
     "output_type": "execute_result"
    }
   ],
   "source": [
    "df_iris_sample=DataFrame!(CSV.File(\"Iris.csv\"))"
   ]
  },
  {
   "cell_type": "code",
   "execution_count": 28,
   "metadata": {},
   "outputs": [],
   "source": [
    "#df_iris_sample\n"
   ]
  },
  {
   "cell_type": "markdown",
   "metadata": {},
   "source": [
    "It is the same dataset that we used in the previous example, but now we are loading the data from a CSV file."
   ]
  },
  {
   "cell_type": "markdown",
   "metadata": {},
   "source": [
    "# Writing the data to a file"
   ]
  },
  {
   "cell_type": "markdown",
   "metadata": {},
   "source": [
    "We may also want to output our results or transform a dataset and store it in a file. In Julia we do this by using the writetable() function. It is very similar to the readtable() function that we discussed in the last section."
   ]
  },
  {
   "cell_type": "code",
   "execution_count": 29,
   "metadata": {},
   "outputs": [
    {
     "ename": "UndefVarError",
     "evalue": "UndefVarError: writetable not defined",
     "output_type": "error",
     "traceback": [
      "UndefVarError: writetable not defined",
      "",
      "Stacktrace:",
      " [1] top-level scope at In[29]:1"
     ]
    }
   ],
   "source": [
    "writetable(\"output_df_iris.csv\", df_iris_sample)"
   ]
  },
  {
   "cell_type": "markdown",
   "metadata": {},
   "source": [
    "Note: writetable() is deprecated from Pkg.update() will give me DataFrames 0.11,use CSV.write() instead."
   ]
  },
  {
   "cell_type": "code",
   "execution_count": 30,
   "metadata": {},
   "outputs": [
    {
     "data": {
      "text/plain": [
       "\"output_df_iris.csv\""
      ]
     },
     "execution_count": 30,
     "metadata": {},
     "output_type": "execute_result"
    }
   ],
   "source": [
    "CSV.write(\"output_df_iris.csv\", df_iris_sample)"
   ]
  },
  {
   "cell_type": "markdown",
   "metadata": {},
   "source": [
    "# Working with DataFrames"
   ]
  },
  {
   "cell_type": "markdown",
   "metadata": {},
   "source": [
    "We will follow or inherit some of the traditional strategies to manipulate the data. We will go through these strategies and methods in this section and discuss how and why they are important to data science.\n"
   ]
  },
  {
   "cell_type": "markdown",
   "metadata": {},
   "source": [
    "# Understanding DataFrames joins"
   ]
  },
  {
   "cell_type": "markdown",
   "metadata": {},
   "source": [
    "While working with multiple datasets, we often need to merge the datasets in a particular fashion to make the analysis easier or to use it with a particular function.\n",
    "\n",
    "We will be using the Road Safety Data published by the Department for Transport, UK, and it is open under the OGL-Open Government Licence."
   ]
  },
  {
   "cell_type": "markdown",
   "metadata": {},
   "source": [
    "https://data.gov.uk/dataset/road-accidents-safety-data."
   ]
  },
  {
   "cell_type": "markdown",
   "metadata": {},
   "source": [
    "We will be using two datasets:"
   ]
  },
  {
   "cell_type": "markdown",
   "metadata": {},
   "source": [
    "  1. Road Safety Data - Vehicles 2018\n",
    "  2. Road Safety Data - Accidents 2018"
   ]
  },
  {
   "cell_type": "code",
   "execution_count": 31,
   "metadata": {},
   "outputs": [],
   "source": [
    "using DataFrames"
   ]
  },
  {
   "cell_type": "code",
   "execution_count": 32,
   "metadata": {},
   "outputs": [
    {
     "data": {
      "text/html": [
       "<table class=\"data-frame\"><thead><tr><th></th><th>Accident_Index</th><th>Location_Easting_OSGR</th><th>Location_Northing_OSGR</th><th>Longitude</th><th>Latitude</th></tr><tr><th></th><th>String</th><th>Int64?</th><th>Int64?</th><th>Float64?</th><th>Float64?</th></tr></thead><tbody><p>122,635 rows × 32 columns (omitted printing of 27 columns)</p><tr><th>1</th><td>2018010080971</td><td>529150</td><td>182270</td><td>-0.139737</td><td>51.5246</td></tr><tr><th>2</th><td>2018010080973</td><td>542020</td><td>184290</td><td>0.046471</td><td>51.5397</td></tr><tr><th>3</th><td>2018010080974</td><td>531720</td><td>182910</td><td>-0.102474</td><td>51.5297</td></tr><tr><th>4</th><td>2018010080981</td><td>541450</td><td>183220</td><td>0.037828</td><td>51.5302</td></tr><tr><th>5</th><td>2018010080982</td><td>543580</td><td>176500</td><td>0.065781</td><td>51.4693</td></tr><tr><th>6</th><td>2018010080983</td><td>526060</td><td>194910</td><td>-0.17972</td><td>51.6389</td></tr><tr><th>7</th><td>2018010080986</td><td>525050</td><td>181050</td><td>-0.199239</td><td>51.5145</td></tr><tr><th>8</th><td>2018010080987</td><td>536710</td><td>176960</td><td>-0.032886</td><td>51.4751</td></tr><tr><th>9</th><td>2018010080990</td><td>517110</td><td>186280</td><td>-0.311872</td><td>51.5632</td></tr><tr><th>10</th><td>2018010080992</td><td>535450</td><td>181190</td><td>-0.049395</td><td>51.5134</td></tr><tr><th>11</th><td>2018010080993</td><td>534590</td><td>183230</td><td>-0.061002</td><td>51.5319</td></tr><tr><th>12</th><td>2018010080994</td><td>512160</td><td>176120</td><td>-0.386484</td><td>51.4729</td></tr><tr><th>13</th><td>2018010080995</td><td>514550</td><td>188210</td><td>-0.34816</td><td>51.5811</td></tr><tr><th>14</th><td>2018010080996</td><td>531790</td><td>178650</td><td>-0.103057</td><td>51.4914</td></tr><tr><th>15</th><td>2018010080997</td><td>535960</td><td>171440</td><td>-0.045798</td><td>51.4257</td></tr><tr><th>16</th><td>2018010081002</td><td>529820</td><td>175530</td><td>-0.132562</td><td>51.4639</td></tr><tr><th>17</th><td>2018010081003</td><td>520460</td><td>181340</td><td>-0.265255</td><td>51.5181</td></tr><tr><th>18</th><td>2018010081009</td><td>528590</td><td>174030</td><td>-0.150803</td><td>51.4507</td></tr><tr><th>19</th><td>2018010081025</td><td>530690</td><td>181840</td><td>-0.117711</td><td>51.5204</td></tr><tr><th>20</th><td>2018010081035</td><td>530600</td><td>179650</td><td>-0.119818</td><td>51.5007</td></tr><tr><th>21</th><td>2018010081044</td><td>534830</td><td>185010</td><td>-0.056863</td><td>51.5479</td></tr><tr><th>22</th><td>2018010081054</td><td>531320</td><td>189860</td><td>-0.105644</td><td>51.5923</td></tr><tr><th>23</th><td>2018010081059</td><td>532310</td><td>177250</td><td>-0.096095</td><td>51.4787</td></tr><tr><th>24</th><td>2018010081061</td><td>520890</td><td>178490</td><td>-0.260037</td><td>51.4924</td></tr><tr><th>25</th><td>2018010081063</td><td>535100</td><td>185510</td><td>-0.05278</td><td>51.5523</td></tr><tr><th>26</th><td>2018010081067</td><td>536660</td><td>184610</td><td>-0.030642</td><td>51.5438</td></tr><tr><th>27</th><td>2018010081069</td><td>518790</td><td>176710</td><td>-0.29087</td><td>51.4769</td></tr><tr><th>28</th><td>2018010081072</td><td>531200</td><td>175300</td><td>-0.112793</td><td>51.4615</td></tr><tr><th>29</th><td>2018010081073</td><td>529160</td><td>193140</td><td>-0.1356</td><td>51.6223</td></tr><tr><th>30</th><td>2018010081077</td><td>530220</td><td>166830</td><td>-0.130002</td><td>51.3856</td></tr><tr><th>&vellip;</th><td>&vellip;</td><td>&vellip;</td><td>&vellip;</td><td>&vellip;</td><td>&vellip;</td></tr></tbody></table>"
      ],
      "text/latex": [
       "\\begin{tabular}{r|cccccc}\n",
       "\t& Accident\\_Index & Location\\_Easting\\_OSGR & Location\\_Northing\\_OSGR & Longitude & Latitude & \\\\\n",
       "\t\\hline\n",
       "\t& String & Int64? & Int64? & Float64? & Float64? & \\\\\n",
       "\t\\hline\n",
       "\t1 & 2018010080971 & 529150 & 182270 & -0.139737 & 51.5246 & $\\dots$ \\\\\n",
       "\t2 & 2018010080973 & 542020 & 184290 & 0.046471 & 51.5397 & $\\dots$ \\\\\n",
       "\t3 & 2018010080974 & 531720 & 182910 & -0.102474 & 51.5297 & $\\dots$ \\\\\n",
       "\t4 & 2018010080981 & 541450 & 183220 & 0.037828 & 51.5302 & $\\dots$ \\\\\n",
       "\t5 & 2018010080982 & 543580 & 176500 & 0.065781 & 51.4693 & $\\dots$ \\\\\n",
       "\t6 & 2018010080983 & 526060 & 194910 & -0.17972 & 51.6389 & $\\dots$ \\\\\n",
       "\t7 & 2018010080986 & 525050 & 181050 & -0.199239 & 51.5145 & $\\dots$ \\\\\n",
       "\t8 & 2018010080987 & 536710 & 176960 & -0.032886 & 51.4751 & $\\dots$ \\\\\n",
       "\t9 & 2018010080990 & 517110 & 186280 & -0.311872 & 51.5632 & $\\dots$ \\\\\n",
       "\t10 & 2018010080992 & 535450 & 181190 & -0.049395 & 51.5134 & $\\dots$ \\\\\n",
       "\t11 & 2018010080993 & 534590 & 183230 & -0.061002 & 51.5319 & $\\dots$ \\\\\n",
       "\t12 & 2018010080994 & 512160 & 176120 & -0.386484 & 51.4729 & $\\dots$ \\\\\n",
       "\t13 & 2018010080995 & 514550 & 188210 & -0.34816 & 51.5811 & $\\dots$ \\\\\n",
       "\t14 & 2018010080996 & 531790 & 178650 & -0.103057 & 51.4914 & $\\dots$ \\\\\n",
       "\t15 & 2018010080997 & 535960 & 171440 & -0.045798 & 51.4257 & $\\dots$ \\\\\n",
       "\t16 & 2018010081002 & 529820 & 175530 & -0.132562 & 51.4639 & $\\dots$ \\\\\n",
       "\t17 & 2018010081003 & 520460 & 181340 & -0.265255 & 51.5181 & $\\dots$ \\\\\n",
       "\t18 & 2018010081009 & 528590 & 174030 & -0.150803 & 51.4507 & $\\dots$ \\\\\n",
       "\t19 & 2018010081025 & 530690 & 181840 & -0.117711 & 51.5204 & $\\dots$ \\\\\n",
       "\t20 & 2018010081035 & 530600 & 179650 & -0.119818 & 51.5007 & $\\dots$ \\\\\n",
       "\t21 & 2018010081044 & 534830 & 185010 & -0.056863 & 51.5479 & $\\dots$ \\\\\n",
       "\t22 & 2018010081054 & 531320 & 189860 & -0.105644 & 51.5923 & $\\dots$ \\\\\n",
       "\t23 & 2018010081059 & 532310 & 177250 & -0.096095 & 51.4787 & $\\dots$ \\\\\n",
       "\t24 & 2018010081061 & 520890 & 178490 & -0.260037 & 51.4924 & $\\dots$ \\\\\n",
       "\t25 & 2018010081063 & 535100 & 185510 & -0.05278 & 51.5523 & $\\dots$ \\\\\n",
       "\t26 & 2018010081067 & 536660 & 184610 & -0.030642 & 51.5438 & $\\dots$ \\\\\n",
       "\t27 & 2018010081069 & 518790 & 176710 & -0.29087 & 51.4769 & $\\dots$ \\\\\n",
       "\t28 & 2018010081072 & 531200 & 175300 & -0.112793 & 51.4615 & $\\dots$ \\\\\n",
       "\t29 & 2018010081073 & 529160 & 193140 & -0.1356 & 51.6223 & $\\dots$ \\\\\n",
       "\t30 & 2018010081077 & 530220 & 166830 & -0.130002 & 51.3856 & $\\dots$ \\\\\n",
       "\t$\\dots$ & $\\dots$ & $\\dots$ & $\\dots$ & $\\dots$ & $\\dots$ &  \\\\\n",
       "\\end{tabular}\n"
      ],
      "text/plain": [
       "122635×32 DataFrame. Omitted printing of 29 columns\n",
       "│ Row    │ Accident_Index │ Location_Easting_OSGR │ Location_Northing_OSGR │\n",
       "│        │ \u001b[90mString\u001b[39m         │ \u001b[90mUnion{Missing, Int64}\u001b[39m │ \u001b[90mUnion{Missing, Int64}\u001b[39m  │\n",
       "├────────┼────────────────┼───────────────────────┼────────────────────────┤\n",
       "│ 1      │ 2018010080971  │ 529150                │ 182270                 │\n",
       "│ 2      │ 2018010080973  │ 542020                │ 184290                 │\n",
       "│ 3      │ 2018010080974  │ 531720                │ 182910                 │\n",
       "│ 4      │ 2018010080981  │ 541450                │ 183220                 │\n",
       "│ 5      │ 2018010080982  │ 543580                │ 176500                 │\n",
       "│ 6      │ 2018010080983  │ 526060                │ 194910                 │\n",
       "│ 7      │ 2018010080986  │ 525050                │ 181050                 │\n",
       "│ 8      │ 2018010080987  │ 536710                │ 176960                 │\n",
       "│ 9      │ 2018010080990  │ 517110                │ 186280                 │\n",
       "│ 10     │ 2018010080992  │ 535450                │ 181190                 │\n",
       "⋮\n",
       "│ 122625 │ 2018984114918  │ 311794                │ 580755                 │\n",
       "│ 122626 │ 2018984115118  │ 336343                │ 584662                 │\n",
       "│ 122627 │ 2018984115218  │ 303700                │ 611260                 │\n",
       "│ 122628 │ 2018984115318  │ 308374                │ 599895                 │\n",
       "│ 122629 │ 2018984115418  │ 308481                │ 601469                 │\n",
       "│ 122630 │ 2018984115518  │ 308354                │ 599190                 │\n",
       "│ 122631 │ 2018984115718  │ 307124                │ 594145                 │\n",
       "│ 122632 │ 2018984115918  │ 313325                │ 581065                 │\n",
       "│ 122633 │ 2018984116018  │ 319337                │ 574511                 │\n",
       "│ 122634 │ 2018984116318  │ 318858                │ 566932                 │\n",
       "│ 122635 │ 2018984116418  │ 316008                │ 568771                 │"
      ]
     },
     "execution_count": 32,
     "metadata": {},
     "output_type": "execute_result"
    }
   ],
   "source": [
    "DfTRoadSafety_Accidents_2018=DataFrame!(CSV.File(\"dftRoadSafetyData_Accidents_2018.csv\"))"
   ]
  },
  {
   "cell_type": "code",
   "execution_count": 33,
   "metadata": {},
   "outputs": [
    {
     "data": {
      "text/html": [
       "<table class=\"data-frame\"><thead><tr><th></th><th>Accident_Index</th><th>Location_Easting_OSGR</th><th>Location_Northing_OSGR</th><th>Longitude</th><th>Latitude</th></tr><tr><th></th><th>String</th><th>Int64?</th><th>Int64?</th><th>Float64?</th><th>Float64?</th></tr></thead><tbody><p>5 rows × 32 columns (omitted printing of 27 columns)</p><tr><th>1</th><td>2018010080971</td><td>529150</td><td>182270</td><td>-0.139737</td><td>51.5246</td></tr><tr><th>2</th><td>2018010080973</td><td>542020</td><td>184290</td><td>0.046471</td><td>51.5397</td></tr><tr><th>3</th><td>2018010080974</td><td>531720</td><td>182910</td><td>-0.102474</td><td>51.5297</td></tr><tr><th>4</th><td>2018010080981</td><td>541450</td><td>183220</td><td>0.037828</td><td>51.5302</td></tr><tr><th>5</th><td>2018010080982</td><td>543580</td><td>176500</td><td>0.065781</td><td>51.4693</td></tr></tbody></table>"
      ],
      "text/latex": [
       "\\begin{tabular}{r|cccccc}\n",
       "\t& Accident\\_Index & Location\\_Easting\\_OSGR & Location\\_Northing\\_OSGR & Longitude & Latitude & \\\\\n",
       "\t\\hline\n",
       "\t& String & Int64? & Int64? & Float64? & Float64? & \\\\\n",
       "\t\\hline\n",
       "\t1 & 2018010080971 & 529150 & 182270 & -0.139737 & 51.5246 & $\\dots$ \\\\\n",
       "\t2 & 2018010080973 & 542020 & 184290 & 0.046471 & 51.5397 & $\\dots$ \\\\\n",
       "\t3 & 2018010080974 & 531720 & 182910 & -0.102474 & 51.5297 & $\\dots$ \\\\\n",
       "\t4 & 2018010080981 & 541450 & 183220 & 0.037828 & 51.5302 & $\\dots$ \\\\\n",
       "\t5 & 2018010080982 & 543580 & 176500 & 0.065781 & 51.4693 & $\\dots$ \\\\\n",
       "\\end{tabular}\n"
      ],
      "text/plain": [
       "5×32 DataFrame. Omitted printing of 29 columns\n",
       "│ Row │ Accident_Index │ Location_Easting_OSGR │ Location_Northing_OSGR │\n",
       "│     │ \u001b[90mString\u001b[39m         │ \u001b[90mUnion{Missing, Int64}\u001b[39m │ \u001b[90mUnion{Missing, Int64}\u001b[39m  │\n",
       "├─────┼────────────────┼───────────────────────┼────────────────────────┤\n",
       "│ 1   │ 2018010080971  │ 529150                │ 182270                 │\n",
       "│ 2   │ 2018010080973  │ 542020                │ 184290                 │\n",
       "│ 3   │ 2018010080974  │ 531720                │ 182910                 │\n",
       "│ 4   │ 2018010080981  │ 541450                │ 183220                 │\n",
       "│ 5   │ 2018010080982  │ 543580                │ 176500                 │"
      ]
     },
     "execution_count": 33,
     "metadata": {},
     "output_type": "execute_result"
    }
   ],
   "source": [
    "first(DfTRoadSafety_Accidents_2018,5)"
   ]
  },
  {
   "cell_type": "code",
   "execution_count": 34,
   "metadata": {},
   "outputs": [
    {
     "data": {
      "text/plain": [
       "32-element Array{String,1}:\n",
       " \"Accident_Index\"\n",
       " \"Location_Easting_OSGR\"\n",
       " \"Location_Northing_OSGR\"\n",
       " \"Longitude\"\n",
       " \"Latitude\"\n",
       " \"Police_Force\"\n",
       " \"Accident_Severity\"\n",
       " \"Number_of_Vehicles\"\n",
       " \"Number_of_Casualties\"\n",
       " \"Date\"\n",
       " \"Day_of_Week\"\n",
       " \"Time\"\n",
       " \"Local_Authority_(District)\"\n",
       " ⋮\n",
       " \"2nd_Road_Class\"\n",
       " \"2nd_Road_Number\"\n",
       " \"Pedestrian_Crossing-Human_Control\"\n",
       " \"Pedestrian_Crossing-Physical_Facilities\"\n",
       " \"Light_Conditions\"\n",
       " \"Weather_Conditions\"\n",
       " \"Road_Surface_Conditions\"\n",
       " \"Special_Conditions_at_Site\"\n",
       " \"Carriageway_Hazards\"\n",
       " \"Urban_or_Rural_Area\"\n",
       " \"Did_Police_Officer_Attend_Scene_of_Accident\"\n",
       " \"LSOA_of_Accident_Location\""
      ]
     },
     "execution_count": 34,
     "metadata": {},
     "output_type": "execute_result"
    }
   ],
   "source": [
    "names(DfTRoadSafety_Accidents_2018)"
   ]
  },
  {
   "cell_type": "code",
   "execution_count": 35,
   "metadata": {},
   "outputs": [
    {
     "data": {
      "text/html": [
       "<table class=\"data-frame\"><thead><tr><th></th><th>Accident_Index</th><th>Vehicle_Reference</th><th>Vehicle_Type</th><th>Towing_and_Articulation</th><th>Vehicle_Manoeuvre</th></tr><tr><th></th><th>String</th><th>Int64</th><th>Int64</th><th>Int64</th><th>Int64</th></tr></thead><tbody><p>226,409 rows × 23 columns (omitted printing of 18 columns)</p><tr><th>1</th><td>2018010080971</td><td>1</td><td>9</td><td>0</td><td>18</td></tr><tr><th>2</th><td>2018010080971</td><td>2</td><td>8</td><td>0</td><td>18</td></tr><tr><th>3</th><td>2018010080973</td><td>1</td><td>9</td><td>0</td><td>18</td></tr><tr><th>4</th><td>2018010080974</td><td>1</td><td>8</td><td>0</td><td>7</td></tr><tr><th>5</th><td>2018010080974</td><td>2</td><td>9</td><td>0</td><td>18</td></tr><tr><th>6</th><td>2018010080981</td><td>1</td><td>9</td><td>0</td><td>9</td></tr><tr><th>7</th><td>2018010080981</td><td>2</td><td>19</td><td>0</td><td>18</td></tr><tr><th>8</th><td>2018010080982</td><td>1</td><td>8</td><td>0</td><td>18</td></tr><tr><th>9</th><td>2018010080982</td><td>2</td><td>9</td><td>0</td><td>18</td></tr><tr><th>10</th><td>2018010080983</td><td>1</td><td>9</td><td>0</td><td>18</td></tr><tr><th>11</th><td>2018010080983</td><td>2</td><td>9</td><td>0</td><td>18</td></tr><tr><th>12</th><td>2018010080986</td><td>1</td><td>8</td><td>0</td><td>5</td></tr><tr><th>13</th><td>2018010080986</td><td>2</td><td>1</td><td>0</td><td>18</td></tr><tr><th>14</th><td>2018010080987</td><td>1</td><td>8</td><td>0</td><td>18</td></tr><tr><th>15</th><td>2018010080987</td><td>2</td><td>9</td><td>0</td><td>18</td></tr><tr><th>16</th><td>2018010080987</td><td>3</td><td>9</td><td>0</td><td>18</td></tr><tr><th>17</th><td>2018010080990</td><td>1</td><td>9</td><td>0</td><td>9</td></tr><tr><th>18</th><td>2018010080990</td><td>2</td><td>3</td><td>0</td><td>18</td></tr><tr><th>19</th><td>2018010080992</td><td>1</td><td>2</td><td>0</td><td>18</td></tr><tr><th>20</th><td>2018010080992</td><td>2</td><td>90</td><td>0</td><td>4</td></tr><tr><th>21</th><td>2018010080993</td><td>1</td><td>9</td><td>0</td><td>18</td></tr><tr><th>22</th><td>2018010080994</td><td>1</td><td>19</td><td>0</td><td>18</td></tr><tr><th>23</th><td>2018010080995</td><td>1</td><td>9</td><td>0</td><td>18</td></tr><tr><th>24</th><td>2018010080995</td><td>2</td><td>9</td><td>0</td><td>18</td></tr><tr><th>25</th><td>2018010080996</td><td>1</td><td>9</td><td>0</td><td>3</td></tr><tr><th>26</th><td>2018010080996</td><td>2</td><td>3</td><td>0</td><td>18</td></tr><tr><th>27</th><td>2018010080997</td><td>1</td><td>9</td><td>0</td><td>9</td></tr><tr><th>28</th><td>2018010081002</td><td>1</td><td>5</td><td>0</td><td>18</td></tr><tr><th>29</th><td>2018010081002</td><td>2</td><td>9</td><td>0</td><td>7</td></tr><tr><th>30</th><td>2018010081003</td><td>1</td><td>9</td><td>0</td><td>18</td></tr><tr><th>&vellip;</th><td>&vellip;</td><td>&vellip;</td><td>&vellip;</td><td>&vellip;</td><td>&vellip;</td></tr></tbody></table>"
      ],
      "text/latex": [
       "\\begin{tabular}{r|cccccc}\n",
       "\t& Accident\\_Index & Vehicle\\_Reference & Vehicle\\_Type & Towing\\_and\\_Articulation & Vehicle\\_Manoeuvre & \\\\\n",
       "\t\\hline\n",
       "\t& String & Int64 & Int64 & Int64 & Int64 & \\\\\n",
       "\t\\hline\n",
       "\t1 & 2018010080971 & 1 & 9 & 0 & 18 & $\\dots$ \\\\\n",
       "\t2 & 2018010080971 & 2 & 8 & 0 & 18 & $\\dots$ \\\\\n",
       "\t3 & 2018010080973 & 1 & 9 & 0 & 18 & $\\dots$ \\\\\n",
       "\t4 & 2018010080974 & 1 & 8 & 0 & 7 & $\\dots$ \\\\\n",
       "\t5 & 2018010080974 & 2 & 9 & 0 & 18 & $\\dots$ \\\\\n",
       "\t6 & 2018010080981 & 1 & 9 & 0 & 9 & $\\dots$ \\\\\n",
       "\t7 & 2018010080981 & 2 & 19 & 0 & 18 & $\\dots$ \\\\\n",
       "\t8 & 2018010080982 & 1 & 8 & 0 & 18 & $\\dots$ \\\\\n",
       "\t9 & 2018010080982 & 2 & 9 & 0 & 18 & $\\dots$ \\\\\n",
       "\t10 & 2018010080983 & 1 & 9 & 0 & 18 & $\\dots$ \\\\\n",
       "\t11 & 2018010080983 & 2 & 9 & 0 & 18 & $\\dots$ \\\\\n",
       "\t12 & 2018010080986 & 1 & 8 & 0 & 5 & $\\dots$ \\\\\n",
       "\t13 & 2018010080986 & 2 & 1 & 0 & 18 & $\\dots$ \\\\\n",
       "\t14 & 2018010080987 & 1 & 8 & 0 & 18 & $\\dots$ \\\\\n",
       "\t15 & 2018010080987 & 2 & 9 & 0 & 18 & $\\dots$ \\\\\n",
       "\t16 & 2018010080987 & 3 & 9 & 0 & 18 & $\\dots$ \\\\\n",
       "\t17 & 2018010080990 & 1 & 9 & 0 & 9 & $\\dots$ \\\\\n",
       "\t18 & 2018010080990 & 2 & 3 & 0 & 18 & $\\dots$ \\\\\n",
       "\t19 & 2018010080992 & 1 & 2 & 0 & 18 & $\\dots$ \\\\\n",
       "\t20 & 2018010080992 & 2 & 90 & 0 & 4 & $\\dots$ \\\\\n",
       "\t21 & 2018010080993 & 1 & 9 & 0 & 18 & $\\dots$ \\\\\n",
       "\t22 & 2018010080994 & 1 & 19 & 0 & 18 & $\\dots$ \\\\\n",
       "\t23 & 2018010080995 & 1 & 9 & 0 & 18 & $\\dots$ \\\\\n",
       "\t24 & 2018010080995 & 2 & 9 & 0 & 18 & $\\dots$ \\\\\n",
       "\t25 & 2018010080996 & 1 & 9 & 0 & 3 & $\\dots$ \\\\\n",
       "\t26 & 2018010080996 & 2 & 3 & 0 & 18 & $\\dots$ \\\\\n",
       "\t27 & 2018010080997 & 1 & 9 & 0 & 9 & $\\dots$ \\\\\n",
       "\t28 & 2018010081002 & 1 & 5 & 0 & 18 & $\\dots$ \\\\\n",
       "\t29 & 2018010081002 & 2 & 9 & 0 & 7 & $\\dots$ \\\\\n",
       "\t30 & 2018010081003 & 1 & 9 & 0 & 18 & $\\dots$ \\\\\n",
       "\t$\\dots$ & $\\dots$ & $\\dots$ & $\\dots$ & $\\dots$ & $\\dots$ &  \\\\\n",
       "\\end{tabular}\n"
      ],
      "text/plain": [
       "226409×23 DataFrame. Omitted printing of 20 columns\n",
       "│ Row    │ Accident_Index │ Vehicle_Reference │ Vehicle_Type │\n",
       "│        │ \u001b[90mString\u001b[39m         │ \u001b[90mInt64\u001b[39m             │ \u001b[90mInt64\u001b[39m        │\n",
       "├────────┼────────────────┼───────────────────┼──────────────┤\n",
       "│ 1      │ 2018010080971  │ 1                 │ 9            │\n",
       "│ 2      │ 2018010080971  │ 2                 │ 8            │\n",
       "│ 3      │ 2018010080973  │ 1                 │ 9            │\n",
       "│ 4      │ 2018010080974  │ 1                 │ 8            │\n",
       "│ 5      │ 2018010080974  │ 2                 │ 9            │\n",
       "│ 6      │ 2018010080981  │ 1                 │ 9            │\n",
       "│ 7      │ 2018010080981  │ 2                 │ 19           │\n",
       "│ 8      │ 2018010080982  │ 1                 │ 8            │\n",
       "│ 9      │ 2018010080982  │ 2                 │ 9            │\n",
       "│ 10     │ 2018010080983  │ 1                 │ 9            │\n",
       "⋮\n",
       "│ 226399 │ 2018984115518  │ 1                 │ 9            │\n",
       "│ 226400 │ 2018984115518  │ 2                 │ 9            │\n",
       "│ 226401 │ 2018984115718  │ 1                 │ 9            │\n",
       "│ 226402 │ 2018984115718  │ 2                 │ 9            │\n",
       "│ 226403 │ 2018984115918  │ 1                 │ 21           │\n",
       "│ 226404 │ 2018984115918  │ 2                 │ 9            │\n",
       "│ 226405 │ 2018984116018  │ 1                 │ 9            │\n",
       "│ 226406 │ 2018984116018  │ 2                 │ 9            │\n",
       "│ 226407 │ 2018984116018  │ 3                 │ 9            │\n",
       "│ 226408 │ 2018984116318  │ 1                 │ 2            │\n",
       "│ 226409 │ 2018984116418  │ 1                 │ 9            │"
      ]
     },
     "execution_count": 35,
     "metadata": {},
     "output_type": "execute_result"
    }
   ],
   "source": [
    "DfTRoadSafety_Vehicles_2018=DataFrame!(CSV.File(\"dftRoadSafetyData_Vehicles_2018.csv\"))"
   ]
  },
  {
   "cell_type": "markdown",
   "metadata": {},
   "source": [
    "The second dataset is loaded into the memory."
   ]
  },
  {
   "cell_type": "code",
   "execution_count": 36,
   "metadata": {},
   "outputs": [
    {
     "name": "stderr",
     "output_type": "stream",
     "text": [
      "┌ Warning: inner joining data frames using join is deprecated, use `innerjoin(df1, df2, on=Accident_Index, makeunique=false, validate=(false, false))` instead\n",
      "│   caller = ip:0x0\n",
      "└ @ Core :-1\n"
     ]
    },
    {
     "data": {
      "text/html": [
       "<table class=\"data-frame\"><thead><tr><th></th><th>Accident_Index</th><th>Location_Easting_OSGR</th><th>Location_Northing_OSGR</th><th>Longitude</th><th>Latitude</th></tr><tr><th></th><th>String</th><th>Int64?</th><th>Int64?</th><th>Float64?</th><th>Float64?</th></tr></thead><tbody><p>226,409 rows × 54 columns (omitted printing of 49 columns)</p><tr><th>1</th><td>2018010080971</td><td>529150</td><td>182270</td><td>-0.139737</td><td>51.5246</td></tr><tr><th>2</th><td>2018010080971</td><td>529150</td><td>182270</td><td>-0.139737</td><td>51.5246</td></tr><tr><th>3</th><td>2018010080973</td><td>542020</td><td>184290</td><td>0.046471</td><td>51.5397</td></tr><tr><th>4</th><td>2018010080974</td><td>531720</td><td>182910</td><td>-0.102474</td><td>51.5297</td></tr><tr><th>5</th><td>2018010080974</td><td>531720</td><td>182910</td><td>-0.102474</td><td>51.5297</td></tr><tr><th>6</th><td>2018010080981</td><td>541450</td><td>183220</td><td>0.037828</td><td>51.5302</td></tr><tr><th>7</th><td>2018010080981</td><td>541450</td><td>183220</td><td>0.037828</td><td>51.5302</td></tr><tr><th>8</th><td>2018010080982</td><td>543580</td><td>176500</td><td>0.065781</td><td>51.4693</td></tr><tr><th>9</th><td>2018010080982</td><td>543580</td><td>176500</td><td>0.065781</td><td>51.4693</td></tr><tr><th>10</th><td>2018010080983</td><td>526060</td><td>194910</td><td>-0.17972</td><td>51.6389</td></tr><tr><th>11</th><td>2018010080983</td><td>526060</td><td>194910</td><td>-0.17972</td><td>51.6389</td></tr><tr><th>12</th><td>2018010080986</td><td>525050</td><td>181050</td><td>-0.199239</td><td>51.5145</td></tr><tr><th>13</th><td>2018010080986</td><td>525050</td><td>181050</td><td>-0.199239</td><td>51.5145</td></tr><tr><th>14</th><td>2018010080987</td><td>536710</td><td>176960</td><td>-0.032886</td><td>51.4751</td></tr><tr><th>15</th><td>2018010080987</td><td>536710</td><td>176960</td><td>-0.032886</td><td>51.4751</td></tr><tr><th>16</th><td>2018010080987</td><td>536710</td><td>176960</td><td>-0.032886</td><td>51.4751</td></tr><tr><th>17</th><td>2018010080990</td><td>517110</td><td>186280</td><td>-0.311872</td><td>51.5632</td></tr><tr><th>18</th><td>2018010080990</td><td>517110</td><td>186280</td><td>-0.311872</td><td>51.5632</td></tr><tr><th>19</th><td>2018010080992</td><td>535450</td><td>181190</td><td>-0.049395</td><td>51.5134</td></tr><tr><th>20</th><td>2018010080992</td><td>535450</td><td>181190</td><td>-0.049395</td><td>51.5134</td></tr><tr><th>21</th><td>2018010080993</td><td>534590</td><td>183230</td><td>-0.061002</td><td>51.5319</td></tr><tr><th>22</th><td>2018010080994</td><td>512160</td><td>176120</td><td>-0.386484</td><td>51.4729</td></tr><tr><th>23</th><td>2018010080995</td><td>514550</td><td>188210</td><td>-0.34816</td><td>51.5811</td></tr><tr><th>24</th><td>2018010080995</td><td>514550</td><td>188210</td><td>-0.34816</td><td>51.5811</td></tr><tr><th>25</th><td>2018010080996</td><td>531790</td><td>178650</td><td>-0.103057</td><td>51.4914</td></tr><tr><th>26</th><td>2018010080996</td><td>531790</td><td>178650</td><td>-0.103057</td><td>51.4914</td></tr><tr><th>27</th><td>2018010080997</td><td>535960</td><td>171440</td><td>-0.045798</td><td>51.4257</td></tr><tr><th>28</th><td>2018010081002</td><td>529820</td><td>175530</td><td>-0.132562</td><td>51.4639</td></tr><tr><th>29</th><td>2018010081002</td><td>529820</td><td>175530</td><td>-0.132562</td><td>51.4639</td></tr><tr><th>30</th><td>2018010081003</td><td>520460</td><td>181340</td><td>-0.265255</td><td>51.5181</td></tr><tr><th>&vellip;</th><td>&vellip;</td><td>&vellip;</td><td>&vellip;</td><td>&vellip;</td><td>&vellip;</td></tr></tbody></table>"
      ],
      "text/latex": [
       "\\begin{tabular}{r|cccccc}\n",
       "\t& Accident\\_Index & Location\\_Easting\\_OSGR & Location\\_Northing\\_OSGR & Longitude & Latitude & \\\\\n",
       "\t\\hline\n",
       "\t& String & Int64? & Int64? & Float64? & Float64? & \\\\\n",
       "\t\\hline\n",
       "\t1 & 2018010080971 & 529150 & 182270 & -0.139737 & 51.5246 & $\\dots$ \\\\\n",
       "\t2 & 2018010080971 & 529150 & 182270 & -0.139737 & 51.5246 & $\\dots$ \\\\\n",
       "\t3 & 2018010080973 & 542020 & 184290 & 0.046471 & 51.5397 & $\\dots$ \\\\\n",
       "\t4 & 2018010080974 & 531720 & 182910 & -0.102474 & 51.5297 & $\\dots$ \\\\\n",
       "\t5 & 2018010080974 & 531720 & 182910 & -0.102474 & 51.5297 & $\\dots$ \\\\\n",
       "\t6 & 2018010080981 & 541450 & 183220 & 0.037828 & 51.5302 & $\\dots$ \\\\\n",
       "\t7 & 2018010080981 & 541450 & 183220 & 0.037828 & 51.5302 & $\\dots$ \\\\\n",
       "\t8 & 2018010080982 & 543580 & 176500 & 0.065781 & 51.4693 & $\\dots$ \\\\\n",
       "\t9 & 2018010080982 & 543580 & 176500 & 0.065781 & 51.4693 & $\\dots$ \\\\\n",
       "\t10 & 2018010080983 & 526060 & 194910 & -0.17972 & 51.6389 & $\\dots$ \\\\\n",
       "\t11 & 2018010080983 & 526060 & 194910 & -0.17972 & 51.6389 & $\\dots$ \\\\\n",
       "\t12 & 2018010080986 & 525050 & 181050 & -0.199239 & 51.5145 & $\\dots$ \\\\\n",
       "\t13 & 2018010080986 & 525050 & 181050 & -0.199239 & 51.5145 & $\\dots$ \\\\\n",
       "\t14 & 2018010080987 & 536710 & 176960 & -0.032886 & 51.4751 & $\\dots$ \\\\\n",
       "\t15 & 2018010080987 & 536710 & 176960 & -0.032886 & 51.4751 & $\\dots$ \\\\\n",
       "\t16 & 2018010080987 & 536710 & 176960 & -0.032886 & 51.4751 & $\\dots$ \\\\\n",
       "\t17 & 2018010080990 & 517110 & 186280 & -0.311872 & 51.5632 & $\\dots$ \\\\\n",
       "\t18 & 2018010080990 & 517110 & 186280 & -0.311872 & 51.5632 & $\\dots$ \\\\\n",
       "\t19 & 2018010080992 & 535450 & 181190 & -0.049395 & 51.5134 & $\\dots$ \\\\\n",
       "\t20 & 2018010080992 & 535450 & 181190 & -0.049395 & 51.5134 & $\\dots$ \\\\\n",
       "\t21 & 2018010080993 & 534590 & 183230 & -0.061002 & 51.5319 & $\\dots$ \\\\\n",
       "\t22 & 2018010080994 & 512160 & 176120 & -0.386484 & 51.4729 & $\\dots$ \\\\\n",
       "\t23 & 2018010080995 & 514550 & 188210 & -0.34816 & 51.5811 & $\\dots$ \\\\\n",
       "\t24 & 2018010080995 & 514550 & 188210 & -0.34816 & 51.5811 & $\\dots$ \\\\\n",
       "\t25 & 2018010080996 & 531790 & 178650 & -0.103057 & 51.4914 & $\\dots$ \\\\\n",
       "\t26 & 2018010080996 & 531790 & 178650 & -0.103057 & 51.4914 & $\\dots$ \\\\\n",
       "\t27 & 2018010080997 & 535960 & 171440 & -0.045798 & 51.4257 & $\\dots$ \\\\\n",
       "\t28 & 2018010081002 & 529820 & 175530 & -0.132562 & 51.4639 & $\\dots$ \\\\\n",
       "\t29 & 2018010081002 & 529820 & 175530 & -0.132562 & 51.4639 & $\\dots$ \\\\\n",
       "\t30 & 2018010081003 & 520460 & 181340 & -0.265255 & 51.5181 & $\\dots$ \\\\\n",
       "\t$\\dots$ & $\\dots$ & $\\dots$ & $\\dots$ & $\\dots$ & $\\dots$ &  \\\\\n",
       "\\end{tabular}\n"
      ],
      "text/plain": [
       "226409×54 DataFrame. Omitted printing of 51 columns\n",
       "│ Row    │ Accident_Index │ Location_Easting_OSGR │ Location_Northing_OSGR │\n",
       "│        │ \u001b[90mString\u001b[39m         │ \u001b[90mUnion{Missing, Int64}\u001b[39m │ \u001b[90mUnion{Missing, Int64}\u001b[39m  │\n",
       "├────────┼────────────────┼───────────────────────┼────────────────────────┤\n",
       "│ 1      │ 2018010080971  │ 529150                │ 182270                 │\n",
       "│ 2      │ 2018010080971  │ 529150                │ 182270                 │\n",
       "│ 3      │ 2018010080973  │ 542020                │ 184290                 │\n",
       "│ 4      │ 2018010080974  │ 531720                │ 182910                 │\n",
       "│ 5      │ 2018010080974  │ 531720                │ 182910                 │\n",
       "│ 6      │ 2018010080981  │ 541450                │ 183220                 │\n",
       "│ 7      │ 2018010080981  │ 541450                │ 183220                 │\n",
       "│ 8      │ 2018010080982  │ 543580                │ 176500                 │\n",
       "│ 9      │ 2018010080982  │ 543580                │ 176500                 │\n",
       "│ 10     │ 2018010080983  │ 526060                │ 194910                 │\n",
       "⋮\n",
       "│ 226399 │ 2018984115518  │ 308354                │ 599190                 │\n",
       "│ 226400 │ 2018984115518  │ 308354                │ 599190                 │\n",
       "│ 226401 │ 2018984115718  │ 307124                │ 594145                 │\n",
       "│ 226402 │ 2018984115718  │ 307124                │ 594145                 │\n",
       "│ 226403 │ 2018984115918  │ 313325                │ 581065                 │\n",
       "│ 226404 │ 2018984115918  │ 313325                │ 581065                 │\n",
       "│ 226405 │ 2018984116018  │ 319337                │ 574511                 │\n",
       "│ 226406 │ 2018984116018  │ 319337                │ 574511                 │\n",
       "│ 226407 │ 2018984116018  │ 319337                │ 574511                 │\n",
       "│ 226408 │ 2018984116318  │ 318858                │ 566932                 │\n",
       "│ 226409 │ 2018984116418  │ 316008                │ 568771                 │"
      ]
     },
     "execution_count": 36,
     "metadata": {},
     "output_type": "execute_result"
    }
   ],
   "source": [
    "full_DfTRoadSafety_2018 =join(DfTRoadSafety_Accidents_2018, DfTRoadSafety_Vehicles_2018, on = :Accident_Index)"
   ]
  },
  {
   "cell_type": "code",
   "execution_count": 37,
   "metadata": {},
   "outputs": [
    {
     "data": {
      "text/html": [
       "<table class=\"data-frame\"><thead><tr><th></th><th>Accident_Index</th><th>Location_Easting_OSGR</th><th>Location_Northing_OSGR</th><th>Longitude</th><th>Latitude</th></tr><tr><th></th><th>String</th><th>Int64?</th><th>Int64?</th><th>Float64?</th><th>Float64?</th></tr></thead><tbody><p>5 rows × 54 columns (omitted printing of 49 columns)</p><tr><th>1</th><td>2018010080971</td><td>529150</td><td>182270</td><td>-0.139737</td><td>51.5246</td></tr><tr><th>2</th><td>2018010080971</td><td>529150</td><td>182270</td><td>-0.139737</td><td>51.5246</td></tr><tr><th>3</th><td>2018010080973</td><td>542020</td><td>184290</td><td>0.046471</td><td>51.5397</td></tr><tr><th>4</th><td>2018010080974</td><td>531720</td><td>182910</td><td>-0.102474</td><td>51.5297</td></tr><tr><th>5</th><td>2018010080974</td><td>531720</td><td>182910</td><td>-0.102474</td><td>51.5297</td></tr></tbody></table>"
      ],
      "text/latex": [
       "\\begin{tabular}{r|cccccc}\n",
       "\t& Accident\\_Index & Location\\_Easting\\_OSGR & Location\\_Northing\\_OSGR & Longitude & Latitude & \\\\\n",
       "\t\\hline\n",
       "\t& String & Int64? & Int64? & Float64? & Float64? & \\\\\n",
       "\t\\hline\n",
       "\t1 & 2018010080971 & 529150 & 182270 & -0.139737 & 51.5246 & $\\dots$ \\\\\n",
       "\t2 & 2018010080971 & 529150 & 182270 & -0.139737 & 51.5246 & $\\dots$ \\\\\n",
       "\t3 & 2018010080973 & 542020 & 184290 & 0.046471 & 51.5397 & $\\dots$ \\\\\n",
       "\t4 & 2018010080974 & 531720 & 182910 & -0.102474 & 51.5297 & $\\dots$ \\\\\n",
       "\t5 & 2018010080974 & 531720 & 182910 & -0.102474 & 51.5297 & $\\dots$ \\\\\n",
       "\\end{tabular}\n"
      ],
      "text/plain": [
       "5×54 DataFrame. Omitted printing of 51 columns\n",
       "│ Row │ Accident_Index │ Location_Easting_OSGR │ Location_Northing_OSGR │\n",
       "│     │ \u001b[90mString\u001b[39m         │ \u001b[90mUnion{Missing, Int64}\u001b[39m │ \u001b[90mUnion{Missing, Int64}\u001b[39m  │\n",
       "├─────┼────────────────┼───────────────────────┼────────────────────────┤\n",
       "│ 1   │ 2018010080971  │ 529150                │ 182270                 │\n",
       "│ 2   │ 2018010080971  │ 529150                │ 182270                 │\n",
       "│ 3   │ 2018010080973  │ 542020                │ 184290                 │\n",
       "│ 4   │ 2018010080974  │ 531720                │ 182910                 │\n",
       "│ 5   │ 2018010080974  │ 531720                │ 182910                 │"
      ]
     },
     "execution_count": 37,
     "metadata": {},
     "output_type": "execute_result"
    }
   ],
   "source": [
    "first(full_DfTRoadSafety_2018, 5)"
   ]
  },
  {
   "cell_type": "code",
   "execution_count": 38,
   "metadata": {},
   "outputs": [
    {
     "data": {
      "text/plain": [
       "54-element Array{String,1}:\n",
       " \"Accident_Index\"\n",
       " \"Location_Easting_OSGR\"\n",
       " \"Location_Northing_OSGR\"\n",
       " \"Longitude\"\n",
       " \"Latitude\"\n",
       " \"Police_Force\"\n",
       " \"Accident_Severity\"\n",
       " \"Number_of_Vehicles\"\n",
       " \"Number_of_Casualties\"\n",
       " \"Date\"\n",
       " \"Day_of_Week\"\n",
       " \"Time\"\n",
       " \"Local_Authority_(District)\"\n",
       " ⋮\n",
       " \"1st_Point_of_Impact\"\n",
       " \"Was_Vehicle_Left_Hand_Drive?\"\n",
       " \"Journey_Purpose_of_Driver\"\n",
       " \"Sex_of_Driver\"\n",
       " \"Age_of_Driver\"\n",
       " \"Age_Band_of_Driver\"\n",
       " \"Engine_Capacity_(CC)\"\n",
       " \"Propulsion_Code\"\n",
       " \"Age_of_Vehicle\"\n",
       " \"Driver_IMD_Decile\"\n",
       " \"Driver_Home_Area_Type\"\n",
       " \"Vehicle_IMD_Decile\""
      ]
     },
     "execution_count": 38,
     "metadata": {},
     "output_type": "execute_result"
    }
   ],
   "source": [
    "names(full_DfTRoadSafety_2018)"
   ]
  },
  {
   "cell_type": "markdown",
   "metadata": {},
   "source": [
    "The benefit is that the join is really easy to do and is really quick, even over large datasets.\n",
    "    \n",
    "We have read about other joins available in relation databases. Julia's DataFrames package provides these joins too:"
   ]
  },
  {
   "cell_type": "markdown",
   "metadata": {},
   "source": [
    "- Inner join: The output, which is the DataFrame, contains only those rows that have keys in both the dataframes.\n",
    "- Left join: The output DataFrame has the rows for keys that are present in the first (left) DataFrame, irrespective of them being present in the second (right) DataFrame.\n",
    "- Right join: The output DataFrame has the rows for keys that are present in the second (right) DataFrame, irrespective of them being present in the first (left) DataFrame.\n",
    "- Outer join: The output DataFrame has the rows for the keys that are present in the first or second DataFrame, which we are joining.\n",
    "- Semi join: The output DataFrame has only the rows from the first (left) DataFrame for the keys that are present in both the first (left) and second (right) DataFrames. The output contains only rows from the first DataFrame.\n",
    "- Anti join: The output DataFrame has the rows for keys that are present in the first (left) DataFrame but rows for the same keys are not present in the second (right) DataFrame. The output contains only rows from the first DataFrame.\n",
    "- Cross join: The output DataFrame has the rows that are the Cartesian product of the rows from the first DataFrame (left) and the second DataFrame (right)."
   ]
  },
  {
   "cell_type": "markdown",
   "metadata": {},
   "source": [
    "Let's understand this using a simpler dataset. We will create a dataframe and will apply\n",
    "different joins on it:"
   ]
  },
  {
   "cell_type": "code",
   "execution_count": 39,
   "metadata": {},
   "outputs": [
    {
     "data": {
      "text/plain": [
       "10-element Array{String,1}:\n",
       " \"Amsterdam\"\n",
       " \"Delhi\"\n",
       " \"Hamburg\"\n",
       " \"Hamburg\"\n",
       " \"Amsterdam\"\n",
       " \"Hamburg\"\n",
       " \"Delhi\"\n",
       " \"Amsterdam\"\n",
       " \"Amsterdam\"\n",
       " \"Hamburg\""
      ]
     },
     "execution_count": 39,
     "metadata": {},
     "output_type": "execute_result"
    }
   ],
   "source": [
    "Cities1 = [\"Delhi\",\"Amsterdam\",\"Hamburg\"][rand(1:3, 10)]\n",
    "Cities = [\"Delhi\",\"Amsterdam\",\"Hamburg\"][rand(1:3, 10)]"
   ]
  },
  {
   "cell_type": "code",
   "execution_count": 40,
   "metadata": {},
   "outputs": [
    {
     "data": {
      "text/html": [
       "<table class=\"data-frame\"><thead><tr><th></th><th>ID</th><th>City</th><th>RandomValue1</th></tr><tr><th></th><th>Int64</th><th>String</th><th>Int64</th></tr></thead><tbody><p>10 rows × 3 columns</p><tr><th>1</th><td>1</td><td>Amsterdam</td><td>5</td></tr><tr><th>2</th><td>2</td><td>Delhi</td><td>1</td></tr><tr><th>3</th><td>3</td><td>Hamburg</td><td>2</td></tr><tr><th>4</th><td>4</td><td>Hamburg</td><td>8</td></tr><tr><th>5</th><td>5</td><td>Amsterdam</td><td>2</td></tr><tr><th>6</th><td>6</td><td>Hamburg</td><td>1</td></tr><tr><th>7</th><td>7</td><td>Delhi</td><td>10</td></tr><tr><th>8</th><td>8</td><td>Amsterdam</td><td>6</td></tr><tr><th>9</th><td>9</td><td>Amsterdam</td><td>9</td></tr><tr><th>10</th><td>10</td><td>Hamburg</td><td>8</td></tr></tbody></table>"
      ],
      "text/latex": [
       "\\begin{tabular}{r|ccc}\n",
       "\t& ID & City & RandomValue1\\\\\n",
       "\t\\hline\n",
       "\t& Int64 & String & Int64\\\\\n",
       "\t\\hline\n",
       "\t1 & 1 & Amsterdam & 5 \\\\\n",
       "\t2 & 2 & Delhi & 1 \\\\\n",
       "\t3 & 3 & Hamburg & 2 \\\\\n",
       "\t4 & 4 & Hamburg & 8 \\\\\n",
       "\t5 & 5 & Amsterdam & 2 \\\\\n",
       "\t6 & 6 & Hamburg & 1 \\\\\n",
       "\t7 & 7 & Delhi & 10 \\\\\n",
       "\t8 & 8 & Amsterdam & 6 \\\\\n",
       "\t9 & 9 & Amsterdam & 9 \\\\\n",
       "\t10 & 10 & Hamburg & 8 \\\\\n",
       "\\end{tabular}\n"
      ],
      "text/plain": [
       "10×3 DataFrame\n",
       "│ Row │ ID    │ City      │ RandomValue1 │\n",
       "│     │ \u001b[90mInt64\u001b[39m │ \u001b[90mString\u001b[39m    │ \u001b[90mInt64\u001b[39m        │\n",
       "├─────┼───────┼───────────┼──────────────┤\n",
       "│ 1   │ 1     │ Amsterdam │ 5            │\n",
       "│ 2   │ 2     │ Delhi     │ 1            │\n",
       "│ 3   │ 3     │ Hamburg   │ 2            │\n",
       "│ 4   │ 4     │ Hamburg   │ 8            │\n",
       "│ 5   │ 5     │ Amsterdam │ 2            │\n",
       "│ 6   │ 6     │ Hamburg   │ 1            │\n",
       "│ 7   │ 7     │ Delhi     │ 10           │\n",
       "│ 8   │ 8     │ Amsterdam │ 6            │\n",
       "│ 9   │ 9     │ Amsterdam │ 9            │\n",
       "│ 10  │ 10    │ Hamburg   │ 8            │"
      ]
     },
     "execution_count": 40,
     "metadata": {},
     "output_type": "execute_result"
    }
   ],
   "source": [
    "df1 = DataFrame(ID=1:10, City=Cities, RandomValue1=rand(1:10,10))"
   ]
  },
  {
   "cell_type": "code",
   "execution_count": 41,
   "metadata": {},
   "outputs": [
    {
     "data": {
      "text/html": [
       "<table class=\"data-frame\"><thead><tr><th></th><th>ID</th><th>City</th><th>RandomValue2</th></tr><tr><th></th><th>Int64</th><th>String</th><th>Int64</th></tr></thead><tbody><p>10 rows × 3 columns</p><tr><th>1</th><td>1</td><td>Amsterdam</td><td>101</td></tr><tr><th>2</th><td>2</td><td>Delhi</td><td>104</td></tr><tr><th>3</th><td>3</td><td>Hamburg</td><td>107</td></tr><tr><th>4</th><td>4</td><td>Hamburg</td><td>101</td></tr><tr><th>5</th><td>5</td><td>Amsterdam</td><td>109</td></tr><tr><th>6</th><td>6</td><td>Hamburg</td><td>109</td></tr><tr><th>7</th><td>7</td><td>Delhi</td><td>106</td></tr><tr><th>8</th><td>8</td><td>Amsterdam</td><td>110</td></tr><tr><th>9</th><td>9</td><td>Amsterdam</td><td>108</td></tr><tr><th>10</th><td>10</td><td>Hamburg</td><td>103</td></tr></tbody></table>"
      ],
      "text/latex": [
       "\\begin{tabular}{r|ccc}\n",
       "\t& ID & City & RandomValue2\\\\\n",
       "\t\\hline\n",
       "\t& Int64 & String & Int64\\\\\n",
       "\t\\hline\n",
       "\t1 & 1 & Amsterdam & 101 \\\\\n",
       "\t2 & 2 & Delhi & 104 \\\\\n",
       "\t3 & 3 & Hamburg & 107 \\\\\n",
       "\t4 & 4 & Hamburg & 101 \\\\\n",
       "\t5 & 5 & Amsterdam & 109 \\\\\n",
       "\t6 & 6 & Hamburg & 109 \\\\\n",
       "\t7 & 7 & Delhi & 106 \\\\\n",
       "\t8 & 8 & Amsterdam & 110 \\\\\n",
       "\t9 & 9 & Amsterdam & 108 \\\\\n",
       "\t10 & 10 & Hamburg & 103 \\\\\n",
       "\\end{tabular}\n"
      ],
      "text/plain": [
       "10×3 DataFrame\n",
       "│ Row │ ID    │ City      │ RandomValue2 │\n",
       "│     │ \u001b[90mInt64\u001b[39m │ \u001b[90mString\u001b[39m    │ \u001b[90mInt64\u001b[39m        │\n",
       "├─────┼───────┼───────────┼──────────────┤\n",
       "│ 1   │ 1     │ Amsterdam │ 101          │\n",
       "│ 2   │ 2     │ Delhi     │ 104          │\n",
       "│ 3   │ 3     │ Hamburg   │ 107          │\n",
       "│ 4   │ 4     │ Hamburg   │ 101          │\n",
       "│ 5   │ 5     │ Amsterdam │ 109          │\n",
       "│ 6   │ 6     │ Hamburg   │ 109          │\n",
       "│ 7   │ 7     │ Delhi     │ 106          │\n",
       "│ 8   │ 8     │ Amsterdam │ 110          │\n",
       "│ 9   │ 9     │ Amsterdam │ 108          │\n",
       "│ 10  │ 10    │ Hamburg   │ 103          │"
      ]
     },
     "execution_count": 41,
     "metadata": {},
     "output_type": "execute_result"
    }
   ],
   "source": [
    "df2 = DataFrame(ID = 1:10, City = Cities, RandomValue2 = rand(100:110, 10))"
   ]
  },
  {
   "cell_type": "markdown",
   "metadata": {},
   "source": [
    "This created two dataframes having 10 rows. The first dataframe, df1, has three columns: ID, City, and RandomValue1. The second dataframe has df2 with three columns: ID, City, and RandomValue2."
   ]
  },
  {
   "cell_type": "markdown",
   "metadata": {},
   "source": [
    "This will generate:"
   ]
  },
  {
   "cell_type": "code",
   "execution_count": 42,
   "metadata": {},
   "outputs": [
    {
     "data": {
      "text/html": [
       "<table class=\"data-frame\"><thead><tr><th></th><th>ID</th><th>City</th><th>RandomValue1</th><th>RandomValue2</th></tr><tr><th></th><th>Int64</th><th>String</th><th>Int64</th><th>Int64</th></tr></thead><tbody><p>10 rows × 4 columns</p><tr><th>1</th><td>1</td><td>Amsterdam</td><td>5</td><td>101</td></tr><tr><th>2</th><td>2</td><td>Delhi</td><td>1</td><td>104</td></tr><tr><th>3</th><td>3</td><td>Hamburg</td><td>2</td><td>107</td></tr><tr><th>4</th><td>4</td><td>Hamburg</td><td>8</td><td>101</td></tr><tr><th>5</th><td>5</td><td>Amsterdam</td><td>2</td><td>109</td></tr><tr><th>6</th><td>6</td><td>Hamburg</td><td>1</td><td>109</td></tr><tr><th>7</th><td>7</td><td>Delhi</td><td>10</td><td>106</td></tr><tr><th>8</th><td>8</td><td>Amsterdam</td><td>6</td><td>110</td></tr><tr><th>9</th><td>9</td><td>Amsterdam</td><td>9</td><td>108</td></tr><tr><th>10</th><td>10</td><td>Hamburg</td><td>8</td><td>103</td></tr></tbody></table>"
      ],
      "text/latex": [
       "\\begin{tabular}{r|cccc}\n",
       "\t& ID & City & RandomValue1 & RandomValue2\\\\\n",
       "\t\\hline\n",
       "\t& Int64 & String & Int64 & Int64\\\\\n",
       "\t\\hline\n",
       "\t1 & 1 & Amsterdam & 5 & 101 \\\\\n",
       "\t2 & 2 & Delhi & 1 & 104 \\\\\n",
       "\t3 & 3 & Hamburg & 2 & 107 \\\\\n",
       "\t4 & 4 & Hamburg & 8 & 101 \\\\\n",
       "\t5 & 5 & Amsterdam & 2 & 109 \\\\\n",
       "\t6 & 6 & Hamburg & 1 & 109 \\\\\n",
       "\t7 & 7 & Delhi & 10 & 106 \\\\\n",
       "\t8 & 8 & Amsterdam & 6 & 110 \\\\\n",
       "\t9 & 9 & Amsterdam & 9 & 108 \\\\\n",
       "\t10 & 10 & Hamburg & 8 & 103 \\\\\n",
       "\\end{tabular}\n"
      ],
      "text/plain": [
       "10×4 DataFrame\n",
       "│ Row │ ID    │ City      │ RandomValue1 │ RandomValue2 │\n",
       "│     │ \u001b[90mInt64\u001b[39m │ \u001b[90mString\u001b[39m    │ \u001b[90mInt64\u001b[39m        │ \u001b[90mInt64\u001b[39m        │\n",
       "├─────┼───────┼───────────┼──────────────┼──────────────┤\n",
       "│ 1   │ 1     │ Amsterdam │ 5            │ 101          │\n",
       "│ 2   │ 2     │ Delhi     │ 1            │ 104          │\n",
       "│ 3   │ 3     │ Hamburg   │ 2            │ 107          │\n",
       "│ 4   │ 4     │ Hamburg   │ 8            │ 101          │\n",
       "│ 5   │ 5     │ Amsterdam │ 2            │ 109          │\n",
       "│ 6   │ 6     │ Hamburg   │ 1            │ 109          │\n",
       "│ 7   │ 7     │ Delhi     │ 10           │ 106          │\n",
       "│ 8   │ 8     │ Amsterdam │ 6            │ 110          │\n",
       "│ 9   │ 9     │ Amsterdam │ 9            │ 108          │\n",
       "│ 10  │ 10    │ Hamburg   │ 8            │ 103          │"
      ]
     },
     "execution_count": 42,
     "metadata": {},
     "output_type": "execute_result"
    }
   ],
   "source": [
    "full_df1_df2 = join(df1,df2,on = [:ID, :City])"
   ]
  },
  {
   "cell_type": "markdown",
   "metadata": {},
   "source": [
    "Other joins can also be applied using the kind argument. Let's go through our old dataset of accidents and vehicles."
   ]
  },
  {
   "cell_type": "code",
   "execution_count": 43,
   "metadata": {},
   "outputs": [
    {
     "data": {
      "text/html": [
       "<table class=\"data-frame\"><thead><tr><th></th><th>Accident_Index</th><th>Location_Easting_OSGR</th><th>Location_Northing_OSGR</th><th>Longitude</th><th>Latitude</th></tr><tr><th></th><th>String?</th><th>Int64?</th><th>Int64?</th><th>Float64?</th><th>Float64?</th></tr></thead><tbody><p>226,409 rows × 54 columns (omitted printing of 49 columns)</p><tr><th>1</th><td>2018010080971</td><td>529150</td><td>182270</td><td>-0.139737</td><td>51.5246</td></tr><tr><th>2</th><td>2018010080971</td><td>529150</td><td>182270</td><td>-0.139737</td><td>51.5246</td></tr><tr><th>3</th><td>2018010080973</td><td>542020</td><td>184290</td><td>0.046471</td><td>51.5397</td></tr><tr><th>4</th><td>2018010080974</td><td>531720</td><td>182910</td><td>-0.102474</td><td>51.5297</td></tr><tr><th>5</th><td>2018010080974</td><td>531720</td><td>182910</td><td>-0.102474</td><td>51.5297</td></tr><tr><th>6</th><td>2018010080981</td><td>541450</td><td>183220</td><td>0.037828</td><td>51.5302</td></tr><tr><th>7</th><td>2018010080981</td><td>541450</td><td>183220</td><td>0.037828</td><td>51.5302</td></tr><tr><th>8</th><td>2018010080982</td><td>543580</td><td>176500</td><td>0.065781</td><td>51.4693</td></tr><tr><th>9</th><td>2018010080982</td><td>543580</td><td>176500</td><td>0.065781</td><td>51.4693</td></tr><tr><th>10</th><td>2018010080983</td><td>526060</td><td>194910</td><td>-0.17972</td><td>51.6389</td></tr><tr><th>11</th><td>2018010080983</td><td>526060</td><td>194910</td><td>-0.17972</td><td>51.6389</td></tr><tr><th>12</th><td>2018010080986</td><td>525050</td><td>181050</td><td>-0.199239</td><td>51.5145</td></tr><tr><th>13</th><td>2018010080986</td><td>525050</td><td>181050</td><td>-0.199239</td><td>51.5145</td></tr><tr><th>14</th><td>2018010080987</td><td>536710</td><td>176960</td><td>-0.032886</td><td>51.4751</td></tr><tr><th>15</th><td>2018010080987</td><td>536710</td><td>176960</td><td>-0.032886</td><td>51.4751</td></tr><tr><th>16</th><td>2018010080987</td><td>536710</td><td>176960</td><td>-0.032886</td><td>51.4751</td></tr><tr><th>17</th><td>2018010080990</td><td>517110</td><td>186280</td><td>-0.311872</td><td>51.5632</td></tr><tr><th>18</th><td>2018010080990</td><td>517110</td><td>186280</td><td>-0.311872</td><td>51.5632</td></tr><tr><th>19</th><td>2018010080992</td><td>535450</td><td>181190</td><td>-0.049395</td><td>51.5134</td></tr><tr><th>20</th><td>2018010080992</td><td>535450</td><td>181190</td><td>-0.049395</td><td>51.5134</td></tr><tr><th>21</th><td>2018010080993</td><td>534590</td><td>183230</td><td>-0.061002</td><td>51.5319</td></tr><tr><th>22</th><td>2018010080994</td><td>512160</td><td>176120</td><td>-0.386484</td><td>51.4729</td></tr><tr><th>23</th><td>2018010080995</td><td>514550</td><td>188210</td><td>-0.34816</td><td>51.5811</td></tr><tr><th>24</th><td>2018010080995</td><td>514550</td><td>188210</td><td>-0.34816</td><td>51.5811</td></tr><tr><th>25</th><td>2018010080996</td><td>531790</td><td>178650</td><td>-0.103057</td><td>51.4914</td></tr><tr><th>26</th><td>2018010080996</td><td>531790</td><td>178650</td><td>-0.103057</td><td>51.4914</td></tr><tr><th>27</th><td>2018010080997</td><td>535960</td><td>171440</td><td>-0.045798</td><td>51.4257</td></tr><tr><th>28</th><td>2018010081002</td><td>529820</td><td>175530</td><td>-0.132562</td><td>51.4639</td></tr><tr><th>29</th><td>2018010081002</td><td>529820</td><td>175530</td><td>-0.132562</td><td>51.4639</td></tr><tr><th>30</th><td>2018010081003</td><td>520460</td><td>181340</td><td>-0.265255</td><td>51.5181</td></tr><tr><th>&vellip;</th><td>&vellip;</td><td>&vellip;</td><td>&vellip;</td><td>&vellip;</td><td>&vellip;</td></tr></tbody></table>"
      ],
      "text/latex": [
       "\\begin{tabular}{r|cccccc}\n",
       "\t& Accident\\_Index & Location\\_Easting\\_OSGR & Location\\_Northing\\_OSGR & Longitude & Latitude & \\\\\n",
       "\t\\hline\n",
       "\t& String? & Int64? & Int64? & Float64? & Float64? & \\\\\n",
       "\t\\hline\n",
       "\t1 & 2018010080971 & 529150 & 182270 & -0.139737 & 51.5246 & $\\dots$ \\\\\n",
       "\t2 & 2018010080971 & 529150 & 182270 & -0.139737 & 51.5246 & $\\dots$ \\\\\n",
       "\t3 & 2018010080973 & 542020 & 184290 & 0.046471 & 51.5397 & $\\dots$ \\\\\n",
       "\t4 & 2018010080974 & 531720 & 182910 & -0.102474 & 51.5297 & $\\dots$ \\\\\n",
       "\t5 & 2018010080974 & 531720 & 182910 & -0.102474 & 51.5297 & $\\dots$ \\\\\n",
       "\t6 & 2018010080981 & 541450 & 183220 & 0.037828 & 51.5302 & $\\dots$ \\\\\n",
       "\t7 & 2018010080981 & 541450 & 183220 & 0.037828 & 51.5302 & $\\dots$ \\\\\n",
       "\t8 & 2018010080982 & 543580 & 176500 & 0.065781 & 51.4693 & $\\dots$ \\\\\n",
       "\t9 & 2018010080982 & 543580 & 176500 & 0.065781 & 51.4693 & $\\dots$ \\\\\n",
       "\t10 & 2018010080983 & 526060 & 194910 & -0.17972 & 51.6389 & $\\dots$ \\\\\n",
       "\t11 & 2018010080983 & 526060 & 194910 & -0.17972 & 51.6389 & $\\dots$ \\\\\n",
       "\t12 & 2018010080986 & 525050 & 181050 & -0.199239 & 51.5145 & $\\dots$ \\\\\n",
       "\t13 & 2018010080986 & 525050 & 181050 & -0.199239 & 51.5145 & $\\dots$ \\\\\n",
       "\t14 & 2018010080987 & 536710 & 176960 & -0.032886 & 51.4751 & $\\dots$ \\\\\n",
       "\t15 & 2018010080987 & 536710 & 176960 & -0.032886 & 51.4751 & $\\dots$ \\\\\n",
       "\t16 & 2018010080987 & 536710 & 176960 & -0.032886 & 51.4751 & $\\dots$ \\\\\n",
       "\t17 & 2018010080990 & 517110 & 186280 & -0.311872 & 51.5632 & $\\dots$ \\\\\n",
       "\t18 & 2018010080990 & 517110 & 186280 & -0.311872 & 51.5632 & $\\dots$ \\\\\n",
       "\t19 & 2018010080992 & 535450 & 181190 & -0.049395 & 51.5134 & $\\dots$ \\\\\n",
       "\t20 & 2018010080992 & 535450 & 181190 & -0.049395 & 51.5134 & $\\dots$ \\\\\n",
       "\t21 & 2018010080993 & 534590 & 183230 & -0.061002 & 51.5319 & $\\dots$ \\\\\n",
       "\t22 & 2018010080994 & 512160 & 176120 & -0.386484 & 51.4729 & $\\dots$ \\\\\n",
       "\t23 & 2018010080995 & 514550 & 188210 & -0.34816 & 51.5811 & $\\dots$ \\\\\n",
       "\t24 & 2018010080995 & 514550 & 188210 & -0.34816 & 51.5811 & $\\dots$ \\\\\n",
       "\t25 & 2018010080996 & 531790 & 178650 & -0.103057 & 51.4914 & $\\dots$ \\\\\n",
       "\t26 & 2018010080996 & 531790 & 178650 & -0.103057 & 51.4914 & $\\dots$ \\\\\n",
       "\t27 & 2018010080997 & 535960 & 171440 & -0.045798 & 51.4257 & $\\dots$ \\\\\n",
       "\t28 & 2018010081002 & 529820 & 175530 & -0.132562 & 51.4639 & $\\dots$ \\\\\n",
       "\t29 & 2018010081002 & 529820 & 175530 & -0.132562 & 51.4639 & $\\dots$ \\\\\n",
       "\t30 & 2018010081003 & 520460 & 181340 & -0.265255 & 51.5181 & $\\dots$ \\\\\n",
       "\t$\\dots$ & $\\dots$ & $\\dots$ & $\\dots$ & $\\dots$ & $\\dots$ &  \\\\\n",
       "\\end{tabular}\n"
      ],
      "text/plain": [
       "226409×54 DataFrame. Omitted printing of 51 columns\n",
       "│ Row    │ Accident_Index │ Location_Easting_OSGR │ Location_Northing_OSGR │\n",
       "│        │ \u001b[90mString?\u001b[39m        │ \u001b[90mUnion{Missing, Int64}\u001b[39m │ \u001b[90mUnion{Missing, Int64}\u001b[39m  │\n",
       "├────────┼────────────────┼───────────────────────┼────────────────────────┤\n",
       "│ 1      │ 2018010080971  │ 529150                │ 182270                 │\n",
       "│ 2      │ 2018010080971  │ 529150                │ 182270                 │\n",
       "│ 3      │ 2018010080973  │ 542020                │ 184290                 │\n",
       "│ 4      │ 2018010080974  │ 531720                │ 182910                 │\n",
       "│ 5      │ 2018010080974  │ 531720                │ 182910                 │\n",
       "│ 6      │ 2018010080981  │ 541450                │ 183220                 │\n",
       "│ 7      │ 2018010080981  │ 541450                │ 183220                 │\n",
       "│ 8      │ 2018010080982  │ 543580                │ 176500                 │\n",
       "│ 9      │ 2018010080982  │ 543580                │ 176500                 │\n",
       "│ 10     │ 2018010080983  │ 526060                │ 194910                 │\n",
       "⋮\n",
       "│ 226399 │ 2018984115518  │ 308354                │ 599190                 │\n",
       "│ 226400 │ 2018984115518  │ 308354                │ 599190                 │\n",
       "│ 226401 │ 2018984115718  │ 307124                │ 594145                 │\n",
       "│ 226402 │ 2018984115718  │ 307124                │ 594145                 │\n",
       "│ 226403 │ 2018984115918  │ 313325                │ 581065                 │\n",
       "│ 226404 │ 2018984115918  │ 313325                │ 581065                 │\n",
       "│ 226405 │ 2018984116018  │ 319337                │ 574511                 │\n",
       "│ 226406 │ 2018984116018  │ 319337                │ 574511                 │\n",
       "│ 226407 │ 2018984116018  │ 319337                │ 574511                 │\n",
       "│ 226408 │ 2018984116318  │ 318858                │ 566932                 │\n",
       "│ 226409 │ 2018984116418  │ 316008                │ 568771                 │"
      ]
     },
     "execution_count": 43,
     "metadata": {},
     "output_type": "execute_result"
    }
   ],
   "source": [
    "right_DfTRoadSafety_2018 = join(DfTRoadSafety_Accidents_2018,DfTRoadSafety_Vehicles_2018, on = :Accident_Index, kind = :right)"
   ]
  },
  {
   "cell_type": "code",
   "execution_count": 44,
   "metadata": {},
   "outputs": [
    {
     "data": {
      "text/html": [
       "<table class=\"data-frame\"><thead><tr><th></th><th>Accident_Index</th><th>Location_Easting_OSGR</th><th>Location_Northing_OSGR</th><th>Longitude</th><th>Latitude</th></tr><tr><th></th><th>String</th><th>Int64?</th><th>Int64?</th><th>Float64?</th><th>Float64?</th></tr></thead><tbody><p>226,409 rows × 54 columns (omitted printing of 49 columns)</p><tr><th>1</th><td>2018010080971</td><td>529150</td><td>182270</td><td>-0.139737</td><td>51.5246</td></tr><tr><th>2</th><td>2018010080971</td><td>529150</td><td>182270</td><td>-0.139737</td><td>51.5246</td></tr><tr><th>3</th><td>2018010080973</td><td>542020</td><td>184290</td><td>0.046471</td><td>51.5397</td></tr><tr><th>4</th><td>2018010080974</td><td>531720</td><td>182910</td><td>-0.102474</td><td>51.5297</td></tr><tr><th>5</th><td>2018010080974</td><td>531720</td><td>182910</td><td>-0.102474</td><td>51.5297</td></tr><tr><th>6</th><td>2018010080981</td><td>541450</td><td>183220</td><td>0.037828</td><td>51.5302</td></tr><tr><th>7</th><td>2018010080981</td><td>541450</td><td>183220</td><td>0.037828</td><td>51.5302</td></tr><tr><th>8</th><td>2018010080982</td><td>543580</td><td>176500</td><td>0.065781</td><td>51.4693</td></tr><tr><th>9</th><td>2018010080982</td><td>543580</td><td>176500</td><td>0.065781</td><td>51.4693</td></tr><tr><th>10</th><td>2018010080983</td><td>526060</td><td>194910</td><td>-0.17972</td><td>51.6389</td></tr><tr><th>11</th><td>2018010080983</td><td>526060</td><td>194910</td><td>-0.17972</td><td>51.6389</td></tr><tr><th>12</th><td>2018010080986</td><td>525050</td><td>181050</td><td>-0.199239</td><td>51.5145</td></tr><tr><th>13</th><td>2018010080986</td><td>525050</td><td>181050</td><td>-0.199239</td><td>51.5145</td></tr><tr><th>14</th><td>2018010080987</td><td>536710</td><td>176960</td><td>-0.032886</td><td>51.4751</td></tr><tr><th>15</th><td>2018010080987</td><td>536710</td><td>176960</td><td>-0.032886</td><td>51.4751</td></tr><tr><th>16</th><td>2018010080987</td><td>536710</td><td>176960</td><td>-0.032886</td><td>51.4751</td></tr><tr><th>17</th><td>2018010080990</td><td>517110</td><td>186280</td><td>-0.311872</td><td>51.5632</td></tr><tr><th>18</th><td>2018010080990</td><td>517110</td><td>186280</td><td>-0.311872</td><td>51.5632</td></tr><tr><th>19</th><td>2018010080992</td><td>535450</td><td>181190</td><td>-0.049395</td><td>51.5134</td></tr><tr><th>20</th><td>2018010080992</td><td>535450</td><td>181190</td><td>-0.049395</td><td>51.5134</td></tr><tr><th>21</th><td>2018010080993</td><td>534590</td><td>183230</td><td>-0.061002</td><td>51.5319</td></tr><tr><th>22</th><td>2018010080994</td><td>512160</td><td>176120</td><td>-0.386484</td><td>51.4729</td></tr><tr><th>23</th><td>2018010080995</td><td>514550</td><td>188210</td><td>-0.34816</td><td>51.5811</td></tr><tr><th>24</th><td>2018010080995</td><td>514550</td><td>188210</td><td>-0.34816</td><td>51.5811</td></tr><tr><th>25</th><td>2018010080996</td><td>531790</td><td>178650</td><td>-0.103057</td><td>51.4914</td></tr><tr><th>26</th><td>2018010080996</td><td>531790</td><td>178650</td><td>-0.103057</td><td>51.4914</td></tr><tr><th>27</th><td>2018010080997</td><td>535960</td><td>171440</td><td>-0.045798</td><td>51.4257</td></tr><tr><th>28</th><td>2018010081002</td><td>529820</td><td>175530</td><td>-0.132562</td><td>51.4639</td></tr><tr><th>29</th><td>2018010081002</td><td>529820</td><td>175530</td><td>-0.132562</td><td>51.4639</td></tr><tr><th>30</th><td>2018010081003</td><td>520460</td><td>181340</td><td>-0.265255</td><td>51.5181</td></tr><tr><th>&vellip;</th><td>&vellip;</td><td>&vellip;</td><td>&vellip;</td><td>&vellip;</td><td>&vellip;</td></tr></tbody></table>"
      ],
      "text/latex": [
       "\\begin{tabular}{r|cccccc}\n",
       "\t& Accident\\_Index & Location\\_Easting\\_OSGR & Location\\_Northing\\_OSGR & Longitude & Latitude & \\\\\n",
       "\t\\hline\n",
       "\t& String & Int64? & Int64? & Float64? & Float64? & \\\\\n",
       "\t\\hline\n",
       "\t1 & 2018010080971 & 529150 & 182270 & -0.139737 & 51.5246 & $\\dots$ \\\\\n",
       "\t2 & 2018010080971 & 529150 & 182270 & -0.139737 & 51.5246 & $\\dots$ \\\\\n",
       "\t3 & 2018010080973 & 542020 & 184290 & 0.046471 & 51.5397 & $\\dots$ \\\\\n",
       "\t4 & 2018010080974 & 531720 & 182910 & -0.102474 & 51.5297 & $\\dots$ \\\\\n",
       "\t5 & 2018010080974 & 531720 & 182910 & -0.102474 & 51.5297 & $\\dots$ \\\\\n",
       "\t6 & 2018010080981 & 541450 & 183220 & 0.037828 & 51.5302 & $\\dots$ \\\\\n",
       "\t7 & 2018010080981 & 541450 & 183220 & 0.037828 & 51.5302 & $\\dots$ \\\\\n",
       "\t8 & 2018010080982 & 543580 & 176500 & 0.065781 & 51.4693 & $\\dots$ \\\\\n",
       "\t9 & 2018010080982 & 543580 & 176500 & 0.065781 & 51.4693 & $\\dots$ \\\\\n",
       "\t10 & 2018010080983 & 526060 & 194910 & -0.17972 & 51.6389 & $\\dots$ \\\\\n",
       "\t11 & 2018010080983 & 526060 & 194910 & -0.17972 & 51.6389 & $\\dots$ \\\\\n",
       "\t12 & 2018010080986 & 525050 & 181050 & -0.199239 & 51.5145 & $\\dots$ \\\\\n",
       "\t13 & 2018010080986 & 525050 & 181050 & -0.199239 & 51.5145 & $\\dots$ \\\\\n",
       "\t14 & 2018010080987 & 536710 & 176960 & -0.032886 & 51.4751 & $\\dots$ \\\\\n",
       "\t15 & 2018010080987 & 536710 & 176960 & -0.032886 & 51.4751 & $\\dots$ \\\\\n",
       "\t16 & 2018010080987 & 536710 & 176960 & -0.032886 & 51.4751 & $\\dots$ \\\\\n",
       "\t17 & 2018010080990 & 517110 & 186280 & -0.311872 & 51.5632 & $\\dots$ \\\\\n",
       "\t18 & 2018010080990 & 517110 & 186280 & -0.311872 & 51.5632 & $\\dots$ \\\\\n",
       "\t19 & 2018010080992 & 535450 & 181190 & -0.049395 & 51.5134 & $\\dots$ \\\\\n",
       "\t20 & 2018010080992 & 535450 & 181190 & -0.049395 & 51.5134 & $\\dots$ \\\\\n",
       "\t21 & 2018010080993 & 534590 & 183230 & -0.061002 & 51.5319 & $\\dots$ \\\\\n",
       "\t22 & 2018010080994 & 512160 & 176120 & -0.386484 & 51.4729 & $\\dots$ \\\\\n",
       "\t23 & 2018010080995 & 514550 & 188210 & -0.34816 & 51.5811 & $\\dots$ \\\\\n",
       "\t24 & 2018010080995 & 514550 & 188210 & -0.34816 & 51.5811 & $\\dots$ \\\\\n",
       "\t25 & 2018010080996 & 531790 & 178650 & -0.103057 & 51.4914 & $\\dots$ \\\\\n",
       "\t26 & 2018010080996 & 531790 & 178650 & -0.103057 & 51.4914 & $\\dots$ \\\\\n",
       "\t27 & 2018010080997 & 535960 & 171440 & -0.045798 & 51.4257 & $\\dots$ \\\\\n",
       "\t28 & 2018010081002 & 529820 & 175530 & -0.132562 & 51.4639 & $\\dots$ \\\\\n",
       "\t29 & 2018010081002 & 529820 & 175530 & -0.132562 & 51.4639 & $\\dots$ \\\\\n",
       "\t30 & 2018010081003 & 520460 & 181340 & -0.265255 & 51.5181 & $\\dots$ \\\\\n",
       "\t$\\dots$ & $\\dots$ & $\\dots$ & $\\dots$ & $\\dots$ & $\\dots$ &  \\\\\n",
       "\\end{tabular}\n"
      ],
      "text/plain": [
       "226409×54 DataFrame. Omitted printing of 51 columns\n",
       "│ Row    │ Accident_Index │ Location_Easting_OSGR │ Location_Northing_OSGR │\n",
       "│        │ \u001b[90mString\u001b[39m         │ \u001b[90mUnion{Missing, Int64}\u001b[39m │ \u001b[90mUnion{Missing, Int64}\u001b[39m  │\n",
       "├────────┼────────────────┼───────────────────────┼────────────────────────┤\n",
       "│ 1      │ 2018010080971  │ 529150                │ 182270                 │\n",
       "│ 2      │ 2018010080971  │ 529150                │ 182270                 │\n",
       "│ 3      │ 2018010080973  │ 542020                │ 184290                 │\n",
       "│ 4      │ 2018010080974  │ 531720                │ 182910                 │\n",
       "│ 5      │ 2018010080974  │ 531720                │ 182910                 │\n",
       "│ 6      │ 2018010080981  │ 541450                │ 183220                 │\n",
       "│ 7      │ 2018010080981  │ 541450                │ 183220                 │\n",
       "│ 8      │ 2018010080982  │ 543580                │ 176500                 │\n",
       "│ 9      │ 2018010080982  │ 543580                │ 176500                 │\n",
       "│ 10     │ 2018010080983  │ 526060                │ 194910                 │\n",
       "⋮\n",
       "│ 226399 │ 2018984115518  │ 308354                │ 599190                 │\n",
       "│ 226400 │ 2018984115518  │ 308354                │ 599190                 │\n",
       "│ 226401 │ 2018984115718  │ 307124                │ 594145                 │\n",
       "│ 226402 │ 2018984115718  │ 307124                │ 594145                 │\n",
       "│ 226403 │ 2018984115918  │ 313325                │ 581065                 │\n",
       "│ 226404 │ 2018984115918  │ 313325                │ 581065                 │\n",
       "│ 226405 │ 2018984116018  │ 319337                │ 574511                 │\n",
       "│ 226406 │ 2018984116018  │ 319337                │ 574511                 │\n",
       "│ 226407 │ 2018984116018  │ 319337                │ 574511                 │\n",
       "│ 226408 │ 2018984116318  │ 318858                │ 566932                 │\n",
       "│ 226409 │ 2018984116418  │ 316008                │ 568771                 │"
      ]
     },
     "execution_count": 44,
     "metadata": {},
     "output_type": "execute_result"
    }
   ],
   "source": [
    "inner_DfTRoadSafety_2018 = join(DfTRoadSafety_Accidents_2018, DfTRoadSafety_Vehicles_2018, on = :Accident_Index, kind = :inner)"
   ]
  },
  {
   "cell_type": "code",
   "execution_count": 45,
   "metadata": {},
   "outputs": [
    {
     "data": {
      "text/html": [
       "<table class=\"data-frame\"><thead><tr><th></th><th>Accident_Index</th><th>Location_Easting_OSGR</th><th>Location_Northing_OSGR</th><th>Longitude</th><th>Latitude</th></tr><tr><th></th><th>String?</th><th>Int64?</th><th>Int64?</th><th>Float64?</th><th>Float64?</th></tr></thead><tbody><p>226,409 rows × 54 columns (omitted printing of 49 columns)</p><tr><th>1</th><td>2018010080971</td><td>529150</td><td>182270</td><td>-0.139737</td><td>51.5246</td></tr><tr><th>2</th><td>2018010080971</td><td>529150</td><td>182270</td><td>-0.139737</td><td>51.5246</td></tr><tr><th>3</th><td>2018010080973</td><td>542020</td><td>184290</td><td>0.046471</td><td>51.5397</td></tr><tr><th>4</th><td>2018010080974</td><td>531720</td><td>182910</td><td>-0.102474</td><td>51.5297</td></tr><tr><th>5</th><td>2018010080974</td><td>531720</td><td>182910</td><td>-0.102474</td><td>51.5297</td></tr><tr><th>6</th><td>2018010080981</td><td>541450</td><td>183220</td><td>0.037828</td><td>51.5302</td></tr><tr><th>7</th><td>2018010080981</td><td>541450</td><td>183220</td><td>0.037828</td><td>51.5302</td></tr><tr><th>8</th><td>2018010080982</td><td>543580</td><td>176500</td><td>0.065781</td><td>51.4693</td></tr><tr><th>9</th><td>2018010080982</td><td>543580</td><td>176500</td><td>0.065781</td><td>51.4693</td></tr><tr><th>10</th><td>2018010080983</td><td>526060</td><td>194910</td><td>-0.17972</td><td>51.6389</td></tr><tr><th>11</th><td>2018010080983</td><td>526060</td><td>194910</td><td>-0.17972</td><td>51.6389</td></tr><tr><th>12</th><td>2018010080986</td><td>525050</td><td>181050</td><td>-0.199239</td><td>51.5145</td></tr><tr><th>13</th><td>2018010080986</td><td>525050</td><td>181050</td><td>-0.199239</td><td>51.5145</td></tr><tr><th>14</th><td>2018010080987</td><td>536710</td><td>176960</td><td>-0.032886</td><td>51.4751</td></tr><tr><th>15</th><td>2018010080987</td><td>536710</td><td>176960</td><td>-0.032886</td><td>51.4751</td></tr><tr><th>16</th><td>2018010080987</td><td>536710</td><td>176960</td><td>-0.032886</td><td>51.4751</td></tr><tr><th>17</th><td>2018010080990</td><td>517110</td><td>186280</td><td>-0.311872</td><td>51.5632</td></tr><tr><th>18</th><td>2018010080990</td><td>517110</td><td>186280</td><td>-0.311872</td><td>51.5632</td></tr><tr><th>19</th><td>2018010080992</td><td>535450</td><td>181190</td><td>-0.049395</td><td>51.5134</td></tr><tr><th>20</th><td>2018010080992</td><td>535450</td><td>181190</td><td>-0.049395</td><td>51.5134</td></tr><tr><th>21</th><td>2018010080993</td><td>534590</td><td>183230</td><td>-0.061002</td><td>51.5319</td></tr><tr><th>22</th><td>2018010080994</td><td>512160</td><td>176120</td><td>-0.386484</td><td>51.4729</td></tr><tr><th>23</th><td>2018010080995</td><td>514550</td><td>188210</td><td>-0.34816</td><td>51.5811</td></tr><tr><th>24</th><td>2018010080995</td><td>514550</td><td>188210</td><td>-0.34816</td><td>51.5811</td></tr><tr><th>25</th><td>2018010080996</td><td>531790</td><td>178650</td><td>-0.103057</td><td>51.4914</td></tr><tr><th>26</th><td>2018010080996</td><td>531790</td><td>178650</td><td>-0.103057</td><td>51.4914</td></tr><tr><th>27</th><td>2018010080997</td><td>535960</td><td>171440</td><td>-0.045798</td><td>51.4257</td></tr><tr><th>28</th><td>2018010081002</td><td>529820</td><td>175530</td><td>-0.132562</td><td>51.4639</td></tr><tr><th>29</th><td>2018010081002</td><td>529820</td><td>175530</td><td>-0.132562</td><td>51.4639</td></tr><tr><th>30</th><td>2018010081003</td><td>520460</td><td>181340</td><td>-0.265255</td><td>51.5181</td></tr><tr><th>&vellip;</th><td>&vellip;</td><td>&vellip;</td><td>&vellip;</td><td>&vellip;</td><td>&vellip;</td></tr></tbody></table>"
      ],
      "text/latex": [
       "\\begin{tabular}{r|cccccc}\n",
       "\t& Accident\\_Index & Location\\_Easting\\_OSGR & Location\\_Northing\\_OSGR & Longitude & Latitude & \\\\\n",
       "\t\\hline\n",
       "\t& String? & Int64? & Int64? & Float64? & Float64? & \\\\\n",
       "\t\\hline\n",
       "\t1 & 2018010080971 & 529150 & 182270 & -0.139737 & 51.5246 & $\\dots$ \\\\\n",
       "\t2 & 2018010080971 & 529150 & 182270 & -0.139737 & 51.5246 & $\\dots$ \\\\\n",
       "\t3 & 2018010080973 & 542020 & 184290 & 0.046471 & 51.5397 & $\\dots$ \\\\\n",
       "\t4 & 2018010080974 & 531720 & 182910 & -0.102474 & 51.5297 & $\\dots$ \\\\\n",
       "\t5 & 2018010080974 & 531720 & 182910 & -0.102474 & 51.5297 & $\\dots$ \\\\\n",
       "\t6 & 2018010080981 & 541450 & 183220 & 0.037828 & 51.5302 & $\\dots$ \\\\\n",
       "\t7 & 2018010080981 & 541450 & 183220 & 0.037828 & 51.5302 & $\\dots$ \\\\\n",
       "\t8 & 2018010080982 & 543580 & 176500 & 0.065781 & 51.4693 & $\\dots$ \\\\\n",
       "\t9 & 2018010080982 & 543580 & 176500 & 0.065781 & 51.4693 & $\\dots$ \\\\\n",
       "\t10 & 2018010080983 & 526060 & 194910 & -0.17972 & 51.6389 & $\\dots$ \\\\\n",
       "\t11 & 2018010080983 & 526060 & 194910 & -0.17972 & 51.6389 & $\\dots$ \\\\\n",
       "\t12 & 2018010080986 & 525050 & 181050 & -0.199239 & 51.5145 & $\\dots$ \\\\\n",
       "\t13 & 2018010080986 & 525050 & 181050 & -0.199239 & 51.5145 & $\\dots$ \\\\\n",
       "\t14 & 2018010080987 & 536710 & 176960 & -0.032886 & 51.4751 & $\\dots$ \\\\\n",
       "\t15 & 2018010080987 & 536710 & 176960 & -0.032886 & 51.4751 & $\\dots$ \\\\\n",
       "\t16 & 2018010080987 & 536710 & 176960 & -0.032886 & 51.4751 & $\\dots$ \\\\\n",
       "\t17 & 2018010080990 & 517110 & 186280 & -0.311872 & 51.5632 & $\\dots$ \\\\\n",
       "\t18 & 2018010080990 & 517110 & 186280 & -0.311872 & 51.5632 & $\\dots$ \\\\\n",
       "\t19 & 2018010080992 & 535450 & 181190 & -0.049395 & 51.5134 & $\\dots$ \\\\\n",
       "\t20 & 2018010080992 & 535450 & 181190 & -0.049395 & 51.5134 & $\\dots$ \\\\\n",
       "\t21 & 2018010080993 & 534590 & 183230 & -0.061002 & 51.5319 & $\\dots$ \\\\\n",
       "\t22 & 2018010080994 & 512160 & 176120 & -0.386484 & 51.4729 & $\\dots$ \\\\\n",
       "\t23 & 2018010080995 & 514550 & 188210 & -0.34816 & 51.5811 & $\\dots$ \\\\\n",
       "\t24 & 2018010080995 & 514550 & 188210 & -0.34816 & 51.5811 & $\\dots$ \\\\\n",
       "\t25 & 2018010080996 & 531790 & 178650 & -0.103057 & 51.4914 & $\\dots$ \\\\\n",
       "\t26 & 2018010080996 & 531790 & 178650 & -0.103057 & 51.4914 & $\\dots$ \\\\\n",
       "\t27 & 2018010080997 & 535960 & 171440 & -0.045798 & 51.4257 & $\\dots$ \\\\\n",
       "\t28 & 2018010081002 & 529820 & 175530 & -0.132562 & 51.4639 & $\\dots$ \\\\\n",
       "\t29 & 2018010081002 & 529820 & 175530 & -0.132562 & 51.4639 & $\\dots$ \\\\\n",
       "\t30 & 2018010081003 & 520460 & 181340 & -0.265255 & 51.5181 & $\\dots$ \\\\\n",
       "\t$\\dots$ & $\\dots$ & $\\dots$ & $\\dots$ & $\\dots$ & $\\dots$ &  \\\\\n",
       "\\end{tabular}\n"
      ],
      "text/plain": [
       "226409×54 DataFrame. Omitted printing of 51 columns\n",
       "│ Row    │ Accident_Index │ Location_Easting_OSGR │ Location_Northing_OSGR │\n",
       "│        │ \u001b[90mString?\u001b[39m        │ \u001b[90mUnion{Missing, Int64}\u001b[39m │ \u001b[90mUnion{Missing, Int64}\u001b[39m  │\n",
       "├────────┼────────────────┼───────────────────────┼────────────────────────┤\n",
       "│ 1      │ 2018010080971  │ 529150                │ 182270                 │\n",
       "│ 2      │ 2018010080971  │ 529150                │ 182270                 │\n",
       "│ 3      │ 2018010080973  │ 542020                │ 184290                 │\n",
       "│ 4      │ 2018010080974  │ 531720                │ 182910                 │\n",
       "│ 5      │ 2018010080974  │ 531720                │ 182910                 │\n",
       "│ 6      │ 2018010080981  │ 541450                │ 183220                 │\n",
       "│ 7      │ 2018010080981  │ 541450                │ 183220                 │\n",
       "│ 8      │ 2018010080982  │ 543580                │ 176500                 │\n",
       "│ 9      │ 2018010080982  │ 543580                │ 176500                 │\n",
       "│ 10     │ 2018010080983  │ 526060                │ 194910                 │\n",
       "⋮\n",
       "│ 226399 │ 2018984115518  │ 308354                │ 599190                 │\n",
       "│ 226400 │ 2018984115518  │ 308354                │ 599190                 │\n",
       "│ 226401 │ 2018984115718  │ 307124                │ 594145                 │\n",
       "│ 226402 │ 2018984115718  │ 307124                │ 594145                 │\n",
       "│ 226403 │ 2018984115918  │ 313325                │ 581065                 │\n",
       "│ 226404 │ 2018984115918  │ 313325                │ 581065                 │\n",
       "│ 226405 │ 2018984116018  │ 319337                │ 574511                 │\n",
       "│ 226406 │ 2018984116018  │ 319337                │ 574511                 │\n",
       "│ 226407 │ 2018984116018  │ 319337                │ 574511                 │\n",
       "│ 226408 │ 2018984116318  │ 318858                │ 566932                 │\n",
       "│ 226409 │ 2018984116418  │ 316008                │ 568771                 │"
      ]
     },
     "execution_count": 45,
     "metadata": {},
     "output_type": "execute_result"
    }
   ],
   "source": [
    "outer_DfTRoadSafety_2018 = join(DfTRoadSafety_Accidents_2018, DfTRoadSafety_Vehicles_2018, on = :Accident_Index, kind = :outer)"
   ]
  },
  {
   "cell_type": "code",
   "execution_count": 46,
   "metadata": {},
   "outputs": [
    {
     "data": {
      "text/html": [
       "<table class=\"data-frame\"><thead><tr><th></th><th>Accident_Index</th><th>Location_Easting_OSGR</th><th>Location_Northing_OSGR</th><th>Longitude</th><th>Latitude</th></tr><tr><th></th><th>String</th><th>Int64?</th><th>Int64?</th><th>Float64?</th><th>Float64?</th></tr></thead><tbody><p>122,635 rows × 32 columns (omitted printing of 27 columns)</p><tr><th>1</th><td>2018010080971</td><td>529150</td><td>182270</td><td>-0.139737</td><td>51.5246</td></tr><tr><th>2</th><td>2018010080973</td><td>542020</td><td>184290</td><td>0.046471</td><td>51.5397</td></tr><tr><th>3</th><td>2018010080974</td><td>531720</td><td>182910</td><td>-0.102474</td><td>51.5297</td></tr><tr><th>4</th><td>2018010080981</td><td>541450</td><td>183220</td><td>0.037828</td><td>51.5302</td></tr><tr><th>5</th><td>2018010080982</td><td>543580</td><td>176500</td><td>0.065781</td><td>51.4693</td></tr><tr><th>6</th><td>2018010080983</td><td>526060</td><td>194910</td><td>-0.17972</td><td>51.6389</td></tr><tr><th>7</th><td>2018010080986</td><td>525050</td><td>181050</td><td>-0.199239</td><td>51.5145</td></tr><tr><th>8</th><td>2018010080987</td><td>536710</td><td>176960</td><td>-0.032886</td><td>51.4751</td></tr><tr><th>9</th><td>2018010080990</td><td>517110</td><td>186280</td><td>-0.311872</td><td>51.5632</td></tr><tr><th>10</th><td>2018010080992</td><td>535450</td><td>181190</td><td>-0.049395</td><td>51.5134</td></tr><tr><th>11</th><td>2018010080993</td><td>534590</td><td>183230</td><td>-0.061002</td><td>51.5319</td></tr><tr><th>12</th><td>2018010080994</td><td>512160</td><td>176120</td><td>-0.386484</td><td>51.4729</td></tr><tr><th>13</th><td>2018010080995</td><td>514550</td><td>188210</td><td>-0.34816</td><td>51.5811</td></tr><tr><th>14</th><td>2018010080996</td><td>531790</td><td>178650</td><td>-0.103057</td><td>51.4914</td></tr><tr><th>15</th><td>2018010080997</td><td>535960</td><td>171440</td><td>-0.045798</td><td>51.4257</td></tr><tr><th>16</th><td>2018010081002</td><td>529820</td><td>175530</td><td>-0.132562</td><td>51.4639</td></tr><tr><th>17</th><td>2018010081003</td><td>520460</td><td>181340</td><td>-0.265255</td><td>51.5181</td></tr><tr><th>18</th><td>2018010081009</td><td>528590</td><td>174030</td><td>-0.150803</td><td>51.4507</td></tr><tr><th>19</th><td>2018010081025</td><td>530690</td><td>181840</td><td>-0.117711</td><td>51.5204</td></tr><tr><th>20</th><td>2018010081035</td><td>530600</td><td>179650</td><td>-0.119818</td><td>51.5007</td></tr><tr><th>21</th><td>2018010081044</td><td>534830</td><td>185010</td><td>-0.056863</td><td>51.5479</td></tr><tr><th>22</th><td>2018010081054</td><td>531320</td><td>189860</td><td>-0.105644</td><td>51.5923</td></tr><tr><th>23</th><td>2018010081059</td><td>532310</td><td>177250</td><td>-0.096095</td><td>51.4787</td></tr><tr><th>24</th><td>2018010081061</td><td>520890</td><td>178490</td><td>-0.260037</td><td>51.4924</td></tr><tr><th>25</th><td>2018010081063</td><td>535100</td><td>185510</td><td>-0.05278</td><td>51.5523</td></tr><tr><th>26</th><td>2018010081067</td><td>536660</td><td>184610</td><td>-0.030642</td><td>51.5438</td></tr><tr><th>27</th><td>2018010081069</td><td>518790</td><td>176710</td><td>-0.29087</td><td>51.4769</td></tr><tr><th>28</th><td>2018010081072</td><td>531200</td><td>175300</td><td>-0.112793</td><td>51.4615</td></tr><tr><th>29</th><td>2018010081073</td><td>529160</td><td>193140</td><td>-0.1356</td><td>51.6223</td></tr><tr><th>30</th><td>2018010081077</td><td>530220</td><td>166830</td><td>-0.130002</td><td>51.3856</td></tr><tr><th>&vellip;</th><td>&vellip;</td><td>&vellip;</td><td>&vellip;</td><td>&vellip;</td><td>&vellip;</td></tr></tbody></table>"
      ],
      "text/latex": [
       "\\begin{tabular}{r|cccccc}\n",
       "\t& Accident\\_Index & Location\\_Easting\\_OSGR & Location\\_Northing\\_OSGR & Longitude & Latitude & \\\\\n",
       "\t\\hline\n",
       "\t& String & Int64? & Int64? & Float64? & Float64? & \\\\\n",
       "\t\\hline\n",
       "\t1 & 2018010080971 & 529150 & 182270 & -0.139737 & 51.5246 & $\\dots$ \\\\\n",
       "\t2 & 2018010080973 & 542020 & 184290 & 0.046471 & 51.5397 & $\\dots$ \\\\\n",
       "\t3 & 2018010080974 & 531720 & 182910 & -0.102474 & 51.5297 & $\\dots$ \\\\\n",
       "\t4 & 2018010080981 & 541450 & 183220 & 0.037828 & 51.5302 & $\\dots$ \\\\\n",
       "\t5 & 2018010080982 & 543580 & 176500 & 0.065781 & 51.4693 & $\\dots$ \\\\\n",
       "\t6 & 2018010080983 & 526060 & 194910 & -0.17972 & 51.6389 & $\\dots$ \\\\\n",
       "\t7 & 2018010080986 & 525050 & 181050 & -0.199239 & 51.5145 & $\\dots$ \\\\\n",
       "\t8 & 2018010080987 & 536710 & 176960 & -0.032886 & 51.4751 & $\\dots$ \\\\\n",
       "\t9 & 2018010080990 & 517110 & 186280 & -0.311872 & 51.5632 & $\\dots$ \\\\\n",
       "\t10 & 2018010080992 & 535450 & 181190 & -0.049395 & 51.5134 & $\\dots$ \\\\\n",
       "\t11 & 2018010080993 & 534590 & 183230 & -0.061002 & 51.5319 & $\\dots$ \\\\\n",
       "\t12 & 2018010080994 & 512160 & 176120 & -0.386484 & 51.4729 & $\\dots$ \\\\\n",
       "\t13 & 2018010080995 & 514550 & 188210 & -0.34816 & 51.5811 & $\\dots$ \\\\\n",
       "\t14 & 2018010080996 & 531790 & 178650 & -0.103057 & 51.4914 & $\\dots$ \\\\\n",
       "\t15 & 2018010080997 & 535960 & 171440 & -0.045798 & 51.4257 & $\\dots$ \\\\\n",
       "\t16 & 2018010081002 & 529820 & 175530 & -0.132562 & 51.4639 & $\\dots$ \\\\\n",
       "\t17 & 2018010081003 & 520460 & 181340 & -0.265255 & 51.5181 & $\\dots$ \\\\\n",
       "\t18 & 2018010081009 & 528590 & 174030 & -0.150803 & 51.4507 & $\\dots$ \\\\\n",
       "\t19 & 2018010081025 & 530690 & 181840 & -0.117711 & 51.5204 & $\\dots$ \\\\\n",
       "\t20 & 2018010081035 & 530600 & 179650 & -0.119818 & 51.5007 & $\\dots$ \\\\\n",
       "\t21 & 2018010081044 & 534830 & 185010 & -0.056863 & 51.5479 & $\\dots$ \\\\\n",
       "\t22 & 2018010081054 & 531320 & 189860 & -0.105644 & 51.5923 & $\\dots$ \\\\\n",
       "\t23 & 2018010081059 & 532310 & 177250 & -0.096095 & 51.4787 & $\\dots$ \\\\\n",
       "\t24 & 2018010081061 & 520890 & 178490 & -0.260037 & 51.4924 & $\\dots$ \\\\\n",
       "\t25 & 2018010081063 & 535100 & 185510 & -0.05278 & 51.5523 & $\\dots$ \\\\\n",
       "\t26 & 2018010081067 & 536660 & 184610 & -0.030642 & 51.5438 & $\\dots$ \\\\\n",
       "\t27 & 2018010081069 & 518790 & 176710 & -0.29087 & 51.4769 & $\\dots$ \\\\\n",
       "\t28 & 2018010081072 & 531200 & 175300 & -0.112793 & 51.4615 & $\\dots$ \\\\\n",
       "\t29 & 2018010081073 & 529160 & 193140 & -0.1356 & 51.6223 & $\\dots$ \\\\\n",
       "\t30 & 2018010081077 & 530220 & 166830 & -0.130002 & 51.3856 & $\\dots$ \\\\\n",
       "\t$\\dots$ & $\\dots$ & $\\dots$ & $\\dots$ & $\\dots$ & $\\dots$ &  \\\\\n",
       "\\end{tabular}\n"
      ],
      "text/plain": [
       "122635×32 DataFrame. Omitted printing of 29 columns\n",
       "│ Row    │ Accident_Index │ Location_Easting_OSGR │ Location_Northing_OSGR │\n",
       "│        │ \u001b[90mString\u001b[39m         │ \u001b[90mUnion{Missing, Int64}\u001b[39m │ \u001b[90mUnion{Missing, Int64}\u001b[39m  │\n",
       "├────────┼────────────────┼───────────────────────┼────────────────────────┤\n",
       "│ 1      │ 2018010080971  │ 529150                │ 182270                 │\n",
       "│ 2      │ 2018010080973  │ 542020                │ 184290                 │\n",
       "│ 3      │ 2018010080974  │ 531720                │ 182910                 │\n",
       "│ 4      │ 2018010080981  │ 541450                │ 183220                 │\n",
       "│ 5      │ 2018010080982  │ 543580                │ 176500                 │\n",
       "│ 6      │ 2018010080983  │ 526060                │ 194910                 │\n",
       "│ 7      │ 2018010080986  │ 525050                │ 181050                 │\n",
       "│ 8      │ 2018010080987  │ 536710                │ 176960                 │\n",
       "│ 9      │ 2018010080990  │ 517110                │ 186280                 │\n",
       "│ 10     │ 2018010080992  │ 535450                │ 181190                 │\n",
       "⋮\n",
       "│ 122625 │ 2018984114918  │ 311794                │ 580755                 │\n",
       "│ 122626 │ 2018984115118  │ 336343                │ 584662                 │\n",
       "│ 122627 │ 2018984115218  │ 303700                │ 611260                 │\n",
       "│ 122628 │ 2018984115318  │ 308374                │ 599895                 │\n",
       "│ 122629 │ 2018984115418  │ 308481                │ 601469                 │\n",
       "│ 122630 │ 2018984115518  │ 308354                │ 599190                 │\n",
       "│ 122631 │ 2018984115718  │ 307124                │ 594145                 │\n",
       "│ 122632 │ 2018984115918  │ 313325                │ 581065                 │\n",
       "│ 122633 │ 2018984116018  │ 319337                │ 574511                 │\n",
       "│ 122634 │ 2018984116318  │ 318858                │ 566932                 │\n",
       "│ 122635 │ 2018984116418  │ 316008                │ 568771                 │"
      ]
     },
     "execution_count": 46,
     "metadata": {},
     "output_type": "execute_result"
    }
   ],
   "source": [
    "semi_DfTRoadSafety_2018 = join(DfTRoadSafety_Accidents_2018, DfTRoadSafety_Vehicles_2018, on = :Accident_Index, kind = :semi)"
   ]
  },
  {
   "cell_type": "code",
   "execution_count": 47,
   "metadata": {},
   "outputs": [
    {
     "data": {
      "text/html": [
       "<table class=\"data-frame\"><thead><tr><th></th><th>Accident_Index</th><th>Location_Easting_OSGR</th><th>Location_Northing_OSGR</th><th>Longitude</th><th>Latitude</th></tr><tr><th></th><th>String</th><th>Int64?</th><th>Int64?</th><th>Float64?</th><th>Float64?</th></tr></thead><tbody><p>0 rows × 32 columns (omitted printing of 27 columns)</p></tbody></table>"
      ],
      "text/latex": [
       "\\begin{tabular}{r|cccccc}\n",
       "\t& Accident\\_Index & Location\\_Easting\\_OSGR & Location\\_Northing\\_OSGR & Longitude & Latitude & \\\\\n",
       "\t\\hline\n",
       "\t& String & Int64? & Int64? & Float64? & Float64? & \\\\\n",
       "\t\\hline\n",
       "\\end{tabular}\n"
      ],
      "text/plain": [
       "0×32 DataFrame\n"
      ]
     },
     "execution_count": 47,
     "metadata": {},
     "output_type": "execute_result"
    }
   ],
   "source": [
    "anti_DfTRoadSafety_2018 = join(DfTRoadSafety_Accidents_2018, DfTRoadSafety_Vehicles_2018, on = :Accident_Index, kind = :anti)"
   ]
  },
  {
   "cell_type": "markdown",
   "metadata": {},
   "source": [
    "# The Split-Apply-Combine strategy"
   ]
  },
  {
   "cell_type": "markdown",
   "metadata": {},
   "source": [
    "This is needed when a dataset contains a large number of columns and for some operations all the columns are not necessary. It is better to split the dataset and then apply the necessary functions; and we can always put the dataset back together."
   ]
  },
  {
   "cell_type": "markdown",
   "metadata": {},
   "source": [
    "This is done using the by function by takes three arguments:\n",
    "- DataFrame (this is the dataframe that we would be splitting)\n",
    "- The column name (or numerical index) on which the DataFrame would be split \n",
    "- A function that can be applied on every subset of the DataFrame\n"
   ]
  },
  {
   "cell_type": "code",
   "execution_count": 48,
   "metadata": {},
   "outputs": [
    {
     "name": "stderr",
     "output_type": "stream",
     "text": [
      "┌ Warning: `by(d::AbstractDataFrame, cols::Any, f::Base.Callable; sort::Bool = false, skipmissing::Bool = false)` is deprecated, use `combine(f, groupby(d, cols, sort = sort, skipmissing = skipmissing))` instead.\n",
      "│   caller = top-level scope at In[48]:1\n",
      "└ @ Core In[48]:1\n"
     ]
    },
    {
     "data": {
      "text/html": [
       "<table class=\"data-frame\"><thead><tr><th></th><th>Location_Northing_OSGR</th><th>x1</th></tr><tr><th></th><th>Int64?</th><th>Tuple…</th></tr></thead><tbody><p>86,864 rows × 2 columns</p><tr><th>1</th><td>182270</td><td>(31, 32)</td></tr><tr><th>2</th><td>184290</td><td>(13, 32)</td></tr><tr><th>3</th><td>182910</td><td>(19, 32)</td></tr><tr><th>4</th><td>183220</td><td>(10, 32)</td></tr><tr><th>5</th><td>176500</td><td>(18, 32)</td></tr><tr><th>6</th><td>194910</td><td>(2, 32)</td></tr><tr><th>7</th><td>181050</td><td>(23, 32)</td></tr><tr><th>8</th><td>176960</td><td>(26, 32)</td></tr><tr><th>9</th><td>186280</td><td>(12, 32)</td></tr><tr><th>10</th><td>181190</td><td>(21, 32)</td></tr><tr><th>11</th><td>183230</td><td>(14, 32)</td></tr><tr><th>12</th><td>176120</td><td>(9, 32)</td></tr><tr><th>13</th><td>188210</td><td>(16, 32)</td></tr><tr><th>14</th><td>178650</td><td>(13, 32)</td></tr><tr><th>15</th><td>171440</td><td>(8, 32)</td></tr><tr><th>16</th><td>175530</td><td>(17, 32)</td></tr><tr><th>17</th><td>181340</td><td>(9, 32)</td></tr><tr><th>18</th><td>174030</td><td>(11, 32)</td></tr><tr><th>19</th><td>181840</td><td>(14, 32)</td></tr><tr><th>20</th><td>179650</td><td>(16, 32)</td></tr><tr><th>21</th><td>185010</td><td>(13, 32)</td></tr><tr><th>22</th><td>189860</td><td>(4, 32)</td></tr><tr><th>23</th><td>177250</td><td>(15, 32)</td></tr><tr><th>24</th><td>178490</td><td>(23, 32)</td></tr><tr><th>25</th><td>185510</td><td>(10, 32)</td></tr><tr><th>26</th><td>184610</td><td>(19, 32)</td></tr><tr><th>27</th><td>176710</td><td>(17, 32)</td></tr><tr><th>28</th><td>175300</td><td>(11, 32)</td></tr><tr><th>29</th><td>193140</td><td>(3, 32)</td></tr><tr><th>30</th><td>166830</td><td>(2, 32)</td></tr><tr><th>&vellip;</th><td>&vellip;</td><td>&vellip;</td></tr></tbody></table>"
      ],
      "text/latex": [
       "\\begin{tabular}{r|cc}\n",
       "\t& Location\\_Northing\\_OSGR & x1\\\\\n",
       "\t\\hline\n",
       "\t& Int64? & Tuple…\\\\\n",
       "\t\\hline\n",
       "\t1 & 182270 & (31, 32) \\\\\n",
       "\t2 & 184290 & (13, 32) \\\\\n",
       "\t3 & 182910 & (19, 32) \\\\\n",
       "\t4 & 183220 & (10, 32) \\\\\n",
       "\t5 & 176500 & (18, 32) \\\\\n",
       "\t6 & 194910 & (2, 32) \\\\\n",
       "\t7 & 181050 & (23, 32) \\\\\n",
       "\t8 & 176960 & (26, 32) \\\\\n",
       "\t9 & 186280 & (12, 32) \\\\\n",
       "\t10 & 181190 & (21, 32) \\\\\n",
       "\t11 & 183230 & (14, 32) \\\\\n",
       "\t12 & 176120 & (9, 32) \\\\\n",
       "\t13 & 188210 & (16, 32) \\\\\n",
       "\t14 & 178650 & (13, 32) \\\\\n",
       "\t15 & 171440 & (8, 32) \\\\\n",
       "\t16 & 175530 & (17, 32) \\\\\n",
       "\t17 & 181340 & (9, 32) \\\\\n",
       "\t18 & 174030 & (11, 32) \\\\\n",
       "\t19 & 181840 & (14, 32) \\\\\n",
       "\t20 & 179650 & (16, 32) \\\\\n",
       "\t21 & 185010 & (13, 32) \\\\\n",
       "\t22 & 189860 & (4, 32) \\\\\n",
       "\t23 & 177250 & (15, 32) \\\\\n",
       "\t24 & 178490 & (23, 32) \\\\\n",
       "\t25 & 185510 & (10, 32) \\\\\n",
       "\t26 & 184610 & (19, 32) \\\\\n",
       "\t27 & 176710 & (17, 32) \\\\\n",
       "\t28 & 175300 & (11, 32) \\\\\n",
       "\t29 & 193140 & (3, 32) \\\\\n",
       "\t30 & 166830 & (2, 32) \\\\\n",
       "\t$\\dots$ & $\\dots$ & $\\dots$ \\\\\n",
       "\\end{tabular}\n"
      ],
      "text/plain": [
       "86864×2 DataFrame\n",
       "│ Row   │ Location_Northing_OSGR │ x1       │\n",
       "│       │ \u001b[90mUnion{Missing, Int64}\u001b[39m  │ \u001b[90mTuple…\u001b[39m   │\n",
       "├───────┼────────────────────────┼──────────┤\n",
       "│ 1     │ 182270                 │ (31, 32) │\n",
       "│ 2     │ 184290                 │ (13, 32) │\n",
       "│ 3     │ 182910                 │ (19, 32) │\n",
       "│ 4     │ 183220                 │ (10, 32) │\n",
       "│ 5     │ 176500                 │ (18, 32) │\n",
       "│ 6     │ 194910                 │ (2, 32)  │\n",
       "│ 7     │ 181050                 │ (23, 32) │\n",
       "│ 8     │ 176960                 │ (26, 32) │\n",
       "│ 9     │ 186280                 │ (12, 32) │\n",
       "│ 10    │ 181190                 │ (21, 32) │\n",
       "⋮\n",
       "│ 86854 │ 567300                 │ (1, 32)  │\n",
       "│ 86855 │ 580755                 │ (1, 32)  │\n",
       "│ 86856 │ 584662                 │ (1, 32)  │\n",
       "│ 86857 │ 611260                 │ (1, 32)  │\n",
       "│ 86858 │ 599895                 │ (1, 32)  │\n",
       "│ 86859 │ 601469                 │ (1, 32)  │\n",
       "│ 86860 │ 599190                 │ (1, 32)  │\n",
       "│ 86861 │ 594145                 │ (1, 32)  │\n",
       "│ 86862 │ 581065                 │ (1, 32)  │\n",
       "│ 86863 │ 574511                 │ (1, 32)  │\n",
       "│ 86864 │ 566932                 │ (1, 32)  │"
      ]
     },
     "execution_count": 48,
     "metadata": {},
     "output_type": "execute_result"
    }
   ],
   "source": [
    "by(DfTRoadSafety_Accidents_2018, :Location_Northing_OSGR, size)"
   ]
  },
  {
   "cell_type": "markdown",
   "metadata": {},
   "source": [
    "The aggregate() function provides an alternative to apply the Split-Apply-Combine strategy. The aggregate() function uses the same three arguments:\n",
    "- DataFrame (this is the DataFrame that we would be splitting)\n",
    "- The column name (or numerical index) on which the DataFrame would be split \n",
    "- A function that can be applied on the every subset of the DataFrame"
   ]
  },
  {
   "cell_type": "markdown",
   "metadata": {},
   "source": [
    "# Reshaping the data"
   ]
  },
  {
   "cell_type": "markdown",
   "metadata": {},
   "source": [
    "The use case may require data to be in a different shape than we currently have. To facilitate this, Julia provides reshaping of the data.\n"
   ]
  },
  {
   "cell_type": "markdown",
   "metadata": {},
   "source": [
    "Let's use the same dataset that we were using, but before that let's check the size of the dataset:"
   ]
  },
  {
   "cell_type": "code",
   "execution_count": 49,
   "metadata": {},
   "outputs": [
    {
     "data": {
      "text/plain": [
       "(122635, 32)"
      ]
     },
     "execution_count": 49,
     "metadata": {},
     "output_type": "execute_result"
    }
   ],
   "source": [
    "size(DfTRoadSafety_Accidents_2018)"
   ]
  },
  {
   "cell_type": "markdown",
   "metadata": {},
   "source": [
    "We will import RDatasets and DataFrames "
   ]
  },
  {
   "cell_type": "code",
   "execution_count": 50,
   "metadata": {},
   "outputs": [],
   "source": [
    "using RDatasets, DataFrames"
   ]
  },
  {
   "cell_type": "markdown",
   "metadata": {},
   "source": [
    "Then, we will load the iris dataset into a DataFrame. We can see that the dataset has 150 rows and 5 columns:"
   ]
  },
  {
   "cell_type": "code",
   "execution_count": 51,
   "metadata": {},
   "outputs": [
    {
     "data": {
      "text/html": [
       "<table class=\"data-frame\"><thead><tr><th></th><th>SepalLength</th><th>SepalWidth</th><th>PetalLength</th><th>PetalWidth</th><th>Species</th></tr><tr><th></th><th>Float64</th><th>Float64</th><th>Float64</th><th>Float64</th><th>Cat…</th></tr></thead><tbody><p>150 rows × 5 columns</p><tr><th>1</th><td>5.1</td><td>3.5</td><td>1.4</td><td>0.2</td><td>setosa</td></tr><tr><th>2</th><td>4.9</td><td>3.0</td><td>1.4</td><td>0.2</td><td>setosa</td></tr><tr><th>3</th><td>4.7</td><td>3.2</td><td>1.3</td><td>0.2</td><td>setosa</td></tr><tr><th>4</th><td>4.6</td><td>3.1</td><td>1.5</td><td>0.2</td><td>setosa</td></tr><tr><th>5</th><td>5.0</td><td>3.6</td><td>1.4</td><td>0.2</td><td>setosa</td></tr><tr><th>6</th><td>5.4</td><td>3.9</td><td>1.7</td><td>0.4</td><td>setosa</td></tr><tr><th>7</th><td>4.6</td><td>3.4</td><td>1.4</td><td>0.3</td><td>setosa</td></tr><tr><th>8</th><td>5.0</td><td>3.4</td><td>1.5</td><td>0.2</td><td>setosa</td></tr><tr><th>9</th><td>4.4</td><td>2.9</td><td>1.4</td><td>0.2</td><td>setosa</td></tr><tr><th>10</th><td>4.9</td><td>3.1</td><td>1.5</td><td>0.1</td><td>setosa</td></tr><tr><th>11</th><td>5.4</td><td>3.7</td><td>1.5</td><td>0.2</td><td>setosa</td></tr><tr><th>12</th><td>4.8</td><td>3.4</td><td>1.6</td><td>0.2</td><td>setosa</td></tr><tr><th>13</th><td>4.8</td><td>3.0</td><td>1.4</td><td>0.1</td><td>setosa</td></tr><tr><th>14</th><td>4.3</td><td>3.0</td><td>1.1</td><td>0.1</td><td>setosa</td></tr><tr><th>15</th><td>5.8</td><td>4.0</td><td>1.2</td><td>0.2</td><td>setosa</td></tr><tr><th>16</th><td>5.7</td><td>4.4</td><td>1.5</td><td>0.4</td><td>setosa</td></tr><tr><th>17</th><td>5.4</td><td>3.9</td><td>1.3</td><td>0.4</td><td>setosa</td></tr><tr><th>18</th><td>5.1</td><td>3.5</td><td>1.4</td><td>0.3</td><td>setosa</td></tr><tr><th>19</th><td>5.7</td><td>3.8</td><td>1.7</td><td>0.3</td><td>setosa</td></tr><tr><th>20</th><td>5.1</td><td>3.8</td><td>1.5</td><td>0.3</td><td>setosa</td></tr><tr><th>21</th><td>5.4</td><td>3.4</td><td>1.7</td><td>0.2</td><td>setosa</td></tr><tr><th>22</th><td>5.1</td><td>3.7</td><td>1.5</td><td>0.4</td><td>setosa</td></tr><tr><th>23</th><td>4.6</td><td>3.6</td><td>1.0</td><td>0.2</td><td>setosa</td></tr><tr><th>24</th><td>5.1</td><td>3.3</td><td>1.7</td><td>0.5</td><td>setosa</td></tr><tr><th>25</th><td>4.8</td><td>3.4</td><td>1.9</td><td>0.2</td><td>setosa</td></tr><tr><th>26</th><td>5.0</td><td>3.0</td><td>1.6</td><td>0.2</td><td>setosa</td></tr><tr><th>27</th><td>5.0</td><td>3.4</td><td>1.6</td><td>0.4</td><td>setosa</td></tr><tr><th>28</th><td>5.2</td><td>3.5</td><td>1.5</td><td>0.2</td><td>setosa</td></tr><tr><th>29</th><td>5.2</td><td>3.4</td><td>1.4</td><td>0.2</td><td>setosa</td></tr><tr><th>30</th><td>4.7</td><td>3.2</td><td>1.6</td><td>0.2</td><td>setosa</td></tr><tr><th>&vellip;</th><td>&vellip;</td><td>&vellip;</td><td>&vellip;</td><td>&vellip;</td><td>&vellip;</td></tr></tbody></table>"
      ],
      "text/latex": [
       "\\begin{tabular}{r|ccccc}\n",
       "\t& SepalLength & SepalWidth & PetalLength & PetalWidth & Species\\\\\n",
       "\t\\hline\n",
       "\t& Float64 & Float64 & Float64 & Float64 & Cat…\\\\\n",
       "\t\\hline\n",
       "\t1 & 5.1 & 3.5 & 1.4 & 0.2 & setosa \\\\\n",
       "\t2 & 4.9 & 3.0 & 1.4 & 0.2 & setosa \\\\\n",
       "\t3 & 4.7 & 3.2 & 1.3 & 0.2 & setosa \\\\\n",
       "\t4 & 4.6 & 3.1 & 1.5 & 0.2 & setosa \\\\\n",
       "\t5 & 5.0 & 3.6 & 1.4 & 0.2 & setosa \\\\\n",
       "\t6 & 5.4 & 3.9 & 1.7 & 0.4 & setosa \\\\\n",
       "\t7 & 4.6 & 3.4 & 1.4 & 0.3 & setosa \\\\\n",
       "\t8 & 5.0 & 3.4 & 1.5 & 0.2 & setosa \\\\\n",
       "\t9 & 4.4 & 2.9 & 1.4 & 0.2 & setosa \\\\\n",
       "\t10 & 4.9 & 3.1 & 1.5 & 0.1 & setosa \\\\\n",
       "\t11 & 5.4 & 3.7 & 1.5 & 0.2 & setosa \\\\\n",
       "\t12 & 4.8 & 3.4 & 1.6 & 0.2 & setosa \\\\\n",
       "\t13 & 4.8 & 3.0 & 1.4 & 0.1 & setosa \\\\\n",
       "\t14 & 4.3 & 3.0 & 1.1 & 0.1 & setosa \\\\\n",
       "\t15 & 5.8 & 4.0 & 1.2 & 0.2 & setosa \\\\\n",
       "\t16 & 5.7 & 4.4 & 1.5 & 0.4 & setosa \\\\\n",
       "\t17 & 5.4 & 3.9 & 1.3 & 0.4 & setosa \\\\\n",
       "\t18 & 5.1 & 3.5 & 1.4 & 0.3 & setosa \\\\\n",
       "\t19 & 5.7 & 3.8 & 1.7 & 0.3 & setosa \\\\\n",
       "\t20 & 5.1 & 3.8 & 1.5 & 0.3 & setosa \\\\\n",
       "\t21 & 5.4 & 3.4 & 1.7 & 0.2 & setosa \\\\\n",
       "\t22 & 5.1 & 3.7 & 1.5 & 0.4 & setosa \\\\\n",
       "\t23 & 4.6 & 3.6 & 1.0 & 0.2 & setosa \\\\\n",
       "\t24 & 5.1 & 3.3 & 1.7 & 0.5 & setosa \\\\\n",
       "\t25 & 4.8 & 3.4 & 1.9 & 0.2 & setosa \\\\\n",
       "\t26 & 5.0 & 3.0 & 1.6 & 0.2 & setosa \\\\\n",
       "\t27 & 5.0 & 3.4 & 1.6 & 0.4 & setosa \\\\\n",
       "\t28 & 5.2 & 3.5 & 1.5 & 0.2 & setosa \\\\\n",
       "\t29 & 5.2 & 3.4 & 1.4 & 0.2 & setosa \\\\\n",
       "\t30 & 4.7 & 3.2 & 1.6 & 0.2 & setosa \\\\\n",
       "\t$\\dots$ & $\\dots$ & $\\dots$ & $\\dots$ & $\\dots$ & $\\dots$ \\\\\n",
       "\\end{tabular}\n"
      ],
      "text/plain": [
       "150×5 DataFrame\n",
       "│ Row │ SepalLength │ SepalWidth │ PetalLength │ PetalWidth │ Species   │\n",
       "│     │ \u001b[90mFloat64\u001b[39m     │ \u001b[90mFloat64\u001b[39m    │ \u001b[90mFloat64\u001b[39m     │ \u001b[90mFloat64\u001b[39m    │ \u001b[90mCat…\u001b[39m      │\n",
       "├─────┼─────────────┼────────────┼─────────────┼────────────┼───────────┤\n",
       "│ 1   │ 5.1         │ 3.5        │ 1.4         │ 0.2        │ setosa    │\n",
       "│ 2   │ 4.9         │ 3.0        │ 1.4         │ 0.2        │ setosa    │\n",
       "│ 3   │ 4.7         │ 3.2        │ 1.3         │ 0.2        │ setosa    │\n",
       "│ 4   │ 4.6         │ 3.1        │ 1.5         │ 0.2        │ setosa    │\n",
       "│ 5   │ 5.0         │ 3.6        │ 1.4         │ 0.2        │ setosa    │\n",
       "│ 6   │ 5.4         │ 3.9        │ 1.7         │ 0.4        │ setosa    │\n",
       "│ 7   │ 4.6         │ 3.4        │ 1.4         │ 0.3        │ setosa    │\n",
       "│ 8   │ 5.0         │ 3.4        │ 1.5         │ 0.2        │ setosa    │\n",
       "│ 9   │ 4.4         │ 2.9        │ 1.4         │ 0.2        │ setosa    │\n",
       "│ 10  │ 4.9         │ 3.1        │ 1.5         │ 0.1        │ setosa    │\n",
       "⋮\n",
       "│ 140 │ 6.9         │ 3.1        │ 5.4         │ 2.1        │ virginica │\n",
       "│ 141 │ 6.7         │ 3.1        │ 5.6         │ 2.4        │ virginica │\n",
       "│ 142 │ 6.9         │ 3.1        │ 5.1         │ 2.3        │ virginica │\n",
       "│ 143 │ 5.8         │ 2.7        │ 5.1         │ 1.9        │ virginica │\n",
       "│ 144 │ 6.8         │ 3.2        │ 5.9         │ 2.3        │ virginica │\n",
       "│ 145 │ 6.7         │ 3.3        │ 5.7         │ 2.5        │ virginica │\n",
       "│ 146 │ 6.7         │ 3.0        │ 5.2         │ 2.3        │ virginica │\n",
       "│ 147 │ 6.3         │ 2.5        │ 5.0         │ 1.9        │ virginica │\n",
       "│ 148 │ 6.5         │ 3.0        │ 5.2         │ 2.0        │ virginica │\n",
       "│ 149 │ 6.2         │ 3.4        │ 5.4         │ 2.3        │ virginica │\n",
       "│ 150 │ 5.9         │ 3.0        │ 5.1         │ 1.8        │ virginica │"
      ]
     },
     "execution_count": 51,
     "metadata": {},
     "output_type": "execute_result"
    }
   ],
   "source": [
    "iris_dataframe = dataset(\"datasets\", \"iris\")"
   ]
  },
  {
   "cell_type": "markdown",
   "metadata": {},
   "source": [
    "Now we use the stack() function to reshape the dataset. Let's use it without any arguments except the DataFrame."
   ]
  },
  {
   "cell_type": "code",
   "execution_count": 52,
   "metadata": {},
   "outputs": [
    {
     "data": {
      "text/html": [
       "<table class=\"data-frame\"><thead><tr><th></th><th>Species</th><th>variable</th><th>value</th></tr><tr><th></th><th>Cat…</th><th>Cat…</th><th>Float64</th></tr></thead><tbody><p>600 rows × 3 columns</p><tr><th>1</th><td>setosa</td><td>SepalLength</td><td>5.1</td></tr><tr><th>2</th><td>setosa</td><td>SepalLength</td><td>4.9</td></tr><tr><th>3</th><td>setosa</td><td>SepalLength</td><td>4.7</td></tr><tr><th>4</th><td>setosa</td><td>SepalLength</td><td>4.6</td></tr><tr><th>5</th><td>setosa</td><td>SepalLength</td><td>5.0</td></tr><tr><th>6</th><td>setosa</td><td>SepalLength</td><td>5.4</td></tr><tr><th>7</th><td>setosa</td><td>SepalLength</td><td>4.6</td></tr><tr><th>8</th><td>setosa</td><td>SepalLength</td><td>5.0</td></tr><tr><th>9</th><td>setosa</td><td>SepalLength</td><td>4.4</td></tr><tr><th>10</th><td>setosa</td><td>SepalLength</td><td>4.9</td></tr><tr><th>11</th><td>setosa</td><td>SepalLength</td><td>5.4</td></tr><tr><th>12</th><td>setosa</td><td>SepalLength</td><td>4.8</td></tr><tr><th>13</th><td>setosa</td><td>SepalLength</td><td>4.8</td></tr><tr><th>14</th><td>setosa</td><td>SepalLength</td><td>4.3</td></tr><tr><th>15</th><td>setosa</td><td>SepalLength</td><td>5.8</td></tr><tr><th>16</th><td>setosa</td><td>SepalLength</td><td>5.7</td></tr><tr><th>17</th><td>setosa</td><td>SepalLength</td><td>5.4</td></tr><tr><th>18</th><td>setosa</td><td>SepalLength</td><td>5.1</td></tr><tr><th>19</th><td>setosa</td><td>SepalLength</td><td>5.7</td></tr><tr><th>20</th><td>setosa</td><td>SepalLength</td><td>5.1</td></tr><tr><th>21</th><td>setosa</td><td>SepalLength</td><td>5.4</td></tr><tr><th>22</th><td>setosa</td><td>SepalLength</td><td>5.1</td></tr><tr><th>23</th><td>setosa</td><td>SepalLength</td><td>4.6</td></tr><tr><th>24</th><td>setosa</td><td>SepalLength</td><td>5.1</td></tr><tr><th>25</th><td>setosa</td><td>SepalLength</td><td>4.8</td></tr><tr><th>26</th><td>setosa</td><td>SepalLength</td><td>5.0</td></tr><tr><th>27</th><td>setosa</td><td>SepalLength</td><td>5.0</td></tr><tr><th>28</th><td>setosa</td><td>SepalLength</td><td>5.2</td></tr><tr><th>29</th><td>setosa</td><td>SepalLength</td><td>5.2</td></tr><tr><th>30</th><td>setosa</td><td>SepalLength</td><td>4.7</td></tr><tr><th>&vellip;</th><td>&vellip;</td><td>&vellip;</td><td>&vellip;</td></tr></tbody></table>"
      ],
      "text/latex": [
       "\\begin{tabular}{r|ccc}\n",
       "\t& Species & variable & value\\\\\n",
       "\t\\hline\n",
       "\t& Cat… & Cat… & Float64\\\\\n",
       "\t\\hline\n",
       "\t1 & setosa & SepalLength & 5.1 \\\\\n",
       "\t2 & setosa & SepalLength & 4.9 \\\\\n",
       "\t3 & setosa & SepalLength & 4.7 \\\\\n",
       "\t4 & setosa & SepalLength & 4.6 \\\\\n",
       "\t5 & setosa & SepalLength & 5.0 \\\\\n",
       "\t6 & setosa & SepalLength & 5.4 \\\\\n",
       "\t7 & setosa & SepalLength & 4.6 \\\\\n",
       "\t8 & setosa & SepalLength & 5.0 \\\\\n",
       "\t9 & setosa & SepalLength & 4.4 \\\\\n",
       "\t10 & setosa & SepalLength & 4.9 \\\\\n",
       "\t11 & setosa & SepalLength & 5.4 \\\\\n",
       "\t12 & setosa & SepalLength & 4.8 \\\\\n",
       "\t13 & setosa & SepalLength & 4.8 \\\\\n",
       "\t14 & setosa & SepalLength & 4.3 \\\\\n",
       "\t15 & setosa & SepalLength & 5.8 \\\\\n",
       "\t16 & setosa & SepalLength & 5.7 \\\\\n",
       "\t17 & setosa & SepalLength & 5.4 \\\\\n",
       "\t18 & setosa & SepalLength & 5.1 \\\\\n",
       "\t19 & setosa & SepalLength & 5.7 \\\\\n",
       "\t20 & setosa & SepalLength & 5.1 \\\\\n",
       "\t21 & setosa & SepalLength & 5.4 \\\\\n",
       "\t22 & setosa & SepalLength & 5.1 \\\\\n",
       "\t23 & setosa & SepalLength & 4.6 \\\\\n",
       "\t24 & setosa & SepalLength & 5.1 \\\\\n",
       "\t25 & setosa & SepalLength & 4.8 \\\\\n",
       "\t26 & setosa & SepalLength & 5.0 \\\\\n",
       "\t27 & setosa & SepalLength & 5.0 \\\\\n",
       "\t28 & setosa & SepalLength & 5.2 \\\\\n",
       "\t29 & setosa & SepalLength & 5.2 \\\\\n",
       "\t30 & setosa & SepalLength & 4.7 \\\\\n",
       "\t$\\dots$ & $\\dots$ & $\\dots$ & $\\dots$ \\\\\n",
       "\\end{tabular}\n"
      ],
      "text/plain": [
       "600×3 DataFrame\n",
       "│ Row │ Species   │ variable    │ value   │\n",
       "│     │ \u001b[90mCat…\u001b[39m      │ \u001b[90mCat…\u001b[39m        │ \u001b[90mFloat64\u001b[39m │\n",
       "├─────┼───────────┼─────────────┼─────────┤\n",
       "│ 1   │ setosa    │ SepalLength │ 5.1     │\n",
       "│ 2   │ setosa    │ SepalLength │ 4.9     │\n",
       "│ 3   │ setosa    │ SepalLength │ 4.7     │\n",
       "│ 4   │ setosa    │ SepalLength │ 4.6     │\n",
       "│ 5   │ setosa    │ SepalLength │ 5.0     │\n",
       "│ 6   │ setosa    │ SepalLength │ 5.4     │\n",
       "│ 7   │ setosa    │ SepalLength │ 4.6     │\n",
       "│ 8   │ setosa    │ SepalLength │ 5.0     │\n",
       "│ 9   │ setosa    │ SepalLength │ 4.4     │\n",
       "│ 10  │ setosa    │ SepalLength │ 4.9     │\n",
       "⋮\n",
       "│ 590 │ virginica │ PetalWidth  │ 2.1     │\n",
       "│ 591 │ virginica │ PetalWidth  │ 2.4     │\n",
       "│ 592 │ virginica │ PetalWidth  │ 2.3     │\n",
       "│ 593 │ virginica │ PetalWidth  │ 1.9     │\n",
       "│ 594 │ virginica │ PetalWidth  │ 2.3     │\n",
       "│ 595 │ virginica │ PetalWidth  │ 2.5     │\n",
       "│ 596 │ virginica │ PetalWidth  │ 2.3     │\n",
       "│ 597 │ virginica │ PetalWidth  │ 1.9     │\n",
       "│ 598 │ virginica │ PetalWidth  │ 2.0     │\n",
       "│ 599 │ virginica │ PetalWidth  │ 2.3     │\n",
       "│ 600 │ virginica │ PetalWidth  │ 1.8     │"
      ]
     },
     "execution_count": 52,
     "metadata": {},
     "output_type": "execute_result"
    }
   ],
   "source": [
    "iris_stackdf = stack(iris_dataframe)"
   ]
  },
  {
   "cell_type": "markdown",
   "metadata": {},
   "source": [
    "We can see that our dataset has been stacked. Here we have stacked all the columns. We can also provide specific columns to stack:"
   ]
  },
  {
   "cell_type": "code",
   "execution_count": 53,
   "metadata": {},
   "outputs": [
    {
     "name": "stderr",
     "output_type": "stream",
     "text": [
      "┌ Warning: `setindex!(df::DataFrame, v::AbstractVector, col_ind::ColumnIndex)` is deprecated, use `begin\n",
      "│     df[!, col_ind] = v\n",
      "│     df\n",
      "│ end` instead.\n",
      "│   caller = top-level scope at In[53]:1\n",
      "└ @ Core In[53]:1\n"
     ]
    },
    {
     "data": {
      "text/plain": [
       "1:150"
      ]
     },
     "execution_count": 53,
     "metadata": {},
     "output_type": "execute_result"
    }
   ],
   "source": [
    "iris_dataframe[:id] = 1:size(iris_dataframe, 1)"
   ]
  },
  {
   "cell_type": "code",
   "execution_count": 54,
   "metadata": {},
   "outputs": [
    {
     "data": {
      "text/html": [
       "<table class=\"data-frame\"><thead><tr><th></th><th>Species</th><th>id</th><th>variable</th><th>value</th></tr><tr><th></th><th>Cat…</th><th>Int64</th><th>Cat…</th><th>Float64</th></tr></thead><tbody><p>600 rows × 4 columns</p><tr><th>1</th><td>setosa</td><td>1</td><td>SepalLength</td><td>5.1</td></tr><tr><th>2</th><td>setosa</td><td>2</td><td>SepalLength</td><td>4.9</td></tr><tr><th>3</th><td>setosa</td><td>3</td><td>SepalLength</td><td>4.7</td></tr><tr><th>4</th><td>setosa</td><td>4</td><td>SepalLength</td><td>4.6</td></tr><tr><th>5</th><td>setosa</td><td>5</td><td>SepalLength</td><td>5.0</td></tr><tr><th>6</th><td>setosa</td><td>6</td><td>SepalLength</td><td>5.4</td></tr><tr><th>7</th><td>setosa</td><td>7</td><td>SepalLength</td><td>4.6</td></tr><tr><th>8</th><td>setosa</td><td>8</td><td>SepalLength</td><td>5.0</td></tr><tr><th>9</th><td>setosa</td><td>9</td><td>SepalLength</td><td>4.4</td></tr><tr><th>10</th><td>setosa</td><td>10</td><td>SepalLength</td><td>4.9</td></tr><tr><th>11</th><td>setosa</td><td>11</td><td>SepalLength</td><td>5.4</td></tr><tr><th>12</th><td>setosa</td><td>12</td><td>SepalLength</td><td>4.8</td></tr><tr><th>13</th><td>setosa</td><td>13</td><td>SepalLength</td><td>4.8</td></tr><tr><th>14</th><td>setosa</td><td>14</td><td>SepalLength</td><td>4.3</td></tr><tr><th>15</th><td>setosa</td><td>15</td><td>SepalLength</td><td>5.8</td></tr><tr><th>16</th><td>setosa</td><td>16</td><td>SepalLength</td><td>5.7</td></tr><tr><th>17</th><td>setosa</td><td>17</td><td>SepalLength</td><td>5.4</td></tr><tr><th>18</th><td>setosa</td><td>18</td><td>SepalLength</td><td>5.1</td></tr><tr><th>19</th><td>setosa</td><td>19</td><td>SepalLength</td><td>5.7</td></tr><tr><th>20</th><td>setosa</td><td>20</td><td>SepalLength</td><td>5.1</td></tr><tr><th>21</th><td>setosa</td><td>21</td><td>SepalLength</td><td>5.4</td></tr><tr><th>22</th><td>setosa</td><td>22</td><td>SepalLength</td><td>5.1</td></tr><tr><th>23</th><td>setosa</td><td>23</td><td>SepalLength</td><td>4.6</td></tr><tr><th>24</th><td>setosa</td><td>24</td><td>SepalLength</td><td>5.1</td></tr><tr><th>25</th><td>setosa</td><td>25</td><td>SepalLength</td><td>4.8</td></tr><tr><th>26</th><td>setosa</td><td>26</td><td>SepalLength</td><td>5.0</td></tr><tr><th>27</th><td>setosa</td><td>27</td><td>SepalLength</td><td>5.0</td></tr><tr><th>28</th><td>setosa</td><td>28</td><td>SepalLength</td><td>5.2</td></tr><tr><th>29</th><td>setosa</td><td>29</td><td>SepalLength</td><td>5.2</td></tr><tr><th>30</th><td>setosa</td><td>30</td><td>SepalLength</td><td>4.7</td></tr><tr><th>&vellip;</th><td>&vellip;</td><td>&vellip;</td><td>&vellip;</td><td>&vellip;</td></tr></tbody></table>"
      ],
      "text/latex": [
       "\\begin{tabular}{r|cccc}\n",
       "\t& Species & id & variable & value\\\\\n",
       "\t\\hline\n",
       "\t& Cat… & Int64 & Cat… & Float64\\\\\n",
       "\t\\hline\n",
       "\t1 & setosa & 1 & SepalLength & 5.1 \\\\\n",
       "\t2 & setosa & 2 & SepalLength & 4.9 \\\\\n",
       "\t3 & setosa & 3 & SepalLength & 4.7 \\\\\n",
       "\t4 & setosa & 4 & SepalLength & 4.6 \\\\\n",
       "\t5 & setosa & 5 & SepalLength & 5.0 \\\\\n",
       "\t6 & setosa & 6 & SepalLength & 5.4 \\\\\n",
       "\t7 & setosa & 7 & SepalLength & 4.6 \\\\\n",
       "\t8 & setosa & 8 & SepalLength & 5.0 \\\\\n",
       "\t9 & setosa & 9 & SepalLength & 4.4 \\\\\n",
       "\t10 & setosa & 10 & SepalLength & 4.9 \\\\\n",
       "\t11 & setosa & 11 & SepalLength & 5.4 \\\\\n",
       "\t12 & setosa & 12 & SepalLength & 4.8 \\\\\n",
       "\t13 & setosa & 13 & SepalLength & 4.8 \\\\\n",
       "\t14 & setosa & 14 & SepalLength & 4.3 \\\\\n",
       "\t15 & setosa & 15 & SepalLength & 5.8 \\\\\n",
       "\t16 & setosa & 16 & SepalLength & 5.7 \\\\\n",
       "\t17 & setosa & 17 & SepalLength & 5.4 \\\\\n",
       "\t18 & setosa & 18 & SepalLength & 5.1 \\\\\n",
       "\t19 & setosa & 19 & SepalLength & 5.7 \\\\\n",
       "\t20 & setosa & 20 & SepalLength & 5.1 \\\\\n",
       "\t21 & setosa & 21 & SepalLength & 5.4 \\\\\n",
       "\t22 & setosa & 22 & SepalLength & 5.1 \\\\\n",
       "\t23 & setosa & 23 & SepalLength & 4.6 \\\\\n",
       "\t24 & setosa & 24 & SepalLength & 5.1 \\\\\n",
       "\t25 & setosa & 25 & SepalLength & 4.8 \\\\\n",
       "\t26 & setosa & 26 & SepalLength & 5.0 \\\\\n",
       "\t27 & setosa & 27 & SepalLength & 5.0 \\\\\n",
       "\t28 & setosa & 28 & SepalLength & 5.2 \\\\\n",
       "\t29 & setosa & 29 & SepalLength & 5.2 \\\\\n",
       "\t30 & setosa & 30 & SepalLength & 4.7 \\\\\n",
       "\t$\\dots$ & $\\dots$ & $\\dots$ & $\\dots$ & $\\dots$ \\\\\n",
       "\\end{tabular}\n"
      ],
      "text/plain": [
       "600×4 DataFrame\n",
       "│ Row │ Species   │ id    │ variable    │ value   │\n",
       "│     │ \u001b[90mCat…\u001b[39m      │ \u001b[90mInt64\u001b[39m │ \u001b[90mCat…\u001b[39m        │ \u001b[90mFloat64\u001b[39m │\n",
       "├─────┼───────────┼───────┼─────────────┼─────────┤\n",
       "│ 1   │ setosa    │ 1     │ SepalLength │ 5.1     │\n",
       "│ 2   │ setosa    │ 2     │ SepalLength │ 4.9     │\n",
       "│ 3   │ setosa    │ 3     │ SepalLength │ 4.7     │\n",
       "│ 4   │ setosa    │ 4     │ SepalLength │ 4.6     │\n",
       "│ 5   │ setosa    │ 5     │ SepalLength │ 5.0     │\n",
       "│ 6   │ setosa    │ 6     │ SepalLength │ 5.4     │\n",
       "│ 7   │ setosa    │ 7     │ SepalLength │ 4.6     │\n",
       "│ 8   │ setosa    │ 8     │ SepalLength │ 5.0     │\n",
       "│ 9   │ setosa    │ 9     │ SepalLength │ 4.4     │\n",
       "│ 10  │ setosa    │ 10    │ SepalLength │ 4.9     │\n",
       "⋮\n",
       "│ 590 │ virginica │ 140   │ PetalWidth  │ 2.1     │\n",
       "│ 591 │ virginica │ 141   │ PetalWidth  │ 2.4     │\n",
       "│ 592 │ virginica │ 142   │ PetalWidth  │ 2.3     │\n",
       "│ 593 │ virginica │ 143   │ PetalWidth  │ 1.9     │\n",
       "│ 594 │ virginica │ 144   │ PetalWidth  │ 2.3     │\n",
       "│ 595 │ virginica │ 145   │ PetalWidth  │ 2.5     │\n",
       "│ 596 │ virginica │ 146   │ PetalWidth  │ 2.3     │\n",
       "│ 597 │ virginica │ 147   │ PetalWidth  │ 1.9     │\n",
       "│ 598 │ virginica │ 148   │ PetalWidth  │ 2.0     │\n",
       "│ 599 │ virginica │ 149   │ PetalWidth  │ 2.3     │\n",
       "│ 600 │ virginica │ 150   │ PetalWidth  │ 1.8     │"
      ]
     },
     "execution_count": 54,
     "metadata": {},
     "output_type": "execute_result"
    }
   ],
   "source": [
    "iris_stack = stack(iris_dataframe)\n"
   ]
  },
  {
   "cell_type": "code",
   "execution_count": 55,
   "metadata": {},
   "outputs": [
    {
     "data": {
      "text/plain": [
       "(600, 4)"
      ]
     },
     "execution_count": 55,
     "metadata": {},
     "output_type": "execute_result"
    }
   ],
   "source": [
    "size(iris_stack)"
   ]
  },
  {
   "cell_type": "code",
   "execution_count": 56,
   "metadata": {},
   "outputs": [
    {
     "name": "stderr",
     "output_type": "stream",
     "text": [
      "┌ Warning: `head(df::AbstractDataFrame)` is deprecated, use `first(df, 6)` instead.\n",
      "│   caller = top-level scope at In[56]:1\n",
      "└ @ Core In[56]:1\n"
     ]
    },
    {
     "data": {
      "text/html": [
       "<table class=\"data-frame\"><thead><tr><th></th><th>Species</th><th>id</th><th>variable</th><th>value</th></tr><tr><th></th><th>Cat…</th><th>Int64</th><th>Cat…</th><th>Float64</th></tr></thead><tbody><p>6 rows × 4 columns</p><tr><th>1</th><td>setosa</td><td>1</td><td>SepalLength</td><td>5.1</td></tr><tr><th>2</th><td>setosa</td><td>2</td><td>SepalLength</td><td>4.9</td></tr><tr><th>3</th><td>setosa</td><td>3</td><td>SepalLength</td><td>4.7</td></tr><tr><th>4</th><td>setosa</td><td>4</td><td>SepalLength</td><td>4.6</td></tr><tr><th>5</th><td>setosa</td><td>5</td><td>SepalLength</td><td>5.0</td></tr><tr><th>6</th><td>setosa</td><td>6</td><td>SepalLength</td><td>5.4</td></tr></tbody></table>"
      ],
      "text/latex": [
       "\\begin{tabular}{r|cccc}\n",
       "\t& Species & id & variable & value\\\\\n",
       "\t\\hline\n",
       "\t& Cat… & Int64 & Cat… & Float64\\\\\n",
       "\t\\hline\n",
       "\t1 & setosa & 1 & SepalLength & 5.1 \\\\\n",
       "\t2 & setosa & 2 & SepalLength & 4.9 \\\\\n",
       "\t3 & setosa & 3 & SepalLength & 4.7 \\\\\n",
       "\t4 & setosa & 4 & SepalLength & 4.6 \\\\\n",
       "\t5 & setosa & 5 & SepalLength & 5.0 \\\\\n",
       "\t6 & setosa & 6 & SepalLength & 5.4 \\\\\n",
       "\\end{tabular}\n"
      ],
      "text/plain": [
       "6×4 DataFrame\n",
       "│ Row │ Species │ id    │ variable    │ value   │\n",
       "│     │ \u001b[90mCat…\u001b[39m    │ \u001b[90mInt64\u001b[39m │ \u001b[90mCat…\u001b[39m        │ \u001b[90mFloat64\u001b[39m │\n",
       "├─────┼─────────┼───────┼─────────────┼─────────┤\n",
       "│ 1   │ setosa  │ 1     │ SepalLength │ 5.1     │\n",
       "│ 2   │ setosa  │ 2     │ SepalLength │ 4.9     │\n",
       "│ 3   │ setosa  │ 3     │ SepalLength │ 4.7     │\n",
       "│ 4   │ setosa  │ 4     │ SepalLength │ 4.6     │\n",
       "│ 5   │ setosa  │ 5     │ SepalLength │ 5.0     │\n",
       "│ 6   │ setosa  │ 6     │ SepalLength │ 5.4     │"
      ]
     },
     "execution_count": 56,
     "metadata": {},
     "output_type": "execute_result"
    }
   ],
   "source": [
    "head(iris_stack)"
   ]
  },
  {
   "cell_type": "markdown",
   "metadata": {},
   "source": [
    "We can see that there is a new column :id. That's the identifier of the stacked dataframe. Its value is repeated the number of times the rows are repeated."
   ]
  },
  {
   "cell_type": "markdown",
   "metadata": {},
   "source": [
    "# Sorting a dataset"
   ]
  },
  {
   "cell_type": "markdown",
   "metadata": {},
   "source": [
    "Sorting is one of the most used techniques in data analysis. Sorting is facilitated in Julia by calling the sort or sort! function.\n",
    "    \n",
    "The difference between the sort and sort! is that sort! works in-place, which sorts the actual array rather than creating a copy."
   ]
  },
  {
   "cell_type": "markdown",
   "metadata": {},
   "source": [
    "Let's use the sort! function on the iris dataset:"
   ]
  },
  {
   "cell_type": "code",
   "execution_count": 57,
   "metadata": {},
   "outputs": [
    {
     "data": {
      "text/html": [
       "<table class=\"data-frame\"><thead><tr><th></th><th>SepalLength</th><th>SepalWidth</th><th>PetalLength</th><th>PetalWidth</th><th>Species</th></tr><tr><th></th><th>Float64</th><th>Float64</th><th>Float64</th><th>Float64</th><th>Cat…</th></tr></thead><tbody><p>150 rows × 5 columns</p><tr><th>1</th><td>5.1</td><td>3.5</td><td>1.4</td><td>0.2</td><td>setosa</td></tr><tr><th>2</th><td>4.9</td><td>3.0</td><td>1.4</td><td>0.2</td><td>setosa</td></tr><tr><th>3</th><td>4.7</td><td>3.2</td><td>1.3</td><td>0.2</td><td>setosa</td></tr><tr><th>4</th><td>4.6</td><td>3.1</td><td>1.5</td><td>0.2</td><td>setosa</td></tr><tr><th>5</th><td>5.0</td><td>3.6</td><td>1.4</td><td>0.2</td><td>setosa</td></tr><tr><th>6</th><td>5.4</td><td>3.9</td><td>1.7</td><td>0.4</td><td>setosa</td></tr><tr><th>7</th><td>4.6</td><td>3.4</td><td>1.4</td><td>0.3</td><td>setosa</td></tr><tr><th>8</th><td>5.0</td><td>3.4</td><td>1.5</td><td>0.2</td><td>setosa</td></tr><tr><th>9</th><td>4.4</td><td>2.9</td><td>1.4</td><td>0.2</td><td>setosa</td></tr><tr><th>10</th><td>4.9</td><td>3.1</td><td>1.5</td><td>0.1</td><td>setosa</td></tr><tr><th>11</th><td>5.4</td><td>3.7</td><td>1.5</td><td>0.2</td><td>setosa</td></tr><tr><th>12</th><td>4.8</td><td>3.4</td><td>1.6</td><td>0.2</td><td>setosa</td></tr><tr><th>13</th><td>4.8</td><td>3.0</td><td>1.4</td><td>0.1</td><td>setosa</td></tr><tr><th>14</th><td>4.3</td><td>3.0</td><td>1.1</td><td>0.1</td><td>setosa</td></tr><tr><th>15</th><td>5.8</td><td>4.0</td><td>1.2</td><td>0.2</td><td>setosa</td></tr><tr><th>16</th><td>5.7</td><td>4.4</td><td>1.5</td><td>0.4</td><td>setosa</td></tr><tr><th>17</th><td>5.4</td><td>3.9</td><td>1.3</td><td>0.4</td><td>setosa</td></tr><tr><th>18</th><td>5.1</td><td>3.5</td><td>1.4</td><td>0.3</td><td>setosa</td></tr><tr><th>19</th><td>5.7</td><td>3.8</td><td>1.7</td><td>0.3</td><td>setosa</td></tr><tr><th>20</th><td>5.1</td><td>3.8</td><td>1.5</td><td>0.3</td><td>setosa</td></tr><tr><th>21</th><td>5.4</td><td>3.4</td><td>1.7</td><td>0.2</td><td>setosa</td></tr><tr><th>22</th><td>5.1</td><td>3.7</td><td>1.5</td><td>0.4</td><td>setosa</td></tr><tr><th>23</th><td>4.6</td><td>3.6</td><td>1.0</td><td>0.2</td><td>setosa</td></tr><tr><th>24</th><td>5.1</td><td>3.3</td><td>1.7</td><td>0.5</td><td>setosa</td></tr><tr><th>25</th><td>4.8</td><td>3.4</td><td>1.9</td><td>0.2</td><td>setosa</td></tr><tr><th>26</th><td>5.0</td><td>3.0</td><td>1.6</td><td>0.2</td><td>setosa</td></tr><tr><th>27</th><td>5.0</td><td>3.4</td><td>1.6</td><td>0.4</td><td>setosa</td></tr><tr><th>28</th><td>5.2</td><td>3.5</td><td>1.5</td><td>0.2</td><td>setosa</td></tr><tr><th>29</th><td>5.2</td><td>3.4</td><td>1.4</td><td>0.2</td><td>setosa</td></tr><tr><th>30</th><td>4.7</td><td>3.2</td><td>1.6</td><td>0.2</td><td>setosa</td></tr><tr><th>&vellip;</th><td>&vellip;</td><td>&vellip;</td><td>&vellip;</td><td>&vellip;</td><td>&vellip;</td></tr></tbody></table>"
      ],
      "text/latex": [
       "\\begin{tabular}{r|ccccc}\n",
       "\t& SepalLength & SepalWidth & PetalLength & PetalWidth & Species\\\\\n",
       "\t\\hline\n",
       "\t& Float64 & Float64 & Float64 & Float64 & Cat…\\\\\n",
       "\t\\hline\n",
       "\t1 & 5.1 & 3.5 & 1.4 & 0.2 & setosa \\\\\n",
       "\t2 & 4.9 & 3.0 & 1.4 & 0.2 & setosa \\\\\n",
       "\t3 & 4.7 & 3.2 & 1.3 & 0.2 & setosa \\\\\n",
       "\t4 & 4.6 & 3.1 & 1.5 & 0.2 & setosa \\\\\n",
       "\t5 & 5.0 & 3.6 & 1.4 & 0.2 & setosa \\\\\n",
       "\t6 & 5.4 & 3.9 & 1.7 & 0.4 & setosa \\\\\n",
       "\t7 & 4.6 & 3.4 & 1.4 & 0.3 & setosa \\\\\n",
       "\t8 & 5.0 & 3.4 & 1.5 & 0.2 & setosa \\\\\n",
       "\t9 & 4.4 & 2.9 & 1.4 & 0.2 & setosa \\\\\n",
       "\t10 & 4.9 & 3.1 & 1.5 & 0.1 & setosa \\\\\n",
       "\t11 & 5.4 & 3.7 & 1.5 & 0.2 & setosa \\\\\n",
       "\t12 & 4.8 & 3.4 & 1.6 & 0.2 & setosa \\\\\n",
       "\t13 & 4.8 & 3.0 & 1.4 & 0.1 & setosa \\\\\n",
       "\t14 & 4.3 & 3.0 & 1.1 & 0.1 & setosa \\\\\n",
       "\t15 & 5.8 & 4.0 & 1.2 & 0.2 & setosa \\\\\n",
       "\t16 & 5.7 & 4.4 & 1.5 & 0.4 & setosa \\\\\n",
       "\t17 & 5.4 & 3.9 & 1.3 & 0.4 & setosa \\\\\n",
       "\t18 & 5.1 & 3.5 & 1.4 & 0.3 & setosa \\\\\n",
       "\t19 & 5.7 & 3.8 & 1.7 & 0.3 & setosa \\\\\n",
       "\t20 & 5.1 & 3.8 & 1.5 & 0.3 & setosa \\\\\n",
       "\t21 & 5.4 & 3.4 & 1.7 & 0.2 & setosa \\\\\n",
       "\t22 & 5.1 & 3.7 & 1.5 & 0.4 & setosa \\\\\n",
       "\t23 & 4.6 & 3.6 & 1.0 & 0.2 & setosa \\\\\n",
       "\t24 & 5.1 & 3.3 & 1.7 & 0.5 & setosa \\\\\n",
       "\t25 & 4.8 & 3.4 & 1.9 & 0.2 & setosa \\\\\n",
       "\t26 & 5.0 & 3.0 & 1.6 & 0.2 & setosa \\\\\n",
       "\t27 & 5.0 & 3.4 & 1.6 & 0.4 & setosa \\\\\n",
       "\t28 & 5.2 & 3.5 & 1.5 & 0.2 & setosa \\\\\n",
       "\t29 & 5.2 & 3.4 & 1.4 & 0.2 & setosa \\\\\n",
       "\t30 & 4.7 & 3.2 & 1.6 & 0.2 & setosa \\\\\n",
       "\t$\\dots$ & $\\dots$ & $\\dots$ & $\\dots$ & $\\dots$ & $\\dots$ \\\\\n",
       "\\end{tabular}\n"
      ],
      "text/plain": [
       "150×5 DataFrame\n",
       "│ Row │ SepalLength │ SepalWidth │ PetalLength │ PetalWidth │ Species   │\n",
       "│     │ \u001b[90mFloat64\u001b[39m     │ \u001b[90mFloat64\u001b[39m    │ \u001b[90mFloat64\u001b[39m     │ \u001b[90mFloat64\u001b[39m    │ \u001b[90mCat…\u001b[39m      │\n",
       "├─────┼─────────────┼────────────┼─────────────┼────────────┼───────────┤\n",
       "│ 1   │ 5.1         │ 3.5        │ 1.4         │ 0.2        │ setosa    │\n",
       "│ 2   │ 4.9         │ 3.0        │ 1.4         │ 0.2        │ setosa    │\n",
       "│ 3   │ 4.7         │ 3.2        │ 1.3         │ 0.2        │ setosa    │\n",
       "│ 4   │ 4.6         │ 3.1        │ 1.5         │ 0.2        │ setosa    │\n",
       "│ 5   │ 5.0         │ 3.6        │ 1.4         │ 0.2        │ setosa    │\n",
       "│ 6   │ 5.4         │ 3.9        │ 1.7         │ 0.4        │ setosa    │\n",
       "│ 7   │ 4.6         │ 3.4        │ 1.4         │ 0.3        │ setosa    │\n",
       "│ 8   │ 5.0         │ 3.4        │ 1.5         │ 0.2        │ setosa    │\n",
       "│ 9   │ 4.4         │ 2.9        │ 1.4         │ 0.2        │ setosa    │\n",
       "│ 10  │ 4.9         │ 3.1        │ 1.5         │ 0.1        │ setosa    │\n",
       "⋮\n",
       "│ 140 │ 6.9         │ 3.1        │ 5.4         │ 2.1        │ virginica │\n",
       "│ 141 │ 6.7         │ 3.1        │ 5.6         │ 2.4        │ virginica │\n",
       "│ 142 │ 6.9         │ 3.1        │ 5.1         │ 2.3        │ virginica │\n",
       "│ 143 │ 5.8         │ 2.7        │ 5.1         │ 1.9        │ virginica │\n",
       "│ 144 │ 6.8         │ 3.2        │ 5.9         │ 2.3        │ virginica │\n",
       "│ 145 │ 6.7         │ 3.3        │ 5.7         │ 2.5        │ virginica │\n",
       "│ 146 │ 6.7         │ 3.0        │ 5.2         │ 2.3        │ virginica │\n",
       "│ 147 │ 6.3         │ 2.5        │ 5.0         │ 1.9        │ virginica │\n",
       "│ 148 │ 6.5         │ 3.0        │ 5.2         │ 2.0        │ virginica │\n",
       "│ 149 │ 6.2         │ 3.4        │ 5.4         │ 2.3        │ virginica │\n",
       "│ 150 │ 5.9         │ 3.0        │ 5.1         │ 1.8        │ virginica │"
      ]
     },
     "execution_count": 57,
     "metadata": {},
     "output_type": "execute_result"
    }
   ],
   "source": [
    "iris_dataframe1 = dataset(\"datasets\", \"iris\")"
   ]
  },
  {
   "cell_type": "code",
   "execution_count": 58,
   "metadata": {},
   "outputs": [
    {
     "data": {
      "text/html": [
       "<table class=\"data-frame\"><thead><tr><th></th><th>SepalLength</th><th>SepalWidth</th><th>PetalLength</th><th>PetalWidth</th><th>Species</th></tr><tr><th></th><th>Float64</th><th>Float64</th><th>Float64</th><th>Float64</th><th>Cat…</th></tr></thead><tbody><p>150 rows × 5 columns</p><tr><th>1</th><td>4.3</td><td>3.0</td><td>1.1</td><td>0.1</td><td>setosa</td></tr><tr><th>2</th><td>4.4</td><td>2.9</td><td>1.4</td><td>0.2</td><td>setosa</td></tr><tr><th>3</th><td>4.4</td><td>3.0</td><td>1.3</td><td>0.2</td><td>setosa</td></tr><tr><th>4</th><td>4.4</td><td>3.2</td><td>1.3</td><td>0.2</td><td>setosa</td></tr><tr><th>5</th><td>4.5</td><td>2.3</td><td>1.3</td><td>0.3</td><td>setosa</td></tr><tr><th>6</th><td>4.6</td><td>3.1</td><td>1.5</td><td>0.2</td><td>setosa</td></tr><tr><th>7</th><td>4.6</td><td>3.2</td><td>1.4</td><td>0.2</td><td>setosa</td></tr><tr><th>8</th><td>4.6</td><td>3.4</td><td>1.4</td><td>0.3</td><td>setosa</td></tr><tr><th>9</th><td>4.6</td><td>3.6</td><td>1.0</td><td>0.2</td><td>setosa</td></tr><tr><th>10</th><td>4.7</td><td>3.2</td><td>1.3</td><td>0.2</td><td>setosa</td></tr><tr><th>11</th><td>4.7</td><td>3.2</td><td>1.6</td><td>0.2</td><td>setosa</td></tr><tr><th>12</th><td>4.8</td><td>3.0</td><td>1.4</td><td>0.1</td><td>setosa</td></tr><tr><th>13</th><td>4.8</td><td>3.0</td><td>1.4</td><td>0.3</td><td>setosa</td></tr><tr><th>14</th><td>4.8</td><td>3.1</td><td>1.6</td><td>0.2</td><td>setosa</td></tr><tr><th>15</th><td>4.8</td><td>3.4</td><td>1.6</td><td>0.2</td><td>setosa</td></tr><tr><th>16</th><td>4.8</td><td>3.4</td><td>1.9</td><td>0.2</td><td>setosa</td></tr><tr><th>17</th><td>4.9</td><td>2.4</td><td>3.3</td><td>1.0</td><td>versicolor</td></tr><tr><th>18</th><td>4.9</td><td>2.5</td><td>4.5</td><td>1.7</td><td>virginica</td></tr><tr><th>19</th><td>4.9</td><td>3.0</td><td>1.4</td><td>0.2</td><td>setosa</td></tr><tr><th>20</th><td>4.9</td><td>3.1</td><td>1.5</td><td>0.1</td><td>setosa</td></tr><tr><th>21</th><td>4.9</td><td>3.1</td><td>1.5</td><td>0.2</td><td>setosa</td></tr><tr><th>22</th><td>4.9</td><td>3.6</td><td>1.4</td><td>0.1</td><td>setosa</td></tr><tr><th>23</th><td>5.0</td><td>2.0</td><td>3.5</td><td>1.0</td><td>versicolor</td></tr><tr><th>24</th><td>5.0</td><td>2.3</td><td>3.3</td><td>1.0</td><td>versicolor</td></tr><tr><th>25</th><td>5.0</td><td>3.0</td><td>1.6</td><td>0.2</td><td>setosa</td></tr><tr><th>26</th><td>5.0</td><td>3.2</td><td>1.2</td><td>0.2</td><td>setosa</td></tr><tr><th>27</th><td>5.0</td><td>3.3</td><td>1.4</td><td>0.2</td><td>setosa</td></tr><tr><th>28</th><td>5.0</td><td>3.4</td><td>1.5</td><td>0.2</td><td>setosa</td></tr><tr><th>29</th><td>5.0</td><td>3.4</td><td>1.6</td><td>0.4</td><td>setosa</td></tr><tr><th>30</th><td>5.0</td><td>3.5</td><td>1.3</td><td>0.3</td><td>setosa</td></tr><tr><th>&vellip;</th><td>&vellip;</td><td>&vellip;</td><td>&vellip;</td><td>&vellip;</td><td>&vellip;</td></tr></tbody></table>"
      ],
      "text/latex": [
       "\\begin{tabular}{r|ccccc}\n",
       "\t& SepalLength & SepalWidth & PetalLength & PetalWidth & Species\\\\\n",
       "\t\\hline\n",
       "\t& Float64 & Float64 & Float64 & Float64 & Cat…\\\\\n",
       "\t\\hline\n",
       "\t1 & 4.3 & 3.0 & 1.1 & 0.1 & setosa \\\\\n",
       "\t2 & 4.4 & 2.9 & 1.4 & 0.2 & setosa \\\\\n",
       "\t3 & 4.4 & 3.0 & 1.3 & 0.2 & setosa \\\\\n",
       "\t4 & 4.4 & 3.2 & 1.3 & 0.2 & setosa \\\\\n",
       "\t5 & 4.5 & 2.3 & 1.3 & 0.3 & setosa \\\\\n",
       "\t6 & 4.6 & 3.1 & 1.5 & 0.2 & setosa \\\\\n",
       "\t7 & 4.6 & 3.2 & 1.4 & 0.2 & setosa \\\\\n",
       "\t8 & 4.6 & 3.4 & 1.4 & 0.3 & setosa \\\\\n",
       "\t9 & 4.6 & 3.6 & 1.0 & 0.2 & setosa \\\\\n",
       "\t10 & 4.7 & 3.2 & 1.3 & 0.2 & setosa \\\\\n",
       "\t11 & 4.7 & 3.2 & 1.6 & 0.2 & setosa \\\\\n",
       "\t12 & 4.8 & 3.0 & 1.4 & 0.1 & setosa \\\\\n",
       "\t13 & 4.8 & 3.0 & 1.4 & 0.3 & setosa \\\\\n",
       "\t14 & 4.8 & 3.1 & 1.6 & 0.2 & setosa \\\\\n",
       "\t15 & 4.8 & 3.4 & 1.6 & 0.2 & setosa \\\\\n",
       "\t16 & 4.8 & 3.4 & 1.9 & 0.2 & setosa \\\\\n",
       "\t17 & 4.9 & 2.4 & 3.3 & 1.0 & versicolor \\\\\n",
       "\t18 & 4.9 & 2.5 & 4.5 & 1.7 & virginica \\\\\n",
       "\t19 & 4.9 & 3.0 & 1.4 & 0.2 & setosa \\\\\n",
       "\t20 & 4.9 & 3.1 & 1.5 & 0.1 & setosa \\\\\n",
       "\t21 & 4.9 & 3.1 & 1.5 & 0.2 & setosa \\\\\n",
       "\t22 & 4.9 & 3.6 & 1.4 & 0.1 & setosa \\\\\n",
       "\t23 & 5.0 & 2.0 & 3.5 & 1.0 & versicolor \\\\\n",
       "\t24 & 5.0 & 2.3 & 3.3 & 1.0 & versicolor \\\\\n",
       "\t25 & 5.0 & 3.0 & 1.6 & 0.2 & setosa \\\\\n",
       "\t26 & 5.0 & 3.2 & 1.2 & 0.2 & setosa \\\\\n",
       "\t27 & 5.0 & 3.3 & 1.4 & 0.2 & setosa \\\\\n",
       "\t28 & 5.0 & 3.4 & 1.5 & 0.2 & setosa \\\\\n",
       "\t29 & 5.0 & 3.4 & 1.6 & 0.4 & setosa \\\\\n",
       "\t30 & 5.0 & 3.5 & 1.3 & 0.3 & setosa \\\\\n",
       "\t$\\dots$ & $\\dots$ & $\\dots$ & $\\dots$ & $\\dots$ & $\\dots$ \\\\\n",
       "\\end{tabular}\n"
      ],
      "text/plain": [
       "150×5 DataFrame\n",
       "│ Row │ SepalLength │ SepalWidth │ PetalLength │ PetalWidth │ Species   │\n",
       "│     │ \u001b[90mFloat64\u001b[39m     │ \u001b[90mFloat64\u001b[39m    │ \u001b[90mFloat64\u001b[39m     │ \u001b[90mFloat64\u001b[39m    │ \u001b[90mCat…\u001b[39m      │\n",
       "├─────┼─────────────┼────────────┼─────────────┼────────────┼───────────┤\n",
       "│ 1   │ 4.3         │ 3.0        │ 1.1         │ 0.1        │ setosa    │\n",
       "│ 2   │ 4.4         │ 2.9        │ 1.4         │ 0.2        │ setosa    │\n",
       "│ 3   │ 4.4         │ 3.0        │ 1.3         │ 0.2        │ setosa    │\n",
       "│ 4   │ 4.4         │ 3.2        │ 1.3         │ 0.2        │ setosa    │\n",
       "│ 5   │ 4.5         │ 2.3        │ 1.3         │ 0.3        │ setosa    │\n",
       "│ 6   │ 4.6         │ 3.1        │ 1.5         │ 0.2        │ setosa    │\n",
       "│ 7   │ 4.6         │ 3.2        │ 1.4         │ 0.2        │ setosa    │\n",
       "│ 8   │ 4.6         │ 3.4        │ 1.4         │ 0.3        │ setosa    │\n",
       "│ 9   │ 4.6         │ 3.6        │ 1.0         │ 0.2        │ setosa    │\n",
       "│ 10  │ 4.7         │ 3.2        │ 1.3         │ 0.2        │ setosa    │\n",
       "⋮\n",
       "│ 140 │ 7.2         │ 3.0        │ 5.8         │ 1.6        │ virginica │\n",
       "│ 141 │ 7.2         │ 3.2        │ 6.0         │ 1.8        │ virginica │\n",
       "│ 142 │ 7.2         │ 3.6        │ 6.1         │ 2.5        │ virginica │\n",
       "│ 143 │ 7.3         │ 2.9        │ 6.3         │ 1.8        │ virginica │\n",
       "│ 144 │ 7.4         │ 2.8        │ 6.1         │ 1.9        │ virginica │\n",
       "│ 145 │ 7.6         │ 3.0        │ 6.6         │ 2.1        │ virginica │\n",
       "│ 146 │ 7.7         │ 2.6        │ 6.9         │ 2.3        │ virginica │\n",
       "│ 147 │ 7.7         │ 2.8        │ 6.7         │ 2.0        │ virginica │\n",
       "│ 148 │ 7.7         │ 3.0        │ 6.1         │ 2.3        │ virginica │\n",
       "│ 149 │ 7.7         │ 3.8        │ 6.7         │ 2.2        │ virginica │\n",
       "│ 150 │ 7.9         │ 3.8        │ 6.4         │ 2.0        │ virginica │"
      ]
     },
     "execution_count": 58,
     "metadata": {},
     "output_type": "execute_result"
    }
   ],
   "source": [
    "sort!(iris_dataframe1)"
   ]
  },
  {
   "cell_type": "markdown",
   "metadata": {},
   "source": [
    "We can see that the columns are not sorted according to [:SepalLength, :SepalWidth, :PetalLength, :PetalWidth]. But these are actually sorted according to the :Species column."
   ]
  },
  {
   "cell_type": "markdown",
   "metadata": {},
   "source": [
    "The sorting function takes some arguments and provides a few features. For example, to sort in reverse, we have:\n"
   ]
  },
  {
   "cell_type": "code",
   "execution_count": 59,
   "metadata": {},
   "outputs": [
    {
     "data": {
      "text/html": [
       "<table class=\"data-frame\"><thead><tr><th></th><th>SepalLength</th><th>SepalWidth</th><th>PetalLength</th><th>PetalWidth</th><th>Species</th></tr><tr><th></th><th>Float64</th><th>Float64</th><th>Float64</th><th>Float64</th><th>Cat…</th></tr></thead><tbody><p>150 rows × 5 columns</p><tr><th>1</th><td>7.9</td><td>3.8</td><td>6.4</td><td>2.0</td><td>virginica</td></tr><tr><th>2</th><td>7.7</td><td>3.8</td><td>6.7</td><td>2.2</td><td>virginica</td></tr><tr><th>3</th><td>7.7</td><td>3.0</td><td>6.1</td><td>2.3</td><td>virginica</td></tr><tr><th>4</th><td>7.7</td><td>2.8</td><td>6.7</td><td>2.0</td><td>virginica</td></tr><tr><th>5</th><td>7.7</td><td>2.6</td><td>6.9</td><td>2.3</td><td>virginica</td></tr><tr><th>6</th><td>7.6</td><td>3.0</td><td>6.6</td><td>2.1</td><td>virginica</td></tr><tr><th>7</th><td>7.4</td><td>2.8</td><td>6.1</td><td>1.9</td><td>virginica</td></tr><tr><th>8</th><td>7.3</td><td>2.9</td><td>6.3</td><td>1.8</td><td>virginica</td></tr><tr><th>9</th><td>7.2</td><td>3.6</td><td>6.1</td><td>2.5</td><td>virginica</td></tr><tr><th>10</th><td>7.2</td><td>3.2</td><td>6.0</td><td>1.8</td><td>virginica</td></tr><tr><th>11</th><td>7.2</td><td>3.0</td><td>5.8</td><td>1.6</td><td>virginica</td></tr><tr><th>12</th><td>7.1</td><td>3.0</td><td>5.9</td><td>2.1</td><td>virginica</td></tr><tr><th>13</th><td>7.0</td><td>3.2</td><td>4.7</td><td>1.4</td><td>versicolor</td></tr><tr><th>14</th><td>6.9</td><td>3.2</td><td>5.7</td><td>2.3</td><td>virginica</td></tr><tr><th>15</th><td>6.9</td><td>3.1</td><td>5.4</td><td>2.1</td><td>virginica</td></tr><tr><th>16</th><td>6.9</td><td>3.1</td><td>5.1</td><td>2.3</td><td>virginica</td></tr><tr><th>17</th><td>6.9</td><td>3.1</td><td>4.9</td><td>1.5</td><td>versicolor</td></tr><tr><th>18</th><td>6.8</td><td>3.2</td><td>5.9</td><td>2.3</td><td>virginica</td></tr><tr><th>19</th><td>6.8</td><td>3.0</td><td>5.5</td><td>2.1</td><td>virginica</td></tr><tr><th>20</th><td>6.8</td><td>2.8</td><td>4.8</td><td>1.4</td><td>versicolor</td></tr><tr><th>21</th><td>6.7</td><td>3.3</td><td>5.7</td><td>2.5</td><td>virginica</td></tr><tr><th>22</th><td>6.7</td><td>3.3</td><td>5.7</td><td>2.1</td><td>virginica</td></tr><tr><th>23</th><td>6.7</td><td>3.1</td><td>5.6</td><td>2.4</td><td>virginica</td></tr><tr><th>24</th><td>6.7</td><td>3.1</td><td>4.7</td><td>1.5</td><td>versicolor</td></tr><tr><th>25</th><td>6.7</td><td>3.1</td><td>4.4</td><td>1.4</td><td>versicolor</td></tr><tr><th>26</th><td>6.7</td><td>3.0</td><td>5.2</td><td>2.3</td><td>virginica</td></tr><tr><th>27</th><td>6.7</td><td>3.0</td><td>5.0</td><td>1.7</td><td>versicolor</td></tr><tr><th>28</th><td>6.7</td><td>2.5</td><td>5.8</td><td>1.8</td><td>virginica</td></tr><tr><th>29</th><td>6.6</td><td>3.0</td><td>4.4</td><td>1.4</td><td>versicolor</td></tr><tr><th>30</th><td>6.6</td><td>2.9</td><td>4.6</td><td>1.3</td><td>versicolor</td></tr><tr><th>&vellip;</th><td>&vellip;</td><td>&vellip;</td><td>&vellip;</td><td>&vellip;</td><td>&vellip;</td></tr></tbody></table>"
      ],
      "text/latex": [
       "\\begin{tabular}{r|ccccc}\n",
       "\t& SepalLength & SepalWidth & PetalLength & PetalWidth & Species\\\\\n",
       "\t\\hline\n",
       "\t& Float64 & Float64 & Float64 & Float64 & Cat…\\\\\n",
       "\t\\hline\n",
       "\t1 & 7.9 & 3.8 & 6.4 & 2.0 & virginica \\\\\n",
       "\t2 & 7.7 & 3.8 & 6.7 & 2.2 & virginica \\\\\n",
       "\t3 & 7.7 & 3.0 & 6.1 & 2.3 & virginica \\\\\n",
       "\t4 & 7.7 & 2.8 & 6.7 & 2.0 & virginica \\\\\n",
       "\t5 & 7.7 & 2.6 & 6.9 & 2.3 & virginica \\\\\n",
       "\t6 & 7.6 & 3.0 & 6.6 & 2.1 & virginica \\\\\n",
       "\t7 & 7.4 & 2.8 & 6.1 & 1.9 & virginica \\\\\n",
       "\t8 & 7.3 & 2.9 & 6.3 & 1.8 & virginica \\\\\n",
       "\t9 & 7.2 & 3.6 & 6.1 & 2.5 & virginica \\\\\n",
       "\t10 & 7.2 & 3.2 & 6.0 & 1.8 & virginica \\\\\n",
       "\t11 & 7.2 & 3.0 & 5.8 & 1.6 & virginica \\\\\n",
       "\t12 & 7.1 & 3.0 & 5.9 & 2.1 & virginica \\\\\n",
       "\t13 & 7.0 & 3.2 & 4.7 & 1.4 & versicolor \\\\\n",
       "\t14 & 6.9 & 3.2 & 5.7 & 2.3 & virginica \\\\\n",
       "\t15 & 6.9 & 3.1 & 5.4 & 2.1 & virginica \\\\\n",
       "\t16 & 6.9 & 3.1 & 5.1 & 2.3 & virginica \\\\\n",
       "\t17 & 6.9 & 3.1 & 4.9 & 1.5 & versicolor \\\\\n",
       "\t18 & 6.8 & 3.2 & 5.9 & 2.3 & virginica \\\\\n",
       "\t19 & 6.8 & 3.0 & 5.5 & 2.1 & virginica \\\\\n",
       "\t20 & 6.8 & 2.8 & 4.8 & 1.4 & versicolor \\\\\n",
       "\t21 & 6.7 & 3.3 & 5.7 & 2.5 & virginica \\\\\n",
       "\t22 & 6.7 & 3.3 & 5.7 & 2.1 & virginica \\\\\n",
       "\t23 & 6.7 & 3.1 & 5.6 & 2.4 & virginica \\\\\n",
       "\t24 & 6.7 & 3.1 & 4.7 & 1.5 & versicolor \\\\\n",
       "\t25 & 6.7 & 3.1 & 4.4 & 1.4 & versicolor \\\\\n",
       "\t26 & 6.7 & 3.0 & 5.2 & 2.3 & virginica \\\\\n",
       "\t27 & 6.7 & 3.0 & 5.0 & 1.7 & versicolor \\\\\n",
       "\t28 & 6.7 & 2.5 & 5.8 & 1.8 & virginica \\\\\n",
       "\t29 & 6.6 & 3.0 & 4.4 & 1.4 & versicolor \\\\\n",
       "\t30 & 6.6 & 2.9 & 4.6 & 1.3 & versicolor \\\\\n",
       "\t$\\dots$ & $\\dots$ & $\\dots$ & $\\dots$ & $\\dots$ & $\\dots$ \\\\\n",
       "\\end{tabular}\n"
      ],
      "text/plain": [
       "150×5 DataFrame\n",
       "│ Row │ SepalLength │ SepalWidth │ PetalLength │ PetalWidth │ Species   │\n",
       "│     │ \u001b[90mFloat64\u001b[39m     │ \u001b[90mFloat64\u001b[39m    │ \u001b[90mFloat64\u001b[39m     │ \u001b[90mFloat64\u001b[39m    │ \u001b[90mCat…\u001b[39m      │\n",
       "├─────┼─────────────┼────────────┼─────────────┼────────────┼───────────┤\n",
       "│ 1   │ 7.9         │ 3.8        │ 6.4         │ 2.0        │ virginica │\n",
       "│ 2   │ 7.7         │ 3.8        │ 6.7         │ 2.2        │ virginica │\n",
       "│ 3   │ 7.7         │ 3.0        │ 6.1         │ 2.3        │ virginica │\n",
       "│ 4   │ 7.7         │ 2.8        │ 6.7         │ 2.0        │ virginica │\n",
       "│ 5   │ 7.7         │ 2.6        │ 6.9         │ 2.3        │ virginica │\n",
       "│ 6   │ 7.6         │ 3.0        │ 6.6         │ 2.1        │ virginica │\n",
       "│ 7   │ 7.4         │ 2.8        │ 6.1         │ 1.9        │ virginica │\n",
       "│ 8   │ 7.3         │ 2.9        │ 6.3         │ 1.8        │ virginica │\n",
       "│ 9   │ 7.2         │ 3.6        │ 6.1         │ 2.5        │ virginica │\n",
       "│ 10  │ 7.2         │ 3.2        │ 6.0         │ 1.8        │ virginica │\n",
       "⋮\n",
       "│ 140 │ 4.7         │ 3.2        │ 1.6         │ 0.2        │ setosa    │\n",
       "│ 141 │ 4.7         │ 3.2        │ 1.3         │ 0.2        │ setosa    │\n",
       "│ 142 │ 4.6         │ 3.6        │ 1.0         │ 0.2        │ setosa    │\n",
       "│ 143 │ 4.6         │ 3.4        │ 1.4         │ 0.3        │ setosa    │\n",
       "│ 144 │ 4.6         │ 3.2        │ 1.4         │ 0.2        │ setosa    │\n",
       "│ 145 │ 4.6         │ 3.1        │ 1.5         │ 0.2        │ setosa    │\n",
       "│ 146 │ 4.5         │ 2.3        │ 1.3         │ 0.3        │ setosa    │\n",
       "│ 147 │ 4.4         │ 3.2        │ 1.3         │ 0.2        │ setosa    │\n",
       "│ 148 │ 4.4         │ 3.0        │ 1.3         │ 0.2        │ setosa    │\n",
       "│ 149 │ 4.4         │ 2.9        │ 1.4         │ 0.2        │ setosa    │\n",
       "│ 150 │ 4.3         │ 3.0        │ 1.1         │ 0.1        │ setosa    │"
      ]
     },
     "execution_count": 59,
     "metadata": {},
     "output_type": "execute_result"
    }
   ],
   "source": [
    "sort!(iris_dataframe1, rev = true)\n"
   ]
  },
  {
   "cell_type": "markdown",
   "metadata": {},
   "source": [
    "To sort some specific columns, we have:"
   ]
  },
  {
   "cell_type": "code",
   "execution_count": 60,
   "metadata": {},
   "outputs": [
    {
     "data": {
      "text/html": [
       "<table class=\"data-frame\"><thead><tr><th></th><th>SepalLength</th><th>SepalWidth</th><th>PetalLength</th><th>PetalWidth</th><th>Species</th></tr><tr><th></th><th>Float64</th><th>Float64</th><th>Float64</th><th>Float64</th><th>Cat…</th></tr></thead><tbody><p>150 rows × 5 columns</p><tr><th>1</th><td>4.3</td><td>3.0</td><td>1.1</td><td>0.1</td><td>setosa</td></tr><tr><th>2</th><td>4.4</td><td>3.2</td><td>1.3</td><td>0.2</td><td>setosa</td></tr><tr><th>3</th><td>4.4</td><td>3.0</td><td>1.3</td><td>0.2</td><td>setosa</td></tr><tr><th>4</th><td>4.4</td><td>2.9</td><td>1.4</td><td>0.2</td><td>setosa</td></tr><tr><th>5</th><td>4.5</td><td>2.3</td><td>1.3</td><td>0.3</td><td>setosa</td></tr><tr><th>6</th><td>4.6</td><td>3.6</td><td>1.0</td><td>0.2</td><td>setosa</td></tr><tr><th>7</th><td>4.6</td><td>3.4</td><td>1.4</td><td>0.3</td><td>setosa</td></tr><tr><th>8</th><td>4.6</td><td>3.2</td><td>1.4</td><td>0.2</td><td>setosa</td></tr><tr><th>9</th><td>4.6</td><td>3.1</td><td>1.5</td><td>0.2</td><td>setosa</td></tr><tr><th>10</th><td>4.7</td><td>3.2</td><td>1.3</td><td>0.2</td><td>setosa</td></tr><tr><th>11</th><td>4.7</td><td>3.2</td><td>1.6</td><td>0.2</td><td>setosa</td></tr><tr><th>12</th><td>4.8</td><td>3.0</td><td>1.4</td><td>0.3</td><td>setosa</td></tr><tr><th>13</th><td>4.8</td><td>3.0</td><td>1.4</td><td>0.1</td><td>setosa</td></tr><tr><th>14</th><td>4.8</td><td>3.4</td><td>1.6</td><td>0.2</td><td>setosa</td></tr><tr><th>15</th><td>4.8</td><td>3.1</td><td>1.6</td><td>0.2</td><td>setosa</td></tr><tr><th>16</th><td>4.8</td><td>3.4</td><td>1.9</td><td>0.2</td><td>setosa</td></tr><tr><th>17</th><td>4.9</td><td>3.6</td><td>1.4</td><td>0.1</td><td>setosa</td></tr><tr><th>18</th><td>4.9</td><td>3.0</td><td>1.4</td><td>0.2</td><td>setosa</td></tr><tr><th>19</th><td>4.9</td><td>3.1</td><td>1.5</td><td>0.2</td><td>setosa</td></tr><tr><th>20</th><td>4.9</td><td>3.1</td><td>1.5</td><td>0.1</td><td>setosa</td></tr><tr><th>21</th><td>4.9</td><td>2.4</td><td>3.3</td><td>1.0</td><td>versicolor</td></tr><tr><th>22</th><td>4.9</td><td>2.5</td><td>4.5</td><td>1.7</td><td>virginica</td></tr><tr><th>23</th><td>5.0</td><td>3.2</td><td>1.2</td><td>0.2</td><td>setosa</td></tr><tr><th>24</th><td>5.0</td><td>3.5</td><td>1.3</td><td>0.3</td><td>setosa</td></tr><tr><th>25</th><td>5.0</td><td>3.6</td><td>1.4</td><td>0.2</td><td>setosa</td></tr><tr><th>26</th><td>5.0</td><td>3.3</td><td>1.4</td><td>0.2</td><td>setosa</td></tr><tr><th>27</th><td>5.0</td><td>3.4</td><td>1.5</td><td>0.2</td><td>setosa</td></tr><tr><th>28</th><td>5.0</td><td>3.5</td><td>1.6</td><td>0.6</td><td>setosa</td></tr><tr><th>29</th><td>5.0</td><td>3.4</td><td>1.6</td><td>0.4</td><td>setosa</td></tr><tr><th>30</th><td>5.0</td><td>3.0</td><td>1.6</td><td>0.2</td><td>setosa</td></tr><tr><th>&vellip;</th><td>&vellip;</td><td>&vellip;</td><td>&vellip;</td><td>&vellip;</td><td>&vellip;</td></tr></tbody></table>"
      ],
      "text/latex": [
       "\\begin{tabular}{r|ccccc}\n",
       "\t& SepalLength & SepalWidth & PetalLength & PetalWidth & Species\\\\\n",
       "\t\\hline\n",
       "\t& Float64 & Float64 & Float64 & Float64 & Cat…\\\\\n",
       "\t\\hline\n",
       "\t1 & 4.3 & 3.0 & 1.1 & 0.1 & setosa \\\\\n",
       "\t2 & 4.4 & 3.2 & 1.3 & 0.2 & setosa \\\\\n",
       "\t3 & 4.4 & 3.0 & 1.3 & 0.2 & setosa \\\\\n",
       "\t4 & 4.4 & 2.9 & 1.4 & 0.2 & setosa \\\\\n",
       "\t5 & 4.5 & 2.3 & 1.3 & 0.3 & setosa \\\\\n",
       "\t6 & 4.6 & 3.6 & 1.0 & 0.2 & setosa \\\\\n",
       "\t7 & 4.6 & 3.4 & 1.4 & 0.3 & setosa \\\\\n",
       "\t8 & 4.6 & 3.2 & 1.4 & 0.2 & setosa \\\\\n",
       "\t9 & 4.6 & 3.1 & 1.5 & 0.2 & setosa \\\\\n",
       "\t10 & 4.7 & 3.2 & 1.3 & 0.2 & setosa \\\\\n",
       "\t11 & 4.7 & 3.2 & 1.6 & 0.2 & setosa \\\\\n",
       "\t12 & 4.8 & 3.0 & 1.4 & 0.3 & setosa \\\\\n",
       "\t13 & 4.8 & 3.0 & 1.4 & 0.1 & setosa \\\\\n",
       "\t14 & 4.8 & 3.4 & 1.6 & 0.2 & setosa \\\\\n",
       "\t15 & 4.8 & 3.1 & 1.6 & 0.2 & setosa \\\\\n",
       "\t16 & 4.8 & 3.4 & 1.9 & 0.2 & setosa \\\\\n",
       "\t17 & 4.9 & 3.6 & 1.4 & 0.1 & setosa \\\\\n",
       "\t18 & 4.9 & 3.0 & 1.4 & 0.2 & setosa \\\\\n",
       "\t19 & 4.9 & 3.1 & 1.5 & 0.2 & setosa \\\\\n",
       "\t20 & 4.9 & 3.1 & 1.5 & 0.1 & setosa \\\\\n",
       "\t21 & 4.9 & 2.4 & 3.3 & 1.0 & versicolor \\\\\n",
       "\t22 & 4.9 & 2.5 & 4.5 & 1.7 & virginica \\\\\n",
       "\t23 & 5.0 & 3.2 & 1.2 & 0.2 & setosa \\\\\n",
       "\t24 & 5.0 & 3.5 & 1.3 & 0.3 & setosa \\\\\n",
       "\t25 & 5.0 & 3.6 & 1.4 & 0.2 & setosa \\\\\n",
       "\t26 & 5.0 & 3.3 & 1.4 & 0.2 & setosa \\\\\n",
       "\t27 & 5.0 & 3.4 & 1.5 & 0.2 & setosa \\\\\n",
       "\t28 & 5.0 & 3.5 & 1.6 & 0.6 & setosa \\\\\n",
       "\t29 & 5.0 & 3.4 & 1.6 & 0.4 & setosa \\\\\n",
       "\t30 & 5.0 & 3.0 & 1.6 & 0.2 & setosa \\\\\n",
       "\t$\\dots$ & $\\dots$ & $\\dots$ & $\\dots$ & $\\dots$ & $\\dots$ \\\\\n",
       "\\end{tabular}\n"
      ],
      "text/plain": [
       "150×5 DataFrame\n",
       "│ Row │ SepalLength │ SepalWidth │ PetalLength │ PetalWidth │ Species   │\n",
       "│     │ \u001b[90mFloat64\u001b[39m     │ \u001b[90mFloat64\u001b[39m    │ \u001b[90mFloat64\u001b[39m     │ \u001b[90mFloat64\u001b[39m    │ \u001b[90mCat…\u001b[39m      │\n",
       "├─────┼─────────────┼────────────┼─────────────┼────────────┼───────────┤\n",
       "│ 1   │ 4.3         │ 3.0        │ 1.1         │ 0.1        │ setosa    │\n",
       "│ 2   │ 4.4         │ 3.2        │ 1.3         │ 0.2        │ setosa    │\n",
       "│ 3   │ 4.4         │ 3.0        │ 1.3         │ 0.2        │ setosa    │\n",
       "│ 4   │ 4.4         │ 2.9        │ 1.4         │ 0.2        │ setosa    │\n",
       "│ 5   │ 4.5         │ 2.3        │ 1.3         │ 0.3        │ setosa    │\n",
       "│ 6   │ 4.6         │ 3.6        │ 1.0         │ 0.2        │ setosa    │\n",
       "│ 7   │ 4.6         │ 3.4        │ 1.4         │ 0.3        │ setosa    │\n",
       "│ 8   │ 4.6         │ 3.2        │ 1.4         │ 0.2        │ setosa    │\n",
       "│ 9   │ 4.6         │ 3.1        │ 1.5         │ 0.2        │ setosa    │\n",
       "│ 10  │ 4.7         │ 3.2        │ 1.3         │ 0.2        │ setosa    │\n",
       "⋮\n",
       "│ 140 │ 7.2         │ 3.0        │ 5.8         │ 1.6        │ virginica │\n",
       "│ 141 │ 7.2         │ 3.2        │ 6.0         │ 1.8        │ virginica │\n",
       "│ 142 │ 7.2         │ 3.6        │ 6.1         │ 2.5        │ virginica │\n",
       "│ 143 │ 7.3         │ 2.9        │ 6.3         │ 1.8        │ virginica │\n",
       "│ 144 │ 7.4         │ 2.8        │ 6.1         │ 1.9        │ virginica │\n",
       "│ 145 │ 7.6         │ 3.0        │ 6.6         │ 2.1        │ virginica │\n",
       "│ 146 │ 7.7         │ 3.0        │ 6.1         │ 2.3        │ virginica │\n",
       "│ 147 │ 7.7         │ 3.8        │ 6.7         │ 2.2        │ virginica │\n",
       "│ 148 │ 7.7         │ 2.8        │ 6.7         │ 2.0        │ virginica │\n",
       "│ 149 │ 7.7         │ 2.6        │ 6.9         │ 2.3        │ virginica │\n",
       "│ 150 │ 7.9         │ 3.8        │ 6.4         │ 2.0        │ virginica │"
      ]
     },
     "execution_count": 60,
     "metadata": {},
     "output_type": "execute_result"
    }
   ],
   "source": [
    "sort!(iris_dataframe1, [:SepalLength, :PetalLength])\n"
   ]
  },
  {
   "cell_type": "markdown",
   "metadata": {},
   "source": [
    "We can also use the by function with sort! to apply another function on the DataFrame or the single column."
   ]
  },
  {
   "cell_type": "code",
   "execution_count": 61,
   "metadata": {},
   "outputs": [
    {
     "data": {
      "text/html": [
       "<table class=\"data-frame\"><thead><tr><th></th><th>SepalLength</th><th>SepalWidth</th><th>PetalLength</th><th>PetalWidth</th><th>Species</th></tr><tr><th></th><th>Float64</th><th>Float64</th><th>Float64</th><th>Float64</th><th>Cat…</th></tr></thead><tbody><p>150 rows × 5 columns</p><tr><th>1</th><td>4.3</td><td>3.0</td><td>1.1</td><td>0.1</td><td>setosa</td></tr><tr><th>2</th><td>4.4</td><td>2.9</td><td>1.4</td><td>0.2</td><td>setosa</td></tr><tr><th>3</th><td>4.4</td><td>3.2</td><td>1.3</td><td>0.2</td><td>setosa</td></tr><tr><th>4</th><td>4.4</td><td>3.0</td><td>1.3</td><td>0.2</td><td>setosa</td></tr><tr><th>5</th><td>4.5</td><td>2.3</td><td>1.3</td><td>0.3</td><td>setosa</td></tr><tr><th>6</th><td>4.6</td><td>3.1</td><td>1.5</td><td>0.2</td><td>setosa</td></tr><tr><th>7</th><td>4.6</td><td>3.4</td><td>1.4</td><td>0.3</td><td>setosa</td></tr><tr><th>8</th><td>4.6</td><td>3.2</td><td>1.4</td><td>0.2</td><td>setosa</td></tr><tr><th>9</th><td>4.6</td><td>3.6</td><td>1.0</td><td>0.2</td><td>setosa</td></tr><tr><th>10</th><td>4.7</td><td>3.2</td><td>1.6</td><td>0.2</td><td>setosa</td></tr><tr><th>11</th><td>4.7</td><td>3.2</td><td>1.3</td><td>0.2</td><td>setosa</td></tr><tr><th>12</th><td>4.8</td><td>3.4</td><td>1.9</td><td>0.2</td><td>setosa</td></tr><tr><th>13</th><td>4.8</td><td>3.4</td><td>1.6</td><td>0.2</td><td>setosa</td></tr><tr><th>14</th><td>4.8</td><td>3.1</td><td>1.6</td><td>0.2</td><td>setosa</td></tr><tr><th>15</th><td>4.8</td><td>3.0</td><td>1.4</td><td>0.3</td><td>setosa</td></tr><tr><th>16</th><td>4.8</td><td>3.0</td><td>1.4</td><td>0.1</td><td>setosa</td></tr><tr><th>17</th><td>4.9</td><td>2.5</td><td>4.5</td><td>1.7</td><td>virginica</td></tr><tr><th>18</th><td>4.9</td><td>2.4</td><td>3.3</td><td>1.0</td><td>versicolor</td></tr><tr><th>19</th><td>4.9</td><td>3.1</td><td>1.5</td><td>0.2</td><td>setosa</td></tr><tr><th>20</th><td>4.9</td><td>3.1</td><td>1.5</td><td>0.1</td><td>setosa</td></tr><tr><th>21</th><td>4.9</td><td>3.6</td><td>1.4</td><td>0.1</td><td>setosa</td></tr><tr><th>22</th><td>4.9</td><td>3.0</td><td>1.4</td><td>0.2</td><td>setosa</td></tr><tr><th>23</th><td>5.0</td><td>2.0</td><td>3.5</td><td>1.0</td><td>versicolor</td></tr><tr><th>24</th><td>5.0</td><td>2.3</td><td>3.3</td><td>1.0</td><td>versicolor</td></tr><tr><th>25</th><td>5.0</td><td>3.5</td><td>1.6</td><td>0.6</td><td>setosa</td></tr><tr><th>26</th><td>5.0</td><td>3.4</td><td>1.6</td><td>0.4</td><td>setosa</td></tr><tr><th>27</th><td>5.0</td><td>3.0</td><td>1.6</td><td>0.2</td><td>setosa</td></tr><tr><th>28</th><td>5.0</td><td>3.4</td><td>1.5</td><td>0.2</td><td>setosa</td></tr><tr><th>29</th><td>5.0</td><td>3.6</td><td>1.4</td><td>0.2</td><td>setosa</td></tr><tr><th>30</th><td>5.0</td><td>3.3</td><td>1.4</td><td>0.2</td><td>setosa</td></tr><tr><th>&vellip;</th><td>&vellip;</td><td>&vellip;</td><td>&vellip;</td><td>&vellip;</td><td>&vellip;</td></tr></tbody></table>"
      ],
      "text/latex": [
       "\\begin{tabular}{r|ccccc}\n",
       "\t& SepalLength & SepalWidth & PetalLength & PetalWidth & Species\\\\\n",
       "\t\\hline\n",
       "\t& Float64 & Float64 & Float64 & Float64 & Cat…\\\\\n",
       "\t\\hline\n",
       "\t1 & 4.3 & 3.0 & 1.1 & 0.1 & setosa \\\\\n",
       "\t2 & 4.4 & 2.9 & 1.4 & 0.2 & setosa \\\\\n",
       "\t3 & 4.4 & 3.2 & 1.3 & 0.2 & setosa \\\\\n",
       "\t4 & 4.4 & 3.0 & 1.3 & 0.2 & setosa \\\\\n",
       "\t5 & 4.5 & 2.3 & 1.3 & 0.3 & setosa \\\\\n",
       "\t6 & 4.6 & 3.1 & 1.5 & 0.2 & setosa \\\\\n",
       "\t7 & 4.6 & 3.4 & 1.4 & 0.3 & setosa \\\\\n",
       "\t8 & 4.6 & 3.2 & 1.4 & 0.2 & setosa \\\\\n",
       "\t9 & 4.6 & 3.6 & 1.0 & 0.2 & setosa \\\\\n",
       "\t10 & 4.7 & 3.2 & 1.6 & 0.2 & setosa \\\\\n",
       "\t11 & 4.7 & 3.2 & 1.3 & 0.2 & setosa \\\\\n",
       "\t12 & 4.8 & 3.4 & 1.9 & 0.2 & setosa \\\\\n",
       "\t13 & 4.8 & 3.4 & 1.6 & 0.2 & setosa \\\\\n",
       "\t14 & 4.8 & 3.1 & 1.6 & 0.2 & setosa \\\\\n",
       "\t15 & 4.8 & 3.0 & 1.4 & 0.3 & setosa \\\\\n",
       "\t16 & 4.8 & 3.0 & 1.4 & 0.1 & setosa \\\\\n",
       "\t17 & 4.9 & 2.5 & 4.5 & 1.7 & virginica \\\\\n",
       "\t18 & 4.9 & 2.4 & 3.3 & 1.0 & versicolor \\\\\n",
       "\t19 & 4.9 & 3.1 & 1.5 & 0.2 & setosa \\\\\n",
       "\t20 & 4.9 & 3.1 & 1.5 & 0.1 & setosa \\\\\n",
       "\t21 & 4.9 & 3.6 & 1.4 & 0.1 & setosa \\\\\n",
       "\t22 & 4.9 & 3.0 & 1.4 & 0.2 & setosa \\\\\n",
       "\t23 & 5.0 & 2.0 & 3.5 & 1.0 & versicolor \\\\\n",
       "\t24 & 5.0 & 2.3 & 3.3 & 1.0 & versicolor \\\\\n",
       "\t25 & 5.0 & 3.5 & 1.6 & 0.6 & setosa \\\\\n",
       "\t26 & 5.0 & 3.4 & 1.6 & 0.4 & setosa \\\\\n",
       "\t27 & 5.0 & 3.0 & 1.6 & 0.2 & setosa \\\\\n",
       "\t28 & 5.0 & 3.4 & 1.5 & 0.2 & setosa \\\\\n",
       "\t29 & 5.0 & 3.6 & 1.4 & 0.2 & setosa \\\\\n",
       "\t30 & 5.0 & 3.3 & 1.4 & 0.2 & setosa \\\\\n",
       "\t$\\dots$ & $\\dots$ & $\\dots$ & $\\dots$ & $\\dots$ & $\\dots$ \\\\\n",
       "\\end{tabular}\n"
      ],
      "text/plain": [
       "150×5 DataFrame\n",
       "│ Row │ SepalLength │ SepalWidth │ PetalLength │ PetalWidth │ Species   │\n",
       "│     │ \u001b[90mFloat64\u001b[39m     │ \u001b[90mFloat64\u001b[39m    │ \u001b[90mFloat64\u001b[39m     │ \u001b[90mFloat64\u001b[39m    │ \u001b[90mCat…\u001b[39m      │\n",
       "├─────┼─────────────┼────────────┼─────────────┼────────────┼───────────┤\n",
       "│ 1   │ 4.3         │ 3.0        │ 1.1         │ 0.1        │ setosa    │\n",
       "│ 2   │ 4.4         │ 2.9        │ 1.4         │ 0.2        │ setosa    │\n",
       "│ 3   │ 4.4         │ 3.2        │ 1.3         │ 0.2        │ setosa    │\n",
       "│ 4   │ 4.4         │ 3.0        │ 1.3         │ 0.2        │ setosa    │\n",
       "│ 5   │ 4.5         │ 2.3        │ 1.3         │ 0.3        │ setosa    │\n",
       "│ 6   │ 4.6         │ 3.1        │ 1.5         │ 0.2        │ setosa    │\n",
       "│ 7   │ 4.6         │ 3.4        │ 1.4         │ 0.3        │ setosa    │\n",
       "│ 8   │ 4.6         │ 3.2        │ 1.4         │ 0.2        │ setosa    │\n",
       "│ 9   │ 4.6         │ 3.6        │ 1.0         │ 0.2        │ setosa    │\n",
       "│ 10  │ 4.7         │ 3.2        │ 1.6         │ 0.2        │ setosa    │\n",
       "⋮\n",
       "│ 140 │ 7.2         │ 3.6        │ 6.1         │ 2.5        │ virginica │\n",
       "│ 141 │ 7.2         │ 3.2        │ 6.0         │ 1.8        │ virginica │\n",
       "│ 142 │ 7.2         │ 3.0        │ 5.8         │ 1.6        │ virginica │\n",
       "│ 143 │ 7.3         │ 2.9        │ 6.3         │ 1.8        │ virginica │\n",
       "│ 144 │ 7.4         │ 2.8        │ 6.1         │ 1.9        │ virginica │\n",
       "│ 145 │ 7.6         │ 3.0        │ 6.6         │ 2.1        │ virginica │\n",
       "│ 146 │ 7.7         │ 2.6        │ 6.9         │ 2.3        │ virginica │\n",
       "│ 147 │ 7.7         │ 3.8        │ 6.7         │ 2.2        │ virginica │\n",
       "│ 148 │ 7.7         │ 2.8        │ 6.7         │ 2.0        │ virginica │\n",
       "│ 149 │ 7.7         │ 3.0        │ 6.1         │ 2.3        │ virginica │\n",
       "│ 150 │ 7.9         │ 3.8        │ 6.4         │ 2.0        │ virginica │"
      ]
     },
     "execution_count": 61,
     "metadata": {},
     "output_type": "execute_result"
    }
   ],
   "source": [
    "sort!(iris_dataframe1, [order(:SepalLength), order(:PetalLength, rev=true)])"
   ]
  },
  {
   "cell_type": "markdown",
   "metadata": {},
   "source": [
    "Order is used to specify ordering a specific column amongst a set of columns."
   ]
  },
  {
   "cell_type": "markdown",
   "metadata": {},
   "source": [
    "# Formula – a special data type for mathematical expressions"
   ]
  },
  {
   "cell_type": "markdown",
   "metadata": {},
   "source": [
    "Data science involves various statistical formulas to get insights from data. The creation and application of these formulas is one of the core processes of data science. It maps input variables with some function and mathematical expression to an output.\n"
   ]
  },
  {
   "cell_type": "markdown",
   "metadata": {},
   "source": [
    "Julia facilitates this by providing a formula type in the DataFrame package, which is used with the symbol ~. ~ is a binary operator."
   ]
  },
  {
   "cell_type": "code",
   "execution_count": 94,
   "metadata": {},
   "outputs": [
    {
     "data": {
      "text/plain": [
       "FormulaTerm\n",
       "Response:\n",
       "  A(unknown)\n",
       "Predictors:\n",
       "  B(unknown)\n",
       "  C(unknown)"
      ]
     },
     "execution_count": 94,
     "metadata": {},
     "output_type": "execute_result"
    }
   ],
   "source": [
    "formulaX = @formula(A ~ B + C)"
   ]
  },
  {
   "cell_type": "markdown",
   "metadata": {},
   "source": [
    "Create a dataframe with random values:"
   ]
  },
  {
   "cell_type": "code",
   "execution_count": 95,
   "metadata": {},
   "outputs": [
    {
     "data": {
      "text/html": [
       "<table class=\"data-frame\"><thead><tr><th></th><th>A</th><th>B</th><th>C</th></tr><tr><th></th><th>Float64</th><th>Float64</th><th>Float64</th></tr></thead><tbody><p>5 rows × 3 columns</p><tr><th>1</th><td>-0.0133479</td><td>-0.669064</td><td>-0.135336</td></tr><tr><th>2</th><td>-2.25753</td><td>0.671792</td><td>-0.915382</td></tr><tr><th>3</th><td>-0.00891443</td><td>0.68215</td><td>0.311072</td></tr><tr><th>4</th><td>-0.356262</td><td>0.0787835</td><td>0.743092</td></tr><tr><th>5</th><td>0.664042</td><td>-0.664597</td><td>-0.319786</td></tr></tbody></table>"
      ],
      "text/latex": [
       "\\begin{tabular}{r|ccc}\n",
       "\t& A & B & C\\\\\n",
       "\t\\hline\n",
       "\t& Float64 & Float64 & Float64\\\\\n",
       "\t\\hline\n",
       "\t1 & -0.0133479 & -0.669064 & -0.135336 \\\\\n",
       "\t2 & -2.25753 & 0.671792 & -0.915382 \\\\\n",
       "\t3 & -0.00891443 & 0.68215 & 0.311072 \\\\\n",
       "\t4 & -0.356262 & 0.0787835 & 0.743092 \\\\\n",
       "\t5 & 0.664042 & -0.664597 & -0.319786 \\\\\n",
       "\\end{tabular}\n"
      ],
      "text/plain": [
       "5×3 DataFrame\n",
       "│ Row │ A           │ B         │ C         │\n",
       "│     │ \u001b[90mFloat64\u001b[39m     │ \u001b[90mFloat64\u001b[39m   │ \u001b[90mFloat64\u001b[39m   │\n",
       "├─────┼─────────────┼───────────┼───────────┤\n",
       "│ 1   │ -0.0133479  │ -0.669064 │ -0.135336 │\n",
       "│ 2   │ -2.25753    │ 0.671792  │ -0.915382 │\n",
       "│ 3   │ -0.00891443 │ 0.68215   │ 0.311072  │\n",
       "│ 4   │ -0.356262   │ 0.0787835 │ 0.743092  │\n",
       "│ 5   │ 0.664042    │ -0.664597 │ -0.319786 │"
      ]
     },
     "execution_count": 95,
     "metadata": {},
     "output_type": "execute_result"
    }
   ],
   "source": [
    "df = DataFrame(A = randn(5), B = randn(5), C = randn(5))\n"
   ]
  },
  {
   "cell_type": "markdown",
   "metadata": {},
   "source": [
    "Use formula to transform it into a ModelFrame object:"
   ]
  },
  {
   "cell_type": "code",
   "execution_count": 98,
   "metadata": {},
   "outputs": [
    {
     "data": {
      "text/plain": [
       "ModelFrame{NamedTuple{(:A, :B, :C),Tuple{Array{Float64,1},Array{Float64,1},Array{Float64,1}}},StatisticalModel}(A ~ 1 + B + C, StatsModels.Schema with 3 entries:\n",
       "  A => A\n",
       "  C => C\n",
       "  B => B\n",
       ", (A = [-0.013347940250632538, -2.257527706873076, -0.008914425629109145, -0.356261673270087, 0.6640420407642994], B = [-0.6690636983849988, 0.6717920390225154, 0.6821503297201112, 0.0787834656552427, -0.6645971826739892], C = [-0.1353358215380402, -0.9153820866448469, 0.3110720327385292, 0.7430924302027259, -0.31978580285282965]), StatisticalModel)"
      ]
     },
     "execution_count": 98,
     "metadata": {},
     "output_type": "execute_result"
    }
   ],
   "source": [
    "Random_modelFrame=ModelFrame(@formula(A ~ B + C), df)"
   ]
  },
  {
   "cell_type": "markdown",
   "metadata": {},
   "source": [
    "Creating a ModelMatrix from a ModelFrame is quite easy:"
   ]
  },
  {
   "cell_type": "code",
   "execution_count": 99,
   "metadata": {},
   "outputs": [
    {
     "data": {
      "text/plain": [
       "ModelMatrix{Array{Float64,2}}([1.0 -0.6690636983849988 -0.1353358215380402; 1.0 0.6717920390225154 -0.9153820866448469; … ; 1.0 0.0787834656552427 0.7430924302027259; 1.0 -0.6645971826739892 -0.31978580285282965], [1, 2, 3])"
      ]
     },
     "execution_count": 99,
     "metadata": {},
     "output_type": "execute_result"
    }
   ],
   "source": [
    "mm = ModelMatrix(ModelFrame(@formula(A ~ B + C), df))"
   ]
  },
  {
   "cell_type": "code",
   "execution_count": 100,
   "metadata": {},
   "outputs": [
    {
     "data": {
      "text/plain": [
       "ModelMatrix{Array{Float64,2}}([1.0 -0.013347940250632538 -0.6690636983849988 0.008930622269910194; 1.0 -2.257527706873076 0.6717920390225154 -1.5165891413500872; … ; 1.0 -0.356261673270087 0.0787834656552427 -0.028067529300353198; 1.0 0.6640420407642994 -0.6645971826739892 -0.44132046946903963], [1, 2, 3, 4])"
      ]
     },
     "execution_count": 100,
     "metadata": {},
     "output_type": "execute_result"
    }
   ],
   "source": [
    "mm = ModelMatrix(ModelFrame(@formula(C ~ A*B), df))"
   ]
  },
  {
   "cell_type": "code",
   "execution_count": 101,
   "metadata": {},
   "outputs": [
    {
     "data": {
      "text/plain": [
       "ModelMatrix{Array{Float64,2}}([1.0 0.0 … 0.6690636983849988 0.6690636983849988; 1.0 -1.0 … -0.6717920390225154 -0.6717920390225154; … ; 1.0 1.0 … -0.0787834656552427 -0.0787834656552427; 1.0 0.0 … -0.0 -2.6583887306959566], [1, 2, 2, 2, 2, 3, 4, 4, 4, 4])"
      ]
     },
     "execution_count": 101,
     "metadata": {},
     "output_type": "execute_result"
    }
   ],
   "source": [
    "mm = ModelMatrix(ModelFrame(@formula(C ~ A*B), df, contrasts = Dict(:A => HelmertCoding())))"
   ]
  },
  {
   "cell_type": "markdown",
   "metadata": {},
   "source": [
    "There is an extra column containing only value = 1.0. It is used in a regression model to fit an intercept term."
   ]
  },
  {
   "cell_type": "markdown",
   "metadata": {},
   "source": [
    "http://juliadata.github.io/DataFrames.jl/v0.9/man/formulas/"
   ]
  },
  {
   "cell_type": "markdown",
   "metadata": {},
   "source": [
    "# Pooling data"
   ]
  },
  {
   "cell_type": "markdown",
   "metadata": {},
   "source": [
    "To analyze huge datasets efficiently, PooledDataArray is used. DataArray uses an encoding that represents a full string for every entry of a vector. This is not very efficient, especially for large datasets and memory-intensive algorithms."
   ]
  },
  {
   "cell_type": "markdown",
   "metadata": {},
   "source": [
    "Our use case more often deals with factors involving a small number of levels:"
   ]
  },
  {
   "cell_type": "code",
   "execution_count": 105,
   "metadata": {},
   "outputs": [
    {
     "data": {
      "text/html": [
       "<table class=\"data-frame\"><thead><tr><th></th><th>A</th><th>B</th></tr><tr><th></th><th>Int64</th><th>String</th></tr></thead><tbody><p>6 rows × 2 columns</p><tr><th>1</th><td>1</td><td>X</td></tr><tr><th>2</th><td>1</td><td>X</td></tr><tr><th>3</th><td>1</td><td>X</td></tr><tr><th>4</th><td>2</td><td>Y</td></tr><tr><th>5</th><td>2</td><td>Y</td></tr><tr><th>6</th><td>2</td><td>Y</td></tr></tbody></table>"
      ],
      "text/latex": [
       "\\begin{tabular}{r|cc}\n",
       "\t& A & B\\\\\n",
       "\t\\hline\n",
       "\t& Int64 & String\\\\\n",
       "\t\\hline\n",
       "\t1 & 1 & X \\\\\n",
       "\t2 & 1 & X \\\\\n",
       "\t3 & 1 & X \\\\\n",
       "\t4 & 2 & Y \\\\\n",
       "\t5 & 2 & Y \\\\\n",
       "\t6 & 2 & Y \\\\\n",
       "\\end{tabular}\n"
      ],
      "text/plain": [
       "6×2 DataFrame\n",
       "│ Row │ A     │ B      │\n",
       "│     │ \u001b[90mInt64\u001b[39m │ \u001b[90mString\u001b[39m │\n",
       "├─────┼───────┼────────┤\n",
       "│ 1   │ 1     │ X      │\n",
       "│ 2   │ 1     │ X      │\n",
       "│ 3   │ 1     │ X      │\n",
       "│ 4   │ 2     │ Y      │\n",
       "│ 5   │ 2     │ Y      │\n",
       "│ 6   │ 2     │ Y      │"
      ]
     },
     "execution_count": 105,
     "metadata": {},
     "output_type": "execute_result"
    }
   ],
   "source": [
    "df = DataFrame(A = [1, 1, 1, 2, 2, 2],\n",
    "               B = [\"X\", \"X\", \"X\", \"Y\", \"Y\", \"Y\"])\n"
   ]
  },
  {
   "cell_type": "code",
   "execution_count": 112,
   "metadata": {},
   "outputs": [
    {
     "ename": "UndefVarError",
     "evalue": "UndefVarError: pool! not defined",
     "output_type": "error",
     "traceback": [
      "UndefVarError: pool! not defined",
      "",
      "Stacktrace:",
      " [1] top-level scope at In[112]:1"
     ]
    }
   ],
   "source": [
    "pool!(df, [:A, :B])"
   ]
  },
  {
   "cell_type": "markdown",
   "metadata": {},
   "source": [
    "# Web scraping"
   ]
  },
  {
   "cell_type": "markdown",
   "metadata": {},
   "source": [
    "Real-world use cases also include scraping data from the Web for analysis. Let's build a small web scraper to fetch Reddit posts.\n"
   ]
  },
  {
   "cell_type": "markdown",
   "metadata": {},
   "source": [
    "For this, we will need the JSON and Requests packages:\n"
   ]
  },
  {
   "cell_type": "code",
   "execution_count": 126,
   "metadata": {},
   "outputs": [
    {
     "name": "stderr",
     "output_type": "stream",
     "text": [
      "\u001b[32m\u001b[1m  Resolving\u001b[22m\u001b[39m package versions...\n",
      "\u001b[32m\u001b[1m   Updating\u001b[22m\u001b[39m `~/.julia/environments/v1.4/Project.toml`\n",
      "\u001b[90m [no changes]\u001b[39m\n",
      "\u001b[32m\u001b[1m   Updating\u001b[22m\u001b[39m `~/.julia/environments/v1.4/Manifest.toml`\n",
      "\u001b[90m [no changes]\u001b[39m\n"
     ]
    }
   ],
   "source": [
    "Pkg.add(\"JSON\")"
   ]
  },
  {
   "cell_type": "code",
   "execution_count": 133,
   "metadata": {},
   "outputs": [
    {
     "name": "stderr",
     "output_type": "stream",
     "text": [
      "\u001b[32m\u001b[1m  Resolving\u001b[22m\u001b[39m package versions...\n",
      "\u001b[32m\u001b[1m   Updating\u001b[22m\u001b[39m `~/.julia/environments/v1.4/Project.toml`\n",
      " \u001b[90m [cd3eb016]\u001b[39m\u001b[92m + HTTP v0.8.16\u001b[39m\n",
      "\u001b[32m\u001b[1m   Updating\u001b[22m\u001b[39m `~/.julia/environments/v1.4/Manifest.toml`\n",
      "\u001b[90m [no changes]\u001b[39m\n"
     ]
    }
   ],
   "source": [
    "Pkg.add(\"HTTP\")"
   ]
  },
  {
   "cell_type": "code",
   "execution_count": 134,
   "metadata": {},
   "outputs": [
    {
     "name": "stderr",
     "output_type": "stream",
     "text": [
      "┌ Info: Precompiling HTTP [cd3eb016-35fb-5094-929b-558a96fad6f3]\n",
      "└ @ Base loading.jl:1260\n",
      "WARNING: using HTTP.stack in module Main conflicts with an existing identifier.\n"
     ]
    }
   ],
   "source": [
    "using JSON, HTTP"
   ]
  },
  {
   "cell_type": "code",
   "execution_count": 171,
   "metadata": {},
   "outputs": [
    {
     "data": {
      "text/plain": [
       "HTTP.Messages.Response:\n",
       "\"\"\"\n",
       "HTTP/1.1 200 OK\r\n",
       "Connection: keep-alive\r\n",
       "Content-Length: 113566\r\n",
       "Content-Type: application/json; charset=UTF-8\r\n",
       "x-ua-compatible: IE=edge\r\n",
       "x-frame-options: SAMEORIGIN\r\n",
       "x-content-type-options: nosniff\r\n",
       "x-xss-protection: 1; mode=block\r\n",
       "access-control-allow-origin: *\r\n",
       "access-control-expose-headers: X-Moose\r\n",
       "cache-control: max-age=0, must-revalidate\r\n",
       "X-Moose: majestic\r\n",
       "Accept-Ranges: bytes\r\n",
       "Date: Thu, 23 Jul 2020 07:39:13 GMT\r\n",
       "Via: 1.1 varnish\r\n",
       "X-Served-By: cache-bom4744-BOM\r\n",
       "X-Cache: MISS\r\n",
       "X-Cache-Hits: 0\r\n",
       "X-Timer: S1595489952.433088,VS0,VE612\r\n",
       "Vary: accept-encoding\r\n",
       "Set-Cookie: loid=00000000007dpmnkze.2.1595489952545.Z0FBQUFBQmZHVDZnQjd2X2h5QllTVWliSnFFWmREX1J1a3AzdlBlbzJHUFRGZ0NiUXJHRklORnB1WlJpOFJXOERuSVVYTkhYaTVoRHNCWjFHd3pBNEktUGJsNXo1MzZFbC1SWUlla3gyY0dudW9famtldnhiUFV1UlVVaGNNemR2UElrQnJFNnRJRmI; Domain=reddit.com; Max-Age=63071999; Path=/; expires=Sat, 23-Jul-2022 07:39:12 GMT; secure; SameSite=None; Secure\r\n",
       "Set-Cookie: session_tracker=MiAuj6sjiqNg5864vB.0.1595489952545.Z0FBQUFBQmZHVDZnVEl0VUI0dE1MQUVKbVJwcnA1czVjeUxLSWhkM2tEV2VMY25YNmwtR2RqNjJRYTE4OE1maHNNTVFDaFZpanpYNmZjR3dsek82cjNGSkZWMmRyTU10eDBoNXRhbmFwOW1rVGlscjhBdmJUdFVVWWFnWUx0Rm5WUS1XbG50cW5xVGE; Domain=reddit.com; Max-Age=7199; Path=/; expires=Thu, 23-Jul-2020 09:39:12 GMT; secure; SameSite=None; Secure\r\n",
       "Set-Cookie: csv=1; Max-Age=63072000; Domain=.reddit.com; Path=/; Secure; SameSite=None\r\n",
       "Set-Cookie: edgebucket=kx44gS1JdSf6Z6NLXc; Domain=reddit.com; Max-Age=63071999; Path=/;  secure\r\n",
       "Strict-Transport-Security: max-age=15552000; includeSubDomains; preload\r\n",
       "Server: snooserv\r\n",
       "\r\n",
       "{\"kind\": \"Listing\", \"data\": {\"modhash\": \"\", \"dist\": 25, \"children\": [{\"kind\": \"t3\", \"data\": {\"approved_at_utc\": null, \"subreddit\": \"Julia\", \"selftext\": \"Hi Guys,\\n\\nI wrote this code quite some time ago and it shows now Pkg.installed() is depracated on the STDERR.\\n\\nCan anyone tell me how to fix it properly? also is this code is good enough? What it does: it takes JSON string from STDIN, parse it, adds {\\\"juliaOutput\\\":\\\"Hello from Julia! (Runtime Version here)\\\"} and write JSON string to the STDOUT. I am using Julia 1.4.2\\n\\n    NexssStdin = readline();\\n    \\n    # JSON install\\n    import Pkg; \\n    if !in(\\\"JSON\\\", keys(Pkg.installed()))\\n        # write(stderr,\\\"pkgJSON is not intalled\\\");\\n        @warn(\\\"pkgJSON is not intalled\\\")\\n        Pkg.add(\\\"JSON\\\");  \\n    end\\n    import JSON;\\n    # END JSON part\\n    \\n    # Modify Data\\n    parsedJson = JSON.parse(NexssStdin);\\n    parsedJson[\\\"juliaOutput\\\"] = \\\"Hello from Julia! $VERSION\\\";\\n    # parsedJson[\\\"test\\\"] = \\\"test\\\";\n",
       "⋮\n",
       "113566-byte body\n",
       "\"\"\""
      ]
     },
     "execution_count": 171,
     "metadata": {},
     "output_type": "execute_result"
    }
   ],
   "source": [
    "response = HTTP.get(\"$(reddit_url)/.json\")"
   ]
  },
  {
   "cell_type": "code",
   "execution_count": null,
   "metadata": {},
   "outputs": [],
   "source": []
  }
 ],
 "metadata": {
  "kernelspec": {
   "display_name": "Julia 1.4.2",
   "language": "julia",
   "name": "julia-1.4"
  },
  "language_info": {
   "file_extension": ".jl",
   "mimetype": "application/julia",
   "name": "julia",
   "version": "1.4.2"
  }
 },
 "nbformat": 4,
 "nbformat_minor": 2
}
