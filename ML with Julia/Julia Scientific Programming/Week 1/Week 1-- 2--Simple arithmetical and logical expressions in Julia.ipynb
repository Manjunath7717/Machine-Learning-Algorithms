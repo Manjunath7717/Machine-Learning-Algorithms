{
 "cells": [
  {
   "cell_type": "markdown",
   "metadata": {},
   "source": [
    "# WEEK 1\n",
    "# 2. Simple arithmetical and logical expressions in Julia"
   ]
  },
  {
   "cell_type": "markdown",
   "metadata": {},
   "source": [
    "# Arithmetical Expressions:"
   ]
  },
  {
   "cell_type": "markdown",
   "metadata": {},
   "source": [
    "<hr>\n",
    "<h2>Outcome</h2>\n",
    "\n",
    "After this lecture, you will be able to: \n",
    "\n",
    "- Form arithmetical expressions using numbers and operators\n",
    "- State the order of preference of Julia's elementary arithmetical operators\n",
    "- Work out exactly how Julia would evalutate an arithmetical expression"
   ]
  },
  {
   "cell_type": "markdown",
   "metadata": {},
   "source": [
    "# Simple example on arithmetical expressions: "
   ]
  },
  {
   "cell_type": "code",
   "execution_count": 106,
   "metadata": {},
   "outputs": [
    {
     "data": {
      "text/plain": [
       "-2"
      ]
     },
     "execution_count": 106,
     "metadata": {},
     "output_type": "execute_result"
    }
   ],
   "source": [
    "1-2+3-4"
   ]
  },
  {
   "cell_type": "code",
   "execution_count": 107,
   "metadata": {},
   "outputs": [
    {
     "data": {
      "text/plain": [
       "1.25"
      ]
     },
     "execution_count": 107,
     "metadata": {},
     "output_type": "execute_result"
    }
   ],
   "source": [
    "1/ 2+3 /4"
   ]
  },
  {
   "cell_type": "code",
   "execution_count": 108,
   "metadata": {},
   "outputs": [
    {
     "data": {
      "text/plain": [
       "0.05"
      ]
     },
     "execution_count": 108,
     "metadata": {},
     "output_type": "execute_result"
    }
   ],
   "source": [
    "1/ (2+3) /4"
   ]
  },
  {
   "cell_type": "code",
   "execution_count": 109,
   "metadata": {},
   "outputs": [
    {
     "data": {
      "text/plain": [
       "0.36363636363636365"
      ]
     },
     "execution_count": 109,
     "metadata": {},
     "output_type": "execute_result"
    }
   ],
   "source": [
    "1/ (2+3 /4)"
   ]
  },
  {
   "cell_type": "code",
   "execution_count": 110,
   "metadata": {},
   "outputs": [
    {
     "data": {
      "text/plain": [
       "0.875"
      ]
     },
     "execution_count": 110,
     "metadata": {},
     "output_type": "execute_result"
    }
   ],
   "source": [
    "(1/2+3) /4"
   ]
  },
  {
   "cell_type": "markdown",
   "metadata": {},
   "source": [
    "Operator Precedence in Julia:\n",
    "\n",
    "The Plus(+) , Minus(-), Multiply(*) and Divide(/) are the operators in Julia.\n",
    "When we have several of them then of occur it can be ambiguous, and then we can resolve the ambiguity in a number of different ways by putting parentheses in there. But Julia doesn't know \n",
    "exactly where we want to put the parentheses.\n",
    "So, in Julia, when we have several events so 1/2/3. So what Julia does is it simply goes from left to right. So you have 1/2 is a half and then you divide that by 3, and that should of course be 1/6 and from the right to it will give 3/2\n",
    "\n"
   ]
  },
  {
   "cell_type": "code",
   "execution_count": 111,
   "metadata": {},
   "outputs": [
    {
     "name": "stdout",
     "output_type": "stream",
     "text": [
      "0.16666666666666666\n"
     ]
    }
   ],
   "source": [
    "println(1/2/3)"
   ]
  },
  {
   "cell_type": "code",
   "execution_count": 112,
   "metadata": {},
   "outputs": [
    {
     "name": "stdout",
     "output_type": "stream",
     "text": [
      "0.16666666666666666\n"
     ]
    }
   ],
   "source": [
    "println(1/6)"
   ]
  },
  {
   "cell_type": "code",
   "execution_count": 113,
   "metadata": {},
   "outputs": [
    {
     "name": "stdout",
     "output_type": "stream",
     "text": [
      "3\n"
     ]
    }
   ],
   "source": [
    "println(2-3+4)"
   ]
  },
  {
   "cell_type": "code",
   "execution_count": 114,
   "metadata": {},
   "outputs": [
    {
     "name": "stdout",
     "output_type": "stream",
     "text": [
      "0.2222222222222222\n"
     ]
    }
   ],
   "source": [
    "println(2/3^2)"
   ]
  },
  {
   "cell_type": "markdown",
   "metadata": {},
   "source": [
    "So what is going on here? So although the division is the first operator, it's to the left of the power. The latter is evaluated first, and this is because some operators come in a higher order of preference and others."
   ]
  },
  {
   "cell_type": "code",
   "execution_count": 115,
   "metadata": {},
   "outputs": [
    {
     "name": "stdout",
     "output_type": "stream",
     "text": [
      "1.25\n"
     ]
    }
   ],
   "source": [
    "println(2-3/4)"
   ]
  },
  {
   "cell_type": "code",
   "execution_count": 116,
   "metadata": {},
   "outputs": [
    {
     "name": "stdout",
     "output_type": "stream",
     "text": [
      "15\n"
     ]
    }
   ],
   "source": [
    "println(3+2*9-6)"
   ]
  },
  {
   "cell_type": "markdown",
   "metadata": {},
   "source": [
    "So as in many other languages, particular Matlab and Python:\n",
    "\n",
    "The order of the operations are, first, we do the insides of parenthesis. So if we have many parentheses, we do the inner parentheses before the outer ones. \n",
    "\n",
    "Then we do exponentiation. \n",
    "\n",
    "Then we do multiplication. We do that from left to right. \n",
    "\n",
    "Then we do addition and subtraction, from left to right."
   ]
  },
  {
   "cell_type": "markdown",
   "metadata": {},
   "source": [
    "<h3 id=\"int\"> The exponentiation operator is actually different from the other four.</h3>"
   ]
  },
  {
   "cell_type": "markdown",
   "metadata": {},
   "source": [
    "When several of them are stacked together, they operate from right to left."
   ]
  },
  {
   "cell_type": "code",
   "execution_count": 117,
   "metadata": {},
   "outputs": [
    {
     "name": "stdout",
     "output_type": "stream",
     "text": [
      "6561\n"
     ]
    }
   ],
   "source": [
    "println(3^2^3)    # exponentiation right to left is the julia convection"
   ]
  },
  {
   "cell_type": "code",
   "execution_count": 118,
   "metadata": {},
   "outputs": [
    {
     "name": "stdout",
     "output_type": "stream",
     "text": [
      "729\n"
     ]
    }
   ],
   "source": [
    "println((3^2)^3)    #forcing left to right using parentheses"
   ]
  },
  {
   "cell_type": "markdown",
   "metadata": {},
   "source": [
    "So this is the standard mathematical way, and many other computer languages also do a stack of exponentiation from right to left, and everything else from left to right. "
   ]
  },
  {
   "cell_type": "markdown",
   "metadata": {},
   "source": [
    "# Logical Expressions: "
   ]
  },
  {
   "cell_type": "markdown",
   "metadata": {},
   "source": [
    "Logical expressions are really what set computer languages apart from arithmetic. With logical expressions you get the computer language to do a whole variety of different things"
   ]
  },
  {
   "cell_type": "markdown",
   "metadata": {},
   "source": [
    "<hr>\n",
    "Outcome:\n",
    "\n",
    "1.\tSay what computer logic is,\n",
    "2.\tExplain the role of the values true and false in Julia. \n",
    "3.\tYou'll to be able to form logical expressions using not, and, and or.\n",
    "4.  State the order of preference when you use Julia's arithmetical and logical operators.\n",
    "5.  Work out exactly how Julia would evaluate a logical expression.\n",
    "\n"
   ]
  },
  {
   "cell_type": "markdown",
   "metadata": {},
   "source": [
    "<h3 id=\"int\">  The keywords true and false. </h3>"
   ]
  },
  {
   "cell_type": "markdown",
   "metadata": {},
   "source": [
    "So, all of computer logic, at least as far as we're concerned in Julia, is about two logical values, the value true and the value false. They're reserved words. So you can only ever use them in the way that they have been reserved for. And that is that true indicates what is logically true and that false indicates what is logically false."
   ]
  },
  {
   "cell_type": "markdown",
   "metadata": {},
   "source": [
    "# Logical Operators and Logical Expressions."
   ]
  },
  {
   "cell_type": "markdown",
   "metadata": {},
   "source": [
    "So, Julia has actually quite a few logical operators, but we will focus on these three."
   ]
  },
  {
   "cell_type": "markdown",
   "metadata": {},
   "source": [
    "1. ! is the NOT operator.\n",
    "2. && is the AND operator.\n",
    "3. || is the OR operator."
   ]
  },
  {
   "cell_type": "markdown",
   "metadata": {},
   "source": [
    "The Not (!) operator changes the truth of whatever it is applied to"
   ]
  },
  {
   "cell_type": "code",
   "execution_count": 119,
   "metadata": {},
   "outputs": [
    {
     "data": {
      "text/plain": [
       "false"
      ]
     },
     "execution_count": 119,
     "metadata": {},
     "output_type": "execute_result"
    }
   ],
   "source": [
    "!true      # the opposite of NOT true is of course false."
   ]
  },
  {
   "cell_type": "code",
   "execution_count": 120,
   "metadata": {},
   "outputs": [
    {
     "data": {
      "text/plain": [
       "true"
      ]
     },
     "execution_count": 120,
     "metadata": {},
     "output_type": "execute_result"
    }
   ],
   "source": [
    "!false       # the opposite of NOT false is of course true."
   ]
  },
  {
   "cell_type": "markdown",
   "metadata": {},
   "source": [
    "The other two operators AND and OR, they combine two logical values. So, let's call these logical values p and q, p is either true or false, q is either true or false."
   ]
  },
  {
   "cell_type": "markdown",
   "metadata": {},
   "source": [
    "The AND operator then makes a compound statement, a statement that consists of both p and q, and it is true if and only if both parts are true. So, this true and true, that must come out is true. And all of the other possible combinations, false and true, true and false, false false."
   ]
  },
  {
   "cell_type": "code",
   "execution_count": 121,
   "metadata": {},
   "outputs": [
    {
     "data": {
      "text/plain": [
       "true"
      ]
     },
     "execution_count": 121,
     "metadata": {},
     "output_type": "execute_result"
    }
   ],
   "source": [
    "true && true"
   ]
  },
  {
   "cell_type": "code",
   "execution_count": 122,
   "metadata": {},
   "outputs": [
    {
     "data": {
      "text/plain": [
       "false"
      ]
     },
     "execution_count": 122,
     "metadata": {},
     "output_type": "execute_result"
    }
   ],
   "source": [
    "false && true"
   ]
  },
  {
   "cell_type": "code",
   "execution_count": 123,
   "metadata": {},
   "outputs": [
    {
     "data": {
      "text/plain": [
       "false"
      ]
     },
     "execution_count": 123,
     "metadata": {},
     "output_type": "execute_result"
    }
   ],
   "source": [
    "true && false"
   ]
  },
  {
   "cell_type": "code",
   "execution_count": 124,
   "metadata": {},
   "outputs": [
    {
     "data": {
      "text/plain": [
       "false"
      ]
     },
     "execution_count": 124,
     "metadata": {},
     "output_type": "execute_result"
    }
   ],
   "source": [
    "false && false"
   ]
  },
  {
   "cell_type": "markdown",
   "metadata": {},
   "source": [
    "The OR operator needs only one of the parts to be true."
   ]
  },
  {
   "cell_type": "markdown",
   "metadata": {},
   "source": [
    "The OR operator makes a compound statement that is false if and only both parts are false. So, if we start with true and true, then that's true. And if we start with false and true, that's true. And if we start with true and false, that's true. But if we have false OR false, then it can only be false."
   ]
  },
  {
   "cell_type": "code",
   "execution_count": 125,
   "metadata": {},
   "outputs": [
    {
     "data": {
      "text/plain": [
       "true"
      ]
     },
     "execution_count": 125,
     "metadata": {},
     "output_type": "execute_result"
    }
   ],
   "source": [
    "true || true"
   ]
  },
  {
   "cell_type": "code",
   "execution_count": 126,
   "metadata": {},
   "outputs": [
    {
     "data": {
      "text/plain": [
       "true"
      ]
     },
     "execution_count": 126,
     "metadata": {},
     "output_type": "execute_result"
    }
   ],
   "source": [
    "true || false"
   ]
  },
  {
   "cell_type": "code",
   "execution_count": 127,
   "metadata": {},
   "outputs": [
    {
     "data": {
      "text/plain": [
       "true"
      ]
     },
     "execution_count": 127,
     "metadata": {},
     "output_type": "execute_result"
    }
   ],
   "source": [
    "false || true"
   ]
  },
  {
   "cell_type": "code",
   "execution_count": 128,
   "metadata": {},
   "outputs": [
    {
     "data": {
      "text/plain": [
       "false"
      ]
     },
     "execution_count": 128,
     "metadata": {},
     "output_type": "execute_result"
    }
   ],
   "source": [
    "false || false"
   ]
  },
  {
   "cell_type": "markdown",
   "metadata": {},
   "source": [
    "Sometimes we say a thing like, either the train is late or the station clock is wrong. We would then hope to eliminate one of them by showing it is false so that the other one is what we go by. And for this to work, at least one of them must be true. And that's exactly what we do with the OR operator."
   ]
  },
  {
   "cell_type": "markdown",
   "metadata": {},
   "source": [
    "# Comparison Operators"
   ]
  },
  {
   "cell_type": "markdown",
   "metadata": {},
   "source": [
    "So, here's a comparison operator, less than (<), bigger than (>), and equals (==)."
   ]
  },
  {
   "cell_type": "code",
   "execution_count": 129,
   "metadata": {},
   "outputs": [
    {
     "data": {
      "text/plain": [
       "true"
      ]
     },
     "execution_count": 129,
     "metadata": {},
     "output_type": "execute_result"
    }
   ],
   "source": [
    "1 < 22"
   ]
  },
  {
   "cell_type": "code",
   "execution_count": 130,
   "metadata": {},
   "outputs": [
    {
     "data": {
      "text/plain": [
       "false"
      ]
     },
     "execution_count": 130,
     "metadata": {},
     "output_type": "execute_result"
    }
   ],
   "source": [
    "-22 > 1"
   ]
  },
  {
   "cell_type": "code",
   "execution_count": 131,
   "metadata": {},
   "outputs": [
    {
     "data": {
      "text/plain": [
       "true"
      ]
     },
     "execution_count": 131,
     "metadata": {},
     "output_type": "execute_result"
    }
   ],
   "source": [
    "2 == 4-2"
   ]
  },
  {
   "cell_type": "markdown",
   "metadata": {},
   "source": [
    "So, these operators occur all the time in programming and you have to be very careful that you understand them very well."
   ]
  },
  {
   "cell_type": "markdown",
   "metadata": {},
   "source": [
    "# Operator Precendence for Logical Operators"
   ]
  },
  {
   "cell_type": "markdown",
   "metadata": {},
   "source": [
    "If you write the code, you will often have to construct logical expressions very similar to the example."
   ]
  },
  {
   "cell_type": "markdown",
   "metadata": {},
   "source": [
    "3-4 > 1 && 2+2  == 4 || 10-5 > 2"
   ]
  },
  {
   "cell_type": "markdown",
   "metadata": {},
   "source": [
    "Julia however, makes sure that there is only one way to evaluate this expression. And by putting in parentheses in the correct places\n",
    "\n"
   ]
  },
  {
   "cell_type": "code",
   "execution_count": 132,
   "metadata": {},
   "outputs": [
    {
     "data": {
      "text/plain": [
       "true"
      ]
     },
     "execution_count": 132,
     "metadata": {},
     "output_type": "execute_result"
    }
   ],
   "source": [
    "(3-4 > 1) && (2+2  == 4) || (10-5 > 2)    # we first do the arithmetic and then we do the comparison"
   ]
  },
  {
   "cell_type": "code",
   "execution_count": 133,
   "metadata": {},
   "outputs": [
    {
     "data": {
      "text/plain": [
       "true"
      ]
     },
     "execution_count": 133,
     "metadata": {},
     "output_type": "execute_result"
    }
   ],
   "source": [
    "false && true || true # evaluation from left to right."
   ]
  },
  {
   "cell_type": "markdown",
   "metadata": {},
   "source": [
    "# Practice Quiz"
   ]
  },
  {
   "cell_type": "markdown",
   "metadata": {},
   "source": [
    "<h2 id=\"int\"> Question 1      </h2>\n",
    "\n",
    "Using the Julia environment what is the result of executing the following line of code:\n",
    "\n",
    "5040 / 60\n",
    "\n",
    "a. 84.0\n",
    "\n",
    "b. 48\n",
    "\n",
    "c. 48.0\n",
    "\n",
    "d. 0.011904761904761904\n",
    "\n",
    "e. 84"
   ]
  },
  {
   "cell_type": "markdown",
   "metadata": {},
   "source": [
    "Double-click __here__ for the solution.\n",
    "\n",
    "<!-- Your answer is below:\n",
    "5040 / 60\n",
    "84.0\n",
    "\n",
    "Answer: A\n",
    "-->"
   ]
  },
  {
   "cell_type": "markdown",
   "metadata": {},
   "source": [
    "<h2 id=\"int\"> Question 2      </h2>\n",
    "\n",
    "As with ordinary mathematical notation, Julia evaluates a series of exponentiation operators from right to left. \n",
    "\n",
    "For example, 2^2^3 is equivalent to 2^(2^3).\n",
    "\n",
    "What is the exact value of 2^2^1^1.3^1.5^1.7^20?"
   ]
  },
  {
   "cell_type": "markdown",
   "metadata": {},
   "source": [
    "Double-click __here__ for the solution.\n",
    "\n",
    "<!-- Your answer is below:\n",
    "2^2^1^1.3^1.5^1.7^20\n",
    "4.0\n",
    "\n",
    "Answer: 4.0\n",
    "-->"
   ]
  },
  {
   "cell_type": "markdown",
   "metadata": {},
   "source": [
    "<h2 id=\"int\"> Question 3      </h2>\n",
    "\n",
    "Julia allows one to omit the multiplication operator when writing expressions. Which of the following expressions is equivalent to:\n",
    "\n",
    "3 * x^2-2 * x+3\n",
    "\n",
    "a. 3x^2-2x+3\n",
    "\n",
    "b. x3^2-2x+3\n",
    "\n",
    "c. 3x^2-3+2*x\n",
    "\n",
    "d. 3x.x-2x+3"
   ]
  },
  {
   "cell_type": "markdown",
   "metadata": {},
   "source": [
    "Double-click __here__ for the solution.\n",
    "\n",
    "<!-- Your answer is below:\n",
    "x=1\n",
    "3x^2-2x+3\n",
    "4\n",
    "3x^2-2x+3\n",
    "4\n",
    "Answer: A\n",
    "-->"
   ]
  },
  {
   "cell_type": "markdown",
   "metadata": {},
   "source": [
    "<h2 id=\"int\"> Question 4      </h2>\n",
    "\n",
    "Suppose we write the following logical expression in Julia:\n",
    "\n",
    "(3.0 < x) && (x < 5.0)\n",
    "\n",
    "Which of the following are true?\n",
    "\n",
    "\n",
    "a. The expression evaluates as true for \n",
    "\n",
    "b. x equal to 4 and no other integers.\n",
    "\n",
    "c. The expression evaluates as true for all real numbers \n",
    "\n",
    "d. x in the closed interval from 3 to 5. Julia represents real numbers using the float type.\n",
    "\n"
   ]
  },
  {
   "cell_type": "markdown",
   "metadata": {},
   "source": [
    "Double-click __here__ for the solution.\n",
    "\n",
    "<!-- Your answer is below:\n",
    "x=4   \n",
    "    \n",
    "(3.0 < x) && (x < 5.0)\n",
    "    \n",
    " True   \n",
    "Answer: A\n",
    "-->"
   ]
  },
  {
   "cell_type": "markdown",
   "metadata": {},
   "source": [
    "<h2 id=\"int\"> Question 5     </h2>\n",
    "\n",
    "If the Julia variable a is set as follows a=true and afterwards b is set to b=!!!!a then what is the value of b?\n",
    "\n",
    "a. true\n",
    "\n",
    "b. false\n",
    "\n",
    "d. error"
   ]
  },
  {
   "cell_type": "markdown",
   "metadata": {},
   "source": [
    "Double-click __here__ for the solution.\n",
    "\n",
    "<!-- Your answer is below:\n",
    "a=true \n",
    "    \n",
    "b=!!!!a\n",
    "    \n",
    "True   \n",
    "    \n",
    "Answer: A\n",
    "-->"
   ]
  },
  {
   "cell_type": "markdown",
   "metadata": {},
   "source": [
    "<h2 id=\"int\"> Question 6      </h2>\n",
    "\n",
    "Consider the following two logical expressions\n",
    "\n",
    "##### First expression\n",
    "\n",
    "3 & 5 > 0 \n",
    "\n",
    "##### Second expression\n",
    "\n",
    "8 & 5 > 0\n",
    "\n",
    "When evaluated, what values are returned for each of these expressions?\n",
    "\n",
    "\n",
    "a. The result is false and false respectively.\n",
    "\n",
    "b. The result is true and true respectively.\n",
    "\n",
    "c. The result is true and false respectively.\n",
    "\n",
    "d. The result is false and true respectively.\n",
    "\n",
    "    \n",
    "    \n"
   ]
  },
  {
   "cell_type": "markdown",
   "metadata": {},
   "source": [
    "Double-click __here__ for the solution.\n",
    "\n",
    "<!-- Your answer is below:\n",
    "3 & 5 > 0\n",
    "true \n",
    "    \n",
    "8 & 5 > 0\n",
    "    \n",
    "false   \n",
    "    \n",
    "Answer: C\n",
    "-->"
   ]
  },
  {
   "cell_type": "markdown",
   "metadata": {},
   "source": [
    "<h2 id=\"int\"> Question 7     </h2>\n",
    "\n",
    "As it stands, the expression\n",
    "\n",
    "1 + 2 - 5 - 2 == 0 \n",
    "\n",
    "is both false and ambiguous.\n",
    "\n",
    "There is one way to add a pair of parentheses on the left to make it true and unambiguous. Which of the following is it?\n",
    "\n",
    "\n",
    "a. 1 + 2 - (5 - 2) == 0\n",
    "\n",
    "\n",
    "b. 1 + (2 - 3) - 2 == 0\n",
    "\n",
    "\n",
    "c. (1 + 2 - 5) - 2 == 0\n",
    "\n"
   ]
  },
  {
   "cell_type": "markdown",
   "metadata": {},
   "source": [
    "Double-click __here__ for the solution.\n",
    "\n",
    "<!-- Your answer is below:\n",
    "1 + 2 - 5 - 2 == 0\n",
    "false \n",
    "    \n",
    "1 + 2 - (5 - 2) == 0\n",
    "true   \n",
    "    \n",
    "Answer: A\n",
    "-->"
   ]
  },
  {
   "cell_type": "code",
   "execution_count": null,
   "metadata": {},
   "outputs": [],
   "source": []
  },
  {
   "cell_type": "code",
   "execution_count": null,
   "metadata": {},
   "outputs": [],
   "source": []
  }
 ],
 "metadata": {
  "kernelspec": {
   "display_name": "Julia 1.4.2",
   "language": "julia",
   "name": "julia-1.4"
  },
  "language_info": {
   "file_extension": ".jl",
   "mimetype": "application/julia",
   "name": "julia",
   "version": "1.4.2"
  }
 },
 "nbformat": 4,
 "nbformat_minor": 2
}
