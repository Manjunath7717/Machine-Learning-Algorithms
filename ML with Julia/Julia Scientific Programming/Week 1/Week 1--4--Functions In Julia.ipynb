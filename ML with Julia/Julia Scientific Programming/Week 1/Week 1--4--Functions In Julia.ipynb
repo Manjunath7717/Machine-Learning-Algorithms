{
 "cells": [
  {
   "cell_type": "markdown",
   "metadata": {},
   "source": [
    "# Week 1\n",
    "# 4.  Functions In Julia"
   ]
  },
  {
   "cell_type": "markdown",
   "metadata": {},
   "source": [
    "<hr>\n",
    "<h2 id=\"int\"> Outcome       </h2>"
   ]
  },
  {
   "cell_type": "markdown",
   "metadata": {},
   "source": [
    "So after this lecture,\n",
    "1. To say how a Julia function works\n",
    "2. To describe the difference between built-in and user defined functions in Julia. \n",
    "3. To list and use some basic mathematical functions \n",
    "4. To describe Julia's multiple dispatch using muladd as an example."
   ]
  },
  {
   "cell_type": "markdown",
   "metadata": {},
   "source": [
    "<h2 id=\"int\"> Functions in Julia     </h2>"
   ]
  },
  {
   "cell_type": "code",
   "execution_count": 87,
   "metadata": {},
   "outputs": [
    {
     "name": "stdout",
     "output_type": "stream",
     "text": [
      " hello world\n"
     ]
    }
   ],
   "source": [
    "greeting=\" hello world\"\n",
    "println(greeting)"
   ]
  },
  {
   "cell_type": "code",
   "execution_count": 88,
   "metadata": {},
   "outputs": [
    {
     "ename": "LoadError",
     "evalue": "syntax: extra token \"functions\" after end of expression",
     "output_type": "error",
     "traceback": [
      "syntax: extra token \"functions\" after end of expression",
      ""
     ]
    }
   ],
   "source": [
    "So, many functions generate a value."
   ]
  },
  {
   "cell_type": "code",
   "execution_count": 89,
   "metadata": {},
   "outputs": [
    {
     "data": {
      "text/plain": [
       "(0.9800665778412416, 2.302585092994046, 1.22)"
      ]
     },
     "execution_count": 89,
     "metadata": {},
     "output_type": "execute_result"
    }
   ],
   "source": [
    "a, b, c = cos(0.2), log(10), abs(-1.22)"
   ]
  },
  {
   "cell_type": "code",
   "execution_count": 90,
   "metadata": {},
   "outputs": [
    {
     "data": {
      "text/plain": [
       "0.9800665778412416"
      ]
     },
     "execution_count": 90,
     "metadata": {},
     "output_type": "execute_result"
    }
   ],
   "source": [
    "a"
   ]
  },
  {
   "cell_type": "markdown",
   "metadata": {},
   "source": [
    "Julia is a functional language, which means that the basic unit for organizing code in Julia is the function.\n",
    "\n",
    "So basically, almost everything in Julia happens via functions. For instance, typeof is a function, it provides information. Which in other types of languages, are obtained in other means that is not by functions.\n",
    "\n",
    "So if you take a look at the publicly available code for Julia, you will see that virtually everything that is done in Julia is done via functions. \n",
    "\n",
    "So you yourself, when you write code should also organize your code in functions as far as possible. And so, that is why we have to look at user defined functions, the functions that you write."
   ]
  },
  {
   "cell_type": "markdown",
   "metadata": {},
   "source": [
    "<h2 id=\"int\"> Command line help       </h2>"
   ]
  },
  {
   "cell_type": "code",
   "execution_count": 91,
   "metadata": {},
   "outputs": [
    {
     "name": "stdout",
     "output_type": "stream",
     "text": [
      "search: \u001b[0m\u001b[1mc\u001b[22m\u001b[0m\u001b[1mo\u001b[22m\u001b[0m\u001b[1ms\u001b[22m \u001b[0m\u001b[1mc\u001b[22m\u001b[0m\u001b[1mo\u001b[22m\u001b[0m\u001b[1ms\u001b[22mh \u001b[0m\u001b[1mc\u001b[22m\u001b[0m\u001b[1mo\u001b[22m\u001b[0m\u001b[1ms\u001b[22md \u001b[0m\u001b[1mc\u001b[22m\u001b[0m\u001b[1mo\u001b[22m\u001b[0m\u001b[1ms\u001b[22mc \u001b[0m\u001b[1mc\u001b[22m\u001b[0m\u001b[1mo\u001b[22m\u001b[0m\u001b[1ms\u001b[22mpi a\u001b[0m\u001b[1mc\u001b[22m\u001b[0m\u001b[1mo\u001b[22m\u001b[0m\u001b[1ms\u001b[22m a\u001b[0m\u001b[1mc\u001b[22m\u001b[0m\u001b[1mo\u001b[22m\u001b[0m\u001b[1ms\u001b[22mh a\u001b[0m\u001b[1mc\u001b[22m\u001b[0m\u001b[1mo\u001b[22m\u001b[0m\u001b[1ms\u001b[22md my\u001b[0m\u001b[1mc\u001b[22m\u001b[0m\u001b[1mo\u001b[22m\u001b[0m\u001b[1ms\u001b[22m sin\u001b[0m\u001b[1mc\u001b[22m\u001b[0m\u001b[1mo\u001b[22m\u001b[0m\u001b[1ms\u001b[22m sin\u001b[0m\u001b[1mc\u001b[22m\u001b[0m\u001b[1mo\u001b[22m\u001b[0m\u001b[1ms\u001b[22md \u001b[0m\u001b[1mc\u001b[22m\u001b[0m\u001b[1mo\u001b[22mn\u001b[0m\u001b[1ms\u001b[22mt\n",
      "\n"
     ]
    },
    {
     "data": {
      "text/latex": [
       "\\begin{verbatim}\n",
       "cos(x)\n",
       "\\end{verbatim}\n",
       "Compute cosine of \\texttt{x}, where \\texttt{x} is in radians.\n",
       "\n",
       "\\rule{\\textwidth}{1pt}\n",
       "\\begin{verbatim}\n",
       "cos(A::AbstractMatrix)\n",
       "\\end{verbatim}\n",
       "Compute the matrix cosine of a square matrix \\texttt{A}.\n",
       "\n",
       "If \\texttt{A} is symmetric or Hermitian, its eigendecomposition (\\href{@ref}{\\texttt{eigen}}) is used to compute the cosine. Otherwise, the cosine is determined by calling \\href{@ref}{\\texttt{exp}}.\n",
       "\n",
       "\\section{Examples}\n",
       "\\begin{verbatim}\n",
       "julia> cos(fill(1.0, (2,2)))\n",
       "2×2 Array{Float64,2}:\n",
       "  0.291927  -0.708073\n",
       " -0.708073   0.291927\n",
       "\\end{verbatim}\n"
      ],
      "text/markdown": [
       "```\n",
       "cos(x)\n",
       "```\n",
       "\n",
       "Compute cosine of `x`, where `x` is in radians.\n",
       "\n",
       "---\n",
       "\n",
       "```\n",
       "cos(A::AbstractMatrix)\n",
       "```\n",
       "\n",
       "Compute the matrix cosine of a square matrix `A`.\n",
       "\n",
       "If `A` is symmetric or Hermitian, its eigendecomposition ([`eigen`](@ref)) is used to compute the cosine. Otherwise, the cosine is determined by calling [`exp`](@ref).\n",
       "\n",
       "# Examples\n",
       "\n",
       "```jldoctest\n",
       "julia> cos(fill(1.0, (2,2)))\n",
       "2×2 Array{Float64,2}:\n",
       "  0.291927  -0.708073\n",
       " -0.708073   0.291927\n",
       "```\n"
      ],
      "text/plain": [
       "\u001b[36m  cos(x)\u001b[39m\n",
       "\n",
       "  Compute cosine of \u001b[36mx\u001b[39m, where \u001b[36mx\u001b[39m is in radians.\n",
       "\n",
       "  ────────────────────────────────────────────────────────────────────────────\n",
       "\n",
       "\u001b[36m  cos(A::AbstractMatrix)\u001b[39m\n",
       "\n",
       "  Compute the matrix cosine of a square matrix \u001b[36mA\u001b[39m.\n",
       "\n",
       "  If \u001b[36mA\u001b[39m is symmetric or Hermitian, its eigendecomposition (\u001b[36meigen\u001b[39m) is used to\n",
       "  compute the cosine. Otherwise, the cosine is determined by calling \u001b[36mexp\u001b[39m.\n",
       "\n",
       "\u001b[1m  Examples\u001b[22m\n",
       "\u001b[1m  ≡≡≡≡≡≡≡≡≡≡\u001b[22m\n",
       "\n",
       "\u001b[36m  julia> cos(fill(1.0, (2,2)))\u001b[39m\n",
       "\u001b[36m  2×2 Array{Float64,2}:\u001b[39m\n",
       "\u001b[36m    0.291927  -0.708073\u001b[39m\n",
       "\u001b[36m   -0.708073   0.291927\u001b[39m"
      ]
     },
     "execution_count": 91,
     "metadata": {},
     "output_type": "execute_result"
    }
   ],
   "source": [
    "? cos"
   ]
  },
  {
   "cell_type": "code",
   "execution_count": 92,
   "metadata": {},
   "outputs": [
    {
     "name": "stdout",
     "output_type": "stream",
     "text": [
      "search: sc\u001b[0m\u001b[1mh\u001b[22m\u001b[0m\u001b[1me\u001b[22mdu\u001b[0m\u001b[1ml\u001b[22me C\u001b[0m\u001b[1mh\u001b[22mann\u001b[0m\u001b[1me\u001b[22m\u001b[0m\u001b[1ml\u001b[22m \u001b[0m\u001b[1mh\u001b[22masfi\u001b[0m\u001b[1me\u001b[22m\u001b[0m\u001b[1ml\u001b[22md @t\u001b[0m\u001b[1mh\u001b[22mr\u001b[0m\u001b[1me\u001b[22madca\u001b[0m\u001b[1ml\u001b[22ml AbstractC\u001b[0m\u001b[1mh\u001b[22mann\u001b[0m\u001b[1me\u001b[22m\u001b[0m\u001b[1ml\u001b[22m searc\u001b[0m\u001b[1mh\u001b[22msort\u001b[0m\u001b[1me\u001b[22md\u001b[0m\u001b[1ml\u001b[22mast\n",
      "\n"
     ]
    },
    {
     "data": {
      "text/latex": [
       "\\textbf{Welcome to Julia 1.4.2.} The full manual is available at\n",
       "\n",
       "\\begin{verbatim}\n",
       "https://docs.julialang.org/\n",
       "\\end{verbatim}\n",
       "as well as many great tutorials and learning resources:\n",
       "\n",
       "\\begin{verbatim}\n",
       "https://julialang.org/learning/\n",
       "\\end{verbatim}\n",
       "For help on a specific function or macro, type \\texttt{?} followed by its name, e.g. \\texttt{?cos}, or \\texttt{?@time}, and press enter. Type \\texttt{;} to enter shell mode, \\texttt{]} to enter package mode.\n",
       "\n"
      ],
      "text/markdown": [
       "**Welcome to Julia 1.4.2.** The full manual is available at\n",
       "\n",
       "```\n",
       "https://docs.julialang.org/\n",
       "```\n",
       "\n",
       "as well as many great tutorials and learning resources:\n",
       "\n",
       "```\n",
       "https://julialang.org/learning/\n",
       "```\n",
       "\n",
       "For help on a specific function or macro, type `?` followed by its name, e.g. `?cos`, or `?@time`, and press enter. Type `;` to enter shell mode, `]` to enter package mode.\n"
      ],
      "text/plain": [
       "  \u001b[1mWelcome to Julia 1.4.2.\u001b[22m The full manual is available at\n",
       "\n",
       "\u001b[36m  https://docs.julialang.org/\u001b[39m\n",
       "\n",
       "  as well as many great tutorials and learning resources:\n",
       "\n",
       "\u001b[36m  https://julialang.org/learning/\u001b[39m\n",
       "\n",
       "  For help on a specific function or macro, type \u001b[36m?\u001b[39m followed by its name, e.g.\n",
       "  \u001b[36m?cos\u001b[39m, or \u001b[36m?@time\u001b[39m, and press enter. Type \u001b[36m;\u001b[39m to enter shell mode, \u001b[36m]\u001b[39m to enter\n",
       "  package mode."
      ]
     },
     "execution_count": 92,
     "metadata": {},
     "output_type": "execute_result"
    }
   ],
   "source": [
    "? help"
   ]
  },
  {
   "cell_type": "code",
   "execution_count": 93,
   "metadata": {},
   "outputs": [
    {
     "name": "stdout",
     "output_type": "stream",
     "text": [
      "search: \u001b[0m\u001b[1mf\u001b[22m\u001b[0m\u001b[1ml\u001b[22m\u001b[0m\u001b[1mo\u001b[22m\u001b[0m\u001b[1mo\u001b[22m\u001b[0m\u001b[1mr\u001b[22m Over\u001b[0m\u001b[1mf\u001b[22m\u001b[0m\u001b[1ml\u001b[22m\u001b[0m\u001b[1mo\u001b[22mwErr\u001b[0m\u001b[1mo\u001b[22m\u001b[0m\u001b[1mr\u001b[22m StackOver\u001b[0m\u001b[1mf\u001b[22m\u001b[0m\u001b[1ml\u001b[22m\u001b[0m\u001b[1mo\u001b[22mwErr\u001b[0m\u001b[1mo\u001b[22m\u001b[0m\u001b[1mr\u001b[22m\n",
      "\n"
     ]
    },
    {
     "data": {
      "text/latex": [
       "\\begin{verbatim}\n",
       "floor([T,] x)\n",
       "floor(x; digits::Integer= [, base = 10])\n",
       "floor(x; sigdigits::Integer= [, base = 10])\n",
       "\\end{verbatim}\n",
       "\\texttt{floor(x)} returns the nearest integral value of the same type as \\texttt{x} that is less than or equal to \\texttt{x}.\n",
       "\n",
       "\\texttt{floor(T, x)} converts the result to type \\texttt{T}, throwing an \\texttt{InexactError} if the value is not representable.\n",
       "\n",
       "\\texttt{digits}, \\texttt{sigdigits} and \\texttt{base} work as for \\href{@ref}{\\texttt{round}}.\n",
       "\n",
       "\\rule{\\textwidth}{1pt}\n",
       "\\begin{verbatim}\n",
       "floor(x::Period, precision::T) where T <: Union{TimePeriod, Week, Day} -> T\n",
       "\\end{verbatim}\n",
       "Round \\texttt{x} down to the nearest multiple of \\texttt{precision}. If \\texttt{x} and \\texttt{precision} are different subtypes of \\texttt{Period}, the return value will have the same type as \\texttt{precision}.\n",
       "\n",
       "For convenience, \\texttt{precision} may be a type instead of a value: \\texttt{floor(x, Dates.Hour)} is a shortcut for \\texttt{floor(x, Dates.Hour(1))}.\n",
       "\n",
       "\\begin{verbatim}\n",
       "julia> floor(Dates.Day(16), Dates.Week)\n",
       "2 weeks\n",
       "\n",
       "julia> floor(Dates.Minute(44), Dates.Minute(15))\n",
       "30 minutes\n",
       "\n",
       "julia> floor(Dates.Hour(36), Dates.Day)\n",
       "1 day\n",
       "\\end{verbatim}\n",
       "Rounding to a \\texttt{precision} of \\texttt{Month}s or \\texttt{Year}s is not supported, as these \\texttt{Period}s are of inconsistent length.\n",
       "\n",
       "\\rule{\\textwidth}{1pt}\n",
       "\\begin{verbatim}\n",
       "floor(dt::TimeType, p::Period) -> TimeType\n",
       "\\end{verbatim}\n",
       "Return the nearest \\texttt{Date} or \\texttt{DateTime} less than or equal to \\texttt{dt} at resolution \\texttt{p}.\n",
       "\n",
       "For convenience, \\texttt{p} may be a type instead of a value: \\texttt{floor(dt, Dates.Hour)} is a shortcut for \\texttt{floor(dt, Dates.Hour(1))}.\n",
       "\n",
       "\\begin{verbatim}\n",
       "julia> floor(Date(1985, 8, 16), Dates.Month)\n",
       "1985-08-01\n",
       "\n",
       "julia> floor(DateTime(2013, 2, 13, 0, 31, 20), Dates.Minute(15))\n",
       "2013-02-13T00:30:00\n",
       "\n",
       "julia> floor(DateTime(2016, 8, 6, 12, 0, 0), Dates.Day)\n",
       "2016-08-06T00:00:00\n",
       "\\end{verbatim}\n"
      ],
      "text/markdown": [
       "```\n",
       "floor([T,] x)\n",
       "floor(x; digits::Integer= [, base = 10])\n",
       "floor(x; sigdigits::Integer= [, base = 10])\n",
       "```\n",
       "\n",
       "`floor(x)` returns the nearest integral value of the same type as `x` that is less than or equal to `x`.\n",
       "\n",
       "`floor(T, x)` converts the result to type `T`, throwing an `InexactError` if the value is not representable.\n",
       "\n",
       "`digits`, `sigdigits` and `base` work as for [`round`](@ref).\n",
       "\n",
       "---\n",
       "\n",
       "```\n",
       "floor(x::Period, precision::T) where T <: Union{TimePeriod, Week, Day} -> T\n",
       "```\n",
       "\n",
       "Round `x` down to the nearest multiple of `precision`. If `x` and `precision` are different subtypes of `Period`, the return value will have the same type as `precision`.\n",
       "\n",
       "For convenience, `precision` may be a type instead of a value: `floor(x, Dates.Hour)` is a shortcut for `floor(x, Dates.Hour(1))`.\n",
       "\n",
       "```jldoctest\n",
       "julia> floor(Dates.Day(16), Dates.Week)\n",
       "2 weeks\n",
       "\n",
       "julia> floor(Dates.Minute(44), Dates.Minute(15))\n",
       "30 minutes\n",
       "\n",
       "julia> floor(Dates.Hour(36), Dates.Day)\n",
       "1 day\n",
       "```\n",
       "\n",
       "Rounding to a `precision` of `Month`s or `Year`s is not supported, as these `Period`s are of inconsistent length.\n",
       "\n",
       "---\n",
       "\n",
       "```\n",
       "floor(dt::TimeType, p::Period) -> TimeType\n",
       "```\n",
       "\n",
       "Return the nearest `Date` or `DateTime` less than or equal to `dt` at resolution `p`.\n",
       "\n",
       "For convenience, `p` may be a type instead of a value: `floor(dt, Dates.Hour)` is a shortcut for `floor(dt, Dates.Hour(1))`.\n",
       "\n",
       "```jldoctest\n",
       "julia> floor(Date(1985, 8, 16), Dates.Month)\n",
       "1985-08-01\n",
       "\n",
       "julia> floor(DateTime(2013, 2, 13, 0, 31, 20), Dates.Minute(15))\n",
       "2013-02-13T00:30:00\n",
       "\n",
       "julia> floor(DateTime(2016, 8, 6, 12, 0, 0), Dates.Day)\n",
       "2016-08-06T00:00:00\n",
       "```\n"
      ],
      "text/plain": [
       "\u001b[36m  floor([T,] x)\u001b[39m\n",
       "\u001b[36m  floor(x; digits::Integer= [, base = 10])\u001b[39m\n",
       "\u001b[36m  floor(x; sigdigits::Integer= [, base = 10])\u001b[39m\n",
       "\n",
       "  \u001b[36mfloor(x)\u001b[39m returns the nearest integral value of the same type as \u001b[36mx\u001b[39m that is\n",
       "  less than or equal to \u001b[36mx\u001b[39m.\n",
       "\n",
       "  \u001b[36mfloor(T, x)\u001b[39m converts the result to type \u001b[36mT\u001b[39m, throwing an \u001b[36mInexactError\u001b[39m if the\n",
       "  value is not representable.\n",
       "\n",
       "  \u001b[36mdigits\u001b[39m, \u001b[36msigdigits\u001b[39m and \u001b[36mbase\u001b[39m work as for \u001b[36mround\u001b[39m.\n",
       "\n",
       "  ────────────────────────────────────────────────────────────────────────────\n",
       "\n",
       "\u001b[36m  floor(x::Period, precision::T) where T <: Union{TimePeriod, Week, Day} -> T\u001b[39m\n",
       "\n",
       "  Round \u001b[36mx\u001b[39m down to the nearest multiple of \u001b[36mprecision\u001b[39m. If \u001b[36mx\u001b[39m and \u001b[36mprecision\u001b[39m are\n",
       "  different subtypes of \u001b[36mPeriod\u001b[39m, the return value will have the same type as\n",
       "  \u001b[36mprecision\u001b[39m.\n",
       "\n",
       "  For convenience, \u001b[36mprecision\u001b[39m may be a type instead of a value: \u001b[36mfloor(x,\n",
       "  Dates.Hour)\u001b[39m is a shortcut for \u001b[36mfloor(x, Dates.Hour(1))\u001b[39m.\n",
       "\n",
       "\u001b[36m  julia> floor(Dates.Day(16), Dates.Week)\u001b[39m\n",
       "\u001b[36m  2 weeks\u001b[39m\n",
       "\u001b[36m  \u001b[39m\n",
       "\u001b[36m  julia> floor(Dates.Minute(44), Dates.Minute(15))\u001b[39m\n",
       "\u001b[36m  30 minutes\u001b[39m\n",
       "\u001b[36m  \u001b[39m\n",
       "\u001b[36m  julia> floor(Dates.Hour(36), Dates.Day)\u001b[39m\n",
       "\u001b[36m  1 day\u001b[39m\n",
       "\n",
       "  Rounding to a \u001b[36mprecision\u001b[39m of \u001b[36mMonth\u001b[39ms or \u001b[36mYear\u001b[39ms is not supported, as these\n",
       "  \u001b[36mPeriod\u001b[39ms are of inconsistent length.\n",
       "\n",
       "  ────────────────────────────────────────────────────────────────────────────\n",
       "\n",
       "\u001b[36m  floor(dt::TimeType, p::Period) -> TimeType\u001b[39m\n",
       "\n",
       "  Return the nearest \u001b[36mDate\u001b[39m or \u001b[36mDateTime\u001b[39m less than or equal to \u001b[36mdt\u001b[39m at resolution\n",
       "  \u001b[36mp\u001b[39m.\n",
       "\n",
       "  For convenience, \u001b[36mp\u001b[39m may be a type instead of a value: \u001b[36mfloor(dt, Dates.Hour)\u001b[39m\n",
       "  is a shortcut for \u001b[36mfloor(dt, Dates.Hour(1))\u001b[39m.\n",
       "\n",
       "\u001b[36m  julia> floor(Date(1985, 8, 16), Dates.Month)\u001b[39m\n",
       "\u001b[36m  1985-08-01\u001b[39m\n",
       "\u001b[36m  \u001b[39m\n",
       "\u001b[36m  julia> floor(DateTime(2013, 2, 13, 0, 31, 20), Dates.Minute(15))\u001b[39m\n",
       "\u001b[36m  2013-02-13T00:30:00\u001b[39m\n",
       "\u001b[36m  \u001b[39m\n",
       "\u001b[36m  julia> floor(DateTime(2016, 8, 6, 12, 0, 0), Dates.Day)\u001b[39m\n",
       "\u001b[36m  2016-08-06T00:00:00\u001b[39m"
      ]
     },
     "execution_count": 93,
     "metadata": {},
     "output_type": "execute_result"
    }
   ],
   "source": [
    "? floor"
   ]
  },
  {
   "cell_type": "markdown",
   "metadata": {},
   "source": [
    "<h2 id=\"int\"> 1. Built-In Mathematical Functions       </h2>"
   ]
  },
  {
   "cell_type": "markdown",
   "metadata": {},
   "source": [
    "Julia has great many functions that are built-in, and these mathematical ones are among the most important. "
   ]
  },
  {
   "cell_type": "code",
   "execution_count": 94,
   "metadata": {},
   "outputs": [
    {
     "data": {
      "text/plain": [
       "7.38905609893065"
      ]
     },
     "execution_count": 94,
     "metadata": {},
     "output_type": "execute_result"
    }
   ],
   "source": [
    "exp(2)"
   ]
  },
  {
   "cell_type": "code",
   "execution_count": 95,
   "metadata": {},
   "outputs": [
    {
     "data": {
      "text/plain": [
       "0.6931471805599453"
      ]
     },
     "execution_count": 95,
     "metadata": {},
     "output_type": "execute_result"
    }
   ],
   "source": [
    "log(2)"
   ]
  },
  {
   "cell_type": "code",
   "execution_count": 96,
   "metadata": {},
   "outputs": [
    {
     "data": {
      "text/plain": [
       "0.3010299956639812"
      ]
     },
     "execution_count": 96,
     "metadata": {},
     "output_type": "execute_result"
    }
   ],
   "source": [
    "log10(2)"
   ]
  },
  {
   "cell_type": "code",
   "execution_count": 97,
   "metadata": {},
   "outputs": [
    {
     "data": {
      "text/plain": [
       "0.8414709848078965"
      ]
     },
     "execution_count": 97,
     "metadata": {},
     "output_type": "execute_result"
    }
   ],
   "source": [
    "sin(1)"
   ]
  },
  {
   "cell_type": "code",
   "execution_count": 98,
   "metadata": {},
   "outputs": [
    {
     "data": {
      "text/plain": [
       "0.5403023058681398"
      ]
     },
     "execution_count": 98,
     "metadata": {},
     "output_type": "execute_result"
    }
   ],
   "source": [
    "cos(1)"
   ]
  },
  {
   "cell_type": "code",
   "execution_count": 99,
   "metadata": {},
   "outputs": [
    {
     "data": {
      "text/plain": [
       "1.5574077246549023"
      ]
     },
     "execution_count": 99,
     "metadata": {},
     "output_type": "execute_result"
    }
   ],
   "source": [
    "tan(1)"
   ]
  },
  {
   "cell_type": "code",
   "execution_count": 100,
   "metadata": {},
   "outputs": [
    {
     "data": {
      "text/plain": [
       "1"
      ]
     },
     "execution_count": 100,
     "metadata": {},
     "output_type": "execute_result"
    }
   ],
   "source": [
    "floor(1)"
   ]
  },
  {
   "cell_type": "code",
   "execution_count": 101,
   "metadata": {},
   "outputs": [
    {
     "data": {
      "text/plain": [
       "1"
      ]
     },
     "execution_count": 101,
     "metadata": {},
     "output_type": "execute_result"
    }
   ],
   "source": [
    "ceil(1)"
   ]
  },
  {
   "cell_type": "code",
   "execution_count": 102,
   "metadata": {},
   "outputs": [
    {
     "ename": "MethodError",
     "evalue": "MethodError: no method matching rem(::Int64)\nClosest candidates are:\n  rem(::Int64, !Matched::Type{Int8}) at int.jl:440\n  rem(::Int64, !Matched::Type{Int16}) at int.jl:440\n  rem(::Int64, !Matched::Type{Int32}) at int.jl:440\n  ...",
     "output_type": "error",
     "traceback": [
      "MethodError: no method matching rem(::Int64)\nClosest candidates are:\n  rem(::Int64, !Matched::Type{Int8}) at int.jl:440\n  rem(::Int64, !Matched::Type{Int16}) at int.jl:440\n  rem(::Int64, !Matched::Type{Int32}) at int.jl:440\n  ...",
      "",
      "Stacktrace:",
      " [1] top-level scope at In[102]:1"
     ]
    }
   ],
   "source": [
    "rem(1)"
   ]
  },
  {
   "cell_type": "code",
   "execution_count": 103,
   "metadata": {},
   "outputs": [
    {
     "data": {
      "text/plain": [
       "1.0"
      ]
     },
     "execution_count": 103,
     "metadata": {},
     "output_type": "execute_result"
    }
   ],
   "source": [
    "round(1.2)"
   ]
  },
  {
   "cell_type": "markdown",
   "metadata": {},
   "source": [
    "So here's a d. And now, I press the Tab, and I see that there's all kinds of functions that start with d"
   ]
  },
  {
   "cell_type": "markdown",
   "metadata": {},
   "source": [
    "#d  # press tab"
   ]
  },
  {
   "cell_type": "markdown",
   "metadata": {},
   "source": [
    "<h2 id=\"int\"> Multiple Dispatch       </h2>"
   ]
  },
  {
   "cell_type": "code",
   "execution_count": 104,
   "metadata": {},
   "outputs": [
    {
     "data": {
      "text/html": [
       "# 12 methods for generic function <b>muladd</b>:<ul><li> muladd(a::<b>Float16</b>, b::<b>Float16</b>, c::<b>Float16</b>) in Base at <a href=\"https://github.com/JuliaLang/julia/tree/44fa15b1502a45eac76c9017af94332d4557b251/base/float.jl#L412\" target=\"_blank\">float.jl:412</a></li> <li> muladd(x::<b>Float64</b>, y::<b>Float64</b>, z::<b>Float64</b>) in Base at <a href=\"https://github.com/JuliaLang/julia/tree/44fa15b1502a45eac76c9017af94332d4557b251/base/float.jl#L410\" target=\"_blank\">float.jl:410</a></li> <li> muladd(x::<b>Float32</b>, y::<b>Float32</b>, z::<b>Float32</b>) in Base at <a href=\"https://github.com/JuliaLang/julia/tree/44fa15b1502a45eac76c9017af94332d4557b251/base/float.jl#L409\" target=\"_blank\">float.jl:409</a></li> <li> muladd(z::<b>Complex</b>, w::<b>Complex</b>, x::<b>Complex</b>) in Base at <a href=\"https://github.com/JuliaLang/julia/tree/44fa15b1502a45eac76c9017af94332d4557b251/base/complex.jl#L280\" target=\"_blank\">complex.jl:280</a></li> <li> muladd(x::<b>Real</b>, z::<b>Complex</b>, y::<b>Number</b>) in Base at <a href=\"https://github.com/JuliaLang/julia/tree/44fa15b1502a45eac76c9017af94332d4557b251/base/complex.jl#L323\" target=\"_blank\">complex.jl:323</a></li> <li> muladd(z::<b>Complex</b>, x::<b>Real</b>, y::<b>Real</b>) in Base at <a href=\"https://github.com/JuliaLang/julia/tree/44fa15b1502a45eac76c9017af94332d4557b251/base/complex.jl#L324\" target=\"_blank\">complex.jl:324</a></li> <li> muladd(z::<b>Complex</b>, x::<b>Real</b>, w::<b>Complex</b>) in Base at <a href=\"https://github.com/JuliaLang/julia/tree/44fa15b1502a45eac76c9017af94332d4557b251/base/complex.jl#L325\" target=\"_blank\">complex.jl:325</a></li> <li> muladd(x::<b>Real</b>, y::<b>Real</b>, z::<b>Complex</b>) in Base at <a href=\"https://github.com/JuliaLang/julia/tree/44fa15b1502a45eac76c9017af94332d4557b251/base/complex.jl#L327\" target=\"_blank\">complex.jl:327</a></li> <li> muladd(z::<b>Complex</b>, w::<b>Complex</b>, x::<b>Real</b>) in Base at <a href=\"https://github.com/JuliaLang/julia/tree/44fa15b1502a45eac76c9017af94332d4557b251/base/complex.jl#L328\" target=\"_blank\">complex.jl:328</a></li> <li> muladd(x::<b>T</b>, y::<b>T</b>, z::<b>T</b>)<i> where T<:Number</i> in Base at <a href=\"https://github.com/JuliaLang/julia/tree/44fa15b1502a45eac76c9017af94332d4557b251/base/promotion.jl#L392\" target=\"_blank\">promotion.jl:392</a></li> <li> muladd(x::<b>Number</b>, y::<b>Number</b>, z::<b>Number</b>) in Base at <a href=\"https://github.com/JuliaLang/julia/tree/44fa15b1502a45eac76c9017af94332d4557b251/base/promotion.jl#L346\" target=\"_blank\">promotion.jl:346</a></li> <li> muladd(x, y, z) in Base.Math at <a href=\"https://github.com/JuliaLang/julia/tree/44fa15b1502a45eac76c9017af94332d4557b251/base/math.jl#L1107\" target=\"_blank\">math.jl:1107</a></li> </ul>"
      ],
      "text/plain": [
       "# 12 methods for generic function \"muladd\":\n",
       "[1] muladd(a::Float16, b::Float16, c::Float16) in Base at float.jl:412\n",
       "[2] muladd(x::Float64, y::Float64, z::Float64) in Base at float.jl:410\n",
       "[3] muladd(x::Float32, y::Float32, z::Float32) in Base at float.jl:409\n",
       "[4] muladd(z::Complex, w::Complex, x::Complex) in Base at complex.jl:280\n",
       "[5] muladd(x::Real, z::Complex, y::Number) in Base at complex.jl:323\n",
       "[6] muladd(z::Complex, x::Real, y::Real) in Base at complex.jl:324\n",
       "[7] muladd(z::Complex, x::Real, w::Complex) in Base at complex.jl:325\n",
       "[8] muladd(x::Real, y::Real, z::Complex) in Base at complex.jl:327\n",
       "[9] muladd(z::Complex, w::Complex, x::Real) in Base at complex.jl:328\n",
       "[10] muladd(x::T, y::T, z::T) where T<:Number in Base at promotion.jl:392\n",
       "[11] muladd(x::Number, y::Number, z::Number) in Base at promotion.jl:346\n",
       "[12] muladd(x, y, z) in Base.Math at math.jl:1107"
      ]
     },
     "execution_count": 104,
     "metadata": {},
     "output_type": "execute_result"
    }
   ],
   "source": [
    "methods(muladd)"
   ]
  },
  {
   "cell_type": "markdown",
   "metadata": {},
   "source": [
    "So many of the bugs, you can expect to see if you program in Julia arise because a function was called with values for which there is no method, there is no signature. There is no type signature that fits the call that you made. So the type signature was wrong, and then you're getting a bug, you get an error. \n",
    "\n",
    "And there are two ways you can solve it. You can make sure that your input values have the right type signature, and it may be that there's actually an earlier bug that led to the type signature being wrong. So as always when you finally get a bug an error message from a program, it maybe that this was an error that was made a while ago and it's only now at surfaced."
   ]
  },
  {
   "cell_type": "markdown",
   "metadata": {},
   "source": [
    "<h2 id=\"int\"> 2. User Defined Functions      </h2>"
   ]
  },
  {
   "cell_type": "markdown",
   "metadata": {},
   "source": [
    "<hr>\n",
    "<h2 id=\"int\"> Outcome       </h2>"
   ]
  },
  {
   "cell_type": "markdown",
   "metadata": {},
   "source": [
    "So, after this lecture,\n",
    "1. To define a function using the one-line syntax. \n",
    "2. To define a function using a multi-line syntax, \n",
    "3. Furthermore, once you have an existing user defined function you'll be able to define an additional method, \n",
    "4. If you have a user defined function and you want to specify types that the input values should comply with."
   ]
  },
  {
   "cell_type": "markdown",
   "metadata": {},
   "source": [
    "<h2 id=\"int\"> One Line Functions Defination      </h2>"
   ]
  },
  {
   "cell_type": "code",
   "execution_count": 105,
   "metadata": {},
   "outputs": [
    {
     "data": {
      "text/plain": [
       "myfunc (generic function with 1 method)"
      ]
     },
     "execution_count": 105,
     "metadata": {},
     "output_type": "execute_result"
    }
   ],
   "source": [
    "myfunc(firstvar) = 20*firstvar"
   ]
  },
  {
   "cell_type": "markdown",
   "metadata": {},
   "source": [
    "Rules in defining the One Line Functions"
   ]
  },
  {
   "cell_type": "markdown",
   "metadata": {},
   "source": [
    "1. The name of the function must be a variable name.\n",
    "2. The arguments in this list must be valid variable names.\n",
    "3. The argument list must be inside parentheses and all of this goes on the left.\n",
    "4. Then, there's an assignment, that is the single equals sign.\n",
    "5. On the right, there is the code using these variables to calculate something "
   ]
  },
  {
   "cell_type": "code",
   "execution_count": 106,
   "metadata": {},
   "outputs": [
    {
     "data": {
      "text/plain": [
       "6666.660000000001"
      ]
     },
     "execution_count": 106,
     "metadata": {},
     "output_type": "execute_result"
    }
   ],
   "source": [
    "myfunc(333.333)"
   ]
  },
  {
   "cell_type": "code",
   "execution_count": 107,
   "metadata": {},
   "outputs": [
    {
     "data": {
      "text/plain": [
       "addxtoy (generic function with 1 method)"
      ]
     },
     "execution_count": 107,
     "metadata": {},
     "output_type": "execute_result"
    }
   ],
   "source": [
    "addxtoy(x,y) = x+y"
   ]
  },
  {
   "cell_type": "code",
   "execution_count": 108,
   "metadata": {},
   "outputs": [
    {
     "data": {
      "text/plain": [
       "30"
      ]
     },
     "execution_count": 108,
     "metadata": {},
     "output_type": "execute_result"
    }
   ],
   "source": [
    "addxtoy(10,20)"
   ]
  },
  {
   "cell_type": "markdown",
   "metadata": {},
   "source": [
    "<h2 id=\"int\"> Multiple Line Functions Defination      </h2>"
   ]
  },
  {
   "cell_type": "code",
   "execution_count": 109,
   "metadata": {},
   "outputs": [
    {
     "data": {
      "text/plain": [
       "nextfunc (generic function with 1 method)"
      ]
     },
     "execution_count": 109,
     "metadata": {},
     "output_type": "execute_result"
    }
   ],
   "source": [
    "function nextfunc(a, b, c)\n",
    "    a*b+c\n",
    "    \n",
    "end"
   ]
  },
  {
   "cell_type": "code",
   "execution_count": 110,
   "metadata": {},
   "outputs": [
    {
     "data": {
      "text/plain": [
       "4"
      ]
     },
     "execution_count": 110,
     "metadata": {},
     "output_type": "execute_result"
    }
   ],
   "source": [
    "nextfunc(1, 2, 2)"
   ]
  },
  {
   "cell_type": "markdown",
   "metadata": {},
   "source": [
    "<h2 id=\"int\"> Functions with Multiple methods      </h2>"
   ]
  },
  {
   "cell_type": "markdown",
   "metadata": {},
   "source": [
    "Many code bodies share just one function name and Julia knows which of the code bodies to use by the type signature. But the type signature is just the list of types of all the variables that are used to call the function. "
   ]
  },
  {
   "cell_type": "code",
   "execution_count": 111,
   "metadata": {},
   "outputs": [
    {
     "data": {
      "text/plain": [
       "mycos (generic function with 3 methods)"
      ]
     },
     "execution_count": 111,
     "metadata": {},
     "output_type": "execute_result"
    }
   ],
   "source": [
    "mycos(x)=cos(x)"
   ]
  },
  {
   "cell_type": "code",
   "execution_count": 112,
   "metadata": {},
   "outputs": [
    {
     "data": {
      "text/plain": [
       "0.7648421872844885"
      ]
     },
     "execution_count": 112,
     "metadata": {},
     "output_type": "execute_result"
    }
   ],
   "source": [
    "mycos(0.7)"
   ]
  },
  {
   "cell_type": "code",
   "execution_count": 113,
   "metadata": {},
   "outputs": [
    {
     "data": {
      "text/plain": [
       "mycos (generic function with 3 methods)"
      ]
     },
     "execution_count": 113,
     "metadata": {},
     "output_type": "execute_result"
    }
   ],
   "source": [
    "mycos(adj, hyp)= adj/hyp"
   ]
  },
  {
   "cell_type": "code",
   "execution_count": 114,
   "metadata": {},
   "outputs": [
    {
     "data": {
      "text/plain": [
       "0.9230769230769231"
      ]
     },
     "execution_count": 114,
     "metadata": {},
     "output_type": "execute_result"
    }
   ],
   "source": [
    "mycos(12,13)"
   ]
  },
  {
   "cell_type": "code",
   "execution_count": 115,
   "metadata": {},
   "outputs": [
    {
     "data": {
      "text/html": [
       "# 3 methods for generic function <b>mycos</b>:<ul><li> mycos(thet::<b>Float64</b>) in Main at In[85]:1</li> <li> mycos(x) in Main at In[111]:1</li> <li> mycos(adj, hyp) in Main at In[113]:1</li> </ul>"
      ],
      "text/plain": [
       "# 3 methods for generic function \"mycos\":\n",
       "[1] mycos(thet::Float64) in Main at In[85]:1\n",
       "[2] mycos(x) in Main at In[111]:1\n",
       "[3] mycos(adj, hyp) in Main at In[113]:1"
      ]
     },
     "execution_count": 115,
     "metadata": {},
     "output_type": "execute_result"
    }
   ],
   "source": [
    "methods(mycos)"
   ]
  },
  {
   "cell_type": "markdown",
   "metadata": {},
   "source": [
    "So suppose we want to make sure that mycos(x) is never called on integer values, we might require the code to be Float64 as follows"
   ]
  },
  {
   "cell_type": "code",
   "execution_count": 116,
   "metadata": {},
   "outputs": [
    {
     "data": {
      "text/plain": [
       "mycos (generic function with 3 methods)"
      ]
     },
     "execution_count": 116,
     "metadata": {},
     "output_type": "execute_result"
    }
   ],
   "source": [
    "mycos(thet::Float64)=cos(thet)"
   ]
  },
  {
   "cell_type": "code",
   "execution_count": 117,
   "metadata": {},
   "outputs": [
    {
     "data": {
      "text/plain": [
       "mycos (generic function with 3 methods)"
      ]
     },
     "execution_count": 117,
     "metadata": {},
     "output_type": "execute_result"
    }
   ],
   "source": [
    "mycos(thet::Float64)=cos(thet)\n",
    "mycos(adj, hyp)= adj/hyp"
   ]
  },
  {
   "cell_type": "code",
   "execution_count": 118,
   "metadata": {},
   "outputs": [
    {
     "data": {
      "text/plain": [
       "0.5403023058681398"
      ]
     },
     "execution_count": 118,
     "metadata": {},
     "output_type": "execute_result"
    }
   ],
   "source": [
    "mycos(1)"
   ]
  },
  {
   "cell_type": "markdown",
   "metadata": {},
   "source": [
    "# Practice Quiz"
   ]
  },
  {
   "cell_type": "markdown",
   "metadata": {},
   "source": [
    "<h2 id=\"int\"> Question 1     </h2>\n",
    "\n",
    "Looking up help using ? and the methods() function are quick ways to find out about available Julia functions.\n",
    "\n",
    "##### Help on function \\\n",
    "?\\\n",
    "##### List methods for generic function \\\n",
    "    \n",
    "methods(\\)\n",
    "    \n",
    "What is the meaning of executing the following?\n",
    "\n",
    "60 \\ 5040\n",
    "\n",
    "\n",
    "a. The expression is using the left division operator, equivalent to 5040 / 60.\n",
    "\n",
    "\n",
    "b. The expression is using the modular operator, equivalent to mod(60, 5040).\n",
    "\n",
    "\n",
    "c. The expression is invalid since \\ in a matrix division operator and operates only on arrays. A valid expression would be [60] \\ [5040]\n",
    "\n",
    "\n",
    "d. The expression is a bitwise 'and' operator, equivalent to 60 & 5040.\n",
    "\n",
    "\n",
    "\n",
    "\n",
    "\n"
   ]
  },
  {
   "cell_type": "markdown",
   "metadata": {},
   "source": [
    "Double-click __here__ for the solution.\n",
    "\n",
    "<!-- Your answer is below:\n",
    "60 \\ 5040 \n",
    "84.0\n",
    "\n",
    "    \n",
    "Answer: A\n",
    "-->"
   ]
  },
  {
   "cell_type": "markdown",
   "metadata": {},
   "source": [
    "<h2 id=\"int\"> Question 2    </h2>\n",
    "\n",
    "Consider the following one-line Julia function\n",
    "\n",
    "addone(x::Int64) = x+1\n",
    "        \n",
    "Here x::Int64 is specifying that to call this function, \n",
    "            \n",
    "x must be an integer number that can be stored in 64 bits of memory.\n",
    "\n",
    "Which of the following will produce valid output --- that is, the function will NOT throw an error when it is called?\n",
    "\n",
    "\n",
    "a. addone(10.)\n",
    "\n",
    "b. addone(20*1.0)\n",
    "\n",
    "c. addone(10)\n",
    "\n",
    "d. addone(ceil(1.2)*10)\n",
    "\n"
   ]
  },
  {
   "cell_type": "markdown",
   "metadata": {},
   "source": [
    "Double-click __here__ for the solution.\n",
    "\n",
    "<!-- Your answer is below:\n",
    "addone(x::Int64) = x+1\n",
    "addone(10)\n",
    "11    \n",
    "Answer: C\n",
    "-->"
   ]
  },
  {
   "cell_type": "markdown",
   "metadata": {},
   "source": [
    "<h2 id=\"int\"> Question 3     </h2>\n",
    "\n",
    "Consider the following Julia code:\n",
    "\n",
    "a,b=1,2\n",
    "\n",
    "a,b=b,a\n",
    "\n",
    "What is the final value of a?\n",
    "\n"
   ]
  },
  {
   "cell_type": "markdown",
   "metadata": {},
   "source": [
    "Double-click __here__ for the solution.\n",
    "\n",
    "<!-- Your answer is below:\n",
    "a,b=1,2\n",
    "a,b=b,a\n",
    "2   \n",
    "Answer: 2\n",
    "-->"
   ]
  },
  {
   "cell_type": "markdown",
   "metadata": {},
   "source": [
    "<h2 id=\"int\"> Question 4    </h2>\n",
    "\n",
    "Give the output of the following code\n",
    "\n",
    "function test(input)\n",
    "\n",
    "  println(\"$input\"^2)\n",
    "  \n",
    "end\n",
    "\n",
    "test(2)\n",
    "\n",
    "a. 4\n",
    "\n",
    "b. 22\n",
    "\n",
    "c. 2^2"
   ]
  },
  {
   "cell_type": "markdown",
   "metadata": {},
   "source": [
    "Double-click __here__ for the solution.\n",
    "\n",
    "<!-- Your answer is below:\n",
    "function test(input)\n",
    "\n",
    "  println(\"$input\"^2)\n",
    "  \n",
    "end\n",
    "\n",
    "test(2)\n",
    "\n",
    "22\n",
    "    \n",
    "Answer: B \n",
    "-->"
   ]
  },
  {
   "cell_type": "markdown",
   "metadata": {},
   "source": [
    "<h2 id=\"int\"> Question 5     </h2>\n",
    "\n",
    "Which line of code needs to be executed so that it creates a function that returns the sum of its parameters? That is, so that when the following is executed, it displays the value 12. Check all that are true.\n",
    "\n",
    "println(add2(5, 7))\n",
    "\n",
    "a. add2(x,y) = x + y\n",
    "\n",
    "b. function add2(x,y) = x + y\n",
    "\n",
    "c. add2(x,y) = return x + y\n",
    "\n",
    "d. add2(x,y) = x + 2"
   ]
  },
  {
   "cell_type": "markdown",
   "metadata": {},
   "source": [
    "Double-click __here__ for the solution.\n",
    "\n",
    "<!-- Your answer is below:\n",
    "add2(x,y) = x + y\n",
    "add2(x,y) = return x + y\n",
    "println(add2(5, 7))\n",
    "12    \n",
    "Answer: A and B\n",
    "-->"
   ]
  },
  {
   "cell_type": "markdown",
   "metadata": {},
   "source": [
    "<h2 id=\"int\"> Question 6     </h2>\n",
    "\n",
    "Given the following Julia function that prints out three values x, y and z. Here the y and z parameters are optional. That is if the function is called without parameters y and z then they gets the value 0.\n",
    "                                    \n",
    "function coordinates(x, y=0, z=0)\n",
    "  println(\"($x, $y, $z)\")\n",
    "end\n",
    "Which is a valid function call to print:\n",
    "\n",
    "(1,0,2)\n",
    "\n",
    "a.coordinates(1, 2)\n",
    "\n",
    "b.coordinates(1, 0, 2)\n",
    "\n",
    "c.coordinates(1, 0)\n",
    "\n",
    "d.coordinates(1, 0, 0)"
   ]
  },
  {
   "cell_type": "markdown",
   "metadata": {},
   "source": [
    "Double-click __here__ for the solution.\n",
    "\n",
    "<!-- Your answer is below:\n",
    "function coordinates(x, y=0, z=0)\n",
    "  println(\"($x, $y, $z)\")\n",
    "end\n",
    "\n",
    "coordinates(1, 0, 2)\n",
    "    \n",
    "Answer: B \n",
    "-->"
   ]
  },
  {
   "cell_type": "code",
   "execution_count": null,
   "metadata": {},
   "outputs": [],
   "source": []
  },
  {
   "cell_type": "code",
   "execution_count": null,
   "metadata": {},
   "outputs": [],
   "source": []
  }
 ],
 "metadata": {
  "kernelspec": {
   "display_name": "Julia 1.4.2",
   "language": "julia",
   "name": "julia-1.4"
  },
  "language_info": {
   "file_extension": ".jl",
   "mimetype": "application/julia",
   "name": "julia",
   "version": "1.4.2"
  }
 },
 "nbformat": 4,
 "nbformat_minor": 2
}
