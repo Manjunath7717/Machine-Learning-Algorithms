{
 "cells": [
  {
   "cell_type": "markdown",
   "metadata": {},
   "source": [
    "#  WEEK 1"
   ]
  },
  {
   "cell_type": "markdown",
   "metadata": {},
   "source": [
    "# 1. Starting with Julia Notebooks"
   ]
  },
  {
   "cell_type": "markdown",
   "metadata": {},
   "source": [
    "Programming languages and why Julia is special:\n",
    "\n",
    "Outcome :\n",
    "\n",
    "1.\tShow you how Julia compares to Python, MATLAB, C, and Fortran,\n",
    "2.\tTo say why Julia's easy to learn, \n",
    "3.\tList a few of the technical aspects in Julia that make it very special.\n",
    "\n",
    "Comparison with other programming languages:\n",
    "\n",
    "1.\tJulia is easy to learn but many other programming languages which is also easy to learn in particular Python and MATLAB. \n",
    "2.\tJulia is fast, but again there are other programming languages that are fast particularly C and Fortran. \n",
    "3.\tJulia is free, but there are other languages that are free such as Python. \n",
    "\n",
    "Julia is unique in that it is free and fast, and easy to learn.\n",
    "\n",
    "Why Julia is easy to learn:\n",
    "\n",
    "1.\tJulia programs are short.\n",
    "2.\tSpeed of execution\n",
    "\n",
    "Some Technical aspects of Julia:\n",
    "\n",
    "1.\tJulia is a strongly typed and dynamic language.\n",
    "2.\tThe type system also allows functions you have multiple dispatch \n",
    "3.\tJulia supports parallel programming. It is concurrent. It has a data model suitable for huge data sets.\n",
    "4.\tJulia is actually a very good language to use with other languages.\n"
   ]
  },
  {
   "cell_type": "markdown",
   "metadata": {},
   "source": [
    "# 1.2 : Getting Ready: JuliaBox "
   ]
  },
  {
   "cell_type": "markdown",
   "metadata": {},
   "source": [
    "# JuliaBox----- \n",
    "\n",
    "https://juliabox.com\n",
    "\n",
    "IJulia on your own Machine:\n",
    "\n",
    "If you wanted to have it on your own machine and then why not do so, very nice capacity to have and you don't have to have to go online to use Julia. \n",
    "\n",
    "So then, you install Julia on your own computer \n",
    "\n",
    "1: Start Julia on the command line and under command line\n",
    "\n",
    "2: You just add this bit of code, Pkg.add(“IJulia”) \n",
    "\n",
    "3: \"Using IJulia” to activate IJulia\n",
    "\n",
    "4: The command line type, (\"notebook\") and then that will open a browser and to open a Jupyter notebook in a    browser.\n"
   ]
  },
  {
   "cell_type": "markdown",
   "metadata": {},
   "source": [
    "# 1.3 : The Julia REPL - Read, Evaluate and Print Loop:"
   ]
  },
  {
   "cell_type": "markdown",
   "metadata": {},
   "source": [
    "In Julia, the command line is usually called the R-E-P-L. And it stands for Read, Evaluate, Print Loop"
   ]
  },
  {
   "cell_type": "markdown",
   "metadata": {},
   "source": [
    "# The REPL"
   ]
  },
  {
   "cell_type": "markdown",
   "metadata": {},
   "source": [
    "The Basic process in julia is REPL which stands for Read, Evaluate, Print Loop"
   ]
  },
  {
   "cell_type": "code",
   "execution_count": null,
   "metadata": {},
   "outputs": [],
   "source": [
    "println(\"Hello Julia!\")"
   ]
  },
  {
   "cell_type": "markdown",
   "metadata": {},
   "source": [
    "<h3 id=\"int\"> The println() part </h3> "
   ]
  },
  {
   "cell_type": "markdown",
   "metadata": {},
   "source": [
    "The println() is one of thr built in function. the word \"println\" is the name of the function, and it points to the code that the function uses to do its work "
   ]
  },
  {
   "cell_type": "markdown",
   "metadata": {},
   "source": [
    "<h3 id=\"int\"> The \"Hello Julia!\" part </h3> "
   ]
  },
  {
   "cell_type": "markdown",
   "metadata": {},
   "source": [
    "Whatever inside the parentheses of a functions, is called as argument of the functions"
   ]
  },
  {
   "cell_type": "markdown",
   "metadata": {},
   "source": [
    "# Further Examples on REPL"
   ]
  },
  {
   "cell_type": "code",
   "execution_count": null,
   "metadata": {},
   "outputs": [],
   "source": [
    "5"
   ]
  },
  {
   "cell_type": "code",
   "execution_count": null,
   "metadata": {},
   "outputs": [],
   "source": [
    "5+5"
   ]
  },
  {
   "cell_type": "code",
   "execution_count": null,
   "metadata": {},
   "outputs": [],
   "source": [
    "println(5-3.8)"
   ]
  },
  {
   "cell_type": "code",
   "execution_count": null,
   "metadata": {},
   "outputs": [],
   "source": [
    "println(\"Hello\" * \" Julia\")"
   ]
  },
  {
   "cell_type": "code",
   "execution_count": null,
   "metadata": {},
   "outputs": [],
   "source": [
    "println((\"Hello\" * \" Julia\")^4)"
   ]
  },
  {
   "cell_type": "markdown",
   "metadata": {},
   "source": [
    "# PRACTICE QUIZ \n",
    "# JuliaBox and the Julia REPL"
   ]
  },
  {
   "cell_type": "markdown",
   "metadata": {},
   "source": [
    "<h2 id=\"int\"> Question 1      </h2>\n",
    "\n",
    "The very first program many people write when they are new to a programming language is by tradition the \"Hello, World!\" program.\n",
    "\n",
    "Open a new JuliaBox Notebook by first visiting juliabox.com. You will need to sign-in with an account such as Gmail, GitHub or LinkedIn. (An alternative is to install Julia on your computer.) Click 'New' to create a Notebook (the Julia version is not important).\n",
    "\n",
    "Using the Julia environment, which line of code produces the following output?\n",
    "\n",
    "Hello, World!\n",
    "\n",
    "To produce the above you will need to either click the 'Run' button or the Ctrl-Enter keys simultaneously.\n",
    "\n",
    "\n",
    "a. println(\"Hello, World! \"^3)\n",
    "\n",
    "\n",
    "b. println('Hello, World!')\n",
    "\n",
    "\n",
    "c. println(\"Hello, World!\")\n"
   ]
  },
  {
   "cell_type": "markdown",
   "metadata": {},
   "source": [
    "Double-click __here__ for the solution.\n",
    "\n",
    "<!-- Your answer is below:\n",
    "\n",
    "println(\"Hello, World! \"^3)\n",
    "#println('Hello, World!')\n",
    "println(\"Hello, World!\")\n",
    "\n",
    "Answer: C\n",
    "-->\n"
   ]
  },
  {
   "cell_type": "markdown",
   "metadata": {},
   "source": [
    "<h2 id=\"int\"> Question 2     </h2>\n",
    "\n",
    "Using the Julia environment what is the result of executing the following:\n",
    "\n",
    "\n",
    "\n",
    "To execute the above you will need to either click the 'Run' button or the Ctrl-Enter keys simultaneously.\n",
    "\n",
    "\n",
    "\n",
    "a. An error is displayed because this is an invalid mathematical expression\n",
    "\n",
    "b. No output is displayed because there is no println statement\n",
    "\n",
    "c. 14\n",
    "\n",
    "d. 28\n",
    "\n"
   ]
  },
  {
   "cell_type": "markdown",
   "metadata": {},
   "source": [
    "Double-click __here__ for the solution.\n",
    "\n",
    "<!-- Your answer is below:\n",
    "\n",
    "5 + 9 # 14\n",
    "\n",
    "Answer: C\n",
    "-->\n",
    "\n"
   ]
  },
  {
   "cell_type": "markdown",
   "metadata": {},
   "source": [
    "<h2 id=\"int\"> Question 3    </h2>\n",
    "\n",
    "Which of the following are cell types in a Julia Notebook?\n",
    "\n",
    "a. Code\n",
    "\n",
    "b. Display\n",
    "\n",
    "c. Kernel\n",
    "\n",
    "d. Markdown\n"
   ]
  },
  {
   "cell_type": "markdown",
   "metadata": {},
   "source": [
    "Double-click __here__ for the solution.\n",
    "\n",
    "<!-- Your answer is below:\n",
    "\n",
    "Answer: A and D\n",
    "-->"
   ]
  },
  {
   "cell_type": "markdown",
   "metadata": {},
   "source": [
    "<h2 id=\"int\"> Question 4    </h2>\n",
    "\n",
    "What does REPL stand for in interpreting Julia code?\n",
    "\n",
    "a. REPLace\n",
    "\n",
    "b. Read, Evaluate and Print Loop\n",
    "\n",
    "c. Re-Evaluate and Print Loop\n"
   ]
  },
  {
   "cell_type": "markdown",
   "metadata": {},
   "source": [
    "Double-click __here__ for the solution.\n",
    "\n",
    "<!-- Your answer is below:\n",
    "\n",
    "Answer: B\n",
    "--> "
   ]
  },
  {
   "cell_type": "markdown",
   "metadata": {},
   "source": [
    "<h2 id=\"int\"> Question 5   </h2>\n",
    "\n",
    "Which one of the following is used in the Julia language to indicate the arguments of a function?\n",
    "\n",
    "a. {} - braces\n",
    "\n",
    "b. [] - brackets\n",
    "\n",
    "c. () - parenthesis\n",
    "    \n",
    "   "
   ]
  },
  {
   "cell_type": "markdown",
   "metadata": {},
   "source": [
    "Double-click __here__ for the solution.\n",
    "\n",
    "<!-- Your answer is below:\n",
    "\n",
    "Answer: C\n",
    "--> "
   ]
  },
  {
   "cell_type": "markdown",
   "metadata": {},
   "source": [
    "<h2 id=\"int\"> Question 6   </h2>\n",
    "\n",
    "What is the output of executing the following line of Julia code:\n",
    "\n",
    "println((\"Hello!\" * \" My word! \")^2)\n",
    "\n",
    "\n",
    "\n",
    "a. (Hello! * My word!)^2\n",
    " \n",
    "b. 0\n",
    "\n",
    "c. Invalid number\n",
    "\n",
    "d. Hello! My word! Hello! My word!\n",
    "\n",
    "    \n",
    "  "
   ]
  },
  {
   "cell_type": "markdown",
   "metadata": {},
   "source": [
    "Double-click __here__ for the solution.\n",
    "\n",
    "<!-- Your answer is below:\n",
    "    \n",
    "println((\"Hello!\" * \" My word! \")^2)\n",
    "Hello! My word! Hello! My word! \n",
    "\n",
    "Answer: D\n",
    "--> "
   ]
  },
  {
   "cell_type": "markdown",
   "metadata": {},
   "source": [
    "<h2 id=\"int\"> Question 7   </h2>\n",
    "\n",
    "How does one get help on a Julia function from a cell in Jupyter notebooks?\n",
    "\n",
    "a. Type and shift-enter the function, and give it the argument \"-help\", for example to get help on the sin function, type \"sin(-help)\" and hit shift-enter\n",
    "\n",
    "b. Type ? followed by the name of the function, without parentheses, then hit shift-enter\n",
    "\n",
    "c. Type and shift-enter \"help function-name\", replacing \"function-name\" with the name of the function on which you want to see the help.\n",
    "\n",
    "d. Type and shift-enter \"help\" and then at the prompt type and shift-enter the command name.\n",
    " "
   ]
  },
  {
   "cell_type": "markdown",
   "metadata": {},
   "source": [
    "Double-click __here__ for the solution.\n",
    "\n",
    "<!-- Your answer is below:\n",
    "\n",
    "? cos\n",
    "\n",
    "Answer: B\n",
    "--> "
   ]
  },
  {
   "cell_type": "code",
   "execution_count": null,
   "metadata": {},
   "outputs": [],
   "source": []
  },
  {
   "cell_type": "code",
   "execution_count": null,
   "metadata": {},
   "outputs": [],
   "source": []
  }
 ],
 "metadata": {
  "kernelspec": {
   "display_name": "Julia 1.4.2",
   "language": "julia",
   "name": "julia-1.4"
  },
  "language_info": {
   "file_extension": ".jl",
   "mimetype": "application/julia",
   "name": "julia",
   "version": "1.4.2"
  }
 },
 "nbformat": 4,
 "nbformat_minor": 2
}
