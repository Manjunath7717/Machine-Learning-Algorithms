{
 "cells": [
  {
   "cell_type": "markdown",
   "metadata": {},
   "source": [
    "# WEEK 1"
   ]
  },
  {
   "cell_type": "markdown",
   "metadata": {},
   "source": [
    "# 3. Julia Type And Arrays"
   ]
  },
  {
   "cell_type": "markdown",
   "metadata": {},
   "source": [
    "<hr>\n",
    "<h2 id=\"int\"> Outcome. </h2>"
   ]
  },
  {
   "cell_type": "markdown",
   "metadata": {},
   "source": [
    "1. Say what types are from the point of view of a computer language.\n",
    "2. Use the type of function to determine the type of value.\n",
    "3. Describe Julia's tree of types in terms of abstract and concrete types. \n",
    "4. Describe the types Char and String and the types Int64 and Float64."
   ]
  },
  {
   "cell_type": "markdown",
   "metadata": {},
   "source": [
    "<h2 id=\"int\"> \"You can almost always ignore types when you write Julia code.\"  </h2>"
   ]
  },
  {
   "cell_type": "markdown",
   "metadata": {},
   "source": [
    "Julia has a totally amazing type system. It's part of what makes it such a unique language. But one of the nicest things is that you can ignore it if you like, and people often do, because it enables one to write code very fast just to explore an idea. However, sometimes such code runs slowly despite Julia being a very fast language and then you have to tweak it to get the types right."
   ]
  },
  {
   "cell_type": "markdown",
   "metadata": {},
   "source": [
    "<h2 id=\"int\">  Type are formats of storing informations.</h2>"
   ]
  },
  {
   "cell_type": "markdown",
   "metadata": {},
   "source": [
    "we all know, in a computer, information is stored and moved around using only zeros and ones. So, we get long sequences of zeros and ones that look a bit like this."
   ]
  },
  {
   "cell_type": "markdown",
   "metadata": {},
   "source": [
    "So, every computer language has its own way of specifying the formats of information that it can use. You can't use anything else except information for which it has formats and those are its types and Julia also has a type system"
   ]
  },
  {
   "cell_type": "markdown",
   "metadata": {},
   "source": [
    "<h2 id=\"int\">  In Julia, only values have types. </h2> "
   ]
  },
  {
   "cell_type": "code",
   "execution_count": 1,
   "metadata": {},
   "outputs": [
    {
     "data": {
      "text/plain": [
       "9"
      ]
     },
     "execution_count": 1,
     "metadata": {},
     "output_type": "execute_result"
    }
   ],
   "source": [
    "1+3+5"
   ]
  },
  {
   "cell_type": "markdown",
   "metadata": {},
   "source": [
    "So, when we look at one, three and five, each of the one, three and five are symbols that stand for values. So, if we execute it, we get a nine and that is another value and each of them have a type. So, let's look at it"
   ]
  },
  {
   "cell_type": "markdown",
   "metadata": {},
   "source": [
    "It is easy to determine type in Julia, by using the built in function typeof()"
   ]
  },
  {
   "cell_type": "code",
   "execution_count": 2,
   "metadata": {},
   "outputs": [
    {
     "data": {
      "text/plain": [
       "Int64"
      ]
     },
     "execution_count": 2,
     "metadata": {},
     "output_type": "execute_result"
    }
   ],
   "source": [
    "typeof(1)"
   ]
  },
  {
   "cell_type": "code",
   "execution_count": 3,
   "metadata": {},
   "outputs": [
    {
     "data": {
      "text/plain": [
       "Int64"
      ]
     },
     "execution_count": 3,
     "metadata": {},
     "output_type": "execute_result"
    }
   ],
   "source": [
    "typeof(1+3+5)"
   ]
  },
  {
   "cell_type": "code",
   "execution_count": 4,
   "metadata": {},
   "outputs": [
    {
     "data": {
      "text/plain": [
       "String"
      ]
     },
     "execution_count": 4,
     "metadata": {},
     "output_type": "execute_result"
    }
   ],
   "source": [
    "typeof(\"Hello Julia\")"
   ]
  },
  {
   "cell_type": "code",
   "execution_count": 5,
   "metadata": {},
   "outputs": [
    {
     "data": {
      "text/plain": [
       "String"
      ]
     },
     "execution_count": 5,
     "metadata": {},
     "output_type": "execute_result"
    }
   ],
   "source": [
    "typeof(\"@\")"
   ]
  },
  {
   "cell_type": "code",
   "execution_count": 6,
   "metadata": {},
   "outputs": [
    {
     "data": {
      "text/plain": [
       "String"
      ]
     },
     "execution_count": 6,
     "metadata": {},
     "output_type": "execute_result"
    }
   ],
   "source": [
    "typeof(\"h\")"
   ]
  },
  {
   "cell_type": "code",
   "execution_count": 7,
   "metadata": {},
   "outputs": [
    {
     "data": {
      "text/plain": [
       "Char"
      ]
     },
     "execution_count": 7,
     "metadata": {},
     "output_type": "execute_result"
    }
   ],
   "source": [
    "typeof('h')"
   ]
  },
  {
   "cell_type": "code",
   "execution_count": 8,
   "metadata": {},
   "outputs": [
    {
     "data": {
      "text/plain": [
       "Float64"
      ]
     },
     "execution_count": 8,
     "metadata": {},
     "output_type": "execute_result"
    }
   ],
   "source": [
    "typeof(1+3+5.5)"
   ]
  },
  {
   "cell_type": "markdown",
   "metadata": {},
   "source": [
    "<h2 id=\"int\"> Julia is very sensitive to type: every single bit of work it does is done in terms of types. </h2>"
   ]
  },
  {
   "cell_type": "markdown",
   "metadata": {},
   "source": [
    "You need not worry about types at all, because Julia will automatically assign types to any values that you create. But if you want, you can specify in great detail what you want done about types. You can even extend Julia's type system with your own user-defined types and their equivalent to both in types"
   ]
  },
  {
   "cell_type": "markdown",
   "metadata": {},
   "source": [
    "# The Type Char and String"
   ]
  },
  {
   "cell_type": "markdown",
   "metadata": {},
   "source": [
    "So, as we've seen, a String is a sequence of characters. So, for languages using the roman letters, all of the necessary characters are on a standard English keyboard, and so you just type them in. But there are also alphabetic characters that you don't want to, that you don't get on your keyboard"
   ]
  },
  {
   "cell_type": "markdown",
   "metadata": {},
   "source": [
    "Such characters are available via Unicode. So, how do you enter them in Julia? So, here is alpha and beta, and let's enter, let's say, plus-minus."
   ]
  },
  {
   "cell_type": "code",
   "execution_count": 9,
   "metadata": {},
   "outputs": [
    {
     "name": "stdout",
     "output_type": "stream",
     "text": [
      "\u0007lpha(tab)\n"
     ]
    }
   ],
   "source": [
    "println(\"\\alpha(tab)\")"
   ]
  },
  {
   "cell_type": "code",
   "execution_count": 10,
   "metadata": {},
   "outputs": [
    {
     "name": "stdout",
     "output_type": "stream",
     "text": [
      "αγ±\n"
     ]
    }
   ],
   "source": [
    "println(\"αγ±\")"
   ]
  },
  {
   "cell_type": "code",
   "execution_count": 11,
   "metadata": {},
   "outputs": [
    {
     "data": {
      "text/plain": [
       "Char"
      ]
     },
     "execution_count": 11,
     "metadata": {},
     "output_type": "execute_result"
    }
   ],
   "source": [
    "typeof('α')"
   ]
  },
  {
   "cell_type": "markdown",
   "metadata": {},
   "source": [
    "All of these characters individually, so the alpha, the beta, the plus-minus, they are all of type Char because they're all part of UTF8. \n",
    "\n",
    "https://github.com/JuliaString"
   ]
  },
  {
   "cell_type": "markdown",
   "metadata": {},
   "source": [
    "# The Type BOOL"
   ]
  },
  {
   "cell_type": "markdown",
   "metadata": {},
   "source": [
    "It's short for Boolean, which is named after George Boole. He was the one who started the idea that logic could be presented in terms of the values true and false, and that could be operated on almost like algebra. He invented this way of doing logical calculations"
   ]
  },
  {
   "cell_type": "markdown",
   "metadata": {},
   "source": [
    "Type only has to represent these two values, and so it's extremely simple. Some computer languages, it needs only one bit, which is either zero or one, but in Julia, it has to be eight bits because Julia cannot use fewer than eight bits to represent the value."
   ]
  },
  {
   "cell_type": "code",
   "execution_count": 12,
   "metadata": {},
   "outputs": [
    {
     "data": {
      "text/plain": [
       "Bool"
      ]
     },
     "execution_count": 12,
     "metadata": {},
     "output_type": "execute_result"
    }
   ],
   "source": [
    "typeof(true)"
   ]
  },
  {
   "cell_type": "markdown",
   "metadata": {},
   "source": [
    "# The Type Int64 and Float64"
   ]
  },
  {
   "cell_type": "markdown",
   "metadata": {},
   "source": [
    "So the types Int and Float64, most scientific computing is done using these two number types. There are many others, and they do get used, especially if you want to use numbers with extreme efficiency, then you want to maybe use a few more types of these. In particular, Float64 is a floating point format. "
   ]
  },
  {
   "cell_type": "code",
   "execution_count": 13,
   "metadata": {},
   "outputs": [
    {
     "data": {
      "text/plain": [
       "Int64"
      ]
     },
     "execution_count": 13,
     "metadata": {},
     "output_type": "execute_result"
    }
   ],
   "source": [
    "typeof(2)"
   ]
  },
  {
   "cell_type": "code",
   "execution_count": 14,
   "metadata": {},
   "outputs": [
    {
     "data": {
      "text/plain": [
       "Float64"
      ]
     },
     "execution_count": 14,
     "metadata": {},
     "output_type": "execute_result"
    }
   ],
   "source": [
    "typeof(2.)"
   ]
  },
  {
   "cell_type": "markdown",
   "metadata": {},
   "source": [
    "This explains why 1 + 2 + 5 point, has a type of Float64, although Int64 is the type of one and three. This is a mixture of types, Int64, Int64, and then a Float64. So before you do the calculation, that have all to be of the same type because the computer cannot handle the calculation unless they're all of the same time. So they're all converted to Float64. This is called promotion in Julia."
   ]
  },
  {
   "cell_type": "code",
   "execution_count": 15,
   "metadata": {},
   "outputs": [
    {
     "data": {
      "text/plain": [
       "true"
      ]
     },
     "execution_count": 15,
     "metadata": {},
     "output_type": "execute_result"
    }
   ],
   "source": [
    "2.0 == 2"
   ]
  },
  {
   "cell_type": "code",
   "execution_count": 16,
   "metadata": {},
   "outputs": [
    {
     "data": {
      "text/plain": [
       "false"
      ]
     },
     "execution_count": 16,
     "metadata": {},
     "output_type": "execute_result"
    }
   ],
   "source": [
    "2 < 3/2"
   ]
  },
  {
   "cell_type": "markdown",
   "metadata": {},
   "source": [
    "# Variables in Julia"
   ]
  },
  {
   "cell_type": "markdown",
   "metadata": {},
   "source": [
    "<h2 id=\"int\"> Variables in Julia have a name, a value, and a type. </h2>"
   ]
  },
  {
   "cell_type": "markdown",
   "metadata": {},
   "source": [
    "<h2 id=\"int\"> Outcome       </h2>"
   ]
  },
  {
   "cell_type": "markdown",
   "metadata": {},
   "source": [
    "1. To describe array types, and say how to create values using the type function array.\n",
    "2. How to access the values in an array, you will be able to say how a variable gets its value.\n",
    "3. To say exactly how a variable is structured.\n",
    "4. Determine the type of a variable.\n",
    "5. Say why variables unlike values can have abstract type.\n",
    "6. To use square brackets to access the elements of an array."
   ]
  },
  {
   "cell_type": "markdown",
   "metadata": {},
   "source": [
    "# Arrays Type"
   ]
  },
  {
   "cell_type": "markdown",
   "metadata": {},
   "source": [
    "Julia has superb support for arrays."
   ]
  },
  {
   "cell_type": "markdown",
   "metadata": {},
   "source": [
    "You can easily create multidimensional arrays. For example, if you give the code array curly braces Int64 parentheses undef comma three, close the parenthesis, that creates a three by one array of integers."
   ]
  },
  {
   "cell_type": "code",
   "execution_count": 17,
   "metadata": {},
   "outputs": [
    {
     "data": {
      "text/plain": [
       "3-element Array{Int64,1}:\n",
       "   281474976710656\n",
       " 72057598332960768\n",
       "        4475961344"
      ]
     },
     "execution_count": 17,
     "metadata": {},
     "output_type": "execute_result"
    }
   ],
   "source": [
    "Array{Int64}(undef, 3)"
   ]
  },
  {
   "cell_type": "code",
   "execution_count": 18,
   "metadata": {},
   "outputs": [
    {
     "data": {
      "text/plain": [
       "3-element Array{Any,1}:\n",
       " #undef\n",
       " #undef\n",
       " #undef"
      ]
     },
     "execution_count": 18,
     "metadata": {},
     "output_type": "execute_result"
    }
   ],
   "source": [
    "#Array{String}(undef, 3)\n",
    "Array{Any}(undef, 3)"
   ]
  },
  {
   "cell_type": "markdown",
   "metadata": {},
   "source": [
    "<h2 id=\"int\"> Assignment: How variables get there values       </h2>"
   ]
  },
  {
   "cell_type": "markdown",
   "metadata": {},
   "source": [
    "The assignment operator is - "
   ]
  },
  {
   "cell_type": "code",
   "execution_count": 19,
   "metadata": {},
   "outputs": [
    {
     "data": {
      "text/plain": [
       "\" hello world\""
      ]
     },
     "execution_count": 19,
     "metadata": {},
     "output_type": "execute_result"
    }
   ],
   "source": [
    "greeting=\" hello world\""
   ]
  },
  {
   "cell_type": "code",
   "execution_count": 20,
   "metadata": {},
   "outputs": [
    {
     "name": "stdout",
     "output_type": "stream",
     "text": [
      " hello world\n"
     ]
    }
   ],
   "source": [
    "println(greeting)"
   ]
  },
  {
   "cell_type": "markdown",
   "metadata": {},
   "source": [
    "So you have to be very careful when you assign a value to a variable. You use a single equals malloc, and not a double equals sign, because that is for a comparison. It's unfortunately this similarity has been inherited from many other languages and it's the source of very very many bugs. But basically, this assignment is what Julia doesn't even in a situation like that, that we have here, where we don't actually see an equals sign under the hood. Julia is in fact doing assignments in exactly the same way. \n",
    "\n",
    "So if we use an assignment, the value of the expression on the right is bound to the name on the left. So a equals five, can be read if you'd like as the variable a takes the value five, and if we say a equals b ,then we say the variable a takes the value of the variable b."
   ]
  },
  {
   "cell_type": "markdown",
   "metadata": {},
   "source": [
    "Valid Variable Name:"
   ]
  },
  {
   "cell_type": "code",
   "execution_count": 21,
   "metadata": {},
   "outputs": [
    {
     "data": {
      "text/plain": [
       "2-element Array{Int64,1}:\n",
       " 3\n",
       " 4"
      ]
     },
     "execution_count": 21,
     "metadata": {},
     "output_type": "execute_result"
    }
   ],
   "source": [
    "a=3\n",
    "b=4\n",
    "[a,b]       #another way to make 1D array."
   ]
  },
  {
   "cell_type": "code",
   "execution_count": 22,
   "metadata": {},
   "outputs": [
    {
     "data": {
      "text/plain": [
       "\"short string \""
      ]
     },
     "execution_count": 22,
     "metadata": {},
     "output_type": "execute_result"
    }
   ],
   "source": [
    "variable_name=\"short string \""
   ]
  },
  {
   "cell_type": "code",
   "execution_count": 23,
   "metadata": {},
   "outputs": [
    {
     "ename": "LoadError",
     "evalue": "syntax: \"<\" is not a unary operator",
     "output_type": "error",
     "traceback": [
      "syntax: \"<\" is not a unary operator",
      ""
     ]
    }
   ],
   "source": [
    "<h2 id=\"int\"> Three Part of the Julia variables      </h2>"
   ]
  },
  {
   "cell_type": "markdown",
   "metadata": {},
   "source": [
    "The Julia variable as we have seen has a name and a value, and the assignment operator, binds the name to the value."
   ]
  },
  {
   "cell_type": "markdown",
   "metadata": {},
   "source": [
    "But as it does, so it has to also convey information about the type. In Julia, only values have types, and so what does it mean to say that a variable has a type?\n",
    "\n",
    "Well, if a variable has a definite concrete value, it's a concrete type, then it's easy to say that the type of the variable is the type of its value. \n",
    "\n",
    "But, often want to refer to a variable, only by its name without knowing its value, and it may even be that the value has not yet been created or what would be the same thing is not yet loaded. So when we type the command printlin greeting, then we use the function printed. That is created long ago, long before the variable greeting was created, and so when this function was written, the value of greeting was not known. \n",
    "\n",
    "So it was possible to write the function without knowing the value of greeting. Actually this function was written knowing that whatever that variable is going to be, is going to be a string. So if you know a variable only by its name and you know nothing else about it, then it must have the abstract type, any bit because could be any possible type"
   ]
  },
  {
   "cell_type": "markdown",
   "metadata": {},
   "source": [
    "So if a variable is of abstract type, then before it is used in the computation, it must be given a value, or there would be an error."
   ]
  },
  {
   "cell_type": "markdown",
   "metadata": {},
   "source": [
    "Example of variable created as abstarct type"
   ]
  },
  {
   "cell_type": "code",
   "execution_count": 24,
   "metadata": {},
   "outputs": [
    {
     "data": {
      "text/plain": [
       "2×3 Array{Integer,2}:\n",
       " #undef  #undef  #undef\n",
       " #undef  #undef  #undef"
      ]
     },
     "execution_count": 24,
     "metadata": {},
     "output_type": "execute_result"
    }
   ],
   "source": [
    "abstracttypevariable = Array{Integer}(undef, 2, 3)   # 2D array with 2 rows and 3 column"
   ]
  },
  {
   "cell_type": "code",
   "execution_count": 25,
   "metadata": {},
   "outputs": [
    {
     "data": {
      "text/plain": [
       "Array{Integer,2}"
      ]
     },
     "execution_count": 25,
     "metadata": {},
     "output_type": "execute_result"
    }
   ],
   "source": [
    "typeof(abstracttypevariable)"
   ]
  },
  {
   "cell_type": "code",
   "execution_count": 26,
   "metadata": {},
   "outputs": [
    {
     "ename": "UndefRefError",
     "evalue": "UndefRefError: access to undefined reference",
     "output_type": "error",
     "traceback": [
      "UndefRefError: access to undefined reference",
      "",
      "Stacktrace:",
      " [1] getindex(::Array{Integer,2}, ::Int64, ::Int64) at ./array.jl:789",
      " [2] top-level scope at In[26]:1"
     ]
    }
   ],
   "source": [
    "abstracttypevariable[2,1]      #how to access the  elements of array"
   ]
  },
  {
   "cell_type": "markdown",
   "metadata": {},
   "source": [
    "However, we can assign the value to the single element like"
   ]
  },
  {
   "cell_type": "code",
   "execution_count": 27,
   "metadata": {},
   "outputs": [
    {
     "data": {
      "text/plain": [
       "1"
      ]
     },
     "execution_count": 27,
     "metadata": {},
     "output_type": "execute_result"
    }
   ],
   "source": [
    "abstracttypevariable[1,1] = 1"
   ]
  },
  {
   "cell_type": "code",
   "execution_count": 28,
   "metadata": {},
   "outputs": [
    {
     "data": {
      "text/plain": [
       "2×3 Array{Integer,2}:\n",
       "   1     #undef  #undef\n",
       " #undef  #undef  #undef"
      ]
     },
     "execution_count": 28,
     "metadata": {},
     "output_type": "execute_result"
    }
   ],
   "source": [
    "abstracttypevariable"
   ]
  },
  {
   "cell_type": "code",
   "execution_count": 29,
   "metadata": {},
   "outputs": [
    {
     "data": {
      "text/plain": [
       "5.0"
      ]
     },
     "execution_count": 29,
     "metadata": {},
     "output_type": "execute_result"
    }
   ],
   "source": [
    "abstracttypevariable[1,2] = 5.0"
   ]
  },
  {
   "cell_type": "code",
   "execution_count": 30,
   "metadata": {},
   "outputs": [
    {
     "data": {
      "text/plain": [
       "2×3 Array{Integer,2}:\n",
       "   1       5     #undef\n",
       " #undef  #undef  #undef"
      ]
     },
     "execution_count": 30,
     "metadata": {},
     "output_type": "execute_result"
    }
   ],
   "source": [
    "abstracttypevariable"
   ]
  },
  {
   "cell_type": "code",
   "execution_count": 31,
   "metadata": {},
   "outputs": [
    {
     "ename": "MethodError",
     "evalue": "MethodError: Cannot `convert` an object of type String to an object of type Integer\nClosest candidates are:\n  convert(::Type{T}, !Matched::T) where T<:Number at number.jl:6\n  convert(::Type{T}, !Matched::Number) where T<:Number at number.jl:7\n  convert(::Type{T}, !Matched::Ptr) where T<:Integer at pointer.jl:23\n  ...",
     "output_type": "error",
     "traceback": [
      "MethodError: Cannot `convert` an object of type String to an object of type Integer\nClosest candidates are:\n  convert(::Type{T}, !Matched::T) where T<:Number at number.jl:6\n  convert(::Type{T}, !Matched::Number) where T<:Number at number.jl:7\n  convert(::Type{T}, !Matched::Ptr) where T<:Integer at pointer.jl:23\n  ...",
      "",
      "Stacktrace:",
      " [1] setindex!(::Array{Integer,2}, ::String, ::Int64, ::Int64) at ./array.jl:828",
      " [2] top-level scope at In[31]:1"
     ]
    }
   ],
   "source": [
    "abstracttypevariable[2,1] = \"string\"  #string cannot be converted into integer"
   ]
  },
  {
   "cell_type": "code",
   "execution_count": 32,
   "metadata": {},
   "outputs": [
    {
     "data": {
      "text/plain": [
       "2×3 Array{Int64,2}:\n",
       " 4566560400  4566560464  4566560528\n",
       " 4566560432  4566560496          -1"
      ]
     },
     "execution_count": 32,
     "metadata": {},
     "output_type": "execute_result"
    }
   ],
   "source": [
    "arbconcretvariable = Array{Int64}(undef, 2, 3) "
   ]
  },
  {
   "cell_type": "markdown",
   "metadata": {},
   "source": [
    "# You can almost always ignore types when you write Julia code. "
   ]
  },
  {
   "cell_type": "markdown",
   "metadata": {},
   "source": [
    "# Practice Quiz"
   ]
  },
  {
   "cell_type": "markdown",
   "metadata": {},
   "source": [
    "\n",
    "<h2 id=\"int\"> Question 1      </h2>\n",
    "\n",
    "If, while writing Julia code, you do not pay careful attention to types, what might happen?\n",
    "\n",
    "a. Nothing much, the code should still run.\n",
    "\n",
    "b. You may get error messages referring to mismatched types while running code\n",
    "\n",
    "c. Although you may not get error messages, it is likely that your code will run quite a lot slower than the best possible speed in Julia.\n",
    "\n",
    "d. It is impossible to write Julia code without specifying the type of each value in each calculation.\n",
    "\n",
    "e. Your code is unlikely to run and no error message will be given\n",
    "\n",
    "\n",
    "\n",
    "\n",
    "\n",
    "\n",
    "\n",
    "                            \n",
    "\n",
    "\n"
   ]
  },
  {
   "cell_type": "markdown",
   "metadata": {},
   "source": [
    "Double-click __here__ for the solution.\n",
    "\n",
    "<!-- Your answer is below:  \n",
    "    \n",
    "Answer: A, B, and C\n",
    "-->"
   ]
  },
  {
   "cell_type": "markdown",
   "metadata": {},
   "source": [
    "<h2 id=\"int\"> Question 2     </h2>\n",
    "\n",
    "Which of the following would be valid type names in Julia, according to Julia’s naming conventions? Check all that are valid Julia type names.\n",
    "\n",
    "a. Cake\n",
    "\n",
    "b. coffee\n",
    "\n",
    "c. String"
   ]
  },
  {
   "cell_type": "markdown",
   "metadata": {},
   "source": [
    "Double-click __here__ for the solution.\n",
    "\n",
    "<!-- Your answer is below:\n",
    "  \n",
    "    \n",
    "Answer: B and C\n",
    "-->"
   ]
  },
  {
   "cell_type": "markdown",
   "metadata": {},
   "source": [
    "<h2 id=\"int\"> Question 3     </h2>\n",
    "\n",
    "What does the following evaluate to?\n",
    "\n",
    "'a'===\"a\" \n",
    "\n",
    "a. false\n",
    "\n",
    "b. true\n",
    "\n",
    "c. syntax: invalid character \"‘\""
   ]
  },
  {
   "cell_type": "markdown",
   "metadata": {},
   "source": [
    "Double-click __here__ for the solution.\n",
    "\n",
    "<!-- Your answer is below:\n",
    "'a'===\"a\" \n",
    "    \n",
    "false   \n",
    "    \n",
    "Answer: A\n",
    "-->"
   ]
  },
  {
   "cell_type": "markdown",
   "metadata": {},
   "source": [
    "<h2 id=\"int\"> Question 4    </h2>\n",
    "\n",
    "How many elements does an array of type Array{Float64, 3} have?\n",
    "\n",
    "a. 1\n",
    "\n",
    "b. 3\n",
    "\n",
    "c. 3.0\n",
    "\n",
    "d. Cannot tell from the given information"
   ]
  },
  {
   "cell_type": "markdown",
   "metadata": {},
   "source": [
    "Double-click __here__ for the solution.\n",
    "\n",
    "<!-- Your answer is below:\n",
    "Array{Float64, 3}\n",
    "      \n",
    "Answer: D\n",
    "-->"
   ]
  },
  {
   "cell_type": "markdown",
   "metadata": {},
   "source": [
    "<h2 id=\"int\"> Question 5     </h2>\n",
    "\n",
    "Array[a,b] accesses which element of the array?\n",
    "\n",
    "Note: Julia uses 1 based indexing for accessing array elements. This means that if we have e.g. testarray=[3,7], running testarray[1] will return the first element in the array (i.e. 3). However, in many other programming languages such as C, C++, Python, and Java etc, 0 based indexing is used. For example, in those languages testarray[0] would return the first element, and testarray[1] would return the second element.\n",
    "\n",
    "a. a-th column and b-th row\n",
    "\n",
    "b. a-th row, b-th column\n",
    "\n",
    "c. (a-1)th column and (b-1)th row\n",
    "\n",
    "d. (a-1)th row and (b-1)th column"
   ]
  },
  {
   "cell_type": "markdown",
   "metadata": {},
   "source": [
    "Double-click __here__ for the solution.\n",
    "\n",
    "<!-- Your answer is below:\n",
    "      \n",
    "Answer: B\n",
    "-->"
   ]
  },
  {
   "cell_type": "markdown",
   "metadata": {},
   "source": [
    "<h2 id=\"int\"> Question 6     </h2>\n",
    "\n",
    "The code fragment\n",
    "\n",
    "x = Array{Int64}(undef,11, 12) \n",
    "                                    \n",
    "creates a variable x. Which two of the following statements describe the result of executing typeof(x).\n",
    "\n",
    "a.The statement has no result\n",
    "\n",
    "b. Array{Int64, 2}\n",
    "\n",
    "c. The result is a full statement of the type of x (in the case of an array),\n",
    "\n",
    "d. The undefined x variable is passed to the function typeof().\n",
    "\n"
   ]
  },
  {
   "cell_type": "markdown",
   "metadata": {},
   "source": [
    "Double-click __here__ for the solution.\n",
    "\n",
    "<!-- Your answer is below:\n",
    "typeof(x)\n",
    "Array{Int64,2}\n",
    "    \n",
    "Answer: B and C\n",
    "-->"
   ]
  },
  {
   "cell_type": "code",
   "execution_count": null,
   "metadata": {},
   "outputs": [],
   "source": []
  },
  {
   "cell_type": "code",
   "execution_count": null,
   "metadata": {},
   "outputs": [],
   "source": []
  }
 ],
 "metadata": {
  "kernelspec": {
   "display_name": "Julia 1.4.2",
   "language": "julia",
   "name": "julia-1.4"
  },
  "language_info": {
   "file_extension": ".jl",
   "mimetype": "application/julia",
   "name": "julia",
   "version": "1.4.2"
  }
 },
 "nbformat": 4,
 "nbformat_minor": 2
}
