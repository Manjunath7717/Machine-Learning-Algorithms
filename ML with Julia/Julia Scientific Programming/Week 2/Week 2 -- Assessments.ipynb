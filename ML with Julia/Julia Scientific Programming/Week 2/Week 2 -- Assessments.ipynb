{
 "cells": [
  {
   "cell_type": "markdown",
   "metadata": {},
   "source": [
    "# Week 2 - Graded Quiz"
   ]
  },
  {
   "cell_type": "markdown",
   "metadata": {},
   "source": [
    "<h2 id=\"int\"> Question 1     </h2>\n",
    "\n",
    "The Julia function DateTime() is used to constructs a date and time value. This is stored internally and can be used to perform date calculations.\n",
    "\n",
    "Assume the the variable my_date is assigned this date as follows:\n",
    "\n",
    "my_date = \"Oct 11 2016\" \n",
    "    \n",
    "Which of the following lines of Julia code returns the correct date and time given the string \"Oct 11 2016\"?\n",
    "\n",
    "a. using Dates\n",
    "\n",
    "   Dates.DateTime(my_date, 'u', 'd', 'y')\n",
    "\n",
    "b. using Dates\n",
    "\n",
    "   Dates.DateTime(my_date, \"u d y\")\n",
    "\n",
    "\n",
    "c. using Dates\n",
    "\n",
    "   Dates.DateTime(my_date, \"d y u\")\n",
    "\n",
    "\n",
    "d. using Dates\n",
    "\n",
    "   Dates.DateTime(my_date, \"m d y\")"
   ]
  },
  {
   "cell_type": "markdown",
   "metadata": {},
   "source": [
    "Double-click __here__ for the solution.\n",
    "\n",
    "<!-- Your answer is below:\n",
    "my_date = \"Oct 11 2016\"\n",
    "using Dates\n",
    "Dates.DateTime(my_date, \"u d y\")\n",
    "2016-10-11T00:00:00    \n",
    "Answer: B \n",
    "-->"
   ]
  },
  {
   "cell_type": "markdown",
   "metadata": {},
   "source": [
    "<h2 id=\"int\"> Question 2     </h2>\n",
    "\n",
    "Suppose you open a Julia Notebook and import the Ebola data with the command\n",
    "\n",
    "indata = readdlm(\"wikipediaEVDdatesconverted.csv\", ',')\n",
    "\n",
    "where wikipediaEVDdatesconverted.csv refers to the file used in the course lecture videos (can be downloaded together with the course Notebooks).\n",
    "\n",
    "How should we characterise the variable indata?\n",
    "\n",
    "a. it is an array of number strings\n",
    "\n",
    "b. it is an array of integers\n",
    "\n",
    "c. it is a variable which contains strings that represent numbers\n",
    "\n",
    "d. it is a variable which contains the file 'wikipediaEVDdatesconverted.csv'\n",
    "\n",
    "e. it is a variable name and refers to a 54 by 9 array of type Any"
   ]
  },
  {
   "cell_type": "markdown",
   "metadata": {},
   "source": [
    "Double-click __here__ for the solution.\n",
    "\n",
    "<!-- Your answer is below:\n",
    "using DelimitedFiles\n",
    "indata = DelimitedFiles.readdlm(\"wikipediaEVDdatesconverted.csv\", ',')\n",
    "54×9 Array{Any,2}:   \n",
    "Answer: E \n",
    "-->"
   ]
  },
  {
   "cell_type": "markdown",
   "metadata": {},
   "source": [
    "<h2 id=\"int\"> Question 3     </h2>\n",
    "\n",
    "Suppose you load a file with the function statement\n",
    "\n",
    "newvar = readdlm(\"datafile.csv\", ',') # needs updating\n",
    "and the first two lines of the output read as follows:\n",
    "\n",
    "\n",
    "Which of the following lines of code add the value in row 1, column 1 to the value in row 2, column 2? Select all that are correct. There are more than one correct answers.\n",
    "\n",
    "a. diagsum = newvar(1,1) + newvar(2,2)\n",
    "\n",
    "b. diagsum = 0\n",
    "    \n",
    "for k = 1:2\n",
    "        \n",
    "  diagsum = diagsum + newvar[k,k]\n",
    "        \n",
    "end\n",
    "\n",
    "c. diagsum = newvar[1,1] + newvar[2,2]\n",
    "\n",
    "d. diagsum = sum(newvar[1:2, 1:2])"
   ]
  },
  {
   "cell_type": "markdown",
   "metadata": {},
   "source": [
    "Double-click __here__ for the solution.\n",
    "\n",
    "<!-- Your answer is below:\n",
    "using DelimitedFiles\n",
    "newvar = DelimitedFiles.readdlm(\"wikipediaEVDdatesconverted.csv\", ',')\n",
    "diagsum = 0\n",
    "    \n",
    "for k = 1:2\n",
    "        \n",
    "  diagsum = diagsum + newvar[k,k]\n",
    "        \n",
    "end\n",
    "diagsum\n",
    "29247\n",
    "diagsum = newvar[1,1] + newvar[2,2]\n",
    "29247\n",
    "Answer: B and C \n",
    "-->"
   ]
  },
  {
   "cell_type": "markdown",
   "metadata": {},
   "source": [
    "<h2 id=\"int\"> Question 4    </h2>\n",
    "\n",
    "Suppose the file litsampling.dat contains just the following two lines:\n",
    "\n",
    "<img src=\"_fPEDII0EeaxYA6oVw19Xw_6b1cafc7314f6e2b1d3048519a5c0842_litsampling.png\" alt=\"(Screenshot of wikipedia table of WA EVD cases)\">\n",
    "\n",
    "Which of the following accurately reflects the outcome of the Julia code fragment below?\n",
    "\n",
    "litsamp = readdlm(\"litsampling.dat\", ' ') # needs updating\n",
    "\n",
    "a. Noting that strings are converted to integers (perhaps very large), and that there are two commas in each line, litsamp is a 2 x 3 array of type Integer.\n",
    "\n",
    "b. litsamp is a 2 x 4 array of type String\n",
    "\n",
    "c. litsamp is a 2 x 6 array of type Any\n",
    "\n",
    "d. litsamp is a 2 x 10 array of type Any\n",
    "\n",
    "e. litsamp is a 2 x 6 array of type String"
   ]
  },
  {
   "cell_type": "markdown",
   "metadata": {},
   "source": [
    "Double-click __here__ for the solution.\n",
    "\n",
    "<!-- Your answer is below:\n",
    "using DelimitedFiles\n",
    "litsamp = DelimitedFiles.readdlm(\"litsampling.dat\", ' ')\n",
    "Answer:   C\n",
    "-->"
   ]
  },
  {
   "cell_type": "markdown",
   "metadata": {},
   "source": [
    "<h2 id=\"int\"> Question 5     </h2>\n",
    "\n",
    "What line of Julia code is used to add the package Plots to your Julia installation?\n",
    "\n",
    "\n",
    "a. Pkg.use(\"Plots\")\n",
    "\n",
    "b. Pkg.add(\"Plots\")\n",
    "\n",
    "c.using Plots\n",
    "\n",
    "gr()\n",
    "\n",
    "d. using Plots\n",
    "\n",
    "e. Pkg.add(Plots)"
   ]
  },
  {
   "cell_type": "markdown",
   "metadata": {},
   "source": [
    "Double-click __here__ for the solution.\n",
    "\n",
    "<!-- Your answer is below:\n",
    "using Pkg\n",
    "Pkg.add(\"Plots\")    \n",
    "Answer:   B\n",
    "-->"
   ]
  },
  {
   "cell_type": "markdown",
   "metadata": {},
   "source": [
    "<h2 id=\"int\"> Question 6     </h2>\n",
    "\n",
    "Suppose you have three variables: epidemic_day, num_cases_liberia and num_cases_guinea and you are using Julia's Plots package. Which of the following will plot on one set of axes two curves, one showing num_cases_liberia versus epidemic_day and the other showing num_cases_guinea versus epidemic_day?\n",
    "\n",
    "\n",
    "a. plot(epidemic_day, [num_cases_liberia num_cases_guinea])\n",
    "\n",
    "b. plot(epidemic_day, [num_cases_liberia; num_cases_guinea])\n",
    "\n",
    "c. plot(epidemic_day, [num_cases_liberia, num_cases_guinea])\n",
    "\n",
    "d. plot(epidemic_day, num_cases_liberia); plot(epidemic_day, num_cases_guinea)\n",
    "\n",
    "e. plot(epidemic_day, num_cases_liberia, num_cases_guinea)"
   ]
  },
  {
   "cell_type": "markdown",
   "metadata": {},
   "source": [
    "Double-click __here__ for the solution.\n",
    "\n",
    "<!-- Your answer is below:\n",
    " plot(epidemic_day, [num_cases_liberia, num_cases_guinea])   \n",
    "Answer:   C\n",
    "-->"
   ]
  },
  {
   "cell_type": "markdown",
   "metadata": {},
   "source": [
    "<h2 id=\"int\"> Question 7     </h2>\n",
    "\n",
    "Consider the following code:\n",
    "\n",
    "using Plots\n",
    "\n",
    "pyplot()\n",
    "\n",
    "x = collect(1:7)\n",
    "\n",
    "y(x) = 2 - 2x + x^2/4\n",
    "\n",
    "plot(x,y.(x))\n",
    "\n",
    "plot!(x, y.(x), marker = :diamond, linewidth=2)\n",
    "\n",
    "plot!(title = \"Sample plot\", leg=false)\n",
    "\n",
    "Note that collect(1:7) makes a vector of integers out of the range 1:7, and that y is then the values of a quadratic at these points.\n",
    "\n",
    "Which of the descriptions of how the plot is constructed is correct?\n",
    "\n",
    "\n",
    "a. The first two plot statements do nothing, they just set up the plot values. The final plot statement actually draws the figure.\n",
    "\n",
    "b. The first plot() statement draws a figure with a basic line. Then the plot!() statements successively modify it, in four stages: first to a line with markers at the data points, then to a thicker line, then it adds the title and finally it removes the legend.\n",
    "\n",
    "c. The plot starts with an empty figure, then the line is added, then the markers, then title is added and the legend removed.\n",
    "\n",
    "d. In the first plot() statement, a figure is drawn that has a piecewise straight line connecting the 7 points, and has a legend but nothing else. This figure is then modified with two plot!() commands. The first redoes the actual plotted line with a thicker linewidth and diamonds at each of the actual data points."
   ]
  },
  {
   "cell_type": "markdown",
   "metadata": {},
   "source": [
    "Double-click __here__ for the solution.\n",
    "\n",
    "<!-- Your answer is below:\n",
    "using Plots\n",
    "\n",
    "pyplot()\n",
    "\n",
    "x = collect(1:7)\n",
    "\n",
    "y(x) = 2 - 2x + x^2/4\n",
    "\n",
    "plot(x,y.(x))\n",
    "\n",
    "plot!(x, y.(x), marker = :diamond, linewidth=2)\n",
    "\n",
    "plot!(title = \"Sample plot\", leg=false)    \n",
    "Answer:   B\n",
    "-->"
   ]
  },
  {
   "cell_type": "markdown",
   "metadata": {},
   "source": [
    "\n",
    "\n",
    "<h2 id=\"int\"> Question 8     </h2>\n",
    "\n",
    "Consider the figure created using the Plots package.\n",
    "\n",
    "<img src=\"plot.png\" alt=\"(Screenshot of wikipedia table of WA EVD cases)\">\n",
    "\n",
    "using Plots\n",
    "\n",
    "gr() -- Activate the GR backend for use with Plots\n",
    "\n",
    "Which of the code fragments below could have generated it? More than one of the following options are correct. Specify all that are correct.\n",
    "\n",
    "a. x = [1 2 3 4 5 6]'\n",
    "\n",
    "y = (x.-3).^2/4\n",
    "\n",
    "plot(x,y, marker = :hex, leg=false)\n",
    "\n",
    "plot!(title=\"Plot for graded quiz\", linewidth = 2, linecolor=:black)\n",
    "\n",
    "b. x = [1, 2, 3, 4, 5, 6]\n",
    "\n",
    "y = (x.-3).^2/4\n",
    "\n",
    "plot(x,y, marker = :hex, leg=false, linewidth = 2, linecolor=:black)\n",
    "\n",
    "plot!(title=\"Plot for graded quiz\")\n",
    "\n",
    "c. x = [1 2 3 4 5 6]'\n",
    "\n",
    "y = (x.-3).^2/4\n",
    "\n",
    "plot(x,y, marker = :hex, leg=false, linewidth = 2, linecolor=:black)\n",
    "\n",
    "plot!(title=\"Plot for graded quiz\")\n",
    "\n",
    "d. x = [1 2 3 4 5 6]\n",
    "\n",
    "y = (x.-3).^2/4\n",
    "\n",
    "plot(x,y, marker = :hex, leg=false, linewidth = 2, linecolor=:black)\n",
    "\n",
    "plot!(title=\"Plot for graded quiz\")\n"
   ]
  },
  {
   "cell_type": "markdown",
   "metadata": {},
   "source": [
    "Double-click __here__ for the solution.\n",
    "\n",
    "<!-- Your answer is below:\n",
    "using Plots\n",
    "gr()\n",
    "x = [1, 2, 3, 4, 5, 6]\n",
    "y = (x.-3).^2/4\n",
    "plot(x,y, marker = :hex, leg=false, linewidth = 2, linecolor=:black)\n",
    "plot!(title=\"Plot for graded quiz\")    \n",
    "Answer:   B\n",
    "-->"
   ]
  },
  {
   "cell_type": "markdown",
   "metadata": {},
   "source": [
    "<h2 id=\"int\"> Question 9     </h2>\n",
    "\n",
    "Which of the following is needed for saving a figure to a .pdf file, assuming you are using the Plots package?\n",
    "\n",
    "\n",
    "a. First direct the display output to a pdf format before using the savefig() function to save the file.\n",
    "\n",
    "\n",
    "b. PDF is not supported as a format to save a figure to a file.\n",
    "\n",
    "\n",
    "c. Use the savefig() function, with a parameter string that gives the filename. For pdf output the filenames string ends with .pdf\n",
    "\n",
    "\n",
    "d. First convert the figure to pdf-compatible format before using the savefig() function to save the file."
   ]
  },
  {
   "cell_type": "markdown",
   "metadata": {},
   "source": [
    "Double-click __here__ for the solution.\n",
    "\n",
    "<!-- Your answer is below:\n",
    " savefig(\"L5testfig.pdf\")   \n",
    "Answer:   C\n",
    "-->"
   ]
  },
  {
   "cell_type": "code",
   "execution_count": null,
   "metadata": {},
   "outputs": [],
   "source": []
  },
  {
   "cell_type": "code",
   "execution_count": null,
   "metadata": {},
   "outputs": [],
   "source": []
  }
 ],
 "metadata": {
  "kernelspec": {
   "display_name": "Julia 1.4.2",
   "language": "julia",
   "name": "julia-1.4"
  },
  "language_info": {
   "file_extension": ".jl",
   "mimetype": "application/julia",
   "name": "julia",
   "version": "1.4.2"
  }
 },
 "nbformat": 4,
 "nbformat_minor": 2
}
