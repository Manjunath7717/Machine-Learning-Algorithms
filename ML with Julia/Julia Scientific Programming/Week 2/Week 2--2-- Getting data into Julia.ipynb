{
 "cells": [
  {
   "cell_type": "markdown",
   "metadata": {},
   "source": [
    "# Week 2\n",
    "\n",
    "# 2. Getting data into Julia"
   ]
  },
  {
   "cell_type": "markdown",
   "metadata": {},
   "source": [
    "# Loading data using Julia"
   ]
  },
  {
   "cell_type": "markdown",
   "metadata": {},
   "source": [
    "<h2>Outcome</h2>\n",
    "\n",
    "After this lecture, you will be able to\n",
    "- Find data on the West African EVD epidemic online\n",
    "- Use readdlm() to load data from a .csv file containing this data\n",
    "\n"
   ]
  },
  {
   "cell_type": "markdown",
   "metadata": {},
   "source": [
    "<h2>Wikipedia data on the West African EVD epidemic</h2>\n",
    "\n",
    "Wikipedia has many excellent articles on Ebola. We will be using one with fairly complete data on the timeline of cases: https://en.wikipedia.org/wiki/West_African_Ebola_virus_epidemic_timeline_of_reported_cases_and_deaths\n",
    "\n",
    "Go there now, please, and navigate until you see a table that looks like this:\n",
    "\n",
    "<img src=\"Week2_Lecture2_1-Wikipedia-EVD-cases.png\" alt=\"(Screenshot of wikipedia table of WA EVD cases)\">\n",
    "\n"
   ]
  },
  {
   "cell_type": "markdown",
   "metadata": {},
   "source": [
    "We have provided the data as a file named wikipediaEVDraw.csv. The \".csv\" extension indicates that it is a comma-separated file, and the \"raw\" in the filename indicates that the data are imported as is, without any changes.\n",
    "\n",
    "If you would like to learn how to create .csv files from tables on the web, please go the optional lecture \"How to export web tables to .csv files\"."
   ]
  },
  {
   "cell_type": "markdown",
   "metadata": {},
   "source": [
    "<h2>Using readdlm to load a .csv file</h2>\n",
    "\n",
    "Now we can start using Julia again. In a new notebook for you Week 2 Julia code, enter and execute the line below:"
   ]
  },
  {
   "cell_type": "code",
   "execution_count": 9,
   "metadata": {},
   "outputs": [
    {
     "data": {
      "text/plain": [
       "54×9 Array{Any,2}:\n",
       " \"25 Nov 2015\"  28637  11314  3804  2536  …  4808     14122     3955\n",
       " \"18 Nov 2015\"  28634  11314  3804  2536     4808     14122     3955\n",
       " \"11 Nov 2015\"  28635  11314  3805  2536     4808     14122     3955\n",
       " \"4 Nov 2015\"   28607  11314  3810  2536     4808     14089     3955\n",
       " \"25 Oct 2015\"  28539  11298  3806  2535     4808     14061     3955\n",
       " \"18 Oct 2015\"  28476  11298  3803  2535  …  4808     14001     3955\n",
       " \"11 Oct 2015\"  28454  11297  3800  2534     4808     13982     3955\n",
       " \"27 Sep 2015\"  28388  11296  3805  2533     4808     13911     3955\n",
       " \"20 Sep 2015\"  28295  11295  3800  2532     4808     13823     3955\n",
       " \"13 Sep 2015\"  28220  11291  3792  2530     4808     13756     3953\n",
       " \"6 Sep 2015\"   28147  11291  3792  2530  …  4808     13683     3953\n",
       " \"30 Aug 2015\"  28073  11290  3792  2529     4808     13609     3953\n",
       " \"16 Aug 2015\"  27952  11284  3786  2524     4808     13494     3952\n",
       " ⋮                                        ⋱                     \n",
       " \"9 Aug 2014\"    1835   1011   506   373      323       730      315\n",
       " \"30 Jul 2014\"   1437    825   472   346      227       574      252\n",
       " \"23 Jul 2014\"   1201    672   427   319      129       525      224\n",
       " \"14 Jul 2014\"    982    613   411   310  …   106       397      197\n",
       " \"2 Jul 2014\"     779    481   412   305       75       252      101\n",
       " \"17 Jun 2014\"    528    337   398   264       24        97       49\n",
       " \"27 May 2014\"    309    202   281   186       11        16        5\n",
       " \"12 May 2014\"    260    182   248   171       11          \"–\"      \"–\"\n",
       " \"1 May 2014\"     239    160   226   149  …    11          \"-\"      \"-\"\n",
       " \"14 Apr 2014\"    176    110   168   108        2          \"–\"      \"–\"\n",
       " \"31 Mar 2014\"    130     82   122    80        2          \"–\"      \"–\"\n",
       " \"22 Mar 2014\"     49     29    49    29         \"–\"       \"–\"      \"–\""
      ]
     },
     "execution_count": 9,
     "metadata": {},
     "output_type": "execute_result"
    }
   ],
   "source": [
    "using DelimitedFiles\n",
    "wikiEVDraw = DelimitedFiles.readdlm(\"wikipediaEVDraw.csv\", ',')  # getting quotes right is important!"
   ]
  },
  {
   "cell_type": "markdown",
   "metadata": {},
   "source": [
    "The readdlm() function is Julia's way to read any file that consists of lines separated into data items with a delimeter of some sort. In fact, the very word \"readdlm\" is an abbreviation of \"read-with-a-delimiter\". \n",
    "\n",
    "Notice three things\n",
    "- We have used a variable to contain the data from the file (you could change the name, though, if you like)\n",
    "- The file name is given as a string, using double quotes\n",
    "- The delimeter is given as a character, using single quotes\n",
    "\n",
    "Finally, we see that the type of the data, after it has been stored in the variable is an array, the elements of which are of Any type. This is not good for computation---in particular, for modelling we need the data in terms of days since the start of the epidemic. Our next job is to convert the strings in columnn one into integers which give number of days since 22 March 2014."
   ]
  },
  {
   "cell_type": "markdown",
   "metadata": {},
   "source": [
    "<h1> Creating .csv from data tables on the web </h1>"
   ]
  },
  {
   "cell_type": "markdown",
   "metadata": {},
   "source": [
    "Suppose you have found data in a table on the web. Here's how to extract the data save it as a .csv file to be used in Julia. We start with the Ebola data that are used in this course, which can be found on Wikipedia. \n",
    "\n",
    "<h5>  </h5>\n",
    "\n",
    "<h2>          Important information: </h2>\n",
    "We will use a spreadsheet, namely LibreOffice Calc, to do the work. Note that the date information on the Wikipedia site is not handled by all spreadsheets in the same way. If you use a different spreadsheet, you may find your results differ from ours.\n",
    "\n",
    "LibreOffice Calc is available for Windows, iOS and Linux, whereas most other spreadsheets are limited to one or two of these platforms.\n",
    "\n",
    "\n"
   ]
  },
  {
   "cell_type": "markdown",
   "metadata": {},
   "source": [
    "<h2>Wikipedia data on the West African EVD epidemic</h2>\n",
    "\n",
    "These data are on the webpage  https://en.wikipedia.org/wiki/West_African_Ebola_virus_epidemic_timeline_of_reported_cases_and_deaths\n",
    "\n",
    "Go there now, please, and navigate until you see a table that looks like this:\n",
    "\n",
    "<img src=\"Week2_Lecture2_1-Wikipedia-EVD-cases.png\" alt=\"(Screenshot of wikipedia table of WA EVD cases)\">"
   ]
  },
  {
   "cell_type": "markdown",
   "metadata": {},
   "source": [
    "<h2>Using a spreadsheet to save a website table as a .csv file</h2>\n",
    "\n",
    "Highlight the entire table, starting with the date \"25 Nov 2015\" all the way to the last row, which has the date \"22 Mar 2014\". Make sure you highlight exactly these rows, and every one of these rows completely.\n",
    "\n",
    "Use your browser's \"Copy\" feature. This is different for different browsers, but in many cases you can simply right-click and then click on \"Copy\".\n",
    "\n",
    "Now open a spreadsheet (we used LibreOffice Calc), and paste the table. Again, different spreadsheets give different options. Make sure you select the option the puts the column of dates in the first column.\n",
    "\n",
    "Now save the spreadsheet, taking care to save it as a text file with .csv format. I will refer to this file as \"wikipediaEVDraw.csv\" but you may of course choose your own name. If you open the file with a text editor, you should see that the first few lines of the file look like this:\n",
    "\n",
    "<img src=\"Week2_Lecture2_2-Wikipedia-EVD-data.png\" alt=\"(Screenshot of first lines of .csv file)\">\n",
    "\n",
    "\n",
    "Notice in particular that\n",
    "- Every row in the table is a new line in the file\n",
    "- The first comma is AFTER the first date\n",
    "- To be exact, the columns in the table are separated by commas in the file. This is what comma-separated-value files look like, no more and no less. This is the .csv format."
   ]
  },
  {
   "cell_type": "markdown",
   "metadata": {},
   "source": [
    "<h1> \"for\" loops and date-time formats: converting string values into usable time data </h1>"
   ]
  },
  {
   "cell_type": "markdown",
   "metadata": {},
   "source": [
    "<h2>Outcome</h2>\n",
    "\n",
    "After this lecture, you will be able to\n",
    "- Convert a string with date data to Julia's DateTime format\n",
    "- Use Dates.datetime2rata() to calculate the number of days between two DateTime dates\n",
    "- Use a for loop to convert the dates of the epidemic data to days since 22 March 2014\n",
    "- Use writedlm to save the converted data as .csv file\n",
    "\n"
   ]
  },
  {
   "cell_type": "markdown",
   "metadata": {},
   "source": [
    "We start by reading in the data:"
   ]
  },
  {
   "cell_type": "code",
   "execution_count": 10,
   "metadata": {},
   "outputs": [
    {
     "data": {
      "text/plain": [
       "54×9 Array{Any,2}:\n",
       " \"25 Nov 2015\"  28637  11314  3804  2536  …  4808     14122     3955\n",
       " \"18 Nov 2015\"  28634  11314  3804  2536     4808     14122     3955\n",
       " \"11 Nov 2015\"  28635  11314  3805  2536     4808     14122     3955\n",
       " \"4 Nov 2015\"   28607  11314  3810  2536     4808     14089     3955\n",
       " \"25 Oct 2015\"  28539  11298  3806  2535     4808     14061     3955\n",
       " \"18 Oct 2015\"  28476  11298  3803  2535  …  4808     14001     3955\n",
       " \"11 Oct 2015\"  28454  11297  3800  2534     4808     13982     3955\n",
       " \"27 Sep 2015\"  28388  11296  3805  2533     4808     13911     3955\n",
       " \"20 Sep 2015\"  28295  11295  3800  2532     4808     13823     3955\n",
       " \"13 Sep 2015\"  28220  11291  3792  2530     4808     13756     3953\n",
       " \"6 Sep 2015\"   28147  11291  3792  2530  …  4808     13683     3953\n",
       " \"30 Aug 2015\"  28073  11290  3792  2529     4808     13609     3953\n",
       " \"16 Aug 2015\"  27952  11284  3786  2524     4808     13494     3952\n",
       " ⋮                                        ⋱                     \n",
       " \"9 Aug 2014\"    1835   1011   506   373      323       730      315\n",
       " \"30 Jul 2014\"   1437    825   472   346      227       574      252\n",
       " \"23 Jul 2014\"   1201    672   427   319      129       525      224\n",
       " \"14 Jul 2014\"    982    613   411   310  …   106       397      197\n",
       " \"2 Jul 2014\"     779    481   412   305       75       252      101\n",
       " \"17 Jun 2014\"    528    337   398   264       24        97       49\n",
       " \"27 May 2014\"    309    202   281   186       11        16        5\n",
       " \"12 May 2014\"    260    182   248   171       11          \"–\"      \"–\"\n",
       " \"1 May 2014\"     239    160   226   149  …    11          \"-\"      \"-\"\n",
       " \"14 Apr 2014\"    176    110   168   108        2          \"–\"      \"–\"\n",
       " \"31 Mar 2014\"    130     82   122    80        2          \"–\"      \"–\"\n",
       " \"22 Mar 2014\"     49     29    49    29         \"–\"       \"–\"      \"–\""
      ]
     },
     "execution_count": 10,
     "metadata": {},
     "output_type": "execute_result"
    }
   ],
   "source": [
    "wikiEVDraw = readdlm(\"wikipediaEVDraw.csv\", ',')  # "
   ]
  },
  {
   "cell_type": "markdown",
   "metadata": {},
   "source": [
    "<h2>Converting a date string to DateTime format</h2>\n",
    "\n",
    "Remarkably enough, data on dates and times are among the fiddliest things a data scientist has to deal with. There is a huge number of different ways in which such data are reported, and moreover there are conflicting standards of how to deal irregularities (month lengths aren't all the same, some years are leap years, time zones shift ...).\n",
    "\n",
    "In consequence, every computer language that deals with date-time data has a rich array of  functions to deal with it. In Julia, they are in a package called Dates. Of this package, we will use the functions DateTime() and Dates.datetime2rata().\n",
    "\n",
    "Why does one of them use a full stop and the other not? The answer is that when you start up Julia, only a few of the functions in the package Dates are visible. These functions include Date() but not datetime2rata(). However, we are able to access the other functions by use of the colon. We will talk more about packages in the next lecture.\n",
    "\n",
    "The DateTime() function uses a format string convert string data such as we see in column one into Julia DateTime data.\n",
    "\n",
    "A format string is something one sees in many computation contexts. Here, it tells Julia in what form to expect the data. Looking at the string, it is a number for the day, then space, then an abbreviation for the month, then a space, then a number for the year. The appropriate format string is therefore \"d u y\". These formats have limitations: \"d\" accepts one- and two-digit days (which should always work) and \"y\" accepts two- and four-digit years (which should mostly work), but \"u\" accepts only three-letter abbreviations. Unfortunately, data where the month names otherwise abbreviated are fairly common.\n",
    "\n",
    "Here is an example of how the conversion works\n",
    "\n"
   ]
  },
  {
   "cell_type": "code",
   "execution_count": 15,
   "metadata": {},
   "outputs": [
    {
     "data": {
      "text/plain": [
       "2015-11-25T00:00:00"
      ]
     },
     "execution_count": 15,
     "metadata": {},
     "output_type": "execute_result"
    }
   ],
   "source": [
    "using Dates\n",
    "DateTime(wikiEVDraw[1,1], \"d u y\")"
   ]
  },
  {
   "cell_type": "markdown",
   "metadata": {},
   "source": [
    "<h2>\"for\" loops</h2>\n",
    "\n",
    "Now we need to do this conversion for every element in column 1 of the matrix. The way to do this is with a \"for\" loop.\n",
    "\n",
    "\"for\" loops are extremely important in computing, and in Julia even more so. This is because many items that are vectorised in languages like Matlab and Python are explicitly computed in \"for\" loops in Julia. It may surprise many of you who know about speeding up computations using vectorisation, but it is frequently the case that a loop in Julia runs *faster* than the equivalent vectorised code.\n",
    "\n",
    "\"for\" loops have a simple structure: the outside is the \"for ... end\" part and the inside is a code block executed repeatedly. Exactly how many times is determined by the the \"for ... end\" part.\n",
    "\n",
    "In the two examples below, we use println() to show the value of the variable over which the \"for\" loop runs. Notice that these values do not have to be a sequence of integers.\n",
    "\n"
   ]
  },
  {
   "cell_type": "code",
   "execution_count": 16,
   "metadata": {},
   "outputs": [
    {
     "name": "stdout",
     "output_type": "stream",
     "text": [
      "num is now 3\n",
      "num is now 4\n",
      "num is now 5\n",
      "num is now 6\n",
      "num is now 7\n",
      "The value of x is now 23\n",
      "The value of x is now my name is not a name\n",
      "The value of x is now ℵ\n"
     ]
    }
   ],
   "source": [
    "for num = 3:7    # here, the colon is used to specify a range; we will see this again\n",
    "    println(\"num is now $num\")\n",
    "end\n",
    "\n",
    "values = [23, \"my name is not a name\", 'ℵ']      # an array with some rather odd elements\n",
    "for x in values    # a for loop can iterate over an array\n",
    "        println(\"The value of x is now $x\")\n",
    "    end"
   ]
  },
  {
   "cell_type": "markdown",
   "metadata": {},
   "source": [
    "It is important to get the first line of a \"for\" loop exactly right. It has the structure \n",
    "\n",
    "\"variable = iterable\"\n",
    "\n",
    "Here, \"iterable\" is anything that is arranged in a sequence in memory. Not all types are, but they certainly include ranges (created with the colon operator \":\") and any single dimension of an array. The \"=\" is an assignment operator, and it assigns to \"variable\" the values in \"iterable\", one after the other. That is, during each pass through the loop, \"variable\" has the value of exactly one of the items in \"iterable\". "
   ]
  },
  {
   "cell_type": "markdown",
   "metadata": {},
   "source": [
    "<h2>Converting column 1 DateTime type</h2>\n",
    "\n",
    "Now we use a \"for\" loop twice. Firstly we create a one-dimensional array containing just column one---it uses array slicing, for conversion to values with DateTime type.\n",
    "\n"
   ]
  },
  {
   "cell_type": "code",
   "execution_count": 29,
   "metadata": {},
   "outputs": [
    {
     "data": {
      "text/plain": [
       "54-element Array{Any,1}:\n",
       " \"25 Nov 2015\"\n",
       " \"18 Nov 2015\"\n",
       " \"11 Nov 2015\"\n",
       " \"4 Nov 2015\"\n",
       " \"25 Oct 2015\"\n",
       " \"18 Oct 2015\"\n",
       " \"11 Oct 2015\"\n",
       " \"27 Sep 2015\"\n",
       " \"20 Sep 2015\"\n",
       " \"13 Sep 2015\"\n",
       " \"6 Sep 2015\"\n",
       " \"30 Aug 2015\"\n",
       " \"16 Aug 2015\"\n",
       " ⋮\n",
       " \"9 Aug 2014\"\n",
       " \"30 Jul 2014\"\n",
       " \"23 Jul 2014\"\n",
       " \"14 Jul 2014\"\n",
       " \"2 Jul 2014\"\n",
       " \"17 Jun 2014\"\n",
       " \"27 May 2014\"\n",
       " \"12 May 2014\"\n",
       " \"1 May 2014\"\n",
       " \"14 Apr 2014\"\n",
       " \"31 Mar 2014\"\n",
       " \"22 Mar 2014\""
      ]
     },
     "execution_count": 29,
     "metadata": {},
     "output_type": "execute_result"
    }
   ],
   "source": [
    "col1 = wikiEVDraw[:, 1]  # the colon means all the data in the column, the 1 means the first column"
   ]
  },
  {
   "cell_type": "code",
   "execution_count": 30,
   "metadata": {},
   "outputs": [],
   "source": [
    "for i = 1:54\n",
    "    col1[i] = DateTime(col1[i], \"d u y\")  # note that this replaces the previous value in col1[i]\n",
    "end"
   ]
  },
  {
   "cell_type": "code",
   "execution_count": 31,
   "metadata": {},
   "outputs": [
    {
     "data": {
      "text/plain": [
       "54-element Array{Any,1}:\n",
       " 2015-11-25T00:00:00\n",
       " 2015-11-18T00:00:00\n",
       " 2015-11-11T00:00:00\n",
       " 2015-11-04T00:00:00\n",
       " 2015-10-25T00:00:00\n",
       " 2015-10-18T00:00:00\n",
       " 2015-10-11T00:00:00\n",
       " 2015-09-27T00:00:00\n",
       " 2015-09-20T00:00:00\n",
       " 2015-09-13T00:00:00\n",
       " 2015-09-06T00:00:00\n",
       " 2015-08-30T00:00:00\n",
       " 2015-08-16T00:00:00\n",
       " ⋮\n",
       " 2014-08-09T00:00:00\n",
       " 2014-07-30T00:00:00\n",
       " 2014-07-23T00:00:00\n",
       " 2014-07-14T00:00:00\n",
       " 2014-07-02T00:00:00\n",
       " 2014-06-17T00:00:00\n",
       " 2014-05-27T00:00:00\n",
       " 2014-05-12T00:00:00\n",
       " 2014-05-01T00:00:00\n",
       " 2014-04-14T00:00:00\n",
       " 2014-03-31T00:00:00\n",
       " 2014-03-22T00:00:00"
      ]
     },
     "execution_count": 31,
     "metadata": {},
     "output_type": "execute_result"
    }
   ],
   "source": [
    "col1"
   ]
  },
  {
   "cell_type": "markdown",
   "metadata": {},
   "source": [
    "<h2>Creating data giving time in days since 22 March 2014</h2>\n",
    "\n",
    "\n",
    "Finally, we create the variable \"epidays\". This calls to mind the concept of *epidemic day*, which is simply a way to indicate how long an epidemic has been running. We will assume that the epidemic started on 22 March 2014, with a total of 49 cases, because that is the  first date for which we have data.\n",
    "\n",
    "\n",
    "Note that this is in keeping with the spirit of modelling: we are trying to do the best we can with the data we have. Even when we know that the epidemic has been traced back to a single case in early December 2013, that information is not in the table of data before us. We should not forget about it, but neither should we attempt to include it in the data.\n",
    "\n",
    "The function we use is Dates.datetime2rata(). The \"Rata Die days\" format is a specialised date format we will not discuss here (see https://en.wikipedia.org/wiki/Rata_Die for information). The important thing is that this function, applied to a given date, gives the number of days since 1 January of the year 0001. As follows:\n",
    "\n"
   ]
  },
  {
   "cell_type": "code",
   "execution_count": 32,
   "metadata": {},
   "outputs": [
    {
     "data": {
      "text/plain": [
       "735927"
      ]
     },
     "execution_count": 32,
     "metadata": {},
     "output_type": "execute_result"
    }
   ],
   "source": [
    "Dates.datetime2rata(col1[1])"
   ]
  },
  {
   "cell_type": "markdown",
   "metadata": {},
   "source": [
    "<h2>Exporting the converted data</h2>\n",
    "\n",
    "\n",
    "We create a function to express the number of days since epidemic day zero, which is the value of col[54] which is of course 22 March 2014.\n",
    "\n",
    "Then we iterate that function with a for loop over all the elements in col1 to create epidays. Note that the variable epidays is created before the start of the loop. This is, in general, good practice: if you know what array you want to fill, then initialise that array before you start filling it."
   ]
  },
  {
   "cell_type": "code",
   "execution_count": 37,
   "metadata": {},
   "outputs": [],
   "source": [
    "dayssincemar22(x) = Dates.datetime2rata(x) - Dates.datetime2rata(col1[54])\n",
    "epidays = Array{Int64}(undef,54)\n",
    "for i = 1:54\n",
    "    epidays[i] = dayssincemar22(col1[i])\n",
    "end"
   ]
  },
  {
   "cell_type": "markdown",
   "metadata": {},
   "source": [
    "Finally, we overwite column 1 of our data array with epidays, and save it using writedlm(). It is a good idea to use a new filename, so that all the work that went into extracting the data from wikipedia is not lost. You never know when you might want the original dates again!"
   ]
  },
  {
   "cell_type": "code",
   "execution_count": 38,
   "metadata": {},
   "outputs": [],
   "source": [
    "wikiEVDraw[:, 1] = epidays\n",
    "writedlm(\"wikipediaEVDdatesconverted.csv\", wikiEVDraw, ',')  \n",
    "#         note the delimiter ... the Julia default is a tab; to get .csv, we must specify the comma"
   ]
  },
  {
   "cell_type": "markdown",
   "metadata": {},
   "source": [
    "# Practice Quiz"
   ]
  },
  {
   "cell_type": "markdown",
   "metadata": {},
   "source": [
    "\n",
    "<h2 id=\"int\"> Question 1      </h2>\n",
    "\n",
    "Which line of Julia code is used to load data from a csv file into a variable?\n",
    "\n",
    "A csv file refers to a simple file format used for storing tabular data, such as a spreadsheet or data sets. The letters CSV stands for \"comma-separated values\". For example a csv file with 2 rows and 3 columns of numbers might appear something like:\n",
    "\n",
    "153,455,2322\n",
    "\n",
    "3,96,-76\n",
    "\n",
    "a. readdlm(\"data.csv\", ',')\n",
    "\n",
    "b. data= readdlm(\"data.csv\", ',')\n",
    "\n",
    "c. data= readdlm(\"data.csv\", '#')"
   ]
  },
  {
   "cell_type": "markdown",
   "metadata": {},
   "source": [
    "Double-click __here__ for the solution.\n",
    "\n",
    "<!-- Your answer is below:\n",
    "readdlm(\"data.csv\", ',')\n",
    "Answer: A \n",
    "--> "
   ]
  },
  {
   "cell_type": "markdown",
   "metadata": {},
   "source": [
    "\n",
    "<h2 id=\"int\"> Question 2      </h2>\n",
    "\n",
    "Which line of Julia code would return the correct date and time given the string \"2015 Nov 25\"?\n",
    "\n",
    "a. using Dates\n",
    "\n",
    "Dates.DateTime(\"2015 Nov 25\", \"y u d\")\n",
    "\n",
    "b. using Dates\n",
    "\n",
    "Dates.DateTime(\"2015 Nov 25\", \"u y d\")\n",
    "\n",
    "c. using Dates\n",
    "\n",
    "Dates.DateTime(\"2015 Nov 25\", \"d u y\")"
   ]
  },
  {
   "cell_type": "markdown",
   "metadata": {},
   "source": [
    "Double-click __here__ for the solution.\n",
    "\n",
    "<!-- Your answer is below:\n",
    "using Dates\n",
    "Dates.DateTime(\"2015 Nov 25\", \"y u d\")\n",
    "Answer: A \n",
    "--> "
   ]
  },
  {
   "cell_type": "markdown",
   "metadata": {},
   "source": [
    "\n",
    "<h2 id=\"int\"> Question 3     </h2>\n",
    "\n",
    "Consider the following Julia code fragment. The “for” loop is repeated for each value i in the array mylist. Then mylist[i] is set to the current value of count.\n",
    "\n",
    "mylist = [3, 2, 1]\n",
    "\n",
    "count=1\n",
    "\n",
    "for i in mylist\n",
    "\n",
    "  mylist[i]=count\n",
    "  \n",
    "  count=count+1\n",
    "  \n",
    "end\n",
    "\n",
    "What is the value of mylist[3] at the end of this loop?"
   ]
  },
  {
   "cell_type": "markdown",
   "metadata": {},
   "source": [
    "Double-click __here__ for the solution.\n",
    "\n",
    "<!-- Your answer is below:\n",
    "mylist = [3, 2, 1]\n",
    "\n",
    "count=1\n",
    "\n",
    "for i in mylist\n",
    "\n",
    "  mylist[i]=count\n",
    "  \n",
    "  count=count+1\n",
    "  \n",
    "end\n",
    "\n",
    "mylist[3]\n",
    "1\n",
    "Answer: 1\n",
    "--> "
   ]
  },
  {
   "cell_type": "markdown",
   "metadata": {},
   "source": [
    "\n",
    "<h2 id=\"int\"> Question 4      </h2>\n",
    "\n",
    "Consider the following Julia code fragment.\n",
    "\n",
    "count=0\n",
    "\n",
    "for i=1:3\n",
    "\n",
    "  for j=1:3\n",
    "  \n",
    "    count=count+1\n",
    "    \n",
    "  end\n",
    "  \n",
    "end\n",
    "\n",
    "What is the value of count after both loops have finished?"
   ]
  },
  {
   "cell_type": "markdown",
   "metadata": {},
   "source": [
    "Double-click __here__ for the solution.\n",
    "\n",
    "<!-- Your answer is below:\n",
    "count=0\n",
    "\n",
    "for i=1:3\n",
    "\n",
    "  for j=1:3\n",
    "  \n",
    "    count=count+1\n",
    "    \n",
    "  end\n",
    "  \n",
    "end\n",
    "count\n",
    "9\n",
    "Answer: 9\n",
    "--> "
   ]
  },
  {
   "cell_type": "markdown",
   "metadata": {},
   "source": [
    "\n",
    "<h2 id=\"int\"> Question 5      </h2>\n",
    "\n",
    "Which line of code would return the seventh row in a two dimensional array variable called data?\n",
    "\n",
    "a. data[7, :]\n",
    "\n",
    "b. data[6, :]\n",
    "\n",
    "c. data[:, 7]\n",
    "\n",
    "d. data[7,]"
   ]
  },
  {
   "cell_type": "markdown",
   "metadata": {},
   "source": [
    "Double-click __here__ for the solution.\n",
    "\n",
    "<!-- Your answer is below:\n",
    "data[7,:]\n",
    "Answer: A \n",
    "--> "
   ]
  },
  {
   "cell_type": "markdown",
   "metadata": {},
   "source": [
    "\n",
    "<h2 id=\"int\"> Question 6     </h2>\n",
    "\n",
    "What value is returned by running the following code in Julia?\n",
    "\n",
    "summedvals = 3\n",
    "\n",
    "for k = 1:2:5 \n",
    "\n",
    "  summedvals = summedvals + k\n",
    "  \n",
    "end\n",
    "\n",
    "summedvals\n"
   ]
  },
  {
   "cell_type": "markdown",
   "metadata": {},
   "source": [
    "Double-click __here__ for the solution.\n",
    "\n",
    "<!-- Your answer is below:\n",
    "summedvals = 3\n",
    "for k = 1:2:5\n",
    "    summedvals = summedvals + k\n",
    "end\n",
    "summedvals\n",
    "12\n",
    "Answer: 12 \n",
    "--> "
   ]
  },
  {
   "cell_type": "code",
   "execution_count": null,
   "metadata": {},
   "outputs": [],
   "source": []
  }
 ],
 "metadata": {
  "kernelspec": {
   "display_name": "Julia 1.4.2",
   "language": "julia",
   "name": "julia-1.4"
  },
  "language_info": {
   "file_extension": ".jl",
   "mimetype": "application/julia",
   "name": "julia",
   "version": "1.4.2"
  }
 },
 "nbformat": 4,
 "nbformat_minor": 2
}
