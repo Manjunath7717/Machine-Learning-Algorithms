{
 "cells": [
  {
   "cell_type": "markdown",
   "metadata": {},
   "source": [
    "# Week 4\n",
    "# Working with data"
   ]
  },
  {
   "cell_type": "markdown",
   "metadata": {},
   "source": [
    "## In this lecture"
   ]
  },
  {
   "cell_type": "markdown",
   "metadata": {},
   "source": [
    "- [Introduction](#Introduction)\n",
    "- [Distributions](#Distributions)\n",
    "- [Normal distribution](#Normal-distribution)\n",
    "- [Other distributions](#Other-distributions)\n",
    "- [DataFrames](#DataFrames)\n",
    "    - [Combining dataframes](#Combining-dataframes)\n",
    "    - [Grouping](#Grouping)\n",
    "    - [Sorting](#Sorting)\n",
    "    - [Unique rows only](#Unique-rows-only)\n",
    "    - [Deleting rows](#Deleting-rows)"
   ]
  },
  {
   "cell_type": "markdown",
   "metadata": {},
   "source": [
    "## Introduction"
   ]
  },
  {
   "cell_type": "markdown",
   "metadata": {},
   "source": [
    "The ability to use data is fundamental to most modern computer coding taks.  In this lecture, we will have a brief introduction to the way in which the Julia language incorporates data through the use of the `Distributions.jl` and `DataFrames.jl` packages."
   ]
  },
  {
   "cell_type": "markdown",
   "metadata": {},
   "source": [
    "[Back to the top](#In-this-lecture)"
   ]
  },
  {
   "cell_type": "markdown",
   "metadata": {},
   "source": [
    "## Distributions"
   ]
  },
  {
   "cell_type": "markdown",
   "metadata": {},
   "source": [
    "Data point values for a distribution usually follow a pattern.  Such patterns are called distributions.  Distributions are either discrete or continuous.  The `Distribution.jl` package contains most of the common data distributions."
   ]
  },
  {
   "cell_type": "markdown",
   "metadata": {},
   "source": [
    "We will also use the `Random.jl` package to seed the pseudo-random number generator so that we can reproduce the random values that we are going to use in the lecture."
   ]
  },
  {
   "cell_type": "code",
   "execution_count": 1,
   "metadata": {},
   "outputs": [],
   "source": [
    "using Distributions\n",
    "using Random"
   ]
  },
  {
   "cell_type": "markdown",
   "metadata": {},
   "source": [
    "[Back to the top](#In-this-lecture)"
   ]
  },
  {
   "cell_type": "markdown",
   "metadata": {},
   "source": [
    "### The normal distribution"
   ]
  },
  {
   "cell_type": "markdown",
   "metadata": {},
   "source": [
    "The normal distribution is the famous bell-shaped curve that we are familiar with.  Values around the mean occur most frequently and as values get progressively further away from the mean, they occur less frequently."
   ]
  },
  {
   "cell_type": "code",
   "execution_count": 2,
   "metadata": {},
   "outputs": [
    {
     "data": {
      "text/plain": [
       "(0.0, 1.0)"
      ]
     },
     "execution_count": 2,
     "metadata": {},
     "output_type": "execute_result"
    }
   ],
   "source": [
    "#Seed the pseudo-random number generator\n",
    "Random.seed!(1234)\n",
    "#Saving the standard normal distribution as an object\n",
    "n = Distributions.Normal()  # This function is from the Distributions package\n",
    "#Parameter values of the standard normal distribution\n",
    "params(n)"
   ]
  },
  {
   "cell_type": "markdown",
   "metadata": {},
   "source": [
    "Using the `params()` function, we note a mean on $0$ and a standard deviation of $1$, also called the _standard normal distribution_."
   ]
  },
  {
   "cell_type": "markdown",
   "metadata": {},
   "source": [
    "The `fieldnames()` function provides the actual parameters of the given distribution.  In the case of the normal distribution, it will be the average and the standard deviation, namely $\\mu$ and $\\sigma$."
   ]
  },
  {
   "cell_type": "code",
   "execution_count": 3,
   "metadata": {},
   "outputs": [
    {
     "data": {
      "text/plain": [
       "(:μ, :σ)"
      ]
     },
     "execution_count": 3,
     "metadata": {},
     "output_type": "execute_result"
    }
   ],
   "source": [
    "# Returning the parameters of the normal distribution\n",
    "fieldnames(Normal)"
   ]
  },
  {
   "cell_type": "markdown",
   "metadata": {},
   "source": [
    "Now we create a variable called `var1` and use the `rand()` function to create select $10$ random values from the standard normal distribution."
   ]
  },
  {
   "cell_type": "code",
   "execution_count": 54,
   "metadata": {},
   "outputs": [],
   "source": [
    "#Seed the pseudo-random number generator\n",
    "Random.seed!(1234)\n",
    "#Select 10 elements at random from n\n",
    "var1 = rand(n, 10);"
   ]
  },
  {
   "cell_type": "markdown",
   "metadata": {},
   "source": [
    "We can calculate the average and standard deviation of our randomly selected values."
   ]
  },
  {
   "cell_type": "code",
   "execution_count": 55,
   "metadata": {},
   "outputs": [
    {
     "data": {
      "text/plain": [
       "0.18909179133831322"
      ]
     },
     "execution_count": 55,
     "metadata": {},
     "output_type": "execute_result"
    }
   ],
   "source": [
    "# Average\n",
    "mean(var1)"
   ]
  },
  {
   "cell_type": "code",
   "execution_count": 56,
   "metadata": {},
   "outputs": [
    {
     "data": {
      "text/plain": [
       "0.9879593623730926"
      ]
     },
     "execution_count": 56,
     "metadata": {},
     "output_type": "execute_result"
    }
   ],
   "source": [
    "# Standard deviation\n",
    "std(var1)"
   ]
  },
  {
   "cell_type": "markdown",
   "metadata": {},
   "source": [
    "The `pdf()` calculates the probability density function value of a given distribution up until a specified point (from $- \\infty$)."
   ]
  },
  {
   "cell_type": "code",
   "execution_count": 57,
   "metadata": {},
   "outputs": [
    {
     "data": {
      "text/plain": [
       "0.38138781546052414"
      ]
     },
     "execution_count": 57,
     "metadata": {},
     "output_type": "execute_result"
    }
   ],
   "source": [
    "#Probability density function value at x = 0.3\n",
    "pdf(Normal(), 0.3)"
   ]
  },
  {
   "cell_type": "markdown",
   "metadata": {},
   "source": [
    "The `cdf()` functions calculates the cummulative distribution function value of a given distribution up until a specified point (from $- \\infty$)."
   ]
  },
  {
   "cell_type": "code",
   "execution_count": 58,
   "metadata": {},
   "outputs": [
    {
     "data": {
      "text/plain": [
       "0.5987063256829237"
      ]
     },
     "execution_count": 58,
     "metadata": {},
     "output_type": "execute_result"
    }
   ],
   "source": [
    "#Cumulative distribution function as x = 0.25\n",
    "cdf(Normal(), 0.25)"
   ]
  },
  {
   "cell_type": "markdown",
   "metadata": {},
   "source": [
    "The values for the average and standard deviation can be specified."
   ]
  },
  {
   "cell_type": "code",
   "execution_count": 59,
   "metadata": {},
   "outputs": [],
   "source": [
    "# Creating 100 data point values from a normal distribution\n",
    "# with a mean of 100 and a standard deviation of 10\n",
    "Random.seed!(1234)\n",
    "var2 = rand(Normal(100, 10), 100);"
   ]
  },
  {
   "cell_type": "code",
   "execution_count": 60,
   "metadata": {},
   "outputs": [
    {
     "data": {
      "text/plain": [
       "98.52365657772843"
      ]
     },
     "execution_count": 60,
     "metadata": {},
     "output_type": "execute_result"
    }
   ],
   "source": [
    "# Calculating the mean of var2\n",
    "mean(var2)"
   ]
  },
  {
   "cell_type": "code",
   "execution_count": 61,
   "metadata": {},
   "outputs": [
    {
     "data": {
      "text/plain": [
       "9.580963685859091"
      ]
     },
     "execution_count": 61,
     "metadata": {},
     "output_type": "execute_result"
    }
   ],
   "source": [
    "#Calculating the standard deviation of var2\n",
    "std(var2)"
   ]
  },
  {
   "cell_type": "markdown",
   "metadata": {},
   "source": [
    "The parameters of a set of values for a specified distribution can be returned."
   ]
  },
  {
   "cell_type": "code",
   "execution_count": 62,
   "metadata": {},
   "outputs": [
    {
     "data": {
      "text/plain": [
       "Normal{Float64}(μ=98.52365657772843, σ=9.532938502804532)"
      ]
     },
     "execution_count": 62,
     "metadata": {},
     "output_type": "execute_result"
    }
   ],
   "source": [
    "#Using fit() to calculate the parameters of a distribution\n",
    "fit(Normal, var2)"
   ]
  },
  {
   "cell_type": "markdown",
   "metadata": {},
   "source": [
    "The `quantiles()` function provides us with values for the specific percentiles (provided as fractions).  Below we calculate the $2.5$% and $97.5$% percentile values of the standard normal distribution."
   ]
  },
  {
   "cell_type": "code",
   "execution_count": 63,
   "metadata": {},
   "outputs": [
    {
     "data": {
      "text/plain": [
       "-1.9599639845400592"
      ]
     },
     "execution_count": 63,
     "metadata": {},
     "output_type": "execute_result"
    }
   ],
   "source": [
    "# Quantiles\n",
    "quantile(Normal(), 0.025)"
   ]
  },
  {
   "cell_type": "code",
   "execution_count": 64,
   "metadata": {},
   "outputs": [
    {
     "data": {
      "text/plain": [
       "1.9599639845400576"
      ]
     },
     "execution_count": 64,
     "metadata": {},
     "output_type": "execute_result"
    }
   ],
   "source": [
    "quantile(Normal(), 0.975)"
   ]
  },
  {
   "cell_type": "markdown",
   "metadata": {},
   "source": [
    "[Back to the top](#In-this-lecture)"
   ]
  },
  {
   "cell_type": "markdown",
   "metadata": {},
   "source": [
    "### Other distributions"
   ]
  },
  {
   "cell_type": "markdown",
   "metadata": {},
   "source": [
    "There are many distributions in the `Distribution().jl` package. In the code below, a few of these are showcased by way of setting parameters, selecting random values, and fitting those value back to the distribution or returning the parameter field names."
   ]
  },
  {
   "cell_type": "code",
   "execution_count": 65,
   "metadata": {},
   "outputs": [
    {
     "data": {
      "text/plain": [
       "Beta{Float64}(α=1.0160364676972977, β=0.9632366633824179)"
      ]
     },
     "execution_count": 65,
     "metadata": {},
     "output_type": "execute_result"
    }
   ],
   "source": [
    "# Beta distribution\n",
    "b = Beta(1, 1)\n",
    "params(b)\n",
    "Random.seed!(1234)\n",
    "var3 = rand(b, 100);\n",
    "fit(Beta, var3)"
   ]
  },
  {
   "cell_type": "code",
   "execution_count": 66,
   "metadata": {},
   "outputs": [
    {
     "data": {
      "text/plain": [
       "(:ν,)"
      ]
     },
     "execution_count": 66,
     "metadata": {},
     "output_type": "execute_result"
    }
   ],
   "source": [
    "# χ2 distribution\n",
    "c = Chisq(1)\n",
    "Random.seed!(1234)\n",
    "var4 = rand(c, 100)\n",
    "fieldnames(Chisq) # Degrees of freedom"
   ]
  },
  {
   "cell_type": "markdown",
   "metadata": {},
   "source": [
    "[Back to the top](#In-this-lecture)"
   ]
  },
  {
   "cell_type": "markdown",
   "metadata": {},
   "source": [
    "## Dataframes"
   ]
  },
  {
   "cell_type": "markdown",
   "metadata": {},
   "source": [
    "The `Dataframes.jl` package allows for creation of a flat data structure (rows and columns).  Columns are variables and rows are subjects (examples)."
   ]
  },
  {
   "cell_type": "code",
   "execution_count": 67,
   "metadata": {},
   "outputs": [],
   "source": [
    "using DataFrames"
   ]
  },
  {
   "cell_type": "markdown",
   "metadata": {},
   "source": [
    "Below, we create an empty dataframe object that we call `df`."
   ]
  },
  {
   "cell_type": "code",
   "execution_count": 68,
   "metadata": {},
   "outputs": [],
   "source": [
    "#Create and empty DataFrame\n",
    "df = DataFrame();"
   ]
  },
  {
   "cell_type": "markdown",
   "metadata": {},
   "source": [
    "Column headers representing statistical variable names are entered in square brackets as symbols, i.e. preceeded with a colon.  We will attach the `var2` set of values as data point entries for this statistical variables."
   ]
  },
  {
   "cell_type": "code",
   "execution_count": 69,
   "metadata": {},
   "outputs": [
    {
     "name": "stderr",
     "output_type": "stream",
     "text": [
      "┌ Warning: `setindex!(df::DataFrame, v::AbstractVector, col_ind::ColumnIndex)` is deprecated, use `begin\n",
      "│     df[!, col_ind] = v\n",
      "│     df\n",
      "│ end` instead.\n",
      "│   caller = top-level scope at In[69]:1\n",
      "└ @ Core In[69]:1\n"
     ]
    }
   ],
   "source": [
    "# Add a column with data point values (rows)\n",
    "df[:Var2] = var2;"
   ]
  },
  {
   "cell_type": "markdown",
   "metadata": {},
   "source": [
    "We can specify to print the first $5$ rows to the screen with the `first()` function,"
   ]
  },
  {
   "cell_type": "code",
   "execution_count": 70,
   "metadata": {},
   "outputs": [
    {
     "data": {
      "text/html": [
       "<table class=\"data-frame\"><thead><tr><th></th><th>Var2</th></tr><tr><th></th><th>Float64</th></tr></thead><tbody><p>5 rows × 1 columns</p><tr><th>1</th><td>108.673</td></tr><tr><th>2</th><td>90.9826</td></tr><tr><th>3</th><td>95.0552</td></tr><tr><th>4</th><td>90.9709</td></tr><tr><th>5</th><td>108.644</td></tr></tbody></table>"
      ],
      "text/latex": [
       "\\begin{tabular}{r|c}\n",
       "\t& Var2\\\\\n",
       "\t\\hline\n",
       "\t& Float64\\\\\n",
       "\t\\hline\n",
       "\t1 & 108.673 \\\\\n",
       "\t2 & 90.9826 \\\\\n",
       "\t3 & 95.0552 \\\\\n",
       "\t4 & 90.9709 \\\\\n",
       "\t5 & 108.644 \\\\\n",
       "\\end{tabular}\n"
      ],
      "text/plain": [
       "5×1 DataFrame\n",
       "│ Row │ Var2    │\n",
       "│     │ \u001b[90mFloat64\u001b[39m │\n",
       "├─────┼─────────┤\n",
       "│ 1   │ 108.673 │\n",
       "│ 2   │ 90.9826 │\n",
       "│ 3   │ 95.0552 │\n",
       "│ 4   │ 90.9709 │\n",
       "│ 5   │ 108.644 │"
      ]
     },
     "execution_count": 70,
     "metadata": {},
     "output_type": "execute_result"
    }
   ],
   "source": [
    "#View first five rows\n",
    "first(df, 5)"
   ]
  },
  {
   "cell_type": "markdown",
   "metadata": {},
   "source": [
    "Below, we create another statistical variable with some data point values that we already have in the waiting."
   ]
  },
  {
   "cell_type": "code",
   "execution_count": 71,
   "metadata": {},
   "outputs": [
    {
     "name": "stderr",
     "output_type": "stream",
     "text": [
      "┌ Warning: `setindex!(df::DataFrame, v::AbstractVector, col_ind::ColumnIndex)` is deprecated, use `begin\n",
      "│     df[!, col_ind] = v\n",
      "│     df\n",
      "│ end` instead.\n",
      "│   caller = top-level scope at In[71]:1\n",
      "└ @ Core In[71]:1\n"
     ]
    }
   ],
   "source": [
    "# Add another column\n",
    "df[:Var3] = var3;"
   ]
  },
  {
   "cell_type": "markdown",
   "metadata": {},
   "source": [
    "The `last()` functions shows the last specified rows."
   ]
  },
  {
   "cell_type": "code",
   "execution_count": 72,
   "metadata": {},
   "outputs": [
    {
     "data": {
      "text/html": [
       "<table class=\"data-frame\"><thead><tr><th></th><th>Var2</th><th>Var3</th></tr><tr><th></th><th>Float64</th><th>Float64</th></tr></thead><tbody><p>3 rows × 2 columns</p><tr><th>1</th><td>95.5675</td><td>0.368434</td></tr><tr><th>2</th><td>83.3677</td><td>0.180153</td></tr><tr><th>3</th><td>94.7877</td><td>0.0370141</td></tr></tbody></table>"
      ],
      "text/latex": [
       "\\begin{tabular}{r|cc}\n",
       "\t& Var2 & Var3\\\\\n",
       "\t\\hline\n",
       "\t& Float64 & Float64\\\\\n",
       "\t\\hline\n",
       "\t1 & 95.5675 & 0.368434 \\\\\n",
       "\t2 & 83.3677 & 0.180153 \\\\\n",
       "\t3 & 94.7877 & 0.0370141 \\\\\n",
       "\\end{tabular}\n"
      ],
      "text/plain": [
       "3×2 DataFrame\n",
       "│ Row │ Var2    │ Var3      │\n",
       "│     │ \u001b[90mFloat64\u001b[39m │ \u001b[90mFloat64\u001b[39m   │\n",
       "├─────┼─────────┼───────────┤\n",
       "│ 1   │ 95.5675 │ 0.368434  │\n",
       "│ 2   │ 83.3677 │ 0.180153  │\n",
       "│ 3   │ 94.7877 │ 0.0370141 │"
      ]
     },
     "execution_count": 72,
     "metadata": {},
     "output_type": "execute_result"
    }
   ],
   "source": [
    "# View last three rows\n",
    "last(df, 3)"
   ]
  },
  {
   "cell_type": "markdown",
   "metadata": {},
   "source": [
    "The `size()` function returns a tuple with the number of rows and columns returned,"
   ]
  },
  {
   "cell_type": "code",
   "execution_count": 73,
   "metadata": {},
   "outputs": [
    {
     "data": {
      "text/plain": [
       "(100, 2)"
      ]
     },
     "execution_count": 73,
     "metadata": {},
     "output_type": "execute_result"
    }
   ],
   "source": [
    "# Dimensions of a DataFrame\n",
    "size(df)"
   ]
  },
  {
   "cell_type": "markdown",
   "metadata": {},
   "source": [
    "The `describe()` functions attemps tp provide summary statistics of the variables>"
   ]
  },
  {
   "cell_type": "code",
   "execution_count": 74,
   "metadata": {},
   "outputs": [
    {
     "data": {
      "text/html": [
       "<table class=\"data-frame\"><thead><tr><th></th><th>variable</th><th>mean</th><th>min</th><th>median</th><th>max</th><th>nunique</th><th>nmissing</th><th>eltype</th></tr><tr><th></th><th>Symbol</th><th>Float64</th><th>Float64</th><th>Float64</th><th>Float64</th><th>Nothing</th><th>Nothing</th><th>DataType</th></tr></thead><tbody><p>2 rows × 8 columns</p><tr><th>1</th><td>Var2</td><td>98.5237</td><td>67.8864</td><td>98.1718</td><td>124.175</td><td></td><td></td><td>Float64</td></tr><tr><th>2</th><td>Var3</td><td>0.513338</td><td>0.0199572</td><td>0.502085</td><td>0.983708</td><td></td><td></td><td>Float64</td></tr></tbody></table>"
      ],
      "text/latex": [
       "\\begin{tabular}{r|cccccccc}\n",
       "\t& variable & mean & min & median & max & nunique & nmissing & eltype\\\\\n",
       "\t\\hline\n",
       "\t& Symbol & Float64 & Float64 & Float64 & Float64 & Nothing & Nothing & DataType\\\\\n",
       "\t\\hline\n",
       "\t1 & Var2 & 98.5237 & 67.8864 & 98.1718 & 124.175 &  &  & Float64 \\\\\n",
       "\t2 & Var3 & 0.513338 & 0.0199572 & 0.502085 & 0.983708 &  &  & Float64 \\\\\n",
       "\\end{tabular}\n"
      ],
      "text/plain": [
       "2×8 DataFrame. Omitted printing of 2 columns\n",
       "│ Row │ variable │ mean     │ min       │ median   │ max      │ nunique │\n",
       "│     │ \u001b[90mSymbol\u001b[39m   │ \u001b[90mFloat64\u001b[39m  │ \u001b[90mFloat64\u001b[39m   │ \u001b[90mFloat64\u001b[39m  │ \u001b[90mFloat64\u001b[39m  │ \u001b[90mNothing\u001b[39m │\n",
       "├─────┼──────────┼──────────┼───────────┼──────────┼──────────┼─────────┤\n",
       "│ 1   │ Var2     │ 98.5237  │ 67.8864   │ 98.1718  │ 124.175  │         │\n",
       "│ 2   │ Var3     │ 0.513338 │ 0.0199572 │ 0.502085 │ 0.983708 │         │"
      ]
     },
     "execution_count": 74,
     "metadata": {},
     "output_type": "execute_result"
    }
   ],
   "source": [
    "# Summarize the content\n",
    "describe(df)"
   ]
  },
  {
   "cell_type": "markdown",
   "metadata": {},
   "source": [
    "The data type for each variable can be returned."
   ]
  },
  {
   "cell_type": "code",
   "execution_count": 75,
   "metadata": {},
   "outputs": [
    {
     "name": "stderr",
     "output_type": "stream",
     "text": [
      "┌ Warning: `eltypes(df::AbstractDataFrame)` is deprecated, use `eltype.(eachcol(df))` instead.\n",
      "│   caller = top-level scope at In[75]:1\n",
      "└ @ Core In[75]:1\n"
     ]
    },
    {
     "data": {
      "text/plain": [
       "2-element Array{DataType,1}:\n",
       " Float64\n",
       " Float64"
      ]
     },
     "execution_count": 75,
     "metadata": {},
     "output_type": "execute_result"
    }
   ],
   "source": [
    "# Data type only\n",
    "eltypes(df)"
   ]
  },
  {
   "cell_type": "markdown",
   "metadata": {},
   "source": [
    "Below we create a new instance of a dataframe object called `df2`.  It contains four statistical variables.  Note the use of symbol notation in creating the names of these variables."
   ]
  },
  {
   "cell_type": "code",
   "execution_count": 76,
   "metadata": {},
   "outputs": [
    {
     "name": "stderr",
     "output_type": "stream",
     "text": [
      "┌ Warning: `setindex!(df::DataFrame, v::AbstractVector, col_ind::ColumnIndex)` is deprecated, use `begin\n",
      "│     df[!, col_ind] = v\n",
      "│     df\n",
      "│ end` instead.\n",
      "│   caller = top-level scope at In[76]:3\n",
      "└ @ Core In[76]:3\n",
      "┌ Warning: `setindex!(df::DataFrame, v::AbstractVector, col_ind::ColumnIndex)` is deprecated, use `begin\n",
      "│     df[!, col_ind] = v\n",
      "│     df\n",
      "│ end` instead.\n",
      "│   caller = top-level scope at In[76]:4\n",
      "└ @ Core In[76]:4\n",
      "┌ Warning: `setindex!(df::DataFrame, v::AbstractVector, col_ind::ColumnIndex)` is deprecated, use `begin\n",
      "│     df[!, col_ind] = v\n",
      "│     df\n",
      "│ end` instead.\n",
      "│   caller = top-level scope at In[76]:6\n",
      "└ @ Core In[76]:6\n",
      "┌ Warning: `setindex!(df::DataFrame, v::AbstractVector, col_ind::ColumnIndex)` is deprecated, use `begin\n",
      "│     df[!, col_ind] = v\n",
      "│     df\n",
      "│ end` instead.\n",
      "│   caller = top-level scope at In[76]:7\n",
      "└ @ Core In[76]:7\n"
     ]
    }
   ],
   "source": [
    "# 6 Create a bigger DataFrame\n",
    "df2 = DataFrame()\n",
    "df2[:A] = 1:10\n",
    "df2[:B] = [\"I\", \"II\", \"II\", \"I\", \"II\",\"I\", \"II\", \"II\", \"I\", \"II\"]\n",
    "Random.seed!(1234)\n",
    "df2[:C] = rand(Normal(), 10)\n",
    "df2[:D] = rand(Chisq(1), 10);"
   ]
  },
  {
   "cell_type": "markdown",
   "metadata": {},
   "source": [
    "By using indexing (in square brackets), we can refer to row and column values (i.e. _row, column_).  Below is an example of seleting data point values for rows one through three, showing all the columns.  The colon symbol serves as shortcut syntax for this selection."
   ]
  },
  {
   "cell_type": "code",
   "execution_count": 77,
   "metadata": {},
   "outputs": [
    {
     "data": {
      "text/html": [
       "<table class=\"data-frame\"><thead><tr><th></th><th>A</th><th>B</th><th>C</th><th>D</th></tr><tr><th></th><th>Int64</th><th>String</th><th>Float64</th><th>Float64</th></tr></thead><tbody><p>3 rows × 4 columns</p><tr><th>1</th><td>1</td><td>I</td><td>0.867347</td><td>0.859325</td></tr><tr><th>2</th><td>2</td><td>II</td><td>-0.901744</td><td>0.304983</td></tr><tr><th>3</th><td>3</td><td>II</td><td>-0.494479</td><td>1.17771</td></tr></tbody></table>"
      ],
      "text/latex": [
       "\\begin{tabular}{r|cccc}\n",
       "\t& A & B & C & D\\\\\n",
       "\t\\hline\n",
       "\t& Int64 & String & Float64 & Float64\\\\\n",
       "\t\\hline\n",
       "\t1 & 1 & I & 0.867347 & 0.859325 \\\\\n",
       "\t2 & 2 & II & -0.901744 & 0.304983 \\\\\n",
       "\t3 & 3 & II & -0.494479 & 1.17771 \\\\\n",
       "\\end{tabular}\n"
      ],
      "text/plain": [
       "3×4 DataFrame\n",
       "│ Row │ A     │ B      │ C         │ D        │\n",
       "│     │ \u001b[90mInt64\u001b[39m │ \u001b[90mString\u001b[39m │ \u001b[90mFloat64\u001b[39m   │ \u001b[90mFloat64\u001b[39m  │\n",
       "├─────┼───────┼────────┼───────────┼──────────┤\n",
       "│ 1   │ 1     │ I      │ 0.867347  │ 0.859325 │\n",
       "│ 2   │ 2     │ II     │ -0.901744 │ 0.304983 │\n",
       "│ 3   │ 3     │ II     │ -0.494479 │ 1.17771  │"
      ]
     },
     "execution_count": 77,
     "metadata": {},
     "output_type": "execute_result"
    }
   ],
   "source": [
    "# First three rows with all the colums\n",
    "df2[1:3, :]"
   ]
  },
  {
   "cell_type": "markdown",
   "metadata": {},
   "source": [
    "If only specified columns, that is to say, not the range of one, two, and three as we did above, but rather only colums one and three, we create a list to indicate this."
   ]
  },
  {
   "cell_type": "code",
   "execution_count": 28,
   "metadata": {},
   "outputs": [
    {
     "data": {
      "text/html": [
       "<table class=\"data-frame\"><thead><tr><th></th><th>A</th><th>C</th></tr><tr><th></th><th>Int64</th><th>Float64</th></tr></thead><tbody><p>10 rows × 2 columns</p><tr><th>1</th><td>1</td><td>0.867347</td></tr><tr><th>2</th><td>2</td><td>-0.901744</td></tr><tr><th>3</th><td>3</td><td>-0.494479</td></tr><tr><th>4</th><td>4</td><td>-0.902914</td></tr><tr><th>5</th><td>5</td><td>0.864401</td></tr><tr><th>6</th><td>6</td><td>2.21188</td></tr><tr><th>7</th><td>7</td><td>0.532813</td></tr><tr><th>8</th><td>8</td><td>-0.271735</td></tr><tr><th>9</th><td>9</td><td>0.502334</td></tr><tr><th>10</th><td>10</td><td>-0.516984</td></tr></tbody></table>"
      ],
      "text/latex": [
       "\\begin{tabular}{r|cc}\n",
       "\t& A & C\\\\\n",
       "\t\\hline\n",
       "\t& Int64 & Float64\\\\\n",
       "\t\\hline\n",
       "\t1 & 1 & 0.867347 \\\\\n",
       "\t2 & 2 & -0.901744 \\\\\n",
       "\t3 & 3 & -0.494479 \\\\\n",
       "\t4 & 4 & -0.902914 \\\\\n",
       "\t5 & 5 & 0.864401 \\\\\n",
       "\t6 & 6 & 2.21188 \\\\\n",
       "\t7 & 7 & 0.532813 \\\\\n",
       "\t8 & 8 & -0.271735 \\\\\n",
       "\t9 & 9 & 0.502334 \\\\\n",
       "\t10 & 10 & -0.516984 \\\\\n",
       "\\end{tabular}\n"
      ],
      "text/plain": [
       "10×2 DataFrame\n",
       "│ Row │ A     │ C         │\n",
       "│     │ \u001b[90mInt64\u001b[39m │ \u001b[90mFloat64\u001b[39m   │\n",
       "├─────┼───────┼───────────┤\n",
       "│ 1   │ 1     │ 0.867347  │\n",
       "│ 2   │ 2     │ -0.901744 │\n",
       "│ 3   │ 3     │ -0.494479 │\n",
       "│ 4   │ 4     │ -0.902914 │\n",
       "│ 5   │ 5     │ 0.864401  │\n",
       "│ 6   │ 6     │ 2.21188   │\n",
       "│ 7   │ 7     │ 0.532813  │\n",
       "│ 8   │ 8     │ -0.271735 │\n",
       "│ 9   │ 9     │ 0.502334  │\n",
       "│ 10  │ 10    │ -0.516984 │"
      ]
     },
     "execution_count": 28,
     "metadata": {},
     "output_type": "execute_result"
    }
   ],
   "source": [
    "# All rows columns 1 and 3\n",
    "df2[:, [1, 3]]"
   ]
  },
  {
   "cell_type": "markdown",
   "metadata": {},
   "source": [
    "Instead of indicating the column numbers, we can also reference the actual column names (statistical variable names), using symbol notation, i.e. `:A`."
   ]
  },
  {
   "cell_type": "code",
   "execution_count": 29,
   "metadata": {},
   "outputs": [
    {
     "data": {
      "text/html": [
       "<table class=\"data-frame\"><thead><tr><th></th><th>A</th><th>C</th></tr><tr><th></th><th>Int64</th><th>Float64</th></tr></thead><tbody><p>10 rows × 2 columns</p><tr><th>1</th><td>1</td><td>0.867347</td></tr><tr><th>2</th><td>2</td><td>-0.901744</td></tr><tr><th>3</th><td>3</td><td>-0.494479</td></tr><tr><th>4</th><td>4</td><td>-0.902914</td></tr><tr><th>5</th><td>5</td><td>0.864401</td></tr><tr><th>6</th><td>6</td><td>2.21188</td></tr><tr><th>7</th><td>7</td><td>0.532813</td></tr><tr><th>8</th><td>8</td><td>-0.271735</td></tr><tr><th>9</th><td>9</td><td>0.502334</td></tr><tr><th>10</th><td>10</td><td>-0.516984</td></tr></tbody></table>"
      ],
      "text/latex": [
       "\\begin{tabular}{r|cc}\n",
       "\t& A & C\\\\\n",
       "\t\\hline\n",
       "\t& Int64 & Float64\\\\\n",
       "\t\\hline\n",
       "\t1 & 1 & 0.867347 \\\\\n",
       "\t2 & 2 & -0.901744 \\\\\n",
       "\t3 & 3 & -0.494479 \\\\\n",
       "\t4 & 4 & -0.902914 \\\\\n",
       "\t5 & 5 & 0.864401 \\\\\n",
       "\t6 & 6 & 2.21188 \\\\\n",
       "\t7 & 7 & 0.532813 \\\\\n",
       "\t8 & 8 & -0.271735 \\\\\n",
       "\t9 & 9 & 0.502334 \\\\\n",
       "\t10 & 10 & -0.516984 \\\\\n",
       "\\end{tabular}\n"
      ],
      "text/plain": [
       "10×2 DataFrame\n",
       "│ Row │ A     │ C         │\n",
       "│     │ \u001b[90mInt64\u001b[39m │ \u001b[90mFloat64\u001b[39m   │\n",
       "├─────┼───────┼───────────┤\n",
       "│ 1   │ 1     │ 0.867347  │\n",
       "│ 2   │ 2     │ -0.901744 │\n",
       "│ 3   │ 3     │ -0.494479 │\n",
       "│ 4   │ 4     │ -0.902914 │\n",
       "│ 5   │ 5     │ 0.864401  │\n",
       "│ 6   │ 6     │ 2.21188   │\n",
       "│ 7   │ 7     │ 0.532813  │\n",
       "│ 8   │ 8     │ -0.271735 │\n",
       "│ 9   │ 9     │ 0.502334  │\n",
       "│ 10  │ 10    │ -0.516984 │"
      ]
     },
     "execution_count": 29,
     "metadata": {},
     "output_type": "execute_result"
    }
   ],
   "source": [
    "# Different notation\n",
    "df2[:, [:A, :C]]"
   ]
  },
  {
   "cell_type": "markdown",
   "metadata": {},
   "source": [
    "The `CSV.jl` package's `read()` function can import a comma separated values data file."
   ]
  },
  {
   "cell_type": "code",
   "execution_count": 30,
   "metadata": {},
   "outputs": [],
   "source": [
    "# Make sure to install the package in the REPL first\n",
    "using CSV"
   ]
  },
  {
   "cell_type": "markdown",
   "metadata": {},
   "source": [
    "The file is saved in the same directory / folder as this notebook file."
   ]
  },
  {
   "cell_type": "code",
   "execution_count": 78,
   "metadata": {},
   "outputs": [
    {
     "ename": "ArgumentError",
     "evalue": "ArgumentError: \"CCS.csv\" is not a valid file",
     "output_type": "error",
     "traceback": [
      "ArgumentError: \"CCS.csv\" is not a valid file",
      "",
      "Stacktrace:",
      " [1] CSV.Header(::String, ::Int64, ::Bool, ::Int64, ::Nothing, ::Int64, ::Int64, ::Bool, ::Nothing, ::Bool, ::Bool, ::Nothing, ::Nothing, ::Nothing, ::Array{String,1}, ::String, ::Nothing, ::Bool, ::Char, ::Nothing, ::Nothing, ::Char, ::Nothing, ::Nothing, ::UInt8, ::Array{String,1}, ::Array{String,1}, ::Nothing, ::Nothing, ::Dict{Int8,Int8}, ::Bool, ::Float64, ::Bool, ::Bool, ::Bool, ::Bool, ::Bool) at /Users/manjunathvhatkar/.julia/packages/CSV/vyG0T/src/header.jl:84",
      " [2] CSV.File(::String; header::Int64, normalizenames::Bool, datarow::Int64, skipto::Nothing, footerskip::Int64, limit::Int64, transpose::Bool, comment::Nothing, use_mmap::Bool, ignoreemptylines::Bool, threaded::Nothing, select::Nothing, drop::Nothing, missingstrings::Array{String,1}, missingstring::String, delim::Nothing, ignorerepeated::Bool, quotechar::Char, openquotechar::Nothing, closequotechar::Nothing, escapechar::Char, dateformat::Nothing, dateformats::Nothing, decimal::UInt8, truestrings::Array{String,1}, falsestrings::Array{String,1}, type::Nothing, types::Nothing, typemap::Dict{Int8,Int8}, categorical::Bool, pool::Float64, strict::Bool, silencewarnings::Bool, debug::Bool, parsingdebug::Bool) at /Users/manjunathvhatkar/.julia/packages/CSV/vyG0T/src/file.jl:210",
      " [3] CSV.File(::String) at /Users/manjunathvhatkar/.julia/packages/CSV/vyG0T/src/file.jl:210",
      " [4] #read#84 at /Users/manjunathvhatkar/.julia/packages/CSV/vyG0T/src/CSV.jl:41 [inlined]",
      " [5] read(::String) at /Users/manjunathvhatkar/.julia/packages/CSV/vyG0T/src/CSV.jl:41",
      " [6] top-level scope at In[78]:1"
     ]
    }
   ],
   "source": [
    "# Import csv file (in same directory / folder)\n",
    "data1 = CSV.read(\"CCS.csv\");"
   ]
  },
  {
   "cell_type": "markdown",
   "metadata": {},
   "source": [
    "Using the `type()` function, we note that we now have an instance of a dataframe object."
   ]
  },
  {
   "cell_type": "code",
   "execution_count": 79,
   "metadata": {},
   "outputs": [
    {
     "ename": "UndefVarError",
     "evalue": "UndefVarError: data1 not defined",
     "output_type": "error",
     "traceback": [
      "UndefVarError: data1 not defined",
      "",
      "Stacktrace:",
      " [1] top-level scope at In[79]:1"
     ]
    }
   ],
   "source": [
    "typeof(data1)"
   ]
  },
  {
   "cell_type": "markdown",
   "metadata": {},
   "source": [
    "Let's view the first five rows of data."
   ]
  },
  {
   "cell_type": "code",
   "execution_count": 80,
   "metadata": {},
   "outputs": [
    {
     "ename": "UndefVarError",
     "evalue": "UndefVarError: data1 not defined",
     "output_type": "error",
     "traceback": [
      "UndefVarError: data1 not defined",
      "",
      "Stacktrace:",
      " [1] top-level scope at In[80]:1"
     ]
    }
   ],
   "source": [
    "first(data1, 5)"
   ]
  },
  {
   "cell_type": "markdown",
   "metadata": {},
   "source": [
    "The `describe()` function will attempt to summarize all the variables.  In the case of categorical variables, an alphabetical arrangement for minimum and maximum values will be stated."
   ]
  },
  {
   "cell_type": "code",
   "execution_count": 81,
   "metadata": {},
   "outputs": [
    {
     "ename": "UndefVarError",
     "evalue": "UndefVarError: data1 not defined",
     "output_type": "error",
     "traceback": [
      "UndefVarError: data1 not defined",
      "",
      "Stacktrace:",
      " [1] top-level scope at In[81]:1"
     ]
    }
   ],
   "source": [
    "describe(data1)"
   ]
  },
  {
   "cell_type": "markdown",
   "metadata": {},
   "source": [
    "[Back to the top](#In-this-lecture)"
   ]
  },
  {
   "cell_type": "markdown",
   "metadata": {},
   "source": [
    "### Combining dataframes"
   ]
  },
  {
   "cell_type": "markdown",
   "metadata": {},
   "source": [
    "Combining dataframes on a common variable is a very useful operation.  Below we create two dataframe instances.  Note that both have a `Number` variable."
   ]
  },
  {
   "cell_type": "code",
   "execution_count": 82,
   "metadata": {},
   "outputs": [],
   "source": [
    "# Creating DataFrames\n",
    "subjects = DataFrame(Number = [100, 101, 102, 103], Stage = [\"I\", \"III\", \"II\", \"I\"])\n",
    "treatment  = DataFrame(Number = [103, 102, 101, 100], Treatment = [\"A\", \"B\", \"A\", \"B\"]);"
   ]
  },
  {
   "cell_type": "markdown",
   "metadata": {},
   "source": [
    "The `join()` function takes the dataframe objects that require joining as arguments.  The `on =` argument (in symbol form), specifies the variable on which to join.  In this default mode, only values for the stated variable that appear in both dataframes will be included."
   ]
  },
  {
   "cell_type": "code",
   "execution_count": 83,
   "metadata": {},
   "outputs": [
    {
     "data": {
      "text/html": [
       "<table class=\"data-frame\"><thead><tr><th></th><th>Number</th><th>Stage</th><th>Treatment</th></tr><tr><th></th><th>Int64</th><th>String</th><th>String</th></tr></thead><tbody><p>4 rows × 3 columns</p><tr><th>1</th><td>100</td><td>I</td><td>B</td></tr><tr><th>2</th><td>101</td><td>III</td><td>A</td></tr><tr><th>3</th><td>102</td><td>II</td><td>B</td></tr><tr><th>4</th><td>103</td><td>I</td><td>A</td></tr></tbody></table>"
      ],
      "text/latex": [
       "\\begin{tabular}{r|ccc}\n",
       "\t& Number & Stage & Treatment\\\\\n",
       "\t\\hline\n",
       "\t& Int64 & String & String\\\\\n",
       "\t\\hline\n",
       "\t1 & 100 & I & B \\\\\n",
       "\t2 & 101 & III & A \\\\\n",
       "\t3 & 102 & II & B \\\\\n",
       "\t4 & 103 & I & A \\\\\n",
       "\\end{tabular}\n"
      ],
      "text/plain": [
       "4×3 DataFrame\n",
       "│ Row │ Number │ Stage  │ Treatment │\n",
       "│     │ \u001b[90mInt64\u001b[39m  │ \u001b[90mString\u001b[39m │ \u001b[90mString\u001b[39m    │\n",
       "├─────┼────────┼────────┼───────────┤\n",
       "│ 1   │ 100    │ I      │ B         │\n",
       "│ 2   │ 101    │ III    │ A         │\n",
       "│ 3   │ 102    │ II     │ B         │\n",
       "│ 4   │ 103    │ I      │ A         │"
      ]
     },
     "execution_count": 83,
     "metadata": {},
     "output_type": "execute_result"
    }
   ],
   "source": [
    "#Joining\n",
    "df3 = join(subjects, treatment, on = :Number);\n",
    "df3"
   ]
  },
  {
   "cell_type": "code",
   "execution_count": 84,
   "metadata": {},
   "outputs": [],
   "source": [
    "# Adding a longer list of subjects\n",
    "subjects = DataFrame(Number = [100, 101, 102, 103, 104, 105], Stage = [\"I\", \"III\", \"II\", \"I\", \"II\", \"II\"]);"
   ]
  },
  {
   "cell_type": "markdown",
   "metadata": {},
   "source": [
    "The `kind =` argument allows for more control.  An inner join is the default (same as above)."
   ]
  },
  {
   "cell_type": "code",
   "execution_count": 85,
   "metadata": {},
   "outputs": [
    {
     "data": {
      "text/html": [
       "<table class=\"data-frame\"><thead><tr><th></th><th>Number</th><th>Stage</th><th>Treatment</th></tr><tr><th></th><th>Int64</th><th>String</th><th>String</th></tr></thead><tbody><p>4 rows × 3 columns</p><tr><th>1</th><td>100</td><td>I</td><td>B</td></tr><tr><th>2</th><td>101</td><td>III</td><td>A</td></tr><tr><th>3</th><td>102</td><td>II</td><td>B</td></tr><tr><th>4</th><td>103</td><td>I</td><td>A</td></tr></tbody></table>"
      ],
      "text/latex": [
       "\\begin{tabular}{r|ccc}\n",
       "\t& Number & Stage & Treatment\\\\\n",
       "\t\\hline\n",
       "\t& Int64 & String & String\\\\\n",
       "\t\\hline\n",
       "\t1 & 100 & I & B \\\\\n",
       "\t2 & 101 & III & A \\\\\n",
       "\t3 & 102 & II & B \\\\\n",
       "\t4 & 103 & I & A \\\\\n",
       "\\end{tabular}\n"
      ],
      "text/plain": [
       "4×3 DataFrame\n",
       "│ Row │ Number │ Stage  │ Treatment │\n",
       "│     │ \u001b[90mInt64\u001b[39m  │ \u001b[90mString\u001b[39m │ \u001b[90mString\u001b[39m    │\n",
       "├─────┼────────┼────────┼───────────┤\n",
       "│ 1   │ 100    │ I      │ B         │\n",
       "│ 2   │ 101    │ III    │ A         │\n",
       "│ 3   │ 102    │ II     │ B         │\n",
       "│ 4   │ 103    │ I      │ A         │"
      ]
     },
     "execution_count": 85,
     "metadata": {},
     "output_type": "execute_result"
    }
   ],
   "source": [
    "# Inner join\n",
    " df4 = join(subjects, treatment, on = :Number, kind = :inner);\n",
    " df4"
   ]
  },
  {
   "cell_type": "markdown",
   "metadata": {},
   "source": [
    "An outer join will join both dataframes and add `missing` data."
   ]
  },
  {
   "cell_type": "code",
   "execution_count": 86,
   "metadata": {},
   "outputs": [
    {
     "data": {
      "text/html": [
       "<table class=\"data-frame\"><thead><tr><th></th><th>Number</th><th>Stage</th><th>Treatment</th></tr><tr><th></th><th>Int64?</th><th>String?</th><th>String?</th></tr></thead><tbody><p>6 rows × 3 columns</p><tr><th>1</th><td>100</td><td>I</td><td>B</td></tr><tr><th>2</th><td>101</td><td>III</td><td>A</td></tr><tr><th>3</th><td>102</td><td>II</td><td>B</td></tr><tr><th>4</th><td>103</td><td>I</td><td>A</td></tr><tr><th>5</th><td>104</td><td>II</td><td><em>missing</em></td></tr><tr><th>6</th><td>105</td><td>II</td><td><em>missing</em></td></tr></tbody></table>"
      ],
      "text/latex": [
       "\\begin{tabular}{r|ccc}\n",
       "\t& Number & Stage & Treatment\\\\\n",
       "\t\\hline\n",
       "\t& Int64? & String? & String?\\\\\n",
       "\t\\hline\n",
       "\t1 & 100 & I & B \\\\\n",
       "\t2 & 101 & III & A \\\\\n",
       "\t3 & 102 & II & B \\\\\n",
       "\t4 & 103 & I & A \\\\\n",
       "\t5 & 104 & II & \\emph{missing} \\\\\n",
       "\t6 & 105 & II & \\emph{missing} \\\\\n",
       "\\end{tabular}\n"
      ],
      "text/plain": [
       "6×3 DataFrame\n",
       "│ Row │ Number │ Stage   │ Treatment │\n",
       "│     │ \u001b[90mInt64?\u001b[39m │ \u001b[90mString?\u001b[39m │ \u001b[90mString?\u001b[39m   │\n",
       "├─────┼────────┼─────────┼───────────┤\n",
       "│ 1   │ 100    │ I       │ B         │\n",
       "│ 2   │ 101    │ III     │ A         │\n",
       "│ 3   │ 102    │ II      │ B         │\n",
       "│ 4   │ 103    │ I       │ A         │\n",
       "│ 5   │ 104    │ II      │ \u001b[90mmissing\u001b[39m   │\n",
       "│ 6   │ 105    │ II      │ \u001b[90mmissing\u001b[39m   │"
      ]
     },
     "execution_count": 86,
     "metadata": {},
     "output_type": "execute_result"
    }
   ],
   "source": [
    "# Outer joing: empty fields filled with missing\n",
    "df5  = join(subjects, treatment, on = :Number, kind = :outer);\n",
    "df5"
   ]
  },
  {
   "cell_type": "markdown",
   "metadata": {},
   "source": [
    "[Back to the top](#In-this-lecture)"
   ]
  },
  {
   "cell_type": "markdown",
   "metadata": {},
   "source": [
    "### Grouping"
   ]
  },
  {
   "cell_type": "markdown",
   "metadata": {},
   "source": [
    "A dataframe can be _spliced_ by grouping rows according to values in a variable."
   ]
  },
  {
   "cell_type": "code",
   "execution_count": 87,
   "metadata": {},
   "outputs": [
    {
     "data": {
      "text/html": [
       "<table class=\"data-frame\"><thead><tr><th></th><th>Group</th><th>Variable1</th><th>Variable2</th></tr><tr><th></th><th>String</th><th>Float64</th><th>Float64</th></tr></thead><tbody><p>3 rows × 3 columns</p><tr><th>1</th><td>B</td><td>1.48217</td><td>0.869237</td></tr><tr><th>2</th><td>B</td><td>-0.522772</td><td>0.0396356</td></tr><tr><th>3</th><td>B</td><td>-1.5807</td><td>0.79041</td></tr></tbody></table>"
      ],
      "text/latex": [
       "\\begin{tabular}{r|ccc}\n",
       "\t& Group & Variable1 & Variable2\\\\\n",
       "\t\\hline\n",
       "\t& String & Float64 & Float64\\\\\n",
       "\t\\hline\n",
       "\t1 & B & 1.48217 & 0.869237 \\\\\n",
       "\t2 & B & -0.522772 & 0.0396356 \\\\\n",
       "\t3 & B & -1.5807 & 0.79041 \\\\\n",
       "\\end{tabular}\n"
      ],
      "text/plain": [
       "3×3 DataFrame\n",
       "│ Row │ Group  │ Variable1 │ Variable2 │\n",
       "│     │ \u001b[90mString\u001b[39m │ \u001b[90mFloat64\u001b[39m   │ \u001b[90mFloat64\u001b[39m   │\n",
       "├─────┼────────┼───────────┼───────────┤\n",
       "│ 1   │ B      │ 1.48217   │ 0.869237  │\n",
       "│ 2   │ B      │ -0.522772 │ 0.0396356 │\n",
       "│ 3   │ B      │ -1.5807   │ 0.79041   │"
      ]
     },
     "execution_count": 87,
     "metadata": {},
     "output_type": "execute_result"
    }
   ],
   "source": [
    "# Creating a new DataFrame\n",
    "df6 = DataFrame(Group = rand([\"A\", \"B\", \"C\"], 15), Variable1 = randn(15), Variable2 = rand(15));\n",
    "first(df6, 3)"
   ]
  },
  {
   "cell_type": "markdown",
   "metadata": {},
   "source": [
    "The `by()` function takes a dataframe object as first argument.  This is followed by a column (variable) on which to group by.  Below we use the `size` argument to indicate the number of rows and columns for the number of each unique values that are found in the specified variable."
   ]
  },
  {
   "cell_type": "code",
   "execution_count": 88,
   "metadata": {},
   "outputs": [
    {
     "name": "stderr",
     "output_type": "stream",
     "text": [
      "┌ Warning: `by(d::AbstractDataFrame, cols::Any, f::Base.Callable; sort::Bool = false, skipmissing::Bool = false)` is deprecated, use `combine(f, groupby(d, cols, sort = sort, skipmissing = skipmissing))` instead.\n",
      "│   caller = top-level scope at In[88]:1\n",
      "└ @ Core In[88]:1\n"
     ]
    },
    {
     "data": {
      "text/html": [
       "<table class=\"data-frame\"><thead><tr><th></th><th>Group</th><th>x1</th></tr><tr><th></th><th>String</th><th>Tuple…</th></tr></thead><tbody><p>3 rows × 2 columns</p><tr><th>1</th><td>B</td><td>(11, 3)</td></tr><tr><th>2</th><td>A</td><td>(2, 3)</td></tr><tr><th>3</th><td>C</td><td>(2, 3)</td></tr></tbody></table>"
      ],
      "text/latex": [
       "\\begin{tabular}{r|cc}\n",
       "\t& Group & x1\\\\\n",
       "\t\\hline\n",
       "\t& String & Tuple…\\\\\n",
       "\t\\hline\n",
       "\t1 & B & (11, 3) \\\\\n",
       "\t2 & A & (2, 3) \\\\\n",
       "\t3 & C & (2, 3) \\\\\n",
       "\\end{tabular}\n"
      ],
      "text/plain": [
       "3×2 DataFrame\n",
       "│ Row │ Group  │ x1      │\n",
       "│     │ \u001b[90mString\u001b[39m │ \u001b[90mTuple…\u001b[39m  │\n",
       "├─────┼────────┼─────────┤\n",
       "│ 1   │ B      │ (11, 3) │\n",
       "│ 2   │ A      │ (2, 3)  │\n",
       "│ 3   │ C      │ (2, 3)  │"
      ]
     },
     "execution_count": 88,
     "metadata": {},
     "output_type": "execute_result"
    }
   ],
   "source": [
    "#Grouping using by()\n",
    "by(df6, :Group, size)"
   ]
  },
  {
   "cell_type": "markdown",
   "metadata": {},
   "source": [
    "Since the dataframe has three columns, we note that as the second value in the `count` tuple returned above.  The first value shows the number of instances of the unique values found for the specified variable."
   ]
  },
  {
   "cell_type": "markdown",
   "metadata": {},
   "source": [
    "Below we create a dataframe instance that shows only the count of the unique values."
   ]
  },
  {
   "cell_type": "code",
   "execution_count": 89,
   "metadata": {},
   "outputs": [
    {
     "name": "stderr",
     "output_type": "stream",
     "text": [
      "┌ Warning: `by(d::AbstractDataFrame, cols::Any, f::Base.Callable; sort::Bool = false, skipmissing::Bool = false)` is deprecated, use `combine(f, groupby(d, cols, sort = sort, skipmissing = skipmissing))` instead.\n",
      "│   caller = top-level scope at In[89]:1\n",
      "└ @ Core In[89]:1\n"
     ]
    },
    {
     "data": {
      "text/html": [
       "<table class=\"data-frame\"><thead><tr><th></th><th>Group</th><th>Count</th></tr><tr><th></th><th>String</th><th>Int64</th></tr></thead><tbody><p>3 rows × 2 columns</p><tr><th>1</th><td>B</td><td>11</td></tr><tr><th>2</th><td>A</td><td>2</td></tr><tr><th>3</th><td>C</td><td>2</td></tr></tbody></table>"
      ],
      "text/latex": [
       "\\begin{tabular}{r|cc}\n",
       "\t& Group & Count\\\\\n",
       "\t\\hline\n",
       "\t& String & Int64\\\\\n",
       "\t\\hline\n",
       "\t1 & B & 11 \\\\\n",
       "\t2 & A & 2 \\\\\n",
       "\t3 & C & 2 \\\\\n",
       "\\end{tabular}\n"
      ],
      "text/plain": [
       "3×2 DataFrame\n",
       "│ Row │ Group  │ Count │\n",
       "│     │ \u001b[90mString\u001b[39m │ \u001b[90mInt64\u001b[39m │\n",
       "├─────┼────────┼───────┤\n",
       "│ 1   │ B      │ 11    │\n",
       "│ 2   │ A      │ 2     │\n",
       "│ 3   │ C      │ 2     │"
      ]
     },
     "execution_count": 89,
     "metadata": {},
     "output_type": "execute_result"
    }
   ],
   "source": [
    "# Count unique data point values in :Group column\n",
    "by(df6, :Group, dfc -> DataFrame(Count = size(dfc, 1)))"
   ]
  },
  {
   "cell_type": "markdown",
   "metadata": {},
   "source": [
    "The `aggregate()` function also groups a dataframe by unique values for a specified column, but then provides the ability to list statistical tests required."
   ]
  },
  {
   "cell_type": "code",
   "execution_count": 90,
   "metadata": {},
   "outputs": [
    {
     "name": "stdout",
     "output_type": "stream",
     "text": [
      "3×5 DataFrame\n",
      "│ Row │ Group  │ Variable1_mean │ Variable2_mean │ Variable1_std │ Variable2_std │\n",
      "│     │ \u001b[90mString\u001b[39m │ \u001b[90mFloat64\u001b[39m        │ \u001b[90mFloat64\u001b[39m        │ \u001b[90mFloat64\u001b[39m       │ \u001b[90mFloat64\u001b[39m       │\n",
      "├─────┼────────┼────────────────┼────────────────┼───────────────┼───────────────┤\n",
      "│ 1   │ B      │ -0.0518152     │ 0.41795        │ 1.20435       │ 0.274403      │\n",
      "│ 2   │ A      │ -0.191824      │ 0.544708       │ 0.789975      │ 0.409632      │\n",
      "│ 3   │ C      │ 0.152627       │ 0.371762    "
     ]
    },
    {
     "name": "stderr",
     "output_type": "stream",
     "text": [
      "┌ Warning: `aggregate(d, cols, fs, sort=false, skipmissing=false)`  is deprecated. Instead use combine(groupby(d, cols, sort=false, skipmissing=false), [names(d, Not(cols)) .=> f for f in fs]...)` if functions in `fs` have unique names.\n",
      "│   caller = top-level scope at In[90]:1\n",
      "└ @ Core In[90]:1\n"
     ]
    },
    {
     "name": "stdout",
     "output_type": "stream",
     "text": [
      "   │ 0.0256698     │ 0.370051      │"
     ]
    }
   ],
   "source": [
    "# Aggregate for descriptive statistics\n",
    "print(aggregate(df6, :Group, [mean, std]))"
   ]
  },
  {
   "cell_type": "markdown",
   "metadata": {},
   "source": [
    "The `groupby()` function actually creates sub-dataframes based on the unique values found in the specified variable."
   ]
  },
  {
   "cell_type": "code",
   "execution_count": 91,
   "metadata": {},
   "outputs": [
    {
     "data": {
      "text/html": [
       "<p><b>GroupedDataFrame with 3 groups based on key: Group</b></p><p><i>First Group (11 rows): Group = \"B\"</i></p><table class=\"data-frame\"><thead><tr><th></th><th>Group</th><th>Variable1</th><th>Variable2</th></tr><tr><th></th><th>String</th><th>Float64</th><th>Float64</th></tr></thead><tbody><tr><th>1</th><td>B</td><td>1.48217</td><td>0.869237</td></tr><tr><th>2</th><td>B</td><td>-0.522772</td><td>0.0396356</td></tr><tr><th>3</th><td>B</td><td>-1.5807</td><td>0.79041</td></tr><tr><th>4</th><td>B</td><td>0.131842</td><td>0.431188</td></tr><tr><th>5</th><td>B</td><td>0.447358</td><td>0.137658</td></tr><tr><th>6</th><td>B</td><td>-0.396211</td><td>0.60808</td></tr><tr><th>7</th><td>B</td><td>0.621673</td><td>0.498734</td></tr><tr><th>8</th><td>B</td><td>0.182588</td><td>0.0940369</td></tr><tr><th>9</th><td>B</td><td>2.06353</td><td>0.52509</td></tr><tr><th>10</th><td>B</td><td>-1.41453</td><td>0.265511</td></tr><tr><th>11</th><td>B</td><td>-1.58492</td><td>0.337865</td></tr></tbody></table><p>&vellip;</p><p><i>Last Group (2 rows): Group = \"C\"</i></p><table class=\"data-frame\"><thead><tr><th></th><th>Group</th><th>Variable1</th><th>Variable2</th></tr><tr><th></th><th>String</th><th>Float64</th><th>Float64</th></tr></thead><tbody><tr><th>1</th><td>C</td><td>0.134475</td><td>0.110096</td></tr><tr><th>2</th><td>C</td><td>0.170778</td><td>0.633427</td></tr></tbody></table>"
      ],
      "text/latex": [
       "GroupedDataFrame with 3 groups based on key: Group\n",
       "\n",
       "First Group (11 rows): Group = \"B\"\n",
       "\n",
       "\\begin{tabular}{r|ccc}\n",
       "\t& Group & Variable1 & Variable2\\\\\n",
       "\t\\hline\n",
       "\t& String & Float64 & Float64\\\\\n",
       "\t\\hline\n",
       "\t1 & B & 1.48217 & 0.869237 \\\\\n",
       "\t2 & B & -0.522772 & 0.0396356 \\\\\n",
       "\t3 & B & -1.5807 & 0.79041 \\\\\n",
       "\t4 & B & 0.131842 & 0.431188 \\\\\n",
       "\t5 & B & 0.447358 & 0.137658 \\\\\n",
       "\t6 & B & -0.396211 & 0.60808 \\\\\n",
       "\t7 & B & 0.621673 & 0.498734 \\\\\n",
       "\t8 & B & 0.182588 & 0.0940369 \\\\\n",
       "\t9 & B & 2.06353 & 0.52509 \\\\\n",
       "\t10 & B & -1.41453 & 0.265511 \\\\\n",
       "\t11 & B & -1.58492 & 0.337865 \\\\\n",
       "\\end{tabular}\n",
       "\n",
       "$\\dots$\n",
       "\n",
       "Last Group (2 rows): Group = \"C\"\n",
       "\n",
       "\\begin{tabular}{r|ccc}\n",
       "\t& Group & Variable1 & Variable2\\\\\n",
       "\t\\hline\n",
       "\t& String & Float64 & Float64\\\\\n",
       "\t\\hline\n",
       "\t1 & C & 0.134475 & 0.110096 \\\\\n",
       "\t2 & C & 0.170778 & 0.633427 \\\\\n",
       "\\end{tabular}\n"
      ],
      "text/plain": [
       "GroupedDataFrame with 3 groups based on key: Group\n",
       "First Group (11 rows): Group = \"B\"\n",
       "│ Row │ Group  │ Variable1 │ Variable2 │\n",
       "│     │ \u001b[90mString\u001b[39m │ \u001b[90mFloat64\u001b[39m   │ \u001b[90mFloat64\u001b[39m   │\n",
       "├─────┼────────┼───────────┼───────────┤\n",
       "│ 1   │ B      │ 1.48217   │ 0.869237  │\n",
       "│ 2   │ B      │ -0.522772 │ 0.0396356 │\n",
       "│ 3   │ B      │ -1.5807   │ 0.79041   │\n",
       "│ 4   │ B      │ 0.131842  │ 0.431188  │\n",
       "│ 5   │ B      │ 0.447358  │ 0.137658  │\n",
       "│ 6   │ B      │ -0.396211 │ 0.60808   │\n",
       "│ 7   │ B      │ 0.621673  │ 0.498734  │\n",
       "│ 8   │ B      │ 0.182588  │ 0.0940369 │\n",
       "│ 9   │ B      │ 2.06353   │ 0.52509   │\n",
       "│ 10  │ B      │ -1.41453  │ 0.265511  │\n",
       "│ 11  │ B      │ -1.58492  │ 0.337865  │\n",
       "⋮\n",
       "Last Group (2 rows): Group = \"C\"\n",
       "│ Row │ Group  │ Variable1 │ Variable2 │\n",
       "│     │ \u001b[90mString\u001b[39m │ \u001b[90mFloat64\u001b[39m   │ \u001b[90mFloat64\u001b[39m   │\n",
       "├─────┼────────┼───────────┼───────────┤\n",
       "│ 1   │ C      │ 0.134475  │ 0.110096  │\n",
       "│ 2   │ C      │ 0.170778  │ 0.633427  │"
      ]
     },
     "execution_count": 91,
     "metadata": {},
     "output_type": "execute_result"
    }
   ],
   "source": [
    "#Group\n",
    "groupby(df6, :Group)"
   ]
  },
  {
   "cell_type": "markdown",
   "metadata": {},
   "source": [
    "By calling the `length()` function, we note that there are indeed three sub-dataframes."
   ]
  },
  {
   "cell_type": "code",
   "execution_count": 92,
   "metadata": {},
   "outputs": [
    {
     "data": {
      "text/plain": [
       "3"
      ]
     },
     "execution_count": 92,
     "metadata": {},
     "output_type": "execute_result"
    }
   ],
   "source": [
    "length(groupby(df6, :Group))"
   ]
  },
  {
   "cell_type": "markdown",
   "metadata": {},
   "source": [
    "Using indexing, we can select any of the three sub-dataframes."
   ]
  },
  {
   "cell_type": "code",
   "execution_count": 93,
   "metadata": {},
   "outputs": [
    {
     "data": {
      "text/html": [
       "<table class=\"data-frame\"><thead><tr><th></th><th>Group</th><th>Variable1</th><th>Variable2</th></tr><tr><th></th><th>String</th><th>Float64</th><th>Float64</th></tr></thead><tbody><p>2 rows × 3 columns</p><tr><th>1</th><td>A</td><td>0.366773</td><td>0.255054</td></tr><tr><th>2</th><td>A</td><td>-0.750421</td><td>0.834362</td></tr></tbody></table>"
      ],
      "text/latex": [
       "\\begin{tabular}{r|ccc}\n",
       "\t& Group & Variable1 & Variable2\\\\\n",
       "\t\\hline\n",
       "\t& String & Float64 & Float64\\\\\n",
       "\t\\hline\n",
       "\t1 & A & 0.366773 & 0.255054 \\\\\n",
       "\t2 & A & -0.750421 & 0.834362 \\\\\n",
       "\\end{tabular}\n"
      ],
      "text/plain": [
       "2×3 SubDataFrame\n",
       "│ Row │ Group  │ Variable1 │ Variable2 │\n",
       "│     │ \u001b[90mString\u001b[39m │ \u001b[90mFloat64\u001b[39m   │ \u001b[90mFloat64\u001b[39m   │\n",
       "├─────┼────────┼───────────┼───────────┤\n",
       "│ 1   │ A      │ 0.366773  │ 0.255054  │\n",
       "│ 2   │ A      │ -0.750421 │ 0.834362  │"
      ]
     },
     "execution_count": 93,
     "metadata": {},
     "output_type": "execute_result"
    }
   ],
   "source": [
    "groupby(df6, :Group)[2]"
   ]
  },
  {
   "cell_type": "markdown",
   "metadata": {},
   "source": [
    "[Back to the top](#In-this-lecture)"
   ]
  },
  {
   "cell_type": "markdown",
   "metadata": {},
   "source": [
    "### Sorting"
   ]
  },
  {
   "cell_type": "markdown",
   "metadata": {},
   "source": [
    "Sorting using the `sort!()` function (permanent bang version used here), does what is says on the box.  A list can be provided to sort by more than one variable."
   ]
  },
  {
   "cell_type": "code",
   "execution_count": 94,
   "metadata": {},
   "outputs": [
    {
     "data": {
      "text/html": [
       "<table class=\"data-frame\"><thead><tr><th></th><th>Group</th><th>Variable1</th><th>Variable2</th></tr><tr><th></th><th>String</th><th>Float64</th><th>Float64</th></tr></thead><tbody><p>7 rows × 3 columns</p><tr><th>1</th><td>A</td><td>-0.750421</td><td>0.834362</td></tr><tr><th>2</th><td>A</td><td>0.366773</td><td>0.255054</td></tr><tr><th>3</th><td>B</td><td>-1.58492</td><td>0.337865</td></tr><tr><th>4</th><td>B</td><td>-1.5807</td><td>0.79041</td></tr><tr><th>5</th><td>B</td><td>-1.41453</td><td>0.265511</td></tr><tr><th>6</th><td>B</td><td>-0.522772</td><td>0.0396356</td></tr><tr><th>7</th><td>B</td><td>-0.396211</td><td>0.60808</td></tr></tbody></table>"
      ],
      "text/latex": [
       "\\begin{tabular}{r|ccc}\n",
       "\t& Group & Variable1 & Variable2\\\\\n",
       "\t\\hline\n",
       "\t& String & Float64 & Float64\\\\\n",
       "\t\\hline\n",
       "\t1 & A & -0.750421 & 0.834362 \\\\\n",
       "\t2 & A & 0.366773 & 0.255054 \\\\\n",
       "\t3 & B & -1.58492 & 0.337865 \\\\\n",
       "\t4 & B & -1.5807 & 0.79041 \\\\\n",
       "\t5 & B & -1.41453 & 0.265511 \\\\\n",
       "\t6 & B & -0.522772 & 0.0396356 \\\\\n",
       "\t7 & B & -0.396211 & 0.60808 \\\\\n",
       "\\end{tabular}\n"
      ],
      "text/plain": [
       "7×3 DataFrame\n",
       "│ Row │ Group  │ Variable1 │ Variable2 │\n",
       "│     │ \u001b[90mString\u001b[39m │ \u001b[90mFloat64\u001b[39m   │ \u001b[90mFloat64\u001b[39m   │\n",
       "├─────┼────────┼───────────┼───────────┤\n",
       "│ 1   │ A      │ -0.750421 │ 0.834362  │\n",
       "│ 2   │ A      │ 0.366773  │ 0.255054  │\n",
       "│ 3   │ B      │ -1.58492  │ 0.337865  │\n",
       "│ 4   │ B      │ -1.5807   │ 0.79041   │\n",
       "│ 5   │ B      │ -1.41453  │ 0.265511  │\n",
       "│ 6   │ B      │ -0.522772 │ 0.0396356 │\n",
       "│ 7   │ B      │ -0.396211 │ 0.60808   │"
      ]
     },
     "execution_count": 94,
     "metadata": {},
     "output_type": "execute_result"
    }
   ],
   "source": [
    "df6S = sort!(df6, [:Group, :Variable1]);\n",
    "first(df6S, 7)"
   ]
  },
  {
   "cell_type": "markdown",
   "metadata": {},
   "source": [
    "[Back to the top](#In-this-lecture)"
   ]
  },
  {
   "cell_type": "markdown",
   "metadata": {},
   "source": [
    "### Unique rows only"
   ]
  },
  {
   "cell_type": "markdown",
   "metadata": {},
   "source": [
    "Below we create a dataframe with two identical rows."
   ]
  },
  {
   "cell_type": "code",
   "execution_count": 95,
   "metadata": {},
   "outputs": [
    {
     "data": {
      "text/html": [
       "<table class=\"data-frame\"><thead><tr><th></th><th>A</th><th>B</th><th>C</th></tr><tr><th></th><th>Int64</th><th>Int64</th><th>String</th></tr></thead><tbody><p>6 rows × 3 columns</p><tr><th>1</th><td>1</td><td>11</td><td>A</td></tr><tr><th>2</th><td>2</td><td>12</td><td>B</td></tr><tr><th>3</th><td>2</td><td>12</td><td>B</td></tr><tr><th>4</th><td>3</td><td>13</td><td>C</td></tr><tr><th>5</th><td>4</td><td>14</td><td>D</td></tr><tr><th>6</th><td>5</td><td>15</td><td>E</td></tr></tbody></table>"
      ],
      "text/latex": [
       "\\begin{tabular}{r|ccc}\n",
       "\t& A & B & C\\\\\n",
       "\t\\hline\n",
       "\t& Int64 & Int64 & String\\\\\n",
       "\t\\hline\n",
       "\t1 & 1 & 11 & A \\\\\n",
       "\t2 & 2 & 12 & B \\\\\n",
       "\t3 & 2 & 12 & B \\\\\n",
       "\t4 & 3 & 13 & C \\\\\n",
       "\t5 & 4 & 14 & D \\\\\n",
       "\t6 & 5 & 15 & E \\\\\n",
       "\\end{tabular}\n"
      ],
      "text/plain": [
       "6×3 DataFrame\n",
       "│ Row │ A     │ B     │ C      │\n",
       "│     │ \u001b[90mInt64\u001b[39m │ \u001b[90mInt64\u001b[39m │ \u001b[90mString\u001b[39m │\n",
       "├─────┼───────┼───────┼────────┤\n",
       "│ 1   │ 1     │ 11    │ A      │\n",
       "│ 2   │ 2     │ 12    │ B      │\n",
       "│ 3   │ 2     │ 12    │ B      │\n",
       "│ 4   │ 3     │ 13    │ C      │\n",
       "│ 5   │ 4     │ 14    │ D      │\n",
       "│ 6   │ 5     │ 15    │ E      │"
      ]
     },
     "execution_count": 95,
     "metadata": {},
     "output_type": "execute_result"
    }
   ],
   "source": [
    "# Creating a DataFrame with an obvious duplicate row\n",
    "df7 = DataFrame(A = [1, 2, 2, 3, 4, 5],  B = [11, 12, 12, 13, 14, 15], C = [\"A\", \"B\", \"B\", \"C\", \"D\", \"E\"]);\n",
    "df7"
   ]
  },
  {
   "cell_type": "markdown",
   "metadata": {},
   "source": [
    "The `unique()` function will, as the name implies, delete the duplicate row."
   ]
  },
  {
   "cell_type": "code",
   "execution_count": 96,
   "metadata": {},
   "outputs": [
    {
     "data": {
      "text/html": [
       "<table class=\"data-frame\"><thead><tr><th></th><th>A</th><th>B</th><th>C</th></tr><tr><th></th><th>Int64</th><th>Int64</th><th>String</th></tr></thead><tbody><p>5 rows × 3 columns</p><tr><th>1</th><td>1</td><td>11</td><td>A</td></tr><tr><th>2</th><td>2</td><td>12</td><td>B</td></tr><tr><th>3</th><td>3</td><td>13</td><td>C</td></tr><tr><th>4</th><td>4</td><td>14</td><td>D</td></tr><tr><th>5</th><td>5</td><td>15</td><td>E</td></tr></tbody></table>"
      ],
      "text/latex": [
       "\\begin{tabular}{r|ccc}\n",
       "\t& A & B & C\\\\\n",
       "\t\\hline\n",
       "\t& Int64 & Int64 & String\\\\\n",
       "\t\\hline\n",
       "\t1 & 1 & 11 & A \\\\\n",
       "\t2 & 2 & 12 & B \\\\\n",
       "\t3 & 3 & 13 & C \\\\\n",
       "\t4 & 4 & 14 & D \\\\\n",
       "\t5 & 5 & 15 & E \\\\\n",
       "\\end{tabular}\n"
      ],
      "text/plain": [
       "5×3 DataFrame\n",
       "│ Row │ A     │ B     │ C      │\n",
       "│     │ \u001b[90mInt64\u001b[39m │ \u001b[90mInt64\u001b[39m │ \u001b[90mString\u001b[39m │\n",
       "├─────┼───────┼───────┼────────┤\n",
       "│ 1   │ 1     │ 11    │ A      │\n",
       "│ 2   │ 2     │ 12    │ B      │\n",
       "│ 3   │ 3     │ 13    │ C      │\n",
       "│ 4   │ 4     │ 14    │ D      │\n",
       "│ 5   │ 5     │ 15    │ E      │"
      ]
     },
     "execution_count": 96,
     "metadata": {},
     "output_type": "execute_result"
    }
   ],
   "source": [
    "# Only unique rows\n",
    "unique(df7)"
   ]
  },
  {
   "cell_type": "code",
   "execution_count": 97,
   "metadata": {},
   "outputs": [
    {
     "data": {
      "text/html": [
       "<table class=\"data-frame\"><thead><tr><th></th><th>A</th><th>B</th><th>C</th></tr><tr><th></th><th>Int64</th><th>Int64</th><th>String</th></tr></thead><tbody><p>6 rows × 3 columns</p><tr><th>1</th><td>1</td><td>11</td><td>A</td></tr><tr><th>2</th><td>2</td><td>12</td><td>B</td></tr><tr><th>3</th><td>2</td><td>12</td><td>B</td></tr><tr><th>4</th><td>3</td><td>13</td><td>C</td></tr><tr><th>5</th><td>4</td><td>14</td><td>D</td></tr><tr><th>6</th><td>5</td><td>15</td><td>E</td></tr></tbody></table>"
      ],
      "text/latex": [
       "\\begin{tabular}{r|ccc}\n",
       "\t& A & B & C\\\\\n",
       "\t\\hline\n",
       "\t& Int64 & Int64 & String\\\\\n",
       "\t\\hline\n",
       "\t1 & 1 & 11 & A \\\\\n",
       "\t2 & 2 & 12 & B \\\\\n",
       "\t3 & 2 & 12 & B \\\\\n",
       "\t4 & 3 & 13 & C \\\\\n",
       "\t5 & 4 & 14 & D \\\\\n",
       "\t6 & 5 & 15 & E \\\\\n",
       "\\end{tabular}\n"
      ],
      "text/plain": [
       "6×3 DataFrame\n",
       "│ Row │ A     │ B     │ C      │\n",
       "│     │ \u001b[90mInt64\u001b[39m │ \u001b[90mInt64\u001b[39m │ \u001b[90mString\u001b[39m │\n",
       "├─────┼───────┼───────┼────────┤\n",
       "│ 1   │ 1     │ 11    │ A      │\n",
       "│ 2   │ 2     │ 12    │ B      │\n",
       "│ 3   │ 2     │ 12    │ B      │\n",
       "│ 4   │ 3     │ 13    │ C      │\n",
       "│ 5   │ 4     │ 14    │ D      │\n",
       "│ 6   │ 5     │ 15    │ E      │"
      ]
     },
     "execution_count": 97,
     "metadata": {},
     "output_type": "execute_result"
    }
   ],
   "source": [
    "df7"
   ]
  },
  {
   "cell_type": "markdown",
   "metadata": {},
   "source": [
    "As always, the bang will make the change permament."
   ]
  },
  {
   "cell_type": "code",
   "execution_count": 98,
   "metadata": {},
   "outputs": [
    {
     "data": {
      "text/html": [
       "<table class=\"data-frame\"><thead><tr><th></th><th>A</th><th>B</th><th>C</th></tr><tr><th></th><th>Int64</th><th>Int64</th><th>String</th></tr></thead><tbody><p>5 rows × 3 columns</p><tr><th>1</th><td>1</td><td>11</td><td>A</td></tr><tr><th>2</th><td>2</td><td>12</td><td>B</td></tr><tr><th>3</th><td>3</td><td>13</td><td>C</td></tr><tr><th>4</th><td>4</td><td>14</td><td>D</td></tr><tr><th>5</th><td>5</td><td>15</td><td>E</td></tr></tbody></table>"
      ],
      "text/latex": [
       "\\begin{tabular}{r|ccc}\n",
       "\t& A & B & C\\\\\n",
       "\t\\hline\n",
       "\t& Int64 & Int64 & String\\\\\n",
       "\t\\hline\n",
       "\t1 & 1 & 11 & A \\\\\n",
       "\t2 & 2 & 12 & B \\\\\n",
       "\t3 & 3 & 13 & C \\\\\n",
       "\t4 & 4 & 14 & D \\\\\n",
       "\t5 & 5 & 15 & E \\\\\n",
       "\\end{tabular}\n"
      ],
      "text/plain": [
       "5×3 DataFrame\n",
       "│ Row │ A     │ B     │ C      │\n",
       "│     │ \u001b[90mInt64\u001b[39m │ \u001b[90mInt64\u001b[39m │ \u001b[90mString\u001b[39m │\n",
       "├─────┼───────┼───────┼────────┤\n",
       "│ 1   │ 1     │ 11    │ A      │\n",
       "│ 2   │ 2     │ 12    │ B      │\n",
       "│ 3   │ 3     │ 13    │ C      │\n",
       "│ 4   │ 4     │ 14    │ D      │\n",
       "│ 5   │ 5     │ 15    │ E      │"
      ]
     },
     "execution_count": 98,
     "metadata": {},
     "output_type": "execute_result"
    }
   ],
   "source": [
    "# Permanant change\n",
    "unique!(df7)\n",
    "df7"
   ]
  },
  {
   "cell_type": "code",
   "execution_count": 99,
   "metadata": {},
   "outputs": [
    {
     "data": {
      "text/html": [
       "<table class=\"data-frame\"><thead><tr><th></th><th>A</th><th>B</th><th>C</th></tr><tr><th></th><th>Int64</th><th>Int64</th><th>String</th></tr></thead><tbody><p>5 rows × 3 columns</p><tr><th>1</th><td>1</td><td>11</td><td>A</td></tr><tr><th>2</th><td>2</td><td>12</td><td>B</td></tr><tr><th>3</th><td>3</td><td>13</td><td>C</td></tr><tr><th>4</th><td>4</td><td>14</td><td>D</td></tr><tr><th>5</th><td>5</td><td>15</td><td>E</td></tr></tbody></table>"
      ],
      "text/latex": [
       "\\begin{tabular}{r|ccc}\n",
       "\t& A & B & C\\\\\n",
       "\t\\hline\n",
       "\t& Int64 & Int64 & String\\\\\n",
       "\t\\hline\n",
       "\t1 & 1 & 11 & A \\\\\n",
       "\t2 & 2 & 12 & B \\\\\n",
       "\t3 & 3 & 13 & C \\\\\n",
       "\t4 & 4 & 14 & D \\\\\n",
       "\t5 & 5 & 15 & E \\\\\n",
       "\\end{tabular}\n"
      ],
      "text/plain": [
       "5×3 DataFrame\n",
       "│ Row │ A     │ B     │ C      │\n",
       "│     │ \u001b[90mInt64\u001b[39m │ \u001b[90mInt64\u001b[39m │ \u001b[90mString\u001b[39m │\n",
       "├─────┼───────┼───────┼────────┤\n",
       "│ 1   │ 1     │ 11    │ A      │\n",
       "│ 2   │ 2     │ 12    │ B      │\n",
       "│ 3   │ 3     │ 13    │ C      │\n",
       "│ 4   │ 4     │ 14    │ D      │\n",
       "│ 5   │ 5     │ 15    │ E      │"
      ]
     },
     "execution_count": 99,
     "metadata": {},
     "output_type": "execute_result"
    }
   ],
   "source": [
    "#Permanant change\n",
    "unique!(df7)\n",
    "df7"
   ]
  },
  {
   "cell_type": "markdown",
   "metadata": {},
   "source": [
    "[Back to the top](#In-this-lecture)"
   ]
  },
  {
   "cell_type": "markdown",
   "metadata": {},
   "source": [
    "### Deleting rows"
   ]
  },
  {
   "cell_type": "markdown",
   "metadata": {},
   "source": [
    "The `deleterows!()` function (permanent bang version used here), deletes specified rows."
   ]
  },
  {
   "cell_type": "code",
   "execution_count": 100,
   "metadata": {},
   "outputs": [
    {
     "name": "stderr",
     "output_type": "stream",
     "text": [
      "┌ Warning: `deleterows!(df::DataFrame, inds)` is deprecated, use `delete!(df, inds)` instead.\n",
      "│   caller = top-level scope at In[100]:1\n",
      "└ @ Core In[100]:1\n"
     ]
    },
    {
     "data": {
      "text/html": [
       "<table class=\"data-frame\"><thead><tr><th></th><th>A</th><th>B</th><th>C</th></tr><tr><th></th><th>Int64</th><th>Int64</th><th>String</th></tr></thead><tbody><p>3 rows × 3 columns</p><tr><th>1</th><td>2</td><td>12</td><td>B</td></tr><tr><th>2</th><td>3</td><td>13</td><td>C</td></tr><tr><th>3</th><td>4</td><td>14</td><td>D</td></tr></tbody></table>"
      ],
      "text/latex": [
       "\\begin{tabular}{r|ccc}\n",
       "\t& A & B & C\\\\\n",
       "\t\\hline\n",
       "\t& Int64 & Int64 & String\\\\\n",
       "\t\\hline\n",
       "\t1 & 2 & 12 & B \\\\\n",
       "\t2 & 3 & 13 & C \\\\\n",
       "\t3 & 4 & 14 & D \\\\\n",
       "\\end{tabular}\n"
      ],
      "text/plain": [
       "3×3 DataFrame\n",
       "│ Row │ A     │ B     │ C      │\n",
       "│     │ \u001b[90mInt64\u001b[39m │ \u001b[90mInt64\u001b[39m │ \u001b[90mString\u001b[39m │\n",
       "├─────┼───────┼───────┼────────┤\n",
       "│ 1   │ 2     │ 12    │ B      │\n",
       "│ 2   │ 3     │ 13    │ C      │\n",
       "│ 3   │ 4     │ 14    │ D      │"
      ]
     },
     "execution_count": 100,
     "metadata": {},
     "output_type": "execute_result"
    }
   ],
   "source": [
    "# Permanently\n",
    "deleterows!(df7, [1, 5])\n",
    "df7"
   ]
  },
  {
   "cell_type": "markdown",
   "metadata": {},
   "source": [
    "[Back to the top](#In-this-lecture)"
   ]
  },
  {
   "cell_type": "code",
   "execution_count": null,
   "metadata": {},
   "outputs": [],
   "source": []
  },
  {
   "cell_type": "code",
   "execution_count": null,
   "metadata": {},
   "outputs": [],
   "source": []
  },
  {
   "cell_type": "code",
   "execution_count": null,
   "metadata": {},
   "outputs": [],
   "source": []
  },
  {
   "cell_type": "code",
   "execution_count": null,
   "metadata": {},
   "outputs": [],
   "source": []
  },
  {
   "cell_type": "code",
   "execution_count": null,
   "metadata": {},
   "outputs": [],
   "source": []
  }
 ],
 "metadata": {
  "kernelspec": {
   "display_name": "Julia 1.4.2",
   "language": "julia",
   "name": "julia-1.4"
  },
  "language_info": {
   "file_extension": ".jl",
   "mimetype": "application/julia",
   "name": "julia",
   "version": "1.4.2"
  }
 },
 "nbformat": 4,
 "nbformat_minor": 2
}
