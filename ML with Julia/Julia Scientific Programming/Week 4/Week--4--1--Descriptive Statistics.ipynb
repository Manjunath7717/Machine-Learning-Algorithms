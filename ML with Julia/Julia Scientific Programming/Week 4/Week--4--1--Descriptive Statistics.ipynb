{
 "cells": [
  {
   "cell_type": "markdown",
   "metadata": {},
   "source": [
    "# Week 4\n"
   ]
  },
  {
   "cell_type": "markdown",
   "metadata": {},
   "source": [
    "# Using Julia for descriptive statistics"
   ]
  },
  {
   "cell_type": "markdown",
   "metadata": {},
   "source": [
    "<h2>In this lesson</h2>"
   ]
  },
  {
   "cell_type": "markdown",
   "metadata": {},
   "source": [
    "\n",
    "- Adding Package\n",
    "- Creating Random Variable\n",
    "- Descriptive statistics\n",
    "- Creating a dataframe\n",
    "- Descriptive statistics using a dataframe\n",
    "- Visualizing data\n",
    "- Inferential statistics\n",
    "- Exporting data as a csv file"
   ]
  },
  {
   "cell_type": "markdown",
   "metadata": {},
   "source": [
    "# 1. Add Package"
   ]
  },
  {
   "cell_type": "markdown",
   "metadata": {},
   "source": [
    "If the package that are listed below are  not installed on your system, then do the following for each package\n",
    "            \n",
    "            using Pkg\n",
    "            Pkg.add(\"PyPlot\")"
   ]
  },
  {
   "cell_type": "code",
   "execution_count": 1,
   "metadata": {},
   "outputs": [
    {
     "data": {
      "text/plain": [
       "Plots.PyPlotBackend()"
      ]
     },
     "execution_count": 1,
     "metadata": {},
     "output_type": "execute_result"
    }
   ],
   "source": [
    "using Distributions    #Create Random Variable\n",
    "using StatsBase      #Basic Statistical Support\n",
    "using CSV           # Reading and Writing CSV files\n",
    "using DataFrames    # Creating a data structure\n",
    "using HypothesisTests     #Perform Statistical Hypothesis tests\n",
    "using GLM           # General Linear Models\n",
    "using StatsPlots     # For Plots\n",
    "pyplot()"
   ]
  },
  {
   "cell_type": "markdown",
   "metadata": {},
   "source": [
    "# 2. Creating Random Variable"
   ]
  },
  {
   "cell_type": "markdown",
   "metadata": {},
   "source": [
    "We mentioned in the introduction that the creation of the simulated data is the best way to start learning how to use julia for statistics"
   ]
  },
  {
   "cell_type": "markdown",
   "metadata": {},
   "source": [
    "In below cade we create the five variable with random data point values"
   ]
  },
  {
   "cell_type": "code",
   "execution_count": 2,
   "metadata": {},
   "outputs": [],
   "source": [
    "age = rand(18:80,100)   #Unifrom distribution\n",
    "wcc = round.(rand(Distributions.Normal(12,2),100),digits=1)  # Normal Distributed and round to one decimal\n",
    "crp = round.(Int,rand(Distributions.Chisq(4),100)).* 10   # Chi-squared Distributed with broadcasting and alternate round()\n",
    "treatment= rand([\"A\",\"B\"],100);                  # Unifromly Distributed\n",
    "result =rand([\"Improved\",\"Static\",\"Worse\"],100);  # Unifromly Distributed"
   ]
  },
  {
   "cell_type": "markdown",
   "metadata": {},
   "source": [
    "# 3. Descriptive statistics"
   ]
  },
  {
   "cell_type": "markdown",
   "metadata": {},
   "source": [
    "While there are common statistical function in Julia such as mean() and std(), but it is more convenient to use the describe() function from the StatsBase "
   ]
  },
  {
   "cell_type": "code",
   "execution_count": 3,
   "metadata": {},
   "outputs": [
    {
     "data": {
      "text/plain": [
       "46.7"
      ]
     },
     "execution_count": 3,
     "metadata": {},
     "output_type": "execute_result"
    }
   ],
   "source": [
    "# Mean of Age Variable\n",
    "mean(age)"
   ]
  },
  {
   "cell_type": "code",
   "execution_count": 4,
   "metadata": {},
   "outputs": [
    {
     "data": {
      "text/plain": [
       "18.393839548428527"
      ]
     },
     "execution_count": 4,
     "metadata": {},
     "output_type": "execute_result"
    }
   ],
   "source": [
    "# Standard deviation of age\n",
    "std(age)"
   ]
  },
  {
   "cell_type": "code",
   "execution_count": 5,
   "metadata": {},
   "outputs": [
    {
     "data": {
      "text/plain": [
       "338.3333333333334"
      ]
     },
     "execution_count": 5,
     "metadata": {},
     "output_type": "execute_result"
    }
   ],
   "source": [
    "# Variance of age \n",
    "var(age)"
   ]
  },
  {
   "cell_type": "code",
   "execution_count": 6,
   "metadata": {},
   "outputs": [
    {
     "data": {
      "text/plain": [
       "11.937000000000001"
      ]
     },
     "execution_count": 6,
     "metadata": {},
     "output_type": "execute_result"
    }
   ],
   "source": [
    "# mean of wcc\n",
    "mean(wcc)"
   ]
  },
  {
   "cell_type": "code",
   "execution_count": 7,
   "metadata": {},
   "outputs": [
    {
     "data": {
      "text/plain": [
       "2.0596486412134776"
      ]
     },
     "execution_count": 7,
     "metadata": {},
     "output_type": "execute_result"
    }
   ],
   "source": [
    "# Standard deviation of wcc\n",
    "std(wcc)"
   ]
  },
  {
   "cell_type": "code",
   "execution_count": 8,
   "metadata": {},
   "outputs": [
    {
     "data": {
      "text/plain": [
       "4.242152525252525"
      ]
     },
     "execution_count": 8,
     "metadata": {},
     "output_type": "execute_result"
    }
   ],
   "source": [
    "# Variance of wcc \n",
    "var(wcc)"
   ]
  },
  {
   "cell_type": "code",
   "execution_count": 9,
   "metadata": {},
   "outputs": [
    {
     "name": "stdout",
     "output_type": "stream",
     "text": [
      "Summary Stats:\n",
      "Length:         100\n",
      "Missing Count:  0\n",
      "Mean:           46.700000\n",
      "Minimum:        18.000000\n",
      "1st Quartile:   29.750000\n",
      "Median:         44.000000\n",
      "3rd Quartile:   63.000000\n",
      "Maximum:        80.000000\n",
      "Type:           Int64\n"
     ]
    }
   ],
   "source": [
    "# Descriptive statistics of age variable\n",
    "StatsBase.describe(age)"
   ]
  },
  {
   "cell_type": "code",
   "execution_count": 10,
   "metadata": {},
   "outputs": [
    {
     "data": {
      "text/plain": [
       "Summary Stats:\n",
       "Length:         100\n",
       "Missing Count:  0\n",
       "Mean:           11.937000\n",
       "Minimum:        6.700000\n",
       "1st Quartile:   10.475000\n",
       "Median:         11.750000\n",
       "3rd Quartile:   13.400000\n",
       "Maximum:        16.900000\n"
      ]
     },
     "execution_count": 10,
     "metadata": {},
     "output_type": "execute_result"
    }
   ],
   "source": [
    "# summarystats() function omits the type \n",
    "StatsBase.summarystats(wcc)"
   ]
  },
  {
   "cell_type": "markdown",
   "metadata": {},
   "source": [
    "# 4. Creating a dataframe"
   ]
  },
  {
   "cell_type": "markdown",
   "metadata": {},
   "source": [
    "We created simulated data, it is best to store in dateframe object for easier manipulation"
   ]
  },
  {
   "cell_type": "code",
   "execution_count": 11,
   "metadata": {},
   "outputs": [],
   "source": [
    "data=DataFrame(Age =age, WCC=wcc, CRP =crp, Treatment= treatment, Result=result );"
   ]
  },
  {
   "cell_type": "code",
   "execution_count": 12,
   "metadata": {},
   "outputs": [
    {
     "data": {
      "text/plain": [
       "(100, 5)"
      ]
     },
     "execution_count": 12,
     "metadata": {},
     "output_type": "execute_result"
    }
   ],
   "source": [
    "# size of the data\n",
    "size(data)"
   ]
  },
  {
   "cell_type": "code",
   "execution_count": 13,
   "metadata": {},
   "outputs": [
    {
     "data": {
      "text/html": [
       "<table class=\"data-frame\"><thead><tr><th></th><th>Age</th><th>WCC</th><th>CRP</th><th>Treatment</th><th>Result</th></tr><tr><th></th><th>Int64</th><th>Float64</th><th>Int64</th><th>String</th><th>String</th></tr></thead><tbody><p>6 rows × 5 columns</p><tr><th>1</th><td>75</td><td>12.9</td><td>30</td><td>B</td><td>Worse</td></tr><tr><th>2</th><td>41</td><td>10.9</td><td>50</td><td>A</td><td>Worse</td></tr><tr><th>3</th><td>36</td><td>13.4</td><td>20</td><td>A</td><td>Static</td></tr><tr><th>4</th><td>46</td><td>11.0</td><td>100</td><td>A</td><td>Improved</td></tr><tr><th>5</th><td>27</td><td>13.6</td><td>10</td><td>B</td><td>Static</td></tr><tr><th>6</th><td>37</td><td>12.5</td><td>70</td><td>B</td><td>Worse</td></tr></tbody></table>"
      ],
      "text/latex": [
       "\\begin{tabular}{r|ccccc}\n",
       "\t& Age & WCC & CRP & Treatment & Result\\\\\n",
       "\t\\hline\n",
       "\t& Int64 & Float64 & Int64 & String & String\\\\\n",
       "\t\\hline\n",
       "\t1 & 75 & 12.9 & 30 & B & Worse \\\\\n",
       "\t2 & 41 & 10.9 & 50 & A & Worse \\\\\n",
       "\t3 & 36 & 13.4 & 20 & A & Static \\\\\n",
       "\t4 & 46 & 11.0 & 100 & A & Improved \\\\\n",
       "\t5 & 27 & 13.6 & 10 & B & Static \\\\\n",
       "\t6 & 37 & 12.5 & 70 & B & Worse \\\\\n",
       "\\end{tabular}\n"
      ],
      "text/plain": [
       "6×5 DataFrame\n",
       "│ Row │ Age   │ WCC     │ CRP   │ Treatment │ Result   │\n",
       "│     │ \u001b[90mInt64\u001b[39m │ \u001b[90mFloat64\u001b[39m │ \u001b[90mInt64\u001b[39m │ \u001b[90mString\u001b[39m    │ \u001b[90mString\u001b[39m   │\n",
       "├─────┼───────┼─────────┼───────┼───────────┼──────────┤\n",
       "│ 1   │ 75    │ 12.9    │ 30    │ B         │ Worse    │\n",
       "│ 2   │ 41    │ 10.9    │ 50    │ A         │ Worse    │\n",
       "│ 3   │ 36    │ 13.4    │ 20    │ A         │ Static   │\n",
       "│ 4   │ 46    │ 11.0    │ 100   │ A         │ Improved │\n",
       "│ 5   │ 27    │ 13.6    │ 10    │ B         │ Static   │\n",
       "│ 6   │ 37    │ 12.5    │ 70    │ B         │ Worse    │"
      ]
     },
     "execution_count": 13,
     "metadata": {},
     "output_type": "execute_result"
    }
   ],
   "source": [
    "# first 6 rows of the data\n",
    "first(data,6)"
   ]
  },
  {
   "cell_type": "markdown",
   "metadata": {},
   "source": [
    "We can create the dataframe objects by selecting only the subjects according to the data points values for a particular variable"
   ]
  },
  {
   "cell_type": "code",
   "execution_count": 14,
   "metadata": {},
   "outputs": [
    {
     "name": "stderr",
     "output_type": "stream",
     "text": [
      "┌ Warning: `getindex(df::DataFrame, col_ind::ColumnIndex)` is deprecated, use `df[!, col_ind]` instead.\n",
      "│   caller = top-level scope at In[14]:1\n",
      "└ @ Core In[14]:1\n",
      "┌ Warning: `getindex(df::DataFrame, col_ind::ColumnIndex)` is deprecated, use `df[!, col_ind]` instead.\n",
      "│   caller = top-level scope at In[14]:2\n",
      "└ @ Core In[14]:2\n"
     ]
    }
   ],
   "source": [
    "dataA = data[data[:Treatment].==\"A\",:]  # Only Patient of treatment group A\n",
    "dataB = data[data[:Treatment].==\"B\",:];  # Only Patient of treatment group B"
   ]
  },
  {
   "cell_type": "code",
   "execution_count": 15,
   "metadata": {},
   "outputs": [
    {
     "data": {
      "text/html": [
       "<table class=\"data-frame\"><thead><tr><th></th><th>Age</th><th>WCC</th><th>CRP</th><th>Treatment</th><th>Result</th></tr><tr><th></th><th>Int64</th><th>Float64</th><th>Int64</th><th>String</th><th>String</th></tr></thead><tbody><p>4 rows × 5 columns</p><tr><th>1</th><td>41</td><td>10.9</td><td>50</td><td>A</td><td>Worse</td></tr><tr><th>2</th><td>36</td><td>13.4</td><td>20</td><td>A</td><td>Static</td></tr><tr><th>3</th><td>46</td><td>11.0</td><td>100</td><td>A</td><td>Improved</td></tr><tr><th>4</th><td>39</td><td>10.2</td><td>20</td><td>A</td><td>Improved</td></tr></tbody></table>"
      ],
      "text/latex": [
       "\\begin{tabular}{r|ccccc}\n",
       "\t& Age & WCC & CRP & Treatment & Result\\\\\n",
       "\t\\hline\n",
       "\t& Int64 & Float64 & Int64 & String & String\\\\\n",
       "\t\\hline\n",
       "\t1 & 41 & 10.9 & 50 & A & Worse \\\\\n",
       "\t2 & 36 & 13.4 & 20 & A & Static \\\\\n",
       "\t3 & 46 & 11.0 & 100 & A & Improved \\\\\n",
       "\t4 & 39 & 10.2 & 20 & A & Improved \\\\\n",
       "\\end{tabular}\n"
      ],
      "text/plain": [
       "4×5 DataFrame\n",
       "│ Row │ Age   │ WCC     │ CRP   │ Treatment │ Result   │\n",
       "│     │ \u001b[90mInt64\u001b[39m │ \u001b[90mFloat64\u001b[39m │ \u001b[90mInt64\u001b[39m │ \u001b[90mString\u001b[39m    │ \u001b[90mString\u001b[39m   │\n",
       "├─────┼───────┼─────────┼───────┼───────────┼──────────┤\n",
       "│ 1   │ 41    │ 10.9    │ 50    │ A         │ Worse    │\n",
       "│ 2   │ 36    │ 13.4    │ 20    │ A         │ Static   │\n",
       "│ 3   │ 46    │ 11.0    │ 100   │ A         │ Improved │\n",
       "│ 4   │ 39    │ 10.2    │ 20    │ A         │ Improved │"
      ]
     },
     "execution_count": 15,
     "metadata": {},
     "output_type": "execute_result"
    }
   ],
   "source": [
    "first(dataA,4)"
   ]
  },
  {
   "cell_type": "code",
   "execution_count": 16,
   "metadata": {},
   "outputs": [
    {
     "data": {
      "text/html": [
       "<table class=\"data-frame\"><thead><tr><th></th><th>Age</th><th>WCC</th><th>CRP</th><th>Treatment</th><th>Result</th></tr><tr><th></th><th>Int64</th><th>Float64</th><th>Int64</th><th>String</th><th>String</th></tr></thead><tbody><p>10 rows × 5 columns</p><tr><th>1</th><td>75</td><td>12.9</td><td>30</td><td>B</td><td>Worse</td></tr><tr><th>2</th><td>27</td><td>13.6</td><td>10</td><td>B</td><td>Static</td></tr><tr><th>3</th><td>37</td><td>12.5</td><td>70</td><td>B</td><td>Worse</td></tr><tr><th>4</th><td>57</td><td>10.1</td><td>10</td><td>B</td><td>Worse</td></tr><tr><th>5</th><td>57</td><td>11.8</td><td>0</td><td>B</td><td>Static</td></tr><tr><th>6</th><td>78</td><td>11.0</td><td>60</td><td>B</td><td>Improved</td></tr><tr><th>7</th><td>71</td><td>11.3</td><td>0</td><td>B</td><td>Improved</td></tr><tr><th>8</th><td>42</td><td>10.9</td><td>20</td><td>B</td><td>Improved</td></tr><tr><th>9</th><td>59</td><td>9.6</td><td>30</td><td>B</td><td>Improved</td></tr><tr><th>10</th><td>41</td><td>10.5</td><td>40</td><td>B</td><td>Static</td></tr></tbody></table>"
      ],
      "text/latex": [
       "\\begin{tabular}{r|ccccc}\n",
       "\t& Age & WCC & CRP & Treatment & Result\\\\\n",
       "\t\\hline\n",
       "\t& Int64 & Float64 & Int64 & String & String\\\\\n",
       "\t\\hline\n",
       "\t1 & 75 & 12.9 & 30 & B & Worse \\\\\n",
       "\t2 & 27 & 13.6 & 10 & B & Static \\\\\n",
       "\t3 & 37 & 12.5 & 70 & B & Worse \\\\\n",
       "\t4 & 57 & 10.1 & 10 & B & Worse \\\\\n",
       "\t5 & 57 & 11.8 & 0 & B & Static \\\\\n",
       "\t6 & 78 & 11.0 & 60 & B & Improved \\\\\n",
       "\t7 & 71 & 11.3 & 0 & B & Improved \\\\\n",
       "\t8 & 42 & 10.9 & 20 & B & Improved \\\\\n",
       "\t9 & 59 & 9.6 & 30 & B & Improved \\\\\n",
       "\t10 & 41 & 10.5 & 40 & B & Static \\\\\n",
       "\\end{tabular}\n"
      ],
      "text/plain": [
       "10×5 DataFrame\n",
       "│ Row │ Age   │ WCC     │ CRP   │ Treatment │ Result   │\n",
       "│     │ \u001b[90mInt64\u001b[39m │ \u001b[90mFloat64\u001b[39m │ \u001b[90mInt64\u001b[39m │ \u001b[90mString\u001b[39m    │ \u001b[90mString\u001b[39m   │\n",
       "├─────┼───────┼─────────┼───────┼───────────┼──────────┤\n",
       "│ 1   │ 75    │ 12.9    │ 30    │ B         │ Worse    │\n",
       "│ 2   │ 27    │ 13.6    │ 10    │ B         │ Static   │\n",
       "│ 3   │ 37    │ 12.5    │ 70    │ B         │ Worse    │\n",
       "│ 4   │ 57    │ 10.1    │ 10    │ B         │ Worse    │\n",
       "│ 5   │ 57    │ 11.8    │ 0     │ B         │ Static   │\n",
       "│ 6   │ 78    │ 11.0    │ 60    │ B         │ Improved │\n",
       "│ 7   │ 71    │ 11.3    │ 0     │ B         │ Improved │\n",
       "│ 8   │ 42    │ 10.9    │ 20    │ B         │ Improved │\n",
       "│ 9   │ 59    │ 9.6     │ 30    │ B         │ Improved │\n",
       "│ 10  │ 41    │ 10.5    │ 40    │ B         │ Static   │"
      ]
     },
     "execution_count": 16,
     "metadata": {},
     "output_type": "execute_result"
    }
   ],
   "source": [
    "first(dataB,10)"
   ]
  },
  {
   "cell_type": "markdown",
   "metadata": {},
   "source": [
    "# 5. Descriptive statistics using a dataframe"
   ]
  },
  {
   "cell_type": "markdown",
   "metadata": {},
   "source": [
    "The describe() function will attempt to provide Descriptive statistics of the data object"
   ]
  },
  {
   "cell_type": "code",
   "execution_count": 17,
   "metadata": {},
   "outputs": [
    {
     "data": {
      "text/html": [
       "<table class=\"data-frame\"><thead><tr><th></th><th>variable</th><th>mean</th><th>min</th><th>median</th><th>max</th><th>nunique</th><th>nmissing</th><th>eltype</th></tr><tr><th></th><th>Symbol</th><th>Union…</th><th>Any</th><th>Union…</th><th>Any</th><th>Union…</th><th>Nothing</th><th>DataType</th></tr></thead><tbody><p>5 rows × 8 columns</p><tr><th>1</th><td>Age</td><td>46.7</td><td>18</td><td>44.0</td><td>80</td><td></td><td></td><td>Int64</td></tr><tr><th>2</th><td>WCC</td><td>11.937</td><td>6.7</td><td>11.75</td><td>16.9</td><td></td><td></td><td>Float64</td></tr><tr><th>3</th><td>CRP</td><td>39.2</td><td>0</td><td>30.0</td><td>130</td><td></td><td></td><td>Int64</td></tr><tr><th>4</th><td>Treatment</td><td></td><td>A</td><td></td><td>B</td><td>2</td><td></td><td>String</td></tr><tr><th>5</th><td>Result</td><td></td><td>Improved</td><td></td><td>Worse</td><td>3</td><td></td><td>String</td></tr></tbody></table>"
      ],
      "text/latex": [
       "\\begin{tabular}{r|cccccccc}\n",
       "\t& variable & mean & min & median & max & nunique & nmissing & eltype\\\\\n",
       "\t\\hline\n",
       "\t& Symbol & Union… & Any & Union… & Any & Union… & Nothing & DataType\\\\\n",
       "\t\\hline\n",
       "\t1 & Age & 46.7 & 18 & 44.0 & 80 &  &  & Int64 \\\\\n",
       "\t2 & WCC & 11.937 & 6.7 & 11.75 & 16.9 &  &  & Float64 \\\\\n",
       "\t3 & CRP & 39.2 & 0 & 30.0 & 130 &  &  & Int64 \\\\\n",
       "\t4 & Treatment &  & A &  & B & 2 &  & String \\\\\n",
       "\t5 & Result &  & Improved &  & Worse & 3 &  & String \\\\\n",
       "\\end{tabular}\n"
      ],
      "text/plain": [
       "5×8 DataFrame. Omitted printing of 1 columns\n",
       "│ Row │ variable  │ mean   │ min      │ median │ max   │ nunique │ nmissing │\n",
       "│     │ \u001b[90mSymbol\u001b[39m    │ \u001b[90mUnion…\u001b[39m │ \u001b[90mAny\u001b[39m      │ \u001b[90mUnion…\u001b[39m │ \u001b[90mAny\u001b[39m   │ \u001b[90mUnion…\u001b[39m  │ \u001b[90mNothing\u001b[39m  │\n",
       "├─────┼───────────┼────────┼──────────┼────────┼───────┼─────────┼──────────┤\n",
       "│ 1   │ Age       │ 46.7   │ 18       │ 44.0   │ 80    │         │          │\n",
       "│ 2   │ WCC       │ 11.937 │ 6.7      │ 11.75  │ 16.9  │         │          │\n",
       "│ 3   │ CRP       │ 39.2   │ 0        │ 30.0   │ 130   │         │          │\n",
       "│ 4   │ Treatment │        │ A        │        │ B     │ 2       │          │\n",
       "│ 5   │ Result    │        │ Improved │        │ Worse │ 3       │          │"
      ]
     },
     "execution_count": 17,
     "metadata": {},
     "output_type": "execute_result"
    }
   ],
   "source": [
    "describe(data)"
   ]
  },
  {
   "cell_type": "markdown",
   "metadata": {},
   "source": [
    "We can count the number of the elements in the sample spaceof the categorical variable using the by() function"
   ]
  },
  {
   "cell_type": "code",
   "execution_count": 18,
   "metadata": {},
   "outputs": [
    {
     "name": "stderr",
     "output_type": "stream",
     "text": [
      "┌ Warning: `by(d::AbstractDataFrame, cols::Any, f::Base.Callable; sort::Bool = false, skipmissing::Bool = false)` is deprecated, use `combine(f, groupby(d, cols, sort = sort, skipmissing = skipmissing))` instead.\n",
      "│   caller = top-level scope at In[18]:1\n",
      "└ @ Core In[18]:1\n"
     ]
    },
    {
     "data": {
      "text/html": [
       "<table class=\"data-frame\"><thead><tr><th></th><th>Treatment</th><th>N</th></tr><tr><th></th><th>String</th><th>Int64</th></tr></thead><tbody><p>2 rows × 2 columns</p><tr><th>1</th><td>B</td><td>53</td></tr><tr><th>2</th><td>A</td><td>47</td></tr></tbody></table>"
      ],
      "text/latex": [
       "\\begin{tabular}{r|cc}\n",
       "\t& Treatment & N\\\\\n",
       "\t\\hline\n",
       "\t& String & Int64\\\\\n",
       "\t\\hline\n",
       "\t1 & B & 53 \\\\\n",
       "\t2 & A & 47 \\\\\n",
       "\\end{tabular}\n"
      ],
      "text/plain": [
       "2×2 DataFrame\n",
       "│ Row │ Treatment │ N     │\n",
       "│     │ \u001b[90mString\u001b[39m    │ \u001b[90mInt64\u001b[39m │\n",
       "├─────┼───────────┼───────┤\n",
       "│ 1   │ B         │ 53    │\n",
       "│ 2   │ A         │ 47    │"
      ]
     },
     "execution_count": 18,
     "metadata": {},
     "output_type": "execute_result"
    }
   ],
   "source": [
    "# counting the number of pateints in group A and group B\n",
    "by(data, :Treatment, df -> DataFrame(N=size(df,1)))"
   ]
  },
  {
   "cell_type": "code",
   "execution_count": 19,
   "metadata": {},
   "outputs": [
    {
     "name": "stderr",
     "output_type": "stream",
     "text": [
      "┌ Warning: `by(d::AbstractDataFrame, cols::Any, f::Base.Callable; sort::Bool = false, skipmissing::Bool = false)` is deprecated, use `combine(f, groupby(d, cols, sort = sort, skipmissing = skipmissing))` instead.\n",
      "│   caller = top-level scope at In[19]:1\n",
      "└ @ Core In[19]:1\n"
     ]
    },
    {
     "data": {
      "text/html": [
       "<table class=\"data-frame\"><thead><tr><th></th><th>Treatment</th><th>x1</th></tr><tr><th></th><th>String</th><th>Tuple…</th></tr></thead><tbody><p>2 rows × 2 columns</p><tr><th>1</th><td>B</td><td>(53, 5)</td></tr><tr><th>2</th><td>A</td><td>(47, 5)</td></tr></tbody></table>"
      ],
      "text/latex": [
       "\\begin{tabular}{r|cc}\n",
       "\t& Treatment & x1\\\\\n",
       "\t\\hline\n",
       "\t& String & Tuple…\\\\\n",
       "\t\\hline\n",
       "\t1 & B & (53, 5) \\\\\n",
       "\t2 & A & (47, 5) \\\\\n",
       "\\end{tabular}\n"
      ],
      "text/plain": [
       "2×2 DataFrame\n",
       "│ Row │ Treatment │ x1      │\n",
       "│     │ \u001b[90mString\u001b[39m    │ \u001b[90mTuple…\u001b[39m  │\n",
       "├─────┼───────────┼─────────┤\n",
       "│ 1   │ B         │ (53, 5) │\n",
       "│ 2   │ A         │ (47, 5) │"
      ]
     },
     "execution_count": 19,
     "metadata": {},
     "output_type": "execute_result"
    }
   ],
   "source": [
    "# The size argument will give the same output other than adding the number of variable\n",
    "by(data, :Treatment,size)"
   ]
  },
  {
   "cell_type": "markdown",
   "metadata": {},
   "source": [
    "The Usual Descriptive statistics of the numerical values can be calculated after the seperation of the categorical value "
   ]
  },
  {
   "cell_type": "code",
   "execution_count": 20,
   "metadata": {},
   "outputs": [
    {
     "name": "stderr",
     "output_type": "stream",
     "text": [
      "┌ Warning: `by(d::AbstractDataFrame, cols::Any, f::Base.Callable; sort::Bool = false, skipmissing::Bool = false)` is deprecated, use `combine(f, groupby(d, cols, sort = sort, skipmissing = skipmissing))` instead.\n",
      "│   caller = top-level scope at In[20]:1\n",
      "└ @ Core In[20]:1\n"
     ]
    },
    {
     "data": {
      "text/html": [
       "<table class=\"data-frame\"><thead><tr><th></th><th>Treatment</th><th>x1</th></tr><tr><th></th><th>String</th><th>Float64</th></tr></thead><tbody><p>2 rows × 2 columns</p><tr><th>1</th><td>B</td><td>45.2264</td></tr><tr><th>2</th><td>A</td><td>48.3617</td></tr></tbody></table>"
      ],
      "text/latex": [
       "\\begin{tabular}{r|cc}\n",
       "\t& Treatment & x1\\\\\n",
       "\t\\hline\n",
       "\t& String & Float64\\\\\n",
       "\t\\hline\n",
       "\t1 & B & 45.2264 \\\\\n",
       "\t2 & A & 48.3617 \\\\\n",
       "\\end{tabular}\n"
      ],
      "text/plain": [
       "2×2 DataFrame\n",
       "│ Row │ Treatment │ x1      │\n",
       "│     │ \u001b[90mString\u001b[39m    │ \u001b[90mFloat64\u001b[39m │\n",
       "├─────┼───────────┼─────────┤\n",
       "│ 1   │ B         │ 45.2264 │\n",
       "│ 2   │ A         │ 48.3617 │"
      ]
     },
     "execution_count": 20,
     "metadata": {},
     "output_type": "execute_result"
    }
   ],
   "source": [
    "# Mean of the Group A and Group B pateints\n",
    "by(data, :Treatment, df-> mean(df.Age))"
   ]
  },
  {
   "cell_type": "code",
   "execution_count": 21,
   "metadata": {},
   "outputs": [
    {
     "name": "stderr",
     "output_type": "stream",
     "text": [
      "┌ Warning: `by(d::AbstractDataFrame, cols::Any, f::Base.Callable; sort::Bool = false, skipmissing::Bool = false)` is deprecated, use `combine(f, groupby(d, cols, sort = sort, skipmissing = skipmissing))` instead.\n",
      "│   caller = top-level scope at In[21]:1\n",
      "└ @ Core In[21]:1\n"
     ]
    },
    {
     "data": {
      "text/html": [
       "<table class=\"data-frame\"><thead><tr><th></th><th>Treatment</th><th>x1</th></tr><tr><th></th><th>String</th><th>Float64</th></tr></thead><tbody><p>2 rows × 2 columns</p><tr><th>1</th><td>B</td><td>19.3258</td></tr><tr><th>2</th><td>A</td><td>17.3386</td></tr></tbody></table>"
      ],
      "text/latex": [
       "\\begin{tabular}{r|cc}\n",
       "\t& Treatment & x1\\\\\n",
       "\t\\hline\n",
       "\t& String & Float64\\\\\n",
       "\t\\hline\n",
       "\t1 & B & 19.3258 \\\\\n",
       "\t2 & A & 17.3386 \\\\\n",
       "\\end{tabular}\n"
      ],
      "text/plain": [
       "2×2 DataFrame\n",
       "│ Row │ Treatment │ x1      │\n",
       "│     │ \u001b[90mString\u001b[39m    │ \u001b[90mFloat64\u001b[39m │\n",
       "├─────┼───────────┼─────────┤\n",
       "│ 1   │ B         │ 19.3258 │\n",
       "│ 2   │ A         │ 17.3386 │"
      ]
     },
     "execution_count": 21,
     "metadata": {},
     "output_type": "execute_result"
    }
   ],
   "source": [
    "# Standard Deviation  of the Group A and Group B  pateints\n",
    "by(data, :Treatment, df-> std(df.Age))"
   ]
  },
  {
   "cell_type": "markdown",
   "metadata": {},
   "source": [
    "By using the summarystats() we can get all the descriptive statistics"
   ]
  },
  {
   "cell_type": "code",
   "execution_count": 22,
   "metadata": {},
   "outputs": [
    {
     "name": "stderr",
     "output_type": "stream",
     "text": [
      "┌ Warning: `by(d::AbstractDataFrame, cols::Any, f::Base.Callable; sort::Bool = false, skipmissing::Bool = false)` is deprecated, use `combine(f, groupby(d, cols, sort = sort, skipmissing = skipmissing))` instead.\n",
      "│   caller = top-level scope at In[22]:1\n",
      "└ @ Core In[22]:1\n"
     ]
    },
    {
     "name": "stdout",
     "output_type": "stream",
     "text": [
      "Summary Stats:\n",
      "Length:         53\n",
      "Missing Count:  0\n",
      "Mean:           45.226415\n",
      "Minimum:        18.000000\n",
      "1st Quartile:   27.000000\n",
      "Median:         43.000000\n",
      "3rd Quartile:   60.000000\n",
      "Maximum:        80.000000\n",
      "Type:           Int64\n",
      "Summary Stats:\n",
      "Length:         47\n",
      "Missing Count:  0\n",
      "Mean:           48.361702\n",
      "Minimum:        18.000000\n",
      "1st Quartile:   33.500000\n",
      "Median:         46.000000\n",
      "3rd Quartile:   63.000000\n",
      "Maximum:        78.000000\n",
      "Type:           Int64\n"
     ]
    },
    {
     "data": {
      "text/html": [
       "<table class=\"data-frame\"><thead><tr><th></th><th>Treatment</th><th>x1</th></tr><tr><th></th><th>String</th><th>Nothing</th></tr></thead><tbody><p>2 rows × 2 columns</p><tr><th>1</th><td>B</td><td></td></tr><tr><th>2</th><td>A</td><td></td></tr></tbody></table>"
      ],
      "text/latex": [
       "\\begin{tabular}{r|cc}\n",
       "\t& Treatment & x1\\\\\n",
       "\t\\hline\n",
       "\t& String & Nothing\\\\\n",
       "\t\\hline\n",
       "\t1 & B &  \\\\\n",
       "\t2 & A &  \\\\\n",
       "\\end{tabular}\n"
      ],
      "text/plain": [
       "2×2 DataFrame\n",
       "│ Row │ Treatment │ x1      │\n",
       "│     │ \u001b[90mString\u001b[39m    │ \u001b[90mNothing\u001b[39m │\n",
       "├─────┼───────────┼─────────┤\n",
       "│ 1   │ B         │         │\n",
       "│ 2   │ A         │         │"
      ]
     },
     "execution_count": 22,
     "metadata": {},
     "output_type": "execute_result"
    }
   ],
   "source": [
    "# Standard Deviation  of the Group A and Group B  pateints\n",
    "by(data, :Treatment, df-> describe(df.Age))"
   ]
  },
  {
   "cell_type": "markdown",
   "metadata": {},
   "source": [
    "# 6. Visualizing data"
   ]
  },
  {
   "cell_type": "markdown",
   "metadata": {},
   "source": [
    "The Plots Package works well with the DataFrame package by allowing the macro funation from the latter. In the code below, we look at the age distribution of the two treatemts group"
   ]
  },
  {
   "cell_type": "code",
   "execution_count": 23,
   "metadata": {},
   "outputs": [
    {
     "data": {
      "text/plain": [
       "Plots.GRBackend()"
      ]
     },
     "execution_count": 23,
     "metadata": {},
     "output_type": "execute_result"
    }
   ],
   "source": [
    "using StatsPlots\n",
    "using StatsPlots: @df   # For Plots\n",
    "pyplot()\n",
    "gr()"
   ]
  },
  {
   "cell_type": "code",
   "execution_count": 24,
   "metadata": {},
   "outputs": [
    {
     "data": {
      "image/svg+xml": [
       "<?xml version=\"1.0\" encoding=\"utf-8\"?>\n",
       "<svg xmlns=\"http://www.w3.org/2000/svg\" xmlns:xlink=\"http://www.w3.org/1999/xlink\" width=\"600\" height=\"400\" viewBox=\"0 0 2400 1600\">\n",
       "<defs>\n",
       "  <clipPath id=\"clip7700\">\n",
       "    <rect x=\"0\" y=\"0\" width=\"2400\" height=\"1600\"/>\n",
       "  </clipPath>\n",
       "</defs>\n",
       "<path clip-path=\"url(#clip7700)\" d=\"\n",
       "M0 1600 L2400 1600 L2400 0 L0 0  Z\n",
       "  \" fill=\"#ffffff\" fill-rule=\"evenodd\" fill-opacity=\"1\"/>\n",
       "<defs>\n",
       "  <clipPath id=\"clip7701\">\n",
       "    <rect x=\"480\" y=\"0\" width=\"1681\" height=\"1600\"/>\n",
       "  </clipPath>\n",
       "</defs>\n",
       "<path clip-path=\"url(#clip7700)\" d=\"\n",
       "M269.279 1425.62 L2352.76 1425.62 L2352.76 121.675 L269.279 121.675  Z\n",
       "  \" fill=\"#ffffff\" fill-rule=\"evenodd\" fill-opacity=\"1\"/>\n",
       "<defs>\n",
       "  <clipPath id=\"clip7702\">\n",
       "    <rect x=\"269\" y=\"121\" width=\"2084\" height=\"1305\"/>\n",
       "  </clipPath>\n",
       "</defs>\n",
       "<polyline clip-path=\"url(#clip7702)\" style=\"stroke:#000000; stroke-width:2; stroke-opacity:0.1; fill:none\" points=\"\n",
       "  539.875,1425.62 539.875,121.675 \n",
       "  \"/>\n",
       "<polyline clip-path=\"url(#clip7702)\" style=\"stroke:#000000; stroke-width:2; stroke-opacity:0.1; fill:none\" points=\"\n",
       "  933.315,1425.62 933.315,121.675 \n",
       "  \"/>\n",
       "<polyline clip-path=\"url(#clip7702)\" style=\"stroke:#000000; stroke-width:2; stroke-opacity:0.1; fill:none\" points=\"\n",
       "  1326.75,1425.62 1326.75,121.675 \n",
       "  \"/>\n",
       "<polyline clip-path=\"url(#clip7702)\" style=\"stroke:#000000; stroke-width:2; stroke-opacity:0.1; fill:none\" points=\"\n",
       "  1720.2,1425.62 1720.2,121.675 \n",
       "  \"/>\n",
       "<polyline clip-path=\"url(#clip7702)\" style=\"stroke:#000000; stroke-width:2; stroke-opacity:0.1; fill:none\" points=\"\n",
       "  2113.64,1425.62 2113.64,121.675 \n",
       "  \"/>\n",
       "<polyline clip-path=\"url(#clip7702)\" style=\"stroke:#000000; stroke-width:2; stroke-opacity:0.1; fill:none\" points=\"\n",
       "  269.279,1388.79 2352.76,1388.79 \n",
       "  \"/>\n",
       "<polyline clip-path=\"url(#clip7702)\" style=\"stroke:#000000; stroke-width:2; stroke-opacity:0.1; fill:none\" points=\"\n",
       "  269.279,1057.61 2352.76,1057.61 \n",
       "  \"/>\n",
       "<polyline clip-path=\"url(#clip7702)\" style=\"stroke:#000000; stroke-width:2; stroke-opacity:0.1; fill:none\" points=\"\n",
       "  269.279,726.42 2352.76,726.42 \n",
       "  \"/>\n",
       "<polyline clip-path=\"url(#clip7702)\" style=\"stroke:#000000; stroke-width:2; stroke-opacity:0.1; fill:none\" points=\"\n",
       "  269.279,395.235 2352.76,395.235 \n",
       "  \"/>\n",
       "<polyline clip-path=\"url(#clip7700)\" style=\"stroke:#000000; stroke-width:4; stroke-opacity:1; fill:none\" points=\"\n",
       "  269.279,1425.62 2352.76,1425.62 \n",
       "  \"/>\n",
       "<polyline clip-path=\"url(#clip7700)\" style=\"stroke:#000000; stroke-width:4; stroke-opacity:1; fill:none\" points=\"\n",
       "  269.279,1425.62 269.279,121.675 \n",
       "  \"/>\n",
       "<polyline clip-path=\"url(#clip7700)\" style=\"stroke:#000000; stroke-width:4; stroke-opacity:1; fill:none\" points=\"\n",
       "  539.875,1425.62 539.875,1409.97 \n",
       "  \"/>\n",
       "<polyline clip-path=\"url(#clip7700)\" style=\"stroke:#000000; stroke-width:4; stroke-opacity:1; fill:none\" points=\"\n",
       "  933.315,1425.62 933.315,1409.97 \n",
       "  \"/>\n",
       "<polyline clip-path=\"url(#clip7700)\" style=\"stroke:#000000; stroke-width:4; stroke-opacity:1; fill:none\" points=\"\n",
       "  1326.75,1425.62 1326.75,1409.97 \n",
       "  \"/>\n",
       "<polyline clip-path=\"url(#clip7700)\" style=\"stroke:#000000; stroke-width:4; stroke-opacity:1; fill:none\" points=\"\n",
       "  1720.2,1425.62 1720.2,1409.97 \n",
       "  \"/>\n",
       "<polyline clip-path=\"url(#clip7700)\" style=\"stroke:#000000; stroke-width:4; stroke-opacity:1; fill:none\" points=\"\n",
       "  2113.64,1425.62 2113.64,1409.97 \n",
       "  \"/>\n",
       "<polyline clip-path=\"url(#clip7700)\" style=\"stroke:#000000; stroke-width:4; stroke-opacity:1; fill:none\" points=\"\n",
       "  269.279,1388.79 294.28,1388.79 \n",
       "  \"/>\n",
       "<polyline clip-path=\"url(#clip7700)\" style=\"stroke:#000000; stroke-width:4; stroke-opacity:1; fill:none\" points=\"\n",
       "  269.279,1057.61 294.28,1057.61 \n",
       "  \"/>\n",
       "<polyline clip-path=\"url(#clip7700)\" style=\"stroke:#000000; stroke-width:4; stroke-opacity:1; fill:none\" points=\"\n",
       "  269.279,726.42 294.28,726.42 \n",
       "  \"/>\n",
       "<polyline clip-path=\"url(#clip7700)\" style=\"stroke:#000000; stroke-width:4; stroke-opacity:1; fill:none\" points=\"\n",
       "  269.279,395.235 294.28,395.235 \n",
       "  \"/>\n",
       "<g clip-path=\"url(#clip7700)\">\n",
       "<text style=\"fill:#000000; fill-opacity:1; font-family:Arial,Helvetica Neue,Helvetica,sans-serif; font-size:48px; text-anchor:middle;\" transform=\"rotate(0, 539.875, 1479.62)\" x=\"539.875\" y=\"1479.62\">0</text>\n",
       "</g>\n",
       "<g clip-path=\"url(#clip7700)\">\n",
       "<text style=\"fill:#000000; fill-opacity:1; font-family:Arial,Helvetica Neue,Helvetica,sans-serif; font-size:48px; text-anchor:middle;\" transform=\"rotate(0, 933.315, 1479.62)\" x=\"933.315\" y=\"1479.62\">25</text>\n",
       "</g>\n",
       "<g clip-path=\"url(#clip7700)\">\n",
       "<text style=\"fill:#000000; fill-opacity:1; font-family:Arial,Helvetica Neue,Helvetica,sans-serif; font-size:48px; text-anchor:middle;\" transform=\"rotate(0, 1326.75, 1479.62)\" x=\"1326.75\" y=\"1479.62\">50</text>\n",
       "</g>\n",
       "<g clip-path=\"url(#clip7700)\">\n",
       "<text style=\"fill:#000000; fill-opacity:1; font-family:Arial,Helvetica Neue,Helvetica,sans-serif; font-size:48px; text-anchor:middle;\" transform=\"rotate(0, 1720.2, 1479.62)\" x=\"1720.2\" y=\"1479.62\">75</text>\n",
       "</g>\n",
       "<g clip-path=\"url(#clip7700)\">\n",
       "<text style=\"fill:#000000; fill-opacity:1; font-family:Arial,Helvetica Neue,Helvetica,sans-serif; font-size:48px; text-anchor:middle;\" transform=\"rotate(0, 2113.64, 1479.62)\" x=\"2113.64\" y=\"1479.62\">100</text>\n",
       "</g>\n",
       "<g clip-path=\"url(#clip7700)\">\n",
       "<text style=\"fill:#000000; fill-opacity:1; font-family:Arial,Helvetica Neue,Helvetica,sans-serif; font-size:48px; text-anchor:end;\" transform=\"rotate(0, 245.279, 1406.29)\" x=\"245.279\" y=\"1406.29\">0.000</text>\n",
       "</g>\n",
       "<g clip-path=\"url(#clip7700)\">\n",
       "<text style=\"fill:#000000; fill-opacity:1; font-family:Arial,Helvetica Neue,Helvetica,sans-serif; font-size:48px; text-anchor:end;\" transform=\"rotate(0, 245.279, 1075.11)\" x=\"245.279\" y=\"1075.11\">0.005</text>\n",
       "</g>\n",
       "<g clip-path=\"url(#clip7700)\">\n",
       "<text style=\"fill:#000000; fill-opacity:1; font-family:Arial,Helvetica Neue,Helvetica,sans-serif; font-size:48px; text-anchor:end;\" transform=\"rotate(0, 245.279, 743.92)\" x=\"245.279\" y=\"743.92\">0.010</text>\n",
       "</g>\n",
       "<g clip-path=\"url(#clip7700)\">\n",
       "<text style=\"fill:#000000; fill-opacity:1; font-family:Arial,Helvetica Neue,Helvetica,sans-serif; font-size:48px; text-anchor:end;\" transform=\"rotate(0, 245.279, 412.735)\" x=\"245.279\" y=\"412.735\">0.015</text>\n",
       "</g>\n",
       "<g clip-path=\"url(#clip7700)\">\n",
       "<text style=\"fill:#000000; fill-opacity:1; font-family:Arial,Helvetica Neue,Helvetica,sans-serif; font-size:84px; text-anchor:middle;\" transform=\"rotate(0, 1311.02, 73.2)\" x=\"1311.02\" y=\"73.2\">Distribution of the ages by treatment group</text>\n",
       "</g>\n",
       "<g clip-path=\"url(#clip7700)\">\n",
       "<text style=\"fill:#000000; fill-opacity:1; font-family:Arial,Helvetica Neue,Helvetica,sans-serif; font-size:66px; text-anchor:middle;\" transform=\"rotate(0, 1311.02, 1559.48)\" x=\"1311.02\" y=\"1559.48\">Age</text>\n",
       "</g>\n",
       "<g clip-path=\"url(#clip7700)\">\n",
       "<text style=\"fill:#000000; fill-opacity:1; font-family:Arial,Helvetica Neue,Helvetica,sans-serif; font-size:66px; text-anchor:middle;\" transform=\"rotate(-90, 89.2861, 773.647)\" x=\"89.2861\" y=\"773.647\">Distribution</text>\n",
       "</g>\n",
       "<polyline clip-path=\"url(#clip7702)\" style=\"stroke:#009af9; stroke-width:4; stroke-opacity:1; fill:none\" points=\"\n",
       "  368.336,1388.71 377.652,1388.71 386.968,1388.71 396.284,1388.69 405.6,1388.67 414.916,1388.64 424.232,1388.59 433.548,1388.52 442.864,1388.43 452.18,1388.32 \n",
       "  461.496,1388.17 470.812,1387.97 480.128,1387.73 489.444,1387.41 498.76,1387.02 508.076,1386.52 517.392,1385.9 526.708,1385.12 536.024,1384.17 545.34,1383.01 \n",
       "  554.656,1381.59 563.972,1379.87 573.288,1377.8 582.604,1375.33 591.92,1372.38 601.236,1368.9 610.552,1364.8 619.868,1360 629.184,1354.42 638.5,1347.96 \n",
       "  647.816,1340.53 657.132,1332.03 666.448,1322.35 675.764,1311.4 685.08,1299.08 694.396,1285.29 703.712,1269.93 713.028,1252.92 722.344,1234.19 731.661,1213.68 \n",
       "  740.977,1191.34 750.293,1167.14 759.609,1141.07 768.925,1113.15 778.241,1083.4 787.557,1051.9 796.873,1018.73 806.189,984.001 815.505,947.85 824.821,910.443 \n",
       "  834.137,871.966 843.453,832.627 852.769,792.651 862.085,752.278 871.401,711.758 880.717,671.346 890.033,631.299 899.349,591.871 908.665,553.304 917.981,515.83 \n",
       "  927.297,479.662 936.613,444.994 945.929,411.993 955.245,380.804 964.561,351.544 973.877,324.301 983.193,299.141 992.509,276.101 1001.83,255.2 1011.14,236.436 \n",
       "  1020.46,219.792 1029.77,205.239 1039.09,192.741 1048.41,182.256 1057.72,173.741 1067.04,167.154 1076.35,162.455 1085.67,159.608 1094.99,158.579 1104.3,159.339 \n",
       "  1113.62,161.855 1122.93,166.097 1132.25,172.025 1141.57,179.594 1150.88,188.743 1160.2,199.397 1169.51,211.463 1178.83,224.824 1188.15,239.34 1197.46,254.845 \n",
       "  1206.78,271.148 1216.09,288.037 1225.41,305.273 1234.73,322.601 1244.04,339.75 1253.36,356.439 1262.67,372.382 1271.99,387.294 1281.31,400.898 1290.62,412.93 \n",
       "  1299.94,423.149 1309.25,431.339 1318.57,437.319 1327.89,440.946 1337.2,442.121 1346.52,440.791 1355.83,436.957 1365.15,430.67 1374.47,422.038 1383.78,411.218 \n",
       "  1393.1,398.424 1402.41,383.915 1411.73,367.995 1421.05,351.009 1430.36,333.332 1439.68,315.361 1448.99,297.512 1458.31,280.202 1467.63,263.847 1476.94,248.846 \n",
       "  1486.26,235.577 1495.57,224.381 1504.89,215.563 1514.21,209.377 1523.52,206.026 1532.84,205.658 1542.15,208.363 1551.47,214.174 1560.79,223.071 1570.1,234.98 \n",
       "  1579.42,249.785 1588.73,267.328 1598.05,287.421 1607.37,309.85 1616.68,334.388 1626,360.797 1635.31,388.837 1644.63,418.275 1653.95,448.887 1663.26,480.463 \n",
       "  1672.58,512.81 1681.89,545.755 1691.21,579.142 1700.53,612.834 1709.84,646.71 1719.16,680.666 1728.47,714.604 1737.79,748.441 1747.11,782.093 1756.42,815.485 \n",
       "  1765.74,848.537 1775.05,881.171 1784.37,913.304 1793.69,944.852 1803,975.726 1812.32,1005.84 1821.63,1035.09 1830.95,1063.39 1840.27,1090.66 1849.58,1116.81 \n",
       "  1858.9,1141.76 1868.21,1165.45 1877.53,1187.82 1886.85,1208.82 1896.16,1228.43 1905.48,1246.63 1914.8,1263.42 1924.11,1278.81 1933.43,1292.83 1942.74,1305.53 \n",
       "  1952.06,1316.95 1961.38,1327.15 1970.69,1336.21 1980.01,1344.19 1989.32,1351.19 1998.64,1357.27 2007.96,1362.53 2017.27,1367.04 2026.59,1370.89 2035.9,1374.14 \n",
       "  2045.22,1376.88 2054.54,1379.17 2063.85,1381.06 2073.17,1382.62 2082.48,1383.9 2091.8,1384.94 2101.12,1385.77 2110.43,1386.44 2119.75,1386.98 2129.06,1387.4 \n",
       "  2138.38,1387.73 2147.7,1387.98 2157.01,1388.18 2166.33,1388.33 2175.64,1388.45 2184.96,1388.54 2194.28,1388.6 2203.59,1388.65 2212.91,1388.68 2222.22,1388.7 \n",
       "  \n",
       "  \"/>\n",
       "<polyline clip-path=\"url(#clip7702)\" style=\"stroke:#e26f46; stroke-width:4; stroke-opacity:1; fill:none\" points=\"\n",
       "  328.245,1388.68 338.122,1388.66 347.999,1388.63 357.876,1388.58 367.754,1388.51 377.631,1388.41 387.508,1388.28 397.385,1388.11 407.262,1387.88 417.139,1387.59 \n",
       "  427.016,1387.21 436.893,1386.72 446.77,1386.11 456.648,1385.32 466.525,1384.34 476.402,1383.1 486.279,1381.57 496.156,1379.69 506.033,1377.38 515.91,1374.56 \n",
       "  525.787,1371.15 535.664,1367.06 545.541,1362.18 555.419,1356.38 565.296,1349.56 575.173,1341.56 585.05,1332.27 594.927,1321.53 604.804,1309.21 614.681,1295.17 \n",
       "  624.558,1279.26 634.435,1261.37 644.313,1241.38 654.19,1219.2 664.067,1194.75 673.944,1167.98 683.821,1138.88 693.698,1107.47 703.575,1073.79 713.452,1037.93 \n",
       "  723.329,1000.04 733.207,960.268 743.084,918.844 752.961,876.014 762.838,832.065 772.715,787.314 782.592,742.105 792.469,696.8 802.346,651.775 812.223,607.41 \n",
       "  822.1,564.081 831.978,522.153 841.855,481.972 851.732,443.854 861.609,408.085 871.486,374.908 881.363,344.522 891.24,317.078 901.117,292.676 910.994,271.366 \n",
       "  920.872,253.149 930.749,237.977 940.626,225.76 950.503,216.369 960.38,209.642 970.257,205.391 980.134,203.408 990.011,203.475 999.888,205.367 1009.77,208.859 \n",
       "  1019.64,213.736 1029.52,219.794 1039.4,226.845 1049.27,234.724 1059.15,243.283 1069.03,252.4 1078.91,261.975 1088.78,271.927 1098.66,282.196 1108.54,292.738 \n",
       "  1118.41,303.521 1128.29,314.524 1138.17,325.729 1148.05,337.121 1157.92,348.683 1167.8,360.394 1177.68,372.224 1187.55,384.135 1197.43,396.08 1207.31,408 \n",
       "  1217.18,419.826 1227.06,431.483 1236.94,442.887 1246.82,453.949 1256.69,464.581 1266.57,474.694 1276.45,484.205 1286.32,493.038 1296.2,501.125 1306.08,508.413 \n",
       "  1315.96,514.862 1325.83,520.445 1335.71,525.155 1345.59,528.995 1355.46,531.988 1365.34,534.168 1375.22,535.582 1385.1,536.286 1394.97,536.345 1404.85,535.83 \n",
       "  1414.73,534.816 1424.6,533.381 1434.48,531.603 1444.36,529.56 1454.24,527.329 1464.11,524.988 1473.99,522.612 1483.87,520.278 1493.74,518.064 1503.62,516.048 \n",
       "  1513.5,514.314 1523.38,512.946 1533.25,512.037 1543.13,511.679 1553.01,511.974 1562.88,513.024 1572.76,514.936 1582.64,517.817 1592.51,521.774 1602.39,526.911 \n",
       "  1612.27,533.326 1622.15,541.11 1632.02,550.341 1641.9,561.087 1651.78,573.397 1661.65,587.305 1671.53,602.825 1681.41,619.95 1691.29,638.651 1701.16,658.881 \n",
       "  1711.04,680.568 1720.92,703.624 1730.79,727.939 1740.67,753.388 1750.55,779.83 1760.43,807.111 1770.3,835.067 1780.18,863.527 1790.06,892.314 1799.93,921.251 \n",
       "  1809.81,950.16 1819.69,978.866 1829.57,1007.2 1839.44,1035.01 1849.32,1062.13 1859.2,1088.44 1869.07,1113.81 1878.95,1138.13 1888.83,1161.31 1898.71,1183.29 \n",
       "  1908.58,1203.99 1918.46,1223.38 1928.34,1241.44 1938.21,1258.16 1948.09,1273.55 1957.97,1287.63 1967.85,1300.43 1977.72,1312.01 1987.6,1322.42 1997.48,1331.71 \n",
       "  2007.35,1339.96 2017.23,1347.24 2027.11,1353.63 2036.98,1359.2 2046.86,1364.02 2056.74,1368.17 2066.62,1371.72 2076.49,1374.74 2086.37,1377.29 2096.25,1379.43 \n",
       "  2106.12,1381.22 2116,1382.7 2125.88,1383.92 2135.76,1384.92 2145.63,1385.73 2155.51,1386.38 2165.39,1386.91 2175.26,1387.33 2185.14,1387.66 2195.02,1387.92 \n",
       "  2204.9,1388.13 2214.77,1388.29 2224.65,1388.41 2234.53,1388.5 2244.4,1388.57 2254.28,1388.62 2264.16,1388.66 2274.04,1388.68 2283.91,1388.69 2293.79,1388.69 \n",
       "  \n",
       "  \"/>\n",
       "<path clip-path=\"url(#clip7700)\" d=\"\n",
       "M2008.65 386.635 L2280.76 386.635 L2280.76 205.195 L2008.65 205.195  Z\n",
       "  \" fill=\"#ffffff\" fill-rule=\"evenodd\" fill-opacity=\"1\"/>\n",
       "<polyline clip-path=\"url(#clip7700)\" style=\"stroke:#000000; stroke-width:4; stroke-opacity:1; fill:none\" points=\"\n",
       "  2008.65,386.635 2280.76,386.635 2280.76,205.195 2008.65,205.195 2008.65,386.635 \n",
       "  \"/>\n",
       "<polyline clip-path=\"url(#clip7700)\" style=\"stroke:#009af9; stroke-width:4; stroke-opacity:1; fill:none\" points=\"\n",
       "  2032.65,265.675 2176.65,265.675 \n",
       "  \"/>\n",
       "<g clip-path=\"url(#clip7700)\">\n",
       "<text style=\"fill:#000000; fill-opacity:1; font-family:Arial,Helvetica Neue,Helvetica,sans-serif; font-size:48px; text-anchor:start;\" transform=\"rotate(0, 2200.65, 283.175)\" x=\"2200.65\" y=\"283.175\">A</text>\n",
       "</g>\n",
       "<polyline clip-path=\"url(#clip7700)\" style=\"stroke:#e26f46; stroke-width:4; stroke-opacity:1; fill:none\" points=\"\n",
       "  2032.65,326.155 2176.65,326.155 \n",
       "  \"/>\n",
       "<g clip-path=\"url(#clip7700)\">\n",
       "<text style=\"fill:#000000; fill-opacity:1; font-family:Arial,Helvetica Neue,Helvetica,sans-serif; font-size:48px; text-anchor:start;\" transform=\"rotate(0, 2200.65, 343.655)\" x=\"2200.65\" y=\"343.655\">B</text>\n",
       "</g>\n",
       "</svg>\n"
      ]
     },
     "execution_count": 24,
     "metadata": {},
     "output_type": "execute_result"
    }
   ],
   "source": [
    "@df data density(:Age, group= :Treatment, title=\"Distribution of the ages by treatment group\",\n",
    "    xlab=\"Age\", ylab=\"Distribution\",\n",
    "    legend= :topright)"
   ]
  },
  {
   "cell_type": "markdown",
   "metadata": {},
   "source": [
    "We can do same for the Results"
   ]
  },
  {
   "cell_type": "code",
   "execution_count": 25,
   "metadata": {},
   "outputs": [
    {
     "data": {
      "image/svg+xml": [
       "<?xml version=\"1.0\" encoding=\"utf-8\"?>\n",
       "<svg xmlns=\"http://www.w3.org/2000/svg\" xmlns:xlink=\"http://www.w3.org/1999/xlink\" width=\"600\" height=\"400\" viewBox=\"0 0 2400 1600\">\n",
       "<defs>\n",
       "  <clipPath id=\"clip8100\">\n",
       "    <rect x=\"0\" y=\"0\" width=\"2400\" height=\"1600\"/>\n",
       "  </clipPath>\n",
       "</defs>\n",
       "<path clip-path=\"url(#clip8100)\" d=\"\n",
       "M0 1600 L2400 1600 L2400 0 L0 0  Z\n",
       "  \" fill=\"#ffffff\" fill-rule=\"evenodd\" fill-opacity=\"1\"/>\n",
       "<defs>\n",
       "  <clipPath id=\"clip8101\">\n",
       "    <rect x=\"480\" y=\"0\" width=\"1681\" height=\"1600\"/>\n",
       "  </clipPath>\n",
       "</defs>\n",
       "<path clip-path=\"url(#clip8100)\" d=\"\n",
       "M269.279 1425.62 L2352.76 1425.62 L2352.76 121.675 L269.279 121.675  Z\n",
       "  \" fill=\"#ffffff\" fill-rule=\"evenodd\" fill-opacity=\"1\"/>\n",
       "<defs>\n",
       "  <clipPath id=\"clip8102\">\n",
       "    <rect x=\"269\" y=\"121\" width=\"2084\" height=\"1305\"/>\n",
       "  </clipPath>\n",
       "</defs>\n",
       "<polyline clip-path=\"url(#clip8102)\" style=\"stroke:#000000; stroke-width:2; stroke-opacity:0.1; fill:none\" points=\"\n",
       "  574.882,1425.62 574.882,121.675 \n",
       "  \"/>\n",
       "<polyline clip-path=\"url(#clip8102)\" style=\"stroke:#000000; stroke-width:2; stroke-opacity:0.1; fill:none\" points=\"\n",
       "  954.333,1425.62 954.333,121.675 \n",
       "  \"/>\n",
       "<polyline clip-path=\"url(#clip8102)\" style=\"stroke:#000000; stroke-width:2; stroke-opacity:0.1; fill:none\" points=\"\n",
       "  1333.78,1425.62 1333.78,121.675 \n",
       "  \"/>\n",
       "<polyline clip-path=\"url(#clip8102)\" style=\"stroke:#000000; stroke-width:2; stroke-opacity:0.1; fill:none\" points=\"\n",
       "  1713.24,1425.62 1713.24,121.675 \n",
       "  \"/>\n",
       "<polyline clip-path=\"url(#clip8102)\" style=\"stroke:#000000; stroke-width:2; stroke-opacity:0.1; fill:none\" points=\"\n",
       "  2092.69,1425.62 2092.69,121.675 \n",
       "  \"/>\n",
       "<polyline clip-path=\"url(#clip8102)\" style=\"stroke:#000000; stroke-width:2; stroke-opacity:0.1; fill:none\" points=\"\n",
       "  269.279,1388.79 2352.76,1388.79 \n",
       "  \"/>\n",
       "<polyline clip-path=\"url(#clip8102)\" style=\"stroke:#000000; stroke-width:2; stroke-opacity:0.1; fill:none\" points=\"\n",
       "  269.279,1103.61 2352.76,1103.61 \n",
       "  \"/>\n",
       "<polyline clip-path=\"url(#clip8102)\" style=\"stroke:#000000; stroke-width:2; stroke-opacity:0.1; fill:none\" points=\"\n",
       "  269.279,818.431 2352.76,818.431 \n",
       "  \"/>\n",
       "<polyline clip-path=\"url(#clip8102)\" style=\"stroke:#000000; stroke-width:2; stroke-opacity:0.1; fill:none\" points=\"\n",
       "  269.279,533.25 2352.76,533.25 \n",
       "  \"/>\n",
       "<polyline clip-path=\"url(#clip8102)\" style=\"stroke:#000000; stroke-width:2; stroke-opacity:0.1; fill:none\" points=\"\n",
       "  269.279,248.068 2352.76,248.068 \n",
       "  \"/>\n",
       "<polyline clip-path=\"url(#clip8100)\" style=\"stroke:#000000; stroke-width:4; stroke-opacity:1; fill:none\" points=\"\n",
       "  269.279,1425.62 2352.76,1425.62 \n",
       "  \"/>\n",
       "<polyline clip-path=\"url(#clip8100)\" style=\"stroke:#000000; stroke-width:4; stroke-opacity:1; fill:none\" points=\"\n",
       "  269.279,1425.62 269.279,121.675 \n",
       "  \"/>\n",
       "<polyline clip-path=\"url(#clip8100)\" style=\"stroke:#000000; stroke-width:4; stroke-opacity:1; fill:none\" points=\"\n",
       "  574.882,1425.62 574.882,1409.97 \n",
       "  \"/>\n",
       "<polyline clip-path=\"url(#clip8100)\" style=\"stroke:#000000; stroke-width:4; stroke-opacity:1; fill:none\" points=\"\n",
       "  954.333,1425.62 954.333,1409.97 \n",
       "  \"/>\n",
       "<polyline clip-path=\"url(#clip8100)\" style=\"stroke:#000000; stroke-width:4; stroke-opacity:1; fill:none\" points=\"\n",
       "  1333.78,1425.62 1333.78,1409.97 \n",
       "  \"/>\n",
       "<polyline clip-path=\"url(#clip8100)\" style=\"stroke:#000000; stroke-width:4; stroke-opacity:1; fill:none\" points=\"\n",
       "  1713.24,1425.62 1713.24,1409.97 \n",
       "  \"/>\n",
       "<polyline clip-path=\"url(#clip8100)\" style=\"stroke:#000000; stroke-width:4; stroke-opacity:1; fill:none\" points=\"\n",
       "  2092.69,1425.62 2092.69,1409.97 \n",
       "  \"/>\n",
       "<polyline clip-path=\"url(#clip8100)\" style=\"stroke:#000000; stroke-width:4; stroke-opacity:1; fill:none\" points=\"\n",
       "  269.279,1388.79 294.28,1388.79 \n",
       "  \"/>\n",
       "<polyline clip-path=\"url(#clip8100)\" style=\"stroke:#000000; stroke-width:4; stroke-opacity:1; fill:none\" points=\"\n",
       "  269.279,1103.61 294.28,1103.61 \n",
       "  \"/>\n",
       "<polyline clip-path=\"url(#clip8100)\" style=\"stroke:#000000; stroke-width:4; stroke-opacity:1; fill:none\" points=\"\n",
       "  269.279,818.431 294.28,818.431 \n",
       "  \"/>\n",
       "<polyline clip-path=\"url(#clip8100)\" style=\"stroke:#000000; stroke-width:4; stroke-opacity:1; fill:none\" points=\"\n",
       "  269.279,533.25 294.28,533.25 \n",
       "  \"/>\n",
       "<polyline clip-path=\"url(#clip8100)\" style=\"stroke:#000000; stroke-width:4; stroke-opacity:1; fill:none\" points=\"\n",
       "  269.279,248.068 294.28,248.068 \n",
       "  \"/>\n",
       "<g clip-path=\"url(#clip8100)\">\n",
       "<text style=\"fill:#000000; fill-opacity:1; font-family:Arial,Helvetica Neue,Helvetica,sans-serif; font-size:48px; text-anchor:middle;\" transform=\"rotate(0, 574.882, 1479.62)\" x=\"574.882\" y=\"1479.62\">0</text>\n",
       "</g>\n",
       "<g clip-path=\"url(#clip8100)\">\n",
       "<text style=\"fill:#000000; fill-opacity:1; font-family:Arial,Helvetica Neue,Helvetica,sans-serif; font-size:48px; text-anchor:middle;\" transform=\"rotate(0, 954.333, 1479.62)\" x=\"954.333\" y=\"1479.62\">25</text>\n",
       "</g>\n",
       "<g clip-path=\"url(#clip8100)\">\n",
       "<text style=\"fill:#000000; fill-opacity:1; font-family:Arial,Helvetica Neue,Helvetica,sans-serif; font-size:48px; text-anchor:middle;\" transform=\"rotate(0, 1333.78, 1479.62)\" x=\"1333.78\" y=\"1479.62\">50</text>\n",
       "</g>\n",
       "<g clip-path=\"url(#clip8100)\">\n",
       "<text style=\"fill:#000000; fill-opacity:1; font-family:Arial,Helvetica Neue,Helvetica,sans-serif; font-size:48px; text-anchor:middle;\" transform=\"rotate(0, 1713.24, 1479.62)\" x=\"1713.24\" y=\"1479.62\">75</text>\n",
       "</g>\n",
       "<g clip-path=\"url(#clip8100)\">\n",
       "<text style=\"fill:#000000; fill-opacity:1; font-family:Arial,Helvetica Neue,Helvetica,sans-serif; font-size:48px; text-anchor:middle;\" transform=\"rotate(0, 2092.69, 1479.62)\" x=\"2092.69\" y=\"1479.62\">100</text>\n",
       "</g>\n",
       "<g clip-path=\"url(#clip8100)\">\n",
       "<text style=\"fill:#000000; fill-opacity:1; font-family:Arial,Helvetica Neue,Helvetica,sans-serif; font-size:48px; text-anchor:end;\" transform=\"rotate(0, 245.279, 1406.29)\" x=\"245.279\" y=\"1406.29\">0.000</text>\n",
       "</g>\n",
       "<g clip-path=\"url(#clip8100)\">\n",
       "<text style=\"fill:#000000; fill-opacity:1; font-family:Arial,Helvetica Neue,Helvetica,sans-serif; font-size:48px; text-anchor:end;\" transform=\"rotate(0, 245.279, 1121.11)\" x=\"245.279\" y=\"1121.11\">0.005</text>\n",
       "</g>\n",
       "<g clip-path=\"url(#clip8100)\">\n",
       "<text style=\"fill:#000000; fill-opacity:1; font-family:Arial,Helvetica Neue,Helvetica,sans-serif; font-size:48px; text-anchor:end;\" transform=\"rotate(0, 245.279, 835.931)\" x=\"245.279\" y=\"835.931\">0.010</text>\n",
       "</g>\n",
       "<g clip-path=\"url(#clip8100)\">\n",
       "<text style=\"fill:#000000; fill-opacity:1; font-family:Arial,Helvetica Neue,Helvetica,sans-serif; font-size:48px; text-anchor:end;\" transform=\"rotate(0, 245.279, 550.75)\" x=\"245.279\" y=\"550.75\">0.015</text>\n",
       "</g>\n",
       "<g clip-path=\"url(#clip8100)\">\n",
       "<text style=\"fill:#000000; fill-opacity:1; font-family:Arial,Helvetica Neue,Helvetica,sans-serif; font-size:48px; text-anchor:end;\" transform=\"rotate(0, 245.279, 265.568)\" x=\"245.279\" y=\"265.568\">0.020</text>\n",
       "</g>\n",
       "<g clip-path=\"url(#clip8100)\">\n",
       "<text style=\"fill:#000000; fill-opacity:1; font-family:Arial,Helvetica Neue,Helvetica,sans-serif; font-size:84px; text-anchor:middle;\" transform=\"rotate(0, 1311.02, 73.2)\" x=\"1311.02\" y=\"73.2\">Distribution of the ages by treatment group</text>\n",
       "</g>\n",
       "<g clip-path=\"url(#clip8100)\">\n",
       "<text style=\"fill:#000000; fill-opacity:1; font-family:Arial,Helvetica Neue,Helvetica,sans-serif; font-size:66px; text-anchor:middle;\" transform=\"rotate(0, 1311.02, 1559.48)\" x=\"1311.02\" y=\"1559.48\">Age</text>\n",
       "</g>\n",
       "<g clip-path=\"url(#clip8100)\">\n",
       "<text style=\"fill:#000000; fill-opacity:1; font-family:Arial,Helvetica Neue,Helvetica,sans-serif; font-size:66px; text-anchor:middle;\" transform=\"rotate(-90, 89.2861, 773.647)\" x=\"89.2861\" y=\"773.647\">Distribution</text>\n",
       "</g>\n",
       "<polyline clip-path=\"url(#clip8102)\" style=\"stroke:#009af9; stroke-width:4; stroke-opacity:1; fill:none\" points=\"\n",
       "  398.179,1388.71 407.506,1388.7 416.833,1388.68 426.159,1388.64 435.486,1388.59 444.813,1388.53 454.14,1388.44 463.467,1388.33 472.793,1388.18 482.12,1387.99 \n",
       "  491.447,1387.75 500.774,1387.44 510.101,1387.05 519.427,1386.57 528.754,1385.96 538.081,1385.2 547.408,1384.28 556.735,1383.14 566.061,1381.77 575.388,1380.12 \n",
       "  584.715,1378.13 594.042,1375.77 603.369,1372.98 612.695,1369.7 622.022,1365.87 631.349,1361.43 640.676,1356.31 650.003,1350.45 659.329,1343.78 668.656,1336.24 \n",
       "  677.983,1327.77 687.31,1318.32 696.637,1307.83 705.963,1296.28 715.29,1283.62 724.617,1269.84 733.944,1254.93 743.271,1238.91 752.597,1221.78 761.924,1203.6 \n",
       "  771.251,1184.42 780.578,1164.29 789.905,1143.3 799.231,1121.54 808.558,1099.12 817.885,1076.16 827.212,1052.77 836.539,1029.08 845.865,1005.22 855.192,981.317 \n",
       "  864.519,957.497 873.846,933.877 883.173,910.568 892.499,887.669 901.826,865.263 911.153,843.422 920.48,822.198 929.806,801.629 939.133,781.733 948.46,762.513 \n",
       "  957.787,743.953 967.114,726.024 976.44,708.683 985.767,691.876 995.094,675.541 1004.42,659.611 1013.75,644.015 1023.07,628.685 1032.4,613.556 1041.73,598.571 \n",
       "  1051.05,583.683 1060.38,568.855 1069.71,554.07 1079.04,539.322 1088.36,524.625 1097.69,510.009 1107.02,495.523 1116.34,481.232 1125.67,467.215 1135,453.566 \n",
       "  1144.32,440.386 1153.65,427.789 1162.98,415.889 1172.3,404.803 1181.63,394.645 1190.96,385.524 1200.28,377.538 1209.61,370.775 1218.94,365.306 1228.26,361.184 \n",
       "  1237.59,358.443 1246.92,357.094 1256.24,357.129 1265.57,358.514 1274.9,361.193 1284.22,365.09 1293.55,370.105 1302.88,376.122 1312.21,383.007 1321.53,390.613 \n",
       "  1330.86,398.78 1340.19,407.343 1349.51,416.129 1358.84,424.969 1368.17,433.695 1377.49,442.144 1386.82,450.166 1396.15,457.624 1405.47,464.399 1414.8,470.39 \n",
       "  1424.13,475.52 1433.45,479.734 1442.78,483.006 1452.11,485.335 1461.43,486.746 1470.76,487.292 1480.09,487.054 1489.41,486.135 1498.74,484.661 1508.07,482.781 \n",
       "  1517.39,480.659 1526.72,478.475 1536.05,476.42 1545.38,474.69 1554.7,473.487 1564.03,473.011 1573.36,473.455 1582.68,475.007 1592.01,477.841 1601.34,482.113 \n",
       "  1610.66,487.965 1619.99,495.512 1629.32,504.85 1638.64,516.046 1647.97,529.145 1657.3,544.161 1666.62,561.084 1675.95,579.875 1685.28,600.471 1694.6,622.785 \n",
       "  1703.93,646.707 1713.26,672.106 1722.58,698.836 1731.91,726.732 1741.24,755.619 1750.56,785.312 1759.89,815.618 1769.22,846.341 1778.55,877.286 1787.87,908.257 \n",
       "  1797.2,939.063 1806.53,969.523 1815.85,999.461 1825.18,1028.72 1834.51,1057.14 1843.83,1084.59 1853.16,1110.96 1862.49,1136.15 1871.81,1160.07 1881.14,1182.65 \n",
       "  1890.47,1203.85 1899.79,1223.65 1909.12,1242.02 1918.45,1258.97 1927.77,1274.53 1937.1,1288.72 1946.43,1301.58 1955.75,1313.18 1965.08,1323.57 1974.41,1332.83 \n",
       "  1983.73,1341.03 1993.06,1348.24 2002.39,1354.55 2011.71,1360.03 2021.04,1364.77 2030.37,1368.84 2039.7,1372.31 2049.02,1375.26 2058.35,1377.74 2067.68,1379.81 \n",
       "  2077,1381.54 2086.33,1382.97 2095.66,1384.15 2104.98,1385.11 2114.31,1385.89 2123.64,1386.51 2132.96,1387.02 2142.29,1387.42 2151.62,1387.73 2160.94,1387.98 \n",
       "  2170.27,1388.17 2179.6,1388.32 2188.92,1388.44 2198.25,1388.53 2207.58,1388.59 2216.9,1388.64 2226.23,1388.67 2235.56,1388.7 2244.88,1388.71 2254.21,1388.71 \n",
       "  \n",
       "  \"/>\n",
       "<polyline clip-path=\"url(#clip8102)\" style=\"stroke:#e26f46; stroke-width:4; stroke-opacity:1; fill:none\" points=\"\n",
       "  328.245,1388.68 338.122,1388.66 347.999,1388.64 357.876,1388.59 367.754,1388.53 377.631,1388.45 387.508,1388.35 397.385,1388.21 407.262,1388.03 417.139,1387.8 \n",
       "  427.016,1387.51 436.893,1387.13 446.77,1386.66 456.648,1386.07 466.525,1385.34 476.402,1384.42 486.279,1383.3 496.156,1381.92 506.033,1380.24 515.91,1378.2 \n",
       "  525.787,1375.75 535.664,1372.8 545.541,1369.29 555.419,1365.12 565.296,1360.2 575.173,1354.44 585.05,1347.71 594.927,1339.91 604.804,1330.91 614.681,1320.58 \n",
       "  624.558,1308.79 634.435,1295.42 644.313,1280.33 654.19,1263.4 664.067,1244.51 673.944,1223.56 683.821,1200.44 693.698,1175.09 703.575,1147.46 713.452,1117.51 \n",
       "  723.329,1085.24 733.207,1050.68 743.084,1013.91 752.961,975.018 762.838,934.155 772.715,891.499 782.592,847.272 792.469,801.732 802.346,755.175 812.223,707.931 \n",
       "  822.1,660.36 831.978,612.844 841.855,565.785 851.732,519.598 861.609,474.701 871.486,431.507 881.363,390.419 891.24,351.819 901.117,316.062 910.994,283.466 \n",
       "  920.872,254.308 930.749,228.814 940.626,207.16 950.503,189.463 960.38,175.784 970.257,166.124 980.134,160.426 990.011,158.579 999.888,160.42 1009.77,165.74 \n",
       "  1019.64,174.291 1029.52,185.791 1039.4,199.935 1049.27,216.398 1059.15,234.847 1069.03,254.947 1078.91,276.365 1088.78,298.783 1098.66,321.894 1108.54,345.415 \n",
       "  1118.41,369.084 1128.29,392.663 1138.17,415.941 1148.05,438.733 1157.92,460.878 1167.8,482.237 1177.68,502.694 1187.55,522.15 1197.43,540.523 1207.31,557.747 \n",
       "  1217.18,573.765 1227.06,588.533 1236.94,602.018 1246.82,614.195 1256.69,625.048 1266.57,634.573 1276.45,642.776 1286.32,649.675 1296.2,655.305 1306.08,659.713 \n",
       "  1315.96,662.963 1325.83,665.139 1335.71,666.342 1345.59,666.689 1355.46,666.317 1365.34,665.377 1375.22,664.037 1385.1,662.472 1394.97,660.868 1404.85,659.414 \n",
       "  1414.73,658.298 1424.6,657.705 1434.48,657.809 1444.36,658.773 1454.24,660.74 1464.11,663.833 1473.99,668.151 1483.87,673.764 1493.74,680.717 1503.62,689.025 \n",
       "  1513.5,698.672 1523.38,709.618 1533.25,721.794 1543.13,735.109 1553.01,749.452 1562.88,764.698 1572.76,780.707 1582.64,797.333 1592.51,814.43 1602.39,831.851 \n",
       "  1612.27,849.454 1622.15,867.111 1632.02,884.703 1641.9,902.129 1651.78,919.304 1661.65,936.164 1671.53,952.661 1681.41,968.767 1691.29,984.473 1701.16,999.783 \n",
       "  1711.04,1014.72 1720.92,1029.3 1730.79,1043.58 1740.67,1057.59 1750.55,1071.37 1760.43,1084.97 1770.3,1098.43 1780.18,1111.79 1790.06,1125.05 1799.93,1138.25 \n",
       "  1809.81,1151.38 1819.69,1164.44 1829.57,1177.42 1839.44,1190.3 1849.32,1203.02 1859.2,1215.57 1869.07,1227.89 1878.95,1239.94 1888.83,1251.66 1898.71,1263.01 \n",
       "  1908.58,1273.93 1918.46,1284.39 1928.34,1294.35 1938.21,1303.77 1948.09,1312.62 1957.97,1320.9 1967.85,1328.58 1977.72,1335.67 1987.6,1342.17 1997.48,1348.09 \n",
       "  2007.35,1353.45 2017.23,1358.26 2027.11,1362.56 2036.98,1366.38 2046.86,1369.75 2056.74,1372.7 2066.62,1375.27 2076.49,1377.49 2086.37,1379.4 2096.25,1381.03 \n",
       "  2106.12,1382.41 2116,1383.58 2125.88,1384.56 2135.76,1385.37 2145.63,1386.04 2155.51,1386.6 2165.39,1387.05 2175.26,1387.41 2185.14,1387.71 2195.02,1387.95 \n",
       "  2204.9,1388.13 2214.77,1388.28 2224.65,1388.4 2234.53,1388.49 2244.4,1388.56 2254.28,1388.61 2264.16,1388.65 2274.04,1388.67 2283.91,1388.68 2293.79,1388.69 \n",
       "  \n",
       "  \"/>\n",
       "<polyline clip-path=\"url(#clip8102)\" style=\"stroke:#3da44d; stroke-width:4; stroke-opacity:1; fill:none\" points=\"\n",
       "  356.746,1388.71 366.337,1388.69 375.927,1388.67 385.518,1388.63 395.109,1388.58 404.699,1388.52 414.29,1388.43 423.881,1388.31 433.471,1388.16 443.062,1387.97 \n",
       "  452.653,1387.73 462.243,1387.42 471.834,1387.03 481.425,1386.55 491.015,1385.94 500.606,1385.19 510.197,1384.27 519.787,1383.15 529.378,1381.78 538.969,1380.13 \n",
       "  548.559,1378.15 558.15,1375.79 567.741,1372.98 577.331,1369.67 586.922,1365.79 596.513,1361.27 606.103,1356.02 615.694,1349.99 625.285,1343.07 634.875,1335.2 \n",
       "  644.466,1326.29 654.057,1316.26 663.647,1305.05 673.238,1292.59 682.829,1278.81 692.419,1263.67 702.01,1247.13 711.601,1229.16 721.191,1209.76 730.782,1188.92 \n",
       "  740.373,1166.67 749.963,1143.04 759.554,1118.1 769.145,1091.91 778.735,1064.55 788.326,1036.13 797.917,1006.77 807.507,976.583 817.098,945.708 826.689,914.286 \n",
       "  836.279,882.461 845.87,850.381 855.461,818.191 865.051,786.038 874.642,754.062 884.233,722.4 893.823,691.183 903.414,660.536 913.005,630.576 922.595,601.419 \n",
       "  932.186,573.17 941.777,545.937 951.367,519.82 960.958,494.92 970.549,471.338 980.139,449.176 989.73,428.537 999.321,409.525 1008.91,392.247 1018.5,376.812 \n",
       "  1028.09,363.326 1037.68,351.894 1047.27,342.617 1056.86,335.588 1066.46,330.889 1076.05,328.588 1085.64,328.735 1095.23,331.359 1104.82,336.463 1114.41,344.022 \n",
       "  1124,353.979 1133.59,366.247 1143.18,380.701 1152.77,397.184 1162.36,415.504 1171.95,435.434 1181.54,456.718 1191.13,479.073 1200.72,502.191 1210.32,525.747 \n",
       "  1219.91,549.4 1229.5,572.804 1239.09,595.613 1248.68,617.484 1258.27,638.09 1267.86,657.118 1277.45,674.285 1287.04,689.336 1296.63,702.052 1306.22,712.254 \n",
       "  1315.81,719.807 1325.4,724.623 1334.99,726.66 1344.58,725.927 1354.18,722.477 1363.77,716.415 1373.36,707.885 1382.95,697.075 1392.54,684.211 1402.13,669.55 \n",
       "  1411.72,653.377 1421.31,635.998 1430.9,617.738 1440.49,598.93 1450.08,579.912 1459.67,561.02 1469.26,542.586 1478.85,524.928 1488.44,508.348 1498.04,493.127 \n",
       "  1507.63,479.524 1517.22,467.77 1526.81,458.067 1536.4,450.588 1545.99,445.473 1555.58,442.832 1565.17,442.742 1574.76,445.249 1584.35,450.373 1593.94,458.1 \n",
       "  1603.53,468.393 1613.12,481.189 1622.71,496.403 1632.3,513.927 1641.9,533.635 1651.49,555.386 1661.08,579.023 1670.67,604.376 1680.26,631.265 1689.85,659.503 \n",
       "  1699.44,688.894 1709.03,719.24 1718.62,750.34 1728.21,781.991 1737.8,813.994 1747.39,846.151 1756.98,878.271 1766.57,910.168 1776.16,941.667 1785.76,972.603 \n",
       "  1795.35,1002.82 1804.94,1032.18 1814.53,1060.56 1824.12,1087.85 1833.71,1113.95 1843.3,1138.78 1852.89,1162.29 1862.48,1184.43 1872.07,1205.17 1881.66,1224.5 \n",
       "  1891.25,1242.42 1900.84,1258.95 1910.43,1274.12 1920.02,1287.96 1929.62,1300.53 1939.21,1311.88 1948.8,1322.07 1958.39,1331.18 1967.98,1339.28 1977.57,1346.44 \n",
       "  1987.16,1352.73 1996.75,1358.24 2006.34,1363.03 2015.93,1367.17 2025.52,1370.74 2035.11,1373.79 2044.7,1376.39 2054.29,1378.58 2063.88,1380.44 2073.48,1381.98 \n",
       "  2083.07,1383.28 2092.66,1384.34 2102.25,1385.22 2111.84,1385.94 2121.43,1386.53 2131.02,1387.01 2140.61,1387.39 2150.2,1387.7 2159.79,1387.94 2169.38,1388.13 \n",
       "  2178.97,1388.28 2188.56,1388.4 2198.15,1388.49 2207.74,1388.56 2217.34,1388.62 2226.93,1388.66 2236.52,1388.68 2246.11,1388.7 2255.7,1388.71 2265.29,1388.71 \n",
       "  \n",
       "  \"/>\n",
       "<path clip-path=\"url(#clip8100)\" d=\"\n",
       "M1840.13 447.115 L2280.76 447.115 L2280.76 205.195 L1840.13 205.195  Z\n",
       "  \" fill=\"#ffffff\" fill-rule=\"evenodd\" fill-opacity=\"1\"/>\n",
       "<polyline clip-path=\"url(#clip8100)\" style=\"stroke:#000000; stroke-width:4; stroke-opacity:1; fill:none\" points=\"\n",
       "  1840.13,447.115 2280.76,447.115 2280.76,205.195 1840.13,205.195 1840.13,447.115 \n",
       "  \"/>\n",
       "<polyline clip-path=\"url(#clip8100)\" style=\"stroke:#009af9; stroke-width:4; stroke-opacity:1; fill:none\" points=\"\n",
       "  1864.13,265.675 2008.13,265.675 \n",
       "  \"/>\n",
       "<g clip-path=\"url(#clip8100)\">\n",
       "<text style=\"fill:#000000; fill-opacity:1; font-family:Arial,Helvetica Neue,Helvetica,sans-serif; font-size:48px; text-anchor:start;\" transform=\"rotate(0, 2032.13, 283.175)\" x=\"2032.13\" y=\"283.175\">Improved</text>\n",
       "</g>\n",
       "<polyline clip-path=\"url(#clip8100)\" style=\"stroke:#e26f46; stroke-width:4; stroke-opacity:1; fill:none\" points=\"\n",
       "  1864.13,326.155 2008.13,326.155 \n",
       "  \"/>\n",
       "<g clip-path=\"url(#clip8100)\">\n",
       "<text style=\"fill:#000000; fill-opacity:1; font-family:Arial,Helvetica Neue,Helvetica,sans-serif; font-size:48px; text-anchor:start;\" transform=\"rotate(0, 2032.13, 343.655)\" x=\"2032.13\" y=\"343.655\">Static</text>\n",
       "</g>\n",
       "<polyline clip-path=\"url(#clip8100)\" style=\"stroke:#3da44d; stroke-width:4; stroke-opacity:1; fill:none\" points=\"\n",
       "  1864.13,386.635 2008.13,386.635 \n",
       "  \"/>\n",
       "<g clip-path=\"url(#clip8100)\">\n",
       "<text style=\"fill:#000000; fill-opacity:1; font-family:Arial,Helvetica Neue,Helvetica,sans-serif; font-size:48px; text-anchor:start;\" transform=\"rotate(0, 2032.13, 404.135)\" x=\"2032.13\" y=\"404.135\">Worse</text>\n",
       "</g>\n",
       "</svg>\n"
      ]
     },
     "execution_count": 25,
     "metadata": {},
     "output_type": "execute_result"
    }
   ],
   "source": [
    "@df data density(:Age, group= :Result, title=\"Distribution of the ages by treatment group\",\n",
    "    xlab=\"Age\", ylab=\"Distribution\",\n",
    "    legend= :topright)"
   ]
  },
  {
   "cell_type": "markdown",
   "metadata": {},
   "source": [
    "We can even discriminate between all of the group"
   ]
  },
  {
   "cell_type": "code",
   "execution_count": 26,
   "metadata": {},
   "outputs": [
    {
     "data": {
      "image/svg+xml": [
       "<?xml version=\"1.0\" encoding=\"utf-8\"?>\n",
       "<svg xmlns=\"http://www.w3.org/2000/svg\" xmlns:xlink=\"http://www.w3.org/1999/xlink\" width=\"600\" height=\"400\" viewBox=\"0 0 2400 1600\">\n",
       "<defs>\n",
       "  <clipPath id=\"clip8500\">\n",
       "    <rect x=\"0\" y=\"0\" width=\"2400\" height=\"1600\"/>\n",
       "  </clipPath>\n",
       "</defs>\n",
       "<path clip-path=\"url(#clip8500)\" d=\"\n",
       "M0 1600 L2400 1600 L2400 0 L0 0  Z\n",
       "  \" fill=\"#ffffff\" fill-rule=\"evenodd\" fill-opacity=\"1\"/>\n",
       "<defs>\n",
       "  <clipPath id=\"clip8501\">\n",
       "    <rect x=\"480\" y=\"0\" width=\"1681\" height=\"1600\"/>\n",
       "  </clipPath>\n",
       "</defs>\n",
       "<path clip-path=\"url(#clip8500)\" d=\"\n",
       "M269.279 1425.62 L2352.76 1425.62 L2352.76 121.675 L269.279 121.675  Z\n",
       "  \" fill=\"#ffffff\" fill-rule=\"evenodd\" fill-opacity=\"1\"/>\n",
       "<defs>\n",
       "  <clipPath id=\"clip8502\">\n",
       "    <rect x=\"269\" y=\"121\" width=\"2084\" height=\"1305\"/>\n",
       "  </clipPath>\n",
       "</defs>\n",
       "<polyline clip-path=\"url(#clip8502)\" style=\"stroke:#000000; stroke-width:2; stroke-opacity:0.1; fill:none\" points=\"\n",
       "  645.468,1425.62 645.468,121.675 \n",
       "  \"/>\n",
       "<polyline clip-path=\"url(#clip8502)\" style=\"stroke:#000000; stroke-width:2; stroke-opacity:0.1; fill:none\" points=\"\n",
       "  1057.15,1425.62 1057.15,121.675 \n",
       "  \"/>\n",
       "<polyline clip-path=\"url(#clip8502)\" style=\"stroke:#000000; stroke-width:2; stroke-opacity:0.1; fill:none\" points=\"\n",
       "  1468.83,1425.62 1468.83,121.675 \n",
       "  \"/>\n",
       "<polyline clip-path=\"url(#clip8502)\" style=\"stroke:#000000; stroke-width:2; stroke-opacity:0.1; fill:none\" points=\"\n",
       "  1880.51,1425.62 1880.51,121.675 \n",
       "  \"/>\n",
       "<polyline clip-path=\"url(#clip8502)\" style=\"stroke:#000000; stroke-width:2; stroke-opacity:0.1; fill:none\" points=\"\n",
       "  2292.19,1425.62 2292.19,121.675 \n",
       "  \"/>\n",
       "<polyline clip-path=\"url(#clip8502)\" style=\"stroke:#000000; stroke-width:2; stroke-opacity:0.1; fill:none\" points=\"\n",
       "  269.279,1388.82 2352.76,1388.82 \n",
       "  \"/>\n",
       "<polyline clip-path=\"url(#clip8502)\" style=\"stroke:#000000; stroke-width:2; stroke-opacity:0.1; fill:none\" points=\"\n",
       "  269.279,1099.7 2352.76,1099.7 \n",
       "  \"/>\n",
       "<polyline clip-path=\"url(#clip8502)\" style=\"stroke:#000000; stroke-width:2; stroke-opacity:0.1; fill:none\" points=\"\n",
       "  269.279,810.576 2352.76,810.576 \n",
       "  \"/>\n",
       "<polyline clip-path=\"url(#clip8502)\" style=\"stroke:#000000; stroke-width:2; stroke-opacity:0.1; fill:none\" points=\"\n",
       "  269.279,521.456 2352.76,521.456 \n",
       "  \"/>\n",
       "<polyline clip-path=\"url(#clip8502)\" style=\"stroke:#000000; stroke-width:2; stroke-opacity:0.1; fill:none\" points=\"\n",
       "  269.279,232.337 2352.76,232.337 \n",
       "  \"/>\n",
       "<polyline clip-path=\"url(#clip8500)\" style=\"stroke:#000000; stroke-width:4; stroke-opacity:1; fill:none\" points=\"\n",
       "  269.279,1425.62 2352.76,1425.62 \n",
       "  \"/>\n",
       "<polyline clip-path=\"url(#clip8500)\" style=\"stroke:#000000; stroke-width:4; stroke-opacity:1; fill:none\" points=\"\n",
       "  269.279,1425.62 269.279,121.675 \n",
       "  \"/>\n",
       "<polyline clip-path=\"url(#clip8500)\" style=\"stroke:#000000; stroke-width:4; stroke-opacity:1; fill:none\" points=\"\n",
       "  645.468,1425.62 645.468,1409.97 \n",
       "  \"/>\n",
       "<polyline clip-path=\"url(#clip8500)\" style=\"stroke:#000000; stroke-width:4; stroke-opacity:1; fill:none\" points=\"\n",
       "  1057.15,1425.62 1057.15,1409.97 \n",
       "  \"/>\n",
       "<polyline clip-path=\"url(#clip8500)\" style=\"stroke:#000000; stroke-width:4; stroke-opacity:1; fill:none\" points=\"\n",
       "  1468.83,1425.62 1468.83,1409.97 \n",
       "  \"/>\n",
       "<polyline clip-path=\"url(#clip8500)\" style=\"stroke:#000000; stroke-width:4; stroke-opacity:1; fill:none\" points=\"\n",
       "  1880.51,1425.62 1880.51,1409.97 \n",
       "  \"/>\n",
       "<polyline clip-path=\"url(#clip8500)\" style=\"stroke:#000000; stroke-width:4; stroke-opacity:1; fill:none\" points=\"\n",
       "  2292.19,1425.62 2292.19,1409.97 \n",
       "  \"/>\n",
       "<polyline clip-path=\"url(#clip8500)\" style=\"stroke:#000000; stroke-width:4; stroke-opacity:1; fill:none\" points=\"\n",
       "  269.279,1388.82 294.28,1388.82 \n",
       "  \"/>\n",
       "<polyline clip-path=\"url(#clip8500)\" style=\"stroke:#000000; stroke-width:4; stroke-opacity:1; fill:none\" points=\"\n",
       "  269.279,1099.7 294.28,1099.7 \n",
       "  \"/>\n",
       "<polyline clip-path=\"url(#clip8500)\" style=\"stroke:#000000; stroke-width:4; stroke-opacity:1; fill:none\" points=\"\n",
       "  269.279,810.576 294.28,810.576 \n",
       "  \"/>\n",
       "<polyline clip-path=\"url(#clip8500)\" style=\"stroke:#000000; stroke-width:4; stroke-opacity:1; fill:none\" points=\"\n",
       "  269.279,521.456 294.28,521.456 \n",
       "  \"/>\n",
       "<polyline clip-path=\"url(#clip8500)\" style=\"stroke:#000000; stroke-width:4; stroke-opacity:1; fill:none\" points=\"\n",
       "  269.279,232.337 294.28,232.337 \n",
       "  \"/>\n",
       "<g clip-path=\"url(#clip8500)\">\n",
       "<text style=\"fill:#000000; fill-opacity:1; font-family:Arial,Helvetica Neue,Helvetica,sans-serif; font-size:48px; text-anchor:middle;\" transform=\"rotate(0, 645.468, 1479.62)\" x=\"645.468\" y=\"1479.62\">0</text>\n",
       "</g>\n",
       "<g clip-path=\"url(#clip8500)\">\n",
       "<text style=\"fill:#000000; fill-opacity:1; font-family:Arial,Helvetica Neue,Helvetica,sans-serif; font-size:48px; text-anchor:middle;\" transform=\"rotate(0, 1057.15, 1479.62)\" x=\"1057.15\" y=\"1479.62\">30</text>\n",
       "</g>\n",
       "<g clip-path=\"url(#clip8500)\">\n",
       "<text style=\"fill:#000000; fill-opacity:1; font-family:Arial,Helvetica Neue,Helvetica,sans-serif; font-size:48px; text-anchor:middle;\" transform=\"rotate(0, 1468.83, 1479.62)\" x=\"1468.83\" y=\"1479.62\">60</text>\n",
       "</g>\n",
       "<g clip-path=\"url(#clip8500)\">\n",
       "<text style=\"fill:#000000; fill-opacity:1; font-family:Arial,Helvetica Neue,Helvetica,sans-serif; font-size:48px; text-anchor:middle;\" transform=\"rotate(0, 1880.51, 1479.62)\" x=\"1880.51\" y=\"1479.62\">90</text>\n",
       "</g>\n",
       "<g clip-path=\"url(#clip8500)\">\n",
       "<text style=\"fill:#000000; fill-opacity:1; font-family:Arial,Helvetica Neue,Helvetica,sans-serif; font-size:48px; text-anchor:middle;\" transform=\"rotate(0, 2292.19, 1479.62)\" x=\"2292.19\" y=\"1479.62\">120</text>\n",
       "</g>\n",
       "<g clip-path=\"url(#clip8500)\">\n",
       "<text style=\"fill:#000000; fill-opacity:1; font-family:Arial,Helvetica Neue,Helvetica,sans-serif; font-size:48px; text-anchor:end;\" transform=\"rotate(0, 245.279, 1406.32)\" x=\"245.279\" y=\"1406.32\">0.000</text>\n",
       "</g>\n",
       "<g clip-path=\"url(#clip8500)\">\n",
       "<text style=\"fill:#000000; fill-opacity:1; font-family:Arial,Helvetica Neue,Helvetica,sans-serif; font-size:48px; text-anchor:end;\" transform=\"rotate(0, 245.279, 1117.2)\" x=\"245.279\" y=\"1117.2\">0.005</text>\n",
       "</g>\n",
       "<g clip-path=\"url(#clip8500)\">\n",
       "<text style=\"fill:#000000; fill-opacity:1; font-family:Arial,Helvetica Neue,Helvetica,sans-serif; font-size:48px; text-anchor:end;\" transform=\"rotate(0, 245.279, 828.076)\" x=\"245.279\" y=\"828.076\">0.010</text>\n",
       "</g>\n",
       "<g clip-path=\"url(#clip8500)\">\n",
       "<text style=\"fill:#000000; fill-opacity:1; font-family:Arial,Helvetica Neue,Helvetica,sans-serif; font-size:48px; text-anchor:end;\" transform=\"rotate(0, 245.279, 538.956)\" x=\"245.279\" y=\"538.956\">0.015</text>\n",
       "</g>\n",
       "<g clip-path=\"url(#clip8500)\">\n",
       "<text style=\"fill:#000000; fill-opacity:1; font-family:Arial,Helvetica Neue,Helvetica,sans-serif; font-size:48px; text-anchor:end;\" transform=\"rotate(0, 245.279, 249.837)\" x=\"245.279\" y=\"249.837\">0.020</text>\n",
       "</g>\n",
       "<g clip-path=\"url(#clip8500)\">\n",
       "<text style=\"fill:#000000; fill-opacity:1; font-family:Arial,Helvetica Neue,Helvetica,sans-serif; font-size:84px; text-anchor:middle;\" transform=\"rotate(0, 1311.02, 73.2)\" x=\"1311.02\" y=\"73.2\">Distribution of the ages by treatment group</text>\n",
       "</g>\n",
       "<g clip-path=\"url(#clip8500)\">\n",
       "<text style=\"fill:#000000; fill-opacity:1; font-family:Arial,Helvetica Neue,Helvetica,sans-serif; font-size:66px; text-anchor:middle;\" transform=\"rotate(0, 1311.02, 1559.48)\" x=\"1311.02\" y=\"1559.48\">Age</text>\n",
       "</g>\n",
       "<g clip-path=\"url(#clip8500)\">\n",
       "<text style=\"fill:#000000; fill-opacity:1; font-family:Arial,Helvetica Neue,Helvetica,sans-serif; font-size:66px; text-anchor:middle;\" transform=\"rotate(-90, 89.2861, 773.647)\" x=\"89.2861\" y=\"773.647\">Distribution</text>\n",
       "</g>\n",
       "<polyline clip-path=\"url(#clip8502)\" style=\"stroke:#009af9; stroke-width:4; stroke-opacity:1; fill:none\" points=\"\n",
       "  560.348,1388.71 568.237,1388.7 576.127,1388.69 584.016,1388.66 591.905,1388.62 599.794,1388.56 607.683,1388.49 615.573,1388.39 623.462,1388.27 631.351,1388.11 \n",
       "  639.24,1387.91 647.129,1387.66 655.019,1387.35 662.908,1386.97 670.797,1386.49 678.686,1385.91 686.576,1385.2 694.465,1384.34 702.354,1383.29 710.243,1382.05 \n",
       "  718.132,1380.56 726.022,1378.79 733.911,1376.7 741.8,1374.25 749.689,1371.39 757.578,1368.07 765.468,1364.24 773.357,1359.83 781.246,1354.78 789.135,1349.05 \n",
       "  797.024,1342.57 804.914,1335.27 812.803,1327.09 820.692,1317.98 828.581,1307.89 836.47,1296.75 844.36,1284.52 852.249,1271.15 860.138,1256.62 868.027,1240.89 \n",
       "  875.916,1223.94 883.806,1205.75 891.695,1186.33 899.584,1165.66 907.473,1143.76 915.362,1120.66 923.252,1096.38 931.141,1070.95 939.03,1044.43 946.919,1016.85 \n",
       "  954.808,988.285 962.698,958.797 970.587,928.456 978.476,897.344 986.365,865.545 994.254,833.152 1002.14,800.263 1010.03,766.985 1017.92,733.431 1025.81,699.721 \n",
       "  1033.7,665.983 1041.59,632.351 1049.48,598.969 1057.37,565.983 1065.26,533.551 1073.15,501.83 1081.04,470.986 1088.92,441.185 1096.81,412.592 1104.7,385.372 \n",
       "  1112.59,359.686 1120.48,335.687 1128.37,313.52 1136.26,293.315 1144.15,275.188 1152.04,259.239 1159.93,245.546 1167.82,234.164 1175.71,225.125 1183.6,218.435 \n",
       "  1191.48,214.074 1199.37,211.994 1207.26,212.12 1215.15,214.352 1223.04,218.561 1230.93,224.598 1238.82,232.289 1246.71,241.441 1254.6,251.844 1262.49,263.272 \n",
       "  1270.38,275.489 1278.27,288.253 1286.15,301.314 1294.04,314.426 1301.93,327.344 1309.82,339.831 1317.71,351.663 1325.6,362.629 1333.49,372.539 1341.38,381.224 \n",
       "  1349.27,388.544 1357.16,394.384 1365.05,398.663 1372.94,401.333 1380.83,402.38 1388.71,401.827 1396.6,399.731 1404.49,396.187 1412.38,391.321 1420.27,385.292 \n",
       "  1428.16,378.289 1436.05,370.524 1443.94,362.232 1451.83,353.665 1459.72,345.086 1467.61,336.763 1475.5,328.969 1483.39,321.968 1491.27,316.018 1499.16,311.362 \n",
       "  1507.05,308.224 1514.94,306.805 1522.83,307.282 1530.72,309.802 1538.61,314.484 1546.5,321.413 1554.39,330.645 1562.28,342.204 1570.17,356.083 1578.06,372.249 \n",
       "  1585.94,390.638 1593.83,411.164 1601.72,433.719 1609.61,458.174 1617.5,484.384 1625.39,512.19 1633.28,541.423 1641.17,571.905 1649.06,603.451 1656.95,635.874 \n",
       "  1664.84,668.985 1672.73,702.596 1680.62,736.521 1688.5,770.579 1696.39,804.593 1704.28,838.397 1712.17,871.829 1720.06,904.738 1727.95,936.984 1735.84,968.436 \n",
       "  1743.73,998.979 1751.62,1028.51 1759.51,1056.92 1767.4,1084.16 1775.29,1110.14 1783.17,1134.81 1791.06,1158.14 1798.95,1180.11 1806.84,1200.69 1814.73,1219.89 \n",
       "  1822.62,1237.72 1830.51,1254.2 1838.4,1269.37 1846.29,1283.25 1854.18,1295.91 1862.07,1307.39 1869.96,1317.75 1877.85,1327.06 1885.73,1335.38 1893.62,1342.79 \n",
       "  1901.51,1349.34 1909.4,1355.11 1917.29,1360.17 1925.18,1364.58 1933.07,1368.4 1940.96,1371.7 1948.85,1374.54 1956.74,1376.96 1964.63,1379.02 1972.52,1380.75 \n",
       "  1980.4,1382.22 1988.29,1383.44 1996.18,1384.46 2004.07,1385.3 2011.96,1385.99 2019.85,1386.56 2027.74,1387.02 2035.63,1387.4 2043.52,1387.7 2051.41,1387.94 \n",
       "  2059.3,1388.13 2067.19,1388.28 2075.08,1388.4 2082.96,1388.5 2090.85,1388.57 2098.74,1388.62 2106.63,1388.66 2114.52,1388.69 2122.41,1388.71 2130.3,1388.71 \n",
       "  \n",
       "  \"/>\n",
       "<polyline clip-path=\"url(#clip8502)\" style=\"stroke:#e26f46; stroke-width:4; stroke-opacity:1; fill:none\" points=\"\n",
       "  356.646,1388.71 366.169,1388.69 375.692,1388.67 385.215,1388.64 394.737,1388.59 404.26,1388.53 413.783,1388.44 423.305,1388.33 432.828,1388.19 442.351,1388.02 \n",
       "  451.874,1387.79 461.396,1387.51 470.919,1387.16 480.442,1386.72 489.964,1386.18 499.487,1385.51 509.01,1384.7 518.532,1383.7 528.055,1382.49 537.578,1381.04 \n",
       "  547.101,1379.29 556.623,1377.2 566.146,1374.72 575.669,1371.78 585.191,1368.32 594.714,1364.27 604.237,1359.55 613.76,1354.08 623.282,1347.77 632.805,1340.53 \n",
       "  642.328,1332.26 651.85,1322.87 661.373,1312.25 670.896,1300.31 680.419,1286.96 689.941,1272.1 699.464,1255.66 708.987,1237.55 718.509,1217.72 728.032,1196.12 \n",
       "  737.555,1172.73 747.078,1147.52 756.6,1120.51 766.123,1091.73 775.646,1061.25 785.168,1029.14 794.691,995.534 804.214,960.555 813.736,924.376 823.259,887.19 \n",
       "  832.782,849.213 842.305,810.685 851.827,771.862 861.35,733.017 870.873,694.435 880.395,656.404 889.918,619.217 899.441,583.162 908.964,548.519 918.486,515.552 \n",
       "  928.009,484.51 937.532,455.616 947.054,429.068 956.577,405.033 966.1,383.643 975.623,364.999 985.145,349.161 994.668,336.156 1004.19,325.974 1013.71,318.571 \n",
       "  1023.24,313.87 1032.76,311.764 1042.28,312.12 1051.8,314.783 1061.33,319.576 1070.85,326.308 1080.37,334.779 1089.9,344.778 1099.42,356.093 1108.94,368.509 \n",
       "  1118.46,381.814 1127.99,395.802 1137.51,410.271 1147.03,425.029 1156.55,439.894 1166.08,454.692 1175.6,469.262 1185.12,483.454 1194.64,497.128 1204.17,510.159 \n",
       "  1213.69,522.431 1223.21,533.844 1232.74,544.309 1242.26,553.751 1251.78,562.112 1261.3,569.347 1270.83,575.432 1280.35,580.356 1289.87,584.131 1299.39,586.789 \n",
       "  1308.92,588.381 1318.44,588.981 1327.96,588.682 1337.49,587.601 1347.01,585.873 1356.53,583.651 1366.05,581.105 1375.58,578.418 1385.1,575.782 1394.62,573.396 \n",
       "  1404.14,571.461 1413.67,570.177 1423.19,569.736 1432.71,570.318 1442.24,572.09 1451.76,575.196 1461.28,579.761 1470.8,585.88 1480.33,593.623 1489.85,603.029 \n",
       "  1499.37,614.107 1508.89,626.835 1518.42,641.163 1527.94,657.014 1537.46,674.285 1546.99,692.854 1556.51,712.579 1566.03,733.307 1575.55,754.872 1585.08,777.108 \n",
       "  1594.6,799.844 1604.12,822.914 1613.64,846.158 1623.17,869.428 1632.69,892.587 1642.21,915.511 1651.73,938.094 1661.26,960.247 1670.78,981.895 1680.3,1002.98 \n",
       "  1689.83,1023.46 1699.35,1043.31 1708.87,1062.5 1718.39,1081.04 1727.92,1098.92 1737.44,1116.15 1746.96,1132.75 1756.48,1148.72 1766.01,1164.09 1775.53,1178.86 \n",
       "  1785.05,1193.06 1794.58,1206.69 1804.1,1219.76 1813.62,1232.28 1823.14,1244.26 1832.67,1255.69 1842.19,1266.59 1851.71,1276.94 1861.23,1286.75 1870.76,1296.02 \n",
       "  1880.28,1304.74 1889.8,1312.93 1899.33,1320.58 1908.85,1327.69 1918.37,1334.29 1927.89,1340.37 1937.42,1345.95 1946.94,1351.06 1956.46,1355.7 1965.98,1359.89 \n",
       "  1975.51,1363.67 1985.03,1367.06 1994.55,1370.07 2004.08,1372.75 2013.6,1375.1 2023.12,1377.17 2032.64,1378.97 2042.17,1380.53 2051.69,1381.88 2061.21,1383.03 \n",
       "  2070.73,1384.02 2080.26,1384.86 2089.78,1385.57 2099.3,1386.16 2108.82,1386.66 2118.35,1387.07 2127.87,1387.41 2137.39,1387.69 2146.92,1387.92 2156.44,1388.1 \n",
       "  2165.96,1388.25 2175.48,1388.37 2185.01,1388.46 2194.53,1388.54 2204.05,1388.6 2213.57,1388.64 2223.1,1388.67 2232.62,1388.69 2242.14,1388.71 2251.67,1388.71 \n",
       "  \n",
       "  \"/>\n",
       "<polyline clip-path=\"url(#clip8502)\" style=\"stroke:#3da44d; stroke-width:4; stroke-opacity:1; fill:none\" points=\"\n",
       "  500.594,1388.64 509.36,1388.62 518.126,1388.58 526.891,1388.52 535.657,1388.45 544.422,1388.36 553.188,1388.23 561.954,1388.08 570.719,1387.88 579.485,1387.64 \n",
       "  588.25,1387.33 597.016,1386.96 605.781,1386.5 614.547,1385.93 623.313,1385.24 632.078,1384.41 640.844,1383.4 649.609,1382.19 658.375,1380.74 667.14,1379.02 \n",
       "  675.906,1376.98 684.672,1374.58 693.437,1371.76 702.203,1368.47 710.968,1364.64 719.734,1360.21 728.499,1355.11 737.265,1349.27 746.031,1342.6 754.796,1335.04 \n",
       "  763.562,1326.49 772.327,1316.88 781.093,1306.13 789.858,1294.15 798.624,1280.89 807.39,1266.26 816.155,1250.21 824.921,1232.7 833.686,1213.68 842.452,1193.12 \n",
       "  851.218,1171.02 859.983,1147.38 868.749,1122.23 877.514,1095.62 886.28,1067.61 895.045,1038.28 903.811,1007.74 912.577,976.135 921.342,943.601 930.108,910.31 \n",
       "  938.873,876.45 947.639,842.226 956.404,807.853 965.17,773.56 973.936,739.581 982.701,706.157 991.467,673.528 1000.23,641.929 1009,611.592 1017.76,582.736 \n",
       "  1026.53,555.565 1035.29,530.267 1044.06,507.01 1052.83,485.937 1061.59,467.166 1070.36,450.787 1079.12,436.864 1087.89,425.428 1096.65,416.481 1105.42,409.997 \n",
       "  1114.18,405.92 1122.95,404.166 1131.72,404.623 1140.48,407.159 1149.25,411.616 1158.01,417.818 1166.78,425.571 1175.54,434.668 1184.31,444.892 1193.07,456.015 \n",
       "  1201.84,467.807 1210.61,480.034 1219.37,492.465 1228.14,504.873 1236.9,517.035 1245.67,528.741 1254.43,539.791 1263.2,550 1271.97,559.2 1280.73,567.24 \n",
       "  1289.5,573.99 1298.26,579.343 1307.03,583.211 1315.79,585.534 1324.56,586.273 1333.32,585.416 1342.09,582.975 1350.86,578.987 1359.62,573.51 1368.39,566.63 \n",
       "  1377.15,558.45 1385.92,549.097 1394.68,538.715 1403.45,527.464 1412.21,515.519 1420.98,503.067 1429.75,490.304 1438.51,477.432 1447.28,464.658 1456.04,452.19 \n",
       "  1464.81,440.232 1473.57,428.985 1482.34,418.645 1491.1,409.395 1499.87,401.409 1508.64,394.846 1517.4,389.85 1526.17,386.548 1534.93,385.049 1543.7,385.443 \n",
       "  1552.46,387.802 1561.23,392.175 1569.99,398.594 1578.76,407.069 1587.53,417.593 1596.29,430.137 1605.06,444.659 1613.82,461.094 1622.59,479.368 1631.35,499.386 \n",
       "  1640.12,521.046 1648.88,544.229 1657.65,568.81 1666.42,594.653 1675.18,621.614 1683.95,649.547 1692.71,678.299 1701.48,707.715 1710.24,737.638 1719.01,767.914 \n",
       "  1727.78,798.389 1736.54,828.911 1745.31,859.336 1754.07,889.521 1762.84,919.334 1771.6,948.649 1780.37,977.347 1789.13,1005.32 1797.9,1032.48 1806.67,1058.72 \n",
       "  1815.43,1083.98 1824.2,1108.2 1832.96,1131.31 1841.73,1153.28 1850.49,1174.08 1859.26,1193.69 1868.02,1212.11 1876.79,1229.32 1885.56,1245.35 1894.32,1260.22 \n",
       "  1903.09,1273.95 1911.85,1286.57 1920.62,1298.13 1929.38,1308.67 1938.15,1318.24 1946.91,1326.9 1955.68,1334.69 1964.45,1341.68 1973.21,1347.92 1981.98,1353.47 \n",
       "  1990.74,1358.38 1999.51,1362.71 2008.27,1366.5 2017.04,1369.82 2025.8,1372.71 2034.57,1375.21 2043.34,1377.37 2052.1,1379.23 2060.87,1380.81 2069.63,1382.16 \n",
       "  2078.4,1383.31 2087.16,1384.27 2095.93,1385.08 2104.69,1385.76 2113.46,1386.33 2122.23,1386.8 2130.99,1387.18 2139.76,1387.5 2148.52,1387.76 2157.29,1387.97 \n",
       "  2166.05,1388.14 2174.82,1388.28 2183.59,1388.39 2192.35,1388.47 2201.12,1388.54 2209.88,1388.59 2218.65,1388.62 2227.41,1388.64 2236.18,1388.65 2244.94,1388.65 \n",
       "  \n",
       "  \"/>\n",
       "<polyline clip-path=\"url(#clip8502)\" style=\"stroke:#c271d2; stroke-width:4; stroke-opacity:1; fill:none\" points=\"\n",
       "  367.199,1388.68 376.822,1388.67 386.446,1388.64 396.069,1388.59 405.693,1388.53 415.316,1388.46 424.94,1388.35 434.564,1388.22 444.187,1388.05 453.811,1387.84 \n",
       "  463.434,1387.58 473.058,1387.25 482.681,1386.83 492.305,1386.33 501.928,1385.71 511.552,1384.95 521.175,1384.04 530.799,1382.93 540.422,1381.6 550.046,1380.01 \n",
       "  559.669,1378.13 569.293,1375.91 578.916,1373.3 588.54,1370.25 598.164,1366.7 607.787,1362.6 617.411,1357.89 627.034,1352.51 636.658,1346.38 646.281,1339.45 \n",
       "  655.905,1331.65 665.528,1322.93 675.152,1313.23 684.775,1302.49 694.399,1290.68 704.022,1277.75 713.646,1263.68 723.269,1248.46 732.893,1232.09 742.516,1214.58 \n",
       "  752.14,1195.96 761.764,1176.27 771.387,1155.58 781.011,1133.97 790.634,1111.52 800.258,1088.36 809.881,1064.6 819.505,1040.39 829.128,1015.86 838.752,991.191 \n",
       "  848.375,966.532 857.999,942.053 867.622,917.919 877.246,894.293 886.869,871.329 896.493,849.172 906.116,827.954 915.74,807.787 925.364,788.766 934.987,770.966 \n",
       "  944.611,754.436 954.234,739.201 963.858,725.262 973.481,712.595 983.105,701.15 992.728,690.858 1002.35,681.624 1011.98,673.34 1021.6,665.878 1031.22,659.102 \n",
       "  1040.85,652.867 1050.47,647.023 1060.09,641.423 1069.72,635.922 1079.34,630.387 1088.96,624.695 1098.59,618.74 1108.21,612.435 1117.83,605.716 1127.46,598.541 \n",
       "  1137.08,590.893 1146.7,582.781 1156.33,574.238 1165.95,565.322 1175.58,556.111 1185.2,546.704 1194.82,537.217 1204.45,527.779 1214.07,518.528 1223.69,509.608 \n",
       "  1233.32,501.164 1242.94,493.337 1252.56,486.26 1262.19,480.057 1271.81,474.834 1281.43,470.681 1291.06,467.664 1300.68,465.829 1310.3,465.196 1319.93,465.759 \n",
       "  1329.55,467.49 1339.18,470.332 1348.8,474.209 1358.42,479.024 1368.05,484.66 1377.67,490.988 1387.29,497.868 1396.92,505.151 1406.54,512.691 1416.16,520.338 \n",
       "  1425.79,527.955 1435.41,535.41 1445.03,542.591 1454.66,549.401 1464.28,555.765 1473.9,561.633 1483.53,566.98 1493.15,571.806 1502.78,576.139 1512.4,580.032 \n",
       "  1522.02,583.565 1531.65,586.838 1541.27,589.972 1550.89,593.105 1560.52,596.387 1570.14,599.977 1579.76,604.041 1589.39,608.741 1599.01,614.238 1608.63,620.681 \n",
       "  1618.26,628.211 1627.88,636.949 1637.5,646.997 1647.13,658.438 1656.75,671.328 1666.38,685.698 1676,701.554 1685.62,718.877 1695.25,737.62 1704.87,757.714 \n",
       "  1714.49,779.065 1724.12,801.561 1733.74,825.071 1743.36,849.449 1752.99,874.537 1762.61,900.17 1772.23,926.176 1781.86,952.382 1791.48,978.615 1801.1,1004.71 \n",
       "  1810.73,1030.5 1820.35,1055.83 1829.98,1080.57 1839.6,1104.58 1849.22,1127.76 1858.85,1150.01 1868.47,1171.23 1878.09,1191.38 1887.72,1210.39 1897.34,1228.23 \n",
       "  1906.96,1244.9 1916.59,1260.37 1926.21,1274.66 1935.83,1287.8 1945.46,1299.81 1955.08,1310.72 1964.7,1320.6 1974.33,1329.48 1983.95,1337.44 1993.58,1344.53 \n",
       "  2003.2,1350.8 2012.82,1356.34 2022.45,1361.19 2032.07,1365.42 2041.69,1369.1 2051.32,1372.27 2060.94,1375 2070.56,1377.33 2080.19,1379.31 2089.81,1380.99 \n",
       "  2099.43,1382.4 2109.06,1383.58 2118.68,1384.56 2128.3,1385.38 2137.93,1386.05 2147.55,1386.6 2157.18,1387.05 2166.8,1387.41 2176.42,1387.71 2186.05,1387.94 \n",
       "  2195.67,1388.13 2205.29,1388.28 2214.92,1388.4 2224.54,1388.49 2234.16,1388.56 2243.79,1388.61 2253.41,1388.65 2263.03,1388.67 2272.66,1388.69 2282.28,1388.69 \n",
       "  \n",
       "  \"/>\n",
       "<polyline clip-path=\"url(#clip8502)\" style=\"stroke:#ac8d18; stroke-width:4; stroke-opacity:1; fill:none\" points=\"\n",
       "  328.245,1388.7 338.122,1388.69 347.999,1388.66 357.876,1388.63 367.754,1388.58 377.631,1388.52 387.508,1388.43 397.385,1388.32 407.262,1388.18 417.139,1388.01 \n",
       "  427.016,1387.78 436.893,1387.5 446.77,1387.15 456.648,1386.72 466.525,1386.18 476.402,1385.53 486.279,1384.72 496.156,1383.74 506.033,1382.55 515.91,1381.12 \n",
       "  525.787,1379.4 535.664,1377.35 545.541,1374.9 555.419,1372.01 565.296,1368.61 575.173,1364.62 585.05,1359.96 594.927,1354.55 604.804,1348.3 614.681,1341.11 \n",
       "  624.558,1332.88 634.435,1323.5 644.313,1312.87 654.19,1300.87 664.067,1287.4 673.944,1272.35 683.821,1255.61 693.698,1237.09 703.575,1216.7 713.452,1194.37 \n",
       "  723.329,1170.03 733.207,1143.65 743.084,1115.19 752.961,1084.67 762.838,1052.1 772.715,1017.54 782.592,981.067 792.469,942.797 802.346,902.874 812.223,861.474 \n",
       "  822.1,818.804 831.978,775.102 841.855,730.634 851.732,685.692 861.609,640.59 871.486,595.66 881.363,551.248 891.24,507.709 901.117,465.4 910.994,424.675 \n",
       "  920.872,385.877 930.749,349.336 940.626,315.359 950.503,284.225 960.38,256.183 970.257,231.44 980.134,210.168 990.011,192.489 999.888,178.483 1009.77,168.181 \n",
       "  1019.64,161.567 1029.52,158.579 1039.4,159.111 1049.27,163.015 1059.15,170.106 1069.03,180.166 1078.91,192.949 1088.78,208.186 1098.66,225.592 1108.54,244.871 \n",
       "  1118.41,265.72 1128.29,287.838 1138.17,310.928 1148.05,334.706 1157.92,358.899 1167.8,383.254 1177.68,407.54 1187.55,431.547 1197.43,455.091 1207.31,478.016 \n",
       "  1217.18,500.191 1227.06,521.512 1236.94,541.901 1246.82,561.304 1256.69,579.691 1266.57,597.055 1276.45,613.406 1286.32,628.774 1296.2,643.202 1306.08,656.747 \n",
       "  1315.96,669.475 1325.83,681.463 1335.71,692.789 1345.59,703.538 1355.46,713.793 1365.34,723.639 1375.22,733.157 1385.1,742.422 1394.97,751.505 1404.85,760.471 \n",
       "  1414.73,769.375 1424.6,778.266 1434.48,787.183 1444.36,796.157 1454.24,805.21 1464.11,814.357 1473.99,823.606 1483.87,832.958 1493.74,842.41 1503.62,851.954 \n",
       "  1513.5,861.579 1523.38,871.275 1533.25,881.028 1543.13,890.828 1553.01,900.664 1562.88,910.531 1572.76,920.424 1582.64,930.344 1592.51,940.294 1602.39,950.281 \n",
       "  1612.27,960.319 1622.15,970.421 1632.02,980.605 1641.9,990.889 1651.78,1001.29 1661.65,1011.84 1671.53,1022.54 1681.41,1033.42 1691.29,1044.49 1701.16,1055.76 \n",
       "  1711.04,1067.23 1720.92,1078.91 1730.79,1090.77 1740.67,1102.82 1750.55,1115.03 1760.43,1127.38 1770.3,1139.83 1780.18,1152.34 1790.06,1164.88 1799.93,1177.4 \n",
       "  1809.81,1189.85 1819.69,1202.17 1829.57,1214.33 1839.44,1226.26 1849.32,1237.91 1859.2,1249.24 1869.07,1260.2 1878.95,1270.76 1888.83,1280.87 1898.71,1290.51 \n",
       "  1908.58,1299.64 1918.46,1308.26 1928.34,1316.35 1938.21,1323.9 1948.09,1330.91 1957.97,1337.39 1967.85,1343.34 1977.72,1348.77 1987.6,1353.72 1997.48,1358.18 \n",
       "  2007.35,1362.2 2017.23,1365.8 2027.11,1369 2036.98,1371.84 2046.86,1374.33 2056.74,1376.52 2066.62,1378.42 2076.49,1380.07 2086.37,1381.49 2096.25,1382.71 \n",
       "  2106.12,1383.75 2116,1384.64 2125.88,1385.38 2135.76,1386.01 2145.63,1386.53 2155.51,1386.96 2165.39,1387.32 2175.26,1387.62 2185.14,1387.86 2195.02,1388.05 \n",
       "  2204.9,1388.21 2214.77,1388.34 2224.65,1388.44 2234.53,1388.52 2244.4,1388.58 2254.28,1388.63 2264.16,1388.66 2274.04,1388.68 2283.91,1388.7 2293.79,1388.7 \n",
       "  \n",
       "  \"/>\n",
       "<polyline clip-path=\"url(#clip8502)\" style=\"stroke:#00a9ad; stroke-width:4; stroke-opacity:1; fill:none\" points=\"\n",
       "  387.856,1388.68 396.927,1388.66 405.998,1388.62 415.069,1388.57 424.141,1388.51 433.212,1388.42 442.283,1388.31 451.354,1388.16 460.425,1387.98 469.496,1387.74 \n",
       "  478.567,1387.45 487.638,1387.08 496.71,1386.63 505.781,1386.07 514.852,1385.38 523.923,1384.53 532.994,1383.51 542.065,1382.27 551.136,1380.78 560.207,1378.99 \n",
       "  569.279,1376.87 578.35,1374.35 587.421,1371.38 596.492,1367.91 605.563,1363.86 614.634,1359.16 623.705,1353.74 632.776,1347.52 641.848,1340.42 650.919,1332.36 \n",
       "  659.99,1323.26 669.061,1313.04 678.132,1301.63 687.203,1288.95 696.274,1274.94 705.346,1259.55 714.417,1242.73 723.488,1224.45 732.559,1204.7 741.63,1183.47 \n",
       "  750.701,1160.78 759.772,1136.66 768.843,1111.18 777.915,1084.4 786.986,1056.41 796.057,1027.33 805.128,997.285 814.199,966.416 823.27,934.881 832.341,902.846 \n",
       "  841.412,870.488 850.484,837.985 859.555,805.519 868.626,773.27 877.697,741.413 886.768,710.113 895.839,679.529 904.91,649.804 913.981,621.068 923.053,593.434 \n",
       "  932.124,567.002 941.195,541.853 950.266,518.055 959.337,495.661 968.408,474.713 977.479,455.24 986.551,437.267 995.622,420.811 1004.69,405.888 1013.76,392.51 \n",
       "  1022.84,380.694 1031.91,370.457 1040.98,361.822 1050.05,354.813 1059.12,349.46 1068.19,345.794 1077.26,343.849 1086.33,343.655 1095.4,345.239 1104.48,348.623 \n",
       "  1113.55,353.815 1122.62,360.811 1131.69,369.59 1140.76,380.109 1149.83,392.304 1158.9,406.086 1167.97,421.339 1177.04,437.919 1186.12,455.659 1195.19,474.363 \n",
       "  1204.26,493.815 1213.33,513.778 1222.4,533.997 1231.47,554.209 1240.54,574.142 1249.61,593.523 1258.68,612.085 1267.76,629.568 1276.83,645.733 1285.9,660.359 \n",
       "  1294.97,673.252 1304.04,684.25 1313.11,693.224 1322.18,700.084 1331.25,704.778 1340.32,707.295 1349.4,707.666 1358.47,705.96 1367.54,702.287 1376.61,696.79 \n",
       "  1385.68,689.648 1394.75,681.067 1403.82,671.278 1412.89,660.534 1421.96,649.101 1431.04,637.257 1440.11,625.284 1449.18,613.464 1458.25,602.074 1467.32,591.384 \n",
       "  1476.39,581.648 1485.46,573.104 1494.53,565.969 1503.6,560.439 1512.68,556.682 1521.75,554.842 1530.82,555.033 1539.89,557.34 1548.96,561.822 1558.03,568.507 \n",
       "  1567.1,577.398 1576.17,588.468 1585.25,601.667 1594.32,616.921 1603.39,634.134 1612.46,653.19 1621.53,673.957 1630.6,696.285 1639.67,720.014 1648.74,744.972 \n",
       "  1657.81,770.98 1666.89,797.852 1675.96,825.402 1685.03,853.441 1694.1,881.782 1703.17,910.243 1712.24,938.648 1721.31,966.826 1730.38,994.62 1739.45,1021.88 \n",
       "  1748.53,1048.48 1757.6,1074.28 1766.67,1099.18 1775.74,1123.1 1784.81,1145.94 1793.88,1167.66 1802.95,1188.2 1812.02,1207.53 1821.09,1225.62 1830.17,1242.49 \n",
       "  1839.24,1258.13 1848.31,1272.56 1857.38,1285.81 1866.45,1297.92 1875.52,1308.93 1884.59,1318.9 1893.66,1327.88 1902.73,1335.92 1911.81,1343.09 1920.88,1349.46 \n",
       "  1929.95,1355.09 1939.02,1360.03 1948.09,1364.36 1957.16,1368.12 1966.23,1371.38 1975.3,1374.19 1984.37,1376.6 1993.45,1378.66 2002.52,1380.41 2011.59,1381.89 \n",
       "  2020.66,1383.13 2029.73,1384.17 2038.8,1385.04 2047.87,1385.76 2056.94,1386.35 2066.01,1386.84 2075.09,1387.24 2084.16,1387.56 2093.23,1387.82 2102.3,1388.03 \n",
       "  2111.37,1388.2 2120.44,1388.33 2129.51,1388.44 2138.58,1388.52 2147.66,1388.58 2156.73,1388.62 2165.8,1388.66 2174.87,1388.68 2183.94,1388.69 2193.01,1388.69 \n",
       "  \n",
       "  \"/>\n",
       "<path clip-path=\"url(#clip8500)\" d=\"\n",
       "M1794.65 628.555 L2280.76 628.555 L2280.76 205.195 L1794.65 205.195  Z\n",
       "  \" fill=\"#ffffff\" fill-rule=\"evenodd\" fill-opacity=\"1\"/>\n",
       "<polyline clip-path=\"url(#clip8500)\" style=\"stroke:#000000; stroke-width:4; stroke-opacity:1; fill:none\" points=\"\n",
       "  1794.65,628.555 2280.76,628.555 2280.76,205.195 1794.65,205.195 1794.65,628.555 \n",
       "  \"/>\n",
       "<polyline clip-path=\"url(#clip8500)\" style=\"stroke:#009af9; stroke-width:4; stroke-opacity:1; fill:none\" points=\"\n",
       "  1818.65,265.675 1962.65,265.675 \n",
       "  \"/>\n",
       "<g clip-path=\"url(#clip8500)\">\n",
       "<text style=\"fill:#000000; fill-opacity:1; font-family:Arial,Helvetica Neue,Helvetica,sans-serif; font-size:48px; text-anchor:start;\" transform=\"rotate(0, 1986.65, 283.175)\" x=\"1986.65\" y=\"283.175\">A Improved</text>\n",
       "</g>\n",
       "<polyline clip-path=\"url(#clip8500)\" style=\"stroke:#e26f46; stroke-width:4; stroke-opacity:1; fill:none\" points=\"\n",
       "  1818.65,326.155 1962.65,326.155 \n",
       "  \"/>\n",
       "<g clip-path=\"url(#clip8500)\">\n",
       "<text style=\"fill:#000000; fill-opacity:1; font-family:Arial,Helvetica Neue,Helvetica,sans-serif; font-size:48px; text-anchor:start;\" transform=\"rotate(0, 1986.65, 343.655)\" x=\"1986.65\" y=\"343.655\">A Static</text>\n",
       "</g>\n",
       "<polyline clip-path=\"url(#clip8500)\" style=\"stroke:#3da44d; stroke-width:4; stroke-opacity:1; fill:none\" points=\"\n",
       "  1818.65,386.635 1962.65,386.635 \n",
       "  \"/>\n",
       "<g clip-path=\"url(#clip8500)\">\n",
       "<text style=\"fill:#000000; fill-opacity:1; font-family:Arial,Helvetica Neue,Helvetica,sans-serif; font-size:48px; text-anchor:start;\" transform=\"rotate(0, 1986.65, 404.135)\" x=\"1986.65\" y=\"404.135\">A Worse</text>\n",
       "</g>\n",
       "<polyline clip-path=\"url(#clip8500)\" style=\"stroke:#c271d2; stroke-width:4; stroke-opacity:1; fill:none\" points=\"\n",
       "  1818.65,447.115 1962.65,447.115 \n",
       "  \"/>\n",
       "<g clip-path=\"url(#clip8500)\">\n",
       "<text style=\"fill:#000000; fill-opacity:1; font-family:Arial,Helvetica Neue,Helvetica,sans-serif; font-size:48px; text-anchor:start;\" transform=\"rotate(0, 1986.65, 464.615)\" x=\"1986.65\" y=\"464.615\">B Improved</text>\n",
       "</g>\n",
       "<polyline clip-path=\"url(#clip8500)\" style=\"stroke:#ac8d18; stroke-width:4; stroke-opacity:1; fill:none\" points=\"\n",
       "  1818.65,507.595 1962.65,507.595 \n",
       "  \"/>\n",
       "<g clip-path=\"url(#clip8500)\">\n",
       "<text style=\"fill:#000000; fill-opacity:1; font-family:Arial,Helvetica Neue,Helvetica,sans-serif; font-size:48px; text-anchor:start;\" transform=\"rotate(0, 1986.65, 525.095)\" x=\"1986.65\" y=\"525.095\">B Static</text>\n",
       "</g>\n",
       "<polyline clip-path=\"url(#clip8500)\" style=\"stroke:#00a9ad; stroke-width:4; stroke-opacity:1; fill:none\" points=\"\n",
       "  1818.65,568.075 1962.65,568.075 \n",
       "  \"/>\n",
       "<g clip-path=\"url(#clip8500)\">\n",
       "<text style=\"fill:#000000; fill-opacity:1; font-family:Arial,Helvetica Neue,Helvetica,sans-serif; font-size:48px; text-anchor:start;\" transform=\"rotate(0, 1986.65, 585.575)\" x=\"1986.65\" y=\"585.575\">B Worse</text>\n",
       "</g>\n",
       "</svg>\n"
      ]
     },
     "execution_count": 26,
     "metadata": {},
     "output_type": "execute_result"
    }
   ],
   "source": [
    "@df data density(:Age, group= (:Treatment,:Result), title=\"Distribution of the ages by treatment group\",\n",
    "    xlab=\"Age\", ylab=\"Distribution\",\n",
    "    legend= :topright)"
   ]
  },
  {
   "cell_type": "markdown",
   "metadata": {},
   "source": [
    "Lets create the box plot of the white cell count per treatment group and then per result group"
   ]
  },
  {
   "cell_type": "code",
   "execution_count": 27,
   "metadata": {},
   "outputs": [
    {
     "data": {
      "image/svg+xml": [
       "<?xml version=\"1.0\" encoding=\"utf-8\"?>\n",
       "<svg xmlns=\"http://www.w3.org/2000/svg\" xmlns:xlink=\"http://www.w3.org/1999/xlink\" width=\"600\" height=\"400\" viewBox=\"0 0 2400 1600\">\n",
       "<defs>\n",
       "  <clipPath id=\"clip8900\">\n",
       "    <rect x=\"0\" y=\"0\" width=\"2400\" height=\"1600\"/>\n",
       "  </clipPath>\n",
       "</defs>\n",
       "<path clip-path=\"url(#clip8900)\" d=\"\n",
       "M0 1600 L2400 1600 L2400 0 L0 0  Z\n",
       "  \" fill=\"#ffffff\" fill-rule=\"evenodd\" fill-opacity=\"1\"/>\n",
       "<defs>\n",
       "  <clipPath id=\"clip8901\">\n",
       "    <rect x=\"480\" y=\"0\" width=\"1681\" height=\"1600\"/>\n",
       "  </clipPath>\n",
       "</defs>\n",
       "<path clip-path=\"url(#clip8900)\" d=\"\n",
       "M202.373 1425.62 L2352.76 1425.62 L2352.76 121.675 L202.373 121.675  Z\n",
       "  \" fill=\"#ffffff\" fill-rule=\"evenodd\" fill-opacity=\"1\"/>\n",
       "<defs>\n",
       "  <clipPath id=\"clip8902\">\n",
       "    <rect x=\"202\" y=\"121\" width=\"2151\" height=\"1305\"/>\n",
       "  </clipPath>\n",
       "</defs>\n",
       "<polyline clip-path=\"url(#clip8902)\" style=\"stroke:#000000; stroke-width:2; stroke-opacity:0.1; fill:none\" points=\"\n",
       "  714.047,1425.62 714.047,121.675 \n",
       "  \"/>\n",
       "<polyline clip-path=\"url(#clip8902)\" style=\"stroke:#000000; stroke-width:2; stroke-opacity:0.1; fill:none\" points=\"\n",
       "  1841.08,1425.62 1841.08,121.675 \n",
       "  \"/>\n",
       "<polyline clip-path=\"url(#clip8902)\" style=\"stroke:#000000; stroke-width:2; stroke-opacity:0.1; fill:none\" points=\"\n",
       "  202.373,1231.93 2352.76,1231.93 \n",
       "  \"/>\n",
       "<polyline clip-path=\"url(#clip8902)\" style=\"stroke:#000000; stroke-width:2; stroke-opacity:0.1; fill:none\" points=\"\n",
       "  202.373,990.73 2352.76,990.73 \n",
       "  \"/>\n",
       "<polyline clip-path=\"url(#clip8902)\" style=\"stroke:#000000; stroke-width:2; stroke-opacity:0.1; fill:none\" points=\"\n",
       "  202.373,749.527 2352.76,749.527 \n",
       "  \"/>\n",
       "<polyline clip-path=\"url(#clip8902)\" style=\"stroke:#000000; stroke-width:2; stroke-opacity:0.1; fill:none\" points=\"\n",
       "  202.373,508.324 2352.76,508.324 \n",
       "  \"/>\n",
       "<polyline clip-path=\"url(#clip8902)\" style=\"stroke:#000000; stroke-width:2; stroke-opacity:0.1; fill:none\" points=\"\n",
       "  202.373,267.121 2352.76,267.121 \n",
       "  \"/>\n",
       "<polyline clip-path=\"url(#clip8900)\" style=\"stroke:#000000; stroke-width:4; stroke-opacity:1; fill:none\" points=\"\n",
       "  202.373,1425.62 2352.76,1425.62 \n",
       "  \"/>\n",
       "<polyline clip-path=\"url(#clip8900)\" style=\"stroke:#000000; stroke-width:4; stroke-opacity:1; fill:none\" points=\"\n",
       "  202.373,1425.62 202.373,121.675 \n",
       "  \"/>\n",
       "<polyline clip-path=\"url(#clip8900)\" style=\"stroke:#000000; stroke-width:4; stroke-opacity:1; fill:none\" points=\"\n",
       "  714.047,1425.62 714.047,1409.97 \n",
       "  \"/>\n",
       "<polyline clip-path=\"url(#clip8900)\" style=\"stroke:#000000; stroke-width:4; stroke-opacity:1; fill:none\" points=\"\n",
       "  1841.08,1425.62 1841.08,1409.97 \n",
       "  \"/>\n",
       "<polyline clip-path=\"url(#clip8900)\" style=\"stroke:#000000; stroke-width:4; stroke-opacity:1; fill:none\" points=\"\n",
       "  202.373,1231.93 228.178,1231.93 \n",
       "  \"/>\n",
       "<polyline clip-path=\"url(#clip8900)\" style=\"stroke:#000000; stroke-width:4; stroke-opacity:1; fill:none\" points=\"\n",
       "  202.373,990.73 228.178,990.73 \n",
       "  \"/>\n",
       "<polyline clip-path=\"url(#clip8900)\" style=\"stroke:#000000; stroke-width:4; stroke-opacity:1; fill:none\" points=\"\n",
       "  202.373,749.527 228.178,749.527 \n",
       "  \"/>\n",
       "<polyline clip-path=\"url(#clip8900)\" style=\"stroke:#000000; stroke-width:4; stroke-opacity:1; fill:none\" points=\"\n",
       "  202.373,508.324 228.178,508.324 \n",
       "  \"/>\n",
       "<polyline clip-path=\"url(#clip8900)\" style=\"stroke:#000000; stroke-width:4; stroke-opacity:1; fill:none\" points=\"\n",
       "  202.373,267.121 228.178,267.121 \n",
       "  \"/>\n",
       "<g clip-path=\"url(#clip8900)\">\n",
       "<text style=\"fill:#000000; fill-opacity:1; font-family:Arial,Helvetica Neue,Helvetica,sans-serif; font-size:48px; text-anchor:middle;\" transform=\"rotate(0, 714.047, 1479.62)\" x=\"714.047\" y=\"1479.62\">A</text>\n",
       "</g>\n",
       "<g clip-path=\"url(#clip8900)\">\n",
       "<text style=\"fill:#000000; fill-opacity:1; font-family:Arial,Helvetica Neue,Helvetica,sans-serif; font-size:48px; text-anchor:middle;\" transform=\"rotate(0, 1841.08, 1479.62)\" x=\"1841.08\" y=\"1479.62\">B</text>\n",
       "</g>\n",
       "<g clip-path=\"url(#clip8900)\">\n",
       "<text style=\"fill:#000000; fill-opacity:1; font-family:Arial,Helvetica Neue,Helvetica,sans-serif; font-size:48px; text-anchor:end;\" transform=\"rotate(0, 178.373, 1249.43)\" x=\"178.373\" y=\"1249.43\">8</text>\n",
       "</g>\n",
       "<g clip-path=\"url(#clip8900)\">\n",
       "<text style=\"fill:#000000; fill-opacity:1; font-family:Arial,Helvetica Neue,Helvetica,sans-serif; font-size:48px; text-anchor:end;\" transform=\"rotate(0, 178.373, 1008.23)\" x=\"178.373\" y=\"1008.23\">10</text>\n",
       "</g>\n",
       "<g clip-path=\"url(#clip8900)\">\n",
       "<text style=\"fill:#000000; fill-opacity:1; font-family:Arial,Helvetica Neue,Helvetica,sans-serif; font-size:48px; text-anchor:end;\" transform=\"rotate(0, 178.373, 767.027)\" x=\"178.373\" y=\"767.027\">12</text>\n",
       "</g>\n",
       "<g clip-path=\"url(#clip8900)\">\n",
       "<text style=\"fill:#000000; fill-opacity:1; font-family:Arial,Helvetica Neue,Helvetica,sans-serif; font-size:48px; text-anchor:end;\" transform=\"rotate(0, 178.373, 525.824)\" x=\"178.373\" y=\"525.824\">14</text>\n",
       "</g>\n",
       "<g clip-path=\"url(#clip8900)\">\n",
       "<text style=\"fill:#000000; fill-opacity:1; font-family:Arial,Helvetica Neue,Helvetica,sans-serif; font-size:48px; text-anchor:end;\" transform=\"rotate(0, 178.373, 284.621)\" x=\"178.373\" y=\"284.621\">16</text>\n",
       "</g>\n",
       "<g clip-path=\"url(#clip8900)\">\n",
       "<text style=\"fill:#000000; fill-opacity:1; font-family:Arial,Helvetica Neue,Helvetica,sans-serif; font-size:84px; text-anchor:middle;\" transform=\"rotate(0, 1277.56, 73.2)\" x=\"1277.56\" y=\"73.2\">White cell count by treatment group</text>\n",
       "</g>\n",
       "<g clip-path=\"url(#clip8900)\">\n",
       "<text style=\"fill:#000000; fill-opacity:1; font-family:Arial,Helvetica Neue,Helvetica,sans-serif; font-size:66px; text-anchor:middle;\" transform=\"rotate(0, 1277.56, 1559.48)\" x=\"1277.56\" y=\"1559.48\">Group</text>\n",
       "</g>\n",
       "<g clip-path=\"url(#clip8900)\">\n",
       "<text style=\"fill:#000000; fill-opacity:1; font-family:Arial,Helvetica Neue,Helvetica,sans-serif; font-size:66px; text-anchor:middle;\" transform=\"rotate(-90, 89.2861, 773.647)\" x=\"89.2861\" y=\"773.647\">WCC</text>\n",
       "</g>\n",
       "<path clip-path=\"url(#clip8902)\" d=\"\n",
       "M714.047 1388.71 L263.233 1388.71 L1164.86 1388.71 L714.047 1388.71 L714.047 918.369 L714.047 1388.71  Z\n",
       "  \" fill=\"#009af9\" fill-rule=\"evenodd\" fill-opacity=\"1\"/>\n",
       "<polyline clip-path=\"url(#clip8902)\" style=\"stroke:#000000; stroke-width:4; stroke-opacity:1; fill:none\" points=\"\n",
       "  714.047,1388.71 263.233,1388.71 1164.86,1388.71 714.047,1388.71 714.047,918.369 714.047,1388.71 \n",
       "  \"/>\n",
       "<path clip-path=\"url(#clip8902)\" d=\"\n",
       "M263.233 918.369 L263.233 797.767 L1164.86 797.767 L1164.86 918.369 L263.233 918.369 L263.233 918.369  Z\n",
       "  \" fill=\"#009af9\" fill-rule=\"evenodd\" fill-opacity=\"1\"/>\n",
       "<polyline clip-path=\"url(#clip8902)\" style=\"stroke:#000000; stroke-width:4; stroke-opacity:1; fill:none\" points=\"\n",
       "  263.233,918.369 263.233,797.767 1164.86,797.767 1164.86,918.369 263.233,918.369 \n",
       "  \"/>\n",
       "<path clip-path=\"url(#clip8902)\" d=\"\n",
       "M263.233 580.684 L263.233 797.767 L1164.86 797.767 L1164.86 580.684 L263.233 580.684 L263.233 580.684  Z\n",
       "  \" fill=\"#009af9\" fill-rule=\"evenodd\" fill-opacity=\"1\"/>\n",
       "<polyline clip-path=\"url(#clip8902)\" style=\"stroke:#000000; stroke-width:4; stroke-opacity:1; fill:none\" points=\"\n",
       "  263.233,580.684 263.233,797.767 1164.86,797.767 1164.86,580.684 263.233,580.684 \n",
       "  \"/>\n",
       "<path clip-path=\"url(#clip8902)\" d=\"\n",
       "M714.047 206.82 L263.233 206.82 L1164.86 206.82 L714.047 206.82 L714.047 580.684 L714.047 206.82  Z\n",
       "  \" fill=\"#009af9\" fill-rule=\"evenodd\" fill-opacity=\"1\"/>\n",
       "<polyline clip-path=\"url(#clip8902)\" style=\"stroke:#000000; stroke-width:4; stroke-opacity:1; fill:none\" points=\"\n",
       "  714.047,206.82 263.233,206.82 1164.86,206.82 714.047,206.82 714.047,580.684 714.047,206.82 \n",
       "  \"/>\n",
       "<path clip-path=\"url(#clip8902)\" d=\"\n",
       "M1841.08 1171.63 L1390.27 1171.63 L2291.9 1171.63 L1841.08 1171.63 L1841.08 942.489 L1841.08 1171.63  Z\n",
       "  \" fill=\"#009af9\" fill-rule=\"evenodd\" fill-opacity=\"1\"/>\n",
       "<polyline clip-path=\"url(#clip8902)\" style=\"stroke:#000000; stroke-width:4; stroke-opacity:1; fill:none\" points=\"\n",
       "  1841.08,1171.63 1390.27,1171.63 2291.9,1171.63 1841.08,1171.63 1841.08,942.489 1841.08,1171.63 \n",
       "  \"/>\n",
       "<path clip-path=\"url(#clip8902)\" d=\"\n",
       "M1390.27 942.489 L1390.27 773.647 L2291.9 773.647 L2291.9 942.489 L1390.27 942.489 L1390.27 942.489  Z\n",
       "  \" fill=\"#009af9\" fill-rule=\"evenodd\" fill-opacity=\"1\"/>\n",
       "<polyline clip-path=\"url(#clip8902)\" style=\"stroke:#000000; stroke-width:4; stroke-opacity:1; fill:none\" points=\"\n",
       "  1390.27,942.489 1390.27,773.647 2291.9,773.647 2291.9,942.489 1390.27,942.489 \n",
       "  \"/>\n",
       "<path clip-path=\"url(#clip8902)\" d=\"\n",
       "M1390.27 568.624 L1390.27 773.647 L2291.9 773.647 L2291.9 568.624 L1390.27 568.624 L1390.27 568.624  Z\n",
       "  \" fill=\"#009af9\" fill-rule=\"evenodd\" fill-opacity=\"1\"/>\n",
       "<polyline clip-path=\"url(#clip8902)\" style=\"stroke:#000000; stroke-width:4; stroke-opacity:1; fill:none\" points=\"\n",
       "  1390.27,568.624 1390.27,773.647 2291.9,773.647 2291.9,568.624 1390.27,568.624 \n",
       "  \"/>\n",
       "<path clip-path=\"url(#clip8902)\" d=\"\n",
       "M1841.08 158.579 L1390.27 158.579 L2291.9 158.579 L1841.08 158.579 L1841.08 568.624 L1841.08 158.579  Z\n",
       "  \" fill=\"#009af9\" fill-rule=\"evenodd\" fill-opacity=\"1\"/>\n",
       "<polyline clip-path=\"url(#clip8902)\" style=\"stroke:#000000; stroke-width:4; stroke-opacity:1; fill:none\" points=\"\n",
       "  1841.08,158.579 1390.27,158.579 2291.9,158.579 1841.08,158.579 1841.08,568.624 1841.08,158.579 \n",
       "  \"/>\n",
       "<path clip-path=\"url(#clip8900)\" d=\"\n",
       "M1925.81 326.155 L2280.76 326.155 L2280.76 205.195 L1925.81 205.195  Z\n",
       "  \" fill=\"#ffffff\" fill-rule=\"evenodd\" fill-opacity=\"1\"/>\n",
       "<polyline clip-path=\"url(#clip8900)\" style=\"stroke:#000000; stroke-width:4; stroke-opacity:1; fill:none\" points=\"\n",
       "  1925.81,326.155 2280.76,326.155 2280.76,205.195 1925.81,205.195 1925.81,326.155 \n",
       "  \"/>\n",
       "<circle clip-path=\"url(#clip8900)\" cx=\"2033.81\" cy=\"265.675\" r=\"21\" fill=\"#009af9\" fill-rule=\"evenodd\" fill-opacity=\"1\" stroke=\"#000000\" stroke-opacity=\"1\" stroke-width=\"3.2\"/>\n",
       "<g clip-path=\"url(#clip8900)\">\n",
       "<text style=\"fill:#000000; fill-opacity:1; font-family:Arial,Helvetica Neue,Helvetica,sans-serif; font-size:48px; text-anchor:start;\" transform=\"rotate(0, 2117.81, 283.175)\" x=\"2117.81\" y=\"283.175\">WCC</text>\n",
       "</g>\n",
       "</svg>\n"
      ]
     },
     "execution_count": 27,
     "metadata": {},
     "output_type": "execute_result"
    }
   ],
   "source": [
    "@df data boxplot(:Treatment, :WCC, lab=\"WCC\", title=\"White cell count by treatment group\",\n",
    "    xlab=\"Group\", ylab=\"WCC\",)"
   ]
  },
  {
   "cell_type": "code",
   "execution_count": 28,
   "metadata": {},
   "outputs": [
    {
     "data": {
      "image/svg+xml": [
       "<?xml version=\"1.0\" encoding=\"utf-8\"?>\n",
       "<svg xmlns=\"http://www.w3.org/2000/svg\" xmlns:xlink=\"http://www.w3.org/1999/xlink\" width=\"600\" height=\"400\" viewBox=\"0 0 2400 1600\">\n",
       "<defs>\n",
       "  <clipPath id=\"clip9300\">\n",
       "    <rect x=\"0\" y=\"0\" width=\"2400\" height=\"1600\"/>\n",
       "  </clipPath>\n",
       "</defs>\n",
       "<path clip-path=\"url(#clip9300)\" d=\"\n",
       "M0 1600 L2400 1600 L2400 0 L0 0  Z\n",
       "  \" fill=\"#ffffff\" fill-rule=\"evenodd\" fill-opacity=\"1\"/>\n",
       "<defs>\n",
       "  <clipPath id=\"clip9301\">\n",
       "    <rect x=\"480\" y=\"0\" width=\"1681\" height=\"1600\"/>\n",
       "  </clipPath>\n",
       "</defs>\n",
       "<path clip-path=\"url(#clip9300)\" d=\"\n",
       "M202.373 1425.62 L2352.76 1425.62 L2352.76 121.675 L202.373 121.675  Z\n",
       "  \" fill=\"#ffffff\" fill-rule=\"evenodd\" fill-opacity=\"1\"/>\n",
       "<defs>\n",
       "  <clipPath id=\"clip9302\">\n",
       "    <rect x=\"202\" y=\"121\" width=\"2151\" height=\"1305\"/>\n",
       "  </clipPath>\n",
       "</defs>\n",
       "<polyline clip-path=\"url(#clip9302)\" style=\"stroke:#000000; stroke-width:2; stroke-opacity:0.1; fill:none\" points=\"\n",
       "  553.042,1425.62 553.042,121.675 \n",
       "  \"/>\n",
       "<polyline clip-path=\"url(#clip9302)\" style=\"stroke:#000000; stroke-width:2; stroke-opacity:0.1; fill:none\" points=\"\n",
       "  1277.56,1425.62 1277.56,121.675 \n",
       "  \"/>\n",
       "<polyline clip-path=\"url(#clip9302)\" style=\"stroke:#000000; stroke-width:2; stroke-opacity:0.1; fill:none\" points=\"\n",
       "  2002.09,1425.62 2002.09,121.675 \n",
       "  \"/>\n",
       "<polyline clip-path=\"url(#clip9302)\" style=\"stroke:#000000; stroke-width:2; stroke-opacity:0.1; fill:none\" points=\"\n",
       "  202.373,1231.93 2352.76,1231.93 \n",
       "  \"/>\n",
       "<polyline clip-path=\"url(#clip9302)\" style=\"stroke:#000000; stroke-width:2; stroke-opacity:0.1; fill:none\" points=\"\n",
       "  202.373,990.73 2352.76,990.73 \n",
       "  \"/>\n",
       "<polyline clip-path=\"url(#clip9302)\" style=\"stroke:#000000; stroke-width:2; stroke-opacity:0.1; fill:none\" points=\"\n",
       "  202.373,749.527 2352.76,749.527 \n",
       "  \"/>\n",
       "<polyline clip-path=\"url(#clip9302)\" style=\"stroke:#000000; stroke-width:2; stroke-opacity:0.1; fill:none\" points=\"\n",
       "  202.373,508.324 2352.76,508.324 \n",
       "  \"/>\n",
       "<polyline clip-path=\"url(#clip9302)\" style=\"stroke:#000000; stroke-width:2; stroke-opacity:0.1; fill:none\" points=\"\n",
       "  202.373,267.121 2352.76,267.121 \n",
       "  \"/>\n",
       "<polyline clip-path=\"url(#clip9300)\" style=\"stroke:#000000; stroke-width:4; stroke-opacity:1; fill:none\" points=\"\n",
       "  202.373,1425.62 2352.76,1425.62 \n",
       "  \"/>\n",
       "<polyline clip-path=\"url(#clip9300)\" style=\"stroke:#000000; stroke-width:4; stroke-opacity:1; fill:none\" points=\"\n",
       "  202.373,1425.62 202.373,121.675 \n",
       "  \"/>\n",
       "<polyline clip-path=\"url(#clip9300)\" style=\"stroke:#000000; stroke-width:4; stroke-opacity:1; fill:none\" points=\"\n",
       "  553.042,1425.62 553.042,1409.97 \n",
       "  \"/>\n",
       "<polyline clip-path=\"url(#clip9300)\" style=\"stroke:#000000; stroke-width:4; stroke-opacity:1; fill:none\" points=\"\n",
       "  1277.56,1425.62 1277.56,1409.97 \n",
       "  \"/>\n",
       "<polyline clip-path=\"url(#clip9300)\" style=\"stroke:#000000; stroke-width:4; stroke-opacity:1; fill:none\" points=\"\n",
       "  2002.09,1425.62 2002.09,1409.97 \n",
       "  \"/>\n",
       "<polyline clip-path=\"url(#clip9300)\" style=\"stroke:#000000; stroke-width:4; stroke-opacity:1; fill:none\" points=\"\n",
       "  202.373,1231.93 228.178,1231.93 \n",
       "  \"/>\n",
       "<polyline clip-path=\"url(#clip9300)\" style=\"stroke:#000000; stroke-width:4; stroke-opacity:1; fill:none\" points=\"\n",
       "  202.373,990.73 228.178,990.73 \n",
       "  \"/>\n",
       "<polyline clip-path=\"url(#clip9300)\" style=\"stroke:#000000; stroke-width:4; stroke-opacity:1; fill:none\" points=\"\n",
       "  202.373,749.527 228.178,749.527 \n",
       "  \"/>\n",
       "<polyline clip-path=\"url(#clip9300)\" style=\"stroke:#000000; stroke-width:4; stroke-opacity:1; fill:none\" points=\"\n",
       "  202.373,508.324 228.178,508.324 \n",
       "  \"/>\n",
       "<polyline clip-path=\"url(#clip9300)\" style=\"stroke:#000000; stroke-width:4; stroke-opacity:1; fill:none\" points=\"\n",
       "  202.373,267.121 228.178,267.121 \n",
       "  \"/>\n",
       "<g clip-path=\"url(#clip9300)\">\n",
       "<text style=\"fill:#000000; fill-opacity:1; font-family:Arial,Helvetica Neue,Helvetica,sans-serif; font-size:48px; text-anchor:middle;\" transform=\"rotate(0, 553.042, 1479.62)\" x=\"553.042\" y=\"1479.62\">Improved</text>\n",
       "</g>\n",
       "<g clip-path=\"url(#clip9300)\">\n",
       "<text style=\"fill:#000000; fill-opacity:1; font-family:Arial,Helvetica Neue,Helvetica,sans-serif; font-size:48px; text-anchor:middle;\" transform=\"rotate(0, 1277.56, 1479.62)\" x=\"1277.56\" y=\"1479.62\">Static</text>\n",
       "</g>\n",
       "<g clip-path=\"url(#clip9300)\">\n",
       "<text style=\"fill:#000000; fill-opacity:1; font-family:Arial,Helvetica Neue,Helvetica,sans-serif; font-size:48px; text-anchor:middle;\" transform=\"rotate(0, 2002.09, 1479.62)\" x=\"2002.09\" y=\"1479.62\">Worse</text>\n",
       "</g>\n",
       "<g clip-path=\"url(#clip9300)\">\n",
       "<text style=\"fill:#000000; fill-opacity:1; font-family:Arial,Helvetica Neue,Helvetica,sans-serif; font-size:48px; text-anchor:end;\" transform=\"rotate(0, 178.373, 1249.43)\" x=\"178.373\" y=\"1249.43\">8</text>\n",
       "</g>\n",
       "<g clip-path=\"url(#clip9300)\">\n",
       "<text style=\"fill:#000000; fill-opacity:1; font-family:Arial,Helvetica Neue,Helvetica,sans-serif; font-size:48px; text-anchor:end;\" transform=\"rotate(0, 178.373, 1008.23)\" x=\"178.373\" y=\"1008.23\">10</text>\n",
       "</g>\n",
       "<g clip-path=\"url(#clip9300)\">\n",
       "<text style=\"fill:#000000; fill-opacity:1; font-family:Arial,Helvetica Neue,Helvetica,sans-serif; font-size:48px; text-anchor:end;\" transform=\"rotate(0, 178.373, 767.027)\" x=\"178.373\" y=\"767.027\">12</text>\n",
       "</g>\n",
       "<g clip-path=\"url(#clip9300)\">\n",
       "<text style=\"fill:#000000; fill-opacity:1; font-family:Arial,Helvetica Neue,Helvetica,sans-serif; font-size:48px; text-anchor:end;\" transform=\"rotate(0, 178.373, 525.824)\" x=\"178.373\" y=\"525.824\">14</text>\n",
       "</g>\n",
       "<g clip-path=\"url(#clip9300)\">\n",
       "<text style=\"fill:#000000; fill-opacity:1; font-family:Arial,Helvetica Neue,Helvetica,sans-serif; font-size:48px; text-anchor:end;\" transform=\"rotate(0, 178.373, 284.621)\" x=\"178.373\" y=\"284.621\">16</text>\n",
       "</g>\n",
       "<g clip-path=\"url(#clip9300)\">\n",
       "<text style=\"fill:#000000; fill-opacity:1; font-family:Arial,Helvetica Neue,Helvetica,sans-serif; font-size:84px; text-anchor:middle;\" transform=\"rotate(0, 1277.56, 73.2)\" x=\"1277.56\" y=\"73.2\">White cell count by result group</text>\n",
       "</g>\n",
       "<g clip-path=\"url(#clip9300)\">\n",
       "<text style=\"fill:#000000; fill-opacity:1; font-family:Arial,Helvetica Neue,Helvetica,sans-serif; font-size:66px; text-anchor:middle;\" transform=\"rotate(0, 1277.56, 1559.48)\" x=\"1277.56\" y=\"1559.48\">Group</text>\n",
       "</g>\n",
       "<g clip-path=\"url(#clip9300)\">\n",
       "<text style=\"fill:#000000; fill-opacity:1; font-family:Arial,Helvetica Neue,Helvetica,sans-serif; font-size:66px; text-anchor:middle;\" transform=\"rotate(-90, 89.2861, 773.647)\" x=\"89.2861\" y=\"773.647\">WCC</text>\n",
       "</g>\n",
       "<circle clip-path=\"url(#clip9302)\" cx=\"2002.09\" cy=\"1388.71\" r=\"14\" fill=\"#009af9\" fill-rule=\"evenodd\" fill-opacity=\"1\" stroke=\"#000000\" stroke-opacity=\"1\" stroke-width=\"3.2\"/>\n",
       "<path clip-path=\"url(#clip9302)\" d=\"\n",
       "M553.042 1135.45 L263.233 1135.45 L842.851 1135.45 L553.042 1135.45 L553.042 912.339 L553.042 1135.45  Z\n",
       "  \" fill=\"#009af9\" fill-rule=\"evenodd\" fill-opacity=\"1\"/>\n",
       "<polyline clip-path=\"url(#clip9302)\" style=\"stroke:#000000; stroke-width:4; stroke-opacity:1; fill:none\" points=\"\n",
       "  553.042,1135.45 263.233,1135.45 842.851,1135.45 553.042,1135.45 553.042,912.339 553.042,1135.45 \n",
       "  \"/>\n",
       "<path clip-path=\"url(#clip9302)\" d=\"\n",
       "M263.233 912.339 L263.233 749.527 L842.851 749.527 L842.851 912.339 L263.233 912.339 L263.233 912.339  Z\n",
       "  \" fill=\"#009af9\" fill-rule=\"evenodd\" fill-opacity=\"1\"/>\n",
       "<polyline clip-path=\"url(#clip9302)\" style=\"stroke:#000000; stroke-width:4; stroke-opacity:1; fill:none\" points=\"\n",
       "  263.233,912.339 263.233,749.527 842.851,749.527 842.851,912.339 263.233,912.339 \n",
       "  \"/>\n",
       "<path clip-path=\"url(#clip9302)\" d=\"\n",
       "M263.233 526.414 L263.233 749.527 L842.851 749.527 L842.851 526.414 L263.233 526.414 L263.233 526.414  Z\n",
       "  \" fill=\"#009af9\" fill-rule=\"evenodd\" fill-opacity=\"1\"/>\n",
       "<polyline clip-path=\"url(#clip9302)\" style=\"stroke:#000000; stroke-width:4; stroke-opacity:1; fill:none\" points=\"\n",
       "  263.233,526.414 263.233,749.527 842.851,749.527 842.851,526.414 263.233,526.414 \n",
       "  \"/>\n",
       "<path clip-path=\"url(#clip9302)\" d=\"\n",
       "M553.042 206.82 L263.233 206.82 L842.851 206.82 L553.042 206.82 L553.042 526.414 L553.042 206.82  Z\n",
       "  \" fill=\"#009af9\" fill-rule=\"evenodd\" fill-opacity=\"1\"/>\n",
       "<polyline clip-path=\"url(#clip9302)\" style=\"stroke:#000000; stroke-width:4; stroke-opacity:1; fill:none\" points=\"\n",
       "  553.042,206.82 263.233,206.82 842.851,206.82 553.042,206.82 553.042,526.414 553.042,206.82 \n",
       "  \"/>\n",
       "<path clip-path=\"url(#clip9302)\" d=\"\n",
       "M1277.56 1171.63 L987.755 1171.63 L1567.37 1171.63 L1277.56 1171.63 L1277.56 954.549 L1277.56 1171.63  Z\n",
       "  \" fill=\"#009af9\" fill-rule=\"evenodd\" fill-opacity=\"1\"/>\n",
       "<polyline clip-path=\"url(#clip9302)\" style=\"stroke:#000000; stroke-width:4; stroke-opacity:1; fill:none\" points=\"\n",
       "  1277.56,1171.63 987.755,1171.63 1567.37,1171.63 1277.56,1171.63 1277.56,954.549 1277.56,1171.63 \n",
       "  \"/>\n",
       "<path clip-path=\"url(#clip9302)\" d=\"\n",
       "M987.755 954.549 L987.755 833.948 L1567.37 833.948 L1567.37 954.549 L987.755 954.549 L987.755 954.549  Z\n",
       "  \" fill=\"#009af9\" fill-rule=\"evenodd\" fill-opacity=\"1\"/>\n",
       "<polyline clip-path=\"url(#clip9302)\" style=\"stroke:#000000; stroke-width:4; stroke-opacity:1; fill:none\" points=\"\n",
       "  987.755,954.549 987.755,833.948 1567.37,833.948 1567.37,954.549 987.755,954.549 \n",
       "  \"/>\n",
       "<path clip-path=\"url(#clip9302)\" d=\"\n",
       "M987.755 637.97 L987.755 833.948 L1567.37 833.948 L1567.37 637.97 L987.755 637.97 L987.755 637.97  Z\n",
       "  \" fill=\"#009af9\" fill-rule=\"evenodd\" fill-opacity=\"1\"/>\n",
       "<polyline clip-path=\"url(#clip9302)\" style=\"stroke:#000000; stroke-width:4; stroke-opacity:1; fill:none\" points=\"\n",
       "  987.755,637.97 987.755,833.948 1567.37,833.948 1567.37,637.97 987.755,637.97 \n",
       "  \"/>\n",
       "<path clip-path=\"url(#clip9302)\" d=\"\n",
       "M1277.56 230.94 L987.755 230.94 L1567.37 230.94 L1277.56 230.94 L1277.56 637.97 L1277.56 230.94  Z\n",
       "  \" fill=\"#009af9\" fill-rule=\"evenodd\" fill-opacity=\"1\"/>\n",
       "<polyline clip-path=\"url(#clip9302)\" style=\"stroke:#000000; stroke-width:4; stroke-opacity:1; fill:none\" points=\"\n",
       "  1277.56,230.94 987.755,230.94 1567.37,230.94 1277.56,230.94 1277.56,637.97 1277.56,230.94 \n",
       "  \"/>\n",
       "<path clip-path=\"url(#clip9302)\" d=\"\n",
       "M2002.09 1147.51 L1712.28 1147.51 L2291.9 1147.51 L2002.09 1147.51 L2002.09 882.188 L2002.09 1147.51  Z\n",
       "  \" fill=\"#009af9\" fill-rule=\"evenodd\" fill-opacity=\"1\"/>\n",
       "<polyline clip-path=\"url(#clip9302)\" style=\"stroke:#000000; stroke-width:4; stroke-opacity:1; fill:none\" points=\"\n",
       "  2002.09,1147.51 1712.28,1147.51 2291.9,1147.51 2002.09,1147.51 2002.09,882.188 2002.09,1147.51 \n",
       "  \"/>\n",
       "<path clip-path=\"url(#clip9302)\" d=\"\n",
       "M1712.28 882.188 L1712.28 749.527 L2291.9 749.527 L2291.9 882.188 L1712.28 882.188 L1712.28 882.188  Z\n",
       "  \" fill=\"#009af9\" fill-rule=\"evenodd\" fill-opacity=\"1\"/>\n",
       "<polyline clip-path=\"url(#clip9302)\" style=\"stroke:#000000; stroke-width:4; stroke-opacity:1; fill:none\" points=\"\n",
       "  1712.28,882.188 1712.28,749.527 2291.9,749.527 2291.9,882.188 1712.28,882.188 \n",
       "  \"/>\n",
       "<path clip-path=\"url(#clip9302)\" d=\"\n",
       "M1712.28 592.745 L1712.28 749.527 L2291.9 749.527 L2291.9 592.745 L1712.28 592.745 L1712.28 592.745  Z\n",
       "  \" fill=\"#009af9\" fill-rule=\"evenodd\" fill-opacity=\"1\"/>\n",
       "<polyline clip-path=\"url(#clip9302)\" style=\"stroke:#000000; stroke-width:4; stroke-opacity:1; fill:none\" points=\"\n",
       "  1712.28,592.745 1712.28,749.527 2291.9,749.527 2291.9,592.745 1712.28,592.745 \n",
       "  \"/>\n",
       "<path clip-path=\"url(#clip9302)\" d=\"\n",
       "M2002.09 158.579 L1712.28 158.579 L2291.9 158.579 L2002.09 158.579 L2002.09 592.745 L2002.09 158.579  Z\n",
       "  \" fill=\"#009af9\" fill-rule=\"evenodd\" fill-opacity=\"1\"/>\n",
       "<polyline clip-path=\"url(#clip9302)\" style=\"stroke:#000000; stroke-width:4; stroke-opacity:1; fill:none\" points=\"\n",
       "  2002.09,158.579 1712.28,158.579 2291.9,158.579 2002.09,158.579 2002.09,592.745 2002.09,158.579 \n",
       "  \"/>\n",
       "<path clip-path=\"url(#clip9300)\" d=\"\n",
       "M1925.81 326.155 L2280.76 326.155 L2280.76 205.195 L1925.81 205.195  Z\n",
       "  \" fill=\"#ffffff\" fill-rule=\"evenodd\" fill-opacity=\"1\"/>\n",
       "<polyline clip-path=\"url(#clip9300)\" style=\"stroke:#000000; stroke-width:4; stroke-opacity:1; fill:none\" points=\"\n",
       "  1925.81,326.155 2280.76,326.155 2280.76,205.195 1925.81,205.195 1925.81,326.155 \n",
       "  \"/>\n",
       "<circle clip-path=\"url(#clip9300)\" cx=\"2033.81\" cy=\"265.675\" r=\"21\" fill=\"#009af9\" fill-rule=\"evenodd\" fill-opacity=\"1\" stroke=\"#000000\" stroke-opacity=\"1\" stroke-width=\"3.2\"/>\n",
       "<g clip-path=\"url(#clip9300)\">\n",
       "<text style=\"fill:#000000; fill-opacity:1; font-family:Arial,Helvetica Neue,Helvetica,sans-serif; font-size:48px; text-anchor:start;\" transform=\"rotate(0, 2117.81, 283.175)\" x=\"2117.81\" y=\"283.175\">WCC</text>\n",
       "</g>\n",
       "</svg>\n"
      ]
     },
     "execution_count": 28,
     "metadata": {},
     "output_type": "execute_result"
    }
   ],
   "source": [
    "@df data boxplot(:Result, :WCC, lab=\"WCC\", title=\"White cell count by result group\",\n",
    "    xlab=\"Group\", ylab=\"WCC\",)"
   ]
  },
  {
   "cell_type": "markdown",
   "metadata": {},
   "source": [
    "Finally, we check on the correlation between the numerical  variable using the correlation plot and corner plot"
   ]
  },
  {
   "cell_type": "code",
   "execution_count": 29,
   "metadata": {},
   "outputs": [],
   "source": [
    "#@df data corrplot([:Age :WCC :CRP], grid= false)"
   ]
  },
  {
   "cell_type": "code",
   "execution_count": 30,
   "metadata": {},
   "outputs": [],
   "source": [
    "#@df data cornerplot([:Age :WCC :CRP], grid= false, compact= true)"
   ]
  },
  {
   "cell_type": "markdown",
   "metadata": {},
   "source": [
    "# 7. Inferential statistics"
   ]
  },
  {
   "cell_type": "markdown",
   "metadata": {},
   "source": [
    "We will begin by using the t test to compare the mean of the numerical variable between two group"
   ]
  },
  {
   "cell_type": "code",
   "execution_count": 31,
   "metadata": {},
   "outputs": [
    {
     "name": "stderr",
     "output_type": "stream",
     "text": [
      "┌ Warning: `getindex(df::DataFrame, col_ind::ColumnIndex)` is deprecated, use `df[!, col_ind]` instead.\n",
      "│   caller = top-level scope at In[31]:1\n",
      "└ @ Core In[31]:1\n",
      "┌ Warning: `getindex(df::DataFrame, col_ind::ColumnIndex)` is deprecated, use `df[!, col_ind]` instead.\n",
      "│   caller = top-level scope at In[31]:1\n",
      "└ @ Core In[31]:1\n"
     ]
    },
    {
     "data": {
      "text/plain": [
       "Two sample t-test (equal variance)\n",
       "----------------------------------\n",
       "Population details:\n",
       "    parameter of interest:   Mean difference\n",
       "    value under h_0:         0\n",
       "    point estimate:          3.1352870333199547\n",
       "    95% confidence interval: (-4.1886, 10.4592)\n",
       "\n",
       "Test summary:\n",
       "    outcome with 95% confidence: fail to reject h_0\n",
       "    two-sided p-value:           0.3977\n",
       "\n",
       "Details:\n",
       "    number of observations:   [47,53]\n",
       "    t-statistic:              0.8495334965260241\n",
       "    degrees of freedom:       98\n",
       "    empirical standard error: 3.6905984827449476\n"
      ]
     },
     "execution_count": 31,
     "metadata": {},
     "output_type": "execute_result"
    }
   ],
   "source": [
    "# Difference in the age of the patients in group A and group B\n",
    "HypothesisTests.EqualVarianceTTest(dataA[:Age],dataB[:Age])"
   ]
  },
  {
   "cell_type": "code",
   "execution_count": 32,
   "metadata": {},
   "outputs": [
    {
     "name": "stderr",
     "output_type": "stream",
     "text": [
      "┌ Warning: `getindex(df::DataFrame, col_ind::ColumnIndex)` is deprecated, use `df[!, col_ind]` instead.\n",
      "│   caller = top-level scope at In[32]:1\n",
      "└ @ Core In[32]:1\n",
      "┌ Warning: `getindex(df::DataFrame, col_ind::ColumnIndex)` is deprecated, use `df[!, col_ind]` instead.\n",
      "│   caller = top-level scope at In[32]:1\n",
      "└ @ Core In[32]:1\n"
     ]
    },
    {
     "data": {
      "text/plain": [
       "0.8288481308696544"
      ]
     },
     "execution_count": 32,
     "metadata": {},
     "output_type": "execute_result"
    }
   ],
   "source": [
    "pvalue(EqualVarianceTTest(dataA[:WCC],dataB[:WCC]))"
   ]
  },
  {
   "cell_type": "code",
   "execution_count": 33,
   "metadata": {},
   "outputs": [
    {
     "name": "stderr",
     "output_type": "stream",
     "text": [
      "┌ Warning: `getindex(df::DataFrame, col_ind::ColumnIndex)` is deprecated, use `df[!, col_ind]` instead.\n",
      "│   caller = top-level scope at In[33]:1\n",
      "└ @ Core In[33]:1\n",
      "┌ Warning: `getindex(df::DataFrame, col_ind::ColumnIndex)` is deprecated, use `df[!, col_ind]` instead.\n",
      "│   caller = top-level scope at In[33]:1\n",
      "└ @ Core In[33]:1\n"
     ]
    },
    {
     "data": {
      "text/plain": [
       "Two sample t-test (unequal variance)\n",
       "------------------------------------\n",
       "Population details:\n",
       "    parameter of interest:   Mean difference\n",
       "    value under h_0:         0\n",
       "    point estimate:          4.319550381372942\n",
       "    95% confidence interval: (-7.2361, 15.8752)\n",
       "\n",
       "Test summary:\n",
       "    outcome with 95% confidence: fail to reject h_0\n",
       "    two-sided p-value:           0.4598\n",
       "\n",
       "Details:\n",
       "    number of observations:   [47,53]\n",
       "    t-statistic:              0.7421825221477182\n",
       "    degrees of freedom:       94.11991456041423\n",
       "    empirical standard error: 5.820064812188089\n"
      ]
     },
     "execution_count": 33,
     "metadata": {},
     "output_type": "execute_result"
    }
   ],
   "source": [
    "UnequalVarianceTTest(dataA[:CRP],dataB[:CRP])"
   ]
  },
  {
   "cell_type": "markdown",
   "metadata": {},
   "source": [
    "We can create variety of linear model using the GLM.fit() function"
   ]
  },
  {
   "cell_type": "code",
   "execution_count": 34,
   "metadata": {},
   "outputs": [
    {
     "data": {
      "text/plain": [
       "StatsModels.TableRegressionModel{LinearModel{GLM.LmResp{Array{Float64,1}},GLM.DensePredChol{Float64,LinearAlgebra.Cholesky{Float64,Array{Float64,2}}}},Array{Float64,2}}\n",
       "\n",
       "CRP ~ 1\n",
       "\n",
       "Coefficients:\n",
       "──────────────────────────────────────────────────────────────────────────\n",
       "             Estimate  Std. Error  t value  Pr(>|t|)  Lower 95%  Upper 95%\n",
       "──────────────────────────────────────────────────────────────────────────\n",
       "(Intercept)      39.2     2.88388  13.5928    <1e-23    33.4778    44.9222\n",
       "──────────────────────────────────────────────────────────────────────────"
      ]
     },
     "execution_count": 34,
     "metadata": {},
     "output_type": "execute_result"
    }
   ],
   "source": [
    "fit(LinearModel, @formula(CRP ~ 1), data)"
   ]
  },
  {
   "cell_type": "code",
   "execution_count": 35,
   "metadata": {},
   "outputs": [
    {
     "data": {
      "text/plain": [
       "StatsModels.TableRegressionModel{LinearModel{GLM.LmResp{Array{Float64,1}},GLM.DensePredChol{Float64,LinearAlgebra.Cholesky{Float64,Array{Float64,2}}}},Array{Float64,2}}\n",
       "\n",
       "CRP ~ 1 + Age\n",
       "\n",
       "Coefficients:\n",
       "─────────────────────────────────────────────────────────────────────────────\n",
       "               Estimate  Std. Error   t value  Pr(>|t|)  Lower 95%  Upper 95%\n",
       "─────────────────────────────────────────────────────────────────────────────\n",
       "(Intercept)  38.6479       7.94367   4.86524     <1e-5   22.8839    54.4118\n",
       "Age           0.0118227    0.158372  0.074651    0.9406  -0.302462   0.326108\n",
       "─────────────────────────────────────────────────────────────────────────────"
      ]
     },
     "execution_count": 35,
     "metadata": {},
     "output_type": "execute_result"
    }
   ],
   "source": [
    "fit(LinearModel, @formula(CRP ~ Age), data)"
   ]
  },
  {
   "cell_type": "code",
   "execution_count": 36,
   "metadata": {},
   "outputs": [
    {
     "data": {
      "text/plain": [
       "StatsModels.TableRegressionModel{LinearModel{GLM.LmResp{Array{Float64,1}},GLM.DensePredChol{Float64,LinearAlgebra.Cholesky{Float64,Array{Float64,2}}}},Array{Float64,2}}\n",
       "\n",
       "CRP ~ 1 + Age + WCC\n",
       "\n",
       "Coefficients:\n",
       "──────────────────────────────────────────────────────────────────────────────\n",
       "               Estimate  Std. Error    t value  Pr(>|t|)  Lower 95%  Upper 95%\n",
       "──────────────────────────────────────────────────────────────────────────────\n",
       "(Intercept)  29.0003      19.0168    1.52499      0.1305  -8.74271   66.7433\n",
       "Age           0.0155076    0.159068  0.0974904    0.9225  -0.300198   0.331213\n",
       "WCC           0.793792     1.42057   0.558785     0.5776  -2.02564    3.61322\n",
       "──────────────────────────────────────────────────────────────────────────────"
      ]
     },
     "execution_count": 36,
     "metadata": {},
     "output_type": "execute_result"
    }
   ],
   "source": [
    "fit(LinearModel, @formula(CRP ~ Age + WCC), data)"
   ]
  },
  {
   "cell_type": "markdown",
   "metadata": {},
   "source": [
    "We can conduct a chi squared test for the independence using the HypothesisTests.ChisqTest() function."
   ]
  },
  {
   "cell_type": "code",
   "execution_count": 37,
   "metadata": {},
   "outputs": [
    {
     "name": "stderr",
     "output_type": "stream",
     "text": [
      "┌ Warning: `by(d::AbstractDataFrame, cols::Any, f::Base.Callable; sort::Bool = false, skipmissing::Bool = false)` is deprecated, use `combine(f, groupby(d, cols, sort = sort, skipmissing = skipmissing))` instead.\n",
      "│   caller = top-level scope at In[37]:1\n",
      "└ @ Core In[37]:1\n"
     ]
    },
    {
     "data": {
      "text/html": [
       "<table class=\"data-frame\"><thead><tr><th></th><th>Result</th><th>N</th></tr><tr><th></th><th>String</th><th>Int64</th></tr></thead><tbody><p>3 rows × 2 columns</p><tr><th>1</th><td>Worse</td><td>13</td></tr><tr><th>2</th><td>Static</td><td>15</td></tr><tr><th>3</th><td>Improved</td><td>19</td></tr></tbody></table>"
      ],
      "text/latex": [
       "\\begin{tabular}{r|cc}\n",
       "\t& Result & N\\\\\n",
       "\t\\hline\n",
       "\t& String & Int64\\\\\n",
       "\t\\hline\n",
       "\t1 & Worse & 13 \\\\\n",
       "\t2 & Static & 15 \\\\\n",
       "\t3 & Improved & 19 \\\\\n",
       "\\end{tabular}\n"
      ],
      "text/plain": [
       "3×2 DataFrame\n",
       "│ Row │ Result   │ N     │\n",
       "│     │ \u001b[90mString\u001b[39m   │ \u001b[90mInt64\u001b[39m │\n",
       "├─────┼──────────┼───────┤\n",
       "│ 1   │ Worse    │ 13    │\n",
       "│ 2   │ Static   │ 15    │\n",
       "│ 3   │ Improved │ 19    │"
      ]
     },
     "execution_count": 37,
     "metadata": {},
     "output_type": "execute_result"
    }
   ],
   "source": [
    "by(dataA, :Result, df -> DataFrame(N =size(df,1)))"
   ]
  },
  {
   "cell_type": "code",
   "execution_count": 38,
   "metadata": {},
   "outputs": [
    {
     "name": "stderr",
     "output_type": "stream",
     "text": [
      "┌ Warning: `by(d::AbstractDataFrame, cols::Any, f::Base.Callable; sort::Bool = false, skipmissing::Bool = false)` is deprecated, use `combine(f, groupby(d, cols, sort = sort, skipmissing = skipmissing))` instead.\n",
      "│   caller = top-level scope at In[38]:1\n",
      "└ @ Core In[38]:1\n"
     ]
    },
    {
     "data": {
      "text/html": [
       "<table class=\"data-frame\"><thead><tr><th></th><th>Result</th><th>N</th></tr><tr><th></th><th>String</th><th>Int64</th></tr></thead><tbody><p>3 rows × 2 columns</p><tr><th>1</th><td>Worse</td><td>20</td></tr><tr><th>2</th><td>Static</td><td>13</td></tr><tr><th>3</th><td>Improved</td><td>20</td></tr></tbody></table>"
      ],
      "text/latex": [
       "\\begin{tabular}{r|cc}\n",
       "\t& Result & N\\\\\n",
       "\t\\hline\n",
       "\t& String & Int64\\\\\n",
       "\t\\hline\n",
       "\t1 & Worse & 20 \\\\\n",
       "\t2 & Static & 13 \\\\\n",
       "\t3 & Improved & 20 \\\\\n",
       "\\end{tabular}\n"
      ],
      "text/plain": [
       "3×2 DataFrame\n",
       "│ Row │ Result   │ N     │\n",
       "│     │ \u001b[90mString\u001b[39m   │ \u001b[90mInt64\u001b[39m │\n",
       "├─────┼──────────┼───────┤\n",
       "│ 1   │ Worse    │ 20    │\n",
       "│ 2   │ Static   │ 13    │\n",
       "│ 3   │ Improved │ 20    │"
      ]
     },
     "execution_count": 38,
     "metadata": {},
     "output_type": "execute_result"
    }
   ],
   "source": [
    "by(dataB, :Result, df -> DataFrame(N =size(df,1)))"
   ]
  },
  {
   "cell_type": "code",
   "execution_count": 39,
   "metadata": {},
   "outputs": [
    {
     "data": {
      "text/plain": [
       "2×3 Array{Int64,2}:\n",
       " 14  16  20\n",
       " 23  11  16"
      ]
     },
     "execution_count": 39,
     "metadata": {},
     "output_type": "execute_result"
    }
   ],
   "source": [
    "# enter the data in similar order here\n",
    "observed=reshape([14,23,16,11,20,16],(2,3))\n",
    "observed"
   ]
  },
  {
   "cell_type": "code",
   "execution_count": 40,
   "metadata": {},
   "outputs": [
    {
     "data": {
      "text/plain": [
       "Pearson's Chi-square Test\n",
       "-------------------------\n",
       "Population details:\n",
       "    parameter of interest:   Multinomial Probabilities\n",
       "    value under h_0:         [0.185, 0.185, 0.135, 0.135, 0.18, 0.18]\n",
       "    point estimate:          [0.14, 0.23, 0.16, 0.11, 0.2, 0.16]\n",
       "    95% confidence interval: [(0.05, 0.2388), (0.14, 0.3288), (0.07, 0.2588), (0.02, 0.2088), (0.11, 0.2988), (0.07, 0.2588)]\n",
       "\n",
       "Test summary:\n",
       "    outcome with 95% confidence: fail to reject h_0\n",
       "    one-sided p-value:           0.1687\n",
       "\n",
       "Details:\n",
       "    Sample size:        100\n",
       "    statistic:          3.559559559559558\n",
       "    degrees of freedom: 2\n",
       "    residuals:          [-1.0462287486943735, 1.0462287486943735, 0.6804138174397717, -0.6804138174397717, 0.47140452079103173, -0.47140452079103173]\n",
       "    std. residuals:     [-1.8641092980036003, 1.8641092980036003, 1.1262289639991432, -1.1262289639991432, 0.8333333333333334, -0.8333333333333334]\n"
      ]
     },
     "execution_count": 40,
     "metadata": {},
     "output_type": "execute_result"
    }
   ],
   "source": [
    "ChisqTest(observed)"
   ]
  },
  {
   "cell_type": "markdown",
   "metadata": {},
   "source": [
    "# 8.Exporting data as a csv file"
   ]
  },
  {
   "cell_type": "markdown",
   "metadata": {},
   "source": [
    "Finally we can export our dataframe object as a spread sheet file"
   ]
  },
  {
   "cell_type": "code",
   "execution_count": 41,
   "metadata": {},
   "outputs": [],
   "source": [
    "CSV.write(\"ProjectData_1_point_0.csv\", data);"
   ]
  },
  {
   "cell_type": "markdown",
   "metadata": {},
   "source": [
    "# Practice Quiz"
   ]
  },
  {
   "cell_type": "code",
   "execution_count": null,
   "metadata": {},
   "outputs": [],
   "source": []
  }
 ],
 "metadata": {
  "kernelspec": {
   "display_name": "Julia 1.4.2",
   "language": "julia",
   "name": "julia-1.4"
  },
  "language_info": {
   "file_extension": ".jl",
   "mimetype": "application/julia",
   "name": "julia",
   "version": "1.4.2"
  }
 },
 "nbformat": 4,
 "nbformat_minor": 2
}
